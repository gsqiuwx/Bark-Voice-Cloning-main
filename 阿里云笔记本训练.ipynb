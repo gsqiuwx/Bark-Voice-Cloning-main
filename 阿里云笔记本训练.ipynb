{
  "nbformat": 4,
  "nbformat_minor": 0,
  "metadata": {
    "colab": {
      "provenance": [],
      "machine_shape": "hm",
      "gpuType": "V100",
      "authorship_tag": "ABX9TyPqSUoMTvC8HtisAbd8ZAUd"
    },
    "kernelspec": {
      "name": "python3",
      "display_name": "Python 3"
    },
    "language_info": {
      "name": "python"
    },
    "accelerator": "GPU"
  },
  "cells": [
    {
      "cell_type": "markdown",
      "source": [
        "# 全新中文声音克隆 Voice Cloning for Chinese Speech"
      ],
      "metadata": {
        "id": "Uhhc4_stcdSf"
      }
    },
    {
      "cell_type": "markdown",
      "source": [
        "## 配置环境 Set up"
      ],
      "metadata": {
        "id": "qIFF53SWVDe-"
      }
    },
    {
      "cell_type": "code",
      "source": [
        "! nvidia-smi # 需要使用GPU运行"
      ],
      "metadata": {
        "id": "4RZJ1P69VKLU"
      },
      "execution_count": null,
      "outputs": []
    },
    {
      "cell_type": "code",
      "source": [
        "! pip install openai-whisper\n",
        "! pip install modelscope\n",
        "! pip install tts-autolabel -f https://modelscope.oss-cn-beijing.aliyuncs.com/releases/repo.html\n",
        "! pip install numpy==1.22.0"
      ],
      "metadata": {
        "id": "s2aAbOEPaVh6",
        "colab": {
          "base_uri": "https://localhost:8080/",
          "height": 1000
        },
        "outputId": "3b789a37-e172-4334-bb28-53883c94ee4d"
      },
      "execution_count": null,
      "outputs": [
        {
          "output_type": "stream",
          "name": "stdout",
          "text": [
            "Collecting openai-whisper\n",
            "  Downloading openai-whisper-20230314.tar.gz (792 kB)\n",
            "\u001b[?25l     \u001b[90m━━━━━━━━━━━━━━━━━━━━━━━━━━━━━━━━━━━━━━━━\u001b[0m \u001b[32m0.0/792.9 kB\u001b[0m \u001b[31m?\u001b[0m eta \u001b[36m-:--:--\u001b[0m\r\u001b[2K     \u001b[91m━━━━━━━━━━━━━━━━━━━━━━━━━━━━━━━━━━━━━\u001b[0m\u001b[91m╸\u001b[0m \u001b[32m788.5/792.9 kB\u001b[0m \u001b[31m24.2 MB/s\u001b[0m eta \u001b[36m0:00:01\u001b[0m\r\u001b[2K     \u001b[90m━━━━━━━━━━━━━━━━━━━━━━━━━━━━━━━━━━━━━━\u001b[0m \u001b[32m792.9/792.9 kB\u001b[0m \u001b[31m16.8 MB/s\u001b[0m eta \u001b[36m0:00:00\u001b[0m\n",
            "\u001b[?25h  Installing build dependencies ... \u001b[?25l\u001b[?25hdone\n",
            "  Getting requirements to build wheel ... \u001b[?25l\u001b[?25hdone\n",
            "  Preparing metadata (pyproject.toml) ... \u001b[?25l\u001b[?25hdone\n",
            "Requirement already satisfied: triton==2.0.0 in /usr/local/lib/python3.10/dist-packages (from openai-whisper) (2.0.0)\n",
            "Requirement already satisfied: numba in /usr/local/lib/python3.10/dist-packages (from openai-whisper) (0.56.4)\n",
            "Requirement already satisfied: numpy in /usr/local/lib/python3.10/dist-packages (from openai-whisper) (1.22.4)\n",
            "Requirement already satisfied: torch in /usr/local/lib/python3.10/dist-packages (from openai-whisper) (2.0.1+cu118)\n",
            "Requirement already satisfied: tqdm in /usr/local/lib/python3.10/dist-packages (from openai-whisper) (4.65.0)\n",
            "Requirement already satisfied: more-itertools in /usr/local/lib/python3.10/dist-packages (from openai-whisper) (9.1.0)\n",
            "Collecting tiktoken==0.3.1 (from openai-whisper)\n",
            "  Downloading tiktoken-0.3.1-cp310-cp310-manylinux_2_17_x86_64.manylinux2014_x86_64.whl (1.7 MB)\n",
            "\u001b[2K     \u001b[90m━━━━━━━━━━━━━━━━━━━━━━━━━━━━━━━━━━━━━━━━\u001b[0m \u001b[32m1.7/1.7 MB\u001b[0m \u001b[31m72.9 MB/s\u001b[0m eta \u001b[36m0:00:00\u001b[0m\n",
            "\u001b[?25hCollecting ffmpeg-python==0.2.0 (from openai-whisper)\n",
            "  Downloading ffmpeg_python-0.2.0-py3-none-any.whl (25 kB)\n",
            "Requirement already satisfied: future in /usr/local/lib/python3.10/dist-packages (from ffmpeg-python==0.2.0->openai-whisper) (0.18.3)\n",
            "Requirement already satisfied: regex>=2022.1.18 in /usr/local/lib/python3.10/dist-packages (from tiktoken==0.3.1->openai-whisper) (2022.10.31)\n",
            "Requirement already satisfied: requests>=2.26.0 in /usr/local/lib/python3.10/dist-packages (from tiktoken==0.3.1->openai-whisper) (2.27.1)\n",
            "Requirement already satisfied: cmake in /usr/local/lib/python3.10/dist-packages (from triton==2.0.0->openai-whisper) (3.25.2)\n",
            "Requirement already satisfied: filelock in /usr/local/lib/python3.10/dist-packages (from triton==2.0.0->openai-whisper) (3.12.2)\n",
            "Requirement already satisfied: lit in /usr/local/lib/python3.10/dist-packages (from triton==2.0.0->openai-whisper) (16.0.6)\n",
            "Requirement already satisfied: llvmlite<0.40,>=0.39.0dev0 in /usr/local/lib/python3.10/dist-packages (from numba->openai-whisper) (0.39.1)\n",
            "Requirement already satisfied: setuptools in /usr/local/lib/python3.10/dist-packages (from numba->openai-whisper) (67.7.2)\n",
            "Requirement already satisfied: typing-extensions in /usr/local/lib/python3.10/dist-packages (from torch->openai-whisper) (4.6.3)\n",
            "Requirement already satisfied: sympy in /usr/local/lib/python3.10/dist-packages (from torch->openai-whisper) (1.11.1)\n",
            "Requirement already satisfied: networkx in /usr/local/lib/python3.10/dist-packages (from torch->openai-whisper) (3.1)\n",
            "Requirement already satisfied: jinja2 in /usr/local/lib/python3.10/dist-packages (from torch->openai-whisper) (3.1.2)\n",
            "Requirement already satisfied: urllib3<1.27,>=1.21.1 in /usr/local/lib/python3.10/dist-packages (from requests>=2.26.0->tiktoken==0.3.1->openai-whisper) (1.26.16)\n",
            "Requirement already satisfied: certifi>=2017.4.17 in /usr/local/lib/python3.10/dist-packages (from requests>=2.26.0->tiktoken==0.3.1->openai-whisper) (2023.5.7)\n",
            "Requirement already satisfied: charset-normalizer~=2.0.0 in /usr/local/lib/python3.10/dist-packages (from requests>=2.26.0->tiktoken==0.3.1->openai-whisper) (2.0.12)\n",
            "Requirement already satisfied: idna<4,>=2.5 in /usr/local/lib/python3.10/dist-packages (from requests>=2.26.0->tiktoken==0.3.1->openai-whisper) (3.4)\n",
            "Requirement already satisfied: MarkupSafe>=2.0 in /usr/local/lib/python3.10/dist-packages (from jinja2->torch->openai-whisper) (2.1.3)\n",
            "Requirement already satisfied: mpmath>=0.19 in /usr/local/lib/python3.10/dist-packages (from sympy->torch->openai-whisper) (1.3.0)\n",
            "Building wheels for collected packages: openai-whisper\n",
            "  Building wheel for openai-whisper (pyproject.toml) ... \u001b[?25l\u001b[?25hdone\n",
            "  Created wheel for openai-whisper: filename=openai_whisper-20230314-py3-none-any.whl size=796910 sha256=3a5954aefc32f8bfa14b098084616134f488f366c8c2f135f1a53fca9d2e451e\n",
            "  Stored in directory: /root/.cache/pip/wheels/b2/13/5f/fe8245f6dc59df505879da4b2129932e342f02a80e6b87f27d\n",
            "Successfully built openai-whisper\n",
            "Installing collected packages: ffmpeg-python, tiktoken, openai-whisper\n",
            "Successfully installed ffmpeg-python-0.2.0 openai-whisper-20230314 tiktoken-0.3.1\n",
            "Collecting modelscope\n",
            "  Downloading modelscope-1.7.1-py3-none-any.whl (4.5 MB)\n",
            "\u001b[2K     \u001b[90m━━━━━━━━━━━━━━━━━━━━━━━━━━━━━━━━━━━━━━━━\u001b[0m \u001b[32m4.5/4.5 MB\u001b[0m \u001b[31m27.0 MB/s\u001b[0m eta \u001b[36m0:00:00\u001b[0m\n",
            "\u001b[?25hCollecting addict (from modelscope)\n",
            "  Downloading addict-2.4.0-py3-none-any.whl (3.8 kB)\n",
            "Requirement already satisfied: attrs in /usr/local/lib/python3.10/dist-packages (from modelscope) (23.1.0)\n",
            "Collecting datasets (from modelscope)\n",
            "  Downloading datasets-2.13.1-py3-none-any.whl (486 kB)\n",
            "\u001b[2K     \u001b[90m━━━━━━━━━━━━━━━━━━━━━━━━━━━━━━━━━━━━━━\u001b[0m \u001b[32m486.2/486.2 kB\u001b[0m \u001b[31m42.4 MB/s\u001b[0m eta \u001b[36m0:00:00\u001b[0m\n",
            "\u001b[?25hCollecting einops (from modelscope)\n",
            "  Downloading einops-0.6.1-py3-none-any.whl (42 kB)\n",
            "\u001b[2K     \u001b[90m━━━━━━━━━━━━━━━━━━━━━━━━━━━━━━━━━━━━━━━━\u001b[0m \u001b[32m42.2/42.2 kB\u001b[0m \u001b[31m4.5 MB/s\u001b[0m eta \u001b[36m0:00:00\u001b[0m\n",
            "\u001b[?25hRequirement already satisfied: filelock>=3.3.0 in /usr/local/lib/python3.10/dist-packages (from modelscope) (3.12.2)\n",
            "Requirement already satisfied: gast>=0.2.2 in /usr/local/lib/python3.10/dist-packages (from modelscope) (0.4.0)\n",
            "Collecting numpy<=1.22.0 (from modelscope)\n",
            "  Downloading numpy-1.22.0-cp310-cp310-manylinux_2_17_x86_64.manylinux2014_x86_64.whl (16.8 MB)\n",
            "\u001b[2K     \u001b[90m━━━━━━━━━━━━━━━━━━━━━━━━━━━━━━━━━━━━━━━━\u001b[0m \u001b[32m16.8/16.8 MB\u001b[0m \u001b[31m92.6 MB/s\u001b[0m eta \u001b[36m0:00:00\u001b[0m\n",
            "\u001b[?25hCollecting oss2 (from modelscope)\n",
            "  Downloading oss2-2.18.0.tar.gz (270 kB)\n",
            "\u001b[2K     \u001b[90m━━━━━━━━━━━━━━━━━━━━━━━━━━━━━━━━━━━━━━\u001b[0m \u001b[32m270.5/270.5 kB\u001b[0m \u001b[31m26.3 MB/s\u001b[0m eta \u001b[36m0:00:00\u001b[0m\n",
            "\u001b[?25h  Preparing metadata (setup.py) ... \u001b[?25l\u001b[?25hdone\n",
            "Collecting pandas<1.4.0 (from modelscope)\n",
            "  Downloading pandas-1.3.5-cp310-cp310-manylinux_2_17_x86_64.manylinux2014_x86_64.whl (11.5 MB)\n",
            "\u001b[2K     \u001b[90m━━━━━━━━━━━━━━━━━━━━━━━━━━━━━━━━━━━━━━━━\u001b[0m \u001b[32m11.5/11.5 MB\u001b[0m \u001b[31m93.1 MB/s\u001b[0m eta \u001b[36m0:00:00\u001b[0m\n",
            "\u001b[?25hRequirement already satisfied: Pillow>=6.2.0 in /usr/local/lib/python3.10/dist-packages (from modelscope) (8.4.0)\n",
            "Collecting pyarrow!=9.0.0,>=6.0.0 (from modelscope)\n",
            "  Downloading pyarrow-12.0.1-cp310-cp310-manylinux_2_17_x86_64.manylinux2014_x86_64.whl (38.9 MB)\n",
            "\u001b[2K     \u001b[90m━━━━━━━━━━━━━━━━━━━━━━━━━━━━━━━━━━━━━━━━\u001b[0m \u001b[32m38.9/38.9 MB\u001b[0m \u001b[31m38.2 MB/s\u001b[0m eta \u001b[36m0:00:00\u001b[0m\n",
            "\u001b[?25hRequirement already satisfied: python-dateutil>=2.1 in /usr/local/lib/python3.10/dist-packages (from modelscope) (2.8.2)\n",
            "Requirement already satisfied: pyyaml in /usr/local/lib/python3.10/dist-packages (from modelscope) (6.0)\n",
            "Requirement already satisfied: requests>=2.25 in /usr/local/lib/python3.10/dist-packages (from modelscope) (2.27.1)\n",
            "Requirement already satisfied: scipy in /usr/local/lib/python3.10/dist-packages (from modelscope) (1.10.1)\n",
            "Requirement already satisfied: setuptools in /usr/local/lib/python3.10/dist-packages (from modelscope) (67.7.2)\n",
            "Collecting simplejson>=3.3.0 (from modelscope)\n",
            "  Downloading simplejson-3.19.1-cp310-cp310-manylinux_2_5_x86_64.manylinux1_x86_64.manylinux_2_17_x86_64.manylinux2014_x86_64.whl (137 kB)\n",
            "\u001b[2K     \u001b[90m━━━━━━━━━━━━━━━━━━━━━━━━━━━━━━━━━━━━━━━\u001b[0m \u001b[32m137.9/137.9 kB\u001b[0m \u001b[31m7.8 MB/s\u001b[0m eta \u001b[36m0:00:00\u001b[0m\n",
            "\u001b[?25hRequirement already satisfied: sortedcontainers>=1.5.9 in /usr/local/lib/python3.10/dist-packages (from modelscope) (2.4.0)\n",
            "Requirement already satisfied: tqdm>=4.64.0 in /usr/local/lib/python3.10/dist-packages (from modelscope) (4.65.0)\n",
            "Requirement already satisfied: urllib3>=1.26 in /usr/local/lib/python3.10/dist-packages (from modelscope) (1.26.16)\n",
            "Collecting yapf (from modelscope)\n",
            "  Downloading yapf-0.40.1-py3-none-any.whl (250 kB)\n",
            "\u001b[2K     \u001b[90m━━━━━━━━━━━━━━━━━━━━━━━━━━━━━━━━━━━━━━\u001b[0m \u001b[32m250.3/250.3 kB\u001b[0m \u001b[31m22.0 MB/s\u001b[0m eta \u001b[36m0:00:00\u001b[0m\n",
            "\u001b[?25hRequirement already satisfied: pytz>=2017.3 in /usr/local/lib/python3.10/dist-packages (from pandas<1.4.0->modelscope) (2022.7.1)\n",
            "Requirement already satisfied: six>=1.5 in /usr/local/lib/python3.10/dist-packages (from python-dateutil>=2.1->modelscope) (1.16.0)\n",
            "Requirement already satisfied: certifi>=2017.4.17 in /usr/local/lib/python3.10/dist-packages (from requests>=2.25->modelscope) (2023.5.7)\n",
            "Requirement already satisfied: charset-normalizer~=2.0.0 in /usr/local/lib/python3.10/dist-packages (from requests>=2.25->modelscope) (2.0.12)\n",
            "Requirement already satisfied: idna<4,>=2.5 in /usr/local/lib/python3.10/dist-packages (from requests>=2.25->modelscope) (3.4)\n",
            "Collecting dill<0.3.7,>=0.3.0 (from datasets->modelscope)\n",
            "  Downloading dill-0.3.6-py3-none-any.whl (110 kB)\n",
            "\u001b[2K     \u001b[90m━━━━━━━━━━━━━━━━━━━━━━━━━━━━━━━━━━━━━━\u001b[0m \u001b[32m110.5/110.5 kB\u001b[0m \u001b[31m11.1 MB/s\u001b[0m eta \u001b[36m0:00:00\u001b[0m\n",
            "\u001b[?25hCollecting xxhash (from datasets->modelscope)\n",
            "  Downloading xxhash-3.2.0-cp310-cp310-manylinux_2_17_x86_64.manylinux2014_x86_64.whl (212 kB)\n",
            "\u001b[2K     \u001b[90m━━━━━━━━━━━━━━━━━━━━━━━━━━━━━━━━━━━━━━\u001b[0m \u001b[32m212.5/212.5 kB\u001b[0m \u001b[31m23.7 MB/s\u001b[0m eta \u001b[36m0:00:00\u001b[0m\n",
            "\u001b[?25hCollecting multiprocess (from datasets->modelscope)\n",
            "  Downloading multiprocess-0.70.14-py310-none-any.whl (134 kB)\n",
            "\u001b[2K     \u001b[90m━━━━━━━━━━━━━━━━━━━━━━━━━━━━━━━━━━━━━━\u001b[0m \u001b[32m134.3/134.3 kB\u001b[0m \u001b[31m12.9 MB/s\u001b[0m eta \u001b[36m0:00:00\u001b[0m\n",
            "\u001b[?25hRequirement already satisfied: fsspec[http]>=2021.11.1 in /usr/local/lib/python3.10/dist-packages (from datasets->modelscope) (2023.6.0)\n",
            "Requirement already satisfied: aiohttp in /usr/local/lib/python3.10/dist-packages (from datasets->modelscope) (3.8.4)\n",
            "Collecting huggingface-hub<1.0.0,>=0.11.0 (from datasets->modelscope)\n",
            "  Downloading huggingface_hub-0.16.4-py3-none-any.whl (268 kB)\n",
            "\u001b[2K     \u001b[90m━━━━━━━━━━━━━━━━━━━━━━━━━━━━━━━━━━━━━━\u001b[0m \u001b[32m268.8/268.8 kB\u001b[0m \u001b[31m24.6 MB/s\u001b[0m eta \u001b[36m0:00:00\u001b[0m\n",
            "\u001b[?25hRequirement already satisfied: packaging in /usr/local/lib/python3.10/dist-packages (from datasets->modelscope) (23.1)\n",
            "Collecting crcmod>=1.7 (from oss2->modelscope)\n",
            "  Downloading crcmod-1.7.tar.gz (89 kB)\n",
            "\u001b[2K     \u001b[90m━━━━━━━━━━━━━━━━━━━━━━━━━━━━━━━━━━━━━━━━\u001b[0m \u001b[32m89.7/89.7 kB\u001b[0m \u001b[31m7.8 MB/s\u001b[0m eta \u001b[36m0:00:00\u001b[0m\n",
            "\u001b[?25h  Preparing metadata (setup.py) ... \u001b[?25l\u001b[?25hdone\n",
            "Collecting pycryptodome>=3.4.7 (from oss2->modelscope)\n",
            "  Downloading pycryptodome-3.18.0-cp35-abi3-manylinux_2_17_x86_64.manylinux2014_x86_64.whl (2.1 MB)\n",
            "\u001b[2K     \u001b[90m━━━━━━━━━━━━━━━━━━━━━━━━━━━━━━━━━━━━━━━━\u001b[0m \u001b[32m2.1/2.1 MB\u001b[0m \u001b[31m89.9 MB/s\u001b[0m eta \u001b[36m0:00:00\u001b[0m\n",
            "\u001b[?25hCollecting aliyun-python-sdk-kms>=2.4.1 (from oss2->modelscope)\n",
            "  Downloading aliyun_python_sdk_kms-2.16.1-py2.py3-none-any.whl (70 kB)\n",
            "\u001b[2K     \u001b[90m━━━━━━━━━━━━━━━━━━━━━━━━━━━━━━━━━━━━━━━━\u001b[0m \u001b[32m70.8/70.8 kB\u001b[0m \u001b[31m8.4 MB/s\u001b[0m eta \u001b[36m0:00:00\u001b[0m\n",
            "\u001b[?25hCollecting aliyun-python-sdk-core>=2.13.12 (from oss2->modelscope)\n",
            "  Downloading aliyun-python-sdk-core-2.13.36.tar.gz (440 kB)\n",
            "\u001b[2K     \u001b[90m━━━━━━━━━━━━━━━━━━━━━━━━━━━━━━━━━━━━━━\u001b[0m \u001b[32m440.5/440.5 kB\u001b[0m \u001b[31m43.5 MB/s\u001b[0m eta \u001b[36m0:00:00\u001b[0m\n",
            "\u001b[?25h  Preparing metadata (setup.py) ... \u001b[?25l\u001b[?25hdone\n",
            "Collecting importlib-metadata>=6.6.0 (from yapf->modelscope)\n",
            "  Downloading importlib_metadata-6.8.0-py3-none-any.whl (22 kB)\n",
            "Requirement already satisfied: platformdirs>=3.5.1 in /usr/local/lib/python3.10/dist-packages (from yapf->modelscope) (3.7.0)\n",
            "Requirement already satisfied: tomli>=2.0.1 in /usr/local/lib/python3.10/dist-packages (from yapf->modelscope) (2.0.1)\n",
            "Collecting jmespath<1.0.0,>=0.9.3 (from aliyun-python-sdk-core>=2.13.12->oss2->modelscope)\n",
            "  Downloading jmespath-0.10.0-py2.py3-none-any.whl (24 kB)\n",
            "Collecting cryptography>=2.6.0 (from aliyun-python-sdk-core>=2.13.12->oss2->modelscope)\n",
            "  Downloading cryptography-41.0.1-cp37-abi3-manylinux_2_28_x86_64.whl (4.3 MB)\n",
            "\u001b[2K     \u001b[90m━━━━━━━━━━━━━━━━━━━━━━━━━━━━━━━━━━━━━━━━\u001b[0m \u001b[32m4.3/4.3 MB\u001b[0m \u001b[31m107.9 MB/s\u001b[0m eta \u001b[36m0:00:00\u001b[0m\n",
            "\u001b[?25hRequirement already satisfied: multidict<7.0,>=4.5 in /usr/local/lib/python3.10/dist-packages (from aiohttp->datasets->modelscope) (6.0.4)\n",
            "Requirement already satisfied: async-timeout<5.0,>=4.0.0a3 in /usr/local/lib/python3.10/dist-packages (from aiohttp->datasets->modelscope) (4.0.2)\n",
            "Requirement already satisfied: yarl<2.0,>=1.0 in /usr/local/lib/python3.10/dist-packages (from aiohttp->datasets->modelscope) (1.9.2)\n",
            "Requirement already satisfied: frozenlist>=1.1.1 in /usr/local/lib/python3.10/dist-packages (from aiohttp->datasets->modelscope) (1.3.3)\n",
            "Requirement already satisfied: aiosignal>=1.1.2 in /usr/local/lib/python3.10/dist-packages (from aiohttp->datasets->modelscope) (1.3.1)\n",
            "Requirement already satisfied: typing-extensions>=3.7.4.3 in /usr/local/lib/python3.10/dist-packages (from huggingface-hub<1.0.0,>=0.11.0->datasets->modelscope) (4.6.3)\n",
            "Requirement already satisfied: zipp>=0.5 in /usr/local/lib/python3.10/dist-packages (from importlib-metadata>=6.6.0->yapf->modelscope) (3.15.0)\n",
            "Requirement already satisfied: cffi>=1.12 in /usr/local/lib/python3.10/dist-packages (from cryptography>=2.6.0->aliyun-python-sdk-core>=2.13.12->oss2->modelscope) (1.15.1)\n",
            "Requirement already satisfied: pycparser in /usr/local/lib/python3.10/dist-packages (from cffi>=1.12->cryptography>=2.6.0->aliyun-python-sdk-core>=2.13.12->oss2->modelscope) (2.21)\n",
            "Building wheels for collected packages: oss2, aliyun-python-sdk-core, crcmod\n",
            "  Building wheel for oss2 (setup.py) ... \u001b[?25l\u001b[?25hdone\n",
            "  Created wheel for oss2: filename=oss2-2.18.0-py3-none-any.whl size=114757 sha256=dfcf13c4462e613d6e175122d8b3f3c22e56d9bb4174ea1dbca188c40562c9fa\n",
            "  Stored in directory: /root/.cache/pip/wheels/13/31/f3/bab557765fef362f76b425e7adb98832c0a5aac335f72b82b2\n",
            "  Building wheel for aliyun-python-sdk-core (setup.py) ... \u001b[?25l\u001b[?25hdone\n",
            "  Created wheel for aliyun-python-sdk-core: filename=aliyun_python_sdk_core-2.13.36-py3-none-any.whl size=533194 sha256=f5761212c20c56690ae402240b22a871b9932f281e3ce0b73a348ce27e27105b\n",
            "  Stored in directory: /root/.cache/pip/wheels/c0/f4/0e/87c534857132bd3bd2c4465c0b15b4db650cf6c15a876bda34\n",
            "  Building wheel for crcmod (setup.py) ... \u001b[?25l\u001b[?25hdone\n",
            "  Created wheel for crcmod: filename=crcmod-1.7-cp310-cp310-linux_x86_64.whl size=37109 sha256=874d4b0c90a1feefba7260849cfbf0ec40a1d1c58ff9f2cf430254ba92041325\n",
            "  Stored in directory: /root/.cache/pip/wheels/85/4c/07/72215c529bd59d67e3dac29711d7aba1b692f543c808ba9e86\n",
            "Successfully built oss2 aliyun-python-sdk-core crcmod\n",
            "Installing collected packages: crcmod, addict, xxhash, simplejson, pycryptodome, numpy, jmespath, importlib-metadata, einops, dill, yapf, pyarrow, pandas, multiprocess, huggingface-hub, cryptography, aliyun-python-sdk-core, datasets, aliyun-python-sdk-kms, oss2, modelscope\n",
            "  Attempting uninstall: numpy\n",
            "    Found existing installation: numpy 1.22.4\n",
            "    Uninstalling numpy-1.22.4:\n",
            "      Successfully uninstalled numpy-1.22.4\n",
            "  Attempting uninstall: pyarrow\n",
            "    Found existing installation: pyarrow 9.0.0\n",
            "    Uninstalling pyarrow-9.0.0:\n",
            "      Successfully uninstalled pyarrow-9.0.0\n",
            "  Attempting uninstall: pandas\n",
            "    Found existing installation: pandas 1.5.3\n",
            "    Uninstalling pandas-1.5.3:\n",
            "      Successfully uninstalled pandas-1.5.3\n",
            "\u001b[31mERROR: pip's dependency resolver does not currently take into account all the packages that are installed. This behaviour is the source of the following dependency conflicts.\n",
            "google-colab 1.0.0 requires pandas==1.5.3, but you have pandas 1.3.5 which is incompatible.\n",
            "librosa 0.10.0.post2 requires numpy!=1.22.0,!=1.22.1,!=1.22.2,>=1.20.3, but you have numpy 1.22.0 which is incompatible.\n",
            "pandas-gbq 0.17.9 requires pyarrow<10.0dev,>=3.0.0, but you have pyarrow 12.0.1 which is incompatible.\u001b[0m\u001b[31m\n",
            "\u001b[0mSuccessfully installed addict-2.4.0 aliyun-python-sdk-core-2.13.36 aliyun-python-sdk-kms-2.16.1 crcmod-1.7 cryptography-41.0.1 datasets-2.13.1 dill-0.3.6 einops-0.6.1 huggingface-hub-0.16.4 importlib-metadata-6.8.0 jmespath-0.10.0 modelscope-1.7.1 multiprocess-0.70.14 numpy-1.22.0 oss2-2.18.0 pandas-1.3.5 pyarrow-12.0.1 pycryptodome-3.18.0 simplejson-3.19.1 xxhash-3.2.0 yapf-0.40.1\n"
          ]
        },
        {
          "output_type": "display_data",
          "data": {
            "application/vnd.colab-display-data+json": {
              "pip_warning": {
                "packages": [
                  "numpy"
                ]
              }
            }
          },
          "metadata": {}
        },
        {
          "output_type": "stream",
          "name": "stdout",
          "text": [
            "Looking in links: https://modelscope.oss-cn-beijing.aliyuncs.com/releases/repo.html\n",
            "Collecting tts-autolabel\n",
            "  Downloading https://modelscope.oss-cn-beijing.aliyuncs.com/releases/dependencies/kantts/tts_autolabel-1.1.2-py3-none-any.whl (80 kB)\n",
            "\u001b[2K     \u001b[90m━━━━━━━━━━━━━━━━━━━━━━━━━━━━━━━━━━━━━━━\u001b[0m \u001b[32m80.3/80.3 kB\u001b[0m \u001b[31m184.1 kB/s\u001b[0m eta \u001b[36m0:00:00\u001b[0m\n",
            "\u001b[?25hCollecting onnxruntime (from tts-autolabel)\n",
            "  Downloading onnxruntime-1.15.1-cp310-cp310-manylinux_2_17_x86_64.manylinux2014_x86_64.whl (5.9 MB)\n",
            "\u001b[2K     \u001b[90m━━━━━━━━━━━━━━━━━━━━━━━━━━━━━━━━━━━━━━━━\u001b[0m \u001b[32m5.9/5.9 MB\u001b[0m \u001b[31m66.0 MB/s\u001b[0m eta \u001b[36m0:00:00\u001b[0m\n",
            "\u001b[?25hRequirement already satisfied: librosa in /usr/local/lib/python3.10/dist-packages (from tts-autolabel) (0.10.0.post2)\n",
            "Requirement already satisfied: numpy in /usr/local/lib/python3.10/dist-packages (from tts-autolabel) (1.22.0)\n",
            "Requirement already satisfied: scipy in /usr/local/lib/python3.10/dist-packages (from tts-autolabel) (1.10.1)\n",
            "Collecting typeguard (from tts-autolabel)\n",
            "  Downloading typeguard-4.0.0-py3-none-any.whl (33 kB)\n",
            "Collecting kaldi-native-fbank (from tts-autolabel)\n",
            "  Downloading kaldi_native_fbank-1.17-cp310-cp310-manylinux_2_17_x86_64.manylinux2014_x86_64.whl (189 kB)\n",
            "\u001b[2K     \u001b[90m━━━━━━━━━━━━━━━━━━━━━━━━━━━━━━━━━━━━━━\u001b[0m \u001b[32m189.5/189.5 kB\u001b[0m \u001b[31m21.4 MB/s\u001b[0m eta \u001b[36m0:00:00\u001b[0m\n",
            "\u001b[?25hCollecting pypinyin (from tts-autolabel)\n",
            "  Downloading pypinyin-0.49.0-py2.py3-none-any.whl (1.4 MB)\n",
            "\u001b[2K     \u001b[90m━━━━━━━━━━━━━━━━━━━━━━━━━━━━━━━━━━━━━━━━\u001b[0m \u001b[32m1.4/1.4 MB\u001b[0m \u001b[31m74.1 MB/s\u001b[0m eta \u001b[36m0:00:00\u001b[0m\n",
            "\u001b[?25hCollecting g2p-en (from tts-autolabel)\n",
            "  Downloading g2p_en-2.1.0-py3-none-any.whl (3.1 MB)\n",
            "\u001b[2K     \u001b[90m━━━━━━━━━━━━━━━━━━━━━━━━━━━━━━━━━━━━━━━━\u001b[0m \u001b[32m3.1/3.1 MB\u001b[0m \u001b[31m96.2 MB/s\u001b[0m eta \u001b[36m0:00:00\u001b[0m\n",
            "\u001b[?25hCollecting nls-pykaldi (from tts-autolabel)\n",
            "  Downloading https://modelscope.oss-cn-beijing.aliyuncs.com/releases/dependencies/pykaldi/linux/nls_pykaldi-1.0.0-cp310-cp310-linux_x86_64.whl (21.7 MB)\n",
            "\u001b[2K     \u001b[90m━━━━━━━━━━━━━━━━━━━━━━━━━━━━━━━━━━━━━━━━\u001b[0m \u001b[32m21.7/21.7 MB\u001b[0m \u001b[31m13.1 MB/s\u001b[0m eta \u001b[36m0:00:00\u001b[0m\n",
            "\u001b[?25hCollecting ttsfrd>=0.1.2 (from tts-autolabel)\n",
            "  Downloading https://modelscope.oss-cn-beijing.aliyuncs.com/releases/dependencies/ttsfrd/linux/ttsfrd-0.2.1-cp310-cp310-linux_x86_64.whl (53.4 MB)\n",
            "\u001b[2K     \u001b[90m━━━━━━━━━━━━━━━━━━━━━━━━━━━━━━━━━━━━━━━━\u001b[0m \u001b[32m53.4/53.4 MB\u001b[0m \u001b[31m9.1 MB/s\u001b[0m eta \u001b[36m0:00:00\u001b[0m\n",
            "\u001b[?25hRequirement already satisfied: nltk>=3.2.4 in /usr/local/lib/python3.10/dist-packages (from g2p-en->tts-autolabel) (3.8.1)\n",
            "Requirement already satisfied: inflect>=0.3.1 in /usr/local/lib/python3.10/dist-packages (from g2p-en->tts-autolabel) (6.0.4)\n",
            "Collecting distance>=0.1.3 (from g2p-en->tts-autolabel)\n",
            "  Downloading Distance-0.1.3.tar.gz (180 kB)\n",
            "\u001b[2K     \u001b[90m━━━━━━━━━━━━━━━━━━━━━━━━━━━━━━━━━━━━━━\u001b[0m \u001b[32m180.3/180.3 kB\u001b[0m \u001b[31m21.4 MB/s\u001b[0m eta \u001b[36m0:00:00\u001b[0m\n",
            "\u001b[?25h  Preparing metadata (setup.py) ... \u001b[?25l\u001b[?25hdone\n",
            "Requirement already satisfied: audioread>=2.1.9 in /usr/local/lib/python3.10/dist-packages (from librosa->tts-autolabel) (3.0.0)\n",
            "Collecting numpy (from tts-autolabel)\n",
            "  Downloading numpy-1.25.0-cp310-cp310-manylinux_2_17_x86_64.manylinux2014_x86_64.whl (17.6 MB)\n",
            "\u001b[2K     \u001b[90m━━━━━━━━━━━━━━━━━━━━━━━━━━━━━━━━━━━━━━━━\u001b[0m \u001b[32m17.6/17.6 MB\u001b[0m \u001b[31m79.4 MB/s\u001b[0m eta \u001b[36m0:00:00\u001b[0m\n",
            "\u001b[?25hRequirement already satisfied: scikit-learn>=0.20.0 in /usr/local/lib/python3.10/dist-packages (from librosa->tts-autolabel) (1.2.2)\n",
            "Requirement already satisfied: joblib>=0.14 in /usr/local/lib/python3.10/dist-packages (from librosa->tts-autolabel) (1.2.0)\n",
            "Requirement already satisfied: decorator>=4.3.0 in /usr/local/lib/python3.10/dist-packages (from librosa->tts-autolabel) (4.4.2)\n",
            "Requirement already satisfied: numba>=0.51.0 in /usr/local/lib/python3.10/dist-packages (from librosa->tts-autolabel) (0.56.4)\n",
            "Requirement already satisfied: soundfile>=0.12.1 in /usr/local/lib/python3.10/dist-packages (from librosa->tts-autolabel) (0.12.1)\n",
            "Requirement already satisfied: pooch<1.7,>=1.0 in /usr/local/lib/python3.10/dist-packages (from librosa->tts-autolabel) (1.6.0)\n",
            "Requirement already satisfied: soxr>=0.3.2 in /usr/local/lib/python3.10/dist-packages (from librosa->tts-autolabel) (0.3.5)\n",
            "Requirement already satisfied: typing-extensions>=4.1.1 in /usr/local/lib/python3.10/dist-packages (from librosa->tts-autolabel) (4.6.3)\n",
            "Requirement already satisfied: lazy-loader>=0.1 in /usr/local/lib/python3.10/dist-packages (from librosa->tts-autolabel) (0.2)\n",
            "Requirement already satisfied: msgpack>=1.0 in /usr/local/lib/python3.10/dist-packages (from librosa->tts-autolabel) (1.0.5)\n",
            "Collecting coloredlogs (from onnxruntime->tts-autolabel)\n",
            "  Downloading coloredlogs-15.0.1-py2.py3-none-any.whl (46 kB)\n",
            "\u001b[2K     \u001b[90m━━━━━━━━━━━━━━━━━━━━━━━━━━━━━━━━━━━━━━━━\u001b[0m \u001b[32m46.0/46.0 kB\u001b[0m \u001b[31m5.2 MB/s\u001b[0m eta \u001b[36m0:00:00\u001b[0m\n",
            "\u001b[?25hRequirement already satisfied: flatbuffers in /usr/local/lib/python3.10/dist-packages (from onnxruntime->tts-autolabel) (23.5.26)\n",
            "Requirement already satisfied: packaging in /usr/local/lib/python3.10/dist-packages (from onnxruntime->tts-autolabel) (23.1)\n",
            "Requirement already satisfied: protobuf in /usr/local/lib/python3.10/dist-packages (from onnxruntime->tts-autolabel) (3.20.3)\n",
            "Requirement already satisfied: sympy in /usr/local/lib/python3.10/dist-packages (from onnxruntime->tts-autolabel) (1.11.1)\n",
            "Requirement already satisfied: pydantic>=1.9.1 in /usr/local/lib/python3.10/dist-packages (from inflect>=0.3.1->g2p-en->tts-autolabel) (1.10.9)\n",
            "Requirement already satisfied: click in /usr/local/lib/python3.10/dist-packages (from nltk>=3.2.4->g2p-en->tts-autolabel) (8.1.3)\n",
            "Requirement already satisfied: regex>=2021.8.3 in /usr/local/lib/python3.10/dist-packages (from nltk>=3.2.4->g2p-en->tts-autolabel) (2022.10.31)\n",
            "Requirement already satisfied: tqdm in /usr/local/lib/python3.10/dist-packages (from nltk>=3.2.4->g2p-en->tts-autolabel) (4.65.0)\n",
            "Requirement already satisfied: llvmlite<0.40,>=0.39.0dev0 in /usr/local/lib/python3.10/dist-packages (from numba>=0.51.0->librosa->tts-autolabel) (0.39.1)\n",
            "Collecting numpy (from tts-autolabel)\n",
            "  Downloading numpy-1.23.5-cp310-cp310-manylinux_2_17_x86_64.manylinux2014_x86_64.whl (17.1 MB)\n",
            "\u001b[2K     \u001b[90m━━━━━━━━━━━━━━━━━━━━━━━━━━━━━━━━━━━━━━━━\u001b[0m \u001b[32m17.1/17.1 MB\u001b[0m \u001b[31m88.7 MB/s\u001b[0m eta \u001b[36m0:00:00\u001b[0m\n",
            "\u001b[?25hRequirement already satisfied: setuptools in /usr/local/lib/python3.10/dist-packages (from numba>=0.51.0->librosa->tts-autolabel) (67.7.2)\n",
            "Requirement already satisfied: appdirs>=1.3.0 in /usr/local/lib/python3.10/dist-packages (from pooch<1.7,>=1.0->librosa->tts-autolabel) (1.4.4)\n",
            "Requirement already satisfied: requests>=2.19.0 in /usr/local/lib/python3.10/dist-packages (from pooch<1.7,>=1.0->librosa->tts-autolabel) (2.27.1)\n",
            "Requirement already satisfied: threadpoolctl>=2.0.0 in /usr/local/lib/python3.10/dist-packages (from scikit-learn>=0.20.0->librosa->tts-autolabel) (3.1.0)\n",
            "Requirement already satisfied: cffi>=1.0 in /usr/local/lib/python3.10/dist-packages (from soundfile>=0.12.1->librosa->tts-autolabel) (1.15.1)\n",
            "Collecting humanfriendly>=9.1 (from coloredlogs->onnxruntime->tts-autolabel)\n",
            "  Downloading humanfriendly-10.0-py2.py3-none-any.whl (86 kB)\n",
            "\u001b[2K     \u001b[90m━━━━━━━━━━━━━━━━━━━━━━━━━━━━━━━━━━━━━━━━\u001b[0m \u001b[32m86.8/86.8 kB\u001b[0m \u001b[31m10.8 MB/s\u001b[0m eta \u001b[36m0:00:00\u001b[0m\n",
            "\u001b[?25hRequirement already satisfied: mpmath>=0.19 in /usr/local/lib/python3.10/dist-packages (from sympy->onnxruntime->tts-autolabel) (1.3.0)\n",
            "Requirement already satisfied: pycparser in /usr/local/lib/python3.10/dist-packages (from cffi>=1.0->soundfile>=0.12.1->librosa->tts-autolabel) (2.21)\n",
            "Requirement already satisfied: urllib3<1.27,>=1.21.1 in /usr/local/lib/python3.10/dist-packages (from requests>=2.19.0->pooch<1.7,>=1.0->librosa->tts-autolabel) (1.26.16)\n",
            "Requirement already satisfied: certifi>=2017.4.17 in /usr/local/lib/python3.10/dist-packages (from requests>=2.19.0->pooch<1.7,>=1.0->librosa->tts-autolabel) (2023.5.7)\n",
            "Requirement already satisfied: charset-normalizer~=2.0.0 in /usr/local/lib/python3.10/dist-packages (from requests>=2.19.0->pooch<1.7,>=1.0->librosa->tts-autolabel) (2.0.12)\n",
            "Requirement already satisfied: idna<4,>=2.5 in /usr/local/lib/python3.10/dist-packages (from requests>=2.19.0->pooch<1.7,>=1.0->librosa->tts-autolabel) (3.4)\n",
            "Building wheels for collected packages: distance\n",
            "  Building wheel for distance (setup.py) ... \u001b[?25l\u001b[?25hdone\n",
            "  Created wheel for distance: filename=Distance-0.1.3-py3-none-any.whl size=16258 sha256=408ce83174275459d2ff48af066baa19cc54ed789aae6ba66a6a00c3ad58fdda\n",
            "  Stored in directory: /root/.cache/pip/wheels/e8/bb/de/f71bf63559ea9a921059a5405806f7ff6ed612a9231c4a9309\n",
            "Successfully built distance\n",
            "Installing collected packages: distance, typeguard, ttsfrd, pypinyin, numpy, kaldi-native-fbank, humanfriendly, nls-pykaldi, coloredlogs, onnxruntime, g2p-en, tts-autolabel\n",
            "  Attempting uninstall: numpy\n",
            "    Found existing installation: numpy 1.22.0\n",
            "    Uninstalling numpy-1.22.0:\n",
            "      Successfully uninstalled numpy-1.22.0\n",
            "\u001b[31mERROR: pip's dependency resolver does not currently take into account all the packages that are installed. This behaviour is the source of the following dependency conflicts.\n",
            "modelscope 1.7.1 requires numpy<=1.22.0, but you have numpy 1.23.5 which is incompatible.\n",
            "pandas-gbq 0.17.9 requires pyarrow<10.0dev,>=3.0.0, but you have pyarrow 12.0.1 which is incompatible.\u001b[0m\u001b[31m\n",
            "\u001b[0mSuccessfully installed coloredlogs-15.0.1 distance-0.1.3 g2p-en-2.1.0 humanfriendly-10.0 kaldi-native-fbank-1.17 nls-pykaldi-1.0.0 numpy-1.23.5 onnxruntime-1.15.1 pypinyin-0.49.0 tts-autolabel-1.1.2 ttsfrd-0.2.1 typeguard-4.0.0\n"
          ]
        },
        {
          "output_type": "display_data",
          "data": {
            "application/vnd.colab-display-data+json": {
              "pip_warning": {
                "packages": [
                  "numpy"
                ]
              }
            }
          },
          "metadata": {}
        },
        {
          "output_type": "stream",
          "name": "stdout",
          "text": [
            "Collecting typeguard==2.3.1\n",
            "  Downloading typeguard-2.3.1-py3-none-any.whl (10 kB)\n",
            "Installing collected packages: typeguard\n",
            "  Attempting uninstall: typeguard\n",
            "    Found existing installation: typeguard 4.0.0\n",
            "    Uninstalling typeguard-4.0.0:\n",
            "      Successfully uninstalled typeguard-4.0.0\n",
            "Successfully installed typeguard-2.3.1\n",
            "Collecting sox\n",
            "  Downloading sox-1.4.1-py2.py3-none-any.whl (39 kB)\n",
            "Requirement already satisfied: numpy>=1.9.0 in /usr/local/lib/python3.10/dist-packages (from sox) (1.23.5)\n",
            "Installing collected packages: sox\n",
            "Successfully installed sox-1.4.1\n",
            "Collecting bitstring\n",
            "  Downloading bitstring-4.0.2-py3-none-any.whl (46 kB)\n",
            "\u001b[2K     \u001b[90m━━━━━━━━━━━━━━━━━━━━━━━━━━━━━━━━━━━━━━━━\u001b[0m \u001b[32m46.0/46.0 kB\u001b[0m \u001b[31m3.8 MB/s\u001b[0m eta \u001b[36m0:00:00\u001b[0m\n",
            "\u001b[?25hInstalling collected packages: bitstring\n",
            "Successfully installed bitstring-4.0.2\n",
            "Looking in links: https://modelscope.oss-cn-beijing.aliyuncs.com/releases/repo.html\n",
            "Collecting kantts\n",
            "  Downloading https://modelscope.oss-cn-beijing.aliyuncs.com/releases/dependencies/kantts/kantts-1.0.1-py3-none-any.whl (147 kB)\n",
            "\u001b[2K     \u001b[90m━━━━━━━━━━━━━━━━━━━━━━━━━━━━━━━━━━━━━\u001b[0m \u001b[32m147.2/147.2 kB\u001b[0m \u001b[31m260.1 kB/s\u001b[0m eta \u001b[36m0:00:00\u001b[0m\n",
            "\u001b[?25hRequirement already satisfied: librosa>=0.9.2 in /usr/local/lib/python3.10/dist-packages (from kantts) (0.10.0.post2)\n",
            "Requirement already satisfied: matplotlib in /usr/local/lib/python3.10/dist-packages (from kantts) (3.7.1)\n",
            "Requirement already satisfied: numpy in /usr/local/lib/python3.10/dist-packages (from kantts) (1.23.5)\n",
            "Requirement already satisfied: numba in /usr/local/lib/python3.10/dist-packages (from kantts) (0.56.4)\n",
            "Collecting unidecode (from kantts)\n",
            "  Downloading Unidecode-1.3.6-py3-none-any.whl (235 kB)\n",
            "\u001b[2K     \u001b[90m━━━━━━━━━━━━━━━━━━━━━━━━━━━━━━━━━━━━━━━\u001b[0m \u001b[32m235.9/235.9 kB\u001b[0m \u001b[31m7.8 MB/s\u001b[0m eta \u001b[36m0:00:00\u001b[0m\n",
            "\u001b[?25hRequirement already satisfied: inflect in /usr/local/lib/python3.10/dist-packages (from kantts) (6.0.4)\n",
            "Requirement already satisfied: pywavelets>=1.3.0 in /usr/local/lib/python3.10/dist-packages (from kantts) (1.4.1)\n",
            "Requirement already satisfied: scikit-learn>=1.0.2 in /usr/local/lib/python3.10/dist-packages (from kantts) (1.2.2)\n",
            "Requirement already satisfied: scipy>=1.7.3 in /usr/local/lib/python3.10/dist-packages (from kantts) (1.10.1)\n",
            "Requirement already satisfied: tqdm in /usr/local/lib/python3.10/dist-packages (from kantts) (4.65.0)\n",
            "Collecting pysptk (from kantts)\n",
            "  Downloading pysptk-0.2.0.tar.gz (276 kB)\n",
            "\u001b[2K     \u001b[90m━━━━━━━━━━━━━━━━━━━━━━━━━━━━━━━━━━━━━━\u001b[0m \u001b[32m276.8/276.8 kB\u001b[0m \u001b[31m19.6 MB/s\u001b[0m eta \u001b[36m0:00:00\u001b[0m\n",
            "\u001b[?25h  Installing build dependencies ... \u001b[?25l\u001b[?25hdone\n",
            "  Getting requirements to build wheel ... \u001b[?25l\u001b[?25hdone\n",
            "  Preparing metadata (pyproject.toml) ... \u001b[?25l\u001b[?25hdone\n",
            "Requirement already satisfied: sox in /usr/local/lib/python3.10/dist-packages (from kantts) (1.4.1)\n",
            "Requirement already satisfied: ttsfrd in /usr/local/lib/python3.10/dist-packages (from kantts) (0.2.1)\n",
            "Requirement already satisfied: audioread>=2.1.9 in /usr/local/lib/python3.10/dist-packages (from librosa>=0.9.2->kantts) (3.0.0)\n",
            "Requirement already satisfied: joblib>=0.14 in /usr/local/lib/python3.10/dist-packages (from librosa>=0.9.2->kantts) (1.2.0)\n",
            "Requirement already satisfied: decorator>=4.3.0 in /usr/local/lib/python3.10/dist-packages (from librosa>=0.9.2->kantts) (4.4.2)\n",
            "Requirement already satisfied: soundfile>=0.12.1 in /usr/local/lib/python3.10/dist-packages (from librosa>=0.9.2->kantts) (0.12.1)\n",
            "Requirement already satisfied: pooch<1.7,>=1.0 in /usr/local/lib/python3.10/dist-packages (from librosa>=0.9.2->kantts) (1.6.0)\n",
            "Requirement already satisfied: soxr>=0.3.2 in /usr/local/lib/python3.10/dist-packages (from librosa>=0.9.2->kantts) (0.3.5)\n",
            "Requirement already satisfied: typing-extensions>=4.1.1 in /usr/local/lib/python3.10/dist-packages (from librosa>=0.9.2->kantts) (4.6.3)\n",
            "Requirement already satisfied: lazy-loader>=0.1 in /usr/local/lib/python3.10/dist-packages (from librosa>=0.9.2->kantts) (0.2)\n",
            "Requirement already satisfied: msgpack>=1.0 in /usr/local/lib/python3.10/dist-packages (from librosa>=0.9.2->kantts) (1.0.5)\n",
            "Requirement already satisfied: llvmlite<0.40,>=0.39.0dev0 in /usr/local/lib/python3.10/dist-packages (from numba->kantts) (0.39.1)\n",
            "Requirement already satisfied: setuptools in /usr/local/lib/python3.10/dist-packages (from numba->kantts) (67.7.2)\n",
            "Requirement already satisfied: threadpoolctl>=2.0.0 in /usr/local/lib/python3.10/dist-packages (from scikit-learn>=1.0.2->kantts) (3.1.0)\n",
            "Requirement already satisfied: pydantic>=1.9.1 in /usr/local/lib/python3.10/dist-packages (from inflect->kantts) (1.10.9)\n",
            "Requirement already satisfied: contourpy>=1.0.1 in /usr/local/lib/python3.10/dist-packages (from matplotlib->kantts) (1.1.0)\n",
            "Requirement already satisfied: cycler>=0.10 in /usr/local/lib/python3.10/dist-packages (from matplotlib->kantts) (0.11.0)\n",
            "Requirement already satisfied: fonttools>=4.22.0 in /usr/local/lib/python3.10/dist-packages (from matplotlib->kantts) (4.40.0)\n",
            "Requirement already satisfied: kiwisolver>=1.0.1 in /usr/local/lib/python3.10/dist-packages (from matplotlib->kantts) (1.4.4)\n",
            "Requirement already satisfied: packaging>=20.0 in /usr/local/lib/python3.10/dist-packages (from matplotlib->kantts) (23.1)\n",
            "Requirement already satisfied: pillow>=6.2.0 in /usr/local/lib/python3.10/dist-packages (from matplotlib->kantts) (8.4.0)\n",
            "Requirement already satisfied: pyparsing>=2.3.1 in /usr/local/lib/python3.10/dist-packages (from matplotlib->kantts) (3.1.0)\n",
            "Requirement already satisfied: python-dateutil>=2.7 in /usr/local/lib/python3.10/dist-packages (from matplotlib->kantts) (2.8.2)\n",
            "Requirement already satisfied: cython>=0.28.0 in /usr/local/lib/python3.10/dist-packages (from pysptk->kantts) (0.29.35)\n",
            "Requirement already satisfied: appdirs>=1.3.0 in /usr/local/lib/python3.10/dist-packages (from pooch<1.7,>=1.0->librosa>=0.9.2->kantts) (1.4.4)\n",
            "Requirement already satisfied: requests>=2.19.0 in /usr/local/lib/python3.10/dist-packages (from pooch<1.7,>=1.0->librosa>=0.9.2->kantts) (2.27.1)\n",
            "Requirement already satisfied: six>=1.5 in /usr/local/lib/python3.10/dist-packages (from python-dateutil>=2.7->matplotlib->kantts) (1.16.0)\n",
            "Requirement already satisfied: cffi>=1.0 in /usr/local/lib/python3.10/dist-packages (from soundfile>=0.12.1->librosa>=0.9.2->kantts) (1.15.1)\n",
            "Requirement already satisfied: pycparser in /usr/local/lib/python3.10/dist-packages (from cffi>=1.0->soundfile>=0.12.1->librosa>=0.9.2->kantts) (2.21)\n",
            "Requirement already satisfied: urllib3<1.27,>=1.21.1 in /usr/local/lib/python3.10/dist-packages (from requests>=2.19.0->pooch<1.7,>=1.0->librosa>=0.9.2->kantts) (1.26.16)\n",
            "Requirement already satisfied: certifi>=2017.4.17 in /usr/local/lib/python3.10/dist-packages (from requests>=2.19.0->pooch<1.7,>=1.0->librosa>=0.9.2->kantts) (2023.5.7)\n",
            "Requirement already satisfied: charset-normalizer~=2.0.0 in /usr/local/lib/python3.10/dist-packages (from requests>=2.19.0->pooch<1.7,>=1.0->librosa>=0.9.2->kantts) (2.0.12)\n",
            "Requirement already satisfied: idna<4,>=2.5 in /usr/local/lib/python3.10/dist-packages (from requests>=2.19.0->pooch<1.7,>=1.0->librosa>=0.9.2->kantts) (3.4)\n",
            "Building wheels for collected packages: pysptk\n",
            "  Building wheel for pysptk (pyproject.toml) ... \u001b[?25l\u001b[?25hdone\n",
            "  Created wheel for pysptk: filename=pysptk-0.2.0-cp310-cp310-linux_x86_64.whl size=1282788 sha256=1d12e920d79d0a80cc19657d87b3976b0c84428390661c5e1fd88c84c4ad1f81\n",
            "  Stored in directory: /root/.cache/pip/wheels/a7/2a/ed/6a829dcdfd2a67af80144fcdfc9c3f31eac108fafba4fceb59\n",
            "Successfully built pysptk\n",
            "Installing collected packages: unidecode, pysptk, kantts\n",
            "Successfully installed kantts-1.0.1 pysptk-0.2.0 unidecode-1.3.6\n",
            "Collecting pytorch_wavelets\n",
            "  Downloading pytorch_wavelets-1.3.0-py3-none-any.whl (54 kB)\n",
            "\u001b[2K     \u001b[90m━━━━━━━━━━━━━━━━━━━━━━━━━━━━━━━━━━━━━━━━\u001b[0m \u001b[32m54.9/54.9 kB\u001b[0m \u001b[31m4.2 MB/s\u001b[0m eta \u001b[36m0:00:00\u001b[0m\n",
            "\u001b[?25hRequirement already satisfied: numpy in /usr/local/lib/python3.10/dist-packages (from pytorch_wavelets) (1.23.5)\n",
            "Requirement already satisfied: six in /usr/local/lib/python3.10/dist-packages (from pytorch_wavelets) (1.16.0)\n",
            "Requirement already satisfied: torch in /usr/local/lib/python3.10/dist-packages (from pytorch_wavelets) (2.0.1+cu118)\n",
            "Requirement already satisfied: filelock in /usr/local/lib/python3.10/dist-packages (from torch->pytorch_wavelets) (3.12.2)\n",
            "Requirement already satisfied: typing-extensions in /usr/local/lib/python3.10/dist-packages (from torch->pytorch_wavelets) (4.6.3)\n",
            "Requirement already satisfied: sympy in /usr/local/lib/python3.10/dist-packages (from torch->pytorch_wavelets) (1.11.1)\n",
            "Requirement already satisfied: networkx in /usr/local/lib/python3.10/dist-packages (from torch->pytorch_wavelets) (3.1)\n",
            "Requirement already satisfied: jinja2 in /usr/local/lib/python3.10/dist-packages (from torch->pytorch_wavelets) (3.1.2)\n",
            "Requirement already satisfied: triton==2.0.0 in /usr/local/lib/python3.10/dist-packages (from torch->pytorch_wavelets) (2.0.0)\n",
            "Requirement already satisfied: cmake in /usr/local/lib/python3.10/dist-packages (from triton==2.0.0->torch->pytorch_wavelets) (3.25.2)\n",
            "Requirement already satisfied: lit in /usr/local/lib/python3.10/dist-packages (from triton==2.0.0->torch->pytorch_wavelets) (16.0.6)\n",
            "Requirement already satisfied: MarkupSafe>=2.0 in /usr/local/lib/python3.10/dist-packages (from jinja2->torch->pytorch_wavelets) (2.1.3)\n",
            "Requirement already satisfied: mpmath>=0.19 in /usr/local/lib/python3.10/dist-packages (from sympy->torch->pytorch_wavelets) (1.3.0)\n",
            "Installing collected packages: pytorch_wavelets\n",
            "Successfully installed pytorch_wavelets-1.3.0\n",
            "Collecting tensorboardX\n",
            "  Downloading tensorboardX-2.6.1-py2.py3-none-any.whl (101 kB)\n",
            "\u001b[2K     \u001b[90m━━━━━━━━━━━━━━━━━━━━━━━━━━━━━━━━━━━━━━━\u001b[0m \u001b[32m101.6/101.6 kB\u001b[0m \u001b[31m4.8 MB/s\u001b[0m eta \u001b[36m0:00:00\u001b[0m\n",
            "\u001b[?25hRequirement already satisfied: numpy in /usr/local/lib/python3.10/dist-packages (from tensorboardX) (1.23.5)\n",
            "Requirement already satisfied: packaging in /usr/local/lib/python3.10/dist-packages (from tensorboardX) (23.1)\n",
            "Collecting protobuf>=4.22.3 (from tensorboardX)\n",
            "  Downloading protobuf-4.23.4-cp37-abi3-manylinux2014_x86_64.whl (304 kB)\n",
            "\u001b[2K     \u001b[90m━━━━━━━━━━━━━━━━━━━━━━━━━━━━━━━━━━━━━━\u001b[0m \u001b[32m304.5/304.5 kB\u001b[0m \u001b[31m17.3 MB/s\u001b[0m eta \u001b[36m0:00:00\u001b[0m\n",
            "\u001b[?25hInstalling collected packages: protobuf, tensorboardX\n",
            "  Attempting uninstall: protobuf\n",
            "    Found existing installation: protobuf 3.20.3\n",
            "    Uninstalling protobuf-3.20.3:\n",
            "      Successfully uninstalled protobuf-3.20.3\n",
            "\u001b[31mERROR: pip's dependency resolver does not currently take into account all the packages that are installed. This behaviour is the source of the following dependency conflicts.\n",
            "pandas-gbq 0.17.9 requires pyarrow<10.0dev,>=3.0.0, but you have pyarrow 12.0.1 which is incompatible.\u001b[0m\u001b[31m\n",
            "\u001b[0mSuccessfully installed protobuf-4.23.4 tensorboardX-2.6.1\n",
            "Cloning into 'pytorch_wavelets'...\n",
            "remote: Enumerating objects: 978, done.\u001b[K\n",
            "remote: Counting objects: 100% (142/142), done.\u001b[K\n",
            "remote: Compressing objects: 100% (96/96), done.\u001b[K\n",
            "remote: Total 978 (delta 79), reused 91 (delta 46), pack-reused 836\u001b[K\n",
            "Receiving objects: 100% (978/978), 6.80 MiB | 37.64 MiB/s, done.\n",
            "Resolving deltas: 100% (663/663), done.\n",
            "Requirement already satisfied: matplotlib in /usr/local/lib/python3.10/dist-packages (3.7.1)\n",
            "Requirement already satisfied: contourpy>=1.0.1 in /usr/local/lib/python3.10/dist-packages (from matplotlib) (1.1.0)\n",
            "Requirement already satisfied: cycler>=0.10 in /usr/local/lib/python3.10/dist-packages (from matplotlib) (0.11.0)\n",
            "Requirement already satisfied: fonttools>=4.22.0 in /usr/local/lib/python3.10/dist-packages (from matplotlib) (4.40.0)\n",
            "Requirement already satisfied: kiwisolver>=1.0.1 in /usr/local/lib/python3.10/dist-packages (from matplotlib) (1.4.4)\n",
            "Requirement already satisfied: numpy>=1.20 in /usr/local/lib/python3.10/dist-packages (from matplotlib) (1.23.5)\n",
            "Requirement already satisfied: packaging>=20.0 in /usr/local/lib/python3.10/dist-packages (from matplotlib) (23.1)\n",
            "Requirement already satisfied: pillow>=6.2.0 in /usr/local/lib/python3.10/dist-packages (from matplotlib) (8.4.0)\n",
            "Requirement already satisfied: pyparsing>=2.3.1 in /usr/local/lib/python3.10/dist-packages (from matplotlib) (3.1.0)\n",
            "Requirement already satisfied: python-dateutil>=2.7 in /usr/local/lib/python3.10/dist-packages (from matplotlib) (2.8.2)\n",
            "Requirement already satisfied: six>=1.5 in /usr/local/lib/python3.10/dist-packages (from python-dateutil>=2.7->matplotlib) (1.16.0)\n",
            "Collecting numpy==1.22.0\n",
            "  Using cached numpy-1.22.0-cp310-cp310-manylinux_2_17_x86_64.manylinux2014_x86_64.whl (16.8 MB)\n",
            "Installing collected packages: numpy\n",
            "  Attempting uninstall: numpy\n",
            "    Found existing installation: numpy 1.23.5\n",
            "    Uninstalling numpy-1.23.5:\n",
            "      Successfully uninstalled numpy-1.23.5\n",
            "\u001b[31mERROR: pip's dependency resolver does not currently take into account all the packages that are installed. This behaviour is the source of the following dependency conflicts.\n",
            "librosa 0.10.0.post2 requires numpy!=1.22.0,!=1.22.1,!=1.22.2,>=1.20.3, but you have numpy 1.22.0 which is incompatible.\n",
            "pandas-gbq 0.17.9 requires pyarrow<10.0dev,>=3.0.0, but you have pyarrow 12.0.1 which is incompatible.\u001b[0m\u001b[31m\n",
            "\u001b[0mSuccessfully installed numpy-1.22.0\n"
          ]
        },
        {
          "output_type": "display_data",
          "data": {
            "application/vnd.colab-display-data+json": {
              "pip_warning": {
                "packages": [
                  "numpy"
                ]
              }
            }
          },
          "metadata": {}
        }
      ]
    },
    {
      "cell_type": "code",
      "source": [
        "import os\n",
        "os._exit(00) # 重启notebook"
      ],
      "metadata": {
        "id": "lO29uxHrVafx"
      },
      "execution_count": null,
      "outputs": []
    },
    {
      "cell_type": "markdown",
      "source": [
        "## 在终端中执行\n",
        "cd ~\n",
        "\n",
        "apt install zip\n",
        "\n",
        "wget https://isv-data.oss-cn-hangzhou.aliyuncs.com/ics/MaaS/TTS/download_files/nltk_data.zip\n",
        "\n",
        "unzip nltk_data.zip\n"
      ],
      "metadata": {
        "id": "n95rxUggJANs"
      }
    },
    {
      "cell_type": "markdown",
      "source": [
        "## 对音频切片处理"
      ],
      "metadata": {
        "id": "YZqH0DtGcsXJ"
      }
    },
    {
      "cell_type": "code",
      "source": [
        "import subprocess\n",
        "from pathlib import Path\n",
        "import librosa\n",
        "from scipy.io import wavfile\n",
        "import numpy as np\n",
        "import torch\n",
        "import csv\n",
        "import whisper\n",
        "\n",
        "def split_long_audio(model, filepaths, character_name, save_dir=\"data_dir\", out_sr=44100):\n",
        "    if isinstance(filepaths, str):\n",
        "        filepaths = [filepaths]\n",
        "\n",
        "    for file_idx, filepath in enumerate(filepaths):\n",
        "\n",
        "        save_path = Path(save_dir) / character_name\n",
        "        save_path.mkdir(exist_ok=True, parents=True)\n",
        "\n",
        "        print(f\"Transcribing file {file_idx}: '{filepath}' to segments...\")\n",
        "        result = model.transcribe(filepath, word_timestamps=True, task=\"transcribe\", beam_size=5, best_of=5)\n",
        "        segments = result['segments']\n",
        "\n",
        "        wav, sr = librosa.load(filepath, sr=None, offset=0, duration=None, mono=True)\n",
        "        wav, _ = librosa.effects.trim(wav, top_db=20)\n",
        "        peak = np.abs(wav).max()\n",
        "        if peak > 1.0:\n",
        "            wav = 0.98 * wav / peak\n",
        "        wav2 = librosa.resample(wav, orig_sr=sr, target_sr=out_sr)\n",
        "        wav2 /= max(wav2.max(), -wav2.min())\n",
        "\n",
        "        for i, seg in enumerate(segments):\n",
        "            start_time = seg['start']\n",
        "            end_time = seg['end']\n",
        "            wav_seg = wav2[int(start_time * out_sr):int(end_time * out_sr)]\n",
        "            wav_seg_name = f\"{character_name}_{file_idx}_{i}.wav\"\n",
        "            out_fpath = save_path / wav_seg_name\n",
        "            wavfile.write(out_fpath, rate=out_sr, data=(wav_seg * np.iinfo(np.int16).max).astype(np.int16))"
      ],
      "metadata": {
        "id": "NdoD-ZnIaWhN"
      },
      "execution_count": null,
      "outputs": []
    },
    {
      "cell_type": "code",
      "source": [
        "whisper_size = \"medium\"\n",
        "whisper_model = whisper.load_model(whisper_size)"
      ],
      "metadata": {
        "id": "yXrxpjEGaWlT",
        "colab": {
          "base_uri": "https://localhost:8080/"
        },
        "outputId": "a77e61f5-b5e4-443b-c2ae-6e8f46b7013b"
      },
      "execution_count": null,
      "outputs": [
        {
          "output_type": "stream",
          "name": "stderr",
          "text": [
            "100%|█████████████████████████████████████| 1.42G/1.42G [00:24<00:00, 61.4MiB/s]\n"
          ]
        }
      ]
    },
    {
      "cell_type": "markdown",
      "source": [
        "### 请在下方{filename}处填写您上传的wav文件名"
      ],
      "metadata": {
        "id": "oRZppf5D9jgo"
      }
    },
    {
      "cell_type": "code",
      "source": [
        "split_long_audio(whisper_model, \"filename.wav\", \"test\", \"dataset_raw\") # 请在{filename}处填写您上传的wav文件名"
      ],
      "metadata": {
        "id": "yTN4IRxOaWoi",
        "colab": {
          "base_uri": "https://localhost:8080/"
        },
        "outputId": "17168a2e-25ca-4ec3-97a7-d51ea87636ca"
      },
      "execution_count": null,
      "outputs": [
        {
          "output_type": "stream",
          "name": "stdout",
          "text": [
            "Transcribing file 0: 'jay_speech_1.wav' to segments...\n"
          ]
        }
      ]
    },
    {
      "cell_type": "markdown",
      "source": [
        "## 需要新建三个文件夹，分别是：\"test_wavs\", \"output_training_data\", \"pretrain_work_dir\""
      ],
      "metadata": {
        "id": "ccQC4ZcWbtXy"
      }
    },
    {
      "cell_type": "code",
      "source": [
        "! mv  -v ./dataset_raw/test/* ./test_wavs/"
      ],
      "metadata": {
        "colab": {
          "base_uri": "https://localhost:8080/"
        },
        "id": "t7-qxeiBG2wH",
        "outputId": "c8f729f5-0548-4163-e7d9-7ed87ebfb283"
      },
      "execution_count": null,
      "outputs": [
        {
          "output_type": "stream",
          "name": "stdout",
          "text": [
            "renamed './dataset_raw/test/test_0_0.wav' -> './test_wavs/test_0_0.wav'\n",
            "renamed './dataset_raw/test/test_0_10.wav' -> './test_wavs/test_0_10.wav'\n",
            "renamed './dataset_raw/test/test_0_11.wav' -> './test_wavs/test_0_11.wav'\n",
            "renamed './dataset_raw/test/test_0_12.wav' -> './test_wavs/test_0_12.wav'\n",
            "renamed './dataset_raw/test/test_0_13.wav' -> './test_wavs/test_0_13.wav'\n",
            "renamed './dataset_raw/test/test_0_14.wav' -> './test_wavs/test_0_14.wav'\n",
            "renamed './dataset_raw/test/test_0_15.wav' -> './test_wavs/test_0_15.wav'\n",
            "renamed './dataset_raw/test/test_0_16.wav' -> './test_wavs/test_0_16.wav'\n",
            "renamed './dataset_raw/test/test_0_17.wav' -> './test_wavs/test_0_17.wav'\n",
            "renamed './dataset_raw/test/test_0_18.wav' -> './test_wavs/test_0_18.wav'\n",
            "renamed './dataset_raw/test/test_0_19.wav' -> './test_wavs/test_0_19.wav'\n",
            "renamed './dataset_raw/test/test_0_1.wav' -> './test_wavs/test_0_1.wav'\n",
            "renamed './dataset_raw/test/test_0_20.wav' -> './test_wavs/test_0_20.wav'\n",
            "renamed './dataset_raw/test/test_0_21.wav' -> './test_wavs/test_0_21.wav'\n",
            "renamed './dataset_raw/test/test_0_22.wav' -> './test_wavs/test_0_22.wav'\n",
            "renamed './dataset_raw/test/test_0_23.wav' -> './test_wavs/test_0_23.wav'\n",
            "renamed './dataset_raw/test/test_0_24.wav' -> './test_wavs/test_0_24.wav'\n",
            "renamed './dataset_raw/test/test_0_25.wav' -> './test_wavs/test_0_25.wav'\n",
            "renamed './dataset_raw/test/test_0_26.wav' -> './test_wavs/test_0_26.wav'\n",
            "renamed './dataset_raw/test/test_0_27.wav' -> './test_wavs/test_0_27.wav'\n",
            "renamed './dataset_raw/test/test_0_28.wav' -> './test_wavs/test_0_28.wav'\n",
            "renamed './dataset_raw/test/test_0_29.wav' -> './test_wavs/test_0_29.wav'\n",
            "renamed './dataset_raw/test/test_0_2.wav' -> './test_wavs/test_0_2.wav'\n",
            "renamed './dataset_raw/test/test_0_30.wav' -> './test_wavs/test_0_30.wav'\n",
            "renamed './dataset_raw/test/test_0_31.wav' -> './test_wavs/test_0_31.wav'\n",
            "renamed './dataset_raw/test/test_0_32.wav' -> './test_wavs/test_0_32.wav'\n",
            "renamed './dataset_raw/test/test_0_33.wav' -> './test_wavs/test_0_33.wav'\n",
            "renamed './dataset_raw/test/test_0_3.wav' -> './test_wavs/test_0_3.wav'\n",
            "renamed './dataset_raw/test/test_0_4.wav' -> './test_wavs/test_0_4.wav'\n",
            "renamed './dataset_raw/test/test_0_5.wav' -> './test_wavs/test_0_5.wav'\n",
            "renamed './dataset_raw/test/test_0_6.wav' -> './test_wavs/test_0_6.wav'\n",
            "renamed './dataset_raw/test/test_0_7.wav' -> './test_wavs/test_0_7.wav'\n",
            "renamed './dataset_raw/test/test_0_8.wav' -> './test_wavs/test_0_8.wav'\n",
            "renamed './dataset_raw/test/test_0_9.wav' -> './test_wavs/test_0_9.wav'\n"
          ]
        }
      ]
    },
    {
      "cell_type": "code",
      "source": [
        "from modelscope.tools import run_auto_label"
      ],
      "metadata": {
        "id": "4GPDev3BaRFm",
        "colab": {
          "base_uri": "https://localhost:8080/"
        },
        "outputId": "b09b9d7f-54f5-495b-de3b-27286e2c26c4"
      },
      "execution_count": null,
      "outputs": [
        {
          "output_type": "stream",
          "name": "stderr",
          "text": [
            "2023-07-08 19:04:37,692 - modelscope - INFO - PyTorch version 2.0.1+cu118 Found.\n",
            "2023-07-08 19:04:37,696 - modelscope - INFO - TensorFlow version 2.12.0 Found.\n",
            "2023-07-08 19:04:37,697 - modelscope - INFO - Loading ast index from /root/.cache/modelscope/ast_indexer\n",
            "2023-07-08 19:04:37,698 - modelscope - INFO - No valid ast index found from /root/.cache/modelscope/ast_indexer, generating ast index from prebuilt!\n",
            "2023-07-08 19:04:37,753 - modelscope - INFO - Loading done! Current index file version is 1.7.1, with md5 c41ec4a1bf3ea448361c66faa9294410 and a total number of 861 components indexed\n"
          ]
        }
      ]
    },
    {
      "cell_type": "code",
      "source": [
        "input_wav = \"./test_wavs/\"\n",
        "output_data = \"./output_training_data/\"\n",
        "\n",
        "ret, report = run_auto_label(input_wav=input_wav, work_dir=output_data, resource_revision=\"v1.0.5\")"
      ],
      "metadata": {
        "id": "YpEmrdkgaU1E",
        "colab": {
          "base_uri": "https://localhost:8080/"
        },
        "outputId": "6bd0c76a-f426-4a5a-e06c-38fb980b3be3"
      },
      "execution_count": null,
      "outputs": [
        {
          "output_type": "stream",
          "name": "stderr",
          "text": [
            "2023-07-08 19:04:39,013 - modelscope - INFO - Use user-specified model revision: v1.0.5\n",
            "Downloading: 100%|██████████| 185/185 [00:00<00:00, 652kB/s]\n",
            "Downloading: 100%|██████████| 1.02G/1.02G [00:23<00:00, 46.5MB/s]\n",
            "Downloading: 100%|██████████| 6.27k/6.27k [00:00<00:00, 2.57MB/s]\n"
          ]
        },
        {
          "output_type": "stream",
          "name": "stdout",
          "text": [
            "2023-07-08 19:05:18\n",
            "wav_preprocess start...\n",
            "---  new folder...  ---\n",
            "---  OK  ---\n"
          ]
        },
        {
          "output_type": "stream",
          "name": "stderr",
          "text": [
            "100%|██████████| 34/34 [00:00<00:00, 119.80it/s]"
          ]
        },
        {
          "output_type": "stream",
          "name": "stdout",
          "text": [
            "wav cut by vad start...\n"
          ]
        },
        {
          "output_type": "stream",
          "name": "stderr",
          "text": [
            "\n",
            "100%|██████████| 34/34 [00:01<00:00, 17.87it/s]\n",
            "100%|██████████| 33/33 [00:03<00:00,  9.55it/s]\n"
          ]
        },
        {
          "output_type": "stream",
          "name": "stdout",
          "text": [
            "Text to label start...\n"
          ]
        },
        {
          "output_type": "stream",
          "name": "stderr",
          "text": [
            "100%|██████████| 33/33 [00:04<00:00,  6.60it/s]\n"
          ]
        },
        {
          "output_type": "stream",
          "name": "stdout",
          "text": [
            "pre-break recording in paragraph by vad.\n",
            "Generate phone interval by asr align.\n",
            "---  New folder /content/output_training_data/align...  ---\n",
            "---  OK  ---\n",
            "prosody_dir=/content/output_training_data/paragraph/prosody\n",
            "run_asr_align step 2\n",
            "speak_script=/content/output_training_data/align/script.txt\n",
            "job_num=33 process_num=4 fbank_config=/root/.cache/modelscope/hub/damo/speech_ptts_autolabel_16k/model/fsmn_16k_2/fbank.conf, data_dir=/content/output_training_data/align/gen/data, fbank_dir=/content/output_training_data/align/gen/fbank\n",
            "run make_fbank with num=33 config_path=/root/.cache/modelscope/hub/damo/speech_ptts_autolabel_16k/model/fsmn_16k_2/fbank.conf\n",
            "data_path=/content/output_training_data/align/gen/data fbank_path=/content/output_training_data/align/gen/fbank\n",
            "[{'id': 'test_0_23', 'wav': '/content/output_training_data/wav_cut/test_0_23.wav'}, {'id': 'test_0_1', 'wav': '/content/output_training_data/wav_cut/test_0_1.wav'}, {'id': 'test_0_28', 'wav': '/content/output_training_data/wav_cut/test_0_28.wav'}, {'id': 'test_0_16', 'wav': '/content/output_training_data/wav_cut/test_0_16.wav'}, {'id': 'test_0_24', 'wav': '/content/output_training_data/wav_cut/test_0_24.wav'}, {'id': 'test_0_11', 'wav': '/content/output_training_data/wav_cut/test_0_11.wav'}, {'id': 'test_0_19', 'wav': '/content/output_training_data/wav_cut/test_0_19.wav'}, {'id': 'test_0_9', 'wav': '/content/output_training_data/wav_cut/test_0_9.wav'}, {'id': 'test_0_6', 'wav': '/content/output_training_data/wav_cut/test_0_6.wav'}, {'id': 'test_0_14', 'wav': '/content/output_training_data/wav_cut/test_0_14.wav'}, {'id': 'test_0_15', 'wav': '/content/output_training_data/wav_cut/test_0_15.wav'}, {'id': 'test_0_27', 'wav': '/content/output_training_data/wav_cut/test_0_27.wav'}, {'id': 'test_0_26', 'wav': '/content/output_training_data/wav_cut/test_0_26.wav'}, {'id': 'test_0_33', 'wav': '/content/output_training_data/wav_cut/test_0_33.wav'}, {'id': 'test_0_22', 'wav': '/content/output_training_data/wav_cut/test_0_22.wav'}, {'id': 'test_0_3', 'wav': '/content/output_training_data/wav_cut/test_0_3.wav'}, {'id': 'test_0_25', 'wav': '/content/output_training_data/wav_cut/test_0_25.wav'}, {'id': 'test_0_10', 'wav': '/content/output_training_data/wav_cut/test_0_10.wav'}, {'id': 'test_0_21', 'wav': '/content/output_training_data/wav_cut/test_0_21.wav'}, {'id': 'test_0_13', 'wav': '/content/output_training_data/wav_cut/test_0_13.wav'}, {'id': 'test_0_7', 'wav': '/content/output_training_data/wav_cut/test_0_7.wav'}, {'id': 'test_0_17', 'wav': '/content/output_training_data/wav_cut/test_0_17.wav'}, {'id': 'test_0_0', 'wav': '/content/output_training_data/wav_cut/test_0_0.wav'}, {'id': 'test_0_5', 'wav': '/content/output_training_data/wav_cut/test_0_5.wav'}, {'id': 'test_0_12', 'wav': '/content/output_training_data/wav_cut/test_0_12.wav'}, {'id': 'test_0_2', 'wav': '/content/output_training_data/wav_cut/test_0_2.wav'}, {'id': 'test_0_31', 'wav': '/content/output_training_data/wav_cut/test_0_31.wav'}, {'id': 'test_0_8', 'wav': '/content/output_training_data/wav_cut/test_0_8.wav'}, {'id': 'test_0_32', 'wav': '/content/output_training_data/wav_cut/test_0_32.wav'}, {'id': 'test_0_18', 'wav': '/content/output_training_data/wav_cut/test_0_18.wav'}, {'id': 'test_0_20', 'wav': '/content/output_training_data/wav_cut/test_0_20.wav'}, {'id': 'test_0_29', 'wav': '/content/output_training_data/wav_cut/test_0_29.wav'}, {'id': 'test_0_4', 'wav': '/content/output_training_data/wav_cut/test_0_4.wav'}]\n"
          ]
        },
        {
          "output_type": "stream",
          "name": "stderr",
          "text": [
            "100%|██████████| 33/33 [00:42<00:00,  1.28s/it]"
          ]
        },
        {
          "output_type": "stream",
          "name": "stdout",
          "text": [
            "DONE compute fbank and copy feats\n",
            "DONE!\n",
            "job_num=33 process_num=4 data_dir=/content/output_training_data/align/gen/data lm_dir=/root/.cache/modelscope/hub/damo/speech_ptts_autolabel_16k/model/lang am_dir=/root/.cache/modelscope/hub/damo/speech_ptts_autolabel_16k/model/fsmn_16k_2, fbank_dir=/content/output_training_data/align/gen/fbank, align_dir=/content/output_training_data/align/gen/align\n",
            "[{'id': 'test_0_23', 'ark': '/content/output_training_data/align/gen/fbank/raw_fbank_data.test_0_23.ark', 'scp': '/content/output_training_data/align/gen/fbank/raw_fbank_data.test_0_23.scp'}, {'id': 'test_0_1', 'ark': '/content/output_training_data/align/gen/fbank/raw_fbank_data.test_0_1.ark', 'scp': '/content/output_training_data/align/gen/fbank/raw_fbank_data.test_0_1.scp'}, {'id': 'test_0_28', 'ark': '/content/output_training_data/align/gen/fbank/raw_fbank_data.test_0_28.ark', 'scp': '/content/output_training_data/align/gen/fbank/raw_fbank_data.test_0_28.scp'}, {'id': 'test_0_16', 'ark': '/content/output_training_data/align/gen/fbank/raw_fbank_data.test_0_16.ark', 'scp': '/content/output_training_data/align/gen/fbank/raw_fbank_data.test_0_16.scp'}, {'id': 'test_0_24', 'ark': '/content/output_training_data/align/gen/fbank/raw_fbank_data.test_0_24.ark', 'scp': '/content/output_training_data/align/gen/fbank/raw_fbank_data.test_0_24.scp'}, {'id': 'test_0_11', 'ark': '/content/output_training_data/align/gen/fbank/raw_fbank_data.test_0_11.ark', 'scp': '/content/output_training_data/align/gen/fbank/raw_fbank_data.test_0_11.scp'}, {'id': 'test_0_19', 'ark': '/content/output_training_data/align/gen/fbank/raw_fbank_data.test_0_19.ark', 'scp': '/content/output_training_data/align/gen/fbank/raw_fbank_data.test_0_19.scp'}, {'id': 'test_0_9', 'ark': '/content/output_training_data/align/gen/fbank/raw_fbank_data.test_0_9.ark', 'scp': '/content/output_training_data/align/gen/fbank/raw_fbank_data.test_0_9.scp'}, {'id': 'test_0_6', 'ark': '/content/output_training_data/align/gen/fbank/raw_fbank_data.test_0_6.ark', 'scp': '/content/output_training_data/align/gen/fbank/raw_fbank_data.test_0_6.scp'}, {'id': 'test_0_14', 'ark': '/content/output_training_data/align/gen/fbank/raw_fbank_data.test_0_14.ark', 'scp': '/content/output_training_data/align/gen/fbank/raw_fbank_data.test_0_14.scp'}, {'id': 'test_0_15', 'ark': '/content/output_training_data/align/gen/fbank/raw_fbank_data.test_0_15.ark', 'scp': '/content/output_training_data/align/gen/fbank/raw_fbank_data.test_0_15.scp'}, {'id': 'test_0_27', 'ark': '/content/output_training_data/align/gen/fbank/raw_fbank_data.test_0_27.ark', 'scp': '/content/output_training_data/align/gen/fbank/raw_fbank_data.test_0_27.scp'}, {'id': 'test_0_26', 'ark': '/content/output_training_data/align/gen/fbank/raw_fbank_data.test_0_26.ark', 'scp': '/content/output_training_data/align/gen/fbank/raw_fbank_data.test_0_26.scp'}, {'id': 'test_0_33', 'ark': '/content/output_training_data/align/gen/fbank/raw_fbank_data.test_0_33.ark', 'scp': '/content/output_training_data/align/gen/fbank/raw_fbank_data.test_0_33.scp'}, {'id': 'test_0_22', 'ark': '/content/output_training_data/align/gen/fbank/raw_fbank_data.test_0_22.ark', 'scp': '/content/output_training_data/align/gen/fbank/raw_fbank_data.test_0_22.scp'}, {'id': 'test_0_3', 'ark': '/content/output_training_data/align/gen/fbank/raw_fbank_data.test_0_3.ark', 'scp': '/content/output_training_data/align/gen/fbank/raw_fbank_data.test_0_3.scp'}, {'id': 'test_0_25', 'ark': '/content/output_training_data/align/gen/fbank/raw_fbank_data.test_0_25.ark', 'scp': '/content/output_training_data/align/gen/fbank/raw_fbank_data.test_0_25.scp'}, {'id': 'test_0_10', 'ark': '/content/output_training_data/align/gen/fbank/raw_fbank_data.test_0_10.ark', 'scp': '/content/output_training_data/align/gen/fbank/raw_fbank_data.test_0_10.scp'}, {'id': 'test_0_21', 'ark': '/content/output_training_data/align/gen/fbank/raw_fbank_data.test_0_21.ark', 'scp': '/content/output_training_data/align/gen/fbank/raw_fbank_data.test_0_21.scp'}, {'id': 'test_0_13', 'ark': '/content/output_training_data/align/gen/fbank/raw_fbank_data.test_0_13.ark', 'scp': '/content/output_training_data/align/gen/fbank/raw_fbank_data.test_0_13.scp'}, {'id': 'test_0_7', 'ark': '/content/output_training_data/align/gen/fbank/raw_fbank_data.test_0_7.ark', 'scp': '/content/output_training_data/align/gen/fbank/raw_fbank_data.test_0_7.scp'}, {'id': 'test_0_17', 'ark': '/content/output_training_data/align/gen/fbank/raw_fbank_data.test_0_17.ark', 'scp': '/content/output_training_data/align/gen/fbank/raw_fbank_data.test_0_17.scp'}, {'id': 'test_0_0', 'ark': '/content/output_training_data/align/gen/fbank/raw_fbank_data.test_0_0.ark', 'scp': '/content/output_training_data/align/gen/fbank/raw_fbank_data.test_0_0.scp'}, {'id': 'test_0_5', 'ark': '/content/output_training_data/align/gen/fbank/raw_fbank_data.test_0_5.ark', 'scp': '/content/output_training_data/align/gen/fbank/raw_fbank_data.test_0_5.scp'}, {'id': 'test_0_12', 'ark': '/content/output_training_data/align/gen/fbank/raw_fbank_data.test_0_12.ark', 'scp': '/content/output_training_data/align/gen/fbank/raw_fbank_data.test_0_12.scp'}, {'id': 'test_0_2', 'ark': '/content/output_training_data/align/gen/fbank/raw_fbank_data.test_0_2.ark', 'scp': '/content/output_training_data/align/gen/fbank/raw_fbank_data.test_0_2.scp'}, {'id': 'test_0_31', 'ark': '/content/output_training_data/align/gen/fbank/raw_fbank_data.test_0_31.ark', 'scp': '/content/output_training_data/align/gen/fbank/raw_fbank_data.test_0_31.scp'}, {'id': 'test_0_8', 'ark': '/content/output_training_data/align/gen/fbank/raw_fbank_data.test_0_8.ark', 'scp': '/content/output_training_data/align/gen/fbank/raw_fbank_data.test_0_8.scp'}, {'id': 'test_0_32', 'ark': '/content/output_training_data/align/gen/fbank/raw_fbank_data.test_0_32.ark', 'scp': '/content/output_training_data/align/gen/fbank/raw_fbank_data.test_0_32.scp'}, {'id': 'test_0_18', 'ark': '/content/output_training_data/align/gen/fbank/raw_fbank_data.test_0_18.ark', 'scp': '/content/output_training_data/align/gen/fbank/raw_fbank_data.test_0_18.scp'}, {'id': 'test_0_20', 'ark': '/content/output_training_data/align/gen/fbank/raw_fbank_data.test_0_20.ark', 'scp': '/content/output_training_data/align/gen/fbank/raw_fbank_data.test_0_20.scp'}, {'id': 'test_0_29', 'ark': '/content/output_training_data/align/gen/fbank/raw_fbank_data.test_0_29.ark', 'scp': '/content/output_training_data/align/gen/fbank/raw_fbank_data.test_0_29.scp'}, {'id': 'test_0_4', 'ark': '/content/output_training_data/align/gen/fbank/raw_fbank_data.test_0_4.ark', 'scp': '/content/output_training_data/align/gen/fbank/raw_fbank_data.test_0_4.scp'}]\n"
          ]
        },
        {
          "output_type": "stream",
          "name": "stderr",
          "text": [
            "\n"
          ]
        },
        {
          "output_type": "stream",
          "name": "stdout",
          "text": [
            "Feature preprocessing start...\n"
          ]
        },
        {
          "output_type": "stream",
          "name": "stderr",
          "text": [
            "100%|██████████| 33/33 [01:06<00:00,  2.00s/it]"
          ]
        },
        {
          "output_type": "stream",
          "name": "stdout",
          "text": [
            "Waveform aligning start...\n"
          ]
        },
        {
          "output_type": "stream",
          "name": "stderr",
          "text": [
            "\n",
            "100%|██████████| 33/33 [00:47<00:00,  1.45s/it]"
          ]
        },
        {
          "output_type": "stream",
          "name": "stdout",
          "text": [
            "do_align done!\n",
            "---  new folder...  ---\n",
            "---  OK  ---\n",
            "test_0_27.ali\n",
            "test_0_0.ali\n",
            "test_0_28.ali\n",
            "test_0_2.ali\n",
            "test_0_33.ali\n",
            "test_0_5.ali\n",
            "test_0_15.ali\n",
            "test_0_32.ali\n",
            "test_0_20.ali\n",
            "test_0_29.ali\n",
            "test_0_18.ali\n",
            "test_0_10.ali\n",
            "test_0_9.ali\n",
            "test_0_1.ali\n",
            "test_0_3.ali\n",
            "test_0_4.ali\n",
            "test_0_12.ali\n",
            "test_0_17.ali\n",
            "test_0_31.ali\n",
            "test_0_16.ali\n",
            "test_0_24.ali\n",
            "test_0_25.ali\n",
            "test_0_11.ali\n",
            "test_0_7.ali\n",
            "test_0_22.ali\n",
            "test_0_13.ali\n",
            "test_0_14.ali\n",
            "test_0_26.ali\n",
            "test_0_21.ali\n",
            "test_0_6.ali\n",
            "test_0_23.ali\n",
            "test_0_8.ali\n",
            "test_0_19.ali\n",
            "Trim silence wav with align info and modify wav files....\n"
          ]
        },
        {
          "output_type": "stream",
          "name": "stderr",
          "text": [
            "\n",
            "100%|██████████| 33/33 [00:00<00:00, 155.75it/s]"
          ]
        },
        {
          "output_type": "stream",
          "name": "stdout",
          "text": [
            "Convert align info to interval files....\n",
            "---  There is this folder!  ---\n",
            "test_0_27.ali\n",
            "test_0_0.ali\n",
            "test_0_28.ali\n",
            "test_0_2.ali\n",
            "test_0_33.ali\n",
            "test_0_5.ali\n",
            "test_0_15.ali\n",
            "test_0_32.ali\n",
            "test_0_20.ali\n",
            "test_0_29.ali\n",
            "test_0_18.ali\n",
            "test_0_10.ali\n",
            "test_0_9.ali\n",
            "test_0_1.ali\n",
            "test_0_3.ali\n",
            "test_0_4.ali\n",
            "test_0_12.ali\n",
            "test_0_17.ali\n",
            "test_0_31.ali\n",
            "test_0_16.ali\n",
            "test_0_24.ali\n",
            "test_0_25.ali\n",
            "test_0_11.ali\n",
            "test_0_7.ali\n",
            "test_0_22.ali\n",
            "test_0_13.ali\n",
            "test_0_14.ali\n",
            "test_0_26.ali\n",
            "test_0_21.ali\n",
            "test_0_6.ali\n",
            "test_0_23.ali\n",
            "test_0_8.ali\n",
            "test_0_19.ali\n",
            "Modify sil to sp in interval....\n",
            "modify interval er phone.\n",
            "---  New folder /content/output_training_data/interval...  ---\n",
            "---  OK  ---\n",
            "qualification review.\n",
            "prosody sillence detect.\n",
            "---  New folder /content/output_training_data/prosody...  ---\n",
            "---  OK  ---\n"
          ]
        },
        {
          "output_type": "stream",
          "name": "stderr",
          "text": [
            "\n"
          ]
        },
        {
          "output_type": "stream",
          "name": "stdout",
          "text": [
            "average silence duration: 0.0977777777777778\n"
          ]
        },
        {
          "output_type": "stream",
          "name": "stderr",
          "text": [
            "100%|██████████| 66/66 [00:00<00:00, 12338.94it/s]"
          ]
        },
        {
          "output_type": "stream",
          "name": "stdout",
          "text": [
            "Write prosody file\n",
            "0 \"mismatch\" sentences\n",
            "\n",
            "Auto labeling info: stage 1 | develop mode 0 | gender:female | score 10.000000 | retcode 0\n",
            "labeling report:\n",
            "stage 1 | develop mode 0 | gender female | score 10.000000 | retcode 0\n",
            "qulification report:\n",
            "credit score: 10.000000\n",
            "qualified score: 3.000000\n",
            "normalized snr: 35.000000\n",
            "abandon utt snr threshold: 10.000000\n",
            "snr score ration: 0.500000\n",
            "interval score ration: 0.500000\n",
            "data qulificaion report:\n"
          ]
        },
        {
          "output_type": "stream",
          "name": "stderr",
          "text": [
            "\n"
          ]
        }
      ]
    },
    {
      "cell_type": "markdown",
      "source": [
        "## 训练 Training"
      ],
      "metadata": {
        "id": "oImeaYwbcFOV"
      }
    },
    {
      "cell_type": "code",
      "source": [
        "from modelscope.metainfo import Trainers\n",
        "from modelscope.trainers import build_trainer\n",
        "from modelscope.utils.audio.audio_utils import TtsTrainType\n",
        "\n",
        "pretrained_model_id = 'damo/speech_personal_sambert-hifigan_nsf_tts_zh-cn_pretrain_16k'\n",
        "\n",
        "dataset_id = \"./output_training_data/\"\n",
        "pretrain_work_dir = \"./pretrain_work_dir/\"\n",
        "\n",
        "# 训练信息，用于指定需要训练哪个或哪些模型，这里展示AM和Vocoder模型皆进行训练\n",
        "# 目前支持训练：TtsTrainType.TRAIN_TYPE_SAMBERT, TtsTrainType.TRAIN_TYPE_VOC\n",
        "# 训练SAMBERT会以模型最新step作为基础进行finetune\n",
        "train_info = {\n",
        "    TtsTrainType.TRAIN_TYPE_SAMBERT: {  # 配置训练AM（sambert）模型\n",
        "        'train_steps': 202,               # 训练多少个step\n",
        "        'save_interval_steps': 200,       # 每训练多少个step保存一次checkpoint\n",
        "        'log_interval': 10               # 每训练多少个step打印一次训练日志\n",
        "    }\n",
        "}\n",
        "\n",
        "# 配置训练参数，指定数据集，临时工作目录和train_info\n",
        "kwargs = dict(\n",
        "    model=pretrained_model_id,                  # 指定要finetune的模型\n",
        "    model_revision = \"v1.0.6\",\n",
        "    work_dir=pretrain_work_dir,                 # 指定临时工作目录\n",
        "    train_dataset=dataset_id,                   # 指定数据集id\n",
        "    train_type=train_info                       # 指定要训练类型及参数\n",
        ")\n",
        "\n",
        "trainer = build_trainer(Trainers.speech_kantts_trainer,\n",
        "                        default_args=kwargs)\n",
        "\n",
        "trainer.train()\n"
      ],
      "metadata": {
        "id": "tzH2jcmxbV1i",
        "colab": {
          "base_uri": "https://localhost:8080/"
        },
        "outputId": "60dd3b5a-bc0a-4504-de6d-083c1c9a1ca8"
      },
      "execution_count": null,
      "outputs": [
        {
          "output_type": "stream",
          "name": "stderr",
          "text": [
            "2023-07-08 19:10:56,737 - modelscope - INFO - Use user-specified model revision: v1.0.6\n",
            "Downloading: 100%|██████████| 4.07k/4.07k [00:00<00:00, 1.36MB/s]\n",
            "2023-07-08 19:10:59,308 - modelscope - INFO - Use user-specified model revision: v1.0.6\n",
            "Downloading: 100%|██████████| 138k/138k [00:00<00:00, 262kB/s]\n",
            "Downloading: 100%|██████████| 288k/288k [00:00<00:00, 399kB/s]\n",
            "Downloading: 100%|██████████| 327k/327k [00:00<00:00, 441kB/s]\n",
            "Downloading: 100%|██████████| 535k/535k [00:00<00:00, 609kB/s]\n",
            "Downloading: 100%|██████████| 506/506 [00:00<00:00, 2.09MB/s]\n",
            "Downloading: 100%|██████████| 1.69M/1.69M [00:01<00:00, 1.39MB/s]\n",
            "Downloading: 100%|██████████| 452k/452k [00:00<00:00, 506kB/s]\n",
            "Downloading: 100%|██████████| 998k/998k [00:01<00:00, 922kB/s]\n",
            "Downloading: 100%|██████████| 866M/866M [00:23<00:00, 39.0MB/s]\n",
            "Downloading: 100%|██████████| 150M/150M [00:10<00:00, 14.8MB/s]\n",
            "Downloading: 100%|██████████| 3.82k/3.82k [00:00<00:00, 1.39MB/s]\n",
            "Downloading: 100%|██████████| 2.49k/2.49k [00:00<00:00, 10.7MB/s]\n",
            "Downloading: 100%|██████████| 1.60M/1.60M [00:01<00:00, 1.54MB/s]\n",
            "Downloading: 100%|██████████| 51.3k/51.3k [00:00<00:00, 145kB/s]\n",
            "Downloading: 100%|██████████| 1.79M/1.79M [00:01<00:00, 1.45MB/s]\n",
            "Downloading: 100%|██████████| 1.87M/1.87M [00:01<00:00, 1.56MB/s]\n",
            "Downloading: 100%|██████████| 112k/112k [00:00<00:00, 212kB/s]\n",
            "Downloading: 100%|██████████| 226k/226k [00:00<00:00, 320kB/s]\n",
            "Downloading: 100%|██████████| 72.3k/72.3k [00:00<00:00, 200kB/s]\n",
            "Downloading: 100%|██████████| 24.1k/24.1k [00:00<00:00, 135kB/s]\n",
            "Downloading: 100%|██████████| 236M/236M [00:15<00:00, 15.9MB/s]\n",
            "Downloading: 100%|██████████| 67.1k/67.1k [00:00<00:00, 191kB/s]\n",
            "Downloading: 100%|██████████| 26.8M/26.8M [00:02<00:00, 9.62MB/s]\n",
            "Downloading: 100%|██████████| 26.8M/26.8M [00:02<00:00, 9.52MB/s]\n",
            "Downloading: 100%|██████████| 151k/151k [00:00<00:00, 281kB/s]\n",
            "Downloading: 100%|██████████| 52.3k/52.3k [00:00<00:00, 147kB/s]\n",
            "Downloading: 100%|██████████| 98.7k/98.7k [00:00<00:00, 182kB/s]\n",
            "Downloading: 100%|██████████| 45.0k/45.0k [00:00<00:00, 126kB/s]\n",
            "Downloading: 100%|██████████| 2.34M/2.34M [00:01<00:00, 1.92MB/s]\n",
            "Downloading: 100%|██████████| 63.6k/63.6k [00:00<00:00, 179kB/s]\n",
            "Downloading: 100%|██████████| 1.57M/1.57M [00:01<00:00, 1.50MB/s]\n",
            "2023-07-08 19:12:33,068 - modelscope - INFO - Set workdir to ./pretrain_work_dir/\n",
            "2023-07-08 19:12:33,071 - modelscope - INFO - load ./output_training_data/\n",
            "2023-07-08 19:12:33,667 - modelscope - INFO - Use user-specified model revision: v1.0.6\n",
            "2023-07-08 19:12:38,721 - modelscope - INFO - am_config=./pretrain_work_dir/orig_model/basemodel_16k/sambert/config.yaml voc_config=./pretrain_work_dir/orig_model/basemodel_16k/hifigan/config.yaml\n",
            "2023-07-08 19:12:38,722 - modelscope - INFO - audio_config=./pretrain_work_dir/orig_model/basemodel_16k/audio_config_se_16k.yaml\n",
            "2023-07-08 19:12:38,724 - modelscope - INFO - am_ckpts=OrderedDict([(2400000, './pretrain_work_dir/orig_model/basemodel_16k/sambert/ckpt/checkpoint_2400000.pth')])\n",
            "2023-07-08 19:12:38,726 - modelscope - INFO - voc_ckpts=OrderedDict([(2400000, './pretrain_work_dir/orig_model/basemodel_16k/hifigan/ckpt/checkpoint_2400000.pth')])\n",
            "2023-07-08 19:12:38,727 - modelscope - INFO - se_path=./pretrain_work_dir/orig_model/se.npy se_model_path=./pretrain_work_dir/orig_model/basemodel_16k/speaker_embedding/se.onnx\n",
            "2023-07-08 19:12:38,732 - modelscope - INFO - mvn_path=./pretrain_work_dir/orig_model/mvn.npy\n",
            "100%|██████████| 66/66 [00:00<00:00, 9661.93it/s]"
          ]
        },
        {
          "output_type": "stream",
          "name": "stdout",
          "text": [
            "TextScriptConvertor.process:\n",
            "Save script to: ./pretrain_work_dir/data/Script.xml\n",
            "TextScriptConvertor.process:\n",
            "Save metafile to: ./pretrain_work_dir/data/raw_metafile.txt\n",
            "[AudioProcessor] Initialize AudioProcessor.\n",
            "[AudioProcessor] config params:\n",
            "[AudioProcessor] wav_normalize: True\n",
            "[AudioProcessor] trim_silence: True\n",
            "[AudioProcessor] trim_silence_threshold_db: 60\n",
            "[AudioProcessor] preemphasize: False\n",
            "[AudioProcessor] sampling_rate: 16000\n",
            "[AudioProcessor] hop_length: 200\n",
            "[AudioProcessor] win_length: 1000\n",
            "[AudioProcessor] n_fft: 2048\n",
            "[AudioProcessor] n_mels: 80\n",
            "[AudioProcessor] fmin: 0.0\n",
            "[AudioProcessor] fmax: 8000.0\n",
            "[AudioProcessor] phone_level_feature: True\n",
            "[AudioProcessor] se_feature: True\n",
            "[AudioProcessor] norm_type: mean_std\n",
            "[AudioProcessor] max_norm: 1.0\n",
            "[AudioProcessor] symmetric: False\n",
            "[AudioProcessor] min_level_db: -100.0\n",
            "[AudioProcessor] ref_level_db: 20\n",
            "[AudioProcessor] num_workers: 16\n",
            "[AudioProcessor] Amplitude normalization started\n",
            "Volume statistic proceeding...\n"
          ]
        },
        {
          "output_type": "stream",
          "name": "stderr",
          "text": [
            "\n",
            "100%|██████████| 33/33 [00:00<00:00, 73.09it/s]\n"
          ]
        },
        {
          "output_type": "stream",
          "name": "stdout",
          "text": [
            "Average amplitude RMS : 0.0951531212121212\n",
            "Volume statistic done.\n",
            "Volume normalization proceeding...\n"
          ]
        },
        {
          "output_type": "stream",
          "name": "stderr",
          "text": [
            "100%|██████████| 33/33 [00:00<00:00, 2257.95it/s]"
          ]
        },
        {
          "output_type": "stream",
          "name": "stdout",
          "text": [
            "Volume normalization done.\n",
            "[AudioProcessor] Amplitude normalization finished\n",
            "[AudioProcessor] Duration generation started\n"
          ]
        },
        {
          "output_type": "stream",
          "name": "stderr",
          "text": [
            "\n",
            "  0%|          | 0/33 [00:00<?, ?it/s]"
          ]
        },
        {
          "output_type": "stream",
          "name": "stdout",
          "text": [
            "[AudioProcessor] Duration align with mel is proceeding...\n"
          ]
        },
        {
          "output_type": "stream",
          "name": "stderr",
          "text": [
            "100%|██████████| 33/33 [00:00<00:00, 38.93it/s]\n"
          ]
        },
        {
          "output_type": "stream",
          "name": "stdout",
          "text": [
            "[AudioProcessor] Duration generate finished\n",
            "[AudioProcessor] Trim silence with interval started\n",
            "[AudioProcessor] Start to load pcm from ./pretrain_work_dir/data/wav\n"
          ]
        },
        {
          "output_type": "stream",
          "name": "stderr",
          "text": [
            "100%|██████████| 33/33 [00:00<00:00, 36.17it/s]\n",
            "  0%|          | 0/33 [00:01<?, ?it/s]\n",
            "100%|██████████| 33/33 [00:00<00:00, 3177.65it/s]"
          ]
        },
        {
          "output_type": "stream",
          "name": "stdout",
          "text": [
            "[AudioProcessor] Trim silence finished\n",
            "[AudioProcessor] Melspec extraction started\n"
          ]
        },
        {
          "output_type": "stream",
          "name": "stderr",
          "text": [
            "\n",
            "100%|██████████| 33/33 [00:01<00:00, 18.97it/s]\n"
          ]
        },
        {
          "output_type": "stream",
          "name": "stdout",
          "text": [
            "[AudioProcessor] Melspec extraction finished\n",
            "Melspec statistic proceeding...\n"
          ]
        },
        {
          "output_type": "stream",
          "name": "stderr",
          "text": [
            "100%|██████████| 33/33 [00:00<00:00, 30083.03it/s]\n",
            "100%|██████████| 33/33 [00:00<00:00, 9901.43it/s]"
          ]
        },
        {
          "output_type": "stream",
          "name": "stdout",
          "text": [
            "Melspec statistic done\n",
            "[AudioProcessor] melspec mean and std saved to:\n",
            "./pretrain_work_dir/data/mel/mel_mean.txt,\n",
            "./pretrain_work_dir/data/mel/mel_std.txt\n",
            "[AudioProcessor] Melspec mean std norm is proceeding...\n",
            "[AudioProcessor] Melspec normalization finished\n",
            "[AudioProcessor] Normed Melspec saved to ./pretrain_work_dir/data/mel\n",
            "[AudioProcessor] Duration calibrating failed for test_0_7, mismatch frames -1\n",
            "[AudioProcessor] Pitch extraction started\n"
          ]
        },
        {
          "output_type": "stream",
          "name": "stderr",
          "text": [
            "\n",
            "  0%|          | 0/33 [00:00<?, ?it/s]"
          ]
        },
        {
          "output_type": "stream",
          "name": "stdout",
          "text": [
            "[AudioProcessor] Pitch align with mel is proceeding...\n"
          ]
        },
        {
          "output_type": "stream",
          "name": "stderr",
          "text": [
            "100%|██████████| 33/33 [00:01<00:00, 18.98it/s]\n"
          ]
        },
        {
          "output_type": "stream",
          "name": "stdout",
          "text": [
            "[AudioProcessor] Pitch normalization is proceeding...\n"
          ]
        },
        {
          "output_type": "stream",
          "name": "stderr",
          "text": [
            "100%|██████████| 33/33 [00:00<00:00, 48345.10it/s]\n",
            "100%|██████████| 33/33 [00:00<00:00, 25674.65it/s]"
          ]
        },
        {
          "output_type": "stream",
          "name": "stdout",
          "text": [
            "[AudioProcessor] f0 mean and std saved to:\n",
            "./pretrain_work_dir/data/f0/f0_mean.txt,\n",
            "./pretrain_work_dir/data/f0/f0_std.txt\n",
            "[AudioProcessor] Pitch mean std norm is proceeding...\n",
            "[AudioProcessor] Pitch turn to phone-level is proceeding...\n"
          ]
        },
        {
          "output_type": "stream",
          "name": "stderr",
          "text": [
            "\n",
            "100%|██████████| 33/33 [00:01<00:00, 30.91it/s]\n"
          ]
        },
        {
          "output_type": "stream",
          "name": "stdout",
          "text": [
            "[AudioProcessor] Pitch normalization finished\n",
            "[AudioProcessor] Normed f0 saved to ./pretrain_work_dir/data/f0\n",
            "[AudioProcessor] Pitch extraction finished\n",
            "[AudioProcessor] Energy extraction started\n"
          ]
        },
        {
          "output_type": "stream",
          "name": "stderr",
          "text": [
            "100%|██████████| 33/33 [00:01<00:00, 23.27it/s]\n",
            "100%|██████████| 33/33 [00:00<00:00, 38405.11it/s]\n",
            "100%|██████████| 33/33 [00:00<00:00, 24151.46it/s]"
          ]
        },
        {
          "output_type": "stream",
          "name": "stdout",
          "text": [
            "[AudioProcessor] energy mean and std saved to:\n",
            "./pretrain_work_dir/data/energy/energy_mean.txt,\n",
            "./pretrain_work_dir/data/energy/energy_std.txt\n",
            "[AudioProcessor] Energy mean std norm is proceeding...\n"
          ]
        },
        {
          "output_type": "stream",
          "name": "stderr",
          "text": [
            "\n",
            "100%|██████████| 33/33 [00:00<00:00, 37.89it/s]\n"
          ]
        },
        {
          "output_type": "stream",
          "name": "stdout",
          "text": [
            "[AudioProcessor] Energy normalization finished\n",
            "[AudioProcessor] Normed Energy saved to ./pretrain_work_dir/data/energy\n",
            "[AudioProcessor] Energy extraction finished\n",
            "[AudioProcessor] All features extracted successfully!\n",
            "Processing audio done.\n",
            "[SpeakerEmbeddingProcessor] Speaker embedding extractor started\n",
            "[SpeakerEmbeddingProcessor] se model loading error!!!\n",
            "[SpeakerEmbeddingProcessor] please update your se model to ensure that the version is greater than or equal to 1.0.5\n",
            "[SpeakerEmbeddingProcessor] try load it as se.model\n",
            "[SpeakerEmbeddingProcessor] Speaker embedding extracted successfully!\n",
            "Processing speaker embedding done.\n",
            "Processing done.\n",
            "Voc metafile generated.\n",
            "AM metafile generated.\n"
          ]
        },
        {
          "output_type": "stream",
          "name": "stderr",
          "text": [
            "2023-07-08 19:13:56,101 - modelscope - INFO - Start training....\n",
            "2023-07-08 19:13:56,103 - modelscope - INFO - Start SAMBERT training...\n",
            "2023-07-08 19:13:56,105 - modelscope - INFO - TRAIN SAMBERT....\n",
            "2023-07-08 19:13:56,120 - modelscope - INFO - TRAINING steps: 2401002\n",
            "2023-07-08 19:13:56,130 - modelscope - INFO - audio_config = {'fmax': 8000.0, 'fmin': 0.0, 'hop_length': 200, 'max_norm': 1.0, 'min_level_db': -100.0, 'n_fft': 2048, 'n_mels': 80, 'norm_type': 'mean_std', 'num_workers': 16, 'phone_level_feature': True, 'preemphasize': False, 'ref_level_db': 20, 'sampling_rate': 16000, 'symmetric': False, 'trim_silence': True, 'trim_silence_threshold_db': 60, 'wav_normalize': True, 'win_length': 1000}\n",
            "2023-07-08 19:13:56,131 - modelscope - INFO - Loss = {'MelReconLoss': {'enable': True, 'params': {'loss_type': 'mae'}}, 'ProsodyReconLoss': {'enable': True, 'params': {'loss_type': 'mae'}}}\n",
            "2023-07-08 19:13:56,134 - modelscope - INFO - Model = {'KanTtsSAMBERT': {'optimizer': {'params': {'betas': [0.9, 0.98], 'eps': 1e-09, 'lr': 0.001, 'weight_decay': 0.0}, 'type': 'Adam'}, 'params': {'MAS': False, 'NSF': True, 'SE': True, 'decoder_attention_dropout': 0.1, 'decoder_dropout': 0.1, 'decoder_ffn_inner_dim': 1024, 'decoder_num_heads': 8, 'decoder_num_layers': 12, 'decoder_num_units': 128, 'decoder_prenet_units': [256, 256], 'decoder_relu_dropout': 0.1, 'dur_pred_lstm_units': 128, 'dur_pred_prenet_units': [128, 128], 'embedding_dim': 512, 'emotion_units': 32, 'encoder_attention_dropout': 0.1, 'encoder_dropout': 0.1, 'encoder_ffn_inner_dim': 1024, 'encoder_num_heads': 8, 'encoder_num_layers': 8, 'encoder_num_units': 128, 'encoder_projection_units': 32, 'encoder_relu_dropout': 0.1, 'max_len': 800, 'nsf_f0_global_maximum': 730.0, 'nsf_f0_global_minimum': 30.0, 'nsf_norm_type': 'global', 'num_mels': 82, 'outputs_per_step': 3, 'postnet_dropout': 0.1, 'postnet_ffn_inner_dim': 512, 'postnet_filter_size': 41, 'postnet_fsmn_num_layers': 4, 'postnet_lstm_units': 128, 'postnet_num_memory_units': 256, 'postnet_shift': 17, 'predictor_dropout': 0.1, 'predictor_ffn_inner_dim': 256, 'predictor_filter_size': 41, 'predictor_fsmn_num_layers': 3, 'predictor_lstm_units': 128, 'predictor_num_memory_units': 128, 'predictor_shift': 0, 'speaker_units': 192}, 'scheduler': {'params': {'warmup_steps': 4000}, 'type': 'NoamLR'}}}\n",
            "2023-07-08 19:13:56,136 - modelscope - INFO - allow_cache = False\n",
            "2023-07-08 19:13:56,137 - modelscope - INFO - batch_size = 32\n",
            "2023-07-08 19:13:56,140 - modelscope - INFO - create_time = 2023-07-08 19:13:56\n",
            "2023-07-08 19:13:56,142 - modelscope - INFO - eval_interval_steps = 10000000000000000\n",
            "2023-07-08 19:13:56,144 - modelscope - INFO - git_revision_hash = d16755444c9baf23348213211a5ed9035458ecf0\n",
            "2023-07-08 19:13:56,145 - modelscope - INFO - grad_norm = 1.0\n",
            "2023-07-08 19:13:56,146 - modelscope - INFO - linguistic_unit = {'cleaners': 'english_cleaners', 'lfeat_type_list': 'sy,tone,syllable_flag,word_segment,emo_category,speaker_category', 'speaker_list': 'F7'}\n",
            "2023-07-08 19:13:56,149 - modelscope - INFO - log_interval_steps = 50\n",
            "2023-07-08 19:13:56,150 - modelscope - INFO - model_type = sambert\n",
            "2023-07-08 19:13:56,151 - modelscope - INFO - num_save_intermediate_results = 4\n",
            "2023-07-08 19:13:56,153 - modelscope - INFO - num_workers = 4\n",
            "2023-07-08 19:13:56,154 - modelscope - INFO - pin_memory = False\n",
            "2023-07-08 19:13:56,155 - modelscope - INFO - remove_short_samples = False\n",
            "2023-07-08 19:13:56,159 - modelscope - INFO - save_interval_steps = 1000\n",
            "2023-07-08 19:13:56,160 - modelscope - INFO - train_max_steps = 2401002\n",
            "2023-07-08 19:13:56,161 - modelscope - INFO - train_steps = 1002\n",
            "2023-07-08 19:13:56,164 - modelscope - INFO - log_interval = 10\n",
            "2023-07-08 19:13:56,166 - modelscope - INFO - modelscope_version = 1.7.1\n"
          ]
        },
        {
          "output_type": "stream",
          "name": "stdout",
          "text": [
            "Loading metafile...\n"
          ]
        },
        {
          "output_type": "stream",
          "name": "stderr",
          "text": [
            "100%|██████████| 31/31 [00:00<00:00, 20224.52it/s]"
          ]
        },
        {
          "output_type": "stream",
          "name": "stdout",
          "text": [
            "Loading metafile...\n"
          ]
        },
        {
          "output_type": "stream",
          "name": "stderr",
          "text": [
            "\n",
            "100%|██████████| 1/1 [00:00<00:00, 6647.07it/s]\n",
            "2023-07-08 19:13:56,189 - modelscope - INFO - The number of training files = 31.\n",
            "2023-07-08 19:13:56,190 - modelscope - INFO - The number of validation files = 1.\n",
            "2023-07-08 19:13:57,203 - modelscope - INFO - Successfully resumed from ./pretrain_work_dir/orig_model/basemodel_16k/sambert/ckpt/checkpoint_2400000.pth.\n",
            "  0%|          | 0/1 [00:00<?, ?it/s]"
          ]
        },
        {
          "output_type": "stream",
          "name": "stdout",
          "text": [
            "Checkpoint saved at step 2400000\n",
            "(Steps: 2400000) train/TotalLoss = 0.0379.\n",
            "(Steps: 2400000) train/mel_loss_ = 0.0087.\n",
            "(Steps: 2400000) train/mel_loss = 0.0076.\n",
            "(Steps: 2400000) train/dur_loss = 0.0071.\n",
            "(Steps: 2400000) train/pitch_loss = 0.0046.\n",
            "(Steps: 2400000) train/energy_loss = 0.0100.\n",
            "(Steps: 2400000) train/batch_size = 0.6200.\n",
            "(Steps: 2400000) train/x_band_width = 0.2400.\n",
            "(Steps: 2400000) train/h_band_width = 0.2400.\n",
            "KanTtsSAMBERT learning rate: 0.000082\n"
          ]
        },
        {
          "output_type": "stream",
          "name": "stderr",
          "text": [
            "100%|██████████| 1/1 [00:04<00:00,  4.60s/it]"
          ]
        },
        {
          "output_type": "stream",
          "name": "stdout",
          "text": [
            "Epoch 0 finished\n"
          ]
        },
        {
          "output_type": "stream",
          "name": "stderr",
          "text": [
            "\n",
            "100%|██████████| 1/1 [00:00<00:00,  1.45it/s]"
          ]
        },
        {
          "output_type": "stream",
          "name": "stdout",
          "text": [
            "Epoch 1 finished\n"
          ]
        },
        {
          "output_type": "stream",
          "name": "stderr",
          "text": [
            "\n",
            "100%|██████████| 1/1 [00:00<00:00,  1.51it/s]"
          ]
        },
        {
          "output_type": "stream",
          "name": "stdout",
          "text": [
            "Epoch 2 finished\n"
          ]
        },
        {
          "output_type": "stream",
          "name": "stderr",
          "text": [
            "\n",
            "100%|██████████| 1/1 [00:00<00:00,  1.55it/s]"
          ]
        },
        {
          "output_type": "stream",
          "name": "stdout",
          "text": [
            "Epoch 3 finished\n"
          ]
        },
        {
          "output_type": "stream",
          "name": "stderr",
          "text": [
            "\n",
            "100%|██████████| 1/1 [00:00<00:00,  1.53it/s]"
          ]
        },
        {
          "output_type": "stream",
          "name": "stdout",
          "text": [
            "Epoch 4 finished\n"
          ]
        },
        {
          "output_type": "stream",
          "name": "stderr",
          "text": [
            "\n",
            "100%|██████████| 1/1 [00:00<00:00,  1.52it/s]"
          ]
        },
        {
          "output_type": "stream",
          "name": "stdout",
          "text": [
            "Epoch 5 finished\n"
          ]
        },
        {
          "output_type": "stream",
          "name": "stderr",
          "text": [
            "\n",
            "100%|██████████| 1/1 [00:00<00:00,  1.52it/s]"
          ]
        },
        {
          "output_type": "stream",
          "name": "stdout",
          "text": [
            "Epoch 6 finished\n"
          ]
        },
        {
          "output_type": "stream",
          "name": "stderr",
          "text": [
            "\n",
            "100%|██████████| 1/1 [00:00<00:00,  1.56it/s]"
          ]
        },
        {
          "output_type": "stream",
          "name": "stdout",
          "text": [
            "Epoch 7 finished\n"
          ]
        },
        {
          "output_type": "stream",
          "name": "stderr",
          "text": [
            "\n",
            "100%|██████████| 1/1 [00:00<00:00,  1.52it/s]"
          ]
        },
        {
          "output_type": "stream",
          "name": "stdout",
          "text": [
            "Epoch 8 finished\n"
          ]
        },
        {
          "output_type": "stream",
          "name": "stderr",
          "text": [
            "\n",
            "100%|██████████| 1/1 [00:00<00:00,  1.55it/s]"
          ]
        },
        {
          "output_type": "stream",
          "name": "stdout",
          "text": [
            "Epoch 9 finished\n"
          ]
        },
        {
          "output_type": "stream",
          "name": "stderr",
          "text": [
            "\n",
            "  0%|          | 0/1 [00:00<?, ?it/s]"
          ]
        },
        {
          "output_type": "stream",
          "name": "stdout",
          "text": [
            "(Steps: 2400010) train/TotalLoss = 0.3571.\n",
            "(Steps: 2400010) train/mel_loss_ = 0.0824.\n",
            "(Steps: 2400010) train/mel_loss = 0.0678.\n",
            "(Steps: 2400010) train/dur_loss = 0.0665.\n",
            "(Steps: 2400010) train/pitch_loss = 0.0441.\n",
            "(Steps: 2400010) train/energy_loss = 0.0963.\n",
            "(Steps: 2400010) train/batch_size = 6.2000.\n",
            "(Steps: 2400010) train/x_band_width = 2.4000.\n",
            "(Steps: 2400010) train/h_band_width = 2.4000.\n",
            "KanTtsSAMBERT learning rate: 0.000082\n"
          ]
        },
        {
          "output_type": "stream",
          "name": "stderr",
          "text": [
            "100%|██████████| 1/1 [00:00<00:00,  1.45it/s]"
          ]
        },
        {
          "output_type": "stream",
          "name": "stdout",
          "text": [
            "Epoch 10 finished\n"
          ]
        },
        {
          "output_type": "stream",
          "name": "stderr",
          "text": [
            "\n",
            "100%|██████████| 1/1 [00:00<00:00,  1.56it/s]"
          ]
        },
        {
          "output_type": "stream",
          "name": "stdout",
          "text": [
            "Epoch 11 finished\n"
          ]
        },
        {
          "output_type": "stream",
          "name": "stderr",
          "text": [
            "\n",
            "100%|██████████| 1/1 [00:00<00:00,  1.41it/s]"
          ]
        },
        {
          "output_type": "stream",
          "name": "stdout",
          "text": [
            "Epoch 12 finished\n"
          ]
        },
        {
          "output_type": "stream",
          "name": "stderr",
          "text": [
            "\n",
            "100%|██████████| 1/1 [00:00<00:00,  1.25it/s]"
          ]
        },
        {
          "output_type": "stream",
          "name": "stdout",
          "text": [
            "Epoch 13 finished\n"
          ]
        },
        {
          "output_type": "stream",
          "name": "stderr",
          "text": [
            "\n",
            "100%|██████████| 1/1 [00:00<00:00,  1.16it/s]"
          ]
        },
        {
          "output_type": "stream",
          "name": "stdout",
          "text": [
            "Epoch 14 finished\n"
          ]
        },
        {
          "output_type": "stream",
          "name": "stderr",
          "text": [
            "\n",
            "100%|██████████| 1/1 [00:00<00:00,  1.40it/s]"
          ]
        },
        {
          "output_type": "stream",
          "name": "stdout",
          "text": [
            "Epoch 15 finished\n"
          ]
        },
        {
          "output_type": "stream",
          "name": "stderr",
          "text": [
            "\n",
            "100%|██████████| 1/1 [00:00<00:00,  1.38it/s]"
          ]
        },
        {
          "output_type": "stream",
          "name": "stdout",
          "text": [
            "Epoch 16 finished\n"
          ]
        },
        {
          "output_type": "stream",
          "name": "stderr",
          "text": [
            "\n",
            "100%|██████████| 1/1 [00:00<00:00,  1.46it/s]"
          ]
        },
        {
          "output_type": "stream",
          "name": "stdout",
          "text": [
            "Epoch 17 finished\n"
          ]
        },
        {
          "output_type": "stream",
          "name": "stderr",
          "text": [
            "\n",
            "100%|██████████| 1/1 [00:00<00:00,  1.44it/s]"
          ]
        },
        {
          "output_type": "stream",
          "name": "stdout",
          "text": [
            "Epoch 18 finished\n"
          ]
        },
        {
          "output_type": "stream",
          "name": "stderr",
          "text": [
            "\n",
            "100%|██████████| 1/1 [00:00<00:00,  1.39it/s]"
          ]
        },
        {
          "output_type": "stream",
          "name": "stdout",
          "text": [
            "Epoch 19 finished\n"
          ]
        },
        {
          "output_type": "stream",
          "name": "stderr",
          "text": [
            "\n",
            "  0%|          | 0/1 [00:00<?, ?it/s]"
          ]
        },
        {
          "output_type": "stream",
          "name": "stdout",
          "text": [
            "(Steps: 2400020) train/TotalLoss = 0.3251.\n",
            "(Steps: 2400020) train/mel_loss_ = 0.0749.\n",
            "(Steps: 2400020) train/mel_loss = 0.0592.\n",
            "(Steps: 2400020) train/dur_loss = 0.0566.\n",
            "(Steps: 2400020) train/pitch_loss = 0.0415.\n",
            "(Steps: 2400020) train/energy_loss = 0.0929.\n",
            "(Steps: 2400020) train/batch_size = 6.2000.\n",
            "(Steps: 2400020) train/x_band_width = 2.4000.\n",
            "(Steps: 2400020) train/h_band_width = 2.4000.\n",
            "KanTtsSAMBERT learning rate: 0.000082\n"
          ]
        },
        {
          "output_type": "stream",
          "name": "stderr",
          "text": [
            "100%|██████████| 1/1 [00:00<00:00,  1.37it/s]"
          ]
        },
        {
          "output_type": "stream",
          "name": "stdout",
          "text": [
            "Epoch 20 finished\n"
          ]
        },
        {
          "output_type": "stream",
          "name": "stderr",
          "text": [
            "\n",
            "100%|██████████| 1/1 [00:00<00:00,  1.38it/s]"
          ]
        },
        {
          "output_type": "stream",
          "name": "stdout",
          "text": [
            "Epoch 21 finished\n"
          ]
        },
        {
          "output_type": "stream",
          "name": "stderr",
          "text": [
            "\n",
            "100%|██████████| 1/1 [00:00<00:00,  1.39it/s]"
          ]
        },
        {
          "output_type": "stream",
          "name": "stdout",
          "text": [
            "Epoch 22 finished\n"
          ]
        },
        {
          "output_type": "stream",
          "name": "stderr",
          "text": [
            "\n",
            "100%|██████████| 1/1 [00:00<00:00,  1.55it/s]"
          ]
        },
        {
          "output_type": "stream",
          "name": "stdout",
          "text": [
            "Epoch 23 finished\n"
          ]
        },
        {
          "output_type": "stream",
          "name": "stderr",
          "text": [
            "\n",
            "100%|██████████| 1/1 [00:00<00:00,  1.57it/s]"
          ]
        },
        {
          "output_type": "stream",
          "name": "stdout",
          "text": [
            "Epoch 24 finished\n"
          ]
        },
        {
          "output_type": "stream",
          "name": "stderr",
          "text": [
            "\n",
            "100%|██████████| 1/1 [00:00<00:00,  1.54it/s]"
          ]
        },
        {
          "output_type": "stream",
          "name": "stdout",
          "text": [
            "Epoch 25 finished\n"
          ]
        },
        {
          "output_type": "stream",
          "name": "stderr",
          "text": [
            "\n",
            "100%|██████████| 1/1 [00:00<00:00,  1.58it/s]"
          ]
        },
        {
          "output_type": "stream",
          "name": "stdout",
          "text": [
            "Epoch 26 finished\n"
          ]
        },
        {
          "output_type": "stream",
          "name": "stderr",
          "text": [
            "\n",
            "100%|██████████| 1/1 [00:00<00:00,  1.57it/s]"
          ]
        },
        {
          "output_type": "stream",
          "name": "stdout",
          "text": [
            "Epoch 27 finished\n"
          ]
        },
        {
          "output_type": "stream",
          "name": "stderr",
          "text": [
            "\n",
            "100%|██████████| 1/1 [00:00<00:00,  1.53it/s]"
          ]
        },
        {
          "output_type": "stream",
          "name": "stdout",
          "text": [
            "Epoch 28 finished\n"
          ]
        },
        {
          "output_type": "stream",
          "name": "stderr",
          "text": [
            "\n",
            "100%|██████████| 1/1 [00:00<00:00,  1.58it/s]"
          ]
        },
        {
          "output_type": "stream",
          "name": "stdout",
          "text": [
            "Epoch 29 finished\n"
          ]
        },
        {
          "output_type": "stream",
          "name": "stderr",
          "text": [
            "\n",
            "  0%|          | 0/1 [00:00<?, ?it/s]"
          ]
        },
        {
          "output_type": "stream",
          "name": "stdout",
          "text": [
            "(Steps: 2400030) train/TotalLoss = 0.3045.\n",
            "(Steps: 2400030) train/mel_loss_ = 0.0708.\n",
            "(Steps: 2400030) train/mel_loss = 0.0549.\n",
            "(Steps: 2400030) train/dur_loss = 0.0493.\n",
            "(Steps: 2400030) train/pitch_loss = 0.0391.\n",
            "(Steps: 2400030) train/energy_loss = 0.0903.\n",
            "(Steps: 2400030) train/batch_size = 6.2000.\n",
            "(Steps: 2400030) train/x_band_width = 2.4000.\n",
            "(Steps: 2400030) train/h_band_width = 2.4000.\n",
            "KanTtsSAMBERT learning rate: 0.000082\n"
          ]
        },
        {
          "output_type": "stream",
          "name": "stderr",
          "text": [
            "100%|██████████| 1/1 [00:00<00:00,  1.52it/s]"
          ]
        },
        {
          "output_type": "stream",
          "name": "stdout",
          "text": [
            "Epoch 30 finished\n"
          ]
        },
        {
          "output_type": "stream",
          "name": "stderr",
          "text": [
            "\n",
            "100%|██████████| 1/1 [00:00<00:00,  1.52it/s]"
          ]
        },
        {
          "output_type": "stream",
          "name": "stdout",
          "text": [
            "Epoch 31 finished\n"
          ]
        },
        {
          "output_type": "stream",
          "name": "stderr",
          "text": [
            "\n",
            "100%|██████████| 1/1 [00:00<00:00,  1.55it/s]"
          ]
        },
        {
          "output_type": "stream",
          "name": "stdout",
          "text": [
            "Epoch 32 finished\n"
          ]
        },
        {
          "output_type": "stream",
          "name": "stderr",
          "text": [
            "\n",
            "100%|██████████| 1/1 [00:00<00:00,  1.59it/s]"
          ]
        },
        {
          "output_type": "stream",
          "name": "stdout",
          "text": [
            "Epoch 33 finished\n"
          ]
        },
        {
          "output_type": "stream",
          "name": "stderr",
          "text": [
            "\n",
            "100%|██████████| 1/1 [00:00<00:00,  1.58it/s]"
          ]
        },
        {
          "output_type": "stream",
          "name": "stdout",
          "text": [
            "Epoch 34 finished\n"
          ]
        },
        {
          "output_type": "stream",
          "name": "stderr",
          "text": [
            "\n",
            "100%|██████████| 1/1 [00:00<00:00,  1.59it/s]"
          ]
        },
        {
          "output_type": "stream",
          "name": "stdout",
          "text": [
            "Epoch 35 finished\n"
          ]
        },
        {
          "output_type": "stream",
          "name": "stderr",
          "text": [
            "\n",
            "100%|██████████| 1/1 [00:00<00:00,  1.59it/s]"
          ]
        },
        {
          "output_type": "stream",
          "name": "stdout",
          "text": [
            "Epoch 36 finished\n"
          ]
        },
        {
          "output_type": "stream",
          "name": "stderr",
          "text": [
            "\n",
            "100%|██████████| 1/1 [00:00<00:00,  1.60it/s]"
          ]
        },
        {
          "output_type": "stream",
          "name": "stdout",
          "text": [
            "Epoch 37 finished\n"
          ]
        },
        {
          "output_type": "stream",
          "name": "stderr",
          "text": [
            "\n",
            "100%|██████████| 1/1 [00:00<00:00,  1.50it/s]"
          ]
        },
        {
          "output_type": "stream",
          "name": "stdout",
          "text": [
            "Epoch 38 finished\n"
          ]
        },
        {
          "output_type": "stream",
          "name": "stderr",
          "text": [
            "\n",
            "100%|██████████| 1/1 [00:00<00:00,  1.34it/s]"
          ]
        },
        {
          "output_type": "stream",
          "name": "stdout",
          "text": [
            "Epoch 39 finished\n"
          ]
        },
        {
          "output_type": "stream",
          "name": "stderr",
          "text": [
            "\n",
            "  0%|          | 0/1 [00:00<?, ?it/s]"
          ]
        },
        {
          "output_type": "stream",
          "name": "stdout",
          "text": [
            "(Steps: 2400040) train/TotalLoss = 0.2892.\n",
            "(Steps: 2400040) train/mel_loss_ = 0.0680.\n",
            "(Steps: 2400040) train/mel_loss = 0.0523.\n",
            "(Steps: 2400040) train/dur_loss = 0.0446.\n",
            "(Steps: 2400040) train/pitch_loss = 0.0369.\n",
            "(Steps: 2400040) train/energy_loss = 0.0872.\n",
            "(Steps: 2400040) train/batch_size = 6.2000.\n",
            "(Steps: 2400040) train/x_band_width = 2.4000.\n",
            "(Steps: 2400040) train/h_band_width = 2.4000.\n",
            "KanTtsSAMBERT learning rate: 0.000082\n"
          ]
        },
        {
          "output_type": "stream",
          "name": "stderr",
          "text": [
            "100%|██████████| 1/1 [00:00<00:00,  1.37it/s]"
          ]
        },
        {
          "output_type": "stream",
          "name": "stdout",
          "text": [
            "Epoch 40 finished\n"
          ]
        },
        {
          "output_type": "stream",
          "name": "stderr",
          "text": [
            "\n",
            "100%|██████████| 1/1 [00:00<00:00,  1.42it/s]"
          ]
        },
        {
          "output_type": "stream",
          "name": "stdout",
          "text": [
            "Epoch 41 finished\n"
          ]
        },
        {
          "output_type": "stream",
          "name": "stderr",
          "text": [
            "\n",
            "100%|██████████| 1/1 [00:00<00:00,  1.42it/s]"
          ]
        },
        {
          "output_type": "stream",
          "name": "stdout",
          "text": [
            "Epoch 42 finished\n"
          ]
        },
        {
          "output_type": "stream",
          "name": "stderr",
          "text": [
            "\n",
            "100%|██████████| 1/1 [00:00<00:00,  1.42it/s]"
          ]
        },
        {
          "output_type": "stream",
          "name": "stdout",
          "text": [
            "Epoch 43 finished\n"
          ]
        },
        {
          "output_type": "stream",
          "name": "stderr",
          "text": [
            "\n",
            "100%|██████████| 1/1 [00:00<00:00,  1.32it/s]"
          ]
        },
        {
          "output_type": "stream",
          "name": "stdout",
          "text": [
            "Epoch 44 finished\n"
          ]
        },
        {
          "output_type": "stream",
          "name": "stderr",
          "text": [
            "\n",
            "100%|██████████| 1/1 [00:00<00:00,  1.41it/s]"
          ]
        },
        {
          "output_type": "stream",
          "name": "stdout",
          "text": [
            "Epoch 45 finished\n"
          ]
        },
        {
          "output_type": "stream",
          "name": "stderr",
          "text": [
            "\n",
            "100%|██████████| 1/1 [00:00<00:00,  1.39it/s]"
          ]
        },
        {
          "output_type": "stream",
          "name": "stdout",
          "text": [
            "Epoch 46 finished\n"
          ]
        },
        {
          "output_type": "stream",
          "name": "stderr",
          "text": [
            "\n",
            "100%|██████████| 1/1 [00:00<00:00,  1.44it/s]"
          ]
        },
        {
          "output_type": "stream",
          "name": "stdout",
          "text": [
            "Epoch 47 finished\n"
          ]
        },
        {
          "output_type": "stream",
          "name": "stderr",
          "text": [
            "\n",
            "100%|██████████| 1/1 [00:00<00:00,  1.50it/s]"
          ]
        },
        {
          "output_type": "stream",
          "name": "stdout",
          "text": [
            "Epoch 48 finished\n"
          ]
        },
        {
          "output_type": "stream",
          "name": "stderr",
          "text": [
            "\n",
            "100%|██████████| 1/1 [00:00<00:00,  1.56it/s]"
          ]
        },
        {
          "output_type": "stream",
          "name": "stdout",
          "text": [
            "Epoch 49 finished\n"
          ]
        },
        {
          "output_type": "stream",
          "name": "stderr",
          "text": [
            "\n",
            "  0%|          | 0/1 [00:00<?, ?it/s]"
          ]
        },
        {
          "output_type": "stream",
          "name": "stdout",
          "text": [
            "(Steps: 2400050) train/TotalLoss = 0.2783.\n",
            "(Steps: 2400050) train/mel_loss_ = 0.0668.\n",
            "(Steps: 2400050) train/mel_loss = 0.0509.\n",
            "(Steps: 2400050) train/dur_loss = 0.0407.\n",
            "(Steps: 2400050) train/pitch_loss = 0.0351.\n",
            "(Steps: 2400050) train/energy_loss = 0.0849.\n",
            "(Steps: 2400050) train/batch_size = 6.2000.\n",
            "(Steps: 2400050) train/x_band_width = 2.4000.\n",
            "(Steps: 2400050) train/h_band_width = 2.4000.\n",
            "KanTtsSAMBERT learning rate: 0.000082\n"
          ]
        },
        {
          "output_type": "stream",
          "name": "stderr",
          "text": [
            "100%|██████████| 1/1 [00:00<00:00,  1.53it/s]"
          ]
        },
        {
          "output_type": "stream",
          "name": "stdout",
          "text": [
            "Epoch 50 finished\n"
          ]
        },
        {
          "output_type": "stream",
          "name": "stderr",
          "text": [
            "\n",
            "100%|██████████| 1/1 [00:00<00:00,  1.54it/s]"
          ]
        },
        {
          "output_type": "stream",
          "name": "stdout",
          "text": [
            "Epoch 51 finished\n"
          ]
        },
        {
          "output_type": "stream",
          "name": "stderr",
          "text": [
            "\n",
            "100%|██████████| 1/1 [00:00<00:00,  1.59it/s]"
          ]
        },
        {
          "output_type": "stream",
          "name": "stdout",
          "text": [
            "Epoch 52 finished\n"
          ]
        },
        {
          "output_type": "stream",
          "name": "stderr",
          "text": [
            "\n",
            "100%|██████████| 1/1 [00:00<00:00,  1.54it/s]"
          ]
        },
        {
          "output_type": "stream",
          "name": "stdout",
          "text": [
            "Epoch 53 finished\n"
          ]
        },
        {
          "output_type": "stream",
          "name": "stderr",
          "text": [
            "\n",
            "100%|██████████| 1/1 [00:00<00:00,  1.56it/s]"
          ]
        },
        {
          "output_type": "stream",
          "name": "stdout",
          "text": [
            "Epoch 54 finished\n"
          ]
        },
        {
          "output_type": "stream",
          "name": "stderr",
          "text": [
            "\n",
            "100%|██████████| 1/1 [00:00<00:00,  1.56it/s]"
          ]
        },
        {
          "output_type": "stream",
          "name": "stdout",
          "text": [
            "Epoch 55 finished\n"
          ]
        },
        {
          "output_type": "stream",
          "name": "stderr",
          "text": [
            "\n",
            "100%|██████████| 1/1 [00:00<00:00,  1.58it/s]"
          ]
        },
        {
          "output_type": "stream",
          "name": "stdout",
          "text": [
            "Epoch 56 finished\n"
          ]
        },
        {
          "output_type": "stream",
          "name": "stderr",
          "text": [
            "\n",
            "100%|██████████| 1/1 [00:00<00:00,  1.56it/s]"
          ]
        },
        {
          "output_type": "stream",
          "name": "stdout",
          "text": [
            "Epoch 57 finished\n"
          ]
        },
        {
          "output_type": "stream",
          "name": "stderr",
          "text": [
            "\n",
            "100%|██████████| 1/1 [00:00<00:00,  1.58it/s]"
          ]
        },
        {
          "output_type": "stream",
          "name": "stdout",
          "text": [
            "Epoch 58 finished\n"
          ]
        },
        {
          "output_type": "stream",
          "name": "stderr",
          "text": [
            "\n",
            "100%|██████████| 1/1 [00:01<00:00,  1.29s/it]"
          ]
        },
        {
          "output_type": "stream",
          "name": "stdout",
          "text": [
            "Epoch 59 finished\n"
          ]
        },
        {
          "output_type": "stream",
          "name": "stderr",
          "text": [
            "\n",
            "  0%|          | 0/1 [00:00<?, ?it/s]"
          ]
        },
        {
          "output_type": "stream",
          "name": "stdout",
          "text": [
            "(Steps: 2400060) train/TotalLoss = 0.2690.\n",
            "(Steps: 2400060) train/mel_loss_ = 0.0652.\n",
            "(Steps: 2400060) train/mel_loss = 0.0495.\n",
            "(Steps: 2400060) train/dur_loss = 0.0377.\n",
            "(Steps: 2400060) train/pitch_loss = 0.0337.\n",
            "(Steps: 2400060) train/energy_loss = 0.0829.\n",
            "(Steps: 2400060) train/batch_size = 6.2000.\n",
            "(Steps: 2400060) train/x_band_width = 2.4000.\n",
            "(Steps: 2400060) train/h_band_width = 2.4000.\n",
            "KanTtsSAMBERT learning rate: 0.000082\n"
          ]
        },
        {
          "output_type": "stream",
          "name": "stderr",
          "text": [
            "100%|██████████| 1/1 [00:00<00:00,  1.50it/s]"
          ]
        },
        {
          "output_type": "stream",
          "name": "stdout",
          "text": [
            "Epoch 60 finished\n"
          ]
        },
        {
          "output_type": "stream",
          "name": "stderr",
          "text": [
            "\n",
            "100%|██████████| 1/1 [00:00<00:00,  1.56it/s]"
          ]
        },
        {
          "output_type": "stream",
          "name": "stdout",
          "text": [
            "Epoch 61 finished\n"
          ]
        },
        {
          "output_type": "stream",
          "name": "stderr",
          "text": [
            "\n",
            "100%|██████████| 1/1 [00:00<00:00,  1.51it/s]"
          ]
        },
        {
          "output_type": "stream",
          "name": "stdout",
          "text": [
            "Epoch 62 finished\n"
          ]
        },
        {
          "output_type": "stream",
          "name": "stderr",
          "text": [
            "\n",
            "100%|██████████| 1/1 [00:00<00:00,  1.34it/s]"
          ]
        },
        {
          "output_type": "stream",
          "name": "stdout",
          "text": [
            "Epoch 63 finished\n"
          ]
        },
        {
          "output_type": "stream",
          "name": "stderr",
          "text": [
            "\n",
            "100%|██████████| 1/1 [00:00<00:00,  1.37it/s]"
          ]
        },
        {
          "output_type": "stream",
          "name": "stdout",
          "text": [
            "Epoch 64 finished\n"
          ]
        },
        {
          "output_type": "stream",
          "name": "stderr",
          "text": [
            "\n",
            "100%|██████████| 1/1 [00:00<00:00,  1.45it/s]"
          ]
        },
        {
          "output_type": "stream",
          "name": "stdout",
          "text": [
            "Epoch 65 finished\n"
          ]
        },
        {
          "output_type": "stream",
          "name": "stderr",
          "text": [
            "\n",
            "100%|██████████| 1/1 [00:00<00:00,  1.46it/s]"
          ]
        },
        {
          "output_type": "stream",
          "name": "stdout",
          "text": [
            "Epoch 66 finished\n"
          ]
        },
        {
          "output_type": "stream",
          "name": "stderr",
          "text": [
            "\n",
            "100%|██████████| 1/1 [00:00<00:00,  1.48it/s]"
          ]
        },
        {
          "output_type": "stream",
          "name": "stdout",
          "text": [
            "Epoch 67 finished\n"
          ]
        },
        {
          "output_type": "stream",
          "name": "stderr",
          "text": [
            "\n",
            "100%|██████████| 1/1 [00:00<00:00,  1.42it/s]"
          ]
        },
        {
          "output_type": "stream",
          "name": "stdout",
          "text": [
            "Epoch 68 finished\n"
          ]
        },
        {
          "output_type": "stream",
          "name": "stderr",
          "text": [
            "\n",
            "100%|██████████| 1/1 [00:00<00:00,  1.44it/s]"
          ]
        },
        {
          "output_type": "stream",
          "name": "stdout",
          "text": [
            "Epoch 69 finished\n"
          ]
        },
        {
          "output_type": "stream",
          "name": "stderr",
          "text": [
            "\n",
            "  0%|          | 0/1 [00:00<?, ?it/s]"
          ]
        },
        {
          "output_type": "stream",
          "name": "stdout",
          "text": [
            "(Steps: 2400070) train/TotalLoss = 0.2620.\n",
            "(Steps: 2400070) train/mel_loss_ = 0.0645.\n",
            "(Steps: 2400070) train/mel_loss = 0.0487.\n",
            "(Steps: 2400070) train/dur_loss = 0.0355.\n",
            "(Steps: 2400070) train/pitch_loss = 0.0325.\n",
            "(Steps: 2400070) train/energy_loss = 0.0807.\n",
            "(Steps: 2400070) train/batch_size = 6.2000.\n",
            "(Steps: 2400070) train/x_band_width = 2.4000.\n",
            "(Steps: 2400070) train/h_band_width = 2.4000.\n",
            "KanTtsSAMBERT learning rate: 0.000082\n"
          ]
        },
        {
          "output_type": "stream",
          "name": "stderr",
          "text": [
            "100%|██████████| 1/1 [00:00<00:00,  1.36it/s]"
          ]
        },
        {
          "output_type": "stream",
          "name": "stdout",
          "text": [
            "Epoch 70 finished\n"
          ]
        },
        {
          "output_type": "stream",
          "name": "stderr",
          "text": [
            "\n",
            "100%|██████████| 1/1 [00:00<00:00,  1.44it/s]"
          ]
        },
        {
          "output_type": "stream",
          "name": "stdout",
          "text": [
            "Epoch 71 finished\n"
          ]
        },
        {
          "output_type": "stream",
          "name": "stderr",
          "text": [
            "\n",
            "100%|██████████| 1/1 [00:00<00:00,  1.51it/s]"
          ]
        },
        {
          "output_type": "stream",
          "name": "stdout",
          "text": [
            "Epoch 72 finished\n"
          ]
        },
        {
          "output_type": "stream",
          "name": "stderr",
          "text": [
            "\n",
            "100%|██████████| 1/1 [00:00<00:00,  1.59it/s]"
          ]
        },
        {
          "output_type": "stream",
          "name": "stdout",
          "text": [
            "Epoch 73 finished\n"
          ]
        },
        {
          "output_type": "stream",
          "name": "stderr",
          "text": [
            "\n",
            "100%|██████████| 1/1 [00:00<00:00,  1.60it/s]"
          ]
        },
        {
          "output_type": "stream",
          "name": "stdout",
          "text": [
            "Epoch 74 finished\n"
          ]
        },
        {
          "output_type": "stream",
          "name": "stderr",
          "text": [
            "\n",
            "100%|██████████| 1/1 [00:00<00:00,  1.55it/s]"
          ]
        },
        {
          "output_type": "stream",
          "name": "stdout",
          "text": [
            "Epoch 75 finished\n"
          ]
        },
        {
          "output_type": "stream",
          "name": "stderr",
          "text": [
            "\n",
            "100%|██████████| 1/1 [00:00<00:00,  1.58it/s]"
          ]
        },
        {
          "output_type": "stream",
          "name": "stdout",
          "text": [
            "Epoch 76 finished\n"
          ]
        },
        {
          "output_type": "stream",
          "name": "stderr",
          "text": [
            "\n",
            "100%|██████████| 1/1 [00:00<00:00,  1.57it/s]"
          ]
        },
        {
          "output_type": "stream",
          "name": "stdout",
          "text": [
            "Epoch 77 finished\n"
          ]
        },
        {
          "output_type": "stream",
          "name": "stderr",
          "text": [
            "\n",
            "100%|██████████| 1/1 [00:00<00:00,  1.60it/s]"
          ]
        },
        {
          "output_type": "stream",
          "name": "stdout",
          "text": [
            "Epoch 78 finished\n"
          ]
        },
        {
          "output_type": "stream",
          "name": "stderr",
          "text": [
            "\n",
            "100%|██████████| 1/1 [00:00<00:00,  1.56it/s]"
          ]
        },
        {
          "output_type": "stream",
          "name": "stdout",
          "text": [
            "Epoch 79 finished\n"
          ]
        },
        {
          "output_type": "stream",
          "name": "stderr",
          "text": [
            "\n",
            "  0%|          | 0/1 [00:00<?, ?it/s]"
          ]
        },
        {
          "output_type": "stream",
          "name": "stdout",
          "text": [
            "(Steps: 2400080) train/TotalLoss = 0.2541.\n",
            "(Steps: 2400080) train/mel_loss_ = 0.0630.\n",
            "(Steps: 2400080) train/mel_loss = 0.0476.\n",
            "(Steps: 2400080) train/dur_loss = 0.0335.\n",
            "(Steps: 2400080) train/pitch_loss = 0.0310.\n",
            "(Steps: 2400080) train/energy_loss = 0.0789.\n",
            "(Steps: 2400080) train/batch_size = 6.2000.\n",
            "(Steps: 2400080) train/x_band_width = 2.4000.\n",
            "(Steps: 2400080) train/h_band_width = 2.4000.\n",
            "KanTtsSAMBERT learning rate: 0.000082\n"
          ]
        },
        {
          "output_type": "stream",
          "name": "stderr",
          "text": [
            "100%|██████████| 1/1 [00:00<00:00,  1.49it/s]"
          ]
        },
        {
          "output_type": "stream",
          "name": "stdout",
          "text": [
            "Epoch 80 finished\n"
          ]
        },
        {
          "output_type": "stream",
          "name": "stderr",
          "text": [
            "\n",
            "100%|██████████| 1/1 [00:00<00:00,  1.56it/s]"
          ]
        },
        {
          "output_type": "stream",
          "name": "stdout",
          "text": [
            "Epoch 81 finished\n"
          ]
        },
        {
          "output_type": "stream",
          "name": "stderr",
          "text": [
            "\n",
            "100%|██████████| 1/1 [00:00<00:00,  1.54it/s]"
          ]
        },
        {
          "output_type": "stream",
          "name": "stdout",
          "text": [
            "Epoch 82 finished\n"
          ]
        },
        {
          "output_type": "stream",
          "name": "stderr",
          "text": [
            "\n",
            "100%|██████████| 1/1 [00:00<00:00,  1.57it/s]"
          ]
        },
        {
          "output_type": "stream",
          "name": "stdout",
          "text": [
            "Epoch 83 finished\n"
          ]
        },
        {
          "output_type": "stream",
          "name": "stderr",
          "text": [
            "\n",
            "100%|██████████| 1/1 [00:00<00:00,  1.60it/s]"
          ]
        },
        {
          "output_type": "stream",
          "name": "stdout",
          "text": [
            "Epoch 84 finished\n"
          ]
        },
        {
          "output_type": "stream",
          "name": "stderr",
          "text": [
            "\n",
            "100%|██████████| 1/1 [00:00<00:00,  1.57it/s]"
          ]
        },
        {
          "output_type": "stream",
          "name": "stdout",
          "text": [
            "Epoch 85 finished\n"
          ]
        },
        {
          "output_type": "stream",
          "name": "stderr",
          "text": [
            "\n",
            "100%|██████████| 1/1 [00:00<00:00,  1.58it/s]"
          ]
        },
        {
          "output_type": "stream",
          "name": "stdout",
          "text": [
            "Epoch 86 finished\n"
          ]
        },
        {
          "output_type": "stream",
          "name": "stderr",
          "text": [
            "\n",
            "100%|██████████| 1/1 [00:00<00:00,  1.47it/s]"
          ]
        },
        {
          "output_type": "stream",
          "name": "stdout",
          "text": [
            "Epoch 87 finished\n"
          ]
        },
        {
          "output_type": "stream",
          "name": "stderr",
          "text": [
            "\n",
            "100%|██████████| 1/1 [00:00<00:00,  1.37it/s]"
          ]
        },
        {
          "output_type": "stream",
          "name": "stdout",
          "text": [
            "Epoch 88 finished\n"
          ]
        },
        {
          "output_type": "stream",
          "name": "stderr",
          "text": [
            "\n",
            "100%|██████████| 1/1 [00:00<00:00,  1.35it/s]"
          ]
        },
        {
          "output_type": "stream",
          "name": "stdout",
          "text": [
            "Epoch 89 finished\n"
          ]
        },
        {
          "output_type": "stream",
          "name": "stderr",
          "text": [
            "\n",
            "  0%|          | 0/1 [00:00<?, ?it/s]"
          ]
        },
        {
          "output_type": "stream",
          "name": "stdout",
          "text": [
            "(Steps: 2400090) train/TotalLoss = 0.2481.\n",
            "(Steps: 2400090) train/mel_loss_ = 0.0623.\n",
            "(Steps: 2400090) train/mel_loss = 0.0467.\n",
            "(Steps: 2400090) train/dur_loss = 0.0317.\n",
            "(Steps: 2400090) train/pitch_loss = 0.0302.\n",
            "(Steps: 2400090) train/energy_loss = 0.0772.\n",
            "(Steps: 2400090) train/batch_size = 6.2000.\n",
            "(Steps: 2400090) train/x_band_width = 2.4000.\n",
            "(Steps: 2400090) train/h_band_width = 2.4000.\n",
            "KanTtsSAMBERT learning rate: 0.000082\n"
          ]
        },
        {
          "output_type": "stream",
          "name": "stderr",
          "text": [
            "100%|██████████| 1/1 [00:00<00:00,  1.32it/s]"
          ]
        },
        {
          "output_type": "stream",
          "name": "stdout",
          "text": [
            "Epoch 90 finished\n"
          ]
        },
        {
          "output_type": "stream",
          "name": "stderr",
          "text": [
            "\n",
            "100%|██████████| 1/1 [00:00<00:00,  1.39it/s]"
          ]
        },
        {
          "output_type": "stream",
          "name": "stdout",
          "text": [
            "Epoch 91 finished\n"
          ]
        },
        {
          "output_type": "stream",
          "name": "stderr",
          "text": [
            "\n",
            "100%|██████████| 1/1 [00:00<00:00,  1.42it/s]"
          ]
        },
        {
          "output_type": "stream",
          "name": "stdout",
          "text": [
            "Epoch 92 finished\n"
          ]
        },
        {
          "output_type": "stream",
          "name": "stderr",
          "text": [
            "\n",
            "100%|██████████| 1/1 [00:00<00:00,  1.47it/s]"
          ]
        },
        {
          "output_type": "stream",
          "name": "stdout",
          "text": [
            "Epoch 93 finished\n"
          ]
        },
        {
          "output_type": "stream",
          "name": "stderr",
          "text": [
            "\n",
            "100%|██████████| 1/1 [00:00<00:00,  1.43it/s]"
          ]
        },
        {
          "output_type": "stream",
          "name": "stdout",
          "text": [
            "Epoch 94 finished\n"
          ]
        },
        {
          "output_type": "stream",
          "name": "stderr",
          "text": [
            "\n",
            "100%|██████████| 1/1 [00:00<00:00,  1.46it/s]"
          ]
        },
        {
          "output_type": "stream",
          "name": "stdout",
          "text": [
            "Epoch 95 finished\n"
          ]
        },
        {
          "output_type": "stream",
          "name": "stderr",
          "text": [
            "\n",
            "100%|██████████| 1/1 [00:00<00:00,  1.36it/s]"
          ]
        },
        {
          "output_type": "stream",
          "name": "stdout",
          "text": [
            "Epoch 96 finished\n"
          ]
        },
        {
          "output_type": "stream",
          "name": "stderr",
          "text": [
            "\n",
            "100%|██████████| 1/1 [00:00<00:00,  1.37it/s]"
          ]
        },
        {
          "output_type": "stream",
          "name": "stdout",
          "text": [
            "Epoch 97 finished\n"
          ]
        },
        {
          "output_type": "stream",
          "name": "stderr",
          "text": [
            "\n",
            "100%|██████████| 1/1 [00:00<00:00,  1.57it/s]"
          ]
        },
        {
          "output_type": "stream",
          "name": "stdout",
          "text": [
            "Epoch 98 finished\n"
          ]
        },
        {
          "output_type": "stream",
          "name": "stderr",
          "text": [
            "\n",
            "100%|██████████| 1/1 [00:00<00:00,  1.55it/s]"
          ]
        },
        {
          "output_type": "stream",
          "name": "stdout",
          "text": [
            "Epoch 99 finished\n"
          ]
        },
        {
          "output_type": "stream",
          "name": "stderr",
          "text": [
            "\n",
            "  0%|          | 0/1 [00:00<?, ?it/s]"
          ]
        },
        {
          "output_type": "stream",
          "name": "stdout",
          "text": [
            "(Steps: 2400100) train/TotalLoss = 0.2429.\n",
            "(Steps: 2400100) train/mel_loss_ = 0.0615.\n",
            "(Steps: 2400100) train/mel_loss = 0.0461.\n",
            "(Steps: 2400100) train/dur_loss = 0.0303.\n",
            "(Steps: 2400100) train/pitch_loss = 0.0294.\n",
            "(Steps: 2400100) train/energy_loss = 0.0756.\n",
            "(Steps: 2400100) train/batch_size = 6.2000.\n",
            "(Steps: 2400100) train/x_band_width = 2.4000.\n",
            "(Steps: 2400100) train/h_band_width = 2.4000.\n",
            "KanTtsSAMBERT learning rate: 0.000082\n"
          ]
        },
        {
          "output_type": "stream",
          "name": "stderr",
          "text": [
            "100%|██████████| 1/1 [00:00<00:00,  1.47it/s]"
          ]
        },
        {
          "output_type": "stream",
          "name": "stdout",
          "text": [
            "Epoch 100 finished\n"
          ]
        },
        {
          "output_type": "stream",
          "name": "stderr",
          "text": [
            "\n",
            "100%|██████████| 1/1 [00:00<00:00,  1.52it/s]"
          ]
        },
        {
          "output_type": "stream",
          "name": "stdout",
          "text": [
            "Epoch 101 finished\n"
          ]
        },
        {
          "output_type": "stream",
          "name": "stderr",
          "text": [
            "\n",
            "100%|██████████| 1/1 [00:00<00:00,  1.51it/s]"
          ]
        },
        {
          "output_type": "stream",
          "name": "stdout",
          "text": [
            "Epoch 102 finished\n"
          ]
        },
        {
          "output_type": "stream",
          "name": "stderr",
          "text": [
            "\n",
            "100%|██████████| 1/1 [00:00<00:00,  1.53it/s]"
          ]
        },
        {
          "output_type": "stream",
          "name": "stdout",
          "text": [
            "Epoch 103 finished\n"
          ]
        },
        {
          "output_type": "stream",
          "name": "stderr",
          "text": [
            "\n",
            "100%|██████████| 1/1 [00:00<00:00,  1.54it/s]"
          ]
        },
        {
          "output_type": "stream",
          "name": "stdout",
          "text": [
            "Epoch 104 finished\n"
          ]
        },
        {
          "output_type": "stream",
          "name": "stderr",
          "text": [
            "\n",
            "100%|██████████| 1/1 [00:00<00:00,  1.54it/s]"
          ]
        },
        {
          "output_type": "stream",
          "name": "stdout",
          "text": [
            "Epoch 105 finished\n"
          ]
        },
        {
          "output_type": "stream",
          "name": "stderr",
          "text": [
            "\n",
            "100%|██████████| 1/1 [00:00<00:00,  1.52it/s]"
          ]
        },
        {
          "output_type": "stream",
          "name": "stdout",
          "text": [
            "Epoch 106 finished\n"
          ]
        },
        {
          "output_type": "stream",
          "name": "stderr",
          "text": [
            "\n",
            "100%|██████████| 1/1 [00:00<00:00,  1.56it/s]"
          ]
        },
        {
          "output_type": "stream",
          "name": "stdout",
          "text": [
            "Epoch 107 finished\n"
          ]
        },
        {
          "output_type": "stream",
          "name": "stderr",
          "text": [
            "\n",
            "100%|██████████| 1/1 [00:00<00:00,  1.55it/s]"
          ]
        },
        {
          "output_type": "stream",
          "name": "stdout",
          "text": [
            "Epoch 108 finished\n"
          ]
        },
        {
          "output_type": "stream",
          "name": "stderr",
          "text": [
            "\n",
            "100%|██████████| 1/1 [00:00<00:00,  1.52it/s]"
          ]
        },
        {
          "output_type": "stream",
          "name": "stdout",
          "text": [
            "Epoch 109 finished\n"
          ]
        },
        {
          "output_type": "stream",
          "name": "stderr",
          "text": [
            "\n",
            "  0%|          | 0/1 [00:00<?, ?it/s]"
          ]
        },
        {
          "output_type": "stream",
          "name": "stdout",
          "text": [
            "(Steps: 2400110) train/TotalLoss = 0.2377.\n",
            "(Steps: 2400110) train/mel_loss_ = 0.0607.\n",
            "(Steps: 2400110) train/mel_loss = 0.0455.\n",
            "(Steps: 2400110) train/dur_loss = 0.0290.\n",
            "(Steps: 2400110) train/pitch_loss = 0.0285.\n",
            "(Steps: 2400110) train/energy_loss = 0.0740.\n",
            "(Steps: 2400110) train/batch_size = 6.2000.\n",
            "(Steps: 2400110) train/x_band_width = 2.4000.\n",
            "(Steps: 2400110) train/h_band_width = 2.4000.\n",
            "KanTtsSAMBERT learning rate: 0.000082\n"
          ]
        },
        {
          "output_type": "stream",
          "name": "stderr",
          "text": [
            "100%|██████████| 1/1 [00:00<00:00,  1.50it/s]"
          ]
        },
        {
          "output_type": "stream",
          "name": "stdout",
          "text": [
            "Epoch 110 finished\n"
          ]
        },
        {
          "output_type": "stream",
          "name": "stderr",
          "text": [
            "\n",
            "100%|██████████| 1/1 [00:00<00:00,  1.56it/s]"
          ]
        },
        {
          "output_type": "stream",
          "name": "stdout",
          "text": [
            "Epoch 111 finished\n"
          ]
        },
        {
          "output_type": "stream",
          "name": "stderr",
          "text": [
            "\n",
            "100%|██████████| 1/1 [00:00<00:00,  1.51it/s]"
          ]
        },
        {
          "output_type": "stream",
          "name": "stdout",
          "text": [
            "Epoch 112 finished\n"
          ]
        },
        {
          "output_type": "stream",
          "name": "stderr",
          "text": [
            "\n",
            "100%|██████████| 1/1 [00:00<00:00,  1.40it/s]"
          ]
        },
        {
          "output_type": "stream",
          "name": "stdout",
          "text": [
            "Epoch 113 finished\n"
          ]
        },
        {
          "output_type": "stream",
          "name": "stderr",
          "text": [
            "\n",
            "100%|██████████| 1/1 [00:00<00:00,  1.35it/s]"
          ]
        },
        {
          "output_type": "stream",
          "name": "stdout",
          "text": [
            "Epoch 114 finished\n"
          ]
        },
        {
          "output_type": "stream",
          "name": "stderr",
          "text": [
            "\n",
            "100%|██████████| 1/1 [00:00<00:00,  1.38it/s]"
          ]
        },
        {
          "output_type": "stream",
          "name": "stdout",
          "text": [
            "Epoch 115 finished\n"
          ]
        },
        {
          "output_type": "stream",
          "name": "stderr",
          "text": [
            "\n",
            "100%|██████████| 1/1 [00:00<00:00,  1.42it/s]"
          ]
        },
        {
          "output_type": "stream",
          "name": "stdout",
          "text": [
            "Epoch 116 finished\n"
          ]
        },
        {
          "output_type": "stream",
          "name": "stderr",
          "text": [
            "\n",
            "100%|██████████| 1/1 [00:00<00:00,  1.47it/s]"
          ]
        },
        {
          "output_type": "stream",
          "name": "stdout",
          "text": [
            "Epoch 117 finished\n"
          ]
        },
        {
          "output_type": "stream",
          "name": "stderr",
          "text": [
            "\n",
            "100%|██████████| 1/1 [00:00<00:00,  1.37it/s]"
          ]
        },
        {
          "output_type": "stream",
          "name": "stdout",
          "text": [
            "Epoch 118 finished\n"
          ]
        },
        {
          "output_type": "stream",
          "name": "stderr",
          "text": [
            "\n",
            "100%|██████████| 1/1 [00:00<00:00,  1.39it/s]"
          ]
        },
        {
          "output_type": "stream",
          "name": "stdout",
          "text": [
            "Epoch 119 finished\n"
          ]
        },
        {
          "output_type": "stream",
          "name": "stderr",
          "text": [
            "\n",
            "  0%|          | 0/1 [00:00<?, ?it/s]"
          ]
        },
        {
          "output_type": "stream",
          "name": "stdout",
          "text": [
            "(Steps: 2400120) train/TotalLoss = 0.2329.\n",
            "(Steps: 2400120) train/mel_loss_ = 0.0600.\n",
            "(Steps: 2400120) train/mel_loss = 0.0449.\n",
            "(Steps: 2400120) train/dur_loss = 0.0276.\n",
            "(Steps: 2400120) train/pitch_loss = 0.0273.\n",
            "(Steps: 2400120) train/energy_loss = 0.0731.\n",
            "(Steps: 2400120) train/batch_size = 6.2000.\n",
            "(Steps: 2400120) train/x_band_width = 2.4000.\n",
            "(Steps: 2400120) train/h_band_width = 2.4000.\n",
            "KanTtsSAMBERT learning rate: 0.000082\n"
          ]
        },
        {
          "output_type": "stream",
          "name": "stderr",
          "text": [
            "100%|██████████| 1/1 [00:00<00:00,  1.02it/s]"
          ]
        },
        {
          "output_type": "stream",
          "name": "stdout",
          "text": [
            "Epoch 120 finished\n"
          ]
        },
        {
          "output_type": "stream",
          "name": "stderr",
          "text": [
            "\n",
            "100%|██████████| 1/1 [00:00<00:00,  1.45it/s]"
          ]
        },
        {
          "output_type": "stream",
          "name": "stdout",
          "text": [
            "Epoch 121 finished\n"
          ]
        },
        {
          "output_type": "stream",
          "name": "stderr",
          "text": [
            "\n",
            "100%|██████████| 1/1 [00:00<00:00,  1.23it/s]"
          ]
        },
        {
          "output_type": "stream",
          "name": "stdout",
          "text": [
            "Epoch 122 finished\n"
          ]
        },
        {
          "output_type": "stream",
          "name": "stderr",
          "text": [
            "\n",
            "100%|██████████| 1/1 [00:00<00:00,  1.28it/s]"
          ]
        },
        {
          "output_type": "stream",
          "name": "stdout",
          "text": [
            "Epoch 123 finished\n"
          ]
        },
        {
          "output_type": "stream",
          "name": "stderr",
          "text": [
            "\n",
            "100%|██████████| 1/1 [00:00<00:00,  1.41it/s]"
          ]
        },
        {
          "output_type": "stream",
          "name": "stdout",
          "text": [
            "Epoch 124 finished\n"
          ]
        },
        {
          "output_type": "stream",
          "name": "stderr",
          "text": [
            "\n",
            "100%|██████████| 1/1 [00:00<00:00,  1.39it/s]"
          ]
        },
        {
          "output_type": "stream",
          "name": "stdout",
          "text": [
            "Epoch 125 finished\n"
          ]
        },
        {
          "output_type": "stream",
          "name": "stderr",
          "text": [
            "\n",
            "100%|██████████| 1/1 [00:00<00:00,  1.39it/s]"
          ]
        },
        {
          "output_type": "stream",
          "name": "stdout",
          "text": [
            "Epoch 126 finished\n"
          ]
        },
        {
          "output_type": "stream",
          "name": "stderr",
          "text": [
            "\n",
            "100%|██████████| 1/1 [00:00<00:00,  1.42it/s]"
          ]
        },
        {
          "output_type": "stream",
          "name": "stdout",
          "text": [
            "Epoch 127 finished\n"
          ]
        },
        {
          "output_type": "stream",
          "name": "stderr",
          "text": [
            "\n",
            "100%|██████████| 1/1 [00:00<00:00,  1.47it/s]"
          ]
        },
        {
          "output_type": "stream",
          "name": "stdout",
          "text": [
            "Epoch 128 finished\n"
          ]
        },
        {
          "output_type": "stream",
          "name": "stderr",
          "text": [
            "\n",
            "100%|██████████| 1/1 [00:00<00:00,  1.43it/s]"
          ]
        },
        {
          "output_type": "stream",
          "name": "stdout",
          "text": [
            "Epoch 129 finished\n"
          ]
        },
        {
          "output_type": "stream",
          "name": "stderr",
          "text": [
            "\n",
            "  0%|          | 0/1 [00:00<?, ?it/s]"
          ]
        },
        {
          "output_type": "stream",
          "name": "stdout",
          "text": [
            "(Steps: 2400130) train/TotalLoss = 0.2293.\n",
            "(Steps: 2400130) train/mel_loss_ = 0.0596.\n",
            "(Steps: 2400130) train/mel_loss = 0.0446.\n",
            "(Steps: 2400130) train/dur_loss = 0.0268.\n",
            "(Steps: 2400130) train/pitch_loss = 0.0265.\n",
            "(Steps: 2400130) train/energy_loss = 0.0717.\n",
            "(Steps: 2400130) train/batch_size = 6.2000.\n",
            "(Steps: 2400130) train/x_band_width = 2.4000.\n",
            "(Steps: 2400130) train/h_band_width = 2.4000.\n",
            "KanTtsSAMBERT learning rate: 0.000082\n"
          ]
        },
        {
          "output_type": "stream",
          "name": "stderr",
          "text": [
            "100%|██████████| 1/1 [00:00<00:00,  1.41it/s]"
          ]
        },
        {
          "output_type": "stream",
          "name": "stdout",
          "text": [
            "Epoch 130 finished\n"
          ]
        },
        {
          "output_type": "stream",
          "name": "stderr",
          "text": [
            "\n",
            "100%|██████████| 1/1 [00:00<00:00,  1.44it/s]"
          ]
        },
        {
          "output_type": "stream",
          "name": "stdout",
          "text": [
            "Epoch 131 finished\n"
          ]
        },
        {
          "output_type": "stream",
          "name": "stderr",
          "text": [
            "\n",
            "100%|██████████| 1/1 [00:00<00:00,  1.53it/s]"
          ]
        },
        {
          "output_type": "stream",
          "name": "stdout",
          "text": [
            "Epoch 132 finished\n"
          ]
        },
        {
          "output_type": "stream",
          "name": "stderr",
          "text": [
            "\n",
            "100%|██████████| 1/1 [00:00<00:00,  1.55it/s]"
          ]
        },
        {
          "output_type": "stream",
          "name": "stdout",
          "text": [
            "Epoch 133 finished\n"
          ]
        },
        {
          "output_type": "stream",
          "name": "stderr",
          "text": [
            "\n",
            "100%|██████████| 1/1 [00:00<00:00,  1.55it/s]"
          ]
        },
        {
          "output_type": "stream",
          "name": "stdout",
          "text": [
            "Epoch 134 finished\n"
          ]
        },
        {
          "output_type": "stream",
          "name": "stderr",
          "text": [
            "\n",
            "100%|██████████| 1/1 [00:00<00:00,  1.53it/s]"
          ]
        },
        {
          "output_type": "stream",
          "name": "stdout",
          "text": [
            "Epoch 135 finished\n"
          ]
        },
        {
          "output_type": "stream",
          "name": "stderr",
          "text": [
            "\n",
            "100%|██████████| 1/1 [00:00<00:00,  1.56it/s]"
          ]
        },
        {
          "output_type": "stream",
          "name": "stdout",
          "text": [
            "Epoch 136 finished\n"
          ]
        },
        {
          "output_type": "stream",
          "name": "stderr",
          "text": [
            "\n",
            "100%|██████████| 1/1 [00:00<00:00,  1.35it/s]"
          ]
        },
        {
          "output_type": "stream",
          "name": "stdout",
          "text": [
            "Epoch 137 finished\n"
          ]
        },
        {
          "output_type": "stream",
          "name": "stderr",
          "text": [
            "\n",
            "100%|██████████| 1/1 [00:00<00:00,  1.46it/s]"
          ]
        },
        {
          "output_type": "stream",
          "name": "stdout",
          "text": [
            "Epoch 138 finished\n"
          ]
        },
        {
          "output_type": "stream",
          "name": "stderr",
          "text": [
            "\n",
            "100%|██████████| 1/1 [00:00<00:00,  1.46it/s]"
          ]
        },
        {
          "output_type": "stream",
          "name": "stdout",
          "text": [
            "Epoch 139 finished\n"
          ]
        },
        {
          "output_type": "stream",
          "name": "stderr",
          "text": [
            "\n",
            "  0%|          | 0/1 [00:00<?, ?it/s]"
          ]
        },
        {
          "output_type": "stream",
          "name": "stdout",
          "text": [
            "(Steps: 2400140) train/TotalLoss = 0.2264.\n",
            "(Steps: 2400140) train/mel_loss_ = 0.0591.\n",
            "(Steps: 2400140) train/mel_loss = 0.0442.\n",
            "(Steps: 2400140) train/dur_loss = 0.0260.\n",
            "(Steps: 2400140) train/pitch_loss = 0.0262.\n",
            "(Steps: 2400140) train/energy_loss = 0.0708.\n",
            "(Steps: 2400140) train/batch_size = 6.2000.\n",
            "(Steps: 2400140) train/x_band_width = 2.4000.\n",
            "(Steps: 2400140) train/h_band_width = 2.4000.\n",
            "KanTtsSAMBERT learning rate: 0.000082\n"
          ]
        },
        {
          "output_type": "stream",
          "name": "stderr",
          "text": [
            "100%|██████████| 1/1 [00:00<00:00,  1.32it/s]"
          ]
        },
        {
          "output_type": "stream",
          "name": "stdout",
          "text": [
            "Epoch 140 finished\n"
          ]
        },
        {
          "output_type": "stream",
          "name": "stderr",
          "text": [
            "\n",
            "100%|██████████| 1/1 [00:00<00:00,  1.03it/s]"
          ]
        },
        {
          "output_type": "stream",
          "name": "stdout",
          "text": [
            "Epoch 141 finished\n"
          ]
        },
        {
          "output_type": "stream",
          "name": "stderr",
          "text": [
            "\n",
            "100%|██████████| 1/1 [00:00<00:00,  1.38it/s]"
          ]
        },
        {
          "output_type": "stream",
          "name": "stdout",
          "text": [
            "Epoch 142 finished\n"
          ]
        },
        {
          "output_type": "stream",
          "name": "stderr",
          "text": [
            "\n",
            "100%|██████████| 1/1 [00:00<00:00,  1.43it/s]"
          ]
        },
        {
          "output_type": "stream",
          "name": "stdout",
          "text": [
            "Epoch 143 finished\n"
          ]
        },
        {
          "output_type": "stream",
          "name": "stderr",
          "text": [
            "\n",
            "100%|██████████| 1/1 [00:00<00:00,  1.46it/s]"
          ]
        },
        {
          "output_type": "stream",
          "name": "stdout",
          "text": [
            "Epoch 144 finished\n"
          ]
        },
        {
          "output_type": "stream",
          "name": "stderr",
          "text": [
            "\n",
            "100%|██████████| 1/1 [00:00<00:00,  1.32it/s]"
          ]
        },
        {
          "output_type": "stream",
          "name": "stdout",
          "text": [
            "Epoch 145 finished\n"
          ]
        },
        {
          "output_type": "stream",
          "name": "stderr",
          "text": [
            "\n",
            "100%|██████████| 1/1 [00:00<00:00,  1.54it/s]"
          ]
        },
        {
          "output_type": "stream",
          "name": "stdout",
          "text": [
            "Epoch 146 finished\n"
          ]
        },
        {
          "output_type": "stream",
          "name": "stderr",
          "text": [
            "\n",
            "100%|██████████| 1/1 [00:00<00:00,  1.57it/s]"
          ]
        },
        {
          "output_type": "stream",
          "name": "stdout",
          "text": [
            "Epoch 147 finished\n"
          ]
        },
        {
          "output_type": "stream",
          "name": "stderr",
          "text": [
            "\n",
            "100%|██████████| 1/1 [00:00<00:00,  1.58it/s]"
          ]
        },
        {
          "output_type": "stream",
          "name": "stdout",
          "text": [
            "Epoch 148 finished\n"
          ]
        },
        {
          "output_type": "stream",
          "name": "stderr",
          "text": [
            "\n",
            "100%|██████████| 1/1 [00:00<00:00,  1.57it/s]"
          ]
        },
        {
          "output_type": "stream",
          "name": "stdout",
          "text": [
            "Epoch 149 finished\n"
          ]
        },
        {
          "output_type": "stream",
          "name": "stderr",
          "text": [
            "\n",
            "  0%|          | 0/1 [00:00<?, ?it/s]"
          ]
        },
        {
          "output_type": "stream",
          "name": "stdout",
          "text": [
            "(Steps: 2400150) train/TotalLoss = 0.2224.\n",
            "(Steps: 2400150) train/mel_loss_ = 0.0585.\n",
            "(Steps: 2400150) train/mel_loss = 0.0437.\n",
            "(Steps: 2400150) train/dur_loss = 0.0252.\n",
            "(Steps: 2400150) train/pitch_loss = 0.0255.\n",
            "(Steps: 2400150) train/energy_loss = 0.0696.\n",
            "(Steps: 2400150) train/batch_size = 6.2000.\n",
            "(Steps: 2400150) train/x_band_width = 2.4000.\n",
            "(Steps: 2400150) train/h_band_width = 2.4000.\n",
            "KanTtsSAMBERT learning rate: 0.000082\n"
          ]
        },
        {
          "output_type": "stream",
          "name": "stderr",
          "text": [
            "100%|██████████| 1/1 [00:00<00:00,  1.53it/s]"
          ]
        },
        {
          "output_type": "stream",
          "name": "stdout",
          "text": [
            "Epoch 150 finished\n"
          ]
        },
        {
          "output_type": "stream",
          "name": "stderr",
          "text": [
            "\n",
            "100%|██████████| 1/1 [00:00<00:00,  1.59it/s]"
          ]
        },
        {
          "output_type": "stream",
          "name": "stdout",
          "text": [
            "Epoch 151 finished\n"
          ]
        },
        {
          "output_type": "stream",
          "name": "stderr",
          "text": [
            "\n",
            "100%|██████████| 1/1 [00:00<00:00,  1.58it/s]"
          ]
        },
        {
          "output_type": "stream",
          "name": "stdout",
          "text": [
            "Epoch 152 finished\n"
          ]
        },
        {
          "output_type": "stream",
          "name": "stderr",
          "text": [
            "\n",
            "100%|██████████| 1/1 [00:00<00:00,  1.55it/s]"
          ]
        },
        {
          "output_type": "stream",
          "name": "stdout",
          "text": [
            "Epoch 153 finished\n"
          ]
        },
        {
          "output_type": "stream",
          "name": "stderr",
          "text": [
            "\n",
            "100%|██████████| 1/1 [00:00<00:00,  1.58it/s]"
          ]
        },
        {
          "output_type": "stream",
          "name": "stdout",
          "text": [
            "Epoch 154 finished\n"
          ]
        },
        {
          "output_type": "stream",
          "name": "stderr",
          "text": [
            "\n",
            "100%|██████████| 1/1 [00:00<00:00,  1.63it/s]"
          ]
        },
        {
          "output_type": "stream",
          "name": "stdout",
          "text": [
            "Epoch 155 finished\n"
          ]
        },
        {
          "output_type": "stream",
          "name": "stderr",
          "text": [
            "\n",
            "100%|██████████| 1/1 [00:00<00:00,  1.60it/s]"
          ]
        },
        {
          "output_type": "stream",
          "name": "stdout",
          "text": [
            "Epoch 156 finished\n"
          ]
        },
        {
          "output_type": "stream",
          "name": "stderr",
          "text": [
            "\n",
            "100%|██████████| 1/1 [00:00<00:00,  1.59it/s]"
          ]
        },
        {
          "output_type": "stream",
          "name": "stdout",
          "text": [
            "Epoch 157 finished\n"
          ]
        },
        {
          "output_type": "stream",
          "name": "stderr",
          "text": [
            "\n",
            "100%|██████████| 1/1 [00:00<00:00,  1.58it/s]"
          ]
        },
        {
          "output_type": "stream",
          "name": "stdout",
          "text": [
            "Epoch 158 finished\n"
          ]
        },
        {
          "output_type": "stream",
          "name": "stderr",
          "text": [
            "\n",
            "100%|██████████| 1/1 [00:00<00:00,  1.59it/s]"
          ]
        },
        {
          "output_type": "stream",
          "name": "stdout",
          "text": [
            "Epoch 159 finished\n"
          ]
        },
        {
          "output_type": "stream",
          "name": "stderr",
          "text": [
            "\n",
            "  0%|          | 0/1 [00:00<?, ?it/s]"
          ]
        },
        {
          "output_type": "stream",
          "name": "stdout",
          "text": [
            "(Steps: 2400160) train/TotalLoss = 0.2184.\n",
            "(Steps: 2400160) train/mel_loss_ = 0.0580.\n",
            "(Steps: 2400160) train/mel_loss = 0.0433.\n",
            "(Steps: 2400160) train/dur_loss = 0.0243.\n",
            "(Steps: 2400160) train/pitch_loss = 0.0248.\n",
            "(Steps: 2400160) train/energy_loss = 0.0680.\n",
            "(Steps: 2400160) train/batch_size = 6.2000.\n",
            "(Steps: 2400160) train/x_band_width = 2.4000.\n",
            "(Steps: 2400160) train/h_band_width = 2.4000.\n",
            "KanTtsSAMBERT learning rate: 0.000082\n"
          ]
        },
        {
          "output_type": "stream",
          "name": "stderr",
          "text": [
            "100%|██████████| 1/1 [00:00<00:00,  1.51it/s]"
          ]
        },
        {
          "output_type": "stream",
          "name": "stdout",
          "text": [
            "Epoch 160 finished\n"
          ]
        },
        {
          "output_type": "stream",
          "name": "stderr",
          "text": [
            "\n",
            "100%|██████████| 1/1 [00:00<00:00,  1.57it/s]"
          ]
        },
        {
          "output_type": "stream",
          "name": "stdout",
          "text": [
            "Epoch 161 finished\n"
          ]
        },
        {
          "output_type": "stream",
          "name": "stderr",
          "text": [
            "\n",
            "100%|██████████| 1/1 [00:00<00:00,  1.40it/s]"
          ]
        },
        {
          "output_type": "stream",
          "name": "stdout",
          "text": [
            "Epoch 162 finished\n"
          ]
        },
        {
          "output_type": "stream",
          "name": "stderr",
          "text": [
            "\n",
            "100%|██████████| 1/1 [00:00<00:00,  1.34it/s]"
          ]
        },
        {
          "output_type": "stream",
          "name": "stdout",
          "text": [
            "Epoch 163 finished\n"
          ]
        },
        {
          "output_type": "stream",
          "name": "stderr",
          "text": [
            "\n",
            "100%|██████████| 1/1 [00:00<00:00,  1.38it/s]"
          ]
        },
        {
          "output_type": "stream",
          "name": "stdout",
          "text": [
            "Epoch 164 finished\n"
          ]
        },
        {
          "output_type": "stream",
          "name": "stderr",
          "text": [
            "\n",
            "100%|██████████| 1/1 [00:00<00:00,  1.42it/s]"
          ]
        },
        {
          "output_type": "stream",
          "name": "stdout",
          "text": [
            "Epoch 165 finished\n"
          ]
        },
        {
          "output_type": "stream",
          "name": "stderr",
          "text": [
            "\n",
            "100%|██████████| 1/1 [00:00<00:00,  1.46it/s]"
          ]
        },
        {
          "output_type": "stream",
          "name": "stdout",
          "text": [
            "Epoch 166 finished\n"
          ]
        },
        {
          "output_type": "stream",
          "name": "stderr",
          "text": [
            "\n",
            "100%|██████████| 1/1 [00:00<00:00,  1.40it/s]"
          ]
        },
        {
          "output_type": "stream",
          "name": "stdout",
          "text": [
            "Epoch 167 finished\n"
          ]
        },
        {
          "output_type": "stream",
          "name": "stderr",
          "text": [
            "\n",
            "100%|██████████| 1/1 [00:00<00:00,  1.41it/s]"
          ]
        },
        {
          "output_type": "stream",
          "name": "stdout",
          "text": [
            "Epoch 168 finished\n"
          ]
        },
        {
          "output_type": "stream",
          "name": "stderr",
          "text": [
            "\n",
            "100%|██████████| 1/1 [00:00<00:00,  1.43it/s]"
          ]
        },
        {
          "output_type": "stream",
          "name": "stdout",
          "text": [
            "Epoch 169 finished\n"
          ]
        },
        {
          "output_type": "stream",
          "name": "stderr",
          "text": [
            "\n",
            "  0%|          | 0/1 [00:00<?, ?it/s]"
          ]
        },
        {
          "output_type": "stream",
          "name": "stdout",
          "text": [
            "(Steps: 2400170) train/TotalLoss = 0.2150.\n",
            "(Steps: 2400170) train/mel_loss_ = 0.0577.\n",
            "(Steps: 2400170) train/mel_loss = 0.0431.\n",
            "(Steps: 2400170) train/dur_loss = 0.0233.\n",
            "(Steps: 2400170) train/pitch_loss = 0.0242.\n",
            "(Steps: 2400170) train/energy_loss = 0.0668.\n",
            "(Steps: 2400170) train/batch_size = 6.2000.\n",
            "(Steps: 2400170) train/x_band_width = 2.4000.\n",
            "(Steps: 2400170) train/h_band_width = 2.4000.\n",
            "KanTtsSAMBERT learning rate: 0.000082\n"
          ]
        },
        {
          "output_type": "stream",
          "name": "stderr",
          "text": [
            "100%|██████████| 1/1 [00:00<00:00,  1.39it/s]"
          ]
        },
        {
          "output_type": "stream",
          "name": "stdout",
          "text": [
            "Epoch 170 finished\n"
          ]
        },
        {
          "output_type": "stream",
          "name": "stderr",
          "text": [
            "\n",
            "100%|██████████| 1/1 [00:00<00:00,  1.50it/s]"
          ]
        },
        {
          "output_type": "stream",
          "name": "stdout",
          "text": [
            "Epoch 171 finished\n"
          ]
        },
        {
          "output_type": "stream",
          "name": "stderr",
          "text": [
            "\n",
            "100%|██████████| 1/1 [00:00<00:00,  1.54it/s]"
          ]
        },
        {
          "output_type": "stream",
          "name": "stdout",
          "text": [
            "Epoch 172 finished\n"
          ]
        },
        {
          "output_type": "stream",
          "name": "stderr",
          "text": [
            "\n",
            "100%|██████████| 1/1 [00:00<00:00,  1.55it/s]"
          ]
        },
        {
          "output_type": "stream",
          "name": "stdout",
          "text": [
            "Epoch 173 finished\n"
          ]
        },
        {
          "output_type": "stream",
          "name": "stderr",
          "text": [
            "\n",
            "100%|██████████| 1/1 [00:00<00:00,  1.55it/s]"
          ]
        },
        {
          "output_type": "stream",
          "name": "stdout",
          "text": [
            "Epoch 174 finished\n"
          ]
        },
        {
          "output_type": "stream",
          "name": "stderr",
          "text": [
            "\n",
            "100%|██████████| 1/1 [00:00<00:00,  1.53it/s]"
          ]
        },
        {
          "output_type": "stream",
          "name": "stdout",
          "text": [
            "Epoch 175 finished\n"
          ]
        },
        {
          "output_type": "stream",
          "name": "stderr",
          "text": [
            "\n",
            "100%|██████████| 1/1 [00:00<00:00,  1.54it/s]"
          ]
        },
        {
          "output_type": "stream",
          "name": "stdout",
          "text": [
            "Epoch 176 finished\n"
          ]
        },
        {
          "output_type": "stream",
          "name": "stderr",
          "text": [
            "\n",
            "100%|██████████| 1/1 [00:00<00:00,  1.55it/s]"
          ]
        },
        {
          "output_type": "stream",
          "name": "stdout",
          "text": [
            "Epoch 177 finished\n"
          ]
        },
        {
          "output_type": "stream",
          "name": "stderr",
          "text": [
            "\n",
            "100%|██████████| 1/1 [00:00<00:00,  1.51it/s]"
          ]
        },
        {
          "output_type": "stream",
          "name": "stdout",
          "text": [
            "Epoch 178 finished\n"
          ]
        },
        {
          "output_type": "stream",
          "name": "stderr",
          "text": [
            "\n",
            "100%|██████████| 1/1 [00:00<00:00,  1.55it/s]"
          ]
        },
        {
          "output_type": "stream",
          "name": "stdout",
          "text": [
            "Epoch 179 finished\n"
          ]
        },
        {
          "output_type": "stream",
          "name": "stderr",
          "text": [
            "\n",
            "  0%|          | 0/1 [00:00<?, ?it/s]"
          ]
        },
        {
          "output_type": "stream",
          "name": "stdout",
          "text": [
            "(Steps: 2400180) train/TotalLoss = 0.2124.\n",
            "(Steps: 2400180) train/mel_loss_ = 0.0572.\n",
            "(Steps: 2400180) train/mel_loss = 0.0426.\n",
            "(Steps: 2400180) train/dur_loss = 0.0229.\n",
            "(Steps: 2400180) train/pitch_loss = 0.0235.\n",
            "(Steps: 2400180) train/energy_loss = 0.0661.\n",
            "(Steps: 2400180) train/batch_size = 6.2000.\n",
            "(Steps: 2400180) train/x_band_width = 2.4000.\n",
            "(Steps: 2400180) train/h_band_width = 2.4000.\n",
            "KanTtsSAMBERT learning rate: 0.000082\n"
          ]
        },
        {
          "output_type": "stream",
          "name": "stderr",
          "text": [
            "100%|██████████| 1/1 [00:00<00:00,  1.45it/s]"
          ]
        },
        {
          "output_type": "stream",
          "name": "stdout",
          "text": [
            "Epoch 180 finished\n"
          ]
        },
        {
          "output_type": "stream",
          "name": "stderr",
          "text": [
            "\n",
            "100%|██████████| 1/1 [00:00<00:00,  1.51it/s]"
          ]
        },
        {
          "output_type": "stream",
          "name": "stdout",
          "text": [
            "Epoch 181 finished\n"
          ]
        },
        {
          "output_type": "stream",
          "name": "stderr",
          "text": [
            "\n",
            "100%|██████████| 1/1 [00:00<00:00,  1.51it/s]"
          ]
        },
        {
          "output_type": "stream",
          "name": "stdout",
          "text": [
            "Epoch 182 finished\n"
          ]
        },
        {
          "output_type": "stream",
          "name": "stderr",
          "text": [
            "\n",
            "100%|██████████| 1/1 [00:00<00:00,  1.54it/s]"
          ]
        },
        {
          "output_type": "stream",
          "name": "stdout",
          "text": [
            "Epoch 183 finished\n"
          ]
        },
        {
          "output_type": "stream",
          "name": "stderr",
          "text": [
            "\n",
            "100%|██████████| 1/1 [00:00<00:00,  1.57it/s]"
          ]
        },
        {
          "output_type": "stream",
          "name": "stdout",
          "text": [
            "Epoch 184 finished\n"
          ]
        },
        {
          "output_type": "stream",
          "name": "stderr",
          "text": [
            "\n",
            "100%|██████████| 1/1 [00:00<00:00,  1.52it/s]"
          ]
        },
        {
          "output_type": "stream",
          "name": "stdout",
          "text": [
            "Epoch 185 finished\n"
          ]
        },
        {
          "output_type": "stream",
          "name": "stderr",
          "text": [
            "\n",
            "100%|██████████| 1/1 [00:00<00:00,  1.23it/s]"
          ]
        },
        {
          "output_type": "stream",
          "name": "stdout",
          "text": [
            "Epoch 186 finished\n"
          ]
        },
        {
          "output_type": "stream",
          "name": "stderr",
          "text": [
            "\n",
            "100%|██████████| 1/1 [00:01<00:00,  1.09s/it]"
          ]
        },
        {
          "output_type": "stream",
          "name": "stdout",
          "text": [
            "Epoch 187 finished\n"
          ]
        },
        {
          "output_type": "stream",
          "name": "stderr",
          "text": [
            "\n",
            "100%|██████████| 1/1 [00:00<00:00,  1.23it/s]"
          ]
        },
        {
          "output_type": "stream",
          "name": "stdout",
          "text": [
            "Epoch 188 finished\n"
          ]
        },
        {
          "output_type": "stream",
          "name": "stderr",
          "text": [
            "\n",
            "100%|██████████| 1/1 [00:00<00:00,  1.33it/s]"
          ]
        },
        {
          "output_type": "stream",
          "name": "stdout",
          "text": [
            "Epoch 189 finished\n"
          ]
        },
        {
          "output_type": "stream",
          "name": "stderr",
          "text": [
            "\n",
            "  0%|          | 0/1 [00:00<?, ?it/s]"
          ]
        },
        {
          "output_type": "stream",
          "name": "stdout",
          "text": [
            "(Steps: 2400190) train/TotalLoss = 0.2085.\n",
            "(Steps: 2400190) train/mel_loss_ = 0.0565.\n",
            "(Steps: 2400190) train/mel_loss = 0.0421.\n",
            "(Steps: 2400190) train/dur_loss = 0.0222.\n",
            "(Steps: 2400190) train/pitch_loss = 0.0230.\n",
            "(Steps: 2400190) train/energy_loss = 0.0647.\n",
            "(Steps: 2400190) train/batch_size = 6.2000.\n",
            "(Steps: 2400190) train/x_band_width = 2.4000.\n",
            "(Steps: 2400190) train/h_band_width = 2.4000.\n",
            "KanTtsSAMBERT learning rate: 0.000082\n"
          ]
        },
        {
          "output_type": "stream",
          "name": "stderr",
          "text": [
            "100%|██████████| 1/1 [00:00<00:00,  1.27it/s]"
          ]
        },
        {
          "output_type": "stream",
          "name": "stdout",
          "text": [
            "Epoch 190 finished\n"
          ]
        },
        {
          "output_type": "stream",
          "name": "stderr",
          "text": [
            "\n",
            "100%|██████████| 1/1 [00:00<00:00,  1.43it/s]"
          ]
        },
        {
          "output_type": "stream",
          "name": "stdout",
          "text": [
            "Epoch 191 finished\n"
          ]
        },
        {
          "output_type": "stream",
          "name": "stderr",
          "text": [
            "\n",
            "100%|██████████| 1/1 [00:00<00:00,  1.41it/s]"
          ]
        },
        {
          "output_type": "stream",
          "name": "stdout",
          "text": [
            "Epoch 192 finished\n"
          ]
        },
        {
          "output_type": "stream",
          "name": "stderr",
          "text": [
            "\n",
            "100%|██████████| 1/1 [00:00<00:00,  1.41it/s]"
          ]
        },
        {
          "output_type": "stream",
          "name": "stdout",
          "text": [
            "Epoch 193 finished\n"
          ]
        },
        {
          "output_type": "stream",
          "name": "stderr",
          "text": [
            "\n",
            "100%|██████████| 1/1 [00:00<00:00,  1.19it/s]"
          ]
        },
        {
          "output_type": "stream",
          "name": "stdout",
          "text": [
            "Epoch 194 finished\n"
          ]
        },
        {
          "output_type": "stream",
          "name": "stderr",
          "text": [
            "\n",
            "100%|██████████| 1/1 [00:00<00:00,  1.43it/s]"
          ]
        },
        {
          "output_type": "stream",
          "name": "stdout",
          "text": [
            "Epoch 195 finished\n"
          ]
        },
        {
          "output_type": "stream",
          "name": "stderr",
          "text": [
            "\n",
            "100%|██████████| 1/1 [00:00<00:00,  1.57it/s]"
          ]
        },
        {
          "output_type": "stream",
          "name": "stdout",
          "text": [
            "Epoch 196 finished\n"
          ]
        },
        {
          "output_type": "stream",
          "name": "stderr",
          "text": [
            "\n",
            "100%|██████████| 1/1 [00:00<00:00,  1.49it/s]"
          ]
        },
        {
          "output_type": "stream",
          "name": "stdout",
          "text": [
            "Epoch 197 finished\n"
          ]
        },
        {
          "output_type": "stream",
          "name": "stderr",
          "text": [
            "\n",
            "100%|██████████| 1/1 [00:00<00:00,  1.41it/s]"
          ]
        },
        {
          "output_type": "stream",
          "name": "stdout",
          "text": [
            "Epoch 198 finished\n"
          ]
        },
        {
          "output_type": "stream",
          "name": "stderr",
          "text": [
            "\n",
            "100%|██████████| 1/1 [00:00<00:00,  1.38it/s]"
          ]
        },
        {
          "output_type": "stream",
          "name": "stdout",
          "text": [
            "Epoch 199 finished\n"
          ]
        },
        {
          "output_type": "stream",
          "name": "stderr",
          "text": [
            "\n",
            "  0%|          | 0/1 [00:00<?, ?it/s]"
          ]
        },
        {
          "output_type": "stream",
          "name": "stdout",
          "text": [
            "(Steps: 2400200) train/TotalLoss = 0.2072.\n",
            "(Steps: 2400200) train/mel_loss_ = 0.0562.\n",
            "(Steps: 2400200) train/mel_loss = 0.0421.\n",
            "(Steps: 2400200) train/dur_loss = 0.0216.\n",
            "(Steps: 2400200) train/pitch_loss = 0.0231.\n",
            "(Steps: 2400200) train/energy_loss = 0.0642.\n",
            "(Steps: 2400200) train/batch_size = 6.2000.\n",
            "(Steps: 2400200) train/x_band_width = 2.4000.\n",
            "(Steps: 2400200) train/h_band_width = 2.4000.\n",
            "KanTtsSAMBERT learning rate: 0.000082\n"
          ]
        },
        {
          "output_type": "stream",
          "name": "stderr",
          "text": [
            "100%|██████████| 1/1 [00:00<00:00,  1.36it/s]"
          ]
        },
        {
          "output_type": "stream",
          "name": "stdout",
          "text": [
            "Epoch 200 finished\n"
          ]
        },
        {
          "output_type": "stream",
          "name": "stderr",
          "text": [
            "\n",
            "100%|██████████| 1/1 [00:00<00:00,  1.49it/s]"
          ]
        },
        {
          "output_type": "stream",
          "name": "stdout",
          "text": [
            "Epoch 201 finished\n"
          ]
        },
        {
          "output_type": "stream",
          "name": "stderr",
          "text": [
            "\n",
            "100%|██████████| 1/1 [00:00<00:00,  1.59it/s]"
          ]
        },
        {
          "output_type": "stream",
          "name": "stdout",
          "text": [
            "Epoch 202 finished\n"
          ]
        },
        {
          "output_type": "stream",
          "name": "stderr",
          "text": [
            "\n",
            "100%|██████████| 1/1 [00:00<00:00,  1.52it/s]"
          ]
        },
        {
          "output_type": "stream",
          "name": "stdout",
          "text": [
            "Epoch 203 finished\n"
          ]
        },
        {
          "output_type": "stream",
          "name": "stderr",
          "text": [
            "\n",
            "100%|██████████| 1/1 [00:00<00:00,  1.50it/s]"
          ]
        },
        {
          "output_type": "stream",
          "name": "stdout",
          "text": [
            "Epoch 204 finished\n"
          ]
        },
        {
          "output_type": "stream",
          "name": "stderr",
          "text": [
            "\n",
            "100%|██████████| 1/1 [00:00<00:00,  1.59it/s]"
          ]
        },
        {
          "output_type": "stream",
          "name": "stdout",
          "text": [
            "Epoch 205 finished\n"
          ]
        },
        {
          "output_type": "stream",
          "name": "stderr",
          "text": [
            "\n",
            "100%|██████████| 1/1 [00:00<00:00,  1.55it/s]"
          ]
        },
        {
          "output_type": "stream",
          "name": "stdout",
          "text": [
            "Epoch 206 finished\n"
          ]
        },
        {
          "output_type": "stream",
          "name": "stderr",
          "text": [
            "\n",
            "100%|██████████| 1/1 [00:00<00:00,  1.56it/s]"
          ]
        },
        {
          "output_type": "stream",
          "name": "stdout",
          "text": [
            "Epoch 207 finished\n"
          ]
        },
        {
          "output_type": "stream",
          "name": "stderr",
          "text": [
            "\n",
            "100%|██████████| 1/1 [00:00<00:00,  1.56it/s]"
          ]
        },
        {
          "output_type": "stream",
          "name": "stdout",
          "text": [
            "Epoch 208 finished\n"
          ]
        },
        {
          "output_type": "stream",
          "name": "stderr",
          "text": [
            "\n",
            "100%|██████████| 1/1 [00:00<00:00,  1.45it/s]"
          ]
        },
        {
          "output_type": "stream",
          "name": "stdout",
          "text": [
            "Epoch 209 finished\n"
          ]
        },
        {
          "output_type": "stream",
          "name": "stderr",
          "text": [
            "\n",
            "  0%|          | 0/1 [00:00<?, ?it/s]"
          ]
        },
        {
          "output_type": "stream",
          "name": "stdout",
          "text": [
            "(Steps: 2400210) train/TotalLoss = 0.2045.\n",
            "(Steps: 2400210) train/mel_loss_ = 0.0560.\n",
            "(Steps: 2400210) train/mel_loss = 0.0417.\n",
            "(Steps: 2400210) train/dur_loss = 0.0210.\n",
            "(Steps: 2400210) train/pitch_loss = 0.0227.\n",
            "(Steps: 2400210) train/energy_loss = 0.0630.\n",
            "(Steps: 2400210) train/batch_size = 6.2000.\n",
            "(Steps: 2400210) train/x_band_width = 2.4000.\n",
            "(Steps: 2400210) train/h_band_width = 2.4000.\n",
            "KanTtsSAMBERT learning rate: 0.000082\n"
          ]
        },
        {
          "output_type": "stream",
          "name": "stderr",
          "text": [
            "100%|██████████| 1/1 [00:00<00:00,  1.15it/s]"
          ]
        },
        {
          "output_type": "stream",
          "name": "stdout",
          "text": [
            "Epoch 210 finished\n"
          ]
        },
        {
          "output_type": "stream",
          "name": "stderr",
          "text": [
            "\n",
            "100%|██████████| 1/1 [00:00<00:00,  1.06it/s]"
          ]
        },
        {
          "output_type": "stream",
          "name": "stdout",
          "text": [
            "Epoch 211 finished\n"
          ]
        },
        {
          "output_type": "stream",
          "name": "stderr",
          "text": [
            "\n",
            "100%|██████████| 1/1 [00:00<00:00,  1.22it/s]"
          ]
        },
        {
          "output_type": "stream",
          "name": "stdout",
          "text": [
            "Epoch 212 finished\n"
          ]
        },
        {
          "output_type": "stream",
          "name": "stderr",
          "text": [
            "\n",
            "100%|██████████| 1/1 [00:00<00:00,  1.41it/s]"
          ]
        },
        {
          "output_type": "stream",
          "name": "stdout",
          "text": [
            "Epoch 213 finished\n"
          ]
        },
        {
          "output_type": "stream",
          "name": "stderr",
          "text": [
            "\n",
            "100%|██████████| 1/1 [00:00<00:00,  1.43it/s]"
          ]
        },
        {
          "output_type": "stream",
          "name": "stdout",
          "text": [
            "Epoch 214 finished\n"
          ]
        },
        {
          "output_type": "stream",
          "name": "stderr",
          "text": [
            "\n",
            "100%|██████████| 1/1 [00:00<00:00,  1.19it/s]"
          ]
        },
        {
          "output_type": "stream",
          "name": "stdout",
          "text": [
            "Epoch 215 finished\n"
          ]
        },
        {
          "output_type": "stream",
          "name": "stderr",
          "text": [
            "\n",
            "100%|██████████| 1/1 [00:00<00:00,  1.41it/s]"
          ]
        },
        {
          "output_type": "stream",
          "name": "stdout",
          "text": [
            "Epoch 216 finished\n"
          ]
        },
        {
          "output_type": "stream",
          "name": "stderr",
          "text": [
            "\n",
            "100%|██████████| 1/1 [00:00<00:00,  1.46it/s]"
          ]
        },
        {
          "output_type": "stream",
          "name": "stdout",
          "text": [
            "Epoch 217 finished\n"
          ]
        },
        {
          "output_type": "stream",
          "name": "stderr",
          "text": [
            "\n",
            "100%|██████████| 1/1 [00:00<00:00,  1.22it/s]"
          ]
        },
        {
          "output_type": "stream",
          "name": "stdout",
          "text": [
            "Epoch 218 finished\n"
          ]
        },
        {
          "output_type": "stream",
          "name": "stderr",
          "text": [
            "\n",
            "100%|██████████| 1/1 [00:00<00:00,  1.21it/s]"
          ]
        },
        {
          "output_type": "stream",
          "name": "stdout",
          "text": [
            "Epoch 219 finished\n"
          ]
        },
        {
          "output_type": "stream",
          "name": "stderr",
          "text": [
            "\n",
            "  0%|          | 0/1 [00:00<?, ?it/s]"
          ]
        },
        {
          "output_type": "stream",
          "name": "stdout",
          "text": [
            "(Steps: 2400220) train/TotalLoss = 0.2015.\n",
            "(Steps: 2400220) train/mel_loss_ = 0.0553.\n",
            "(Steps: 2400220) train/mel_loss = 0.0414.\n",
            "(Steps: 2400220) train/dur_loss = 0.0206.\n",
            "(Steps: 2400220) train/pitch_loss = 0.0220.\n",
            "(Steps: 2400220) train/energy_loss = 0.0622.\n",
            "(Steps: 2400220) train/batch_size = 6.2000.\n",
            "(Steps: 2400220) train/x_band_width = 2.4000.\n",
            "(Steps: 2400220) train/h_band_width = 2.4000.\n",
            "KanTtsSAMBERT learning rate: 0.000082\n"
          ]
        },
        {
          "output_type": "stream",
          "name": "stderr",
          "text": [
            "100%|██████████| 1/1 [00:00<00:00,  1.45it/s]"
          ]
        },
        {
          "output_type": "stream",
          "name": "stdout",
          "text": [
            "Epoch 220 finished\n"
          ]
        },
        {
          "output_type": "stream",
          "name": "stderr",
          "text": [
            "\n",
            "100%|██████████| 1/1 [00:00<00:00,  1.50it/s]"
          ]
        },
        {
          "output_type": "stream",
          "name": "stdout",
          "text": [
            "Epoch 221 finished\n"
          ]
        },
        {
          "output_type": "stream",
          "name": "stderr",
          "text": [
            "\n",
            "100%|██████████| 1/1 [00:00<00:00,  1.54it/s]"
          ]
        },
        {
          "output_type": "stream",
          "name": "stdout",
          "text": [
            "Epoch 222 finished\n"
          ]
        },
        {
          "output_type": "stream",
          "name": "stderr",
          "text": [
            "\n",
            "100%|██████████| 1/1 [00:00<00:00,  1.40it/s]"
          ]
        },
        {
          "output_type": "stream",
          "name": "stdout",
          "text": [
            "Epoch 223 finished\n"
          ]
        },
        {
          "output_type": "stream",
          "name": "stderr",
          "text": [
            "\n",
            "100%|██████████| 1/1 [00:00<00:00,  1.41it/s]"
          ]
        },
        {
          "output_type": "stream",
          "name": "stdout",
          "text": [
            "Epoch 224 finished\n"
          ]
        },
        {
          "output_type": "stream",
          "name": "stderr",
          "text": [
            "\n",
            "100%|██████████| 1/1 [00:00<00:00,  1.42it/s]"
          ]
        },
        {
          "output_type": "stream",
          "name": "stdout",
          "text": [
            "Epoch 225 finished\n"
          ]
        },
        {
          "output_type": "stream",
          "name": "stderr",
          "text": [
            "\n",
            "100%|██████████| 1/1 [00:00<00:00,  1.55it/s]"
          ]
        },
        {
          "output_type": "stream",
          "name": "stdout",
          "text": [
            "Epoch 226 finished\n"
          ]
        },
        {
          "output_type": "stream",
          "name": "stderr",
          "text": [
            "\n",
            "100%|██████████| 1/1 [00:00<00:00,  1.41it/s]"
          ]
        },
        {
          "output_type": "stream",
          "name": "stdout",
          "text": [
            "Epoch 227 finished\n"
          ]
        },
        {
          "output_type": "stream",
          "name": "stderr",
          "text": [
            "\n",
            "100%|██████████| 1/1 [00:00<00:00,  1.24it/s]"
          ]
        },
        {
          "output_type": "stream",
          "name": "stdout",
          "text": [
            "Epoch 228 finished\n"
          ]
        },
        {
          "output_type": "stream",
          "name": "stderr",
          "text": [
            "\n",
            "100%|██████████| 1/1 [00:00<00:00,  1.43it/s]"
          ]
        },
        {
          "output_type": "stream",
          "name": "stdout",
          "text": [
            "Epoch 229 finished\n"
          ]
        },
        {
          "output_type": "stream",
          "name": "stderr",
          "text": [
            "\n",
            "  0%|          | 0/1 [00:00<?, ?it/s]"
          ]
        },
        {
          "output_type": "stream",
          "name": "stdout",
          "text": [
            "(Steps: 2400230) train/TotalLoss = 0.2001.\n",
            "(Steps: 2400230) train/mel_loss_ = 0.0552.\n",
            "(Steps: 2400230) train/mel_loss = 0.0413.\n",
            "(Steps: 2400230) train/dur_loss = 0.0202.\n",
            "(Steps: 2400230) train/pitch_loss = 0.0219.\n",
            "(Steps: 2400230) train/energy_loss = 0.0615.\n",
            "(Steps: 2400230) train/batch_size = 6.2000.\n",
            "(Steps: 2400230) train/x_band_width = 2.4000.\n",
            "(Steps: 2400230) train/h_band_width = 2.4000.\n",
            "KanTtsSAMBERT learning rate: 0.000082\n"
          ]
        },
        {
          "output_type": "stream",
          "name": "stderr",
          "text": [
            "100%|██████████| 1/1 [00:00<00:00,  1.45it/s]"
          ]
        },
        {
          "output_type": "stream",
          "name": "stdout",
          "text": [
            "Epoch 230 finished\n"
          ]
        },
        {
          "output_type": "stream",
          "name": "stderr",
          "text": [
            "\n",
            "100%|██████████| 1/1 [00:00<00:00,  1.24it/s]"
          ]
        },
        {
          "output_type": "stream",
          "name": "stdout",
          "text": [
            "Epoch 231 finished\n"
          ]
        },
        {
          "output_type": "stream",
          "name": "stderr",
          "text": [
            "\n",
            "100%|██████████| 1/1 [00:00<00:00,  1.45it/s]"
          ]
        },
        {
          "output_type": "stream",
          "name": "stdout",
          "text": [
            "Epoch 232 finished\n"
          ]
        },
        {
          "output_type": "stream",
          "name": "stderr",
          "text": [
            "\n",
            "100%|██████████| 1/1 [00:00<00:00,  1.46it/s]"
          ]
        },
        {
          "output_type": "stream",
          "name": "stdout",
          "text": [
            "Epoch 233 finished\n"
          ]
        },
        {
          "output_type": "stream",
          "name": "stderr",
          "text": [
            "\n",
            "100%|██████████| 1/1 [00:00<00:00,  1.23it/s]"
          ]
        },
        {
          "output_type": "stream",
          "name": "stdout",
          "text": [
            "Epoch 234 finished\n"
          ]
        },
        {
          "output_type": "stream",
          "name": "stderr",
          "text": [
            "\n",
            "100%|██████████| 1/1 [00:00<00:00,  1.22it/s]"
          ]
        },
        {
          "output_type": "stream",
          "name": "stdout",
          "text": [
            "Epoch 235 finished\n"
          ]
        },
        {
          "output_type": "stream",
          "name": "stderr",
          "text": [
            "\n",
            "100%|██████████| 1/1 [00:00<00:00,  1.34it/s]"
          ]
        },
        {
          "output_type": "stream",
          "name": "stdout",
          "text": [
            "Epoch 236 finished\n"
          ]
        },
        {
          "output_type": "stream",
          "name": "stderr",
          "text": [
            "\n",
            "100%|██████████| 1/1 [00:00<00:00,  1.34it/s]"
          ]
        },
        {
          "output_type": "stream",
          "name": "stdout",
          "text": [
            "Epoch 237 finished\n"
          ]
        },
        {
          "output_type": "stream",
          "name": "stderr",
          "text": [
            "\n",
            "100%|██████████| 1/1 [00:00<00:00,  1.34it/s]"
          ]
        },
        {
          "output_type": "stream",
          "name": "stdout",
          "text": [
            "Epoch 238 finished\n"
          ]
        },
        {
          "output_type": "stream",
          "name": "stderr",
          "text": [
            "\n",
            "100%|██████████| 1/1 [00:00<00:00,  1.30it/s]"
          ]
        },
        {
          "output_type": "stream",
          "name": "stdout",
          "text": [
            "Epoch 239 finished\n"
          ]
        },
        {
          "output_type": "stream",
          "name": "stderr",
          "text": [
            "\n",
            "  0%|          | 0/1 [00:00<?, ?it/s]"
          ]
        },
        {
          "output_type": "stream",
          "name": "stdout",
          "text": [
            "(Steps: 2400240) train/TotalLoss = 0.1970.\n",
            "(Steps: 2400240) train/mel_loss_ = 0.0548.\n",
            "(Steps: 2400240) train/mel_loss = 0.0409.\n",
            "(Steps: 2400240) train/dur_loss = 0.0197.\n",
            "(Steps: 2400240) train/pitch_loss = 0.0214.\n",
            "(Steps: 2400240) train/energy_loss = 0.0601.\n",
            "(Steps: 2400240) train/batch_size = 6.2000.\n",
            "(Steps: 2400240) train/x_band_width = 2.4000.\n",
            "(Steps: 2400240) train/h_band_width = 2.4000.\n",
            "KanTtsSAMBERT learning rate: 0.000082\n"
          ]
        },
        {
          "output_type": "stream",
          "name": "stderr",
          "text": [
            "100%|██████████| 1/1 [00:00<00:00,  1.33it/s]"
          ]
        },
        {
          "output_type": "stream",
          "name": "stdout",
          "text": [
            "Epoch 240 finished\n"
          ]
        },
        {
          "output_type": "stream",
          "name": "stderr",
          "text": [
            "\n",
            "100%|██████████| 1/1 [00:00<00:00,  1.41it/s]"
          ]
        },
        {
          "output_type": "stream",
          "name": "stdout",
          "text": [
            "Epoch 241 finished\n"
          ]
        },
        {
          "output_type": "stream",
          "name": "stderr",
          "text": [
            "\n",
            "100%|██████████| 1/1 [00:00<00:00,  1.41it/s]"
          ]
        },
        {
          "output_type": "stream",
          "name": "stdout",
          "text": [
            "Epoch 242 finished\n"
          ]
        },
        {
          "output_type": "stream",
          "name": "stderr",
          "text": [
            "\n",
            "100%|██████████| 1/1 [00:00<00:00,  1.42it/s]"
          ]
        },
        {
          "output_type": "stream",
          "name": "stdout",
          "text": [
            "Epoch 243 finished\n"
          ]
        },
        {
          "output_type": "stream",
          "name": "stderr",
          "text": [
            "\n",
            "100%|██████████| 1/1 [00:00<00:00,  1.58it/s]"
          ]
        },
        {
          "output_type": "stream",
          "name": "stdout",
          "text": [
            "Epoch 244 finished\n"
          ]
        },
        {
          "output_type": "stream",
          "name": "stderr",
          "text": [
            "\n",
            "100%|██████████| 1/1 [00:00<00:00,  1.56it/s]"
          ]
        },
        {
          "output_type": "stream",
          "name": "stdout",
          "text": [
            "Epoch 245 finished\n"
          ]
        },
        {
          "output_type": "stream",
          "name": "stderr",
          "text": [
            "\n",
            "100%|██████████| 1/1 [00:00<00:00,  1.57it/s]"
          ]
        },
        {
          "output_type": "stream",
          "name": "stdout",
          "text": [
            "Epoch 246 finished\n"
          ]
        },
        {
          "output_type": "stream",
          "name": "stderr",
          "text": [
            "\n",
            "100%|██████████| 1/1 [00:00<00:00,  1.55it/s]"
          ]
        },
        {
          "output_type": "stream",
          "name": "stdout",
          "text": [
            "Epoch 247 finished\n"
          ]
        },
        {
          "output_type": "stream",
          "name": "stderr",
          "text": [
            "\n",
            "100%|██████████| 1/1 [00:00<00:00,  1.56it/s]"
          ]
        },
        {
          "output_type": "stream",
          "name": "stdout",
          "text": [
            "Epoch 248 finished\n"
          ]
        },
        {
          "output_type": "stream",
          "name": "stderr",
          "text": [
            "\n",
            "100%|██████████| 1/1 [00:00<00:00,  1.48it/s]"
          ]
        },
        {
          "output_type": "stream",
          "name": "stdout",
          "text": [
            "Epoch 249 finished\n"
          ]
        },
        {
          "output_type": "stream",
          "name": "stderr",
          "text": [
            "\n",
            "  0%|          | 0/1 [00:00<?, ?it/s]"
          ]
        },
        {
          "output_type": "stream",
          "name": "stdout",
          "text": [
            "(Steps: 2400250) train/TotalLoss = 0.1947.\n",
            "(Steps: 2400250) train/mel_loss_ = 0.0544.\n",
            "(Steps: 2400250) train/mel_loss = 0.0407.\n",
            "(Steps: 2400250) train/dur_loss = 0.0191.\n",
            "(Steps: 2400250) train/pitch_loss = 0.0208.\n",
            "(Steps: 2400250) train/energy_loss = 0.0596.\n",
            "(Steps: 2400250) train/batch_size = 6.2000.\n",
            "(Steps: 2400250) train/x_band_width = 2.4000.\n",
            "(Steps: 2400250) train/h_band_width = 2.4000.\n",
            "KanTtsSAMBERT learning rate: 0.000082\n"
          ]
        },
        {
          "output_type": "stream",
          "name": "stderr",
          "text": [
            "100%|██████████| 1/1 [00:00<00:00,  1.50it/s]"
          ]
        },
        {
          "output_type": "stream",
          "name": "stdout",
          "text": [
            "Epoch 250 finished\n"
          ]
        },
        {
          "output_type": "stream",
          "name": "stderr",
          "text": [
            "\n",
            "100%|██████████| 1/1 [00:00<00:00,  1.55it/s]"
          ]
        },
        {
          "output_type": "stream",
          "name": "stdout",
          "text": [
            "Epoch 251 finished\n"
          ]
        },
        {
          "output_type": "stream",
          "name": "stderr",
          "text": [
            "\n",
            "100%|██████████| 1/1 [00:00<00:00,  1.49it/s]"
          ]
        },
        {
          "output_type": "stream",
          "name": "stdout",
          "text": [
            "Epoch 252 finished\n"
          ]
        },
        {
          "output_type": "stream",
          "name": "stderr",
          "text": [
            "\n",
            "100%|██████████| 1/1 [00:00<00:00,  1.59it/s]"
          ]
        },
        {
          "output_type": "stream",
          "name": "stdout",
          "text": [
            "Epoch 253 finished\n"
          ]
        },
        {
          "output_type": "stream",
          "name": "stderr",
          "text": [
            "\n",
            "100%|██████████| 1/1 [00:00<00:00,  1.55it/s]"
          ]
        },
        {
          "output_type": "stream",
          "name": "stdout",
          "text": [
            "Epoch 254 finished\n"
          ]
        },
        {
          "output_type": "stream",
          "name": "stderr",
          "text": [
            "\n",
            "100%|██████████| 1/1 [00:00<00:00,  1.55it/s]"
          ]
        },
        {
          "output_type": "stream",
          "name": "stdout",
          "text": [
            "Epoch 255 finished\n"
          ]
        },
        {
          "output_type": "stream",
          "name": "stderr",
          "text": [
            "\n",
            "100%|██████████| 1/1 [00:00<00:00,  1.55it/s]"
          ]
        },
        {
          "output_type": "stream",
          "name": "stdout",
          "text": [
            "Epoch 256 finished\n"
          ]
        },
        {
          "output_type": "stream",
          "name": "stderr",
          "text": [
            "\n",
            "100%|██████████| 1/1 [00:00<00:00,  1.52it/s]"
          ]
        },
        {
          "output_type": "stream",
          "name": "stdout",
          "text": [
            "Epoch 257 finished\n"
          ]
        },
        {
          "output_type": "stream",
          "name": "stderr",
          "text": [
            "\n",
            "100%|██████████| 1/1 [00:00<00:00,  1.47it/s]"
          ]
        },
        {
          "output_type": "stream",
          "name": "stdout",
          "text": [
            "Epoch 258 finished\n"
          ]
        },
        {
          "output_type": "stream",
          "name": "stderr",
          "text": [
            "\n",
            "100%|██████████| 1/1 [00:00<00:00,  1.36it/s]"
          ]
        },
        {
          "output_type": "stream",
          "name": "stdout",
          "text": [
            "Epoch 259 finished\n"
          ]
        },
        {
          "output_type": "stream",
          "name": "stderr",
          "text": [
            "\n",
            "  0%|          | 0/1 [00:00<?, ?it/s]"
          ]
        },
        {
          "output_type": "stream",
          "name": "stdout",
          "text": [
            "(Steps: 2400260) train/TotalLoss = 0.1935.\n",
            "(Steps: 2400260) train/mel_loss_ = 0.0544.\n",
            "(Steps: 2400260) train/mel_loss = 0.0404.\n",
            "(Steps: 2400260) train/dur_loss = 0.0187.\n",
            "(Steps: 2400260) train/pitch_loss = 0.0209.\n",
            "(Steps: 2400260) train/energy_loss = 0.0591.\n",
            "(Steps: 2400260) train/batch_size = 6.2000.\n",
            "(Steps: 2400260) train/x_band_width = 2.4000.\n",
            "(Steps: 2400260) train/h_band_width = 2.4000.\n",
            "KanTtsSAMBERT learning rate: 0.000082\n"
          ]
        },
        {
          "output_type": "stream",
          "name": "stderr",
          "text": [
            "100%|██████████| 1/1 [00:00<00:00,  1.33it/s]"
          ]
        },
        {
          "output_type": "stream",
          "name": "stdout",
          "text": [
            "Epoch 260 finished\n"
          ]
        },
        {
          "output_type": "stream",
          "name": "stderr",
          "text": [
            "\n",
            "100%|██████████| 1/1 [00:00<00:00,  1.42it/s]"
          ]
        },
        {
          "output_type": "stream",
          "name": "stdout",
          "text": [
            "Epoch 261 finished\n"
          ]
        },
        {
          "output_type": "stream",
          "name": "stderr",
          "text": [
            "\n",
            "100%|██████████| 1/1 [00:00<00:00,  1.41it/s]"
          ]
        },
        {
          "output_type": "stream",
          "name": "stdout",
          "text": [
            "Epoch 262 finished\n"
          ]
        },
        {
          "output_type": "stream",
          "name": "stderr",
          "text": [
            "\n",
            "100%|██████████| 1/1 [00:00<00:00,  1.38it/s]"
          ]
        },
        {
          "output_type": "stream",
          "name": "stdout",
          "text": [
            "Epoch 263 finished\n"
          ]
        },
        {
          "output_type": "stream",
          "name": "stderr",
          "text": [
            "\n",
            "100%|██████████| 1/1 [00:00<00:00,  1.45it/s]"
          ]
        },
        {
          "output_type": "stream",
          "name": "stdout",
          "text": [
            "Epoch 264 finished\n"
          ]
        },
        {
          "output_type": "stream",
          "name": "stderr",
          "text": [
            "\n",
            "100%|██████████| 1/1 [00:00<00:00,  1.40it/s]"
          ]
        },
        {
          "output_type": "stream",
          "name": "stdout",
          "text": [
            "Epoch 265 finished\n"
          ]
        },
        {
          "output_type": "stream",
          "name": "stderr",
          "text": [
            "\n",
            "100%|██████████| 1/1 [00:00<00:00,  1.42it/s]"
          ]
        },
        {
          "output_type": "stream",
          "name": "stdout",
          "text": [
            "Epoch 266 finished\n"
          ]
        },
        {
          "output_type": "stream",
          "name": "stderr",
          "text": [
            "\n",
            "100%|██████████| 1/1 [00:00<00:00,  1.40it/s]"
          ]
        },
        {
          "output_type": "stream",
          "name": "stdout",
          "text": [
            "Epoch 267 finished\n"
          ]
        },
        {
          "output_type": "stream",
          "name": "stderr",
          "text": [
            "\n",
            "100%|██████████| 1/1 [00:00<00:00,  1.43it/s]"
          ]
        },
        {
          "output_type": "stream",
          "name": "stdout",
          "text": [
            "Epoch 268 finished\n"
          ]
        },
        {
          "output_type": "stream",
          "name": "stderr",
          "text": [
            "\n",
            "100%|██████████| 1/1 [00:00<00:00,  1.48it/s]"
          ]
        },
        {
          "output_type": "stream",
          "name": "stdout",
          "text": [
            "Epoch 269 finished\n"
          ]
        },
        {
          "output_type": "stream",
          "name": "stderr",
          "text": [
            "\n",
            "  0%|          | 0/1 [00:00<?, ?it/s]"
          ]
        },
        {
          "output_type": "stream",
          "name": "stdout",
          "text": [
            "(Steps: 2400270) train/TotalLoss = 0.1910.\n",
            "(Steps: 2400270) train/mel_loss_ = 0.0538.\n",
            "(Steps: 2400270) train/mel_loss = 0.0401.\n",
            "(Steps: 2400270) train/dur_loss = 0.0186.\n",
            "(Steps: 2400270) train/pitch_loss = 0.0205.\n",
            "(Steps: 2400270) train/energy_loss = 0.0580.\n",
            "(Steps: 2400270) train/batch_size = 6.2000.\n",
            "(Steps: 2400270) train/x_band_width = 2.4000.\n",
            "(Steps: 2400270) train/h_band_width = 2.4000.\n",
            "KanTtsSAMBERT learning rate: 0.000082\n"
          ]
        },
        {
          "output_type": "stream",
          "name": "stderr",
          "text": [
            "100%|██████████| 1/1 [00:00<00:00,  1.43it/s]"
          ]
        },
        {
          "output_type": "stream",
          "name": "stdout",
          "text": [
            "Epoch 270 finished\n"
          ]
        },
        {
          "output_type": "stream",
          "name": "stderr",
          "text": [
            "\n",
            "100%|██████████| 1/1 [00:00<00:00,  1.55it/s]"
          ]
        },
        {
          "output_type": "stream",
          "name": "stdout",
          "text": [
            "Epoch 271 finished\n"
          ]
        },
        {
          "output_type": "stream",
          "name": "stderr",
          "text": [
            "\n",
            "100%|██████████| 1/1 [00:00<00:00,  1.54it/s]"
          ]
        },
        {
          "output_type": "stream",
          "name": "stdout",
          "text": [
            "Epoch 272 finished\n"
          ]
        },
        {
          "output_type": "stream",
          "name": "stderr",
          "text": [
            "\n",
            "100%|██████████| 1/1 [00:00<00:00,  1.54it/s]"
          ]
        },
        {
          "output_type": "stream",
          "name": "stdout",
          "text": [
            "Epoch 273 finished\n"
          ]
        },
        {
          "output_type": "stream",
          "name": "stderr",
          "text": [
            "\n",
            "100%|██████████| 1/1 [00:00<00:00,  1.52it/s]"
          ]
        },
        {
          "output_type": "stream",
          "name": "stdout",
          "text": [
            "Epoch 274 finished\n"
          ]
        },
        {
          "output_type": "stream",
          "name": "stderr",
          "text": [
            "\n",
            "100%|██████████| 1/1 [00:00<00:00,  1.50it/s]"
          ]
        },
        {
          "output_type": "stream",
          "name": "stdout",
          "text": [
            "Epoch 275 finished\n"
          ]
        },
        {
          "output_type": "stream",
          "name": "stderr",
          "text": [
            "\n",
            "100%|██████████| 1/1 [00:00<00:00,  1.53it/s]"
          ]
        },
        {
          "output_type": "stream",
          "name": "stdout",
          "text": [
            "Epoch 276 finished\n"
          ]
        },
        {
          "output_type": "stream",
          "name": "stderr",
          "text": [
            "\n",
            "100%|██████████| 1/1 [00:00<00:00,  1.58it/s]"
          ]
        },
        {
          "output_type": "stream",
          "name": "stdout",
          "text": [
            "Epoch 277 finished\n"
          ]
        },
        {
          "output_type": "stream",
          "name": "stderr",
          "text": [
            "\n",
            "100%|██████████| 1/1 [00:00<00:00,  1.57it/s]"
          ]
        },
        {
          "output_type": "stream",
          "name": "stdout",
          "text": [
            "Epoch 278 finished\n"
          ]
        },
        {
          "output_type": "stream",
          "name": "stderr",
          "text": [
            "\n",
            "100%|██████████| 1/1 [00:00<00:00,  1.57it/s]"
          ]
        },
        {
          "output_type": "stream",
          "name": "stdout",
          "text": [
            "Epoch 279 finished\n"
          ]
        },
        {
          "output_type": "stream",
          "name": "stderr",
          "text": [
            "\n",
            "  0%|          | 0/1 [00:00<?, ?it/s]"
          ]
        },
        {
          "output_type": "stream",
          "name": "stdout",
          "text": [
            "(Steps: 2400280) train/TotalLoss = 0.1897.\n",
            "(Steps: 2400280) train/mel_loss_ = 0.0535.\n",
            "(Steps: 2400280) train/mel_loss = 0.0399.\n",
            "(Steps: 2400280) train/dur_loss = 0.0184.\n",
            "(Steps: 2400280) train/pitch_loss = 0.0204.\n",
            "(Steps: 2400280) train/energy_loss = 0.0574.\n",
            "(Steps: 2400280) train/batch_size = 6.2000.\n",
            "(Steps: 2400280) train/x_band_width = 2.4000.\n",
            "(Steps: 2400280) train/h_band_width = 2.4000.\n",
            "KanTtsSAMBERT learning rate: 0.000082\n"
          ]
        },
        {
          "output_type": "stream",
          "name": "stderr",
          "text": [
            "100%|██████████| 1/1 [00:00<00:00,  1.43it/s]"
          ]
        },
        {
          "output_type": "stream",
          "name": "stdout",
          "text": [
            "Epoch 280 finished\n"
          ]
        },
        {
          "output_type": "stream",
          "name": "stderr",
          "text": [
            "\n",
            "100%|██████████| 1/1 [00:00<00:00,  1.55it/s]"
          ]
        },
        {
          "output_type": "stream",
          "name": "stdout",
          "text": [
            "Epoch 281 finished\n"
          ]
        },
        {
          "output_type": "stream",
          "name": "stderr",
          "text": [
            "\n",
            "100%|██████████| 1/1 [00:00<00:00,  1.57it/s]"
          ]
        },
        {
          "output_type": "stream",
          "name": "stdout",
          "text": [
            "Epoch 282 finished\n"
          ]
        },
        {
          "output_type": "stream",
          "name": "stderr",
          "text": [
            "\n",
            "100%|██████████| 1/1 [00:00<00:00,  1.53it/s]"
          ]
        },
        {
          "output_type": "stream",
          "name": "stdout",
          "text": [
            "Epoch 283 finished\n"
          ]
        },
        {
          "output_type": "stream",
          "name": "stderr",
          "text": [
            "\n",
            "100%|██████████| 1/1 [00:00<00:00,  1.36it/s]"
          ]
        },
        {
          "output_type": "stream",
          "name": "stdout",
          "text": [
            "Epoch 284 finished\n"
          ]
        },
        {
          "output_type": "stream",
          "name": "stderr",
          "text": [
            "\n",
            "100%|██████████| 1/1 [00:00<00:00,  1.40it/s]"
          ]
        },
        {
          "output_type": "stream",
          "name": "stdout",
          "text": [
            "Epoch 285 finished\n"
          ]
        },
        {
          "output_type": "stream",
          "name": "stderr",
          "text": [
            "\n",
            "100%|██████████| 1/1 [00:00<00:00,  1.24it/s]"
          ]
        },
        {
          "output_type": "stream",
          "name": "stdout",
          "text": [
            "Epoch 286 finished\n"
          ]
        },
        {
          "output_type": "stream",
          "name": "stderr",
          "text": [
            "\n",
            "100%|██████████| 1/1 [00:00<00:00,  1.36it/s]"
          ]
        },
        {
          "output_type": "stream",
          "name": "stdout",
          "text": [
            "Epoch 287 finished\n"
          ]
        },
        {
          "output_type": "stream",
          "name": "stderr",
          "text": [
            "\n",
            "100%|██████████| 1/1 [00:00<00:00,  1.28it/s]"
          ]
        },
        {
          "output_type": "stream",
          "name": "stdout",
          "text": [
            "Epoch 288 finished\n"
          ]
        },
        {
          "output_type": "stream",
          "name": "stderr",
          "text": [
            "\n",
            "100%|██████████| 1/1 [00:00<00:00,  1.38it/s]"
          ]
        },
        {
          "output_type": "stream",
          "name": "stdout",
          "text": [
            "Epoch 289 finished\n"
          ]
        },
        {
          "output_type": "stream",
          "name": "stderr",
          "text": [
            "\n",
            "  0%|          | 0/1 [00:00<?, ?it/s]"
          ]
        },
        {
          "output_type": "stream",
          "name": "stdout",
          "text": [
            "(Steps: 2400290) train/TotalLoss = 0.1874.\n",
            "(Steps: 2400290) train/mel_loss_ = 0.0534.\n",
            "(Steps: 2400290) train/mel_loss = 0.0398.\n",
            "(Steps: 2400290) train/dur_loss = 0.0179.\n",
            "(Steps: 2400290) train/pitch_loss = 0.0199.\n",
            "(Steps: 2400290) train/energy_loss = 0.0563.\n",
            "(Steps: 2400290) train/batch_size = 6.2000.\n",
            "(Steps: 2400290) train/x_band_width = 2.4000.\n",
            "(Steps: 2400290) train/h_band_width = 2.4000.\n",
            "KanTtsSAMBERT learning rate: 0.000082\n"
          ]
        },
        {
          "output_type": "stream",
          "name": "stderr",
          "text": [
            "100%|██████████| 1/1 [00:00<00:00,  1.27it/s]"
          ]
        },
        {
          "output_type": "stream",
          "name": "stdout",
          "text": [
            "Epoch 290 finished\n"
          ]
        },
        {
          "output_type": "stream",
          "name": "stderr",
          "text": [
            "\n",
            "100%|██████████| 1/1 [00:00<00:00,  1.12it/s]"
          ]
        },
        {
          "output_type": "stream",
          "name": "stdout",
          "text": [
            "Epoch 291 finished\n"
          ]
        },
        {
          "output_type": "stream",
          "name": "stderr",
          "text": [
            "\n",
            "100%|██████████| 1/1 [00:00<00:00,  1.42it/s]"
          ]
        },
        {
          "output_type": "stream",
          "name": "stdout",
          "text": [
            "Epoch 292 finished\n"
          ]
        },
        {
          "output_type": "stream",
          "name": "stderr",
          "text": [
            "\n",
            "100%|██████████| 1/1 [00:00<00:00,  1.51it/s]"
          ]
        },
        {
          "output_type": "stream",
          "name": "stdout",
          "text": [
            "Epoch 293 finished\n"
          ]
        },
        {
          "output_type": "stream",
          "name": "stderr",
          "text": [
            "\n",
            "100%|██████████| 1/1 [00:00<00:00,  1.55it/s]"
          ]
        },
        {
          "output_type": "stream",
          "name": "stdout",
          "text": [
            "Epoch 294 finished\n"
          ]
        },
        {
          "output_type": "stream",
          "name": "stderr",
          "text": [
            "\n",
            "100%|██████████| 1/1 [00:00<00:00,  1.56it/s]"
          ]
        },
        {
          "output_type": "stream",
          "name": "stdout",
          "text": [
            "Epoch 295 finished\n"
          ]
        },
        {
          "output_type": "stream",
          "name": "stderr",
          "text": [
            "\n",
            "100%|██████████| 1/1 [00:00<00:00,  1.58it/s]"
          ]
        },
        {
          "output_type": "stream",
          "name": "stdout",
          "text": [
            "Epoch 296 finished\n"
          ]
        },
        {
          "output_type": "stream",
          "name": "stderr",
          "text": [
            "\n",
            "100%|██████████| 1/1 [00:00<00:00,  1.58it/s]"
          ]
        },
        {
          "output_type": "stream",
          "name": "stdout",
          "text": [
            "Epoch 297 finished\n"
          ]
        },
        {
          "output_type": "stream",
          "name": "stderr",
          "text": [
            "\n",
            "100%|██████████| 1/1 [00:00<00:00,  1.55it/s]"
          ]
        },
        {
          "output_type": "stream",
          "name": "stdout",
          "text": [
            "Epoch 298 finished\n"
          ]
        },
        {
          "output_type": "stream",
          "name": "stderr",
          "text": [
            "\n",
            "100%|██████████| 1/1 [00:00<00:00,  1.59it/s]"
          ]
        },
        {
          "output_type": "stream",
          "name": "stdout",
          "text": [
            "Epoch 299 finished\n"
          ]
        },
        {
          "output_type": "stream",
          "name": "stderr",
          "text": [
            "\n",
            "  0%|          | 0/1 [00:00<?, ?it/s]"
          ]
        },
        {
          "output_type": "stream",
          "name": "stdout",
          "text": [
            "(Steps: 2400300) train/TotalLoss = 0.1861.\n",
            "(Steps: 2400300) train/mel_loss_ = 0.0530.\n",
            "(Steps: 2400300) train/mel_loss = 0.0397.\n",
            "(Steps: 2400300) train/dur_loss = 0.0177.\n",
            "(Steps: 2400300) train/pitch_loss = 0.0197.\n",
            "(Steps: 2400300) train/energy_loss = 0.0561.\n",
            "(Steps: 2400300) train/batch_size = 6.2000.\n",
            "(Steps: 2400300) train/x_band_width = 2.4000.\n",
            "(Steps: 2400300) train/h_band_width = 2.4000.\n",
            "KanTtsSAMBERT learning rate: 0.000082\n"
          ]
        },
        {
          "output_type": "stream",
          "name": "stderr",
          "text": [
            "100%|██████████| 1/1 [00:00<00:00,  1.53it/s]"
          ]
        },
        {
          "output_type": "stream",
          "name": "stdout",
          "text": [
            "Epoch 300 finished\n"
          ]
        },
        {
          "output_type": "stream",
          "name": "stderr",
          "text": [
            "\n",
            "100%|██████████| 1/1 [00:00<00:00,  1.53it/s]"
          ]
        },
        {
          "output_type": "stream",
          "name": "stdout",
          "text": [
            "Epoch 301 finished\n"
          ]
        },
        {
          "output_type": "stream",
          "name": "stderr",
          "text": [
            "\n",
            "100%|██████████| 1/1 [00:00<00:00,  1.58it/s]"
          ]
        },
        {
          "output_type": "stream",
          "name": "stdout",
          "text": [
            "Epoch 302 finished\n"
          ]
        },
        {
          "output_type": "stream",
          "name": "stderr",
          "text": [
            "\n",
            "100%|██████████| 1/1 [00:00<00:00,  1.55it/s]"
          ]
        },
        {
          "output_type": "stream",
          "name": "stdout",
          "text": [
            "Epoch 303 finished\n"
          ]
        },
        {
          "output_type": "stream",
          "name": "stderr",
          "text": [
            "\n",
            "100%|██████████| 1/1 [00:00<00:00,  1.35it/s]"
          ]
        },
        {
          "output_type": "stream",
          "name": "stdout",
          "text": [
            "Epoch 304 finished\n"
          ]
        },
        {
          "output_type": "stream",
          "name": "stderr",
          "text": [
            "\n",
            "100%|██████████| 1/1 [00:00<00:00,  1.38it/s]"
          ]
        },
        {
          "output_type": "stream",
          "name": "stdout",
          "text": [
            "Epoch 305 finished\n"
          ]
        },
        {
          "output_type": "stream",
          "name": "stderr",
          "text": [
            "\n",
            "100%|██████████| 1/1 [00:00<00:00,  1.45it/s]"
          ]
        },
        {
          "output_type": "stream",
          "name": "stdout",
          "text": [
            "Epoch 306 finished\n"
          ]
        },
        {
          "output_type": "stream",
          "name": "stderr",
          "text": [
            "\n",
            "100%|██████████| 1/1 [00:00<00:00,  1.59it/s]"
          ]
        },
        {
          "output_type": "stream",
          "name": "stdout",
          "text": [
            "Epoch 307 finished\n"
          ]
        },
        {
          "output_type": "stream",
          "name": "stderr",
          "text": [
            "\n",
            "100%|██████████| 1/1 [00:00<00:00,  1.45it/s]"
          ]
        },
        {
          "output_type": "stream",
          "name": "stdout",
          "text": [
            "Epoch 308 finished\n"
          ]
        },
        {
          "output_type": "stream",
          "name": "stderr",
          "text": [
            "\n",
            "100%|██████████| 1/1 [00:00<00:00,  1.32it/s]"
          ]
        },
        {
          "output_type": "stream",
          "name": "stdout",
          "text": [
            "Epoch 309 finished\n"
          ]
        },
        {
          "output_type": "stream",
          "name": "stderr",
          "text": [
            "\n",
            "  0%|          | 0/1 [00:00<?, ?it/s]"
          ]
        },
        {
          "output_type": "stream",
          "name": "stdout",
          "text": [
            "(Steps: 2400310) train/TotalLoss = 0.1847.\n",
            "(Steps: 2400310) train/mel_loss_ = 0.0528.\n",
            "(Steps: 2400310) train/mel_loss = 0.0395.\n",
            "(Steps: 2400310) train/dur_loss = 0.0175.\n",
            "(Steps: 2400310) train/pitch_loss = 0.0194.\n",
            "(Steps: 2400310) train/energy_loss = 0.0556.\n",
            "(Steps: 2400310) train/batch_size = 6.2000.\n",
            "(Steps: 2400310) train/x_band_width = 2.4000.\n",
            "(Steps: 2400310) train/h_band_width = 2.4000.\n",
            "KanTtsSAMBERT learning rate: 0.000082\n"
          ]
        },
        {
          "output_type": "stream",
          "name": "stderr",
          "text": [
            "100%|██████████| 1/1 [00:00<00:00,  1.37it/s]"
          ]
        },
        {
          "output_type": "stream",
          "name": "stdout",
          "text": [
            "Epoch 310 finished\n"
          ]
        },
        {
          "output_type": "stream",
          "name": "stderr",
          "text": [
            "\n",
            "100%|██████████| 1/1 [00:00<00:00,  1.43it/s]"
          ]
        },
        {
          "output_type": "stream",
          "name": "stdout",
          "text": [
            "Epoch 311 finished\n"
          ]
        },
        {
          "output_type": "stream",
          "name": "stderr",
          "text": [
            "\n",
            "100%|██████████| 1/1 [00:00<00:00,  1.41it/s]"
          ]
        },
        {
          "output_type": "stream",
          "name": "stdout",
          "text": [
            "Epoch 312 finished\n"
          ]
        },
        {
          "output_type": "stream",
          "name": "stderr",
          "text": [
            "\n",
            "100%|██████████| 1/1 [00:00<00:00,  1.43it/s]"
          ]
        },
        {
          "output_type": "stream",
          "name": "stdout",
          "text": [
            "Epoch 313 finished\n"
          ]
        },
        {
          "output_type": "stream",
          "name": "stderr",
          "text": [
            "\n",
            "100%|██████████| 1/1 [00:00<00:00,  1.41it/s]"
          ]
        },
        {
          "output_type": "stream",
          "name": "stdout",
          "text": [
            "Epoch 314 finished\n"
          ]
        },
        {
          "output_type": "stream",
          "name": "stderr",
          "text": [
            "\n",
            "100%|██████████| 1/1 [00:00<00:00,  1.42it/s]"
          ]
        },
        {
          "output_type": "stream",
          "name": "stdout",
          "text": [
            "Epoch 315 finished\n"
          ]
        },
        {
          "output_type": "stream",
          "name": "stderr",
          "text": [
            "\n",
            "100%|██████████| 1/1 [00:00<00:00,  1.41it/s]"
          ]
        },
        {
          "output_type": "stream",
          "name": "stdout",
          "text": [
            "Epoch 316 finished\n"
          ]
        },
        {
          "output_type": "stream",
          "name": "stderr",
          "text": [
            "\n",
            "100%|██████████| 1/1 [00:00<00:00,  1.46it/s]"
          ]
        },
        {
          "output_type": "stream",
          "name": "stdout",
          "text": [
            "Epoch 317 finished\n"
          ]
        },
        {
          "output_type": "stream",
          "name": "stderr",
          "text": [
            "\n",
            "100%|██████████| 1/1 [00:00<00:00,  1.48it/s]"
          ]
        },
        {
          "output_type": "stream",
          "name": "stdout",
          "text": [
            "Epoch 318 finished\n"
          ]
        },
        {
          "output_type": "stream",
          "name": "stderr",
          "text": [
            "\n",
            "100%|██████████| 1/1 [00:00<00:00,  1.59it/s]"
          ]
        },
        {
          "output_type": "stream",
          "name": "stdout",
          "text": [
            "Epoch 319 finished\n"
          ]
        },
        {
          "output_type": "stream",
          "name": "stderr",
          "text": [
            "\n",
            "  0%|          | 0/1 [00:00<?, ?it/s]"
          ]
        },
        {
          "output_type": "stream",
          "name": "stdout",
          "text": [
            "(Steps: 2400320) train/TotalLoss = 0.1821.\n",
            "(Steps: 2400320) train/mel_loss_ = 0.0524.\n",
            "(Steps: 2400320) train/mel_loss = 0.0391.\n",
            "(Steps: 2400320) train/dur_loss = 0.0172.\n",
            "(Steps: 2400320) train/pitch_loss = 0.0189.\n",
            "(Steps: 2400320) train/energy_loss = 0.0546.\n",
            "(Steps: 2400320) train/batch_size = 6.2000.\n",
            "(Steps: 2400320) train/x_band_width = 2.4000.\n",
            "(Steps: 2400320) train/h_band_width = 2.4000.\n",
            "KanTtsSAMBERT learning rate: 0.000082\n"
          ]
        },
        {
          "output_type": "stream",
          "name": "stderr",
          "text": [
            "100%|██████████| 1/1 [00:00<00:00,  1.46it/s]"
          ]
        },
        {
          "output_type": "stream",
          "name": "stdout",
          "text": [
            "Epoch 320 finished\n"
          ]
        },
        {
          "output_type": "stream",
          "name": "stderr",
          "text": [
            "\n",
            "100%|██████████| 1/1 [00:00<00:00,  1.53it/s]"
          ]
        },
        {
          "output_type": "stream",
          "name": "stdout",
          "text": [
            "Epoch 321 finished\n"
          ]
        },
        {
          "output_type": "stream",
          "name": "stderr",
          "text": [
            "\n",
            "100%|██████████| 1/1 [00:00<00:00,  1.57it/s]"
          ]
        },
        {
          "output_type": "stream",
          "name": "stdout",
          "text": [
            "Epoch 322 finished\n"
          ]
        },
        {
          "output_type": "stream",
          "name": "stderr",
          "text": [
            "\n",
            "100%|██████████| 1/1 [00:00<00:00,  1.59it/s]"
          ]
        },
        {
          "output_type": "stream",
          "name": "stdout",
          "text": [
            "Epoch 323 finished\n"
          ]
        },
        {
          "output_type": "stream",
          "name": "stderr",
          "text": [
            "\n",
            "100%|██████████| 1/1 [00:00<00:00,  1.54it/s]"
          ]
        },
        {
          "output_type": "stream",
          "name": "stdout",
          "text": [
            "Epoch 324 finished\n"
          ]
        },
        {
          "output_type": "stream",
          "name": "stderr",
          "text": [
            "\n",
            "100%|██████████| 1/1 [00:00<00:00,  1.57it/s]"
          ]
        },
        {
          "output_type": "stream",
          "name": "stdout",
          "text": [
            "Epoch 325 finished\n"
          ]
        },
        {
          "output_type": "stream",
          "name": "stderr",
          "text": [
            "\n",
            "100%|██████████| 1/1 [00:00<00:00,  1.58it/s]"
          ]
        },
        {
          "output_type": "stream",
          "name": "stdout",
          "text": [
            "Epoch 326 finished\n"
          ]
        },
        {
          "output_type": "stream",
          "name": "stderr",
          "text": [
            "\n",
            "100%|██████████| 1/1 [00:00<00:00,  1.59it/s]"
          ]
        },
        {
          "output_type": "stream",
          "name": "stdout",
          "text": [
            "Epoch 327 finished\n"
          ]
        },
        {
          "output_type": "stream",
          "name": "stderr",
          "text": [
            "\n",
            "100%|██████████| 1/1 [00:00<00:00,  1.58it/s]"
          ]
        },
        {
          "output_type": "stream",
          "name": "stdout",
          "text": [
            "Epoch 328 finished\n"
          ]
        },
        {
          "output_type": "stream",
          "name": "stderr",
          "text": [
            "\n",
            "100%|██████████| 1/1 [00:00<00:00,  1.52it/s]"
          ]
        },
        {
          "output_type": "stream",
          "name": "stdout",
          "text": [
            "Epoch 329 finished\n"
          ]
        },
        {
          "output_type": "stream",
          "name": "stderr",
          "text": [
            "\n",
            "  0%|          | 0/1 [00:00<?, ?it/s]"
          ]
        },
        {
          "output_type": "stream",
          "name": "stdout",
          "text": [
            "(Steps: 2400330) train/TotalLoss = 0.1807.\n",
            "(Steps: 2400330) train/mel_loss_ = 0.0521.\n",
            "(Steps: 2400330) train/mel_loss = 0.0390.\n",
            "(Steps: 2400330) train/dur_loss = 0.0168.\n",
            "(Steps: 2400330) train/pitch_loss = 0.0188.\n",
            "(Steps: 2400330) train/energy_loss = 0.0540.\n",
            "(Steps: 2400330) train/batch_size = 6.2000.\n",
            "(Steps: 2400330) train/x_band_width = 2.4000.\n",
            "(Steps: 2400330) train/h_band_width = 2.4000.\n",
            "KanTtsSAMBERT learning rate: 0.000082\n"
          ]
        },
        {
          "output_type": "stream",
          "name": "stderr",
          "text": [
            "100%|██████████| 1/1 [00:00<00:00,  1.46it/s]"
          ]
        },
        {
          "output_type": "stream",
          "name": "stdout",
          "text": [
            "Epoch 330 finished\n"
          ]
        },
        {
          "output_type": "stream",
          "name": "stderr",
          "text": [
            "\n",
            "100%|██████████| 1/1 [00:00<00:00,  1.58it/s]"
          ]
        },
        {
          "output_type": "stream",
          "name": "stdout",
          "text": [
            "Epoch 331 finished\n"
          ]
        },
        {
          "output_type": "stream",
          "name": "stderr",
          "text": [
            "\n",
            "100%|██████████| 1/1 [00:00<00:00,  1.56it/s]"
          ]
        },
        {
          "output_type": "stream",
          "name": "stdout",
          "text": [
            "Epoch 332 finished\n"
          ]
        },
        {
          "output_type": "stream",
          "name": "stderr",
          "text": [
            "\n",
            "100%|██████████| 1/1 [00:00<00:00,  1.49it/s]"
          ]
        },
        {
          "output_type": "stream",
          "name": "stdout",
          "text": [
            "Epoch 333 finished\n"
          ]
        },
        {
          "output_type": "stream",
          "name": "stderr",
          "text": [
            "\n",
            "100%|██████████| 1/1 [00:00<00:00,  1.35it/s]"
          ]
        },
        {
          "output_type": "stream",
          "name": "stdout",
          "text": [
            "Epoch 334 finished\n"
          ]
        },
        {
          "output_type": "stream",
          "name": "stderr",
          "text": [
            "\n",
            "100%|██████████| 1/1 [00:00<00:00,  1.31it/s]"
          ]
        },
        {
          "output_type": "stream",
          "name": "stdout",
          "text": [
            "Epoch 335 finished\n"
          ]
        },
        {
          "output_type": "stream",
          "name": "stderr",
          "text": [
            "\n",
            "100%|██████████| 1/1 [00:00<00:00,  1.25it/s]"
          ]
        },
        {
          "output_type": "stream",
          "name": "stdout",
          "text": [
            "Epoch 336 finished\n"
          ]
        },
        {
          "output_type": "stream",
          "name": "stderr",
          "text": [
            "\n",
            "100%|██████████| 1/1 [00:00<00:00,  1.28it/s]"
          ]
        },
        {
          "output_type": "stream",
          "name": "stdout",
          "text": [
            "Epoch 337 finished\n"
          ]
        },
        {
          "output_type": "stream",
          "name": "stderr",
          "text": [
            "\n",
            "100%|██████████| 1/1 [00:00<00:00,  1.25it/s]"
          ]
        },
        {
          "output_type": "stream",
          "name": "stdout",
          "text": [
            "Epoch 338 finished\n"
          ]
        },
        {
          "output_type": "stream",
          "name": "stderr",
          "text": [
            "\n",
            "100%|██████████| 1/1 [00:00<00:00,  1.48it/s]"
          ]
        },
        {
          "output_type": "stream",
          "name": "stdout",
          "text": [
            "Epoch 339 finished\n"
          ]
        },
        {
          "output_type": "stream",
          "name": "stderr",
          "text": [
            "\n",
            "  0%|          | 0/1 [00:00<?, ?it/s]"
          ]
        },
        {
          "output_type": "stream",
          "name": "stdout",
          "text": [
            "(Steps: 2400340) train/TotalLoss = 0.1799.\n",
            "(Steps: 2400340) train/mel_loss_ = 0.0518.\n",
            "(Steps: 2400340) train/mel_loss = 0.0389.\n",
            "(Steps: 2400340) train/dur_loss = 0.0166.\n",
            "(Steps: 2400340) train/pitch_loss = 0.0188.\n",
            "(Steps: 2400340) train/energy_loss = 0.0537.\n",
            "(Steps: 2400340) train/batch_size = 6.2000.\n",
            "(Steps: 2400340) train/x_band_width = 2.4000.\n",
            "(Steps: 2400340) train/h_band_width = 2.4000.\n",
            "KanTtsSAMBERT learning rate: 0.000082\n"
          ]
        },
        {
          "output_type": "stream",
          "name": "stderr",
          "text": [
            "100%|██████████| 1/1 [00:00<00:00,  1.35it/s]"
          ]
        },
        {
          "output_type": "stream",
          "name": "stdout",
          "text": [
            "Epoch 340 finished\n"
          ]
        },
        {
          "output_type": "stream",
          "name": "stderr",
          "text": [
            "\n",
            "100%|██████████| 1/1 [00:00<00:00,  1.36it/s]"
          ]
        },
        {
          "output_type": "stream",
          "name": "stdout",
          "text": [
            "Epoch 341 finished\n"
          ]
        },
        {
          "output_type": "stream",
          "name": "stderr",
          "text": [
            "\n",
            "100%|██████████| 1/1 [00:00<00:00,  1.30it/s]"
          ]
        },
        {
          "output_type": "stream",
          "name": "stdout",
          "text": [
            "Epoch 342 finished\n"
          ]
        },
        {
          "output_type": "stream",
          "name": "stderr",
          "text": [
            "\n",
            "100%|██████████| 1/1 [00:00<00:00,  1.44it/s]"
          ]
        },
        {
          "output_type": "stream",
          "name": "stdout",
          "text": [
            "Epoch 343 finished\n"
          ]
        },
        {
          "output_type": "stream",
          "name": "stderr",
          "text": [
            "\n",
            "100%|██████████| 1/1 [00:00<00:00,  1.52it/s]"
          ]
        },
        {
          "output_type": "stream",
          "name": "stdout",
          "text": [
            "Epoch 344 finished\n"
          ]
        },
        {
          "output_type": "stream",
          "name": "stderr",
          "text": [
            "\n",
            "100%|██████████| 1/1 [00:00<00:00,  1.34it/s]"
          ]
        },
        {
          "output_type": "stream",
          "name": "stdout",
          "text": [
            "Epoch 345 finished\n"
          ]
        },
        {
          "output_type": "stream",
          "name": "stderr",
          "text": [
            "\n",
            "100%|██████████| 1/1 [00:00<00:00,  1.34it/s]"
          ]
        },
        {
          "output_type": "stream",
          "name": "stdout",
          "text": [
            "Epoch 346 finished\n"
          ]
        },
        {
          "output_type": "stream",
          "name": "stderr",
          "text": [
            "\n",
            "100%|██████████| 1/1 [00:00<00:00,  1.47it/s]"
          ]
        },
        {
          "output_type": "stream",
          "name": "stdout",
          "text": [
            "Epoch 347 finished\n"
          ]
        },
        {
          "output_type": "stream",
          "name": "stderr",
          "text": [
            "\n",
            "100%|██████████| 1/1 [00:00<00:00,  1.46it/s]"
          ]
        },
        {
          "output_type": "stream",
          "name": "stdout",
          "text": [
            "Epoch 348 finished\n"
          ]
        },
        {
          "output_type": "stream",
          "name": "stderr",
          "text": [
            "\n",
            "100%|██████████| 1/1 [00:00<00:00,  1.45it/s]"
          ]
        },
        {
          "output_type": "stream",
          "name": "stdout",
          "text": [
            "Epoch 349 finished\n"
          ]
        },
        {
          "output_type": "stream",
          "name": "stderr",
          "text": [
            "\n",
            "  0%|          | 0/1 [00:00<?, ?it/s]"
          ]
        },
        {
          "output_type": "stream",
          "name": "stdout",
          "text": [
            "(Steps: 2400350) train/TotalLoss = 0.1777.\n",
            "(Steps: 2400350) train/mel_loss_ = 0.0516.\n",
            "(Steps: 2400350) train/mel_loss = 0.0387.\n",
            "(Steps: 2400350) train/dur_loss = 0.0164.\n",
            "(Steps: 2400350) train/pitch_loss = 0.0182.\n",
            "(Steps: 2400350) train/energy_loss = 0.0528.\n",
            "(Steps: 2400350) train/batch_size = 6.2000.\n",
            "(Steps: 2400350) train/x_band_width = 2.4000.\n",
            "(Steps: 2400350) train/h_band_width = 2.4000.\n",
            "KanTtsSAMBERT learning rate: 0.000082\n"
          ]
        },
        {
          "output_type": "stream",
          "name": "stderr",
          "text": [
            "100%|██████████| 1/1 [00:00<00:00,  1.36it/s]"
          ]
        },
        {
          "output_type": "stream",
          "name": "stdout",
          "text": [
            "Epoch 350 finished\n"
          ]
        },
        {
          "output_type": "stream",
          "name": "stderr",
          "text": [
            "\n",
            "100%|██████████| 1/1 [00:00<00:00,  1.40it/s]"
          ]
        },
        {
          "output_type": "stream",
          "name": "stdout",
          "text": [
            "Epoch 351 finished\n"
          ]
        },
        {
          "output_type": "stream",
          "name": "stderr",
          "text": [
            "\n",
            "100%|██████████| 1/1 [00:00<00:00,  1.37it/s]"
          ]
        },
        {
          "output_type": "stream",
          "name": "stdout",
          "text": [
            "Epoch 352 finished\n"
          ]
        },
        {
          "output_type": "stream",
          "name": "stderr",
          "text": [
            "\n",
            "100%|██████████| 1/1 [00:00<00:00,  1.45it/s]"
          ]
        },
        {
          "output_type": "stream",
          "name": "stdout",
          "text": [
            "Epoch 353 finished\n"
          ]
        },
        {
          "output_type": "stream",
          "name": "stderr",
          "text": [
            "\n",
            "100%|██████████| 1/1 [00:00<00:00,  1.35it/s]"
          ]
        },
        {
          "output_type": "stream",
          "name": "stdout",
          "text": [
            "Epoch 354 finished\n"
          ]
        },
        {
          "output_type": "stream",
          "name": "stderr",
          "text": [
            "\n",
            "100%|██████████| 1/1 [00:00<00:00,  1.49it/s]"
          ]
        },
        {
          "output_type": "stream",
          "name": "stdout",
          "text": [
            "Epoch 355 finished\n"
          ]
        },
        {
          "output_type": "stream",
          "name": "stderr",
          "text": [
            "\n",
            "100%|██████████| 1/1 [00:00<00:00,  1.54it/s]"
          ]
        },
        {
          "output_type": "stream",
          "name": "stdout",
          "text": [
            "Epoch 356 finished\n"
          ]
        },
        {
          "output_type": "stream",
          "name": "stderr",
          "text": [
            "\n",
            "100%|██████████| 1/1 [00:00<00:00,  1.45it/s]"
          ]
        },
        {
          "output_type": "stream",
          "name": "stdout",
          "text": [
            "Epoch 357 finished\n"
          ]
        },
        {
          "output_type": "stream",
          "name": "stderr",
          "text": [
            "\n",
            "100%|██████████| 1/1 [00:00<00:00,  1.34it/s]"
          ]
        },
        {
          "output_type": "stream",
          "name": "stdout",
          "text": [
            "Epoch 358 finished\n"
          ]
        },
        {
          "output_type": "stream",
          "name": "stderr",
          "text": [
            "\n",
            "100%|██████████| 1/1 [00:00<00:00,  1.34it/s]"
          ]
        },
        {
          "output_type": "stream",
          "name": "stdout",
          "text": [
            "Epoch 359 finished\n"
          ]
        },
        {
          "output_type": "stream",
          "name": "stderr",
          "text": [
            "\n",
            "  0%|          | 0/1 [00:00<?, ?it/s]"
          ]
        },
        {
          "output_type": "stream",
          "name": "stdout",
          "text": [
            "(Steps: 2400360) train/TotalLoss = 0.1764.\n",
            "(Steps: 2400360) train/mel_loss_ = 0.0513.\n",
            "(Steps: 2400360) train/mel_loss = 0.0384.\n",
            "(Steps: 2400360) train/dur_loss = 0.0162.\n",
            "(Steps: 2400360) train/pitch_loss = 0.0181.\n",
            "(Steps: 2400360) train/energy_loss = 0.0523.\n",
            "(Steps: 2400360) train/batch_size = 6.2000.\n",
            "(Steps: 2400360) train/x_band_width = 2.4000.\n",
            "(Steps: 2400360) train/h_band_width = 2.4000.\n",
            "KanTtsSAMBERT learning rate: 0.000082\n"
          ]
        },
        {
          "output_type": "stream",
          "name": "stderr",
          "text": [
            "100%|██████████| 1/1 [00:00<00:00,  1.32it/s]"
          ]
        },
        {
          "output_type": "stream",
          "name": "stdout",
          "text": [
            "Epoch 360 finished\n"
          ]
        },
        {
          "output_type": "stream",
          "name": "stderr",
          "text": [
            "\n",
            "100%|██████████| 1/1 [00:00<00:00,  1.40it/s]"
          ]
        },
        {
          "output_type": "stream",
          "name": "stdout",
          "text": [
            "Epoch 361 finished\n"
          ]
        },
        {
          "output_type": "stream",
          "name": "stderr",
          "text": [
            "\n",
            "100%|██████████| 1/1 [00:00<00:00,  1.42it/s]"
          ]
        },
        {
          "output_type": "stream",
          "name": "stdout",
          "text": [
            "Epoch 362 finished\n"
          ]
        },
        {
          "output_type": "stream",
          "name": "stderr",
          "text": [
            "\n",
            "100%|██████████| 1/1 [00:00<00:00,  1.38it/s]"
          ]
        },
        {
          "output_type": "stream",
          "name": "stdout",
          "text": [
            "Epoch 363 finished\n"
          ]
        },
        {
          "output_type": "stream",
          "name": "stderr",
          "text": [
            "\n",
            "100%|██████████| 1/1 [00:00<00:00,  1.44it/s]"
          ]
        },
        {
          "output_type": "stream",
          "name": "stdout",
          "text": [
            "Epoch 364 finished\n"
          ]
        },
        {
          "output_type": "stream",
          "name": "stderr",
          "text": [
            "\n",
            "100%|██████████| 1/1 [00:00<00:00,  1.40it/s]"
          ]
        },
        {
          "output_type": "stream",
          "name": "stdout",
          "text": [
            "Epoch 365 finished\n"
          ]
        },
        {
          "output_type": "stream",
          "name": "stderr",
          "text": [
            "\n",
            "100%|██████████| 1/1 [00:00<00:00,  1.41it/s]"
          ]
        },
        {
          "output_type": "stream",
          "name": "stdout",
          "text": [
            "Epoch 366 finished\n"
          ]
        },
        {
          "output_type": "stream",
          "name": "stderr",
          "text": [
            "\n",
            "100%|██████████| 1/1 [00:00<00:00,  1.51it/s]"
          ]
        },
        {
          "output_type": "stream",
          "name": "stdout",
          "text": [
            "Epoch 367 finished\n"
          ]
        },
        {
          "output_type": "stream",
          "name": "stderr",
          "text": [
            "\n",
            "100%|██████████| 1/1 [00:00<00:00,  1.57it/s]"
          ]
        },
        {
          "output_type": "stream",
          "name": "stdout",
          "text": [
            "Epoch 368 finished\n"
          ]
        },
        {
          "output_type": "stream",
          "name": "stderr",
          "text": [
            "\n",
            "100%|██████████| 1/1 [00:00<00:00,  1.55it/s]"
          ]
        },
        {
          "output_type": "stream",
          "name": "stdout",
          "text": [
            "Epoch 369 finished\n"
          ]
        },
        {
          "output_type": "stream",
          "name": "stderr",
          "text": [
            "\n",
            "  0%|          | 0/1 [00:00<?, ?it/s]"
          ]
        },
        {
          "output_type": "stream",
          "name": "stdout",
          "text": [
            "(Steps: 2400370) train/TotalLoss = 0.1747.\n",
            "(Steps: 2400370) train/mel_loss_ = 0.0513.\n",
            "(Steps: 2400370) train/mel_loss = 0.0383.\n",
            "(Steps: 2400370) train/dur_loss = 0.0159.\n",
            "(Steps: 2400370) train/pitch_loss = 0.0181.\n",
            "(Steps: 2400370) train/energy_loss = 0.0511.\n",
            "(Steps: 2400370) train/batch_size = 6.2000.\n",
            "(Steps: 2400370) train/x_band_width = 2.4000.\n",
            "(Steps: 2400370) train/h_band_width = 2.4000.\n",
            "KanTtsSAMBERT learning rate: 0.000082\n"
          ]
        },
        {
          "output_type": "stream",
          "name": "stderr",
          "text": [
            "100%|██████████| 1/1 [00:00<00:00,  1.46it/s]"
          ]
        },
        {
          "output_type": "stream",
          "name": "stdout",
          "text": [
            "Epoch 370 finished\n"
          ]
        },
        {
          "output_type": "stream",
          "name": "stderr",
          "text": [
            "\n",
            "100%|██████████| 1/1 [00:00<00:00,  1.51it/s]"
          ]
        },
        {
          "output_type": "stream",
          "name": "stdout",
          "text": [
            "Epoch 371 finished\n"
          ]
        },
        {
          "output_type": "stream",
          "name": "stderr",
          "text": [
            "\n",
            "100%|██████████| 1/1 [00:00<00:00,  1.56it/s]"
          ]
        },
        {
          "output_type": "stream",
          "name": "stdout",
          "text": [
            "Epoch 372 finished\n"
          ]
        },
        {
          "output_type": "stream",
          "name": "stderr",
          "text": [
            "\n",
            "100%|██████████| 1/1 [00:00<00:00,  1.58it/s]"
          ]
        },
        {
          "output_type": "stream",
          "name": "stdout",
          "text": [
            "Epoch 373 finished\n"
          ]
        },
        {
          "output_type": "stream",
          "name": "stderr",
          "text": [
            "\n",
            "100%|██████████| 1/1 [00:00<00:00,  1.55it/s]"
          ]
        },
        {
          "output_type": "stream",
          "name": "stdout",
          "text": [
            "Epoch 374 finished\n"
          ]
        },
        {
          "output_type": "stream",
          "name": "stderr",
          "text": [
            "\n",
            "100%|██████████| 1/1 [00:00<00:00,  1.55it/s]"
          ]
        },
        {
          "output_type": "stream",
          "name": "stdout",
          "text": [
            "Epoch 375 finished\n"
          ]
        },
        {
          "output_type": "stream",
          "name": "stderr",
          "text": [
            "\n",
            "100%|██████████| 1/1 [00:00<00:00,  1.56it/s]"
          ]
        },
        {
          "output_type": "stream",
          "name": "stdout",
          "text": [
            "Epoch 376 finished\n"
          ]
        },
        {
          "output_type": "stream",
          "name": "stderr",
          "text": [
            "\n",
            "100%|██████████| 1/1 [00:00<00:00,  1.54it/s]"
          ]
        },
        {
          "output_type": "stream",
          "name": "stdout",
          "text": [
            "Epoch 377 finished\n"
          ]
        },
        {
          "output_type": "stream",
          "name": "stderr",
          "text": [
            "\n",
            "100%|██████████| 1/1 [00:00<00:00,  1.55it/s]"
          ]
        },
        {
          "output_type": "stream",
          "name": "stdout",
          "text": [
            "Epoch 378 finished\n"
          ]
        },
        {
          "output_type": "stream",
          "name": "stderr",
          "text": [
            "\n",
            "100%|██████████| 1/1 [00:00<00:00,  1.56it/s]"
          ]
        },
        {
          "output_type": "stream",
          "name": "stdout",
          "text": [
            "Epoch 379 finished\n"
          ]
        },
        {
          "output_type": "stream",
          "name": "stderr",
          "text": [
            "\n",
            "  0%|          | 0/1 [00:00<?, ?it/s]"
          ]
        },
        {
          "output_type": "stream",
          "name": "stdout",
          "text": [
            "(Steps: 2400380) train/TotalLoss = 0.1736.\n",
            "(Steps: 2400380) train/mel_loss_ = 0.0510.\n",
            "(Steps: 2400380) train/mel_loss = 0.0382.\n",
            "(Steps: 2400380) train/dur_loss = 0.0158.\n",
            "(Steps: 2400380) train/pitch_loss = 0.0176.\n",
            "(Steps: 2400380) train/energy_loss = 0.0510.\n",
            "(Steps: 2400380) train/batch_size = 6.2000.\n",
            "(Steps: 2400380) train/x_band_width = 2.4000.\n",
            "(Steps: 2400380) train/h_band_width = 2.4000.\n",
            "KanTtsSAMBERT learning rate: 0.000082\n"
          ]
        },
        {
          "output_type": "stream",
          "name": "stderr",
          "text": [
            "100%|██████████| 1/1 [00:00<00:00,  1.45it/s]"
          ]
        },
        {
          "output_type": "stream",
          "name": "stdout",
          "text": [
            "Epoch 380 finished\n"
          ]
        },
        {
          "output_type": "stream",
          "name": "stderr",
          "text": [
            "\n",
            "100%|██████████| 1/1 [00:00<00:00,  1.54it/s]"
          ]
        },
        {
          "output_type": "stream",
          "name": "stdout",
          "text": [
            "Epoch 381 finished\n"
          ]
        },
        {
          "output_type": "stream",
          "name": "stderr",
          "text": [
            "\n",
            "100%|██████████| 1/1 [00:00<00:00,  1.47it/s]"
          ]
        },
        {
          "output_type": "stream",
          "name": "stdout",
          "text": [
            "Epoch 382 finished\n"
          ]
        },
        {
          "output_type": "stream",
          "name": "stderr",
          "text": [
            "\n",
            "100%|██████████| 1/1 [00:00<00:00,  1.39it/s]"
          ]
        },
        {
          "output_type": "stream",
          "name": "stdout",
          "text": [
            "Epoch 383 finished\n"
          ]
        },
        {
          "output_type": "stream",
          "name": "stderr",
          "text": [
            "\n",
            "100%|██████████| 1/1 [00:00<00:00,  1.37it/s]"
          ]
        },
        {
          "output_type": "stream",
          "name": "stdout",
          "text": [
            "Epoch 384 finished\n"
          ]
        },
        {
          "output_type": "stream",
          "name": "stderr",
          "text": [
            "\n",
            "100%|██████████| 1/1 [00:00<00:00,  1.41it/s]"
          ]
        },
        {
          "output_type": "stream",
          "name": "stdout",
          "text": [
            "Epoch 385 finished\n"
          ]
        },
        {
          "output_type": "stream",
          "name": "stderr",
          "text": [
            "\n",
            "100%|██████████| 1/1 [00:00<00:00,  1.44it/s]"
          ]
        },
        {
          "output_type": "stream",
          "name": "stdout",
          "text": [
            "Epoch 386 finished\n"
          ]
        },
        {
          "output_type": "stream",
          "name": "stderr",
          "text": [
            "\n",
            "100%|██████████| 1/1 [00:00<00:00,  1.40it/s]"
          ]
        },
        {
          "output_type": "stream",
          "name": "stdout",
          "text": [
            "Epoch 387 finished\n"
          ]
        },
        {
          "output_type": "stream",
          "name": "stderr",
          "text": [
            "\n",
            "100%|██████████| 1/1 [00:00<00:00,  1.41it/s]"
          ]
        },
        {
          "output_type": "stream",
          "name": "stdout",
          "text": [
            "Epoch 388 finished\n"
          ]
        },
        {
          "output_type": "stream",
          "name": "stderr",
          "text": [
            "\n",
            "100%|██████████| 1/1 [00:00<00:00,  1.42it/s]"
          ]
        },
        {
          "output_type": "stream",
          "name": "stdout",
          "text": [
            "Epoch 389 finished\n"
          ]
        },
        {
          "output_type": "stream",
          "name": "stderr",
          "text": [
            "\n",
            "  0%|          | 0/1 [00:00<?, ?it/s]"
          ]
        },
        {
          "output_type": "stream",
          "name": "stdout",
          "text": [
            "(Steps: 2400390) train/TotalLoss = 0.1720.\n",
            "(Steps: 2400390) train/mel_loss_ = 0.0507.\n",
            "(Steps: 2400390) train/mel_loss = 0.0381.\n",
            "(Steps: 2400390) train/dur_loss = 0.0155.\n",
            "(Steps: 2400390) train/pitch_loss = 0.0175.\n",
            "(Steps: 2400390) train/energy_loss = 0.0502.\n",
            "(Steps: 2400390) train/batch_size = 6.2000.\n",
            "(Steps: 2400390) train/x_band_width = 2.4000.\n",
            "(Steps: 2400390) train/h_band_width = 2.4000.\n",
            "KanTtsSAMBERT learning rate: 0.000082\n"
          ]
        },
        {
          "output_type": "stream",
          "name": "stderr",
          "text": [
            "100%|██████████| 1/1 [00:00<00:00,  1.37it/s]"
          ]
        },
        {
          "output_type": "stream",
          "name": "stdout",
          "text": [
            "Epoch 390 finished\n"
          ]
        },
        {
          "output_type": "stream",
          "name": "stderr",
          "text": [
            "\n",
            "100%|██████████| 1/1 [00:00<00:00,  1.47it/s]"
          ]
        },
        {
          "output_type": "stream",
          "name": "stdout",
          "text": [
            "Epoch 391 finished\n"
          ]
        },
        {
          "output_type": "stream",
          "name": "stderr",
          "text": [
            "\n",
            "100%|██████████| 1/1 [00:00<00:00,  1.48it/s]"
          ]
        },
        {
          "output_type": "stream",
          "name": "stdout",
          "text": [
            "Epoch 392 finished\n"
          ]
        },
        {
          "output_type": "stream",
          "name": "stderr",
          "text": [
            "\n",
            "100%|██████████| 1/1 [00:00<00:00,  1.56it/s]"
          ]
        },
        {
          "output_type": "stream",
          "name": "stdout",
          "text": [
            "Epoch 393 finished\n"
          ]
        },
        {
          "output_type": "stream",
          "name": "stderr",
          "text": [
            "\n",
            "100%|██████████| 1/1 [00:00<00:00,  1.59it/s]"
          ]
        },
        {
          "output_type": "stream",
          "name": "stdout",
          "text": [
            "Epoch 394 finished\n"
          ]
        },
        {
          "output_type": "stream",
          "name": "stderr",
          "text": [
            "\n",
            "100%|██████████| 1/1 [00:00<00:00,  1.57it/s]"
          ]
        },
        {
          "output_type": "stream",
          "name": "stdout",
          "text": [
            "Epoch 395 finished\n"
          ]
        },
        {
          "output_type": "stream",
          "name": "stderr",
          "text": [
            "\n",
            "100%|██████████| 1/1 [00:00<00:00,  1.58it/s]"
          ]
        },
        {
          "output_type": "stream",
          "name": "stdout",
          "text": [
            "Epoch 396 finished\n"
          ]
        },
        {
          "output_type": "stream",
          "name": "stderr",
          "text": [
            "\n",
            "100%|██████████| 1/1 [00:00<00:00,  1.58it/s]"
          ]
        },
        {
          "output_type": "stream",
          "name": "stdout",
          "text": [
            "Epoch 397 finished\n"
          ]
        },
        {
          "output_type": "stream",
          "name": "stderr",
          "text": [
            "\n",
            "100%|██████████| 1/1 [00:00<00:00,  1.60it/s]"
          ]
        },
        {
          "output_type": "stream",
          "name": "stdout",
          "text": [
            "Epoch 398 finished\n"
          ]
        },
        {
          "output_type": "stream",
          "name": "stderr",
          "text": [
            "\n",
            "100%|██████████| 1/1 [00:00<00:00,  1.55it/s]"
          ]
        },
        {
          "output_type": "stream",
          "name": "stdout",
          "text": [
            "Epoch 399 finished\n"
          ]
        },
        {
          "output_type": "stream",
          "name": "stderr",
          "text": [
            "\n",
            "  0%|          | 0/1 [00:00<?, ?it/s]"
          ]
        },
        {
          "output_type": "stream",
          "name": "stdout",
          "text": [
            "(Steps: 2400400) train/TotalLoss = 0.1711.\n",
            "(Steps: 2400400) train/mel_loss_ = 0.0505.\n",
            "(Steps: 2400400) train/mel_loss = 0.0378.\n",
            "(Steps: 2400400) train/dur_loss = 0.0153.\n",
            "(Steps: 2400400) train/pitch_loss = 0.0176.\n",
            "(Steps: 2400400) train/energy_loss = 0.0500.\n",
            "(Steps: 2400400) train/batch_size = 6.2000.\n",
            "(Steps: 2400400) train/x_band_width = 2.4000.\n",
            "(Steps: 2400400) train/h_band_width = 2.4000.\n",
            "KanTtsSAMBERT learning rate: 0.000082\n"
          ]
        },
        {
          "output_type": "stream",
          "name": "stderr",
          "text": [
            "100%|██████████| 1/1 [00:00<00:00,  1.46it/s]"
          ]
        },
        {
          "output_type": "stream",
          "name": "stdout",
          "text": [
            "Epoch 400 finished\n"
          ]
        },
        {
          "output_type": "stream",
          "name": "stderr",
          "text": [
            "\n",
            "100%|██████████| 1/1 [00:00<00:00,  1.60it/s]"
          ]
        },
        {
          "output_type": "stream",
          "name": "stdout",
          "text": [
            "Epoch 401 finished\n"
          ]
        },
        {
          "output_type": "stream",
          "name": "stderr",
          "text": [
            "\n",
            "100%|██████████| 1/1 [00:00<00:00,  1.53it/s]"
          ]
        },
        {
          "output_type": "stream",
          "name": "stdout",
          "text": [
            "Epoch 402 finished\n"
          ]
        },
        {
          "output_type": "stream",
          "name": "stderr",
          "text": [
            "\n",
            "100%|██████████| 1/1 [00:00<00:00,  1.55it/s]"
          ]
        },
        {
          "output_type": "stream",
          "name": "stdout",
          "text": [
            "Epoch 403 finished\n"
          ]
        },
        {
          "output_type": "stream",
          "name": "stderr",
          "text": [
            "\n",
            "100%|██████████| 1/1 [00:00<00:00,  1.55it/s]"
          ]
        },
        {
          "output_type": "stream",
          "name": "stdout",
          "text": [
            "Epoch 404 finished\n"
          ]
        },
        {
          "output_type": "stream",
          "name": "stderr",
          "text": [
            "\n",
            "100%|██████████| 1/1 [00:00<00:00,  1.53it/s]"
          ]
        },
        {
          "output_type": "stream",
          "name": "stdout",
          "text": [
            "Epoch 405 finished\n"
          ]
        },
        {
          "output_type": "stream",
          "name": "stderr",
          "text": [
            "\n",
            "100%|██████████| 1/1 [00:00<00:00,  1.53it/s]"
          ]
        },
        {
          "output_type": "stream",
          "name": "stdout",
          "text": [
            "Epoch 406 finished\n"
          ]
        },
        {
          "output_type": "stream",
          "name": "stderr",
          "text": [
            "\n",
            "100%|██████████| 1/1 [00:00<00:00,  1.41it/s]"
          ]
        },
        {
          "output_type": "stream",
          "name": "stdout",
          "text": [
            "Epoch 407 finished\n"
          ]
        },
        {
          "output_type": "stream",
          "name": "stderr",
          "text": [
            "\n",
            "100%|██████████| 1/1 [00:00<00:00,  1.36it/s]"
          ]
        },
        {
          "output_type": "stream",
          "name": "stdout",
          "text": [
            "Epoch 408 finished\n"
          ]
        },
        {
          "output_type": "stream",
          "name": "stderr",
          "text": [
            "\n",
            "100%|██████████| 1/1 [00:00<00:00,  1.37it/s]"
          ]
        },
        {
          "output_type": "stream",
          "name": "stdout",
          "text": [
            "Epoch 409 finished\n"
          ]
        },
        {
          "output_type": "stream",
          "name": "stderr",
          "text": [
            "\n",
            "  0%|          | 0/1 [00:00<?, ?it/s]"
          ]
        },
        {
          "output_type": "stream",
          "name": "stdout",
          "text": [
            "(Steps: 2400410) train/TotalLoss = 0.1694.\n",
            "(Steps: 2400410) train/mel_loss_ = 0.0501.\n",
            "(Steps: 2400410) train/mel_loss = 0.0377.\n",
            "(Steps: 2400410) train/dur_loss = 0.0153.\n",
            "(Steps: 2400410) train/pitch_loss = 0.0173.\n",
            "(Steps: 2400410) train/energy_loss = 0.0491.\n",
            "(Steps: 2400410) train/batch_size = 6.2000.\n",
            "(Steps: 2400410) train/x_band_width = 2.4000.\n",
            "(Steps: 2400410) train/h_band_width = 2.4000.\n",
            "KanTtsSAMBERT learning rate: 0.000082\n"
          ]
        },
        {
          "output_type": "stream",
          "name": "stderr",
          "text": [
            "100%|██████████| 1/1 [00:00<00:00,  1.35it/s]"
          ]
        },
        {
          "output_type": "stream",
          "name": "stdout",
          "text": [
            "Epoch 410 finished\n"
          ]
        },
        {
          "output_type": "stream",
          "name": "stderr",
          "text": [
            "\n",
            "100%|██████████| 1/1 [00:00<00:00,  1.47it/s]"
          ]
        },
        {
          "output_type": "stream",
          "name": "stdout",
          "text": [
            "Epoch 411 finished\n"
          ]
        },
        {
          "output_type": "stream",
          "name": "stderr",
          "text": [
            "\n",
            "100%|██████████| 1/1 [00:01<00:00,  1.36s/it]"
          ]
        },
        {
          "output_type": "stream",
          "name": "stdout",
          "text": [
            "Epoch 412 finished\n"
          ]
        },
        {
          "output_type": "stream",
          "name": "stderr",
          "text": [
            "\n",
            "100%|██████████| 1/1 [00:00<00:00,  1.44it/s]"
          ]
        },
        {
          "output_type": "stream",
          "name": "stdout",
          "text": [
            "Epoch 413 finished\n"
          ]
        },
        {
          "output_type": "stream",
          "name": "stderr",
          "text": [
            "\n",
            "100%|██████████| 1/1 [00:00<00:00,  1.41it/s]"
          ]
        },
        {
          "output_type": "stream",
          "name": "stdout",
          "text": [
            "Epoch 414 finished\n"
          ]
        },
        {
          "output_type": "stream",
          "name": "stderr",
          "text": [
            "\n",
            "100%|██████████| 1/1 [00:00<00:00,  1.46it/s]"
          ]
        },
        {
          "output_type": "stream",
          "name": "stdout",
          "text": [
            "Epoch 415 finished\n"
          ]
        },
        {
          "output_type": "stream",
          "name": "stderr",
          "text": [
            "\n",
            "100%|██████████| 1/1 [00:00<00:00,  1.52it/s]"
          ]
        },
        {
          "output_type": "stream",
          "name": "stdout",
          "text": [
            "Epoch 416 finished\n"
          ]
        },
        {
          "output_type": "stream",
          "name": "stderr",
          "text": [
            "\n",
            "100%|██████████| 1/1 [00:00<00:00,  1.54it/s]"
          ]
        },
        {
          "output_type": "stream",
          "name": "stdout",
          "text": [
            "Epoch 417 finished\n"
          ]
        },
        {
          "output_type": "stream",
          "name": "stderr",
          "text": [
            "\n",
            "100%|██████████| 1/1 [00:00<00:00,  1.35it/s]"
          ]
        },
        {
          "output_type": "stream",
          "name": "stdout",
          "text": [
            "Epoch 418 finished\n"
          ]
        },
        {
          "output_type": "stream",
          "name": "stderr",
          "text": [
            "\n",
            "100%|██████████| 1/1 [00:00<00:00,  1.25it/s]"
          ]
        },
        {
          "output_type": "stream",
          "name": "stdout",
          "text": [
            "Epoch 419 finished\n"
          ]
        },
        {
          "output_type": "stream",
          "name": "stderr",
          "text": [
            "\n",
            "  0%|          | 0/1 [00:00<?, ?it/s]"
          ]
        },
        {
          "output_type": "stream",
          "name": "stdout",
          "text": [
            "(Steps: 2400420) train/TotalLoss = 0.1687.\n",
            "(Steps: 2400420) train/mel_loss_ = 0.0498.\n",
            "(Steps: 2400420) train/mel_loss = 0.0375.\n",
            "(Steps: 2400420) train/dur_loss = 0.0151.\n",
            "(Steps: 2400420) train/pitch_loss = 0.0172.\n",
            "(Steps: 2400420) train/energy_loss = 0.0491.\n",
            "(Steps: 2400420) train/batch_size = 6.2000.\n",
            "(Steps: 2400420) train/x_band_width = 2.4000.\n",
            "(Steps: 2400420) train/h_band_width = 2.4000.\n",
            "KanTtsSAMBERT learning rate: 0.000082\n"
          ]
        },
        {
          "output_type": "stream",
          "name": "stderr",
          "text": [
            "100%|██████████| 1/1 [00:00<00:00,  1.22it/s]"
          ]
        },
        {
          "output_type": "stream",
          "name": "stdout",
          "text": [
            "Epoch 420 finished\n"
          ]
        },
        {
          "output_type": "stream",
          "name": "stderr",
          "text": [
            "\n",
            "100%|██████████| 1/1 [00:00<00:00,  1.50it/s]"
          ]
        },
        {
          "output_type": "stream",
          "name": "stdout",
          "text": [
            "Epoch 421 finished\n"
          ]
        },
        {
          "output_type": "stream",
          "name": "stderr",
          "text": [
            "\n",
            "100%|██████████| 1/1 [00:00<00:00,  1.54it/s]"
          ]
        },
        {
          "output_type": "stream",
          "name": "stdout",
          "text": [
            "Epoch 422 finished\n"
          ]
        },
        {
          "output_type": "stream",
          "name": "stderr",
          "text": [
            "\n",
            "100%|██████████| 1/1 [00:00<00:00,  1.53it/s]"
          ]
        },
        {
          "output_type": "stream",
          "name": "stdout",
          "text": [
            "Epoch 423 finished\n"
          ]
        },
        {
          "output_type": "stream",
          "name": "stderr",
          "text": [
            "\n",
            "100%|██████████| 1/1 [00:00<00:00,  1.55it/s]"
          ]
        },
        {
          "output_type": "stream",
          "name": "stdout",
          "text": [
            "Epoch 424 finished\n"
          ]
        },
        {
          "output_type": "stream",
          "name": "stderr",
          "text": [
            "\n",
            "100%|██████████| 1/1 [00:00<00:00,  1.54it/s]"
          ]
        },
        {
          "output_type": "stream",
          "name": "stdout",
          "text": [
            "Epoch 425 finished\n"
          ]
        },
        {
          "output_type": "stream",
          "name": "stderr",
          "text": [
            "\n",
            "100%|██████████| 1/1 [00:00<00:00,  1.53it/s]"
          ]
        },
        {
          "output_type": "stream",
          "name": "stdout",
          "text": [
            "Epoch 426 finished\n"
          ]
        },
        {
          "output_type": "stream",
          "name": "stderr",
          "text": [
            "\n",
            "100%|██████████| 1/1 [00:00<00:00,  1.55it/s]"
          ]
        },
        {
          "output_type": "stream",
          "name": "stdout",
          "text": [
            "Epoch 427 finished\n"
          ]
        },
        {
          "output_type": "stream",
          "name": "stderr",
          "text": [
            "\n",
            "100%|██████████| 1/1 [00:00<00:00,  1.49it/s]"
          ]
        },
        {
          "output_type": "stream",
          "name": "stdout",
          "text": [
            "Epoch 428 finished\n"
          ]
        },
        {
          "output_type": "stream",
          "name": "stderr",
          "text": [
            "\n",
            "100%|██████████| 1/1 [00:00<00:00,  1.53it/s]"
          ]
        },
        {
          "output_type": "stream",
          "name": "stdout",
          "text": [
            "Epoch 429 finished\n"
          ]
        },
        {
          "output_type": "stream",
          "name": "stderr",
          "text": [
            "\n",
            "  0%|          | 0/1 [00:00<?, ?it/s]"
          ]
        },
        {
          "output_type": "stream",
          "name": "stdout",
          "text": [
            "(Steps: 2400430) train/TotalLoss = 0.1670.\n",
            "(Steps: 2400430) train/mel_loss_ = 0.0497.\n",
            "(Steps: 2400430) train/mel_loss = 0.0375.\n",
            "(Steps: 2400430) train/dur_loss = 0.0148.\n",
            "(Steps: 2400430) train/pitch_loss = 0.0172.\n",
            "(Steps: 2400430) train/energy_loss = 0.0478.\n",
            "(Steps: 2400430) train/batch_size = 6.2000.\n",
            "(Steps: 2400430) train/x_band_width = 2.4000.\n",
            "(Steps: 2400430) train/h_band_width = 2.4000.\n",
            "KanTtsSAMBERT learning rate: 0.000082\n"
          ]
        },
        {
          "output_type": "stream",
          "name": "stderr",
          "text": [
            "100%|██████████| 1/1 [00:00<00:00,  1.36it/s]"
          ]
        },
        {
          "output_type": "stream",
          "name": "stdout",
          "text": [
            "Epoch 430 finished\n"
          ]
        },
        {
          "output_type": "stream",
          "name": "stderr",
          "text": [
            "\n",
            "100%|██████████| 1/1 [00:00<00:00,  1.33it/s]"
          ]
        },
        {
          "output_type": "stream",
          "name": "stdout",
          "text": [
            "Epoch 431 finished\n"
          ]
        },
        {
          "output_type": "stream",
          "name": "stderr",
          "text": [
            "\n",
            "100%|██████████| 1/1 [00:00<00:00,  1.35it/s]"
          ]
        },
        {
          "output_type": "stream",
          "name": "stdout",
          "text": [
            "Epoch 432 finished\n"
          ]
        },
        {
          "output_type": "stream",
          "name": "stderr",
          "text": [
            "\n",
            "100%|██████████| 1/1 [00:00<00:00,  1.38it/s]"
          ]
        },
        {
          "output_type": "stream",
          "name": "stdout",
          "text": [
            "Epoch 433 finished\n"
          ]
        },
        {
          "output_type": "stream",
          "name": "stderr",
          "text": [
            "\n",
            "100%|██████████| 1/1 [00:00<00:00,  1.46it/s]"
          ]
        },
        {
          "output_type": "stream",
          "name": "stdout",
          "text": [
            "Epoch 434 finished\n"
          ]
        },
        {
          "output_type": "stream",
          "name": "stderr",
          "text": [
            "\n",
            "100%|██████████| 1/1 [00:00<00:00,  1.39it/s]"
          ]
        },
        {
          "output_type": "stream",
          "name": "stdout",
          "text": [
            "Epoch 435 finished\n"
          ]
        },
        {
          "output_type": "stream",
          "name": "stderr",
          "text": [
            "\n",
            "100%|██████████| 1/1 [00:00<00:00,  1.40it/s]"
          ]
        },
        {
          "output_type": "stream",
          "name": "stdout",
          "text": [
            "Epoch 436 finished\n"
          ]
        },
        {
          "output_type": "stream",
          "name": "stderr",
          "text": [
            "\n",
            "100%|██████████| 1/1 [00:00<00:00,  1.36it/s]"
          ]
        },
        {
          "output_type": "stream",
          "name": "stdout",
          "text": [
            "Epoch 437 finished\n"
          ]
        },
        {
          "output_type": "stream",
          "name": "stderr",
          "text": [
            "\n",
            "100%|██████████| 1/1 [00:00<00:00,  1.38it/s]"
          ]
        },
        {
          "output_type": "stream",
          "name": "stdout",
          "text": [
            "Epoch 438 finished\n"
          ]
        },
        {
          "output_type": "stream",
          "name": "stderr",
          "text": [
            "\n",
            "100%|██████████| 1/1 [00:00<00:00,  1.38it/s]"
          ]
        },
        {
          "output_type": "stream",
          "name": "stdout",
          "text": [
            "Epoch 439 finished\n"
          ]
        },
        {
          "output_type": "stream",
          "name": "stderr",
          "text": [
            "\n",
            "  0%|          | 0/1 [00:00<?, ?it/s]"
          ]
        },
        {
          "output_type": "stream",
          "name": "stdout",
          "text": [
            "(Steps: 2400440) train/TotalLoss = 0.1656.\n",
            "(Steps: 2400440) train/mel_loss_ = 0.0494.\n",
            "(Steps: 2400440) train/mel_loss = 0.0372.\n",
            "(Steps: 2400440) train/dur_loss = 0.0148.\n",
            "(Steps: 2400440) train/pitch_loss = 0.0165.\n",
            "(Steps: 2400440) train/energy_loss = 0.0476.\n",
            "(Steps: 2400440) train/batch_size = 6.2000.\n",
            "(Steps: 2400440) train/x_band_width = 2.4000.\n",
            "(Steps: 2400440) train/h_band_width = 2.4000.\n",
            "KanTtsSAMBERT learning rate: 0.000082\n"
          ]
        },
        {
          "output_type": "stream",
          "name": "stderr",
          "text": [
            "100%|██████████| 1/1 [00:00<00:00,  1.33it/s]"
          ]
        },
        {
          "output_type": "stream",
          "name": "stdout",
          "text": [
            "Epoch 440 finished\n"
          ]
        },
        {
          "output_type": "stream",
          "name": "stderr",
          "text": [
            "\n",
            "100%|██████████| 1/1 [00:00<00:00,  1.54it/s]"
          ]
        },
        {
          "output_type": "stream",
          "name": "stdout",
          "text": [
            "Epoch 441 finished\n"
          ]
        },
        {
          "output_type": "stream",
          "name": "stderr",
          "text": [
            "\n",
            "100%|██████████| 1/1 [00:00<00:00,  1.55it/s]"
          ]
        },
        {
          "output_type": "stream",
          "name": "stdout",
          "text": [
            "Epoch 442 finished\n"
          ]
        },
        {
          "output_type": "stream",
          "name": "stderr",
          "text": [
            "\n",
            "100%|██████████| 1/1 [00:00<00:00,  1.54it/s]"
          ]
        },
        {
          "output_type": "stream",
          "name": "stdout",
          "text": [
            "Epoch 443 finished\n"
          ]
        },
        {
          "output_type": "stream",
          "name": "stderr",
          "text": [
            "\n",
            "100%|██████████| 1/1 [00:00<00:00,  1.54it/s]"
          ]
        },
        {
          "output_type": "stream",
          "name": "stdout",
          "text": [
            "Epoch 444 finished\n"
          ]
        },
        {
          "output_type": "stream",
          "name": "stderr",
          "text": [
            "\n",
            "100%|██████████| 1/1 [00:00<00:00,  1.53it/s]"
          ]
        },
        {
          "output_type": "stream",
          "name": "stdout",
          "text": [
            "Epoch 445 finished\n"
          ]
        },
        {
          "output_type": "stream",
          "name": "stderr",
          "text": [
            "\n",
            "100%|██████████| 1/1 [00:00<00:00,  1.51it/s]"
          ]
        },
        {
          "output_type": "stream",
          "name": "stdout",
          "text": [
            "Epoch 446 finished\n"
          ]
        },
        {
          "output_type": "stream",
          "name": "stderr",
          "text": [
            "\n",
            "100%|██████████| 1/1 [00:00<00:00,  1.56it/s]"
          ]
        },
        {
          "output_type": "stream",
          "name": "stdout",
          "text": [
            "Epoch 447 finished\n"
          ]
        },
        {
          "output_type": "stream",
          "name": "stderr",
          "text": [
            "\n",
            "100%|██████████| 1/1 [00:00<00:00,  1.56it/s]"
          ]
        },
        {
          "output_type": "stream",
          "name": "stdout",
          "text": [
            "Epoch 448 finished\n"
          ]
        },
        {
          "output_type": "stream",
          "name": "stderr",
          "text": [
            "\n",
            "100%|██████████| 1/1 [00:00<00:00,  1.56it/s]"
          ]
        },
        {
          "output_type": "stream",
          "name": "stdout",
          "text": [
            "Epoch 449 finished\n"
          ]
        },
        {
          "output_type": "stream",
          "name": "stderr",
          "text": [
            "\n",
            "  0%|          | 0/1 [00:00<?, ?it/s]"
          ]
        },
        {
          "output_type": "stream",
          "name": "stdout",
          "text": [
            "(Steps: 2400450) train/TotalLoss = 0.1647.\n",
            "(Steps: 2400450) train/mel_loss_ = 0.0492.\n",
            "(Steps: 2400450) train/mel_loss = 0.0371.\n",
            "(Steps: 2400450) train/dur_loss = 0.0146.\n",
            "(Steps: 2400450) train/pitch_loss = 0.0165.\n",
            "(Steps: 2400450) train/energy_loss = 0.0472.\n",
            "(Steps: 2400450) train/batch_size = 6.2000.\n",
            "(Steps: 2400450) train/x_band_width = 2.4000.\n",
            "(Steps: 2400450) train/h_band_width = 2.4000.\n",
            "KanTtsSAMBERT learning rate: 0.000082\n"
          ]
        },
        {
          "output_type": "stream",
          "name": "stderr",
          "text": [
            "100%|██████████| 1/1 [00:00<00:00,  1.42it/s]"
          ]
        },
        {
          "output_type": "stream",
          "name": "stdout",
          "text": [
            "Epoch 450 finished\n"
          ]
        },
        {
          "output_type": "stream",
          "name": "stderr",
          "text": [
            "\n",
            "100%|██████████| 1/1 [00:00<00:00,  1.56it/s]"
          ]
        },
        {
          "output_type": "stream",
          "name": "stdout",
          "text": [
            "Epoch 451 finished\n"
          ]
        },
        {
          "output_type": "stream",
          "name": "stderr",
          "text": [
            "\n",
            "100%|██████████| 1/1 [00:00<00:00,  1.53it/s]"
          ]
        },
        {
          "output_type": "stream",
          "name": "stdout",
          "text": [
            "Epoch 452 finished\n"
          ]
        },
        {
          "output_type": "stream",
          "name": "stderr",
          "text": [
            "\n",
            "100%|██████████| 1/1 [00:00<00:00,  1.54it/s]"
          ]
        },
        {
          "output_type": "stream",
          "name": "stdout",
          "text": [
            "Epoch 453 finished\n"
          ]
        },
        {
          "output_type": "stream",
          "name": "stderr",
          "text": [
            "\n",
            "100%|██████████| 1/1 [00:00<00:00,  1.54it/s]"
          ]
        },
        {
          "output_type": "stream",
          "name": "stdout",
          "text": [
            "Epoch 454 finished\n"
          ]
        },
        {
          "output_type": "stream",
          "name": "stderr",
          "text": [
            "\n",
            "100%|██████████| 1/1 [00:00<00:00,  1.40it/s]"
          ]
        },
        {
          "output_type": "stream",
          "name": "stdout",
          "text": [
            "Epoch 455 finished\n"
          ]
        },
        {
          "output_type": "stream",
          "name": "stderr",
          "text": [
            "\n",
            "100%|██████████| 1/1 [00:00<00:00,  1.36it/s]"
          ]
        },
        {
          "output_type": "stream",
          "name": "stdout",
          "text": [
            "Epoch 456 finished\n"
          ]
        },
        {
          "output_type": "stream",
          "name": "stderr",
          "text": [
            "\n",
            "100%|██████████| 1/1 [00:00<00:00,  1.38it/s]"
          ]
        },
        {
          "output_type": "stream",
          "name": "stdout",
          "text": [
            "Epoch 457 finished\n"
          ]
        },
        {
          "output_type": "stream",
          "name": "stderr",
          "text": [
            "\n",
            "100%|██████████| 1/1 [00:00<00:00,  1.42it/s]"
          ]
        },
        {
          "output_type": "stream",
          "name": "stdout",
          "text": [
            "Epoch 458 finished\n"
          ]
        },
        {
          "output_type": "stream",
          "name": "stderr",
          "text": [
            "\n",
            "100%|██████████| 1/1 [00:00<00:00,  1.42it/s]"
          ]
        },
        {
          "output_type": "stream",
          "name": "stdout",
          "text": [
            "Epoch 459 finished\n"
          ]
        },
        {
          "output_type": "stream",
          "name": "stderr",
          "text": [
            "\n",
            "  0%|          | 0/1 [00:00<?, ?it/s]"
          ]
        },
        {
          "output_type": "stream",
          "name": "stdout",
          "text": [
            "(Steps: 2400460) train/TotalLoss = 0.1635.\n",
            "(Steps: 2400460) train/mel_loss_ = 0.0490.\n",
            "(Steps: 2400460) train/mel_loss = 0.0369.\n",
            "(Steps: 2400460) train/dur_loss = 0.0144.\n",
            "(Steps: 2400460) train/pitch_loss = 0.0163.\n",
            "(Steps: 2400460) train/energy_loss = 0.0470.\n",
            "(Steps: 2400460) train/batch_size = 6.2000.\n",
            "(Steps: 2400460) train/x_band_width = 2.4000.\n",
            "(Steps: 2400460) train/h_band_width = 2.4000.\n",
            "KanTtsSAMBERT learning rate: 0.000082\n"
          ]
        },
        {
          "output_type": "stream",
          "name": "stderr",
          "text": [
            "100%|██████████| 1/1 [00:00<00:00,  1.37it/s]"
          ]
        },
        {
          "output_type": "stream",
          "name": "stdout",
          "text": [
            "Epoch 460 finished\n"
          ]
        },
        {
          "output_type": "stream",
          "name": "stderr",
          "text": [
            "\n",
            "100%|██████████| 1/1 [00:00<00:00,  1.44it/s]"
          ]
        },
        {
          "output_type": "stream",
          "name": "stdout",
          "text": [
            "Epoch 461 finished\n"
          ]
        },
        {
          "output_type": "stream",
          "name": "stderr",
          "text": [
            "\n",
            "100%|██████████| 1/1 [00:00<00:00,  1.43it/s]"
          ]
        },
        {
          "output_type": "stream",
          "name": "stdout",
          "text": [
            "Epoch 462 finished\n"
          ]
        },
        {
          "output_type": "stream",
          "name": "stderr",
          "text": [
            "\n",
            "100%|██████████| 1/1 [00:00<00:00,  1.45it/s]"
          ]
        },
        {
          "output_type": "stream",
          "name": "stdout",
          "text": [
            "Epoch 463 finished\n"
          ]
        },
        {
          "output_type": "stream",
          "name": "stderr",
          "text": [
            "\n",
            "100%|██████████| 1/1 [00:00<00:00,  1.45it/s]"
          ]
        },
        {
          "output_type": "stream",
          "name": "stdout",
          "text": [
            "Epoch 464 finished\n"
          ]
        },
        {
          "output_type": "stream",
          "name": "stderr",
          "text": [
            "\n",
            "100%|██████████| 1/1 [00:00<00:00,  1.48it/s]"
          ]
        },
        {
          "output_type": "stream",
          "name": "stdout",
          "text": [
            "Epoch 465 finished\n"
          ]
        },
        {
          "output_type": "stream",
          "name": "stderr",
          "text": [
            "\n",
            "100%|██████████| 1/1 [00:00<00:00,  1.49it/s]"
          ]
        },
        {
          "output_type": "stream",
          "name": "stdout",
          "text": [
            "Epoch 466 finished\n"
          ]
        },
        {
          "output_type": "stream",
          "name": "stderr",
          "text": [
            "\n",
            "100%|██████████| 1/1 [00:00<00:00,  1.56it/s]"
          ]
        },
        {
          "output_type": "stream",
          "name": "stdout",
          "text": [
            "Epoch 467 finished\n"
          ]
        },
        {
          "output_type": "stream",
          "name": "stderr",
          "text": [
            "\n",
            "100%|██████████| 1/1 [00:00<00:00,  1.57it/s]"
          ]
        },
        {
          "output_type": "stream",
          "name": "stdout",
          "text": [
            "Epoch 468 finished\n"
          ]
        },
        {
          "output_type": "stream",
          "name": "stderr",
          "text": [
            "\n",
            "100%|██████████| 1/1 [00:00<00:00,  1.55it/s]"
          ]
        },
        {
          "output_type": "stream",
          "name": "stdout",
          "text": [
            "Epoch 469 finished\n"
          ]
        },
        {
          "output_type": "stream",
          "name": "stderr",
          "text": [
            "\n",
            "  0%|          | 0/1 [00:00<?, ?it/s]"
          ]
        },
        {
          "output_type": "stream",
          "name": "stdout",
          "text": [
            "(Steps: 2400470) train/TotalLoss = 0.1620.\n",
            "(Steps: 2400470) train/mel_loss_ = 0.0489.\n",
            "(Steps: 2400470) train/mel_loss = 0.0368.\n",
            "(Steps: 2400470) train/dur_loss = 0.0142.\n",
            "(Steps: 2400470) train/pitch_loss = 0.0158.\n",
            "(Steps: 2400470) train/energy_loss = 0.0462.\n",
            "(Steps: 2400470) train/batch_size = 6.2000.\n",
            "(Steps: 2400470) train/x_band_width = 2.4000.\n",
            "(Steps: 2400470) train/h_band_width = 2.4000.\n",
            "KanTtsSAMBERT learning rate: 0.000082\n"
          ]
        },
        {
          "output_type": "stream",
          "name": "stderr",
          "text": [
            "100%|██████████| 1/1 [00:00<00:00,  1.45it/s]"
          ]
        },
        {
          "output_type": "stream",
          "name": "stdout",
          "text": [
            "Epoch 470 finished\n"
          ]
        },
        {
          "output_type": "stream",
          "name": "stderr",
          "text": [
            "\n",
            "100%|██████████| 1/1 [00:00<00:00,  1.56it/s]"
          ]
        },
        {
          "output_type": "stream",
          "name": "stdout",
          "text": [
            "Epoch 471 finished\n"
          ]
        },
        {
          "output_type": "stream",
          "name": "stderr",
          "text": [
            "\n",
            "100%|██████████| 1/1 [00:00<00:00,  1.57it/s]"
          ]
        },
        {
          "output_type": "stream",
          "name": "stdout",
          "text": [
            "Epoch 472 finished\n"
          ]
        },
        {
          "output_type": "stream",
          "name": "stderr",
          "text": [
            "\n",
            "100%|██████████| 1/1 [00:00<00:00,  1.53it/s]"
          ]
        },
        {
          "output_type": "stream",
          "name": "stdout",
          "text": [
            "Epoch 473 finished\n"
          ]
        },
        {
          "output_type": "stream",
          "name": "stderr",
          "text": [
            "\n",
            "100%|██████████| 1/1 [00:00<00:00,  1.54it/s]"
          ]
        },
        {
          "output_type": "stream",
          "name": "stdout",
          "text": [
            "Epoch 474 finished\n"
          ]
        },
        {
          "output_type": "stream",
          "name": "stderr",
          "text": [
            "\n",
            "100%|██████████| 1/1 [00:00<00:00,  1.54it/s]"
          ]
        },
        {
          "output_type": "stream",
          "name": "stdout",
          "text": [
            "Epoch 475 finished\n"
          ]
        },
        {
          "output_type": "stream",
          "name": "stderr",
          "text": [
            "\n",
            "100%|██████████| 1/1 [00:00<00:00,  1.55it/s]"
          ]
        },
        {
          "output_type": "stream",
          "name": "stdout",
          "text": [
            "Epoch 476 finished\n"
          ]
        },
        {
          "output_type": "stream",
          "name": "stderr",
          "text": [
            "\n",
            "100%|██████████| 1/1 [00:00<00:00,  1.59it/s]"
          ]
        },
        {
          "output_type": "stream",
          "name": "stdout",
          "text": [
            "Epoch 477 finished\n"
          ]
        },
        {
          "output_type": "stream",
          "name": "stderr",
          "text": [
            "\n",
            "100%|██████████| 1/1 [00:00<00:00,  1.55it/s]"
          ]
        },
        {
          "output_type": "stream",
          "name": "stdout",
          "text": [
            "Epoch 478 finished\n"
          ]
        },
        {
          "output_type": "stream",
          "name": "stderr",
          "text": [
            "\n",
            "100%|██████████| 1/1 [00:00<00:00,  1.57it/s]"
          ]
        },
        {
          "output_type": "stream",
          "name": "stdout",
          "text": [
            "Epoch 479 finished\n"
          ]
        },
        {
          "output_type": "stream",
          "name": "stderr",
          "text": [
            "\n",
            "  0%|          | 0/1 [00:00<?, ?it/s]"
          ]
        },
        {
          "output_type": "stream",
          "name": "stdout",
          "text": [
            "(Steps: 2400480) train/TotalLoss = 0.1617.\n",
            "(Steps: 2400480) train/mel_loss_ = 0.0488.\n",
            "(Steps: 2400480) train/mel_loss = 0.0368.\n",
            "(Steps: 2400480) train/dur_loss = 0.0141.\n",
            "(Steps: 2400480) train/pitch_loss = 0.0160.\n",
            "(Steps: 2400480) train/energy_loss = 0.0461.\n",
            "(Steps: 2400480) train/batch_size = 6.2000.\n",
            "(Steps: 2400480) train/x_band_width = 2.4000.\n",
            "(Steps: 2400480) train/h_band_width = 2.4000.\n",
            "KanTtsSAMBERT learning rate: 0.000082\n"
          ]
        },
        {
          "output_type": "stream",
          "name": "stderr",
          "text": [
            "100%|██████████| 1/1 [00:00<00:00,  1.31it/s]"
          ]
        },
        {
          "output_type": "stream",
          "name": "stdout",
          "text": [
            "Epoch 480 finished\n"
          ]
        },
        {
          "output_type": "stream",
          "name": "stderr",
          "text": [
            "\n",
            "100%|██████████| 1/1 [00:00<00:00,  1.35it/s]"
          ]
        },
        {
          "output_type": "stream",
          "name": "stdout",
          "text": [
            "Epoch 481 finished\n"
          ]
        },
        {
          "output_type": "stream",
          "name": "stderr",
          "text": [
            "\n",
            "100%|██████████| 1/1 [00:00<00:00,  1.35it/s]"
          ]
        },
        {
          "output_type": "stream",
          "name": "stdout",
          "text": [
            "Epoch 482 finished\n"
          ]
        },
        {
          "output_type": "stream",
          "name": "stderr",
          "text": [
            "\n",
            "100%|██████████| 1/1 [00:00<00:00,  1.43it/s]"
          ]
        },
        {
          "output_type": "stream",
          "name": "stdout",
          "text": [
            "Epoch 483 finished\n"
          ]
        },
        {
          "output_type": "stream",
          "name": "stderr",
          "text": [
            "\n",
            "100%|██████████| 1/1 [00:00<00:00,  1.49it/s]"
          ]
        },
        {
          "output_type": "stream",
          "name": "stdout",
          "text": [
            "Epoch 484 finished\n"
          ]
        },
        {
          "output_type": "stream",
          "name": "stderr",
          "text": [
            "\n",
            "100%|██████████| 1/1 [00:00<00:00,  1.42it/s]"
          ]
        },
        {
          "output_type": "stream",
          "name": "stdout",
          "text": [
            "Epoch 485 finished\n"
          ]
        },
        {
          "output_type": "stream",
          "name": "stderr",
          "text": [
            "\n",
            "100%|██████████| 1/1 [00:00<00:00,  1.40it/s]"
          ]
        },
        {
          "output_type": "stream",
          "name": "stdout",
          "text": [
            "Epoch 486 finished\n"
          ]
        },
        {
          "output_type": "stream",
          "name": "stderr",
          "text": [
            "\n",
            "100%|██████████| 1/1 [00:00<00:00,  1.44it/s]"
          ]
        },
        {
          "output_type": "stream",
          "name": "stdout",
          "text": [
            "Epoch 487 finished\n"
          ]
        },
        {
          "output_type": "stream",
          "name": "stderr",
          "text": [
            "\n",
            "100%|██████████| 1/1 [00:00<00:00,  1.44it/s]"
          ]
        },
        {
          "output_type": "stream",
          "name": "stdout",
          "text": [
            "Epoch 488 finished\n"
          ]
        },
        {
          "output_type": "stream",
          "name": "stderr",
          "text": [
            "\n",
            "100%|██████████| 1/1 [00:00<00:00,  1.44it/s]"
          ]
        },
        {
          "output_type": "stream",
          "name": "stdout",
          "text": [
            "Epoch 489 finished\n"
          ]
        },
        {
          "output_type": "stream",
          "name": "stderr",
          "text": [
            "\n",
            "  0%|          | 0/1 [00:00<?, ?it/s]"
          ]
        },
        {
          "output_type": "stream",
          "name": "stdout",
          "text": [
            "(Steps: 2400490) train/TotalLoss = 0.1605.\n",
            "(Steps: 2400490) train/mel_loss_ = 0.0487.\n",
            "(Steps: 2400490) train/mel_loss = 0.0368.\n",
            "(Steps: 2400490) train/dur_loss = 0.0138.\n",
            "(Steps: 2400490) train/pitch_loss = 0.0156.\n",
            "(Steps: 2400490) train/energy_loss = 0.0457.\n",
            "(Steps: 2400490) train/batch_size = 6.2000.\n",
            "(Steps: 2400490) train/x_band_width = 2.4000.\n",
            "(Steps: 2400490) train/h_band_width = 2.4000.\n",
            "KanTtsSAMBERT learning rate: 0.000082\n"
          ]
        },
        {
          "output_type": "stream",
          "name": "stderr",
          "text": [
            "100%|██████████| 1/1 [00:00<00:00,  1.38it/s]"
          ]
        },
        {
          "output_type": "stream",
          "name": "stdout",
          "text": [
            "Epoch 490 finished\n"
          ]
        },
        {
          "output_type": "stream",
          "name": "stderr",
          "text": [
            "\n",
            "100%|██████████| 1/1 [00:00<00:00,  1.55it/s]"
          ]
        },
        {
          "output_type": "stream",
          "name": "stdout",
          "text": [
            "Epoch 491 finished\n"
          ]
        },
        {
          "output_type": "stream",
          "name": "stderr",
          "text": [
            "\n",
            "100%|██████████| 1/1 [00:00<00:00,  1.58it/s]"
          ]
        },
        {
          "output_type": "stream",
          "name": "stdout",
          "text": [
            "Epoch 492 finished\n"
          ]
        },
        {
          "output_type": "stream",
          "name": "stderr",
          "text": [
            "\n",
            "100%|██████████| 1/1 [00:00<00:00,  1.56it/s]"
          ]
        },
        {
          "output_type": "stream",
          "name": "stdout",
          "text": [
            "Epoch 493 finished\n"
          ]
        },
        {
          "output_type": "stream",
          "name": "stderr",
          "text": [
            "\n",
            "100%|██████████| 1/1 [00:00<00:00,  1.54it/s]"
          ]
        },
        {
          "output_type": "stream",
          "name": "stdout",
          "text": [
            "Epoch 494 finished\n"
          ]
        },
        {
          "output_type": "stream",
          "name": "stderr",
          "text": [
            "\n",
            "100%|██████████| 1/1 [00:00<00:00,  1.57it/s]"
          ]
        },
        {
          "output_type": "stream",
          "name": "stdout",
          "text": [
            "Epoch 495 finished\n"
          ]
        },
        {
          "output_type": "stream",
          "name": "stderr",
          "text": [
            "\n",
            "100%|██████████| 1/1 [00:00<00:00,  1.53it/s]"
          ]
        },
        {
          "output_type": "stream",
          "name": "stdout",
          "text": [
            "Epoch 496 finished\n"
          ]
        },
        {
          "output_type": "stream",
          "name": "stderr",
          "text": [
            "\n",
            "100%|██████████| 1/1 [00:00<00:00,  1.58it/s]"
          ]
        },
        {
          "output_type": "stream",
          "name": "stdout",
          "text": [
            "Epoch 497 finished\n"
          ]
        },
        {
          "output_type": "stream",
          "name": "stderr",
          "text": [
            "\n",
            "100%|██████████| 1/1 [00:00<00:00,  1.57it/s]"
          ]
        },
        {
          "output_type": "stream",
          "name": "stdout",
          "text": [
            "Epoch 498 finished\n"
          ]
        },
        {
          "output_type": "stream",
          "name": "stderr",
          "text": [
            "\n",
            "100%|██████████| 1/1 [00:00<00:00,  1.55it/s]"
          ]
        },
        {
          "output_type": "stream",
          "name": "stdout",
          "text": [
            "Epoch 499 finished\n"
          ]
        },
        {
          "output_type": "stream",
          "name": "stderr",
          "text": [
            "\n",
            "  0%|          | 0/1 [00:00<?, ?it/s]"
          ]
        },
        {
          "output_type": "stream",
          "name": "stdout",
          "text": [
            "(Steps: 2400500) train/TotalLoss = 0.1596.\n",
            "(Steps: 2400500) train/mel_loss_ = 0.0482.\n",
            "(Steps: 2400500) train/mel_loss = 0.0364.\n",
            "(Steps: 2400500) train/dur_loss = 0.0138.\n",
            "(Steps: 2400500) train/pitch_loss = 0.0153.\n",
            "(Steps: 2400500) train/energy_loss = 0.0458.\n",
            "(Steps: 2400500) train/batch_size = 6.2000.\n",
            "(Steps: 2400500) train/x_band_width = 2.4000.\n",
            "(Steps: 2400500) train/h_band_width = 2.4000.\n",
            "KanTtsSAMBERT learning rate: 0.000082\n"
          ]
        },
        {
          "output_type": "stream",
          "name": "stderr",
          "text": [
            "100%|██████████| 1/1 [00:00<00:00,  1.45it/s]"
          ]
        },
        {
          "output_type": "stream",
          "name": "stdout",
          "text": [
            "Epoch 500 finished\n"
          ]
        },
        {
          "output_type": "stream",
          "name": "stderr",
          "text": [
            "\n",
            "100%|██████████| 1/1 [00:00<00:00,  1.58it/s]"
          ]
        },
        {
          "output_type": "stream",
          "name": "stdout",
          "text": [
            "Epoch 501 finished\n"
          ]
        },
        {
          "output_type": "stream",
          "name": "stderr",
          "text": [
            "\n",
            "100%|██████████| 1/1 [00:00<00:00,  1.57it/s]"
          ]
        },
        {
          "output_type": "stream",
          "name": "stdout",
          "text": [
            "Epoch 502 finished\n"
          ]
        },
        {
          "output_type": "stream",
          "name": "stderr",
          "text": [
            "\n",
            "100%|██████████| 1/1 [00:00<00:00,  1.57it/s]"
          ]
        },
        {
          "output_type": "stream",
          "name": "stdout",
          "text": [
            "Epoch 503 finished\n"
          ]
        },
        {
          "output_type": "stream",
          "name": "stderr",
          "text": [
            "\n",
            "100%|██████████| 1/1 [00:00<00:00,  1.60it/s]"
          ]
        },
        {
          "output_type": "stream",
          "name": "stdout",
          "text": [
            "Epoch 504 finished\n"
          ]
        },
        {
          "output_type": "stream",
          "name": "stderr",
          "text": [
            "\n",
            "100%|██████████| 1/1 [00:00<00:00,  1.50it/s]"
          ]
        },
        {
          "output_type": "stream",
          "name": "stdout",
          "text": [
            "Epoch 505 finished\n"
          ]
        },
        {
          "output_type": "stream",
          "name": "stderr",
          "text": [
            "\n",
            "100%|██████████| 1/1 [00:00<00:00,  1.38it/s]"
          ]
        },
        {
          "output_type": "stream",
          "name": "stdout",
          "text": [
            "Epoch 506 finished\n"
          ]
        },
        {
          "output_type": "stream",
          "name": "stderr",
          "text": [
            "\n",
            "100%|██████████| 1/1 [00:00<00:00,  1.38it/s]"
          ]
        },
        {
          "output_type": "stream",
          "name": "stdout",
          "text": [
            "Epoch 507 finished\n"
          ]
        },
        {
          "output_type": "stream",
          "name": "stderr",
          "text": [
            "\n",
            "100%|██████████| 1/1 [00:00<00:00,  1.44it/s]"
          ]
        },
        {
          "output_type": "stream",
          "name": "stdout",
          "text": [
            "Epoch 508 finished\n"
          ]
        },
        {
          "output_type": "stream",
          "name": "stderr",
          "text": [
            "\n",
            "100%|██████████| 1/1 [00:00<00:00,  1.37it/s]"
          ]
        },
        {
          "output_type": "stream",
          "name": "stdout",
          "text": [
            "Epoch 509 finished\n"
          ]
        },
        {
          "output_type": "stream",
          "name": "stderr",
          "text": [
            "\n",
            "  0%|          | 0/1 [00:00<?, ?it/s]"
          ]
        },
        {
          "output_type": "stream",
          "name": "stdout",
          "text": [
            "(Steps: 2400510) train/TotalLoss = 0.1584.\n",
            "(Steps: 2400510) train/mel_loss_ = 0.0481.\n",
            "(Steps: 2400510) train/mel_loss = 0.0364.\n",
            "(Steps: 2400510) train/dur_loss = 0.0136.\n",
            "(Steps: 2400510) train/pitch_loss = 0.0153.\n",
            "(Steps: 2400510) train/energy_loss = 0.0451.\n",
            "(Steps: 2400510) train/batch_size = 6.2000.\n",
            "(Steps: 2400510) train/x_band_width = 2.4000.\n",
            "(Steps: 2400510) train/h_band_width = 2.4000.\n",
            "KanTtsSAMBERT learning rate: 0.000082\n"
          ]
        },
        {
          "output_type": "stream",
          "name": "stderr",
          "text": [
            "100%|██████████| 1/1 [00:00<00:00,  1.32it/s]"
          ]
        },
        {
          "output_type": "stream",
          "name": "stdout",
          "text": [
            "Epoch 510 finished\n"
          ]
        },
        {
          "output_type": "stream",
          "name": "stderr",
          "text": [
            "\n",
            "100%|██████████| 1/1 [00:00<00:00,  1.47it/s]"
          ]
        },
        {
          "output_type": "stream",
          "name": "stdout",
          "text": [
            "Epoch 511 finished\n"
          ]
        },
        {
          "output_type": "stream",
          "name": "stderr",
          "text": [
            "\n",
            "100%|██████████| 1/1 [00:00<00:00,  1.44it/s]"
          ]
        },
        {
          "output_type": "stream",
          "name": "stdout",
          "text": [
            "Epoch 512 finished\n"
          ]
        },
        {
          "output_type": "stream",
          "name": "stderr",
          "text": [
            "\n",
            "100%|██████████| 1/1 [00:00<00:00,  1.46it/s]"
          ]
        },
        {
          "output_type": "stream",
          "name": "stdout",
          "text": [
            "Epoch 513 finished\n"
          ]
        },
        {
          "output_type": "stream",
          "name": "stderr",
          "text": [
            "\n",
            "100%|██████████| 1/1 [00:00<00:00,  1.44it/s]"
          ]
        },
        {
          "output_type": "stream",
          "name": "stdout",
          "text": [
            "Epoch 514 finished\n"
          ]
        },
        {
          "output_type": "stream",
          "name": "stderr",
          "text": [
            "\n",
            "100%|██████████| 1/1 [00:00<00:00,  1.45it/s]"
          ]
        },
        {
          "output_type": "stream",
          "name": "stdout",
          "text": [
            "Epoch 515 finished\n"
          ]
        },
        {
          "output_type": "stream",
          "name": "stderr",
          "text": [
            "\n",
            "100%|██████████| 1/1 [00:00<00:00,  1.51it/s]"
          ]
        },
        {
          "output_type": "stream",
          "name": "stdout",
          "text": [
            "Epoch 516 finished\n"
          ]
        },
        {
          "output_type": "stream",
          "name": "stderr",
          "text": [
            "\n",
            "100%|██████████| 1/1 [00:00<00:00,  1.50it/s]"
          ]
        },
        {
          "output_type": "stream",
          "name": "stdout",
          "text": [
            "Epoch 517 finished\n"
          ]
        },
        {
          "output_type": "stream",
          "name": "stderr",
          "text": [
            "\n",
            "100%|██████████| 1/1 [00:00<00:00,  1.56it/s]"
          ]
        },
        {
          "output_type": "stream",
          "name": "stdout",
          "text": [
            "Epoch 518 finished\n"
          ]
        },
        {
          "output_type": "stream",
          "name": "stderr",
          "text": [
            "\n",
            "100%|██████████| 1/1 [00:00<00:00,  1.56it/s]"
          ]
        },
        {
          "output_type": "stream",
          "name": "stdout",
          "text": [
            "Epoch 519 finished\n"
          ]
        },
        {
          "output_type": "stream",
          "name": "stderr",
          "text": [
            "\n",
            "  0%|          | 0/1 [00:00<?, ?it/s]"
          ]
        },
        {
          "output_type": "stream",
          "name": "stdout",
          "text": [
            "(Steps: 2400520) train/TotalLoss = 0.1577.\n",
            "(Steps: 2400520) train/mel_loss_ = 0.0480.\n",
            "(Steps: 2400520) train/mel_loss = 0.0362.\n",
            "(Steps: 2400520) train/dur_loss = 0.0134.\n",
            "(Steps: 2400520) train/pitch_loss = 0.0152.\n",
            "(Steps: 2400520) train/energy_loss = 0.0448.\n",
            "(Steps: 2400520) train/batch_size = 6.2000.\n",
            "(Steps: 2400520) train/x_band_width = 2.4000.\n",
            "(Steps: 2400520) train/h_band_width = 2.4000.\n",
            "KanTtsSAMBERT learning rate: 0.000082\n"
          ]
        },
        {
          "output_type": "stream",
          "name": "stderr",
          "text": [
            "100%|██████████| 1/1 [00:00<00:00,  1.45it/s]"
          ]
        },
        {
          "output_type": "stream",
          "name": "stdout",
          "text": [
            "Epoch 520 finished\n"
          ]
        },
        {
          "output_type": "stream",
          "name": "stderr",
          "text": [
            "\n",
            "100%|██████████| 1/1 [00:00<00:00,  1.53it/s]"
          ]
        },
        {
          "output_type": "stream",
          "name": "stdout",
          "text": [
            "Epoch 521 finished\n"
          ]
        },
        {
          "output_type": "stream",
          "name": "stderr",
          "text": [
            "\n",
            "100%|██████████| 1/1 [00:00<00:00,  1.55it/s]"
          ]
        },
        {
          "output_type": "stream",
          "name": "stdout",
          "text": [
            "Epoch 522 finished\n"
          ]
        },
        {
          "output_type": "stream",
          "name": "stderr",
          "text": [
            "\n",
            "100%|██████████| 1/1 [00:00<00:00,  1.57it/s]"
          ]
        },
        {
          "output_type": "stream",
          "name": "stdout",
          "text": [
            "Epoch 523 finished\n"
          ]
        },
        {
          "output_type": "stream",
          "name": "stderr",
          "text": [
            "\n",
            "100%|██████████| 1/1 [00:00<00:00,  1.52it/s]"
          ]
        },
        {
          "output_type": "stream",
          "name": "stdout",
          "text": [
            "Epoch 524 finished\n"
          ]
        },
        {
          "output_type": "stream",
          "name": "stderr",
          "text": [
            "\n",
            "100%|██████████| 1/1 [00:00<00:00,  1.52it/s]"
          ]
        },
        {
          "output_type": "stream",
          "name": "stdout",
          "text": [
            "Epoch 525 finished\n"
          ]
        },
        {
          "output_type": "stream",
          "name": "stderr",
          "text": [
            "\n",
            "100%|██████████| 1/1 [00:00<00:00,  1.56it/s]"
          ]
        },
        {
          "output_type": "stream",
          "name": "stdout",
          "text": [
            "Epoch 526 finished\n"
          ]
        },
        {
          "output_type": "stream",
          "name": "stderr",
          "text": [
            "\n",
            "100%|██████████| 1/1 [00:00<00:00,  1.54it/s]"
          ]
        },
        {
          "output_type": "stream",
          "name": "stdout",
          "text": [
            "Epoch 527 finished\n"
          ]
        },
        {
          "output_type": "stream",
          "name": "stderr",
          "text": [
            "\n",
            "100%|██████████| 1/1 [00:00<00:00,  1.53it/s]"
          ]
        },
        {
          "output_type": "stream",
          "name": "stdout",
          "text": [
            "Epoch 528 finished\n"
          ]
        },
        {
          "output_type": "stream",
          "name": "stderr",
          "text": [
            "\n",
            "100%|██████████| 1/1 [00:00<00:00,  1.57it/s]"
          ]
        },
        {
          "output_type": "stream",
          "name": "stdout",
          "text": [
            "Epoch 529 finished\n"
          ]
        },
        {
          "output_type": "stream",
          "name": "stderr",
          "text": [
            "\n",
            "  0%|          | 0/1 [00:00<?, ?it/s]"
          ]
        },
        {
          "output_type": "stream",
          "name": "stdout",
          "text": [
            "(Steps: 2400530) train/TotalLoss = 0.1568.\n",
            "(Steps: 2400530) train/mel_loss_ = 0.0479.\n",
            "(Steps: 2400530) train/mel_loss = 0.0363.\n",
            "(Steps: 2400530) train/dur_loss = 0.0132.\n",
            "(Steps: 2400530) train/pitch_loss = 0.0150.\n",
            "(Steps: 2400530) train/energy_loss = 0.0445.\n",
            "(Steps: 2400530) train/batch_size = 6.2000.\n",
            "(Steps: 2400530) train/x_band_width = 2.4000.\n",
            "(Steps: 2400530) train/h_band_width = 2.4000.\n",
            "KanTtsSAMBERT learning rate: 0.000082\n"
          ]
        },
        {
          "output_type": "stream",
          "name": "stderr",
          "text": [
            "100%|██████████| 1/1 [00:00<00:00,  1.41it/s]"
          ]
        },
        {
          "output_type": "stream",
          "name": "stdout",
          "text": [
            "Epoch 530 finished\n"
          ]
        },
        {
          "output_type": "stream",
          "name": "stderr",
          "text": [
            "\n",
            "100%|██████████| 1/1 [00:00<00:00,  1.35it/s]"
          ]
        },
        {
          "output_type": "stream",
          "name": "stdout",
          "text": [
            "Epoch 531 finished\n"
          ]
        },
        {
          "output_type": "stream",
          "name": "stderr",
          "text": [
            "\n",
            "100%|██████████| 1/1 [00:00<00:00,  1.36it/s]"
          ]
        },
        {
          "output_type": "stream",
          "name": "stdout",
          "text": [
            "Epoch 532 finished\n"
          ]
        },
        {
          "output_type": "stream",
          "name": "stderr",
          "text": [
            "\n",
            "100%|██████████| 1/1 [00:00<00:00,  1.35it/s]"
          ]
        },
        {
          "output_type": "stream",
          "name": "stdout",
          "text": [
            "Epoch 533 finished\n"
          ]
        },
        {
          "output_type": "stream",
          "name": "stderr",
          "text": [
            "\n",
            "100%|██████████| 1/1 [00:00<00:00,  1.46it/s]"
          ]
        },
        {
          "output_type": "stream",
          "name": "stdout",
          "text": [
            "Epoch 534 finished\n"
          ]
        },
        {
          "output_type": "stream",
          "name": "stderr",
          "text": [
            "\n",
            "100%|██████████| 1/1 [00:00<00:00,  1.47it/s]"
          ]
        },
        {
          "output_type": "stream",
          "name": "stdout",
          "text": [
            "Epoch 535 finished\n"
          ]
        },
        {
          "output_type": "stream",
          "name": "stderr",
          "text": [
            "\n",
            "100%|██████████| 1/1 [00:00<00:00,  1.41it/s]"
          ]
        },
        {
          "output_type": "stream",
          "name": "stdout",
          "text": [
            "Epoch 536 finished\n"
          ]
        },
        {
          "output_type": "stream",
          "name": "stderr",
          "text": [
            "\n",
            "100%|██████████| 1/1 [00:00<00:00,  1.38it/s]"
          ]
        },
        {
          "output_type": "stream",
          "name": "stdout",
          "text": [
            "Epoch 537 finished\n"
          ]
        },
        {
          "output_type": "stream",
          "name": "stderr",
          "text": [
            "\n",
            "100%|██████████| 1/1 [00:00<00:00,  1.38it/s]"
          ]
        },
        {
          "output_type": "stream",
          "name": "stdout",
          "text": [
            "Epoch 538 finished\n"
          ]
        },
        {
          "output_type": "stream",
          "name": "stderr",
          "text": [
            "\n",
            "100%|██████████| 1/1 [00:00<00:00,  1.44it/s]"
          ]
        },
        {
          "output_type": "stream",
          "name": "stdout",
          "text": [
            "Epoch 539 finished\n"
          ]
        },
        {
          "output_type": "stream",
          "name": "stderr",
          "text": [
            "\n",
            "  0%|          | 0/1 [00:00<?, ?it/s]"
          ]
        },
        {
          "output_type": "stream",
          "name": "stdout",
          "text": [
            "(Steps: 2400540) train/TotalLoss = 0.1554.\n",
            "(Steps: 2400540) train/mel_loss_ = 0.0476.\n",
            "(Steps: 2400540) train/mel_loss = 0.0360.\n",
            "(Steps: 2400540) train/dur_loss = 0.0132.\n",
            "(Steps: 2400540) train/pitch_loss = 0.0148.\n",
            "(Steps: 2400540) train/energy_loss = 0.0438.\n",
            "(Steps: 2400540) train/batch_size = 6.2000.\n",
            "(Steps: 2400540) train/x_band_width = 2.4000.\n",
            "(Steps: 2400540) train/h_band_width = 2.4000.\n",
            "KanTtsSAMBERT learning rate: 0.000082\n"
          ]
        },
        {
          "output_type": "stream",
          "name": "stderr",
          "text": [
            "100%|██████████| 1/1 [00:00<00:00,  1.36it/s]"
          ]
        },
        {
          "output_type": "stream",
          "name": "stdout",
          "text": [
            "Epoch 540 finished\n"
          ]
        },
        {
          "output_type": "stream",
          "name": "stderr",
          "text": [
            "\n",
            "100%|██████████| 1/1 [00:00<00:00,  1.52it/s]"
          ]
        },
        {
          "output_type": "stream",
          "name": "stdout",
          "text": [
            "Epoch 541 finished\n"
          ]
        },
        {
          "output_type": "stream",
          "name": "stderr",
          "text": [
            "\n",
            "100%|██████████| 1/1 [00:00<00:00,  1.52it/s]"
          ]
        },
        {
          "output_type": "stream",
          "name": "stdout",
          "text": [
            "Epoch 542 finished\n"
          ]
        },
        {
          "output_type": "stream",
          "name": "stderr",
          "text": [
            "\n",
            "100%|██████████| 1/1 [00:00<00:00,  1.54it/s]"
          ]
        },
        {
          "output_type": "stream",
          "name": "stdout",
          "text": [
            "Epoch 543 finished\n"
          ]
        },
        {
          "output_type": "stream",
          "name": "stderr",
          "text": [
            "\n",
            "100%|██████████| 1/1 [00:00<00:00,  1.57it/s]"
          ]
        },
        {
          "output_type": "stream",
          "name": "stdout",
          "text": [
            "Epoch 544 finished\n"
          ]
        },
        {
          "output_type": "stream",
          "name": "stderr",
          "text": [
            "\n",
            "100%|██████████| 1/1 [00:00<00:00,  1.54it/s]"
          ]
        },
        {
          "output_type": "stream",
          "name": "stdout",
          "text": [
            "Epoch 545 finished\n"
          ]
        },
        {
          "output_type": "stream",
          "name": "stderr",
          "text": [
            "\n",
            "100%|██████████| 1/1 [00:00<00:00,  1.59it/s]"
          ]
        },
        {
          "output_type": "stream",
          "name": "stdout",
          "text": [
            "Epoch 546 finished\n"
          ]
        },
        {
          "output_type": "stream",
          "name": "stderr",
          "text": [
            "\n",
            "100%|██████████| 1/1 [00:00<00:00,  1.56it/s]"
          ]
        },
        {
          "output_type": "stream",
          "name": "stdout",
          "text": [
            "Epoch 547 finished\n"
          ]
        },
        {
          "output_type": "stream",
          "name": "stderr",
          "text": [
            "\n",
            "100%|██████████| 1/1 [00:00<00:00,  1.57it/s]"
          ]
        },
        {
          "output_type": "stream",
          "name": "stdout",
          "text": [
            "Epoch 548 finished\n"
          ]
        },
        {
          "output_type": "stream",
          "name": "stderr",
          "text": [
            "\n",
            "100%|██████████| 1/1 [00:00<00:00,  1.56it/s]"
          ]
        },
        {
          "output_type": "stream",
          "name": "stdout",
          "text": [
            "Epoch 549 finished\n"
          ]
        },
        {
          "output_type": "stream",
          "name": "stderr",
          "text": [
            "\n",
            "  0%|          | 0/1 [00:00<?, ?it/s]"
          ]
        },
        {
          "output_type": "stream",
          "name": "stdout",
          "text": [
            "(Steps: 2400550) train/TotalLoss = 0.1541.\n",
            "(Steps: 2400550) train/mel_loss_ = 0.0472.\n",
            "(Steps: 2400550) train/mel_loss = 0.0358.\n",
            "(Steps: 2400550) train/dur_loss = 0.0131.\n",
            "(Steps: 2400550) train/pitch_loss = 0.0147.\n",
            "(Steps: 2400550) train/energy_loss = 0.0432.\n",
            "(Steps: 2400550) train/batch_size = 6.2000.\n",
            "(Steps: 2400550) train/x_band_width = 2.4000.\n",
            "(Steps: 2400550) train/h_band_width = 2.4000.\n",
            "KanTtsSAMBERT learning rate: 0.000082\n"
          ]
        },
        {
          "output_type": "stream",
          "name": "stderr",
          "text": [
            "100%|██████████| 1/1 [00:00<00:00,  1.42it/s]"
          ]
        },
        {
          "output_type": "stream",
          "name": "stdout",
          "text": [
            "Epoch 550 finished\n"
          ]
        },
        {
          "output_type": "stream",
          "name": "stderr",
          "text": [
            "\n",
            "100%|██████████| 1/1 [00:00<00:00,  1.57it/s]"
          ]
        },
        {
          "output_type": "stream",
          "name": "stdout",
          "text": [
            "Epoch 551 finished\n"
          ]
        },
        {
          "output_type": "stream",
          "name": "stderr",
          "text": [
            "\n",
            "100%|██████████| 1/1 [00:00<00:00,  1.56it/s]"
          ]
        },
        {
          "output_type": "stream",
          "name": "stdout",
          "text": [
            "Epoch 552 finished\n"
          ]
        },
        {
          "output_type": "stream",
          "name": "stderr",
          "text": [
            "\n",
            "100%|██████████| 1/1 [00:00<00:00,  1.54it/s]"
          ]
        },
        {
          "output_type": "stream",
          "name": "stdout",
          "text": [
            "Epoch 553 finished\n"
          ]
        },
        {
          "output_type": "stream",
          "name": "stderr",
          "text": [
            "\n",
            "100%|██████████| 1/1 [00:00<00:00,  1.52it/s]"
          ]
        },
        {
          "output_type": "stream",
          "name": "stdout",
          "text": [
            "Epoch 554 finished\n"
          ]
        },
        {
          "output_type": "stream",
          "name": "stderr",
          "text": [
            "\n",
            "100%|██████████| 1/1 [00:00<00:00,  1.55it/s]"
          ]
        },
        {
          "output_type": "stream",
          "name": "stdout",
          "text": [
            "Epoch 555 finished\n"
          ]
        },
        {
          "output_type": "stream",
          "name": "stderr",
          "text": [
            "\n",
            "100%|██████████| 1/1 [00:00<00:00,  1.35it/s]"
          ]
        },
        {
          "output_type": "stream",
          "name": "stdout",
          "text": [
            "Epoch 556 finished\n"
          ]
        },
        {
          "output_type": "stream",
          "name": "stderr",
          "text": [
            "\n",
            "100%|██████████| 1/1 [00:00<00:00,  1.40it/s]"
          ]
        },
        {
          "output_type": "stream",
          "name": "stdout",
          "text": [
            "Epoch 557 finished\n"
          ]
        },
        {
          "output_type": "stream",
          "name": "stderr",
          "text": [
            "\n",
            "100%|██████████| 1/1 [00:00<00:00,  1.37it/s]"
          ]
        },
        {
          "output_type": "stream",
          "name": "stdout",
          "text": [
            "Epoch 558 finished\n"
          ]
        },
        {
          "output_type": "stream",
          "name": "stderr",
          "text": [
            "\n",
            "100%|██████████| 1/1 [00:00<00:00,  1.38it/s]"
          ]
        },
        {
          "output_type": "stream",
          "name": "stdout",
          "text": [
            "Epoch 559 finished\n"
          ]
        },
        {
          "output_type": "stream",
          "name": "stderr",
          "text": [
            "\n",
            "  0%|          | 0/1 [00:00<?, ?it/s]"
          ]
        },
        {
          "output_type": "stream",
          "name": "stdout",
          "text": [
            "(Steps: 2400560) train/TotalLoss = 0.1542.\n",
            "(Steps: 2400560) train/mel_loss_ = 0.0473.\n",
            "(Steps: 2400560) train/mel_loss = 0.0359.\n",
            "(Steps: 2400560) train/dur_loss = 0.0128.\n",
            "(Steps: 2400560) train/pitch_loss = 0.0148.\n",
            "(Steps: 2400560) train/energy_loss = 0.0435.\n",
            "(Steps: 2400560) train/batch_size = 6.2000.\n",
            "(Steps: 2400560) train/x_band_width = 2.4000.\n",
            "(Steps: 2400560) train/h_band_width = 2.4000.\n",
            "KanTtsSAMBERT learning rate: 0.000082\n"
          ]
        },
        {
          "output_type": "stream",
          "name": "stderr",
          "text": [
            "100%|██████████| 1/1 [00:00<00:00,  1.28it/s]"
          ]
        },
        {
          "output_type": "stream",
          "name": "stdout",
          "text": [
            "Epoch 560 finished\n"
          ]
        },
        {
          "output_type": "stream",
          "name": "stderr",
          "text": [
            "\n",
            "100%|██████████| 1/1 [00:00<00:00,  1.37it/s]"
          ]
        },
        {
          "output_type": "stream",
          "name": "stdout",
          "text": [
            "Epoch 561 finished\n"
          ]
        },
        {
          "output_type": "stream",
          "name": "stderr",
          "text": [
            "\n",
            "100%|██████████| 1/1 [00:00<00:00,  1.44it/s]"
          ]
        },
        {
          "output_type": "stream",
          "name": "stdout",
          "text": [
            "Epoch 562 finished\n"
          ]
        },
        {
          "output_type": "stream",
          "name": "stderr",
          "text": [
            "\n",
            "100%|██████████| 1/1 [00:00<00:00,  1.40it/s]"
          ]
        },
        {
          "output_type": "stream",
          "name": "stdout",
          "text": [
            "Epoch 563 finished\n"
          ]
        },
        {
          "output_type": "stream",
          "name": "stderr",
          "text": [
            "\n",
            "100%|██████████| 1/1 [00:00<00:00,  1.41it/s]"
          ]
        },
        {
          "output_type": "stream",
          "name": "stdout",
          "text": [
            "Epoch 564 finished\n"
          ]
        },
        {
          "output_type": "stream",
          "name": "stderr",
          "text": [
            "\n",
            "100%|██████████| 1/1 [00:00<00:00,  1.50it/s]"
          ]
        },
        {
          "output_type": "stream",
          "name": "stdout",
          "text": [
            "Epoch 565 finished\n"
          ]
        },
        {
          "output_type": "stream",
          "name": "stderr",
          "text": [
            "\n",
            "100%|██████████| 1/1 [00:00<00:00,  1.57it/s]"
          ]
        },
        {
          "output_type": "stream",
          "name": "stdout",
          "text": [
            "Epoch 566 finished\n"
          ]
        },
        {
          "output_type": "stream",
          "name": "stderr",
          "text": [
            "\n",
            "100%|██████████| 1/1 [00:00<00:00,  1.57it/s]"
          ]
        },
        {
          "output_type": "stream",
          "name": "stdout",
          "text": [
            "Epoch 567 finished\n"
          ]
        },
        {
          "output_type": "stream",
          "name": "stderr",
          "text": [
            "\n",
            "100%|██████████| 1/1 [00:00<00:00,  1.56it/s]"
          ]
        },
        {
          "output_type": "stream",
          "name": "stdout",
          "text": [
            "Epoch 568 finished\n"
          ]
        },
        {
          "output_type": "stream",
          "name": "stderr",
          "text": [
            "\n",
            "100%|██████████| 1/1 [00:00<00:00,  1.57it/s]"
          ]
        },
        {
          "output_type": "stream",
          "name": "stdout",
          "text": [
            "Epoch 569 finished\n"
          ]
        },
        {
          "output_type": "stream",
          "name": "stderr",
          "text": [
            "\n",
            "  0%|          | 0/1 [00:00<?, ?it/s]"
          ]
        },
        {
          "output_type": "stream",
          "name": "stdout",
          "text": [
            "(Steps: 2400570) train/TotalLoss = 0.1536.\n",
            "(Steps: 2400570) train/mel_loss_ = 0.0471.\n",
            "(Steps: 2400570) train/mel_loss = 0.0357.\n",
            "(Steps: 2400570) train/dur_loss = 0.0129.\n",
            "(Steps: 2400570) train/pitch_loss = 0.0149.\n",
            "(Steps: 2400570) train/energy_loss = 0.0432.\n",
            "(Steps: 2400570) train/batch_size = 6.2000.\n",
            "(Steps: 2400570) train/x_band_width = 2.4000.\n",
            "(Steps: 2400570) train/h_band_width = 2.4000.\n",
            "KanTtsSAMBERT learning rate: 0.000082\n"
          ]
        },
        {
          "output_type": "stream",
          "name": "stderr",
          "text": [
            "100%|██████████| 1/1 [00:00<00:00,  1.41it/s]"
          ]
        },
        {
          "output_type": "stream",
          "name": "stdout",
          "text": [
            "Epoch 570 finished\n"
          ]
        },
        {
          "output_type": "stream",
          "name": "stderr",
          "text": [
            "\n",
            "100%|██████████| 1/1 [00:00<00:00,  1.57it/s]"
          ]
        },
        {
          "output_type": "stream",
          "name": "stdout",
          "text": [
            "Epoch 571 finished\n"
          ]
        },
        {
          "output_type": "stream",
          "name": "stderr",
          "text": [
            "\n",
            "100%|██████████| 1/1 [00:00<00:00,  1.55it/s]"
          ]
        },
        {
          "output_type": "stream",
          "name": "stdout",
          "text": [
            "Epoch 572 finished\n"
          ]
        },
        {
          "output_type": "stream",
          "name": "stderr",
          "text": [
            "\n",
            "100%|██████████| 1/1 [00:00<00:00,  1.28it/s]"
          ]
        },
        {
          "output_type": "stream",
          "name": "stdout",
          "text": [
            "Epoch 573 finished\n"
          ]
        },
        {
          "output_type": "stream",
          "name": "stderr",
          "text": [
            "\n",
            "100%|██████████| 1/1 [00:00<00:00,  1.37it/s]"
          ]
        },
        {
          "output_type": "stream",
          "name": "stdout",
          "text": [
            "Epoch 574 finished\n"
          ]
        },
        {
          "output_type": "stream",
          "name": "stderr",
          "text": [
            "\n",
            "100%|██████████| 1/1 [00:00<00:00,  1.36it/s]"
          ]
        },
        {
          "output_type": "stream",
          "name": "stdout",
          "text": [
            "Epoch 575 finished\n"
          ]
        },
        {
          "output_type": "stream",
          "name": "stderr",
          "text": [
            "\n",
            "100%|██████████| 1/1 [00:00<00:00,  1.37it/s]"
          ]
        },
        {
          "output_type": "stream",
          "name": "stdout",
          "text": [
            "Epoch 576 finished\n"
          ]
        },
        {
          "output_type": "stream",
          "name": "stderr",
          "text": [
            "\n",
            "100%|██████████| 1/1 [00:00<00:00,  1.39it/s]"
          ]
        },
        {
          "output_type": "stream",
          "name": "stdout",
          "text": [
            "Epoch 577 finished\n"
          ]
        },
        {
          "output_type": "stream",
          "name": "stderr",
          "text": [
            "\n",
            "100%|██████████| 1/1 [00:00<00:00,  1.40it/s]"
          ]
        },
        {
          "output_type": "stream",
          "name": "stdout",
          "text": [
            "Epoch 578 finished\n"
          ]
        },
        {
          "output_type": "stream",
          "name": "stderr",
          "text": [
            "\n",
            "100%|██████████| 1/1 [00:00<00:00,  1.48it/s]"
          ]
        },
        {
          "output_type": "stream",
          "name": "stdout",
          "text": [
            "Epoch 579 finished\n"
          ]
        },
        {
          "output_type": "stream",
          "name": "stderr",
          "text": [
            "\n",
            "  0%|          | 0/1 [00:00<?, ?it/s]"
          ]
        },
        {
          "output_type": "stream",
          "name": "stdout",
          "text": [
            "(Steps: 2400580) train/TotalLoss = 0.1523.\n",
            "(Steps: 2400580) train/mel_loss_ = 0.0468.\n",
            "(Steps: 2400580) train/mel_loss = 0.0355.\n",
            "(Steps: 2400580) train/dur_loss = 0.0127.\n",
            "(Steps: 2400580) train/pitch_loss = 0.0146.\n",
            "(Steps: 2400580) train/energy_loss = 0.0426.\n",
            "(Steps: 2400580) train/batch_size = 6.2000.\n",
            "(Steps: 2400580) train/x_band_width = 2.4000.\n",
            "(Steps: 2400580) train/h_band_width = 2.4000.\n",
            "KanTtsSAMBERT learning rate: 0.000082\n"
          ]
        },
        {
          "output_type": "stream",
          "name": "stderr",
          "text": [
            "100%|██████████| 1/1 [00:00<00:00,  1.08it/s]"
          ]
        },
        {
          "output_type": "stream",
          "name": "stdout",
          "text": [
            "Epoch 580 finished\n"
          ]
        },
        {
          "output_type": "stream",
          "name": "stderr",
          "text": [
            "\n",
            "100%|██████████| 1/1 [00:00<00:00,  1.15it/s]"
          ]
        },
        {
          "output_type": "stream",
          "name": "stdout",
          "text": [
            "Epoch 581 finished\n"
          ]
        },
        {
          "output_type": "stream",
          "name": "stderr",
          "text": [
            "\n",
            "100%|██████████| 1/1 [00:00<00:00,  1.22it/s]"
          ]
        },
        {
          "output_type": "stream",
          "name": "stdout",
          "text": [
            "Epoch 582 finished\n"
          ]
        },
        {
          "output_type": "stream",
          "name": "stderr",
          "text": [
            "\n",
            "100%|██████████| 1/1 [00:00<00:00,  1.46it/s]"
          ]
        },
        {
          "output_type": "stream",
          "name": "stdout",
          "text": [
            "Epoch 583 finished\n"
          ]
        },
        {
          "output_type": "stream",
          "name": "stderr",
          "text": [
            "\n",
            "100%|██████████| 1/1 [00:00<00:00,  1.42it/s]"
          ]
        },
        {
          "output_type": "stream",
          "name": "stdout",
          "text": [
            "Epoch 584 finished\n"
          ]
        },
        {
          "output_type": "stream",
          "name": "stderr",
          "text": [
            "\n",
            "100%|██████████| 1/1 [00:00<00:00,  1.44it/s]"
          ]
        },
        {
          "output_type": "stream",
          "name": "stdout",
          "text": [
            "Epoch 585 finished\n"
          ]
        },
        {
          "output_type": "stream",
          "name": "stderr",
          "text": [
            "\n",
            "100%|██████████| 1/1 [00:00<00:00,  1.38it/s]"
          ]
        },
        {
          "output_type": "stream",
          "name": "stdout",
          "text": [
            "Epoch 586 finished\n"
          ]
        },
        {
          "output_type": "stream",
          "name": "stderr",
          "text": [
            "\n",
            "100%|██████████| 1/1 [00:00<00:00,  1.44it/s]"
          ]
        },
        {
          "output_type": "stream",
          "name": "stdout",
          "text": [
            "Epoch 587 finished\n"
          ]
        },
        {
          "output_type": "stream",
          "name": "stderr",
          "text": [
            "\n",
            "100%|██████████| 1/1 [00:00<00:00,  1.37it/s]"
          ]
        },
        {
          "output_type": "stream",
          "name": "stdout",
          "text": [
            "Epoch 588 finished\n"
          ]
        },
        {
          "output_type": "stream",
          "name": "stderr",
          "text": [
            "\n",
            "100%|██████████| 1/1 [00:00<00:00,  1.38it/s]"
          ]
        },
        {
          "output_type": "stream",
          "name": "stdout",
          "text": [
            "Epoch 589 finished\n"
          ]
        },
        {
          "output_type": "stream",
          "name": "stderr",
          "text": [
            "\n",
            "  0%|          | 0/1 [00:00<?, ?it/s]"
          ]
        },
        {
          "output_type": "stream",
          "name": "stdout",
          "text": [
            "(Steps: 2400590) train/TotalLoss = 0.1508.\n",
            "(Steps: 2400590) train/mel_loss_ = 0.0465.\n",
            "(Steps: 2400590) train/mel_loss = 0.0355.\n",
            "(Steps: 2400590) train/dur_loss = 0.0125.\n",
            "(Steps: 2400590) train/pitch_loss = 0.0145.\n",
            "(Steps: 2400590) train/energy_loss = 0.0418.\n",
            "(Steps: 2400590) train/batch_size = 6.2000.\n",
            "(Steps: 2400590) train/x_band_width = 2.4000.\n",
            "(Steps: 2400590) train/h_band_width = 2.4000.\n",
            "KanTtsSAMBERT learning rate: 0.000082\n"
          ]
        },
        {
          "output_type": "stream",
          "name": "stderr",
          "text": [
            "100%|██████████| 1/1 [00:00<00:00,  1.39it/s]"
          ]
        },
        {
          "output_type": "stream",
          "name": "stdout",
          "text": [
            "Epoch 590 finished\n"
          ]
        },
        {
          "output_type": "stream",
          "name": "stderr",
          "text": [
            "\n",
            "100%|██████████| 1/1 [00:00<00:00,  1.57it/s]"
          ]
        },
        {
          "output_type": "stream",
          "name": "stdout",
          "text": [
            "Epoch 591 finished\n"
          ]
        },
        {
          "output_type": "stream",
          "name": "stderr",
          "text": [
            "\n",
            "100%|██████████| 1/1 [00:00<00:00,  1.56it/s]"
          ]
        },
        {
          "output_type": "stream",
          "name": "stdout",
          "text": [
            "Epoch 592 finished\n"
          ]
        },
        {
          "output_type": "stream",
          "name": "stderr",
          "text": [
            "\n",
            "100%|██████████| 1/1 [00:00<00:00,  1.57it/s]"
          ]
        },
        {
          "output_type": "stream",
          "name": "stdout",
          "text": [
            "Epoch 593 finished\n"
          ]
        },
        {
          "output_type": "stream",
          "name": "stderr",
          "text": [
            "\n",
            "100%|██████████| 1/1 [00:00<00:00,  1.56it/s]"
          ]
        },
        {
          "output_type": "stream",
          "name": "stdout",
          "text": [
            "Epoch 594 finished\n"
          ]
        },
        {
          "output_type": "stream",
          "name": "stderr",
          "text": [
            "\n",
            "100%|██████████| 1/1 [00:00<00:00,  1.54it/s]"
          ]
        },
        {
          "output_type": "stream",
          "name": "stdout",
          "text": [
            "Epoch 595 finished\n"
          ]
        },
        {
          "output_type": "stream",
          "name": "stderr",
          "text": [
            "\n",
            "100%|██████████| 1/1 [00:00<00:00,  1.54it/s]"
          ]
        },
        {
          "output_type": "stream",
          "name": "stdout",
          "text": [
            "Epoch 596 finished\n"
          ]
        },
        {
          "output_type": "stream",
          "name": "stderr",
          "text": [
            "\n",
            "100%|██████████| 1/1 [00:00<00:00,  1.54it/s]"
          ]
        },
        {
          "output_type": "stream",
          "name": "stdout",
          "text": [
            "Epoch 597 finished\n"
          ]
        },
        {
          "output_type": "stream",
          "name": "stderr",
          "text": [
            "\n",
            "100%|██████████| 1/1 [00:00<00:00,  1.55it/s]"
          ]
        },
        {
          "output_type": "stream",
          "name": "stdout",
          "text": [
            "Epoch 598 finished\n"
          ]
        },
        {
          "output_type": "stream",
          "name": "stderr",
          "text": [
            "\n",
            "100%|██████████| 1/1 [00:00<00:00,  1.54it/s]"
          ]
        },
        {
          "output_type": "stream",
          "name": "stdout",
          "text": [
            "Epoch 599 finished\n"
          ]
        },
        {
          "output_type": "stream",
          "name": "stderr",
          "text": [
            "\n",
            "  0%|          | 0/1 [00:00<?, ?it/s]"
          ]
        },
        {
          "output_type": "stream",
          "name": "stdout",
          "text": [
            "(Steps: 2400600) train/TotalLoss = 0.1507.\n",
            "(Steps: 2400600) train/mel_loss_ = 0.0463.\n",
            "(Steps: 2400600) train/mel_loss = 0.0353.\n",
            "(Steps: 2400600) train/dur_loss = 0.0125.\n",
            "(Steps: 2400600) train/pitch_loss = 0.0145.\n",
            "(Steps: 2400600) train/energy_loss = 0.0421.\n",
            "(Steps: 2400600) train/batch_size = 6.2000.\n",
            "(Steps: 2400600) train/x_band_width = 2.4000.\n",
            "(Steps: 2400600) train/h_band_width = 2.4000.\n",
            "KanTtsSAMBERT learning rate: 0.000082\n"
          ]
        },
        {
          "output_type": "stream",
          "name": "stderr",
          "text": [
            "100%|██████████| 1/1 [00:00<00:00,  1.42it/s]"
          ]
        },
        {
          "output_type": "stream",
          "name": "stdout",
          "text": [
            "Epoch 600 finished\n"
          ]
        },
        {
          "output_type": "stream",
          "name": "stderr",
          "text": [
            "\n",
            "100%|██████████| 1/1 [00:00<00:00,  1.53it/s]"
          ]
        },
        {
          "output_type": "stream",
          "name": "stdout",
          "text": [
            "Epoch 601 finished\n"
          ]
        },
        {
          "output_type": "stream",
          "name": "stderr",
          "text": [
            "\n",
            "100%|██████████| 1/1 [00:00<00:00,  1.51it/s]"
          ]
        },
        {
          "output_type": "stream",
          "name": "stdout",
          "text": [
            "Epoch 602 finished\n"
          ]
        },
        {
          "output_type": "stream",
          "name": "stderr",
          "text": [
            "\n",
            "100%|██████████| 1/1 [00:00<00:00,  1.52it/s]"
          ]
        },
        {
          "output_type": "stream",
          "name": "stdout",
          "text": [
            "Epoch 603 finished\n"
          ]
        },
        {
          "output_type": "stream",
          "name": "stderr",
          "text": [
            "\n",
            "100%|██████████| 1/1 [00:00<00:00,  1.48it/s]"
          ]
        },
        {
          "output_type": "stream",
          "name": "stdout",
          "text": [
            "Epoch 604 finished\n"
          ]
        },
        {
          "output_type": "stream",
          "name": "stderr",
          "text": [
            "\n",
            "100%|██████████| 1/1 [00:00<00:00,  1.40it/s]"
          ]
        },
        {
          "output_type": "stream",
          "name": "stdout",
          "text": [
            "Epoch 605 finished\n"
          ]
        },
        {
          "output_type": "stream",
          "name": "stderr",
          "text": [
            "\n",
            "100%|██████████| 1/1 [00:00<00:00,  1.33it/s]"
          ]
        },
        {
          "output_type": "stream",
          "name": "stdout",
          "text": [
            "Epoch 606 finished\n"
          ]
        },
        {
          "output_type": "stream",
          "name": "stderr",
          "text": [
            "\n",
            "100%|██████████| 1/1 [00:00<00:00,  1.34it/s]"
          ]
        },
        {
          "output_type": "stream",
          "name": "stdout",
          "text": [
            "Epoch 607 finished\n"
          ]
        },
        {
          "output_type": "stream",
          "name": "stderr",
          "text": [
            "\n",
            "100%|██████████| 1/1 [00:00<00:00,  1.36it/s]"
          ]
        },
        {
          "output_type": "stream",
          "name": "stdout",
          "text": [
            "Epoch 608 finished\n"
          ]
        },
        {
          "output_type": "stream",
          "name": "stderr",
          "text": [
            "\n",
            "100%|██████████| 1/1 [00:00<00:00,  1.33it/s]"
          ]
        },
        {
          "output_type": "stream",
          "name": "stdout",
          "text": [
            "Epoch 609 finished\n"
          ]
        },
        {
          "output_type": "stream",
          "name": "stderr",
          "text": [
            "\n",
            "  0%|          | 0/1 [00:00<?, ?it/s]"
          ]
        },
        {
          "output_type": "stream",
          "name": "stdout",
          "text": [
            "(Steps: 2400610) train/TotalLoss = 0.1492.\n",
            "(Steps: 2400610) train/mel_loss_ = 0.0465.\n",
            "(Steps: 2400610) train/mel_loss = 0.0353.\n",
            "(Steps: 2400610) train/dur_loss = 0.0124.\n",
            "(Steps: 2400610) train/pitch_loss = 0.0140.\n",
            "(Steps: 2400610) train/energy_loss = 0.0411.\n",
            "(Steps: 2400610) train/batch_size = 6.2000.\n",
            "(Steps: 2400610) train/x_band_width = 2.4000.\n",
            "(Steps: 2400610) train/h_band_width = 2.4000.\n",
            "KanTtsSAMBERT learning rate: 0.000082\n"
          ]
        },
        {
          "output_type": "stream",
          "name": "stderr",
          "text": [
            "100%|██████████| 1/1 [00:00<00:00,  1.25it/s]"
          ]
        },
        {
          "output_type": "stream",
          "name": "stdout",
          "text": [
            "Epoch 610 finished\n"
          ]
        },
        {
          "output_type": "stream",
          "name": "stderr",
          "text": [
            "\n",
            "100%|██████████| 1/1 [00:00<00:00,  1.42it/s]"
          ]
        },
        {
          "output_type": "stream",
          "name": "stdout",
          "text": [
            "Epoch 611 finished\n"
          ]
        },
        {
          "output_type": "stream",
          "name": "stderr",
          "text": [
            "\n",
            "100%|██████████| 1/1 [00:00<00:00,  1.40it/s]"
          ]
        },
        {
          "output_type": "stream",
          "name": "stdout",
          "text": [
            "Epoch 612 finished\n"
          ]
        },
        {
          "output_type": "stream",
          "name": "stderr",
          "text": [
            "\n",
            "100%|██████████| 1/1 [00:00<00:00,  1.34it/s]"
          ]
        },
        {
          "output_type": "stream",
          "name": "stdout",
          "text": [
            "Epoch 613 finished\n"
          ]
        },
        {
          "output_type": "stream",
          "name": "stderr",
          "text": [
            "\n",
            "100%|██████████| 1/1 [00:00<00:00,  1.48it/s]"
          ]
        },
        {
          "output_type": "stream",
          "name": "stdout",
          "text": [
            "Epoch 614 finished\n"
          ]
        },
        {
          "output_type": "stream",
          "name": "stderr",
          "text": [
            "\n",
            "100%|██████████| 1/1 [00:00<00:00,  1.52it/s]"
          ]
        },
        {
          "output_type": "stream",
          "name": "stdout",
          "text": [
            "Epoch 615 finished\n"
          ]
        },
        {
          "output_type": "stream",
          "name": "stderr",
          "text": [
            "\n",
            "100%|██████████| 1/1 [00:00<00:00,  1.54it/s]"
          ]
        },
        {
          "output_type": "stream",
          "name": "stdout",
          "text": [
            "Epoch 616 finished\n"
          ]
        },
        {
          "output_type": "stream",
          "name": "stderr",
          "text": [
            "\n",
            "100%|██████████| 1/1 [00:00<00:00,  1.55it/s]"
          ]
        },
        {
          "output_type": "stream",
          "name": "stdout",
          "text": [
            "Epoch 617 finished\n"
          ]
        },
        {
          "output_type": "stream",
          "name": "stderr",
          "text": [
            "\n",
            "100%|██████████| 1/1 [00:00<00:00,  1.51it/s]"
          ]
        },
        {
          "output_type": "stream",
          "name": "stdout",
          "text": [
            "Epoch 618 finished\n"
          ]
        },
        {
          "output_type": "stream",
          "name": "stderr",
          "text": [
            "\n",
            "100%|██████████| 1/1 [00:00<00:00,  1.49it/s]"
          ]
        },
        {
          "output_type": "stream",
          "name": "stdout",
          "text": [
            "Epoch 619 finished\n"
          ]
        },
        {
          "output_type": "stream",
          "name": "stderr",
          "text": [
            "\n",
            "  0%|          | 0/1 [00:00<?, ?it/s]"
          ]
        },
        {
          "output_type": "stream",
          "name": "stdout",
          "text": [
            "(Steps: 2400620) train/TotalLoss = 0.1496.\n",
            "(Steps: 2400620) train/mel_loss_ = 0.0462.\n",
            "(Steps: 2400620) train/mel_loss = 0.0353.\n",
            "(Steps: 2400620) train/dur_loss = 0.0123.\n",
            "(Steps: 2400620) train/pitch_loss = 0.0139.\n",
            "(Steps: 2400620) train/energy_loss = 0.0418.\n",
            "(Steps: 2400620) train/batch_size = 6.2000.\n",
            "(Steps: 2400620) train/x_band_width = 2.4000.\n",
            "(Steps: 2400620) train/h_band_width = 2.4000.\n",
            "KanTtsSAMBERT learning rate: 0.000082\n"
          ]
        },
        {
          "output_type": "stream",
          "name": "stderr",
          "text": [
            "100%|██████████| 1/1 [00:00<00:00,  1.45it/s]"
          ]
        },
        {
          "output_type": "stream",
          "name": "stdout",
          "text": [
            "Epoch 620 finished\n"
          ]
        },
        {
          "output_type": "stream",
          "name": "stderr",
          "text": [
            "\n",
            "100%|██████████| 1/1 [00:00<00:00,  1.52it/s]"
          ]
        },
        {
          "output_type": "stream",
          "name": "stdout",
          "text": [
            "Epoch 621 finished\n"
          ]
        },
        {
          "output_type": "stream",
          "name": "stderr",
          "text": [
            "\n",
            "100%|██████████| 1/1 [00:00<00:00,  1.41it/s]"
          ]
        },
        {
          "output_type": "stream",
          "name": "stdout",
          "text": [
            "Epoch 622 finished\n"
          ]
        },
        {
          "output_type": "stream",
          "name": "stderr",
          "text": [
            "\n",
            "100%|██████████| 1/1 [00:00<00:00,  1.49it/s]"
          ]
        },
        {
          "output_type": "stream",
          "name": "stdout",
          "text": [
            "Epoch 623 finished\n"
          ]
        },
        {
          "output_type": "stream",
          "name": "stderr",
          "text": [
            "\n",
            "100%|██████████| 1/1 [00:00<00:00,  1.56it/s]"
          ]
        },
        {
          "output_type": "stream",
          "name": "stdout",
          "text": [
            "Epoch 624 finished\n"
          ]
        },
        {
          "output_type": "stream",
          "name": "stderr",
          "text": [
            "\n",
            "100%|██████████| 1/1 [00:00<00:00,  1.18it/s]"
          ]
        },
        {
          "output_type": "stream",
          "name": "stdout",
          "text": [
            "Epoch 625 finished\n"
          ]
        },
        {
          "output_type": "stream",
          "name": "stderr",
          "text": [
            "\n",
            "100%|██████████| 1/1 [00:00<00:00,  1.49it/s]"
          ]
        },
        {
          "output_type": "stream",
          "name": "stdout",
          "text": [
            "Epoch 626 finished\n"
          ]
        },
        {
          "output_type": "stream",
          "name": "stderr",
          "text": [
            "\n",
            "100%|██████████| 1/1 [00:00<00:00,  1.47it/s]"
          ]
        },
        {
          "output_type": "stream",
          "name": "stdout",
          "text": [
            "Epoch 627 finished\n"
          ]
        },
        {
          "output_type": "stream",
          "name": "stderr",
          "text": [
            "\n",
            "100%|██████████| 1/1 [00:00<00:00,  1.46it/s]"
          ]
        },
        {
          "output_type": "stream",
          "name": "stdout",
          "text": [
            "Epoch 628 finished\n"
          ]
        },
        {
          "output_type": "stream",
          "name": "stderr",
          "text": [
            "\n",
            "100%|██████████| 1/1 [00:00<00:00,  1.29it/s]"
          ]
        },
        {
          "output_type": "stream",
          "name": "stdout",
          "text": [
            "Epoch 629 finished\n"
          ]
        },
        {
          "output_type": "stream",
          "name": "stderr",
          "text": [
            "\n",
            "  0%|          | 0/1 [00:00<?, ?it/s]"
          ]
        },
        {
          "output_type": "stream",
          "name": "stdout",
          "text": [
            "(Steps: 2400630) train/TotalLoss = 0.1475.\n",
            "(Steps: 2400630) train/mel_loss_ = 0.0459.\n",
            "(Steps: 2400630) train/mel_loss = 0.0350.\n",
            "(Steps: 2400630) train/dur_loss = 0.0122.\n",
            "(Steps: 2400630) train/pitch_loss = 0.0137.\n",
            "(Steps: 2400630) train/energy_loss = 0.0407.\n",
            "(Steps: 2400630) train/batch_size = 6.2000.\n",
            "(Steps: 2400630) train/x_band_width = 2.4000.\n",
            "(Steps: 2400630) train/h_band_width = 2.4000.\n",
            "KanTtsSAMBERT learning rate: 0.000082\n"
          ]
        },
        {
          "output_type": "stream",
          "name": "stderr",
          "text": [
            "100%|██████████| 1/1 [00:00<00:00,  1.24it/s]"
          ]
        },
        {
          "output_type": "stream",
          "name": "stdout",
          "text": [
            "Epoch 630 finished\n"
          ]
        },
        {
          "output_type": "stream",
          "name": "stderr",
          "text": [
            "\n",
            "100%|██████████| 1/1 [00:00<00:00,  1.34it/s]"
          ]
        },
        {
          "output_type": "stream",
          "name": "stdout",
          "text": [
            "Epoch 631 finished\n"
          ]
        },
        {
          "output_type": "stream",
          "name": "stderr",
          "text": [
            "\n",
            "100%|██████████| 1/1 [00:00<00:00,  1.39it/s]"
          ]
        },
        {
          "output_type": "stream",
          "name": "stdout",
          "text": [
            "Epoch 632 finished\n"
          ]
        },
        {
          "output_type": "stream",
          "name": "stderr",
          "text": [
            "\n",
            "100%|██████████| 1/1 [00:00<00:00,  1.45it/s]"
          ]
        },
        {
          "output_type": "stream",
          "name": "stdout",
          "text": [
            "Epoch 633 finished\n"
          ]
        },
        {
          "output_type": "stream",
          "name": "stderr",
          "text": [
            "\n",
            "100%|██████████| 1/1 [00:00<00:00,  1.37it/s]"
          ]
        },
        {
          "output_type": "stream",
          "name": "stdout",
          "text": [
            "Epoch 634 finished\n"
          ]
        },
        {
          "output_type": "stream",
          "name": "stderr",
          "text": [
            "\n",
            "100%|██████████| 1/1 [00:00<00:00,  1.33it/s]"
          ]
        },
        {
          "output_type": "stream",
          "name": "stdout",
          "text": [
            "Epoch 635 finished\n"
          ]
        },
        {
          "output_type": "stream",
          "name": "stderr",
          "text": [
            "\n",
            "100%|██████████| 1/1 [00:00<00:00,  1.37it/s]"
          ]
        },
        {
          "output_type": "stream",
          "name": "stdout",
          "text": [
            "Epoch 636 finished\n"
          ]
        },
        {
          "output_type": "stream",
          "name": "stderr",
          "text": [
            "\n",
            "100%|██████████| 1/1 [00:00<00:00,  1.36it/s]"
          ]
        },
        {
          "output_type": "stream",
          "name": "stdout",
          "text": [
            "Epoch 637 finished\n"
          ]
        },
        {
          "output_type": "stream",
          "name": "stderr",
          "text": [
            "\n",
            "100%|██████████| 1/1 [00:00<00:00,  1.41it/s]"
          ]
        },
        {
          "output_type": "stream",
          "name": "stdout",
          "text": [
            "Epoch 638 finished\n"
          ]
        },
        {
          "output_type": "stream",
          "name": "stderr",
          "text": [
            "\n",
            "100%|██████████| 1/1 [00:00<00:00,  1.52it/s]"
          ]
        },
        {
          "output_type": "stream",
          "name": "stdout",
          "text": [
            "Epoch 639 finished\n"
          ]
        },
        {
          "output_type": "stream",
          "name": "stderr",
          "text": [
            "\n",
            "  0%|          | 0/1 [00:00<?, ?it/s]"
          ]
        },
        {
          "output_type": "stream",
          "name": "stdout",
          "text": [
            "(Steps: 2400640) train/TotalLoss = 0.1472.\n",
            "(Steps: 2400640) train/mel_loss_ = 0.0459.\n",
            "(Steps: 2400640) train/mel_loss = 0.0350.\n",
            "(Steps: 2400640) train/dur_loss = 0.0121.\n",
            "(Steps: 2400640) train/pitch_loss = 0.0137.\n",
            "(Steps: 2400640) train/energy_loss = 0.0406.\n",
            "(Steps: 2400640) train/batch_size = 6.2000.\n",
            "(Steps: 2400640) train/x_band_width = 2.4000.\n",
            "(Steps: 2400640) train/h_band_width = 2.4000.\n",
            "KanTtsSAMBERT learning rate: 0.000082\n"
          ]
        },
        {
          "output_type": "stream",
          "name": "stderr",
          "text": [
            "100%|██████████| 1/1 [00:00<00:00,  1.36it/s]"
          ]
        },
        {
          "output_type": "stream",
          "name": "stdout",
          "text": [
            "Epoch 640 finished\n"
          ]
        },
        {
          "output_type": "stream",
          "name": "stderr",
          "text": [
            "\n",
            "100%|██████████| 1/1 [00:00<00:00,  1.49it/s]"
          ]
        },
        {
          "output_type": "stream",
          "name": "stdout",
          "text": [
            "Epoch 641 finished\n"
          ]
        },
        {
          "output_type": "stream",
          "name": "stderr",
          "text": [
            "\n",
            "100%|██████████| 1/1 [00:00<00:00,  1.47it/s]"
          ]
        },
        {
          "output_type": "stream",
          "name": "stdout",
          "text": [
            "Epoch 642 finished\n"
          ]
        },
        {
          "output_type": "stream",
          "name": "stderr",
          "text": [
            "\n",
            "100%|██████████| 1/1 [00:00<00:00,  1.46it/s]"
          ]
        },
        {
          "output_type": "stream",
          "name": "stdout",
          "text": [
            "Epoch 643 finished\n"
          ]
        },
        {
          "output_type": "stream",
          "name": "stderr",
          "text": [
            "\n",
            "100%|██████████| 1/1 [00:00<00:00,  1.50it/s]"
          ]
        },
        {
          "output_type": "stream",
          "name": "stdout",
          "text": [
            "Epoch 644 finished\n"
          ]
        },
        {
          "output_type": "stream",
          "name": "stderr",
          "text": [
            "\n",
            "100%|██████████| 1/1 [00:00<00:00,  1.52it/s]"
          ]
        },
        {
          "output_type": "stream",
          "name": "stdout",
          "text": [
            "Epoch 645 finished\n"
          ]
        },
        {
          "output_type": "stream",
          "name": "stderr",
          "text": [
            "\n",
            "100%|██████████| 1/1 [00:00<00:00,  1.54it/s]"
          ]
        },
        {
          "output_type": "stream",
          "name": "stdout",
          "text": [
            "Epoch 646 finished\n"
          ]
        },
        {
          "output_type": "stream",
          "name": "stderr",
          "text": [
            "\n",
            "100%|██████████| 1/1 [00:00<00:00,  1.52it/s]"
          ]
        },
        {
          "output_type": "stream",
          "name": "stdout",
          "text": [
            "Epoch 647 finished\n"
          ]
        },
        {
          "output_type": "stream",
          "name": "stderr",
          "text": [
            "\n",
            "100%|██████████| 1/1 [00:00<00:00,  1.48it/s]"
          ]
        },
        {
          "output_type": "stream",
          "name": "stdout",
          "text": [
            "Epoch 648 finished\n"
          ]
        },
        {
          "output_type": "stream",
          "name": "stderr",
          "text": [
            "\n",
            "100%|██████████| 1/1 [00:00<00:00,  1.50it/s]"
          ]
        },
        {
          "output_type": "stream",
          "name": "stdout",
          "text": [
            "Epoch 649 finished\n"
          ]
        },
        {
          "output_type": "stream",
          "name": "stderr",
          "text": [
            "\n",
            "  0%|          | 0/1 [00:00<?, ?it/s]"
          ]
        },
        {
          "output_type": "stream",
          "name": "stdout",
          "text": [
            "(Steps: 2400650) train/TotalLoss = 0.1466.\n",
            "(Steps: 2400650) train/mel_loss_ = 0.0458.\n",
            "(Steps: 2400650) train/mel_loss = 0.0349.\n",
            "(Steps: 2400650) train/dur_loss = 0.0119.\n",
            "(Steps: 2400650) train/pitch_loss = 0.0137.\n",
            "(Steps: 2400650) train/energy_loss = 0.0403.\n",
            "(Steps: 2400650) train/batch_size = 6.2000.\n",
            "(Steps: 2400650) train/x_band_width = 2.4000.\n",
            "(Steps: 2400650) train/h_band_width = 2.4000.\n",
            "KanTtsSAMBERT learning rate: 0.000082\n"
          ]
        },
        {
          "output_type": "stream",
          "name": "stderr",
          "text": [
            "100%|██████████| 1/1 [00:00<00:00,  1.36it/s]"
          ]
        },
        {
          "output_type": "stream",
          "name": "stdout",
          "text": [
            "Epoch 650 finished\n"
          ]
        },
        {
          "output_type": "stream",
          "name": "stderr",
          "text": [
            "\n",
            "100%|██████████| 1/1 [00:00<00:00,  1.48it/s]"
          ]
        },
        {
          "output_type": "stream",
          "name": "stdout",
          "text": [
            "Epoch 651 finished\n"
          ]
        },
        {
          "output_type": "stream",
          "name": "stderr",
          "text": [
            "\n",
            "100%|██████████| 1/1 [00:00<00:00,  1.49it/s]"
          ]
        },
        {
          "output_type": "stream",
          "name": "stdout",
          "text": [
            "Epoch 652 finished\n"
          ]
        },
        {
          "output_type": "stream",
          "name": "stderr",
          "text": [
            "\n",
            "100%|██████████| 1/1 [00:00<00:00,  1.31it/s]"
          ]
        },
        {
          "output_type": "stream",
          "name": "stdout",
          "text": [
            "Epoch 653 finished\n"
          ]
        },
        {
          "output_type": "stream",
          "name": "stderr",
          "text": [
            "\n",
            "100%|██████████| 1/1 [00:00<00:00,  1.30it/s]"
          ]
        },
        {
          "output_type": "stream",
          "name": "stdout",
          "text": [
            "Epoch 654 finished\n"
          ]
        },
        {
          "output_type": "stream",
          "name": "stderr",
          "text": [
            "\n",
            "100%|██████████| 1/1 [00:00<00:00,  1.30it/s]"
          ]
        },
        {
          "output_type": "stream",
          "name": "stdout",
          "text": [
            "Epoch 655 finished\n"
          ]
        },
        {
          "output_type": "stream",
          "name": "stderr",
          "text": [
            "\n",
            "100%|██████████| 1/1 [00:00<00:00,  1.35it/s]"
          ]
        },
        {
          "output_type": "stream",
          "name": "stdout",
          "text": [
            "Epoch 656 finished\n"
          ]
        },
        {
          "output_type": "stream",
          "name": "stderr",
          "text": [
            "\n",
            "100%|██████████| 1/1 [00:00<00:00,  1.38it/s]"
          ]
        },
        {
          "output_type": "stream",
          "name": "stdout",
          "text": [
            "Epoch 657 finished\n"
          ]
        },
        {
          "output_type": "stream",
          "name": "stderr",
          "text": [
            "\n",
            "100%|██████████| 1/1 [00:00<00:00,  1.34it/s]"
          ]
        },
        {
          "output_type": "stream",
          "name": "stdout",
          "text": [
            "Epoch 658 finished\n"
          ]
        },
        {
          "output_type": "stream",
          "name": "stderr",
          "text": [
            "\n",
            "100%|██████████| 1/1 [00:00<00:00,  1.42it/s]"
          ]
        },
        {
          "output_type": "stream",
          "name": "stdout",
          "text": [
            "Epoch 659 finished\n"
          ]
        },
        {
          "output_type": "stream",
          "name": "stderr",
          "text": [
            "\n",
            "  0%|          | 0/1 [00:00<?, ?it/s]"
          ]
        },
        {
          "output_type": "stream",
          "name": "stdout",
          "text": [
            "(Steps: 2400660) train/TotalLoss = 0.1459.\n",
            "(Steps: 2400660) train/mel_loss_ = 0.0456.\n",
            "(Steps: 2400660) train/mel_loss = 0.0348.\n",
            "(Steps: 2400660) train/dur_loss = 0.0119.\n",
            "(Steps: 2400660) train/pitch_loss = 0.0136.\n",
            "(Steps: 2400660) train/energy_loss = 0.0400.\n",
            "(Steps: 2400660) train/batch_size = 6.2000.\n",
            "(Steps: 2400660) train/x_band_width = 2.4000.\n",
            "(Steps: 2400660) train/h_band_width = 2.4000.\n",
            "KanTtsSAMBERT learning rate: 0.000082\n"
          ]
        },
        {
          "output_type": "stream",
          "name": "stderr",
          "text": [
            "100%|██████████| 1/1 [00:00<00:00,  1.33it/s]"
          ]
        },
        {
          "output_type": "stream",
          "name": "stdout",
          "text": [
            "Epoch 660 finished\n"
          ]
        },
        {
          "output_type": "stream",
          "name": "stderr",
          "text": [
            "\n",
            "100%|██████████| 1/1 [00:00<00:00,  1.32it/s]"
          ]
        },
        {
          "output_type": "stream",
          "name": "stdout",
          "text": [
            "Epoch 661 finished\n"
          ]
        },
        {
          "output_type": "stream",
          "name": "stderr",
          "text": [
            "\n",
            "100%|██████████| 1/1 [00:00<00:00,  1.33it/s]"
          ]
        },
        {
          "output_type": "stream",
          "name": "stdout",
          "text": [
            "Epoch 662 finished\n"
          ]
        },
        {
          "output_type": "stream",
          "name": "stderr",
          "text": [
            "\n",
            "100%|██████████| 1/1 [00:00<00:00,  1.49it/s]"
          ]
        },
        {
          "output_type": "stream",
          "name": "stdout",
          "text": [
            "Epoch 663 finished\n"
          ]
        },
        {
          "output_type": "stream",
          "name": "stderr",
          "text": [
            "\n",
            "100%|██████████| 1/1 [00:00<00:00,  1.48it/s]"
          ]
        },
        {
          "output_type": "stream",
          "name": "stdout",
          "text": [
            "Epoch 664 finished\n"
          ]
        },
        {
          "output_type": "stream",
          "name": "stderr",
          "text": [
            "\n",
            "100%|██████████| 1/1 [00:00<00:00,  1.44it/s]"
          ]
        },
        {
          "output_type": "stream",
          "name": "stdout",
          "text": [
            "Epoch 665 finished\n"
          ]
        },
        {
          "output_type": "stream",
          "name": "stderr",
          "text": [
            "\n",
            "100%|██████████| 1/1 [00:00<00:00,  1.47it/s]"
          ]
        },
        {
          "output_type": "stream",
          "name": "stdout",
          "text": [
            "Epoch 666 finished\n"
          ]
        },
        {
          "output_type": "stream",
          "name": "stderr",
          "text": [
            "\n",
            "100%|██████████| 1/1 [00:00<00:00,  1.53it/s]"
          ]
        },
        {
          "output_type": "stream",
          "name": "stdout",
          "text": [
            "Epoch 667 finished\n"
          ]
        },
        {
          "output_type": "stream",
          "name": "stderr",
          "text": [
            "\n",
            "100%|██████████| 1/1 [00:00<00:00,  1.51it/s]"
          ]
        },
        {
          "output_type": "stream",
          "name": "stdout",
          "text": [
            "Epoch 668 finished\n"
          ]
        },
        {
          "output_type": "stream",
          "name": "stderr",
          "text": [
            "\n",
            "100%|██████████| 1/1 [00:00<00:00,  1.51it/s]"
          ]
        },
        {
          "output_type": "stream",
          "name": "stdout",
          "text": [
            "Epoch 669 finished\n"
          ]
        },
        {
          "output_type": "stream",
          "name": "stderr",
          "text": [
            "\n",
            "  0%|          | 0/1 [00:00<?, ?it/s]"
          ]
        },
        {
          "output_type": "stream",
          "name": "stdout",
          "text": [
            "(Steps: 2400670) train/TotalLoss = 0.1448.\n",
            "(Steps: 2400670) train/mel_loss_ = 0.0453.\n",
            "(Steps: 2400670) train/mel_loss = 0.0346.\n",
            "(Steps: 2400670) train/dur_loss = 0.0117.\n",
            "(Steps: 2400670) train/pitch_loss = 0.0134.\n",
            "(Steps: 2400670) train/energy_loss = 0.0397.\n",
            "(Steps: 2400670) train/batch_size = 6.2000.\n",
            "(Steps: 2400670) train/x_band_width = 2.4000.\n",
            "(Steps: 2400670) train/h_band_width = 2.4000.\n",
            "KanTtsSAMBERT learning rate: 0.000082\n"
          ]
        },
        {
          "output_type": "stream",
          "name": "stderr",
          "text": [
            "100%|██████████| 1/1 [00:00<00:00,  1.31it/s]"
          ]
        },
        {
          "output_type": "stream",
          "name": "stdout",
          "text": [
            "Epoch 670 finished\n"
          ]
        },
        {
          "output_type": "stream",
          "name": "stderr",
          "text": [
            "\n",
            "100%|██████████| 1/1 [00:00<00:00,  1.39it/s]"
          ]
        },
        {
          "output_type": "stream",
          "name": "stdout",
          "text": [
            "Epoch 671 finished\n"
          ]
        },
        {
          "output_type": "stream",
          "name": "stderr",
          "text": [
            "\n",
            "100%|██████████| 1/1 [00:00<00:00,  1.40it/s]"
          ]
        },
        {
          "output_type": "stream",
          "name": "stdout",
          "text": [
            "Epoch 672 finished\n"
          ]
        },
        {
          "output_type": "stream",
          "name": "stderr",
          "text": [
            "\n",
            "100%|██████████| 1/1 [00:00<00:00,  1.49it/s]"
          ]
        },
        {
          "output_type": "stream",
          "name": "stdout",
          "text": [
            "Epoch 673 finished\n"
          ]
        },
        {
          "output_type": "stream",
          "name": "stderr",
          "text": [
            "\n",
            "100%|██████████| 1/1 [00:00<00:00,  1.35it/s]"
          ]
        },
        {
          "output_type": "stream",
          "name": "stdout",
          "text": [
            "Epoch 674 finished\n"
          ]
        },
        {
          "output_type": "stream",
          "name": "stderr",
          "text": [
            "\n",
            "100%|██████████| 1/1 [00:00<00:00,  1.12it/s]"
          ]
        },
        {
          "output_type": "stream",
          "name": "stdout",
          "text": [
            "Epoch 675 finished\n"
          ]
        },
        {
          "output_type": "stream",
          "name": "stderr",
          "text": [
            "\n",
            "100%|██████████| 1/1 [00:00<00:00,  1.46it/s]"
          ]
        },
        {
          "output_type": "stream",
          "name": "stdout",
          "text": [
            "Epoch 676 finished\n"
          ]
        },
        {
          "output_type": "stream",
          "name": "stderr",
          "text": [
            "\n",
            "100%|██████████| 1/1 [00:00<00:00,  1.15it/s]"
          ]
        },
        {
          "output_type": "stream",
          "name": "stdout",
          "text": [
            "Epoch 677 finished\n"
          ]
        },
        {
          "output_type": "stream",
          "name": "stderr",
          "text": [
            "\n",
            "100%|██████████| 1/1 [00:00<00:00,  1.40it/s]"
          ]
        },
        {
          "output_type": "stream",
          "name": "stdout",
          "text": [
            "Epoch 678 finished\n"
          ]
        },
        {
          "output_type": "stream",
          "name": "stderr",
          "text": [
            "\n",
            "100%|██████████| 1/1 [00:00<00:00,  1.39it/s]"
          ]
        },
        {
          "output_type": "stream",
          "name": "stdout",
          "text": [
            "Epoch 679 finished\n"
          ]
        },
        {
          "output_type": "stream",
          "name": "stderr",
          "text": [
            "\n",
            "  0%|          | 0/1 [00:00<?, ?it/s]"
          ]
        },
        {
          "output_type": "stream",
          "name": "stdout",
          "text": [
            "(Steps: 2400680) train/TotalLoss = 0.1445.\n",
            "(Steps: 2400680) train/mel_loss_ = 0.0454.\n",
            "(Steps: 2400680) train/mel_loss = 0.0346.\n",
            "(Steps: 2400680) train/dur_loss = 0.0117.\n",
            "(Steps: 2400680) train/pitch_loss = 0.0134.\n",
            "(Steps: 2400680) train/energy_loss = 0.0395.\n",
            "(Steps: 2400680) train/batch_size = 6.2000.\n",
            "(Steps: 2400680) train/x_band_width = 2.4000.\n",
            "(Steps: 2400680) train/h_band_width = 2.4000.\n",
            "KanTtsSAMBERT learning rate: 0.000082\n"
          ]
        },
        {
          "output_type": "stream",
          "name": "stderr",
          "text": [
            "100%|██████████| 1/1 [00:00<00:00,  1.28it/s]"
          ]
        },
        {
          "output_type": "stream",
          "name": "stdout",
          "text": [
            "Epoch 680 finished\n"
          ]
        },
        {
          "output_type": "stream",
          "name": "stderr",
          "text": [
            "\n",
            "100%|██████████| 1/1 [00:00<00:00,  1.46it/s]"
          ]
        },
        {
          "output_type": "stream",
          "name": "stdout",
          "text": [
            "Epoch 681 finished\n"
          ]
        },
        {
          "output_type": "stream",
          "name": "stderr",
          "text": [
            "\n",
            "100%|██████████| 1/1 [00:00<00:00,  1.39it/s]"
          ]
        },
        {
          "output_type": "stream",
          "name": "stdout",
          "text": [
            "Epoch 682 finished\n"
          ]
        },
        {
          "output_type": "stream",
          "name": "stderr",
          "text": [
            "\n",
            "100%|██████████| 1/1 [00:00<00:00,  1.39it/s]"
          ]
        },
        {
          "output_type": "stream",
          "name": "stdout",
          "text": [
            "Epoch 683 finished\n"
          ]
        },
        {
          "output_type": "stream",
          "name": "stderr",
          "text": [
            "\n",
            "100%|██████████| 1/1 [00:00<00:00,  1.42it/s]"
          ]
        },
        {
          "output_type": "stream",
          "name": "stdout",
          "text": [
            "Epoch 684 finished\n"
          ]
        },
        {
          "output_type": "stream",
          "name": "stderr",
          "text": [
            "\n",
            "100%|██████████| 1/1 [00:00<00:00,  1.44it/s]"
          ]
        },
        {
          "output_type": "stream",
          "name": "stdout",
          "text": [
            "Epoch 685 finished\n"
          ]
        },
        {
          "output_type": "stream",
          "name": "stderr",
          "text": [
            "\n",
            "100%|██████████| 1/1 [00:00<00:00,  1.34it/s]"
          ]
        },
        {
          "output_type": "stream",
          "name": "stdout",
          "text": [
            "Epoch 686 finished\n"
          ]
        },
        {
          "output_type": "stream",
          "name": "stderr",
          "text": [
            "\n",
            "100%|██████████| 1/1 [00:00<00:00,  1.53it/s]"
          ]
        },
        {
          "output_type": "stream",
          "name": "stdout",
          "text": [
            "Epoch 687 finished\n"
          ]
        },
        {
          "output_type": "stream",
          "name": "stderr",
          "text": [
            "\n",
            "100%|██████████| 1/1 [00:00<00:00,  1.55it/s]"
          ]
        },
        {
          "output_type": "stream",
          "name": "stdout",
          "text": [
            "Epoch 688 finished\n"
          ]
        },
        {
          "output_type": "stream",
          "name": "stderr",
          "text": [
            "\n",
            "100%|██████████| 1/1 [00:00<00:00,  1.52it/s]"
          ]
        },
        {
          "output_type": "stream",
          "name": "stdout",
          "text": [
            "Epoch 689 finished\n"
          ]
        },
        {
          "output_type": "stream",
          "name": "stderr",
          "text": [
            "\n",
            "  0%|          | 0/1 [00:00<?, ?it/s]"
          ]
        },
        {
          "output_type": "stream",
          "name": "stdout",
          "text": [
            "(Steps: 2400690) train/TotalLoss = 0.1429.\n",
            "(Steps: 2400690) train/mel_loss_ = 0.0451.\n",
            "(Steps: 2400690) train/mel_loss = 0.0344.\n",
            "(Steps: 2400690) train/dur_loss = 0.0115.\n",
            "(Steps: 2400690) train/pitch_loss = 0.0130.\n",
            "(Steps: 2400690) train/energy_loss = 0.0388.\n",
            "(Steps: 2400690) train/batch_size = 6.2000.\n",
            "(Steps: 2400690) train/x_band_width = 2.4000.\n",
            "(Steps: 2400690) train/h_band_width = 2.4000.\n",
            "KanTtsSAMBERT learning rate: 0.000082\n"
          ]
        },
        {
          "output_type": "stream",
          "name": "stderr",
          "text": [
            "100%|██████████| 1/1 [00:00<00:00,  1.38it/s]"
          ]
        },
        {
          "output_type": "stream",
          "name": "stdout",
          "text": [
            "Epoch 690 finished\n"
          ]
        },
        {
          "output_type": "stream",
          "name": "stderr",
          "text": [
            "\n",
            "100%|██████████| 1/1 [00:00<00:00,  1.55it/s]"
          ]
        },
        {
          "output_type": "stream",
          "name": "stdout",
          "text": [
            "Epoch 691 finished\n"
          ]
        },
        {
          "output_type": "stream",
          "name": "stderr",
          "text": [
            "\n",
            "100%|██████████| 1/1 [00:00<00:00,  1.56it/s]"
          ]
        },
        {
          "output_type": "stream",
          "name": "stdout",
          "text": [
            "Epoch 692 finished\n"
          ]
        },
        {
          "output_type": "stream",
          "name": "stderr",
          "text": [
            "\n",
            "100%|██████████| 1/1 [00:00<00:00,  1.55it/s]"
          ]
        },
        {
          "output_type": "stream",
          "name": "stdout",
          "text": [
            "Epoch 693 finished\n"
          ]
        },
        {
          "output_type": "stream",
          "name": "stderr",
          "text": [
            "\n",
            "100%|██████████| 1/1 [00:00<00:00,  1.46it/s]"
          ]
        },
        {
          "output_type": "stream",
          "name": "stdout",
          "text": [
            "Epoch 694 finished\n"
          ]
        },
        {
          "output_type": "stream",
          "name": "stderr",
          "text": [
            "\n",
            "100%|██████████| 1/1 [00:00<00:00,  1.55it/s]"
          ]
        },
        {
          "output_type": "stream",
          "name": "stdout",
          "text": [
            "Epoch 695 finished\n"
          ]
        },
        {
          "output_type": "stream",
          "name": "stderr",
          "text": [
            "\n",
            "100%|██████████| 1/1 [00:00<00:00,  1.50it/s]"
          ]
        },
        {
          "output_type": "stream",
          "name": "stdout",
          "text": [
            "Epoch 696 finished\n"
          ]
        },
        {
          "output_type": "stream",
          "name": "stderr",
          "text": [
            "\n",
            "100%|██████████| 1/1 [00:00<00:00,  1.48it/s]"
          ]
        },
        {
          "output_type": "stream",
          "name": "stdout",
          "text": [
            "Epoch 697 finished\n"
          ]
        },
        {
          "output_type": "stream",
          "name": "stderr",
          "text": [
            "\n",
            "100%|██████████| 1/1 [00:00<00:00,  1.54it/s]"
          ]
        },
        {
          "output_type": "stream",
          "name": "stdout",
          "text": [
            "Epoch 698 finished\n"
          ]
        },
        {
          "output_type": "stream",
          "name": "stderr",
          "text": [
            "\n",
            "100%|██████████| 1/1 [00:00<00:00,  1.51it/s]"
          ]
        },
        {
          "output_type": "stream",
          "name": "stdout",
          "text": [
            "Epoch 699 finished\n"
          ]
        },
        {
          "output_type": "stream",
          "name": "stderr",
          "text": [
            "\n",
            "  0%|          | 0/1 [00:00<?, ?it/s]"
          ]
        },
        {
          "output_type": "stream",
          "name": "stdout",
          "text": [
            "(Steps: 2400700) train/TotalLoss = 0.1429.\n",
            "(Steps: 2400700) train/mel_loss_ = 0.0451.\n",
            "(Steps: 2400700) train/mel_loss = 0.0344.\n",
            "(Steps: 2400700) train/dur_loss = 0.0115.\n",
            "(Steps: 2400700) train/pitch_loss = 0.0129.\n",
            "(Steps: 2400700) train/energy_loss = 0.0389.\n",
            "(Steps: 2400700) train/batch_size = 6.2000.\n",
            "(Steps: 2400700) train/x_band_width = 2.4000.\n",
            "(Steps: 2400700) train/h_band_width = 2.4000.\n",
            "KanTtsSAMBERT learning rate: 0.000082\n"
          ]
        },
        {
          "output_type": "stream",
          "name": "stderr",
          "text": [
            "100%|██████████| 1/1 [00:00<00:00,  1.39it/s]"
          ]
        },
        {
          "output_type": "stream",
          "name": "stdout",
          "text": [
            "Epoch 700 finished\n"
          ]
        },
        {
          "output_type": "stream",
          "name": "stderr",
          "text": [
            "\n",
            "100%|██████████| 1/1 [00:00<00:00,  1.45it/s]"
          ]
        },
        {
          "output_type": "stream",
          "name": "stdout",
          "text": [
            "Epoch 701 finished\n"
          ]
        },
        {
          "output_type": "stream",
          "name": "stderr",
          "text": [
            "\n",
            "100%|██████████| 1/1 [00:00<00:00,  1.35it/s]"
          ]
        },
        {
          "output_type": "stream",
          "name": "stdout",
          "text": [
            "Epoch 702 finished\n"
          ]
        },
        {
          "output_type": "stream",
          "name": "stderr",
          "text": [
            "\n",
            "100%|██████████| 1/1 [00:00<00:00,  1.40it/s]"
          ]
        },
        {
          "output_type": "stream",
          "name": "stdout",
          "text": [
            "Epoch 703 finished\n"
          ]
        },
        {
          "output_type": "stream",
          "name": "stderr",
          "text": [
            "\n",
            "100%|██████████| 1/1 [00:00<00:00,  1.40it/s]"
          ]
        },
        {
          "output_type": "stream",
          "name": "stdout",
          "text": [
            "Epoch 704 finished\n"
          ]
        },
        {
          "output_type": "stream",
          "name": "stderr",
          "text": [
            "\n",
            "100%|██████████| 1/1 [00:00<00:00,  1.40it/s]"
          ]
        },
        {
          "output_type": "stream",
          "name": "stdout",
          "text": [
            "Epoch 705 finished\n"
          ]
        },
        {
          "output_type": "stream",
          "name": "stderr",
          "text": [
            "\n",
            "100%|██████████| 1/1 [00:00<00:00,  1.42it/s]"
          ]
        },
        {
          "output_type": "stream",
          "name": "stdout",
          "text": [
            "Epoch 706 finished\n"
          ]
        },
        {
          "output_type": "stream",
          "name": "stderr",
          "text": [
            "\n",
            "100%|██████████| 1/1 [00:00<00:00,  1.21it/s]"
          ]
        },
        {
          "output_type": "stream",
          "name": "stdout",
          "text": [
            "Epoch 707 finished\n"
          ]
        },
        {
          "output_type": "stream",
          "name": "stderr",
          "text": [
            "\n",
            "100%|██████████| 1/1 [00:00<00:00,  1.22it/s]"
          ]
        },
        {
          "output_type": "stream",
          "name": "stdout",
          "text": [
            "Epoch 708 finished\n"
          ]
        },
        {
          "output_type": "stream",
          "name": "stderr",
          "text": [
            "\n",
            "100%|██████████| 1/1 [00:00<00:00,  1.29it/s]"
          ]
        },
        {
          "output_type": "stream",
          "name": "stdout",
          "text": [
            "Epoch 709 finished\n"
          ]
        },
        {
          "output_type": "stream",
          "name": "stderr",
          "text": [
            "\n",
            "  0%|          | 0/1 [00:00<?, ?it/s]"
          ]
        },
        {
          "output_type": "stream",
          "name": "stdout",
          "text": [
            "(Steps: 2400710) train/TotalLoss = 0.1423.\n",
            "(Steps: 2400710) train/mel_loss_ = 0.0448.\n",
            "(Steps: 2400710) train/mel_loss = 0.0343.\n",
            "(Steps: 2400710) train/dur_loss = 0.0114.\n",
            "(Steps: 2400710) train/pitch_loss = 0.0130.\n",
            "(Steps: 2400710) train/energy_loss = 0.0388.\n",
            "(Steps: 2400710) train/batch_size = 6.2000.\n",
            "(Steps: 2400710) train/x_band_width = 2.4000.\n",
            "(Steps: 2400710) train/h_band_width = 2.4000.\n",
            "KanTtsSAMBERT learning rate: 0.000082\n"
          ]
        },
        {
          "output_type": "stream",
          "name": "stderr",
          "text": [
            "100%|██████████| 1/1 [00:00<00:00,  1.21it/s]"
          ]
        },
        {
          "output_type": "stream",
          "name": "stdout",
          "text": [
            "Epoch 710 finished\n"
          ]
        },
        {
          "output_type": "stream",
          "name": "stderr",
          "text": [
            "\n",
            "100%|██████████| 1/1 [00:00<00:00,  1.41it/s]"
          ]
        },
        {
          "output_type": "stream",
          "name": "stdout",
          "text": [
            "Epoch 711 finished\n"
          ]
        },
        {
          "output_type": "stream",
          "name": "stderr",
          "text": [
            "\n",
            "100%|██████████| 1/1 [00:00<00:00,  1.51it/s]"
          ]
        },
        {
          "output_type": "stream",
          "name": "stdout",
          "text": [
            "Epoch 712 finished\n"
          ]
        },
        {
          "output_type": "stream",
          "name": "stderr",
          "text": [
            "\n",
            "100%|██████████| 1/1 [00:00<00:00,  1.52it/s]"
          ]
        },
        {
          "output_type": "stream",
          "name": "stdout",
          "text": [
            "Epoch 713 finished\n"
          ]
        },
        {
          "output_type": "stream",
          "name": "stderr",
          "text": [
            "\n",
            "100%|██████████| 1/1 [00:00<00:00,  1.50it/s]"
          ]
        },
        {
          "output_type": "stream",
          "name": "stdout",
          "text": [
            "Epoch 714 finished\n"
          ]
        },
        {
          "output_type": "stream",
          "name": "stderr",
          "text": [
            "\n",
            "100%|██████████| 1/1 [00:00<00:00,  1.58it/s]"
          ]
        },
        {
          "output_type": "stream",
          "name": "stdout",
          "text": [
            "Epoch 715 finished\n"
          ]
        },
        {
          "output_type": "stream",
          "name": "stderr",
          "text": [
            "\n",
            "100%|██████████| 1/1 [00:00<00:00,  1.51it/s]"
          ]
        },
        {
          "output_type": "stream",
          "name": "stdout",
          "text": [
            "Epoch 716 finished\n"
          ]
        },
        {
          "output_type": "stream",
          "name": "stderr",
          "text": [
            "\n",
            "100%|██████████| 1/1 [00:00<00:00,  1.51it/s]"
          ]
        },
        {
          "output_type": "stream",
          "name": "stdout",
          "text": [
            "Epoch 717 finished\n"
          ]
        },
        {
          "output_type": "stream",
          "name": "stderr",
          "text": [
            "\n",
            "100%|██████████| 1/1 [00:00<00:00,  1.56it/s]"
          ]
        },
        {
          "output_type": "stream",
          "name": "stdout",
          "text": [
            "Epoch 718 finished\n"
          ]
        },
        {
          "output_type": "stream",
          "name": "stderr",
          "text": [
            "\n",
            "100%|██████████| 1/1 [00:00<00:00,  1.53it/s]"
          ]
        },
        {
          "output_type": "stream",
          "name": "stdout",
          "text": [
            "Epoch 719 finished\n"
          ]
        },
        {
          "output_type": "stream",
          "name": "stderr",
          "text": [
            "\n",
            "  0%|          | 0/1 [00:00<?, ?it/s]"
          ]
        },
        {
          "output_type": "stream",
          "name": "stdout",
          "text": [
            "(Steps: 2400720) train/TotalLoss = 0.1420.\n",
            "(Steps: 2400720) train/mel_loss_ = 0.0447.\n",
            "(Steps: 2400720) train/mel_loss = 0.0342.\n",
            "(Steps: 2400720) train/dur_loss = 0.0113.\n",
            "(Steps: 2400720) train/pitch_loss = 0.0131.\n",
            "(Steps: 2400720) train/energy_loss = 0.0387.\n",
            "(Steps: 2400720) train/batch_size = 6.2000.\n",
            "(Steps: 2400720) train/x_band_width = 2.4000.\n",
            "(Steps: 2400720) train/h_band_width = 2.4000.\n",
            "KanTtsSAMBERT learning rate: 0.000082\n"
          ]
        },
        {
          "output_type": "stream",
          "name": "stderr",
          "text": [
            "100%|██████████| 1/1 [00:00<00:00,  1.39it/s]"
          ]
        },
        {
          "output_type": "stream",
          "name": "stdout",
          "text": [
            "Epoch 720 finished\n"
          ]
        },
        {
          "output_type": "stream",
          "name": "stderr",
          "text": [
            "\n",
            "100%|██████████| 1/1 [00:00<00:00,  1.55it/s]"
          ]
        },
        {
          "output_type": "stream",
          "name": "stdout",
          "text": [
            "Epoch 721 finished\n"
          ]
        },
        {
          "output_type": "stream",
          "name": "stderr",
          "text": [
            "\n",
            "100%|██████████| 1/1 [00:00<00:00,  1.53it/s]"
          ]
        },
        {
          "output_type": "stream",
          "name": "stdout",
          "text": [
            "Epoch 722 finished\n"
          ]
        },
        {
          "output_type": "stream",
          "name": "stderr",
          "text": [
            "\n",
            "100%|██████████| 1/1 [00:00<00:00,  1.56it/s]"
          ]
        },
        {
          "output_type": "stream",
          "name": "stdout",
          "text": [
            "Epoch 723 finished\n"
          ]
        },
        {
          "output_type": "stream",
          "name": "stderr",
          "text": [
            "\n",
            "100%|██████████| 1/1 [00:00<00:00,  1.59it/s]"
          ]
        },
        {
          "output_type": "stream",
          "name": "stdout",
          "text": [
            "Epoch 724 finished\n"
          ]
        },
        {
          "output_type": "stream",
          "name": "stderr",
          "text": [
            "\n",
            "100%|██████████| 1/1 [00:00<00:00,  1.52it/s]"
          ]
        },
        {
          "output_type": "stream",
          "name": "stdout",
          "text": [
            "Epoch 725 finished\n"
          ]
        },
        {
          "output_type": "stream",
          "name": "stderr",
          "text": [
            "\n",
            "100%|██████████| 1/1 [00:00<00:00,  1.40it/s]"
          ]
        },
        {
          "output_type": "stream",
          "name": "stdout",
          "text": [
            "Epoch 726 finished\n"
          ]
        },
        {
          "output_type": "stream",
          "name": "stderr",
          "text": [
            "\n",
            "100%|██████████| 1/1 [00:00<00:00,  1.28it/s]"
          ]
        },
        {
          "output_type": "stream",
          "name": "stdout",
          "text": [
            "Epoch 727 finished\n"
          ]
        },
        {
          "output_type": "stream",
          "name": "stderr",
          "text": [
            "\n",
            "100%|██████████| 1/1 [00:00<00:00,  1.36it/s]"
          ]
        },
        {
          "output_type": "stream",
          "name": "stdout",
          "text": [
            "Epoch 728 finished\n"
          ]
        },
        {
          "output_type": "stream",
          "name": "stderr",
          "text": [
            "\n",
            "100%|██████████| 1/1 [00:00<00:00,  1.36it/s]"
          ]
        },
        {
          "output_type": "stream",
          "name": "stdout",
          "text": [
            "Epoch 729 finished\n"
          ]
        },
        {
          "output_type": "stream",
          "name": "stderr",
          "text": [
            "\n",
            "  0%|          | 0/1 [00:00<?, ?it/s]"
          ]
        },
        {
          "output_type": "stream",
          "name": "stdout",
          "text": [
            "(Steps: 2400730) train/TotalLoss = 0.1408.\n",
            "(Steps: 2400730) train/mel_loss_ = 0.0445.\n",
            "(Steps: 2400730) train/mel_loss = 0.0340.\n",
            "(Steps: 2400730) train/dur_loss = 0.0113.\n",
            "(Steps: 2400730) train/pitch_loss = 0.0127.\n",
            "(Steps: 2400730) train/energy_loss = 0.0383.\n",
            "(Steps: 2400730) train/batch_size = 6.2000.\n",
            "(Steps: 2400730) train/x_band_width = 2.4000.\n",
            "(Steps: 2400730) train/h_band_width = 2.4000.\n",
            "KanTtsSAMBERT learning rate: 0.000082\n"
          ]
        },
        {
          "output_type": "stream",
          "name": "stderr",
          "text": [
            "100%|██████████| 1/1 [00:00<00:00,  1.33it/s]"
          ]
        },
        {
          "output_type": "stream",
          "name": "stdout",
          "text": [
            "Epoch 730 finished\n"
          ]
        },
        {
          "output_type": "stream",
          "name": "stderr",
          "text": [
            "\n",
            "100%|██████████| 1/1 [00:00<00:00,  1.40it/s]"
          ]
        },
        {
          "output_type": "stream",
          "name": "stdout",
          "text": [
            "Epoch 731 finished\n"
          ]
        },
        {
          "output_type": "stream",
          "name": "stderr",
          "text": [
            "\n",
            "100%|██████████| 1/1 [00:00<00:00,  1.43it/s]"
          ]
        },
        {
          "output_type": "stream",
          "name": "stdout",
          "text": [
            "Epoch 732 finished\n"
          ]
        },
        {
          "output_type": "stream",
          "name": "stderr",
          "text": [
            "\n",
            "100%|██████████| 1/1 [00:00<00:00,  1.46it/s]"
          ]
        },
        {
          "output_type": "stream",
          "name": "stdout",
          "text": [
            "Epoch 733 finished\n"
          ]
        },
        {
          "output_type": "stream",
          "name": "stderr",
          "text": [
            "\n",
            "100%|██████████| 1/1 [00:00<00:00,  1.34it/s]"
          ]
        },
        {
          "output_type": "stream",
          "name": "stdout",
          "text": [
            "Epoch 734 finished\n"
          ]
        },
        {
          "output_type": "stream",
          "name": "stderr",
          "text": [
            "\n",
            "100%|██████████| 1/1 [00:00<00:00,  1.43it/s]"
          ]
        },
        {
          "output_type": "stream",
          "name": "stdout",
          "text": [
            "Epoch 735 finished\n"
          ]
        },
        {
          "output_type": "stream",
          "name": "stderr",
          "text": [
            "\n",
            "100%|██████████| 1/1 [00:00<00:00,  1.49it/s]"
          ]
        },
        {
          "output_type": "stream",
          "name": "stdout",
          "text": [
            "Epoch 736 finished\n"
          ]
        },
        {
          "output_type": "stream",
          "name": "stderr",
          "text": [
            "\n",
            "100%|██████████| 1/1 [00:00<00:00,  1.56it/s]"
          ]
        },
        {
          "output_type": "stream",
          "name": "stdout",
          "text": [
            "Epoch 737 finished\n"
          ]
        },
        {
          "output_type": "stream",
          "name": "stderr",
          "text": [
            "\n",
            "100%|██████████| 1/1 [00:00<00:00,  1.56it/s]"
          ]
        },
        {
          "output_type": "stream",
          "name": "stdout",
          "text": [
            "Epoch 738 finished\n"
          ]
        },
        {
          "output_type": "stream",
          "name": "stderr",
          "text": [
            "\n",
            "100%|██████████| 1/1 [00:00<00:00,  1.55it/s]"
          ]
        },
        {
          "output_type": "stream",
          "name": "stdout",
          "text": [
            "Epoch 739 finished\n"
          ]
        },
        {
          "output_type": "stream",
          "name": "stderr",
          "text": [
            "\n",
            "  0%|          | 0/1 [00:00<?, ?it/s]"
          ]
        },
        {
          "output_type": "stream",
          "name": "stdout",
          "text": [
            "(Steps: 2400740) train/TotalLoss = 0.1406.\n",
            "(Steps: 2400740) train/mel_loss_ = 0.0445.\n",
            "(Steps: 2400740) train/mel_loss = 0.0341.\n",
            "(Steps: 2400740) train/dur_loss = 0.0112.\n",
            "(Steps: 2400740) train/pitch_loss = 0.0130.\n",
            "(Steps: 2400740) train/energy_loss = 0.0377.\n",
            "(Steps: 2400740) train/batch_size = 6.2000.\n",
            "(Steps: 2400740) train/x_band_width = 2.4000.\n",
            "(Steps: 2400740) train/h_band_width = 2.4000.\n",
            "KanTtsSAMBERT learning rate: 0.000082\n"
          ]
        },
        {
          "output_type": "stream",
          "name": "stderr",
          "text": [
            "100%|██████████| 1/1 [00:00<00:00,  1.35it/s]"
          ]
        },
        {
          "output_type": "stream",
          "name": "stdout",
          "text": [
            "Epoch 740 finished\n"
          ]
        },
        {
          "output_type": "stream",
          "name": "stderr",
          "text": [
            "\n",
            "100%|██████████| 1/1 [00:00<00:00,  1.54it/s]"
          ]
        },
        {
          "output_type": "stream",
          "name": "stdout",
          "text": [
            "Epoch 741 finished\n"
          ]
        },
        {
          "output_type": "stream",
          "name": "stderr",
          "text": [
            "\n",
            "100%|██████████| 1/1 [00:00<00:00,  1.55it/s]"
          ]
        },
        {
          "output_type": "stream",
          "name": "stdout",
          "text": [
            "Epoch 742 finished\n"
          ]
        },
        {
          "output_type": "stream",
          "name": "stderr",
          "text": [
            "\n",
            "100%|██████████| 1/1 [00:00<00:00,  1.51it/s]"
          ]
        },
        {
          "output_type": "stream",
          "name": "stdout",
          "text": [
            "Epoch 743 finished\n"
          ]
        },
        {
          "output_type": "stream",
          "name": "stderr",
          "text": [
            "\n",
            "100%|██████████| 1/1 [00:00<00:00,  1.55it/s]"
          ]
        },
        {
          "output_type": "stream",
          "name": "stdout",
          "text": [
            "Epoch 744 finished\n"
          ]
        },
        {
          "output_type": "stream",
          "name": "stderr",
          "text": [
            "\n",
            "100%|██████████| 1/1 [00:00<00:00,  1.55it/s]"
          ]
        },
        {
          "output_type": "stream",
          "name": "stdout",
          "text": [
            "Epoch 745 finished\n"
          ]
        },
        {
          "output_type": "stream",
          "name": "stderr",
          "text": [
            "\n",
            "100%|██████████| 1/1 [00:00<00:00,  1.53it/s]"
          ]
        },
        {
          "output_type": "stream",
          "name": "stdout",
          "text": [
            "Epoch 746 finished\n"
          ]
        },
        {
          "output_type": "stream",
          "name": "stderr",
          "text": [
            "\n",
            "100%|██████████| 1/1 [00:00<00:00,  1.56it/s]"
          ]
        },
        {
          "output_type": "stream",
          "name": "stdout",
          "text": [
            "Epoch 747 finished\n"
          ]
        },
        {
          "output_type": "stream",
          "name": "stderr",
          "text": [
            "\n",
            "100%|██████████| 1/1 [00:00<00:00,  1.56it/s]"
          ]
        },
        {
          "output_type": "stream",
          "name": "stdout",
          "text": [
            "Epoch 748 finished\n"
          ]
        },
        {
          "output_type": "stream",
          "name": "stderr",
          "text": [
            "\n",
            "100%|██████████| 1/1 [00:00<00:00,  1.54it/s]"
          ]
        },
        {
          "output_type": "stream",
          "name": "stdout",
          "text": [
            "Epoch 749 finished\n"
          ]
        },
        {
          "output_type": "stream",
          "name": "stderr",
          "text": [
            "\n",
            "  0%|          | 0/1 [00:00<?, ?it/s]"
          ]
        },
        {
          "output_type": "stream",
          "name": "stdout",
          "text": [
            "(Steps: 2400750) train/TotalLoss = 0.1392.\n",
            "(Steps: 2400750) train/mel_loss_ = 0.0443.\n",
            "(Steps: 2400750) train/mel_loss = 0.0339.\n",
            "(Steps: 2400750) train/dur_loss = 0.0110.\n",
            "(Steps: 2400750) train/pitch_loss = 0.0125.\n",
            "(Steps: 2400750) train/energy_loss = 0.0375.\n",
            "(Steps: 2400750) train/batch_size = 6.2000.\n",
            "(Steps: 2400750) train/x_band_width = 2.4000.\n",
            "(Steps: 2400750) train/h_band_width = 2.4000.\n",
            "KanTtsSAMBERT learning rate: 0.000082\n"
          ]
        },
        {
          "output_type": "stream",
          "name": "stderr",
          "text": [
            "100%|██████████| 1/1 [00:00<00:00,  1.38it/s]"
          ]
        },
        {
          "output_type": "stream",
          "name": "stdout",
          "text": [
            "Epoch 750 finished\n"
          ]
        },
        {
          "output_type": "stream",
          "name": "stderr",
          "text": [
            "\n",
            "100%|██████████| 1/1 [00:00<00:00,  1.41it/s]"
          ]
        },
        {
          "output_type": "stream",
          "name": "stdout",
          "text": [
            "Epoch 751 finished\n"
          ]
        },
        {
          "output_type": "stream",
          "name": "stderr",
          "text": [
            "\n",
            "100%|██████████| 1/1 [00:00<00:00,  1.39it/s]"
          ]
        },
        {
          "output_type": "stream",
          "name": "stdout",
          "text": [
            "Epoch 752 finished\n"
          ]
        },
        {
          "output_type": "stream",
          "name": "stderr",
          "text": [
            "\n",
            "100%|██████████| 1/1 [00:00<00:00,  1.39it/s]"
          ]
        },
        {
          "output_type": "stream",
          "name": "stdout",
          "text": [
            "Epoch 753 finished\n"
          ]
        },
        {
          "output_type": "stream",
          "name": "stderr",
          "text": [
            "\n",
            "100%|██████████| 1/1 [00:00<00:00,  1.43it/s]"
          ]
        },
        {
          "output_type": "stream",
          "name": "stdout",
          "text": [
            "Epoch 754 finished\n"
          ]
        },
        {
          "output_type": "stream",
          "name": "stderr",
          "text": [
            "\n",
            "100%|██████████| 1/1 [00:00<00:00,  1.42it/s]"
          ]
        },
        {
          "output_type": "stream",
          "name": "stdout",
          "text": [
            "Epoch 755 finished\n"
          ]
        },
        {
          "output_type": "stream",
          "name": "stderr",
          "text": [
            "\n",
            "100%|██████████| 1/1 [00:00<00:00,  1.36it/s]"
          ]
        },
        {
          "output_type": "stream",
          "name": "stdout",
          "text": [
            "Epoch 756 finished\n"
          ]
        },
        {
          "output_type": "stream",
          "name": "stderr",
          "text": [
            "\n",
            "100%|██████████| 1/1 [00:00<00:00,  1.43it/s]"
          ]
        },
        {
          "output_type": "stream",
          "name": "stdout",
          "text": [
            "Epoch 757 finished\n"
          ]
        },
        {
          "output_type": "stream",
          "name": "stderr",
          "text": [
            "\n",
            "100%|██████████| 1/1 [00:00<00:00,  1.43it/s]"
          ]
        },
        {
          "output_type": "stream",
          "name": "stdout",
          "text": [
            "Epoch 758 finished\n"
          ]
        },
        {
          "output_type": "stream",
          "name": "stderr",
          "text": [
            "\n",
            "100%|██████████| 1/1 [00:00<00:00,  1.38it/s]"
          ]
        },
        {
          "output_type": "stream",
          "name": "stdout",
          "text": [
            "Epoch 759 finished\n"
          ]
        },
        {
          "output_type": "stream",
          "name": "stderr",
          "text": [
            "\n",
            "  0%|          | 0/1 [00:00<?, ?it/s]"
          ]
        },
        {
          "output_type": "stream",
          "name": "stdout",
          "text": [
            "(Steps: 2400760) train/TotalLoss = 0.1396.\n",
            "(Steps: 2400760) train/mel_loss_ = 0.0443.\n",
            "(Steps: 2400760) train/mel_loss = 0.0339.\n",
            "(Steps: 2400760) train/dur_loss = 0.0109.\n",
            "(Steps: 2400760) train/pitch_loss = 0.0125.\n",
            "(Steps: 2400760) train/energy_loss = 0.0379.\n",
            "(Steps: 2400760) train/batch_size = 6.2000.\n",
            "(Steps: 2400760) train/x_band_width = 2.4000.\n",
            "(Steps: 2400760) train/h_band_width = 2.4000.\n",
            "KanTtsSAMBERT learning rate: 0.000082\n"
          ]
        },
        {
          "output_type": "stream",
          "name": "stderr",
          "text": [
            "100%|██████████| 1/1 [00:00<00:00,  1.21it/s]"
          ]
        },
        {
          "output_type": "stream",
          "name": "stdout",
          "text": [
            "Epoch 760 finished\n"
          ]
        },
        {
          "output_type": "stream",
          "name": "stderr",
          "text": [
            "\n",
            "100%|██████████| 1/1 [00:00<00:00,  1.34it/s]"
          ]
        },
        {
          "output_type": "stream",
          "name": "stdout",
          "text": [
            "Epoch 761 finished\n"
          ]
        },
        {
          "output_type": "stream",
          "name": "stderr",
          "text": [
            "\n",
            "100%|██████████| 1/1 [00:00<00:00,  1.54it/s]"
          ]
        },
        {
          "output_type": "stream",
          "name": "stdout",
          "text": [
            "Epoch 762 finished\n"
          ]
        },
        {
          "output_type": "stream",
          "name": "stderr",
          "text": [
            "\n",
            "100%|██████████| 1/1 [00:00<00:00,  1.55it/s]"
          ]
        },
        {
          "output_type": "stream",
          "name": "stdout",
          "text": [
            "Epoch 763 finished\n"
          ]
        },
        {
          "output_type": "stream",
          "name": "stderr",
          "text": [
            "\n",
            "100%|██████████| 1/1 [00:00<00:00,  1.51it/s]"
          ]
        },
        {
          "output_type": "stream",
          "name": "stdout",
          "text": [
            "Epoch 764 finished\n"
          ]
        },
        {
          "output_type": "stream",
          "name": "stderr",
          "text": [
            "\n",
            "100%|██████████| 1/1 [00:00<00:00,  1.51it/s]"
          ]
        },
        {
          "output_type": "stream",
          "name": "stdout",
          "text": [
            "Epoch 765 finished\n"
          ]
        },
        {
          "output_type": "stream",
          "name": "stderr",
          "text": [
            "\n",
            "100%|██████████| 1/1 [00:00<00:00,  1.53it/s]"
          ]
        },
        {
          "output_type": "stream",
          "name": "stdout",
          "text": [
            "Epoch 766 finished\n"
          ]
        },
        {
          "output_type": "stream",
          "name": "stderr",
          "text": [
            "\n",
            "100%|██████████| 1/1 [00:00<00:00,  1.51it/s]"
          ]
        },
        {
          "output_type": "stream",
          "name": "stdout",
          "text": [
            "Epoch 767 finished\n"
          ]
        },
        {
          "output_type": "stream",
          "name": "stderr",
          "text": [
            "\n",
            "100%|██████████| 1/1 [00:00<00:00,  1.52it/s]"
          ]
        },
        {
          "output_type": "stream",
          "name": "stdout",
          "text": [
            "Epoch 768 finished\n"
          ]
        },
        {
          "output_type": "stream",
          "name": "stderr",
          "text": [
            "\n",
            "100%|██████████| 1/1 [00:00<00:00,  1.34it/s]"
          ]
        },
        {
          "output_type": "stream",
          "name": "stdout",
          "text": [
            "Epoch 769 finished\n"
          ]
        },
        {
          "output_type": "stream",
          "name": "stderr",
          "text": [
            "\n",
            "  0%|          | 0/1 [00:00<?, ?it/s]"
          ]
        },
        {
          "output_type": "stream",
          "name": "stdout",
          "text": [
            "(Steps: 2400770) train/TotalLoss = 0.1375.\n",
            "(Steps: 2400770) train/mel_loss_ = 0.0441.\n",
            "(Steps: 2400770) train/mel_loss = 0.0338.\n",
            "(Steps: 2400770) train/dur_loss = 0.0108.\n",
            "(Steps: 2400770) train/pitch_loss = 0.0122.\n",
            "(Steps: 2400770) train/energy_loss = 0.0366.\n",
            "(Steps: 2400770) train/batch_size = 6.2000.\n",
            "(Steps: 2400770) train/x_band_width = 2.4000.\n",
            "(Steps: 2400770) train/h_band_width = 2.4000.\n",
            "KanTtsSAMBERT learning rate: 0.000082\n"
          ]
        },
        {
          "output_type": "stream",
          "name": "stderr",
          "text": [
            "100%|██████████| 1/1 [00:00<00:00,  1.38it/s]"
          ]
        },
        {
          "output_type": "stream",
          "name": "stdout",
          "text": [
            "Epoch 770 finished\n"
          ]
        },
        {
          "output_type": "stream",
          "name": "stderr",
          "text": [
            "\n",
            "100%|██████████| 1/1 [00:00<00:00,  1.47it/s]"
          ]
        },
        {
          "output_type": "stream",
          "name": "stdout",
          "text": [
            "Epoch 771 finished\n"
          ]
        },
        {
          "output_type": "stream",
          "name": "stderr",
          "text": [
            "\n",
            "100%|██████████| 1/1 [00:00<00:00,  1.49it/s]"
          ]
        },
        {
          "output_type": "stream",
          "name": "stdout",
          "text": [
            "Epoch 772 finished\n"
          ]
        },
        {
          "output_type": "stream",
          "name": "stderr",
          "text": [
            "\n",
            "100%|██████████| 1/1 [00:00<00:00,  1.53it/s]"
          ]
        },
        {
          "output_type": "stream",
          "name": "stdout",
          "text": [
            "Epoch 773 finished\n"
          ]
        },
        {
          "output_type": "stream",
          "name": "stderr",
          "text": [
            "\n",
            "100%|██████████| 1/1 [00:00<00:00,  1.53it/s]"
          ]
        },
        {
          "output_type": "stream",
          "name": "stdout",
          "text": [
            "Epoch 774 finished\n"
          ]
        },
        {
          "output_type": "stream",
          "name": "stderr",
          "text": [
            "\n",
            "100%|██████████| 1/1 [00:00<00:00,  1.53it/s]"
          ]
        },
        {
          "output_type": "stream",
          "name": "stdout",
          "text": [
            "Epoch 775 finished\n"
          ]
        },
        {
          "output_type": "stream",
          "name": "stderr",
          "text": [
            "\n",
            "100%|██████████| 1/1 [00:00<00:00,  1.38it/s]"
          ]
        },
        {
          "output_type": "stream",
          "name": "stdout",
          "text": [
            "Epoch 776 finished\n"
          ]
        },
        {
          "output_type": "stream",
          "name": "stderr",
          "text": [
            "\n",
            "100%|██████████| 1/1 [00:01<00:00,  1.06s/it]"
          ]
        },
        {
          "output_type": "stream",
          "name": "stdout",
          "text": [
            "Epoch 777 finished\n"
          ]
        },
        {
          "output_type": "stream",
          "name": "stderr",
          "text": [
            "\n",
            "100%|██████████| 1/1 [00:00<00:00,  1.37it/s]"
          ]
        },
        {
          "output_type": "stream",
          "name": "stdout",
          "text": [
            "Epoch 778 finished\n"
          ]
        },
        {
          "output_type": "stream",
          "name": "stderr",
          "text": [
            "\n",
            "100%|██████████| 1/1 [00:00<00:00,  1.41it/s]"
          ]
        },
        {
          "output_type": "stream",
          "name": "stdout",
          "text": [
            "Epoch 779 finished\n"
          ]
        },
        {
          "output_type": "stream",
          "name": "stderr",
          "text": [
            "\n",
            "  0%|          | 0/1 [00:00<?, ?it/s]"
          ]
        },
        {
          "output_type": "stream",
          "name": "stdout",
          "text": [
            "(Steps: 2400780) train/TotalLoss = 0.1382.\n",
            "(Steps: 2400780) train/mel_loss_ = 0.0440.\n",
            "(Steps: 2400780) train/mel_loss = 0.0337.\n",
            "(Steps: 2400780) train/dur_loss = 0.0109.\n",
            "(Steps: 2400780) train/pitch_loss = 0.0123.\n",
            "(Steps: 2400780) train/energy_loss = 0.0372.\n",
            "(Steps: 2400780) train/batch_size = 6.2000.\n",
            "(Steps: 2400780) train/x_band_width = 2.4000.\n",
            "(Steps: 2400780) train/h_band_width = 2.4000.\n",
            "KanTtsSAMBERT learning rate: 0.000082\n"
          ]
        },
        {
          "output_type": "stream",
          "name": "stderr",
          "text": [
            "100%|██████████| 1/1 [00:00<00:00,  1.31it/s]"
          ]
        },
        {
          "output_type": "stream",
          "name": "stdout",
          "text": [
            "Epoch 780 finished\n"
          ]
        },
        {
          "output_type": "stream",
          "name": "stderr",
          "text": [
            "\n",
            "100%|██████████| 1/1 [00:00<00:00,  1.41it/s]"
          ]
        },
        {
          "output_type": "stream",
          "name": "stdout",
          "text": [
            "Epoch 781 finished\n"
          ]
        },
        {
          "output_type": "stream",
          "name": "stderr",
          "text": [
            "\n",
            "100%|██████████| 1/1 [00:00<00:00,  1.38it/s]"
          ]
        },
        {
          "output_type": "stream",
          "name": "stdout",
          "text": [
            "Epoch 782 finished\n"
          ]
        },
        {
          "output_type": "stream",
          "name": "stderr",
          "text": [
            "\n",
            "100%|██████████| 1/1 [00:00<00:00,  1.37it/s]"
          ]
        },
        {
          "output_type": "stream",
          "name": "stdout",
          "text": [
            "Epoch 783 finished\n"
          ]
        },
        {
          "output_type": "stream",
          "name": "stderr",
          "text": [
            "\n",
            "100%|██████████| 1/1 [00:00<00:00,  1.40it/s]"
          ]
        },
        {
          "output_type": "stream",
          "name": "stdout",
          "text": [
            "Epoch 784 finished\n"
          ]
        },
        {
          "output_type": "stream",
          "name": "stderr",
          "text": [
            "\n",
            "100%|██████████| 1/1 [00:00<00:00,  1.45it/s]"
          ]
        },
        {
          "output_type": "stream",
          "name": "stdout",
          "text": [
            "Epoch 785 finished\n"
          ]
        },
        {
          "output_type": "stream",
          "name": "stderr",
          "text": [
            "\n",
            "100%|██████████| 1/1 [00:00<00:00,  1.54it/s]"
          ]
        },
        {
          "output_type": "stream",
          "name": "stdout",
          "text": [
            "Epoch 786 finished\n"
          ]
        },
        {
          "output_type": "stream",
          "name": "stderr",
          "text": [
            "\n",
            "100%|██████████| 1/1 [00:00<00:00,  1.50it/s]"
          ]
        },
        {
          "output_type": "stream",
          "name": "stdout",
          "text": [
            "Epoch 787 finished\n"
          ]
        },
        {
          "output_type": "stream",
          "name": "stderr",
          "text": [
            "\n",
            "100%|██████████| 1/1 [00:00<00:00,  1.49it/s]"
          ]
        },
        {
          "output_type": "stream",
          "name": "stdout",
          "text": [
            "Epoch 788 finished\n"
          ]
        },
        {
          "output_type": "stream",
          "name": "stderr",
          "text": [
            "\n",
            "100%|██████████| 1/1 [00:00<00:00,  1.49it/s]"
          ]
        },
        {
          "output_type": "stream",
          "name": "stdout",
          "text": [
            "Epoch 789 finished\n"
          ]
        },
        {
          "output_type": "stream",
          "name": "stderr",
          "text": [
            "\n",
            "  0%|          | 0/1 [00:00<?, ?it/s]"
          ]
        },
        {
          "output_type": "stream",
          "name": "stdout",
          "text": [
            "(Steps: 2400790) train/TotalLoss = 0.1373.\n",
            "(Steps: 2400790) train/mel_loss_ = 0.0439.\n",
            "(Steps: 2400790) train/mel_loss = 0.0337.\n",
            "(Steps: 2400790) train/dur_loss = 0.0108.\n",
            "(Steps: 2400790) train/pitch_loss = 0.0122.\n",
            "(Steps: 2400790) train/energy_loss = 0.0366.\n",
            "(Steps: 2400790) train/batch_size = 6.2000.\n",
            "(Steps: 2400790) train/x_band_width = 2.4000.\n",
            "(Steps: 2400790) train/h_band_width = 2.4000.\n",
            "KanTtsSAMBERT learning rate: 0.000082\n"
          ]
        },
        {
          "output_type": "stream",
          "name": "stderr",
          "text": [
            "100%|██████████| 1/1 [00:00<00:00,  1.44it/s]"
          ]
        },
        {
          "output_type": "stream",
          "name": "stdout",
          "text": [
            "Epoch 790 finished\n"
          ]
        },
        {
          "output_type": "stream",
          "name": "stderr",
          "text": [
            "\n",
            "100%|██████████| 1/1 [00:00<00:00,  1.53it/s]"
          ]
        },
        {
          "output_type": "stream",
          "name": "stdout",
          "text": [
            "Epoch 791 finished\n"
          ]
        },
        {
          "output_type": "stream",
          "name": "stderr",
          "text": [
            "\n",
            "100%|██████████| 1/1 [00:00<00:00,  1.45it/s]"
          ]
        },
        {
          "output_type": "stream",
          "name": "stdout",
          "text": [
            "Epoch 792 finished\n"
          ]
        },
        {
          "output_type": "stream",
          "name": "stderr",
          "text": [
            "\n",
            "100%|██████████| 1/1 [00:00<00:00,  1.25it/s]"
          ]
        },
        {
          "output_type": "stream",
          "name": "stdout",
          "text": [
            "Epoch 793 finished\n"
          ]
        },
        {
          "output_type": "stream",
          "name": "stderr",
          "text": [
            "\n",
            "100%|██████████| 1/1 [00:00<00:00,  1.31it/s]"
          ]
        },
        {
          "output_type": "stream",
          "name": "stdout",
          "text": [
            "Epoch 794 finished\n"
          ]
        },
        {
          "output_type": "stream",
          "name": "stderr",
          "text": [
            "\n",
            "100%|██████████| 1/1 [00:00<00:00,  1.37it/s]"
          ]
        },
        {
          "output_type": "stream",
          "name": "stdout",
          "text": [
            "Epoch 795 finished\n"
          ]
        },
        {
          "output_type": "stream",
          "name": "stderr",
          "text": [
            "\n",
            "100%|██████████| 1/1 [00:00<00:00,  1.38it/s]"
          ]
        },
        {
          "output_type": "stream",
          "name": "stdout",
          "text": [
            "Epoch 796 finished\n"
          ]
        },
        {
          "output_type": "stream",
          "name": "stderr",
          "text": [
            "\n",
            "100%|██████████| 1/1 [00:00<00:00,  1.35it/s]"
          ]
        },
        {
          "output_type": "stream",
          "name": "stdout",
          "text": [
            "Epoch 797 finished\n"
          ]
        },
        {
          "output_type": "stream",
          "name": "stderr",
          "text": [
            "\n",
            "100%|██████████| 1/1 [00:00<00:00,  1.40it/s]"
          ]
        },
        {
          "output_type": "stream",
          "name": "stdout",
          "text": [
            "Epoch 798 finished\n"
          ]
        },
        {
          "output_type": "stream",
          "name": "stderr",
          "text": [
            "\n",
            "100%|██████████| 1/1 [00:00<00:00,  1.27it/s]"
          ]
        },
        {
          "output_type": "stream",
          "name": "stdout",
          "text": [
            "Epoch 799 finished\n"
          ]
        },
        {
          "output_type": "stream",
          "name": "stderr",
          "text": [
            "\n",
            "  0%|          | 0/1 [00:00<?, ?it/s]"
          ]
        },
        {
          "output_type": "stream",
          "name": "stdout",
          "text": [
            "(Steps: 2400800) train/TotalLoss = 0.1363.\n",
            "(Steps: 2400800) train/mel_loss_ = 0.0437.\n",
            "(Steps: 2400800) train/mel_loss = 0.0335.\n",
            "(Steps: 2400800) train/dur_loss = 0.0107.\n",
            "(Steps: 2400800) train/pitch_loss = 0.0120.\n",
            "(Steps: 2400800) train/energy_loss = 0.0364.\n",
            "(Steps: 2400800) train/batch_size = 6.2000.\n",
            "(Steps: 2400800) train/x_band_width = 2.4000.\n",
            "(Steps: 2400800) train/h_band_width = 2.4000.\n",
            "KanTtsSAMBERT learning rate: 0.000082\n"
          ]
        },
        {
          "output_type": "stream",
          "name": "stderr",
          "text": [
            "100%|██████████| 1/1 [00:00<00:00,  1.12it/s]"
          ]
        },
        {
          "output_type": "stream",
          "name": "stdout",
          "text": [
            "Epoch 800 finished\n"
          ]
        },
        {
          "output_type": "stream",
          "name": "stderr",
          "text": [
            "\n",
            "100%|██████████| 1/1 [00:00<00:00,  1.19it/s]"
          ]
        },
        {
          "output_type": "stream",
          "name": "stdout",
          "text": [
            "Epoch 801 finished\n"
          ]
        },
        {
          "output_type": "stream",
          "name": "stderr",
          "text": [
            "\n",
            "100%|██████████| 1/1 [00:00<00:00,  1.18it/s]"
          ]
        },
        {
          "output_type": "stream",
          "name": "stdout",
          "text": [
            "Epoch 802 finished\n"
          ]
        },
        {
          "output_type": "stream",
          "name": "stderr",
          "text": [
            "\n",
            "100%|██████████| 1/1 [00:00<00:00,  1.40it/s]"
          ]
        },
        {
          "output_type": "stream",
          "name": "stdout",
          "text": [
            "Epoch 803 finished\n"
          ]
        },
        {
          "output_type": "stream",
          "name": "stderr",
          "text": [
            "\n",
            "100%|██████████| 1/1 [00:00<00:00,  1.39it/s]"
          ]
        },
        {
          "output_type": "stream",
          "name": "stdout",
          "text": [
            "Epoch 804 finished\n"
          ]
        },
        {
          "output_type": "stream",
          "name": "stderr",
          "text": [
            "\n",
            "100%|██████████| 1/1 [00:00<00:00,  1.42it/s]"
          ]
        },
        {
          "output_type": "stream",
          "name": "stdout",
          "text": [
            "Epoch 805 finished\n"
          ]
        },
        {
          "output_type": "stream",
          "name": "stderr",
          "text": [
            "\n",
            "100%|██████████| 1/1 [00:00<00:00,  1.40it/s]"
          ]
        },
        {
          "output_type": "stream",
          "name": "stdout",
          "text": [
            "Epoch 806 finished\n"
          ]
        },
        {
          "output_type": "stream",
          "name": "stderr",
          "text": [
            "\n",
            "100%|██████████| 1/1 [00:00<00:00,  1.44it/s]"
          ]
        },
        {
          "output_type": "stream",
          "name": "stdout",
          "text": [
            "Epoch 807 finished\n"
          ]
        },
        {
          "output_type": "stream",
          "name": "stderr",
          "text": [
            "\n",
            "100%|██████████| 1/1 [00:00<00:00,  1.39it/s]"
          ]
        },
        {
          "output_type": "stream",
          "name": "stdout",
          "text": [
            "Epoch 808 finished\n"
          ]
        },
        {
          "output_type": "stream",
          "name": "stderr",
          "text": [
            "\n",
            "100%|██████████| 1/1 [00:00<00:00,  1.41it/s]"
          ]
        },
        {
          "output_type": "stream",
          "name": "stdout",
          "text": [
            "Epoch 809 finished\n"
          ]
        },
        {
          "output_type": "stream",
          "name": "stderr",
          "text": [
            "\n",
            "  0%|          | 0/1 [00:00<?, ?it/s]"
          ]
        },
        {
          "output_type": "stream",
          "name": "stdout",
          "text": [
            "(Steps: 2400810) train/TotalLoss = 0.1354.\n",
            "(Steps: 2400810) train/mel_loss_ = 0.0435.\n",
            "(Steps: 2400810) train/mel_loss = 0.0335.\n",
            "(Steps: 2400810) train/dur_loss = 0.0106.\n",
            "(Steps: 2400810) train/pitch_loss = 0.0120.\n",
            "(Steps: 2400810) train/energy_loss = 0.0358.\n",
            "(Steps: 2400810) train/batch_size = 6.2000.\n",
            "(Steps: 2400810) train/x_band_width = 2.4000.\n",
            "(Steps: 2400810) train/h_band_width = 2.4000.\n",
            "KanTtsSAMBERT learning rate: 0.000082\n"
          ]
        },
        {
          "output_type": "stream",
          "name": "stderr",
          "text": [
            "100%|██████████| 1/1 [00:00<00:00,  1.42it/s]"
          ]
        },
        {
          "output_type": "stream",
          "name": "stdout",
          "text": [
            "Epoch 810 finished\n"
          ]
        },
        {
          "output_type": "stream",
          "name": "stderr",
          "text": [
            "\n",
            "100%|██████████| 1/1 [00:00<00:00,  1.54it/s]"
          ]
        },
        {
          "output_type": "stream",
          "name": "stdout",
          "text": [
            "Epoch 811 finished\n"
          ]
        },
        {
          "output_type": "stream",
          "name": "stderr",
          "text": [
            "\n",
            "100%|██████████| 1/1 [00:00<00:00,  1.52it/s]"
          ]
        },
        {
          "output_type": "stream",
          "name": "stdout",
          "text": [
            "Epoch 812 finished\n"
          ]
        },
        {
          "output_type": "stream",
          "name": "stderr",
          "text": [
            "\n",
            "100%|██████████| 1/1 [00:00<00:00,  1.54it/s]"
          ]
        },
        {
          "output_type": "stream",
          "name": "stdout",
          "text": [
            "Epoch 813 finished\n"
          ]
        },
        {
          "output_type": "stream",
          "name": "stderr",
          "text": [
            "\n",
            "100%|██████████| 1/1 [00:00<00:00,  1.57it/s]"
          ]
        },
        {
          "output_type": "stream",
          "name": "stdout",
          "text": [
            "Epoch 814 finished\n"
          ]
        },
        {
          "output_type": "stream",
          "name": "stderr",
          "text": [
            "\n",
            "100%|██████████| 1/1 [00:00<00:00,  1.56it/s]"
          ]
        },
        {
          "output_type": "stream",
          "name": "stdout",
          "text": [
            "Epoch 815 finished\n"
          ]
        },
        {
          "output_type": "stream",
          "name": "stderr",
          "text": [
            "\n",
            "100%|██████████| 1/1 [00:00<00:00,  1.57it/s]"
          ]
        },
        {
          "output_type": "stream",
          "name": "stdout",
          "text": [
            "Epoch 816 finished\n"
          ]
        },
        {
          "output_type": "stream",
          "name": "stderr",
          "text": [
            "\n",
            "100%|██████████| 1/1 [00:00<00:00,  1.51it/s]"
          ]
        },
        {
          "output_type": "stream",
          "name": "stdout",
          "text": [
            "Epoch 817 finished\n"
          ]
        },
        {
          "output_type": "stream",
          "name": "stderr",
          "text": [
            "\n",
            "100%|██████████| 1/1 [00:00<00:00,  1.53it/s]"
          ]
        },
        {
          "output_type": "stream",
          "name": "stdout",
          "text": [
            "Epoch 818 finished\n"
          ]
        },
        {
          "output_type": "stream",
          "name": "stderr",
          "text": [
            "\n",
            "100%|██████████| 1/1 [00:00<00:00,  1.55it/s]"
          ]
        },
        {
          "output_type": "stream",
          "name": "stdout",
          "text": [
            "Epoch 819 finished\n"
          ]
        },
        {
          "output_type": "stream",
          "name": "stderr",
          "text": [
            "\n",
            "  0%|          | 0/1 [00:00<?, ?it/s]"
          ]
        },
        {
          "output_type": "stream",
          "name": "stdout",
          "text": [
            "(Steps: 2400820) train/TotalLoss = 0.1354.\n",
            "(Steps: 2400820) train/mel_loss_ = 0.0434.\n",
            "(Steps: 2400820) train/mel_loss = 0.0334.\n",
            "(Steps: 2400820) train/dur_loss = 0.0105.\n",
            "(Steps: 2400820) train/pitch_loss = 0.0120.\n",
            "(Steps: 2400820) train/energy_loss = 0.0361.\n",
            "(Steps: 2400820) train/batch_size = 6.2000.\n",
            "(Steps: 2400820) train/x_band_width = 2.4000.\n",
            "(Steps: 2400820) train/h_band_width = 2.4000.\n",
            "KanTtsSAMBERT learning rate: 0.000082\n"
          ]
        },
        {
          "output_type": "stream",
          "name": "stderr",
          "text": [
            "100%|██████████| 1/1 [00:00<00:00,  1.39it/s]"
          ]
        },
        {
          "output_type": "stream",
          "name": "stdout",
          "text": [
            "Epoch 820 finished\n"
          ]
        },
        {
          "output_type": "stream",
          "name": "stderr",
          "text": [
            "\n",
            "100%|██████████| 1/1 [00:00<00:00,  1.53it/s]"
          ]
        },
        {
          "output_type": "stream",
          "name": "stdout",
          "text": [
            "Epoch 821 finished\n"
          ]
        },
        {
          "output_type": "stream",
          "name": "stderr",
          "text": [
            "\n",
            "100%|██████████| 1/1 [00:00<00:00,  1.55it/s]"
          ]
        },
        {
          "output_type": "stream",
          "name": "stdout",
          "text": [
            "Epoch 822 finished\n"
          ]
        },
        {
          "output_type": "stream",
          "name": "stderr",
          "text": [
            "\n",
            "100%|██████████| 1/1 [00:00<00:00,  1.54it/s]"
          ]
        },
        {
          "output_type": "stream",
          "name": "stdout",
          "text": [
            "Epoch 823 finished\n"
          ]
        },
        {
          "output_type": "stream",
          "name": "stderr",
          "text": [
            "\n",
            "100%|██████████| 1/1 [00:00<00:00,  1.45it/s]"
          ]
        },
        {
          "output_type": "stream",
          "name": "stdout",
          "text": [
            "Epoch 824 finished\n"
          ]
        },
        {
          "output_type": "stream",
          "name": "stderr",
          "text": [
            "\n",
            "100%|██████████| 1/1 [00:00<00:00,  1.35it/s]"
          ]
        },
        {
          "output_type": "stream",
          "name": "stdout",
          "text": [
            "Epoch 825 finished\n"
          ]
        },
        {
          "output_type": "stream",
          "name": "stderr",
          "text": [
            "\n",
            "100%|██████████| 1/1 [00:00<00:00,  1.35it/s]"
          ]
        },
        {
          "output_type": "stream",
          "name": "stdout",
          "text": [
            "Epoch 826 finished\n"
          ]
        },
        {
          "output_type": "stream",
          "name": "stderr",
          "text": [
            "\n",
            "100%|██████████| 1/1 [00:00<00:00,  1.43it/s]"
          ]
        },
        {
          "output_type": "stream",
          "name": "stdout",
          "text": [
            "Epoch 827 finished\n"
          ]
        },
        {
          "output_type": "stream",
          "name": "stderr",
          "text": [
            "\n",
            "100%|██████████| 1/1 [00:00<00:00,  1.43it/s]"
          ]
        },
        {
          "output_type": "stream",
          "name": "stdout",
          "text": [
            "Epoch 828 finished\n"
          ]
        },
        {
          "output_type": "stream",
          "name": "stderr",
          "text": [
            "\n",
            "100%|██████████| 1/1 [00:00<00:00,  1.41it/s]"
          ]
        },
        {
          "output_type": "stream",
          "name": "stdout",
          "text": [
            "Epoch 829 finished\n"
          ]
        },
        {
          "output_type": "stream",
          "name": "stderr",
          "text": [
            "\n",
            "  0%|          | 0/1 [00:00<?, ?it/s]"
          ]
        },
        {
          "output_type": "stream",
          "name": "stdout",
          "text": [
            "(Steps: 2400830) train/TotalLoss = 0.1342.\n",
            "(Steps: 2400830) train/mel_loss_ = 0.0433.\n",
            "(Steps: 2400830) train/mel_loss = 0.0333.\n",
            "(Steps: 2400830) train/dur_loss = 0.0104.\n",
            "(Steps: 2400830) train/pitch_loss = 0.0116.\n",
            "(Steps: 2400830) train/energy_loss = 0.0356.\n",
            "(Steps: 2400830) train/batch_size = 6.2000.\n",
            "(Steps: 2400830) train/x_band_width = 2.4000.\n",
            "(Steps: 2400830) train/h_band_width = 2.4000.\n",
            "KanTtsSAMBERT learning rate: 0.000082\n"
          ]
        },
        {
          "output_type": "stream",
          "name": "stderr",
          "text": [
            "100%|██████████| 1/1 [00:00<00:00,  1.30it/s]"
          ]
        },
        {
          "output_type": "stream",
          "name": "stdout",
          "text": [
            "Epoch 830 finished\n"
          ]
        },
        {
          "output_type": "stream",
          "name": "stderr",
          "text": [
            "\n",
            "100%|██████████| 1/1 [00:00<00:00,  1.41it/s]"
          ]
        },
        {
          "output_type": "stream",
          "name": "stdout",
          "text": [
            "Epoch 831 finished\n"
          ]
        },
        {
          "output_type": "stream",
          "name": "stderr",
          "text": [
            "\n",
            "100%|██████████| 1/1 [00:00<00:00,  1.36it/s]"
          ]
        },
        {
          "output_type": "stream",
          "name": "stdout",
          "text": [
            "Epoch 832 finished\n"
          ]
        },
        {
          "output_type": "stream",
          "name": "stderr",
          "text": [
            "\n",
            "100%|██████████| 1/1 [00:00<00:00,  1.45it/s]"
          ]
        },
        {
          "output_type": "stream",
          "name": "stdout",
          "text": [
            "Epoch 833 finished\n"
          ]
        },
        {
          "output_type": "stream",
          "name": "stderr",
          "text": [
            "\n",
            "100%|██████████| 1/1 [00:00<00:00,  1.41it/s]"
          ]
        },
        {
          "output_type": "stream",
          "name": "stdout",
          "text": [
            "Epoch 834 finished\n"
          ]
        },
        {
          "output_type": "stream",
          "name": "stderr",
          "text": [
            "\n",
            "100%|██████████| 1/1 [00:00<00:00,  1.51it/s]"
          ]
        },
        {
          "output_type": "stream",
          "name": "stdout",
          "text": [
            "Epoch 835 finished\n"
          ]
        },
        {
          "output_type": "stream",
          "name": "stderr",
          "text": [
            "\n",
            "100%|██████████| 1/1 [00:00<00:00,  1.57it/s]"
          ]
        },
        {
          "output_type": "stream",
          "name": "stdout",
          "text": [
            "Epoch 836 finished\n"
          ]
        },
        {
          "output_type": "stream",
          "name": "stderr",
          "text": [
            "\n",
            "100%|██████████| 1/1 [00:00<00:00,  1.52it/s]"
          ]
        },
        {
          "output_type": "stream",
          "name": "stdout",
          "text": [
            "Epoch 837 finished\n"
          ]
        },
        {
          "output_type": "stream",
          "name": "stderr",
          "text": [
            "\n",
            "100%|██████████| 1/1 [00:00<00:00,  1.53it/s]"
          ]
        },
        {
          "output_type": "stream",
          "name": "stdout",
          "text": [
            "Epoch 838 finished\n"
          ]
        },
        {
          "output_type": "stream",
          "name": "stderr",
          "text": [
            "\n",
            "100%|██████████| 1/1 [00:00<00:00,  1.56it/s]"
          ]
        },
        {
          "output_type": "stream",
          "name": "stdout",
          "text": [
            "Epoch 839 finished\n"
          ]
        },
        {
          "output_type": "stream",
          "name": "stderr",
          "text": [
            "\n",
            "  0%|          | 0/1 [00:00<?, ?it/s]"
          ]
        },
        {
          "output_type": "stream",
          "name": "stdout",
          "text": [
            "(Steps: 2400840) train/TotalLoss = 0.1346.\n",
            "(Steps: 2400840) train/mel_loss_ = 0.0434.\n",
            "(Steps: 2400840) train/mel_loss = 0.0333.\n",
            "(Steps: 2400840) train/dur_loss = 0.0103.\n",
            "(Steps: 2400840) train/pitch_loss = 0.0118.\n",
            "(Steps: 2400840) train/energy_loss = 0.0358.\n",
            "(Steps: 2400840) train/batch_size = 6.2000.\n",
            "(Steps: 2400840) train/x_band_width = 2.4000.\n",
            "(Steps: 2400840) train/h_band_width = 2.4000.\n",
            "KanTtsSAMBERT learning rate: 0.000082\n"
          ]
        },
        {
          "output_type": "stream",
          "name": "stderr",
          "text": [
            "100%|██████████| 1/1 [00:00<00:00,  1.40it/s]"
          ]
        },
        {
          "output_type": "stream",
          "name": "stdout",
          "text": [
            "Epoch 840 finished\n"
          ]
        },
        {
          "output_type": "stream",
          "name": "stderr",
          "text": [
            "\n",
            "100%|██████████| 1/1 [00:00<00:00,  1.56it/s]"
          ]
        },
        {
          "output_type": "stream",
          "name": "stdout",
          "text": [
            "Epoch 841 finished\n"
          ]
        },
        {
          "output_type": "stream",
          "name": "stderr",
          "text": [
            "\n",
            "100%|██████████| 1/1 [00:00<00:00,  1.53it/s]"
          ]
        },
        {
          "output_type": "stream",
          "name": "stdout",
          "text": [
            "Epoch 842 finished\n"
          ]
        },
        {
          "output_type": "stream",
          "name": "stderr",
          "text": [
            "\n",
            "100%|██████████| 1/1 [00:00<00:00,  1.57it/s]"
          ]
        },
        {
          "output_type": "stream",
          "name": "stdout",
          "text": [
            "Epoch 843 finished\n"
          ]
        },
        {
          "output_type": "stream",
          "name": "stderr",
          "text": [
            "\n",
            "100%|██████████| 1/1 [00:00<00:00,  1.55it/s]"
          ]
        },
        {
          "output_type": "stream",
          "name": "stdout",
          "text": [
            "Epoch 844 finished\n"
          ]
        },
        {
          "output_type": "stream",
          "name": "stderr",
          "text": [
            "\n",
            "100%|██████████| 1/1 [00:00<00:00,  1.56it/s]"
          ]
        },
        {
          "output_type": "stream",
          "name": "stdout",
          "text": [
            "Epoch 845 finished\n"
          ]
        },
        {
          "output_type": "stream",
          "name": "stderr",
          "text": [
            "\n",
            "100%|██████████| 1/1 [00:00<00:00,  1.53it/s]"
          ]
        },
        {
          "output_type": "stream",
          "name": "stdout",
          "text": [
            "Epoch 846 finished\n"
          ]
        },
        {
          "output_type": "stream",
          "name": "stderr",
          "text": [
            "\n",
            "100%|██████████| 1/1 [00:00<00:00,  1.55it/s]"
          ]
        },
        {
          "output_type": "stream",
          "name": "stdout",
          "text": [
            "Epoch 847 finished\n"
          ]
        },
        {
          "output_type": "stream",
          "name": "stderr",
          "text": [
            "\n",
            "100%|██████████| 1/1 [00:00<00:00,  1.50it/s]"
          ]
        },
        {
          "output_type": "stream",
          "name": "stdout",
          "text": [
            "Epoch 848 finished\n"
          ]
        },
        {
          "output_type": "stream",
          "name": "stderr",
          "text": [
            "\n",
            "100%|██████████| 1/1 [00:00<00:00,  1.51it/s]"
          ]
        },
        {
          "output_type": "stream",
          "name": "stdout",
          "text": [
            "Epoch 849 finished\n"
          ]
        },
        {
          "output_type": "stream",
          "name": "stderr",
          "text": [
            "\n",
            "  0%|          | 0/1 [00:00<?, ?it/s]"
          ]
        },
        {
          "output_type": "stream",
          "name": "stdout",
          "text": [
            "(Steps: 2400850) train/TotalLoss = 0.1334.\n",
            "(Steps: 2400850) train/mel_loss_ = 0.0432.\n",
            "(Steps: 2400850) train/mel_loss = 0.0332.\n",
            "(Steps: 2400850) train/dur_loss = 0.0102.\n",
            "(Steps: 2400850) train/pitch_loss = 0.0120.\n",
            "(Steps: 2400850) train/energy_loss = 0.0350.\n",
            "(Steps: 2400850) train/batch_size = 6.2000.\n",
            "(Steps: 2400850) train/x_band_width = 2.4000.\n",
            "(Steps: 2400850) train/h_band_width = 2.4000.\n",
            "KanTtsSAMBERT learning rate: 0.000082\n"
          ]
        },
        {
          "output_type": "stream",
          "name": "stderr",
          "text": [
            "100%|██████████| 1/1 [00:00<00:00,  1.26it/s]"
          ]
        },
        {
          "output_type": "stream",
          "name": "stdout",
          "text": [
            "Epoch 850 finished\n"
          ]
        },
        {
          "output_type": "stream",
          "name": "stderr",
          "text": [
            "\n",
            "100%|██████████| 1/1 [00:00<00:00,  1.40it/s]"
          ]
        },
        {
          "output_type": "stream",
          "name": "stdout",
          "text": [
            "Epoch 851 finished\n"
          ]
        },
        {
          "output_type": "stream",
          "name": "stderr",
          "text": [
            "\n",
            "100%|██████████| 1/1 [00:00<00:00,  1.36it/s]"
          ]
        },
        {
          "output_type": "stream",
          "name": "stdout",
          "text": [
            "Epoch 852 finished\n"
          ]
        },
        {
          "output_type": "stream",
          "name": "stderr",
          "text": [
            "\n",
            "100%|██████████| 1/1 [00:00<00:00,  1.38it/s]"
          ]
        },
        {
          "output_type": "stream",
          "name": "stdout",
          "text": [
            "Epoch 853 finished\n"
          ]
        },
        {
          "output_type": "stream",
          "name": "stderr",
          "text": [
            "\n",
            "100%|██████████| 1/1 [00:00<00:00,  1.37it/s]"
          ]
        },
        {
          "output_type": "stream",
          "name": "stdout",
          "text": [
            "Epoch 854 finished\n"
          ]
        },
        {
          "output_type": "stream",
          "name": "stderr",
          "text": [
            "\n",
            "100%|██████████| 1/1 [00:00<00:00,  1.45it/s]"
          ]
        },
        {
          "output_type": "stream",
          "name": "stdout",
          "text": [
            "Epoch 855 finished\n"
          ]
        },
        {
          "output_type": "stream",
          "name": "stderr",
          "text": [
            "\n",
            "100%|██████████| 1/1 [00:00<00:00,  1.30it/s]"
          ]
        },
        {
          "output_type": "stream",
          "name": "stdout",
          "text": [
            "Epoch 856 finished\n"
          ]
        },
        {
          "output_type": "stream",
          "name": "stderr",
          "text": [
            "\n",
            "100%|██████████| 1/1 [00:00<00:00,  1.39it/s]"
          ]
        },
        {
          "output_type": "stream",
          "name": "stdout",
          "text": [
            "Epoch 857 finished\n"
          ]
        },
        {
          "output_type": "stream",
          "name": "stderr",
          "text": [
            "\n",
            "100%|██████████| 1/1 [00:00<00:00,  1.41it/s]"
          ]
        },
        {
          "output_type": "stream",
          "name": "stdout",
          "text": [
            "Epoch 858 finished\n"
          ]
        },
        {
          "output_type": "stream",
          "name": "stderr",
          "text": [
            "\n",
            "100%|██████████| 1/1 [00:00<00:00,  1.34it/s]"
          ]
        },
        {
          "output_type": "stream",
          "name": "stdout",
          "text": [
            "Epoch 859 finished\n"
          ]
        },
        {
          "output_type": "stream",
          "name": "stderr",
          "text": [
            "\n",
            "  0%|          | 0/1 [00:00<?, ?it/s]"
          ]
        },
        {
          "output_type": "stream",
          "name": "stdout",
          "text": [
            "(Steps: 2400860) train/TotalLoss = 0.1329.\n",
            "(Steps: 2400860) train/mel_loss_ = 0.0430.\n",
            "(Steps: 2400860) train/mel_loss = 0.0330.\n",
            "(Steps: 2400860) train/dur_loss = 0.0100.\n",
            "(Steps: 2400860) train/pitch_loss = 0.0117.\n",
            "(Steps: 2400860) train/energy_loss = 0.0352.\n",
            "(Steps: 2400860) train/batch_size = 6.2000.\n",
            "(Steps: 2400860) train/x_band_width = 2.4000.\n",
            "(Steps: 2400860) train/h_band_width = 2.4000.\n",
            "KanTtsSAMBERT learning rate: 0.000082\n"
          ]
        },
        {
          "output_type": "stream",
          "name": "stderr",
          "text": [
            "100%|██████████| 1/1 [00:00<00:00,  1.42it/s]"
          ]
        },
        {
          "output_type": "stream",
          "name": "stdout",
          "text": [
            "Epoch 860 finished\n"
          ]
        },
        {
          "output_type": "stream",
          "name": "stderr",
          "text": [
            "\n",
            "100%|██████████| 1/1 [00:00<00:00,  1.56it/s]"
          ]
        },
        {
          "output_type": "stream",
          "name": "stdout",
          "text": [
            "Epoch 861 finished\n"
          ]
        },
        {
          "output_type": "stream",
          "name": "stderr",
          "text": [
            "\n",
            "100%|██████████| 1/1 [00:00<00:00,  1.52it/s]"
          ]
        },
        {
          "output_type": "stream",
          "name": "stdout",
          "text": [
            "Epoch 862 finished\n"
          ]
        },
        {
          "output_type": "stream",
          "name": "stderr",
          "text": [
            "\n",
            "100%|██████████| 1/1 [00:00<00:00,  1.51it/s]"
          ]
        },
        {
          "output_type": "stream",
          "name": "stdout",
          "text": [
            "Epoch 863 finished\n"
          ]
        },
        {
          "output_type": "stream",
          "name": "stderr",
          "text": [
            "\n",
            "100%|██████████| 1/1 [00:00<00:00,  1.46it/s]"
          ]
        },
        {
          "output_type": "stream",
          "name": "stdout",
          "text": [
            "Epoch 864 finished\n"
          ]
        },
        {
          "output_type": "stream",
          "name": "stderr",
          "text": [
            "\n",
            "100%|██████████| 1/1 [00:00<00:00,  1.53it/s]"
          ]
        },
        {
          "output_type": "stream",
          "name": "stdout",
          "text": [
            "Epoch 865 finished\n"
          ]
        },
        {
          "output_type": "stream",
          "name": "stderr",
          "text": [
            "\n",
            "100%|██████████| 1/1 [00:00<00:00,  1.49it/s]"
          ]
        },
        {
          "output_type": "stream",
          "name": "stdout",
          "text": [
            "Epoch 866 finished\n"
          ]
        },
        {
          "output_type": "stream",
          "name": "stderr",
          "text": [
            "\n",
            "100%|██████████| 1/1 [00:00<00:00,  1.50it/s]"
          ]
        },
        {
          "output_type": "stream",
          "name": "stdout",
          "text": [
            "Epoch 867 finished\n"
          ]
        },
        {
          "output_type": "stream",
          "name": "stderr",
          "text": [
            "\n",
            "100%|██████████| 1/1 [00:00<00:00,  1.49it/s]"
          ]
        },
        {
          "output_type": "stream",
          "name": "stdout",
          "text": [
            "Epoch 868 finished\n"
          ]
        },
        {
          "output_type": "stream",
          "name": "stderr",
          "text": [
            "\n",
            "100%|██████████| 1/1 [00:00<00:00,  1.55it/s]"
          ]
        },
        {
          "output_type": "stream",
          "name": "stdout",
          "text": [
            "Epoch 869 finished\n"
          ]
        },
        {
          "output_type": "stream",
          "name": "stderr",
          "text": [
            "\n",
            "  0%|          | 0/1 [00:00<?, ?it/s]"
          ]
        },
        {
          "output_type": "stream",
          "name": "stdout",
          "text": [
            "(Steps: 2400870) train/TotalLoss = 0.1328.\n",
            "(Steps: 2400870) train/mel_loss_ = 0.0429.\n",
            "(Steps: 2400870) train/mel_loss = 0.0330.\n",
            "(Steps: 2400870) train/dur_loss = 0.0102.\n",
            "(Steps: 2400870) train/pitch_loss = 0.0118.\n",
            "(Steps: 2400870) train/energy_loss = 0.0349.\n",
            "(Steps: 2400870) train/batch_size = 6.2000.\n",
            "(Steps: 2400870) train/x_band_width = 2.4000.\n",
            "(Steps: 2400870) train/h_band_width = 2.4000.\n",
            "KanTtsSAMBERT learning rate: 0.000082\n"
          ]
        },
        {
          "output_type": "stream",
          "name": "stderr",
          "text": [
            "100%|██████████| 1/1 [00:00<00:00,  1.38it/s]"
          ]
        },
        {
          "output_type": "stream",
          "name": "stdout",
          "text": [
            "Epoch 870 finished\n"
          ]
        },
        {
          "output_type": "stream",
          "name": "stderr",
          "text": [
            "\n",
            "100%|██████████| 1/1 [00:00<00:00,  1.50it/s]"
          ]
        },
        {
          "output_type": "stream",
          "name": "stdout",
          "text": [
            "Epoch 871 finished\n"
          ]
        },
        {
          "output_type": "stream",
          "name": "stderr",
          "text": [
            "\n",
            "100%|██████████| 1/1 [00:00<00:00,  1.23it/s]"
          ]
        },
        {
          "output_type": "stream",
          "name": "stdout",
          "text": [
            "Epoch 872 finished\n"
          ]
        },
        {
          "output_type": "stream",
          "name": "stderr",
          "text": [
            "\n",
            "100%|██████████| 1/1 [00:00<00:00,  1.51it/s]"
          ]
        },
        {
          "output_type": "stream",
          "name": "stdout",
          "text": [
            "Epoch 873 finished\n"
          ]
        },
        {
          "output_type": "stream",
          "name": "stderr",
          "text": [
            "\n",
            "100%|██████████| 1/1 [00:00<00:00,  1.30it/s]"
          ]
        },
        {
          "output_type": "stream",
          "name": "stdout",
          "text": [
            "Epoch 874 finished\n"
          ]
        },
        {
          "output_type": "stream",
          "name": "stderr",
          "text": [
            "\n",
            "100%|██████████| 1/1 [00:00<00:00,  1.13it/s]"
          ]
        },
        {
          "output_type": "stream",
          "name": "stdout",
          "text": [
            "Epoch 875 finished\n"
          ]
        },
        {
          "output_type": "stream",
          "name": "stderr",
          "text": [
            "\n",
            "100%|██████████| 1/1 [00:00<00:00,  1.40it/s]"
          ]
        },
        {
          "output_type": "stream",
          "name": "stdout",
          "text": [
            "Epoch 876 finished\n"
          ]
        },
        {
          "output_type": "stream",
          "name": "stderr",
          "text": [
            "\n",
            "100%|██████████| 1/1 [00:00<00:00,  1.34it/s]"
          ]
        },
        {
          "output_type": "stream",
          "name": "stdout",
          "text": [
            "Epoch 877 finished\n"
          ]
        },
        {
          "output_type": "stream",
          "name": "stderr",
          "text": [
            "\n",
            "100%|██████████| 1/1 [00:00<00:00,  1.37it/s]"
          ]
        },
        {
          "output_type": "stream",
          "name": "stdout",
          "text": [
            "Epoch 878 finished\n"
          ]
        },
        {
          "output_type": "stream",
          "name": "stderr",
          "text": [
            "\n",
            "100%|██████████| 1/1 [00:00<00:00,  1.33it/s]"
          ]
        },
        {
          "output_type": "stream",
          "name": "stdout",
          "text": [
            "Epoch 879 finished\n"
          ]
        },
        {
          "output_type": "stream",
          "name": "stderr",
          "text": [
            "\n",
            "  0%|          | 0/1 [00:00<?, ?it/s]"
          ]
        },
        {
          "output_type": "stream",
          "name": "stdout",
          "text": [
            "(Steps: 2400880) train/TotalLoss = 0.1317.\n",
            "(Steps: 2400880) train/mel_loss_ = 0.0429.\n",
            "(Steps: 2400880) train/mel_loss = 0.0330.\n",
            "(Steps: 2400880) train/dur_loss = 0.0099.\n",
            "(Steps: 2400880) train/pitch_loss = 0.0115.\n",
            "(Steps: 2400880) train/energy_loss = 0.0344.\n",
            "(Steps: 2400880) train/batch_size = 6.2000.\n",
            "(Steps: 2400880) train/x_band_width = 2.4000.\n",
            "(Steps: 2400880) train/h_band_width = 2.4000.\n",
            "KanTtsSAMBERT learning rate: 0.000082\n"
          ]
        },
        {
          "output_type": "stream",
          "name": "stderr",
          "text": [
            "100%|██████████| 1/1 [00:00<00:00,  1.24it/s]"
          ]
        },
        {
          "output_type": "stream",
          "name": "stdout",
          "text": [
            "Epoch 880 finished\n"
          ]
        },
        {
          "output_type": "stream",
          "name": "stderr",
          "text": [
            "\n",
            "100%|██████████| 1/1 [00:00<00:00,  1.30it/s]"
          ]
        },
        {
          "output_type": "stream",
          "name": "stdout",
          "text": [
            "Epoch 881 finished\n"
          ]
        },
        {
          "output_type": "stream",
          "name": "stderr",
          "text": [
            "\n",
            "100%|██████████| 1/1 [00:00<00:00,  1.38it/s]"
          ]
        },
        {
          "output_type": "stream",
          "name": "stdout",
          "text": [
            "Epoch 882 finished\n"
          ]
        },
        {
          "output_type": "stream",
          "name": "stderr",
          "text": [
            "\n",
            "100%|██████████| 1/1 [00:00<00:00,  1.26it/s]"
          ]
        },
        {
          "output_type": "stream",
          "name": "stdout",
          "text": [
            "Epoch 883 finished\n"
          ]
        },
        {
          "output_type": "stream",
          "name": "stderr",
          "text": [
            "\n",
            "100%|██████████| 1/1 [00:00<00:00,  1.41it/s]"
          ]
        },
        {
          "output_type": "stream",
          "name": "stdout",
          "text": [
            "Epoch 884 finished\n"
          ]
        },
        {
          "output_type": "stream",
          "name": "stderr",
          "text": [
            "\n",
            "100%|██████████| 1/1 [00:00<00:00,  1.42it/s]"
          ]
        },
        {
          "output_type": "stream",
          "name": "stdout",
          "text": [
            "Epoch 885 finished\n"
          ]
        },
        {
          "output_type": "stream",
          "name": "stderr",
          "text": [
            "\n",
            "100%|██████████| 1/1 [00:00<00:00,  1.48it/s]"
          ]
        },
        {
          "output_type": "stream",
          "name": "stdout",
          "text": [
            "Epoch 886 finished\n"
          ]
        },
        {
          "output_type": "stream",
          "name": "stderr",
          "text": [
            "\n",
            "100%|██████████| 1/1 [00:00<00:00,  1.45it/s]"
          ]
        },
        {
          "output_type": "stream",
          "name": "stdout",
          "text": [
            "Epoch 887 finished\n"
          ]
        },
        {
          "output_type": "stream",
          "name": "stderr",
          "text": [
            "\n",
            "100%|██████████| 1/1 [00:00<00:00,  1.46it/s]"
          ]
        },
        {
          "output_type": "stream",
          "name": "stdout",
          "text": [
            "Epoch 888 finished\n"
          ]
        },
        {
          "output_type": "stream",
          "name": "stderr",
          "text": [
            "\n",
            "100%|██████████| 1/1 [00:00<00:00,  1.48it/s]"
          ]
        },
        {
          "output_type": "stream",
          "name": "stdout",
          "text": [
            "Epoch 889 finished\n"
          ]
        },
        {
          "output_type": "stream",
          "name": "stderr",
          "text": [
            "\n",
            "  0%|          | 0/1 [00:00<?, ?it/s]"
          ]
        },
        {
          "output_type": "stream",
          "name": "stdout",
          "text": [
            "(Steps: 2400890) train/TotalLoss = 0.1310.\n",
            "(Steps: 2400890) train/mel_loss_ = 0.0427.\n",
            "(Steps: 2400890) train/mel_loss = 0.0328.\n",
            "(Steps: 2400890) train/dur_loss = 0.0100.\n",
            "(Steps: 2400890) train/pitch_loss = 0.0114.\n",
            "(Steps: 2400890) train/energy_loss = 0.0341.\n",
            "(Steps: 2400890) train/batch_size = 6.2000.\n",
            "(Steps: 2400890) train/x_band_width = 2.4000.\n",
            "(Steps: 2400890) train/h_band_width = 2.4000.\n",
            "KanTtsSAMBERT learning rate: 0.000082\n"
          ]
        },
        {
          "output_type": "stream",
          "name": "stderr",
          "text": [
            "100%|██████████| 1/1 [00:00<00:00,  1.42it/s]"
          ]
        },
        {
          "output_type": "stream",
          "name": "stdout",
          "text": [
            "Epoch 890 finished\n"
          ]
        },
        {
          "output_type": "stream",
          "name": "stderr",
          "text": [
            "\n",
            "100%|██████████| 1/1 [00:00<00:00,  1.53it/s]"
          ]
        },
        {
          "output_type": "stream",
          "name": "stdout",
          "text": [
            "Epoch 891 finished\n"
          ]
        },
        {
          "output_type": "stream",
          "name": "stderr",
          "text": [
            "\n",
            "100%|██████████| 1/1 [00:00<00:00,  1.51it/s]"
          ]
        },
        {
          "output_type": "stream",
          "name": "stdout",
          "text": [
            "Epoch 892 finished\n"
          ]
        },
        {
          "output_type": "stream",
          "name": "stderr",
          "text": [
            "\n",
            "100%|██████████| 1/1 [00:00<00:00,  1.54it/s]"
          ]
        },
        {
          "output_type": "stream",
          "name": "stdout",
          "text": [
            "Epoch 893 finished\n"
          ]
        },
        {
          "output_type": "stream",
          "name": "stderr",
          "text": [
            "\n",
            "100%|██████████| 1/1 [00:00<00:00,  1.51it/s]"
          ]
        },
        {
          "output_type": "stream",
          "name": "stdout",
          "text": [
            "Epoch 894 finished\n"
          ]
        },
        {
          "output_type": "stream",
          "name": "stderr",
          "text": [
            "\n",
            "100%|██████████| 1/1 [00:00<00:00,  1.53it/s]"
          ]
        },
        {
          "output_type": "stream",
          "name": "stdout",
          "text": [
            "Epoch 895 finished\n"
          ]
        },
        {
          "output_type": "stream",
          "name": "stderr",
          "text": [
            "\n",
            "100%|██████████| 1/1 [00:00<00:00,  1.50it/s]"
          ]
        },
        {
          "output_type": "stream",
          "name": "stdout",
          "text": [
            "Epoch 896 finished\n"
          ]
        },
        {
          "output_type": "stream",
          "name": "stderr",
          "text": [
            "\n",
            "100%|██████████| 1/1 [00:00<00:00,  1.55it/s]"
          ]
        },
        {
          "output_type": "stream",
          "name": "stdout",
          "text": [
            "Epoch 897 finished\n"
          ]
        },
        {
          "output_type": "stream",
          "name": "stderr",
          "text": [
            "\n",
            "100%|██████████| 1/1 [00:00<00:00,  1.51it/s]"
          ]
        },
        {
          "output_type": "stream",
          "name": "stdout",
          "text": [
            "Epoch 898 finished\n"
          ]
        },
        {
          "output_type": "stream",
          "name": "stderr",
          "text": [
            "\n",
            "100%|██████████| 1/1 [00:00<00:00,  1.33it/s]"
          ]
        },
        {
          "output_type": "stream",
          "name": "stdout",
          "text": [
            "Epoch 899 finished\n"
          ]
        },
        {
          "output_type": "stream",
          "name": "stderr",
          "text": [
            "\n",
            "  0%|          | 0/1 [00:00<?, ?it/s]"
          ]
        },
        {
          "output_type": "stream",
          "name": "stdout",
          "text": [
            "(Steps: 2400900) train/TotalLoss = 0.1305.\n",
            "(Steps: 2400900) train/mel_loss_ = 0.0425.\n",
            "(Steps: 2400900) train/mel_loss = 0.0327.\n",
            "(Steps: 2400900) train/dur_loss = 0.0097.\n",
            "(Steps: 2400900) train/pitch_loss = 0.0115.\n",
            "(Steps: 2400900) train/energy_loss = 0.0341.\n",
            "(Steps: 2400900) train/batch_size = 6.2000.\n",
            "(Steps: 2400900) train/x_band_width = 2.4000.\n",
            "(Steps: 2400900) train/h_band_width = 2.4000.\n",
            "KanTtsSAMBERT learning rate: 0.000082\n"
          ]
        },
        {
          "output_type": "stream",
          "name": "stderr",
          "text": [
            "100%|██████████| 1/1 [00:00<00:00,  1.28it/s]"
          ]
        },
        {
          "output_type": "stream",
          "name": "stdout",
          "text": [
            "Epoch 900 finished\n"
          ]
        },
        {
          "output_type": "stream",
          "name": "stderr",
          "text": [
            "\n",
            "100%|██████████| 1/1 [00:00<00:00,  1.39it/s]"
          ]
        },
        {
          "output_type": "stream",
          "name": "stdout",
          "text": [
            "Epoch 901 finished\n"
          ]
        },
        {
          "output_type": "stream",
          "name": "stderr",
          "text": [
            "\n",
            "100%|██████████| 1/1 [00:00<00:00,  1.42it/s]"
          ]
        },
        {
          "output_type": "stream",
          "name": "stdout",
          "text": [
            "Epoch 902 finished\n"
          ]
        },
        {
          "output_type": "stream",
          "name": "stderr",
          "text": [
            "\n",
            "100%|██████████| 1/1 [00:00<00:00,  1.40it/s]"
          ]
        },
        {
          "output_type": "stream",
          "name": "stdout",
          "text": [
            "Epoch 903 finished\n"
          ]
        },
        {
          "output_type": "stream",
          "name": "stderr",
          "text": [
            "\n",
            "100%|██████████| 1/1 [00:00<00:00,  1.38it/s]"
          ]
        },
        {
          "output_type": "stream",
          "name": "stdout",
          "text": [
            "Epoch 904 finished\n"
          ]
        },
        {
          "output_type": "stream",
          "name": "stderr",
          "text": [
            "\n",
            "100%|██████████| 1/1 [00:00<00:00,  1.37it/s]"
          ]
        },
        {
          "output_type": "stream",
          "name": "stdout",
          "text": [
            "Epoch 905 finished\n"
          ]
        },
        {
          "output_type": "stream",
          "name": "stderr",
          "text": [
            "\n",
            "100%|██████████| 1/1 [00:00<00:00,  1.39it/s]"
          ]
        },
        {
          "output_type": "stream",
          "name": "stdout",
          "text": [
            "Epoch 906 finished\n"
          ]
        },
        {
          "output_type": "stream",
          "name": "stderr",
          "text": [
            "\n",
            "100%|██████████| 1/1 [00:00<00:00,  1.42it/s]"
          ]
        },
        {
          "output_type": "stream",
          "name": "stdout",
          "text": [
            "Epoch 907 finished\n"
          ]
        },
        {
          "output_type": "stream",
          "name": "stderr",
          "text": [
            "\n",
            "100%|██████████| 1/1 [00:00<00:00,  1.39it/s]"
          ]
        },
        {
          "output_type": "stream",
          "name": "stdout",
          "text": [
            "Epoch 908 finished\n"
          ]
        },
        {
          "output_type": "stream",
          "name": "stderr",
          "text": [
            "\n",
            "100%|██████████| 1/1 [00:00<00:00,  1.54it/s]"
          ]
        },
        {
          "output_type": "stream",
          "name": "stdout",
          "text": [
            "Epoch 909 finished\n"
          ]
        },
        {
          "output_type": "stream",
          "name": "stderr",
          "text": [
            "\n",
            "  0%|          | 0/1 [00:00<?, ?it/s]"
          ]
        },
        {
          "output_type": "stream",
          "name": "stdout",
          "text": [
            "(Steps: 2400910) train/TotalLoss = 0.1297.\n",
            "(Steps: 2400910) train/mel_loss_ = 0.0425.\n",
            "(Steps: 2400910) train/mel_loss = 0.0327.\n",
            "(Steps: 2400910) train/dur_loss = 0.0098.\n",
            "(Steps: 2400910) train/pitch_loss = 0.0112.\n",
            "(Steps: 2400910) train/energy_loss = 0.0336.\n",
            "(Steps: 2400910) train/batch_size = 6.2000.\n",
            "(Steps: 2400910) train/x_band_width = 2.4000.\n",
            "(Steps: 2400910) train/h_band_width = 2.4000.\n",
            "KanTtsSAMBERT learning rate: 0.000082\n"
          ]
        },
        {
          "output_type": "stream",
          "name": "stderr",
          "text": [
            "100%|██████████| 1/1 [00:00<00:00,  1.41it/s]"
          ]
        },
        {
          "output_type": "stream",
          "name": "stdout",
          "text": [
            "Epoch 910 finished\n"
          ]
        },
        {
          "output_type": "stream",
          "name": "stderr",
          "text": [
            "\n",
            "100%|██████████| 1/1 [00:00<00:00,  1.52it/s]"
          ]
        },
        {
          "output_type": "stream",
          "name": "stdout",
          "text": [
            "Epoch 911 finished\n"
          ]
        },
        {
          "output_type": "stream",
          "name": "stderr",
          "text": [
            "\n",
            "100%|██████████| 1/1 [00:00<00:00,  1.56it/s]"
          ]
        },
        {
          "output_type": "stream",
          "name": "stdout",
          "text": [
            "Epoch 912 finished\n"
          ]
        },
        {
          "output_type": "stream",
          "name": "stderr",
          "text": [
            "\n",
            "100%|██████████| 1/1 [00:00<00:00,  1.55it/s]"
          ]
        },
        {
          "output_type": "stream",
          "name": "stdout",
          "text": [
            "Epoch 913 finished\n"
          ]
        },
        {
          "output_type": "stream",
          "name": "stderr",
          "text": [
            "\n",
            "100%|██████████| 1/1 [00:00<00:00,  1.57it/s]"
          ]
        },
        {
          "output_type": "stream",
          "name": "stdout",
          "text": [
            "Epoch 914 finished\n"
          ]
        },
        {
          "output_type": "stream",
          "name": "stderr",
          "text": [
            "\n",
            "100%|██████████| 1/1 [00:00<00:00,  1.51it/s]"
          ]
        },
        {
          "output_type": "stream",
          "name": "stdout",
          "text": [
            "Epoch 915 finished\n"
          ]
        },
        {
          "output_type": "stream",
          "name": "stderr",
          "text": [
            "\n",
            "100%|██████████| 1/1 [00:00<00:00,  1.53it/s]"
          ]
        },
        {
          "output_type": "stream",
          "name": "stdout",
          "text": [
            "Epoch 916 finished\n"
          ]
        },
        {
          "output_type": "stream",
          "name": "stderr",
          "text": [
            "\n",
            "100%|██████████| 1/1 [00:00<00:00,  1.55it/s]"
          ]
        },
        {
          "output_type": "stream",
          "name": "stdout",
          "text": [
            "Epoch 917 finished\n"
          ]
        },
        {
          "output_type": "stream",
          "name": "stderr",
          "text": [
            "\n",
            "100%|██████████| 1/1 [00:00<00:00,  1.56it/s]"
          ]
        },
        {
          "output_type": "stream",
          "name": "stdout",
          "text": [
            "Epoch 918 finished\n"
          ]
        },
        {
          "output_type": "stream",
          "name": "stderr",
          "text": [
            "\n",
            "100%|██████████| 1/1 [00:00<00:00,  1.47it/s]"
          ]
        },
        {
          "output_type": "stream",
          "name": "stdout",
          "text": [
            "Epoch 919 finished\n"
          ]
        },
        {
          "output_type": "stream",
          "name": "stderr",
          "text": [
            "\n",
            "  0%|          | 0/1 [00:00<?, ?it/s]"
          ]
        },
        {
          "output_type": "stream",
          "name": "stdout",
          "text": [
            "(Steps: 2400920) train/TotalLoss = 0.1293.\n",
            "(Steps: 2400920) train/mel_loss_ = 0.0424.\n",
            "(Steps: 2400920) train/mel_loss = 0.0326.\n",
            "(Steps: 2400920) train/dur_loss = 0.0098.\n",
            "(Steps: 2400920) train/pitch_loss = 0.0110.\n",
            "(Steps: 2400920) train/energy_loss = 0.0335.\n",
            "(Steps: 2400920) train/batch_size = 6.2000.\n",
            "(Steps: 2400920) train/x_band_width = 2.4000.\n",
            "(Steps: 2400920) train/h_band_width = 2.4000.\n",
            "KanTtsSAMBERT learning rate: 0.000082\n"
          ]
        },
        {
          "output_type": "stream",
          "name": "stderr",
          "text": [
            "100%|██████████| 1/1 [00:00<00:00,  1.42it/s]"
          ]
        },
        {
          "output_type": "stream",
          "name": "stdout",
          "text": [
            "Epoch 920 finished\n"
          ]
        },
        {
          "output_type": "stream",
          "name": "stderr",
          "text": [
            "\n",
            "100%|██████████| 1/1 [00:00<00:00,  1.56it/s]"
          ]
        },
        {
          "output_type": "stream",
          "name": "stdout",
          "text": [
            "Epoch 921 finished\n"
          ]
        },
        {
          "output_type": "stream",
          "name": "stderr",
          "text": [
            "\n",
            "100%|██████████| 1/1 [00:00<00:00,  1.55it/s]"
          ]
        },
        {
          "output_type": "stream",
          "name": "stdout",
          "text": [
            "Epoch 922 finished\n"
          ]
        },
        {
          "output_type": "stream",
          "name": "stderr",
          "text": [
            "\n",
            "100%|██████████| 1/1 [00:00<00:00,  1.57it/s]"
          ]
        },
        {
          "output_type": "stream",
          "name": "stdout",
          "text": [
            "Epoch 923 finished\n"
          ]
        },
        {
          "output_type": "stream",
          "name": "stderr",
          "text": [
            "\n",
            "100%|██████████| 1/1 [00:00<00:00,  1.36it/s]"
          ]
        },
        {
          "output_type": "stream",
          "name": "stdout",
          "text": [
            "Epoch 924 finished\n"
          ]
        },
        {
          "output_type": "stream",
          "name": "stderr",
          "text": [
            "\n",
            "100%|██████████| 1/1 [00:00<00:00,  1.42it/s]"
          ]
        },
        {
          "output_type": "stream",
          "name": "stdout",
          "text": [
            "Epoch 925 finished\n"
          ]
        },
        {
          "output_type": "stream",
          "name": "stderr",
          "text": [
            "\n",
            "100%|██████████| 1/1 [00:00<00:00,  1.42it/s]"
          ]
        },
        {
          "output_type": "stream",
          "name": "stdout",
          "text": [
            "Epoch 926 finished\n"
          ]
        },
        {
          "output_type": "stream",
          "name": "stderr",
          "text": [
            "\n",
            "100%|██████████| 1/1 [00:00<00:00,  1.41it/s]"
          ]
        },
        {
          "output_type": "stream",
          "name": "stdout",
          "text": [
            "Epoch 927 finished\n"
          ]
        },
        {
          "output_type": "stream",
          "name": "stderr",
          "text": [
            "\n",
            "100%|██████████| 1/1 [00:00<00:00,  1.44it/s]"
          ]
        },
        {
          "output_type": "stream",
          "name": "stdout",
          "text": [
            "Epoch 928 finished\n"
          ]
        },
        {
          "output_type": "stream",
          "name": "stderr",
          "text": [
            "\n",
            "100%|██████████| 1/1 [00:00<00:00,  1.38it/s]"
          ]
        },
        {
          "output_type": "stream",
          "name": "stdout",
          "text": [
            "Epoch 929 finished\n"
          ]
        },
        {
          "output_type": "stream",
          "name": "stderr",
          "text": [
            "\n",
            "  0%|          | 0/1 [00:00<?, ?it/s]"
          ]
        },
        {
          "output_type": "stream",
          "name": "stdout",
          "text": [
            "(Steps: 2400930) train/TotalLoss = 0.1294.\n",
            "(Steps: 2400930) train/mel_loss_ = 0.0422.\n",
            "(Steps: 2400930) train/mel_loss = 0.0325.\n",
            "(Steps: 2400930) train/dur_loss = 0.0097.\n",
            "(Steps: 2400930) train/pitch_loss = 0.0109.\n",
            "(Steps: 2400930) train/energy_loss = 0.0341.\n",
            "(Steps: 2400930) train/batch_size = 6.2000.\n",
            "(Steps: 2400930) train/x_band_width = 2.4000.\n",
            "(Steps: 2400930) train/h_band_width = 2.4000.\n",
            "KanTtsSAMBERT learning rate: 0.000082\n"
          ]
        },
        {
          "output_type": "stream",
          "name": "stderr",
          "text": [
            "100%|██████████| 1/1 [00:00<00:00,  1.30it/s]"
          ]
        },
        {
          "output_type": "stream",
          "name": "stdout",
          "text": [
            "Epoch 930 finished\n"
          ]
        },
        {
          "output_type": "stream",
          "name": "stderr",
          "text": [
            "\n",
            "100%|██████████| 1/1 [00:00<00:00,  1.42it/s]"
          ]
        },
        {
          "output_type": "stream",
          "name": "stdout",
          "text": [
            "Epoch 931 finished\n"
          ]
        },
        {
          "output_type": "stream",
          "name": "stderr",
          "text": [
            "\n",
            "100%|██████████| 1/1 [00:00<00:00,  1.37it/s]"
          ]
        },
        {
          "output_type": "stream",
          "name": "stdout",
          "text": [
            "Epoch 932 finished\n"
          ]
        },
        {
          "output_type": "stream",
          "name": "stderr",
          "text": [
            "\n",
            "100%|██████████| 1/1 [00:00<00:00,  1.39it/s]"
          ]
        },
        {
          "output_type": "stream",
          "name": "stdout",
          "text": [
            "Epoch 933 finished\n"
          ]
        },
        {
          "output_type": "stream",
          "name": "stderr",
          "text": [
            "\n",
            "100%|██████████| 1/1 [00:00<00:00,  1.49it/s]"
          ]
        },
        {
          "output_type": "stream",
          "name": "stdout",
          "text": [
            "Epoch 934 finished\n"
          ]
        },
        {
          "output_type": "stream",
          "name": "stderr",
          "text": [
            "\n",
            "100%|██████████| 1/1 [00:00<00:00,  1.52it/s]"
          ]
        },
        {
          "output_type": "stream",
          "name": "stdout",
          "text": [
            "Epoch 935 finished\n"
          ]
        },
        {
          "output_type": "stream",
          "name": "stderr",
          "text": [
            "\n",
            "100%|██████████| 1/1 [00:00<00:00,  1.53it/s]"
          ]
        },
        {
          "output_type": "stream",
          "name": "stdout",
          "text": [
            "Epoch 936 finished\n"
          ]
        },
        {
          "output_type": "stream",
          "name": "stderr",
          "text": [
            "\n",
            "100%|██████████| 1/1 [00:00<00:00,  1.51it/s]"
          ]
        },
        {
          "output_type": "stream",
          "name": "stdout",
          "text": [
            "Epoch 937 finished\n"
          ]
        },
        {
          "output_type": "stream",
          "name": "stderr",
          "text": [
            "\n",
            "100%|██████████| 1/1 [00:00<00:00,  1.51it/s]"
          ]
        },
        {
          "output_type": "stream",
          "name": "stdout",
          "text": [
            "Epoch 938 finished\n"
          ]
        },
        {
          "output_type": "stream",
          "name": "stderr",
          "text": [
            "\n",
            "100%|██████████| 1/1 [00:00<00:00,  1.52it/s]"
          ]
        },
        {
          "output_type": "stream",
          "name": "stdout",
          "text": [
            "Epoch 939 finished\n"
          ]
        },
        {
          "output_type": "stream",
          "name": "stderr",
          "text": [
            "\n",
            "  0%|          | 0/1 [00:00<?, ?it/s]"
          ]
        },
        {
          "output_type": "stream",
          "name": "stdout",
          "text": [
            "(Steps: 2400940) train/TotalLoss = 0.1291.\n",
            "(Steps: 2400940) train/mel_loss_ = 0.0422.\n",
            "(Steps: 2400940) train/mel_loss = 0.0325.\n",
            "(Steps: 2400940) train/dur_loss = 0.0096.\n",
            "(Steps: 2400940) train/pitch_loss = 0.0111.\n",
            "(Steps: 2400940) train/energy_loss = 0.0337.\n",
            "(Steps: 2400940) train/batch_size = 6.2000.\n",
            "(Steps: 2400940) train/x_band_width = 2.4000.\n",
            "(Steps: 2400940) train/h_band_width = 2.4000.\n",
            "KanTtsSAMBERT learning rate: 0.000082\n"
          ]
        },
        {
          "output_type": "stream",
          "name": "stderr",
          "text": [
            "100%|██████████| 1/1 [00:00<00:00,  1.36it/s]"
          ]
        },
        {
          "output_type": "stream",
          "name": "stdout",
          "text": [
            "Epoch 940 finished\n"
          ]
        },
        {
          "output_type": "stream",
          "name": "stderr",
          "text": [
            "\n",
            "100%|██████████| 1/1 [00:00<00:00,  1.43it/s]"
          ]
        },
        {
          "output_type": "stream",
          "name": "stdout",
          "text": [
            "Epoch 941 finished\n"
          ]
        },
        {
          "output_type": "stream",
          "name": "stderr",
          "text": [
            "\n",
            "100%|██████████| 1/1 [00:00<00:00,  1.50it/s]"
          ]
        },
        {
          "output_type": "stream",
          "name": "stdout",
          "text": [
            "Epoch 942 finished\n"
          ]
        },
        {
          "output_type": "stream",
          "name": "stderr",
          "text": [
            "\n",
            "100%|██████████| 1/1 [00:00<00:00,  1.51it/s]"
          ]
        },
        {
          "output_type": "stream",
          "name": "stdout",
          "text": [
            "Epoch 943 finished\n"
          ]
        },
        {
          "output_type": "stream",
          "name": "stderr",
          "text": [
            "\n",
            "100%|██████████| 1/1 [00:00<00:00,  1.48it/s]"
          ]
        },
        {
          "output_type": "stream",
          "name": "stdout",
          "text": [
            "Epoch 944 finished\n"
          ]
        },
        {
          "output_type": "stream",
          "name": "stderr",
          "text": [
            "\n",
            "100%|██████████| 1/1 [00:00<00:00,  1.50it/s]"
          ]
        },
        {
          "output_type": "stream",
          "name": "stdout",
          "text": [
            "Epoch 945 finished\n"
          ]
        },
        {
          "output_type": "stream",
          "name": "stderr",
          "text": [
            "\n",
            "100%|██████████| 1/1 [00:00<00:00,  1.52it/s]"
          ]
        },
        {
          "output_type": "stream",
          "name": "stdout",
          "text": [
            "Epoch 946 finished\n"
          ]
        },
        {
          "output_type": "stream",
          "name": "stderr",
          "text": [
            "\n",
            "100%|██████████| 1/1 [00:00<00:00,  1.56it/s]"
          ]
        },
        {
          "output_type": "stream",
          "name": "stdout",
          "text": [
            "Epoch 947 finished\n"
          ]
        },
        {
          "output_type": "stream",
          "name": "stderr",
          "text": [
            "\n",
            "100%|██████████| 1/1 [00:00<00:00,  1.55it/s]"
          ]
        },
        {
          "output_type": "stream",
          "name": "stdout",
          "text": [
            "Epoch 948 finished\n"
          ]
        },
        {
          "output_type": "stream",
          "name": "stderr",
          "text": [
            "\n",
            "100%|██████████| 1/1 [00:00<00:00,  1.32it/s]"
          ]
        },
        {
          "output_type": "stream",
          "name": "stdout",
          "text": [
            "Epoch 949 finished\n"
          ]
        },
        {
          "output_type": "stream",
          "name": "stderr",
          "text": [
            "\n",
            "  0%|          | 0/1 [00:00<?, ?it/s]"
          ]
        },
        {
          "output_type": "stream",
          "name": "stdout",
          "text": [
            "(Steps: 2400950) train/TotalLoss = 0.1289.\n",
            "(Steps: 2400950) train/mel_loss_ = 0.0422.\n",
            "(Steps: 2400950) train/mel_loss = 0.0324.\n",
            "(Steps: 2400950) train/dur_loss = 0.0095.\n",
            "(Steps: 2400950) train/pitch_loss = 0.0110.\n",
            "(Steps: 2400950) train/energy_loss = 0.0338.\n",
            "(Steps: 2400950) train/batch_size = 6.2000.\n",
            "(Steps: 2400950) train/x_band_width = 2.4000.\n",
            "(Steps: 2400950) train/h_band_width = 2.4000.\n",
            "KanTtsSAMBERT learning rate: 0.000082\n"
          ]
        },
        {
          "output_type": "stream",
          "name": "stderr",
          "text": [
            "100%|██████████| 1/1 [00:00<00:00,  1.25it/s]"
          ]
        },
        {
          "output_type": "stream",
          "name": "stdout",
          "text": [
            "Epoch 950 finished\n"
          ]
        },
        {
          "output_type": "stream",
          "name": "stderr",
          "text": [
            "\n",
            "100%|██████████| 1/1 [00:00<00:00,  1.38it/s]"
          ]
        },
        {
          "output_type": "stream",
          "name": "stdout",
          "text": [
            "Epoch 951 finished\n"
          ]
        },
        {
          "output_type": "stream",
          "name": "stderr",
          "text": [
            "\n",
            "100%|██████████| 1/1 [00:00<00:00,  1.39it/s]"
          ]
        },
        {
          "output_type": "stream",
          "name": "stdout",
          "text": [
            "Epoch 952 finished\n"
          ]
        },
        {
          "output_type": "stream",
          "name": "stderr",
          "text": [
            "\n",
            "100%|██████████| 1/1 [00:00<00:00,  1.33it/s]"
          ]
        },
        {
          "output_type": "stream",
          "name": "stdout",
          "text": [
            "Epoch 953 finished\n"
          ]
        },
        {
          "output_type": "stream",
          "name": "stderr",
          "text": [
            "\n",
            "100%|██████████| 1/1 [00:00<00:00,  1.38it/s]"
          ]
        },
        {
          "output_type": "stream",
          "name": "stdout",
          "text": [
            "Epoch 954 finished\n"
          ]
        },
        {
          "output_type": "stream",
          "name": "stderr",
          "text": [
            "\n",
            "100%|██████████| 1/1 [00:00<00:00,  1.42it/s]"
          ]
        },
        {
          "output_type": "stream",
          "name": "stdout",
          "text": [
            "Epoch 955 finished\n"
          ]
        },
        {
          "output_type": "stream",
          "name": "stderr",
          "text": [
            "\n",
            "100%|██████████| 1/1 [00:00<00:00,  1.36it/s]"
          ]
        },
        {
          "output_type": "stream",
          "name": "stdout",
          "text": [
            "Epoch 956 finished\n"
          ]
        },
        {
          "output_type": "stream",
          "name": "stderr",
          "text": [
            "\n",
            "100%|██████████| 1/1 [00:00<00:00,  1.40it/s]"
          ]
        },
        {
          "output_type": "stream",
          "name": "stdout",
          "text": [
            "Epoch 957 finished\n"
          ]
        },
        {
          "output_type": "stream",
          "name": "stderr",
          "text": [
            "\n",
            "100%|██████████| 1/1 [00:00<00:00,  1.42it/s]"
          ]
        },
        {
          "output_type": "stream",
          "name": "stdout",
          "text": [
            "Epoch 958 finished\n"
          ]
        },
        {
          "output_type": "stream",
          "name": "stderr",
          "text": [
            "\n",
            "100%|██████████| 1/1 [00:00<00:00,  1.53it/s]"
          ]
        },
        {
          "output_type": "stream",
          "name": "stdout",
          "text": [
            "Epoch 959 finished\n"
          ]
        },
        {
          "output_type": "stream",
          "name": "stderr",
          "text": [
            "\n",
            "  0%|          | 0/1 [00:00<?, ?it/s]"
          ]
        },
        {
          "output_type": "stream",
          "name": "stdout",
          "text": [
            "(Steps: 2400960) train/TotalLoss = 0.1274.\n",
            "(Steps: 2400960) train/mel_loss_ = 0.0420.\n",
            "(Steps: 2400960) train/mel_loss = 0.0324.\n",
            "(Steps: 2400960) train/dur_loss = 0.0093.\n",
            "(Steps: 2400960) train/pitch_loss = 0.0109.\n",
            "(Steps: 2400960) train/energy_loss = 0.0328.\n",
            "(Steps: 2400960) train/batch_size = 6.2000.\n",
            "(Steps: 2400960) train/x_band_width = 2.4000.\n",
            "(Steps: 2400960) train/h_band_width = 2.4000.\n",
            "KanTtsSAMBERT learning rate: 0.000082\n"
          ]
        },
        {
          "output_type": "stream",
          "name": "stderr",
          "text": [
            "100%|██████████| 1/1 [00:00<00:00,  1.38it/s]"
          ]
        },
        {
          "output_type": "stream",
          "name": "stdout",
          "text": [
            "Epoch 960 finished\n"
          ]
        },
        {
          "output_type": "stream",
          "name": "stderr",
          "text": [
            "\n",
            "100%|██████████| 1/1 [00:00<00:00,  1.55it/s]"
          ]
        },
        {
          "output_type": "stream",
          "name": "stdout",
          "text": [
            "Epoch 961 finished\n"
          ]
        },
        {
          "output_type": "stream",
          "name": "stderr",
          "text": [
            "\n",
            "100%|██████████| 1/1 [00:00<00:00,  1.55it/s]"
          ]
        },
        {
          "output_type": "stream",
          "name": "stdout",
          "text": [
            "Epoch 962 finished\n"
          ]
        },
        {
          "output_type": "stream",
          "name": "stderr",
          "text": [
            "\n",
            "100%|██████████| 1/1 [00:00<00:00,  1.51it/s]"
          ]
        },
        {
          "output_type": "stream",
          "name": "stdout",
          "text": [
            "Epoch 963 finished\n"
          ]
        },
        {
          "output_type": "stream",
          "name": "stderr",
          "text": [
            "\n",
            "100%|██████████| 1/1 [00:00<00:00,  1.54it/s]"
          ]
        },
        {
          "output_type": "stream",
          "name": "stdout",
          "text": [
            "Epoch 964 finished\n"
          ]
        },
        {
          "output_type": "stream",
          "name": "stderr",
          "text": [
            "\n",
            "100%|██████████| 1/1 [00:00<00:00,  1.53it/s]"
          ]
        },
        {
          "output_type": "stream",
          "name": "stdout",
          "text": [
            "Epoch 965 finished\n"
          ]
        },
        {
          "output_type": "stream",
          "name": "stderr",
          "text": [
            "\n",
            "100%|██████████| 1/1 [00:00<00:00,  1.52it/s]"
          ]
        },
        {
          "output_type": "stream",
          "name": "stdout",
          "text": [
            "Epoch 966 finished\n"
          ]
        },
        {
          "output_type": "stream",
          "name": "stderr",
          "text": [
            "\n",
            "100%|██████████| 1/1 [00:00<00:00,  1.54it/s]"
          ]
        },
        {
          "output_type": "stream",
          "name": "stdout",
          "text": [
            "Epoch 967 finished\n"
          ]
        },
        {
          "output_type": "stream",
          "name": "stderr",
          "text": [
            "\n",
            "100%|██████████| 1/1 [00:00<00:00,  1.54it/s]"
          ]
        },
        {
          "output_type": "stream",
          "name": "stdout",
          "text": [
            "Epoch 968 finished\n"
          ]
        },
        {
          "output_type": "stream",
          "name": "stderr",
          "text": [
            "\n",
            "100%|██████████| 1/1 [00:00<00:00,  1.53it/s]"
          ]
        },
        {
          "output_type": "stream",
          "name": "stdout",
          "text": [
            "Epoch 969 finished\n"
          ]
        },
        {
          "output_type": "stream",
          "name": "stderr",
          "text": [
            "\n",
            "  0%|          | 0/1 [00:00<?, ?it/s]"
          ]
        },
        {
          "output_type": "stream",
          "name": "stdout",
          "text": [
            "(Steps: 2400970) train/TotalLoss = 0.1274.\n",
            "(Steps: 2400970) train/mel_loss_ = 0.0419.\n",
            "(Steps: 2400970) train/mel_loss = 0.0323.\n",
            "(Steps: 2400970) train/dur_loss = 0.0094.\n",
            "(Steps: 2400970) train/pitch_loss = 0.0107.\n",
            "(Steps: 2400970) train/energy_loss = 0.0332.\n",
            "(Steps: 2400970) train/batch_size = 6.2000.\n",
            "(Steps: 2400970) train/x_band_width = 2.4000.\n",
            "(Steps: 2400970) train/h_band_width = 2.4000.\n",
            "KanTtsSAMBERT learning rate: 0.000082\n"
          ]
        },
        {
          "output_type": "stream",
          "name": "stderr",
          "text": [
            "100%|██████████| 1/1 [00:00<00:00,  1.43it/s]"
          ]
        },
        {
          "output_type": "stream",
          "name": "stdout",
          "text": [
            "Epoch 970 finished\n"
          ]
        },
        {
          "output_type": "stream",
          "name": "stderr",
          "text": [
            "\n",
            "100%|██████████| 1/1 [00:00<00:00,  1.51it/s]"
          ]
        },
        {
          "output_type": "stream",
          "name": "stdout",
          "text": [
            "Epoch 971 finished\n"
          ]
        },
        {
          "output_type": "stream",
          "name": "stderr",
          "text": [
            "\n",
            "100%|██████████| 1/1 [00:00<00:00,  1.52it/s]"
          ]
        },
        {
          "output_type": "stream",
          "name": "stdout",
          "text": [
            "Epoch 972 finished\n"
          ]
        },
        {
          "output_type": "stream",
          "name": "stderr",
          "text": [
            "\n",
            "100%|██████████| 1/1 [00:00<00:00,  1.46it/s]"
          ]
        },
        {
          "output_type": "stream",
          "name": "stdout",
          "text": [
            "Epoch 973 finished\n"
          ]
        },
        {
          "output_type": "stream",
          "name": "stderr",
          "text": [
            "\n",
            "100%|██████████| 1/1 [00:00<00:00,  1.33it/s]"
          ]
        },
        {
          "output_type": "stream",
          "name": "stdout",
          "text": [
            "Epoch 974 finished\n"
          ]
        },
        {
          "output_type": "stream",
          "name": "stderr",
          "text": [
            "\n",
            "100%|██████████| 1/1 [00:00<00:00,  1.39it/s]"
          ]
        },
        {
          "output_type": "stream",
          "name": "stdout",
          "text": [
            "Epoch 975 finished\n"
          ]
        },
        {
          "output_type": "stream",
          "name": "stderr",
          "text": [
            "\n",
            "100%|██████████| 1/1 [00:00<00:00,  1.34it/s]"
          ]
        },
        {
          "output_type": "stream",
          "name": "stdout",
          "text": [
            "Epoch 976 finished\n"
          ]
        },
        {
          "output_type": "stream",
          "name": "stderr",
          "text": [
            "\n",
            "100%|██████████| 1/1 [00:00<00:00,  1.43it/s]"
          ]
        },
        {
          "output_type": "stream",
          "name": "stdout",
          "text": [
            "Epoch 977 finished\n"
          ]
        },
        {
          "output_type": "stream",
          "name": "stderr",
          "text": [
            "\n",
            "100%|██████████| 1/1 [00:00<00:00,  1.39it/s]"
          ]
        },
        {
          "output_type": "stream",
          "name": "stdout",
          "text": [
            "Epoch 978 finished\n"
          ]
        },
        {
          "output_type": "stream",
          "name": "stderr",
          "text": [
            "\n",
            "100%|██████████| 1/1 [00:00<00:00,  1.40it/s]"
          ]
        },
        {
          "output_type": "stream",
          "name": "stdout",
          "text": [
            "Epoch 979 finished\n"
          ]
        },
        {
          "output_type": "stream",
          "name": "stderr",
          "text": [
            "\n",
            "  0%|          | 0/1 [00:00<?, ?it/s]"
          ]
        },
        {
          "output_type": "stream",
          "name": "stdout",
          "text": [
            "(Steps: 2400980) train/TotalLoss = 0.1274.\n",
            "(Steps: 2400980) train/mel_loss_ = 0.0418.\n",
            "(Steps: 2400980) train/mel_loss = 0.0323.\n",
            "(Steps: 2400980) train/dur_loss = 0.0093.\n",
            "(Steps: 2400980) train/pitch_loss = 0.0110.\n",
            "(Steps: 2400980) train/energy_loss = 0.0330.\n",
            "(Steps: 2400980) train/batch_size = 6.2000.\n",
            "(Steps: 2400980) train/x_band_width = 2.4000.\n",
            "(Steps: 2400980) train/h_band_width = 2.4000.\n",
            "KanTtsSAMBERT learning rate: 0.000082\n"
          ]
        },
        {
          "output_type": "stream",
          "name": "stderr",
          "text": [
            "100%|██████████| 1/1 [00:00<00:00,  1.29it/s]"
          ]
        },
        {
          "output_type": "stream",
          "name": "stdout",
          "text": [
            "Epoch 980 finished\n"
          ]
        },
        {
          "output_type": "stream",
          "name": "stderr",
          "text": [
            "\n",
            "100%|██████████| 1/1 [00:00<00:00,  1.37it/s]"
          ]
        },
        {
          "output_type": "stream",
          "name": "stdout",
          "text": [
            "Epoch 981 finished\n"
          ]
        },
        {
          "output_type": "stream",
          "name": "stderr",
          "text": [
            "\n",
            "100%|██████████| 1/1 [00:00<00:00,  1.35it/s]"
          ]
        },
        {
          "output_type": "stream",
          "name": "stdout",
          "text": [
            "Epoch 982 finished\n"
          ]
        },
        {
          "output_type": "stream",
          "name": "stderr",
          "text": [
            "\n",
            "100%|██████████| 1/1 [00:00<00:00,  1.47it/s]"
          ]
        },
        {
          "output_type": "stream",
          "name": "stdout",
          "text": [
            "Epoch 983 finished\n"
          ]
        },
        {
          "output_type": "stream",
          "name": "stderr",
          "text": [
            "\n",
            "100%|██████████| 1/1 [00:00<00:00,  1.51it/s]"
          ]
        },
        {
          "output_type": "stream",
          "name": "stdout",
          "text": [
            "Epoch 984 finished\n"
          ]
        },
        {
          "output_type": "stream",
          "name": "stderr",
          "text": [
            "\n",
            "100%|██████████| 1/1 [00:00<00:00,  1.51it/s]"
          ]
        },
        {
          "output_type": "stream",
          "name": "stdout",
          "text": [
            "Epoch 985 finished\n"
          ]
        },
        {
          "output_type": "stream",
          "name": "stderr",
          "text": [
            "\n",
            "100%|██████████| 1/1 [00:00<00:00,  1.50it/s]"
          ]
        },
        {
          "output_type": "stream",
          "name": "stdout",
          "text": [
            "Epoch 986 finished\n"
          ]
        },
        {
          "output_type": "stream",
          "name": "stderr",
          "text": [
            "\n",
            "100%|██████████| 1/1 [00:00<00:00,  1.52it/s]"
          ]
        },
        {
          "output_type": "stream",
          "name": "stdout",
          "text": [
            "Epoch 987 finished\n"
          ]
        },
        {
          "output_type": "stream",
          "name": "stderr",
          "text": [
            "\n",
            "100%|██████████| 1/1 [00:00<00:00,  1.57it/s]"
          ]
        },
        {
          "output_type": "stream",
          "name": "stdout",
          "text": [
            "Epoch 988 finished\n"
          ]
        },
        {
          "output_type": "stream",
          "name": "stderr",
          "text": [
            "\n",
            "100%|██████████| 1/1 [00:00<00:00,  1.53it/s]"
          ]
        },
        {
          "output_type": "stream",
          "name": "stdout",
          "text": [
            "Epoch 989 finished\n"
          ]
        },
        {
          "output_type": "stream",
          "name": "stderr",
          "text": [
            "\n",
            "  0%|          | 0/1 [00:00<?, ?it/s]"
          ]
        },
        {
          "output_type": "stream",
          "name": "stdout",
          "text": [
            "(Steps: 2400990) train/TotalLoss = 0.1265.\n",
            "(Steps: 2400990) train/mel_loss_ = 0.0417.\n",
            "(Steps: 2400990) train/mel_loss = 0.0321.\n",
            "(Steps: 2400990) train/dur_loss = 0.0093.\n",
            "(Steps: 2400990) train/pitch_loss = 0.0108.\n",
            "(Steps: 2400990) train/energy_loss = 0.0326.\n",
            "(Steps: 2400990) train/batch_size = 6.2000.\n",
            "(Steps: 2400990) train/x_band_width = 2.4000.\n",
            "(Steps: 2400990) train/h_band_width = 2.4000.\n",
            "KanTtsSAMBERT learning rate: 0.000082\n"
          ]
        },
        {
          "output_type": "stream",
          "name": "stderr",
          "text": [
            "100%|██████████| 1/1 [00:00<00:00,  1.40it/s]"
          ]
        },
        {
          "output_type": "stream",
          "name": "stdout",
          "text": [
            "Epoch 990 finished\n"
          ]
        },
        {
          "output_type": "stream",
          "name": "stderr",
          "text": [
            "\n",
            "100%|██████████| 1/1 [00:00<00:00,  1.50it/s]"
          ]
        },
        {
          "output_type": "stream",
          "name": "stdout",
          "text": [
            "Epoch 991 finished\n"
          ]
        },
        {
          "output_type": "stream",
          "name": "stderr",
          "text": [
            "\n",
            "100%|██████████| 1/1 [00:00<00:00,  1.55it/s]"
          ]
        },
        {
          "output_type": "stream",
          "name": "stdout",
          "text": [
            "Epoch 992 finished\n"
          ]
        },
        {
          "output_type": "stream",
          "name": "stderr",
          "text": [
            "\n",
            "100%|██████████| 1/1 [00:00<00:00,  1.52it/s]"
          ]
        },
        {
          "output_type": "stream",
          "name": "stdout",
          "text": [
            "Epoch 993 finished\n"
          ]
        },
        {
          "output_type": "stream",
          "name": "stderr",
          "text": [
            "\n",
            "100%|██████████| 1/1 [00:00<00:00,  1.53it/s]"
          ]
        },
        {
          "output_type": "stream",
          "name": "stdout",
          "text": [
            "Epoch 994 finished\n"
          ]
        },
        {
          "output_type": "stream",
          "name": "stderr",
          "text": [
            "\n",
            "100%|██████████| 1/1 [00:00<00:00,  1.53it/s]"
          ]
        },
        {
          "output_type": "stream",
          "name": "stdout",
          "text": [
            "Epoch 995 finished\n"
          ]
        },
        {
          "output_type": "stream",
          "name": "stderr",
          "text": [
            "\n",
            "100%|██████████| 1/1 [00:00<00:00,  1.53it/s]"
          ]
        },
        {
          "output_type": "stream",
          "name": "stdout",
          "text": [
            "Epoch 996 finished\n"
          ]
        },
        {
          "output_type": "stream",
          "name": "stderr",
          "text": [
            "\n",
            "100%|██████████| 1/1 [00:00<00:00,  1.54it/s]"
          ]
        },
        {
          "output_type": "stream",
          "name": "stdout",
          "text": [
            "Epoch 997 finished\n"
          ]
        },
        {
          "output_type": "stream",
          "name": "stderr",
          "text": [
            "\n",
            "100%|██████████| 1/1 [00:00<00:00,  1.36it/s]"
          ]
        },
        {
          "output_type": "stream",
          "name": "stdout",
          "text": [
            "Epoch 998 finished\n"
          ]
        },
        {
          "output_type": "stream",
          "name": "stderr",
          "text": [
            "\n",
            "100%|██████████| 1/1 [00:00<00:00,  1.29it/s]"
          ]
        },
        {
          "output_type": "stream",
          "name": "stdout",
          "text": [
            "Epoch 999 finished\n"
          ]
        },
        {
          "output_type": "stream",
          "name": "stderr",
          "text": [
            "\n",
            "  0%|          | 0/1 [00:00<?, ?it/s]"
          ]
        },
        {
          "output_type": "stream",
          "name": "stdout",
          "text": [
            "Checkpoint saved at step 2401000\n",
            "(Steps: 2401000) train/TotalLoss = 0.1266.\n",
            "(Steps: 2401000) train/mel_loss_ = 0.0415.\n",
            "(Steps: 2401000) train/mel_loss = 0.0321.\n",
            "(Steps: 2401000) train/dur_loss = 0.0092.\n",
            "(Steps: 2401000) train/pitch_loss = 0.0106.\n",
            "(Steps: 2401000) train/energy_loss = 0.0331.\n",
            "(Steps: 2401000) train/batch_size = 6.2000.\n",
            "(Steps: 2401000) train/x_band_width = 2.4000.\n",
            "(Steps: 2401000) train/h_band_width = 2.4000.\n",
            "KanTtsSAMBERT learning rate: 0.000082\n"
          ]
        },
        {
          "output_type": "stream",
          "name": "stderr",
          "text": [
            "100%|██████████| 1/1 [00:01<00:00,  1.12s/it]"
          ]
        },
        {
          "output_type": "stream",
          "name": "stdout",
          "text": [
            "Epoch 1000 finished\n"
          ]
        },
        {
          "output_type": "stream",
          "name": "stderr",
          "text": [
            "\n",
            "  0%|          | 0/1 [00:00<?, ?it/s]"
          ]
        },
        {
          "output_type": "stream",
          "name": "stdout",
          "text": [
            "Epoch 1001 finished\n"
          ]
        },
        {
          "output_type": "stream",
          "name": "stderr",
          "text": [
            "\n",
            "2023-07-08 19:25:46,083 - modelscope - INFO - SAMBERT training spent: 0.20 hours\n",
            "\n",
            "2023-07-08 19:25:46,086 - modelscope - INFO - skip HIFIGAN training...\n"
          ]
        }
      ]
    },
    {
      "cell_type": "markdown",
      "source": [
        "## 推理 Inference （可编辑中文文本内容）"
      ],
      "metadata": {
        "id": "l2rLYGwIcJ5U"
      }
    },
    {
      "cell_type": "code",
      "source": [
        "import os\n",
        "from modelscope.models.audio.tts import SambertHifigan\n",
        "from modelscope.pipelines import pipeline\n",
        "from modelscope.utils.constant import Tasks\n",
        "\n",
        "model_dir = os.path.abspath(\"./pretrain_work_dir\")\n",
        "\n",
        "custom_infer_abs = {\n",
        "    'voice_name':\n",
        "    'F7',\n",
        "    'am_ckpt':\n",
        "    os.path.join(model_dir, 'tmp_am', 'ckpt'),\n",
        "    'am_config':\n",
        "    os.path.join(model_dir, 'tmp_am', 'config.yaml'),\n",
        "    'voc_ckpt':\n",
        "    os.path.join(model_dir, 'orig_model', 'basemodel_16k', 'hifigan', 'ckpt'),\n",
        "    'voc_config':\n",
        "    os.path.join(model_dir, 'orig_model', 'basemodel_16k', 'hifigan',\n",
        "             'config.yaml'),\n",
        "    'audio_config':\n",
        "    os.path.join(model_dir, 'data', 'audio_config.yaml'),\n",
        "    'se_file':\n",
        "    os.path.join(model_dir, 'data', 'se', 'se.npy')\n",
        "}\n",
        "kwargs = {'custom_ckpt': custom_infer_abs}\n",
        "\n",
        "model_id = SambertHifigan(os.path.join(model_dir, \"orig_model\"), **kwargs)\n",
        "\n",
        "inference = pipeline(task=Tasks.text_to_speech, model=model_id)\n",
        "output = inference(input=\"大家好呀，欢迎使用滔滔智能的声音克隆产品！\") # 在这里编辑想要输出的文本\n",
        "\n",
        "import IPython.display as ipd\n",
        "ipd.Audio(output[\"output_wav\"], rate=44100)\n"
      ],
      "metadata": {
        "id": "hBVxPrEpbgB-",
        "colab": {
          "base_uri": "https://localhost:8080/",
          "height": 290
        },
        "outputId": "ea5014ee-a14f-4497-80bc-d710fbc2dca1"
      },
      "execution_count": null,
      "outputs": [
        {
          "output_type": "stream",
          "name": "stderr",
          "text": [
            "2023-07-08 19:29:56,381 - modelscope - INFO - am_config=/content/pretrain_work_dir/tmp_am/config.yaml voc_config=/content/pretrain_work_dir/orig_model/basemodel_16k/hifigan/config.yaml\n",
            "2023-07-08 19:29:56,383 - modelscope - INFO - audio_config=/content/pretrain_work_dir/data/audio_config.yaml\n",
            "2023-07-08 19:29:56,385 - modelscope - INFO - am_ckpts=OrderedDict([(2400000, '/content/pretrain_work_dir/tmp_am/ckpt/checkpoint_2400000.pth'), (2401000, '/content/pretrain_work_dir/tmp_am/ckpt/checkpoint_2401000.pth')])\n",
            "2023-07-08 19:29:56,387 - modelscope - INFO - voc_ckpts=OrderedDict([(2400000, '/content/pretrain_work_dir/orig_model/basemodel_16k/hifigan/ckpt/checkpoint_2400000.pth')])\n",
            "2023-07-08 19:29:56,389 - modelscope - INFO - se_path=/content/pretrain_work_dir/data/se/se.npy se_model_path=/content/pretrain_work_dir/orig_model/se.onnx\n",
            "2023-07-08 19:29:56,393 - modelscope - INFO - mvn_path=/content/pretrain_work_dir/orig_model/mvn.npy\n",
            "2023-07-08 19:30:02,225 - modelscope - WARNING - No preprocessor field found in cfg.\n",
            "2023-07-08 19:30:02,226 - modelscope - WARNING - No val key and type key found in preprocessor domain of configuration.json file.\n",
            "2023-07-08 19:30:02,227 - modelscope - WARNING - Cannot find available config to build preprocessor at mode inference, current config: {'model_dir': '/content/pretrain_work_dir/orig_model'}. trying to build by task and model information.\n",
            "2023-07-08 19:30:02,230 - modelscope - WARNING - No preprocessor key ('sambert-hifigan', 'text-to-speech') found in PREPROCESSOR_MAP, skip building preprocessor.\n"
          ]
        },
        {
          "output_type": "stream",
          "name": "stdout",
          "text": [
            "Removing weight norm...\n"
          ]
        },
        {
          "output_type": "execute_result",
          "data": {
            "text/plain": [
              "<IPython.lib.display.Audio object>"
            ],
            "text/html": [
              "\n",
              "                <audio  controls=\"controls\" >\n",
              "                    <source src=\"data:audio/wav;base64,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\" type=\"audio/wav\" />\n",
              "                    Your browser does not support the audio element.\n",
              "                </audio>\n",
              "              "
            ]
          },
          "metadata": {},
          "execution_count": 17
        }
      ]
    },
    {
      "cell_type": "markdown",
      "source": [
        "## 打包训练好的模型，可下载到本地"
      ],
      "metadata": {
        "id": "rEdzf5eTLE9f"
      }
    },
    {
      "cell_type": "code",
      "source": [
        "!zip -r ./model.zip ./pretrain_work_dir"
      ],
      "metadata": {
        "id": "vGnr0aezIQOc",
        "colab": {
          "base_uri": "https://localhost:8080/"
        },
        "outputId": "70aa2032-a6ef-4675-fe77-94e79ec65515"
      },
      "execution_count": null,
      "outputs": [
        {
          "output_type": "stream",
          "name": "stdout",
          "text": [
            "  adding: pretrain_work_dir/ (stored 0%)\n",
            "  adding: pretrain_work_dir/tmp_voc/ (stored 0%)\n",
            "  adding: pretrain_work_dir/tmp_am/ (stored 0%)\n",
            "  adding: pretrain_work_dir/tmp_am/config.yaml (deflated 61%)\n",
            "  adding: pretrain_work_dir/tmp_am/ckpt/ (stored 0%)\n",
            "  adding: pretrain_work_dir/tmp_am/ckpt/checkpoint_2400000.pth (deflated 10%)\n",
            "  adding: pretrain_work_dir/tmp_am/ckpt/checkpoint_2401000.pth (deflated 10%)\n",
            "  adding: pretrain_work_dir/tmp_am/log/ (stored 0%)\n",
            "  adding: pretrain_work_dir/tmp_am/log/events.out.tfevents.1688843636.977810d1baf5 (deflated 74%)\n",
            "  adding: pretrain_work_dir/data/ (stored 0%)\n",
            "  adding: pretrain_work_dir/data/frame_uv/ (stored 0%)\n",
            "  adding: pretrain_work_dir/data/frame_uv/test_0_15.npy (deflated 83%)\n",
            "  adding: pretrain_work_dir/data/frame_uv/test_0_0.npy (deflated 83%)\n",
            "  adding: pretrain_work_dir/data/frame_uv/test_0_21.npy (deflated 91%)\n",
            "  adding: pretrain_work_dir/data/frame_uv/test_0_10.npy (deflated 90%)\n",
            "  adding: pretrain_work_dir/data/frame_uv/test_0_28.npy (deflated 84%)\n",
            "  adding: pretrain_work_dir/data/frame_uv/test_0_8.npy (deflated 83%)\n",
            "  adding: pretrain_work_dir/data/frame_uv/test_0_19.npy (deflated 85%)\n",
            "  adding: pretrain_work_dir/data/frame_uv/test_0_22.npy (deflated 86%)\n",
            "  adding: pretrain_work_dir/data/frame_uv/test_0_9.npy (deflated 90%)\n",
            "  adding: pretrain_work_dir/data/frame_uv/test_0_20.npy (deflated 83%)\n",
            "  adding: pretrain_work_dir/data/frame_uv/test_0_1.npy (deflated 88%)\n",
            "  adding: pretrain_work_dir/data/frame_uv/test_0_25.npy (deflated 87%)\n",
            "  adding: pretrain_work_dir/data/frame_uv/test_0_29.npy (deflated 89%)\n",
            "  adding: pretrain_work_dir/data/frame_uv/test_0_16.npy (deflated 90%)\n",
            "  adding: pretrain_work_dir/data/frame_uv/test_0_33.npy (deflated 82%)\n",
            "  adding: pretrain_work_dir/data/frame_uv/test_0_14.npy (deflated 88%)\n",
            "  adding: pretrain_work_dir/data/frame_uv/test_0_2.npy (deflated 86%)\n",
            "  adding: pretrain_work_dir/data/frame_uv/test_0_4.npy (deflated 81%)\n",
            "  adding: pretrain_work_dir/data/frame_uv/test_0_31.npy (deflated 84%)\n",
            "  adding: pretrain_work_dir/data/frame_uv/test_0_32.npy (deflated 89%)\n",
            "  adding: pretrain_work_dir/data/frame_uv/test_0_13.npy (deflated 78%)\n",
            "  adding: pretrain_work_dir/data/frame_uv/test_0_18.npy (deflated 82%)\n",
            "  adding: pretrain_work_dir/data/frame_uv/test_0_23.npy (deflated 89%)\n",
            "  adding: pretrain_work_dir/data/frame_uv/test_0_12.npy (deflated 86%)\n",
            "  adding: pretrain_work_dir/data/frame_uv/test_0_6.npy (deflated 85%)\n",
            "  adding: pretrain_work_dir/data/frame_uv/test_0_11.npy (deflated 77%)\n",
            "  adding: pretrain_work_dir/data/frame_uv/test_0_7.npy (deflated 88%)\n",
            "  adding: pretrain_work_dir/data/frame_uv/test_0_17.npy (deflated 90%)\n",
            "  adding: pretrain_work_dir/data/frame_uv/test_0_27.npy (deflated 85%)\n",
            "  adding: pretrain_work_dir/data/frame_uv/test_0_5.npy (deflated 85%)\n",
            "  adding: pretrain_work_dir/data/frame_uv/test_0_26.npy (deflated 83%)\n",
            "  adding: pretrain_work_dir/data/frame_uv/test_0_3.npy (deflated 86%)\n",
            "  adding: pretrain_work_dir/data/frame_uv/test_0_24.npy (deflated 82%)\n",
            "  adding: pretrain_work_dir/data/energy/ (stored 0%)\n",
            "  adding: pretrain_work_dir/data/energy/test_0_15.npy (deflated 29%)\n",
            "  adding: pretrain_work_dir/data/energy/test_0_0.npy (deflated 37%)\n",
            "  adding: pretrain_work_dir/data/energy/test_0_21.npy (deflated 27%)\n",
            "  adding: pretrain_work_dir/data/energy/test_0_10.npy (deflated 25%)\n",
            "  adding: pretrain_work_dir/data/energy/test_0_28.npy (deflated 30%)\n",
            "  adding: pretrain_work_dir/data/energy/test_0_8.npy (deflated 32%)\n",
            "  adding: pretrain_work_dir/data/energy/test_0_19.npy (deflated 29%)\n",
            "  adding: pretrain_work_dir/data/energy/test_0_22.npy (deflated 33%)\n",
            "  adding: pretrain_work_dir/data/energy/test_0_9.npy (deflated 26%)\n",
            "  adding: pretrain_work_dir/data/energy/test_0_20.npy (deflated 31%)\n",
            "  adding: pretrain_work_dir/data/energy/test_0_1.npy (deflated 28%)\n",
            "  adding: pretrain_work_dir/data/energy/test_0_25.npy (deflated 29%)\n",
            "  adding: pretrain_work_dir/data/energy/test_0_29.npy (deflated 25%)\n",
            "  adding: pretrain_work_dir/data/energy/energy_mean.txt (stored 0%)\n",
            "  adding: pretrain_work_dir/data/energy/test_0_16.npy (deflated 24%)\n",
            "  adding: pretrain_work_dir/data/energy/test_0_33.npy (deflated 32%)\n",
            "  adding: pretrain_work_dir/data/energy/test_0_14.npy (deflated 26%)\n",
            "  adding: pretrain_work_dir/data/energy/test_0_2.npy (deflated 28%)\n",
            "  adding: pretrain_work_dir/data/energy/test_0_4.npy (deflated 35%)\n",
            "  adding: pretrain_work_dir/data/energy/test_0_31.npy (deflated 29%)\n",
            "  adding: pretrain_work_dir/data/energy/test_0_32.npy (deflated 28%)\n",
            "  adding: pretrain_work_dir/data/energy/test_0_13.npy (deflated 35%)\n",
            "  adding: pretrain_work_dir/data/energy/test_0_18.npy (deflated 32%)\n",
            "  adding: pretrain_work_dir/data/energy/test_0_23.npy (deflated 24%)\n",
            "  adding: pretrain_work_dir/data/energy/test_0_12.npy (deflated 32%)\n",
            "  adding: pretrain_work_dir/data/energy/test_0_6.npy (deflated 25%)\n",
            "  adding: pretrain_work_dir/data/energy/test_0_11.npy (deflated 32%)\n",
            "  adding: pretrain_work_dir/data/energy/test_0_7.npy (deflated 30%)\n",
            "  adding: pretrain_work_dir/data/energy/energy_std.txt (stored 0%)\n",
            "  adding: pretrain_work_dir/data/energy/test_0_17.npy (deflated 23%)\n",
            "  adding: pretrain_work_dir/data/energy/test_0_27.npy (deflated 29%)\n",
            "  adding: pretrain_work_dir/data/energy/test_0_5.npy (deflated 35%)\n",
            "  adding: pretrain_work_dir/data/energy/test_0_26.npy (deflated 31%)\n",
            "  adding: pretrain_work_dir/data/energy/test_0_3.npy (deflated 28%)\n",
            "  adding: pretrain_work_dir/data/energy/test_0_24.npy (deflated 32%)\n",
            "  adding: pretrain_work_dir/data/badlist.txt (stored 0%)\n",
            "  adding: pretrain_work_dir/data/mel/ (stored 0%)\n",
            "  adding: pretrain_work_dir/data/mel/test_0_15.npy (deflated 5%)\n",
            "  adding: pretrain_work_dir/data/mel/test_0_0.npy (deflated 10%)\n",
            "  adding: pretrain_work_dir/data/mel/test_0_21.npy (deflated 16%)\n",
            "  adding: pretrain_work_dir/data/mel/test_0_10.npy (deflated 16%)\n",
            "  adding: pretrain_work_dir/data/mel/test_0_28.npy (deflated 11%)\n",
            "  adding: pretrain_work_dir/data/mel/test_0_8.npy (deflated 5%)\n",
            "  adding: pretrain_work_dir/data/mel/test_0_19.npy (deflated 11%)\n",
            "  adding: pretrain_work_dir/data/mel/test_0_22.npy (deflated 10%)\n",
            "  adding: pretrain_work_dir/data/mel/test_0_9.npy (deflated 12%)\n",
            "  adding: pretrain_work_dir/data/mel/test_0_20.npy (deflated 10%)\n",
            "  adding: pretrain_work_dir/data/mel/test_0_1.npy (deflated 14%)\n",
            "  adding: pretrain_work_dir/data/mel/test_0_25.npy (deflated 18%)\n",
            "  adding: pretrain_work_dir/data/mel/test_0_29.npy (deflated 17%)\n",
            "  adding: pretrain_work_dir/data/mel/test_0_16.npy (deflated 8%)\n",
            "  adding: pretrain_work_dir/data/mel/test_0_33.npy (deflated 8%)\n",
            "  adding: pretrain_work_dir/data/mel/test_0_14.npy (deflated 7%)\n",
            "  adding: pretrain_work_dir/data/mel/test_0_2.npy (deflated 6%)\n",
            "  adding: pretrain_work_dir/data/mel/test_0_4.npy (deflated 5%)\n",
            "  adding: pretrain_work_dir/data/mel/test_0_31.npy (deflated 8%)\n",
            "  adding: pretrain_work_dir/data/mel/mel_std.txt (deflated 63%)\n",
            "  adding: pretrain_work_dir/data/mel/test_0_32.npy (deflated 8%)\n",
            "  adding: pretrain_work_dir/data/mel/test_0_13.npy (deflated 6%)\n",
            "  adding: pretrain_work_dir/data/mel/test_0_18.npy (deflated 7%)\n",
            "  adding: pretrain_work_dir/data/mel/test_0_23.npy (deflated 10%)\n",
            "  adding: pretrain_work_dir/data/mel/test_0_12.npy (deflated 14%)\n",
            "  adding: pretrain_work_dir/data/mel/test_0_6.npy (deflated 6%)\n",
            "  adding: pretrain_work_dir/data/mel/test_0_11.npy (deflated 18%)\n",
            "  adding: pretrain_work_dir/data/mel/test_0_7.npy (deflated 11%)\n",
            "  adding: pretrain_work_dir/data/mel/mel_mean.txt (deflated 58%)\n",
            "  adding: pretrain_work_dir/data/mel/test_0_17.npy (deflated 8%)\n",
            "  adding: pretrain_work_dir/data/mel/test_0_27.npy (deflated 9%)\n",
            "  adding: pretrain_work_dir/data/mel/test_0_5.npy (deflated 17%)\n",
            "  adding: pretrain_work_dir/data/mel/test_0_26.npy (deflated 6%)\n",
            "  adding: pretrain_work_dir/data/mel/test_0_3.npy (deflated 6%)\n",
            "  adding: pretrain_work_dir/data/mel/test_0_24.npy (deflated 5%)\n",
            "  adding: pretrain_work_dir/data/f0/ (stored 0%)\n",
            "  adding: pretrain_work_dir/data/f0/test_0_15.npy (deflated 37%)\n",
            "  adding: pretrain_work_dir/data/f0/test_0_0.npy (deflated 38%)\n",
            "  adding: pretrain_work_dir/data/f0/test_0_21.npy (deflated 33%)\n",
            "  adding: pretrain_work_dir/data/f0/test_0_10.npy (deflated 29%)\n",
            "  adding: pretrain_work_dir/data/f0/test_0_28.npy (deflated 40%)\n",
            "  adding: pretrain_work_dir/data/f0/test_0_8.npy (deflated 35%)\n",
            "  adding: pretrain_work_dir/data/f0/test_0_19.npy (deflated 35%)\n",
            "  adding: pretrain_work_dir/data/f0/test_0_22.npy (deflated 36%)\n",
            "  adding: pretrain_work_dir/data/f0/test_0_9.npy (deflated 30%)\n",
            "  adding: pretrain_work_dir/data/f0/test_0_20.npy (deflated 36%)\n",
            "  adding: pretrain_work_dir/data/f0/test_0_1.npy (deflated 37%)\n",
            "  adding: pretrain_work_dir/data/f0/test_0_25.npy (deflated 32%)\n",
            "  adding: pretrain_work_dir/data/f0/test_0_29.npy (deflated 38%)\n",
            "  adding: pretrain_work_dir/data/f0/test_0_16.npy (deflated 29%)\n",
            "  adding: pretrain_work_dir/data/f0/test_0_33.npy (deflated 34%)\n",
            "  adding: pretrain_work_dir/data/f0/test_0_14.npy (deflated 34%)\n",
            "  adding: pretrain_work_dir/data/f0/test_0_2.npy (deflated 33%)\n",
            "  adding: pretrain_work_dir/data/f0/f0_std.txt (stored 0%)\n",
            "  adding: pretrain_work_dir/data/f0/test_0_4.npy (deflated 40%)\n",
            "  adding: pretrain_work_dir/data/f0/test_0_31.npy (deflated 33%)\n",
            "  adding: pretrain_work_dir/data/f0/test_0_32.npy (deflated 30%)\n",
            "  adding: pretrain_work_dir/data/f0/test_0_13.npy (deflated 40%)\n",
            "  adding: pretrain_work_dir/data/f0/test_0_18.npy (deflated 42%)\n",
            "  adding: pretrain_work_dir/data/f0/test_0_23.npy (deflated 36%)\n",
            "  adding: pretrain_work_dir/data/f0/test_0_12.npy (deflated 35%)\n",
            "  adding: pretrain_work_dir/data/f0/test_0_6.npy (deflated 32%)\n",
            "  adding: pretrain_work_dir/data/f0/test_0_11.npy (deflated 33%)\n",
            "  adding: pretrain_work_dir/data/f0/test_0_7.npy (deflated 35%)\n",
            "  adding: pretrain_work_dir/data/f0/f0_mean.txt (stored 0%)\n",
            "  adding: pretrain_work_dir/data/f0/test_0_17.npy (deflated 25%)\n",
            "  adding: pretrain_work_dir/data/f0/test_0_27.npy (deflated 31%)\n",
            "  adding: pretrain_work_dir/data/f0/test_0_5.npy (deflated 44%)\n",
            "  adding: pretrain_work_dir/data/f0/test_0_26.npy (deflated 35%)\n",
            "  adding: pretrain_work_dir/data/f0/test_0_3.npy (deflated 33%)\n",
            "  adding: pretrain_work_dir/data/f0/test_0_24.npy (deflated 37%)\n",
            "  adding: pretrain_work_dir/data/frame_energy/ (stored 0%)\n",
            "  adding: pretrain_work_dir/data/frame_energy/test_0_15.npy (deflated 3%)\n",
            "  adding: pretrain_work_dir/data/frame_energy/test_0_0.npy (deflated 3%)\n",
            "  adding: pretrain_work_dir/data/frame_energy/test_0_21.npy (deflated 4%)\n",
            "  adding: pretrain_work_dir/data/frame_energy/test_0_10.npy (deflated 4%)\n",
            "  adding: pretrain_work_dir/data/frame_energy/test_0_28.npy (deflated 3%)\n",
            "  adding: pretrain_work_dir/data/frame_energy/test_0_8.npy (deflated 3%)\n",
            "  adding: pretrain_work_dir/data/frame_energy/test_0_19.npy (deflated 3%)\n",
            "  adding: pretrain_work_dir/data/frame_energy/test_0_22.npy (deflated 4%)\n",
            "  adding: pretrain_work_dir/data/frame_energy/test_0_9.npy (deflated 4%)\n",
            "  adding: pretrain_work_dir/data/frame_energy/test_0_20.npy (deflated 3%)\n",
            "  adding: pretrain_work_dir/data/frame_energy/test_0_1.npy (deflated 5%)\n",
            "  adding: pretrain_work_dir/data/frame_energy/test_0_25.npy (deflated 7%)\n",
            "  adding: pretrain_work_dir/data/frame_energy/test_0_29.npy (deflated 8%)\n",
            "  adding: pretrain_work_dir/data/frame_energy/test_0_16.npy (deflated 4%)\n",
            "  adding: pretrain_work_dir/data/frame_energy/test_0_33.npy (deflated 3%)\n",
            "  adding: pretrain_work_dir/data/frame_energy/test_0_14.npy (deflated 4%)\n",
            "  adding: pretrain_work_dir/data/frame_energy/test_0_2.npy (deflated 4%)\n",
            "  adding: pretrain_work_dir/data/frame_energy/test_0_4.npy (deflated 4%)\n",
            "  adding: pretrain_work_dir/data/frame_energy/test_0_31.npy (deflated 3%)\n",
            "  adding: pretrain_work_dir/data/frame_energy/test_0_32.npy (deflated 5%)\n",
            "  adding: pretrain_work_dir/data/frame_energy/test_0_13.npy (deflated 4%)\n",
            "  adding: pretrain_work_dir/data/frame_energy/test_0_18.npy (deflated 3%)\n",
            "  adding: pretrain_work_dir/data/frame_energy/test_0_23.npy (deflated 4%)\n",
            "  adding: pretrain_work_dir/data/frame_energy/test_0_12.npy (deflated 4%)\n",
            "  adding: pretrain_work_dir/data/frame_energy/test_0_6.npy (deflated 4%)\n",
            "  adding: pretrain_work_dir/data/frame_energy/test_0_11.npy (deflated 4%)\n",
            "  adding: pretrain_work_dir/data/frame_energy/test_0_7.npy (deflated 5%)\n",
            "  adding: pretrain_work_dir/data/frame_energy/test_0_17.npy (deflated 4%)\n",
            "  adding: pretrain_work_dir/data/frame_energy/test_0_27.npy (deflated 4%)\n",
            "  adding: pretrain_work_dir/data/frame_energy/test_0_5.npy (deflated 4%)\n",
            "  adding: pretrain_work_dir/data/frame_energy/test_0_26.npy (deflated 4%)\n",
            "  adding: pretrain_work_dir/data/frame_energy/test_0_3.npy (deflated 4%)\n",
            "  adding: pretrain_work_dir/data/frame_energy/test_0_24.npy (deflated 4%)\n",
            "  adding: pretrain_work_dir/data/am_valid.lst (deflated 88%)\n",
            "  adding: pretrain_work_dir/data/se/ (stored 0%)\n",
            "  adding: pretrain_work_dir/data/se/test_0_15.npy (deflated 5%)\n",
            "  adding: pretrain_work_dir/data/se/test_0_0.npy (deflated 5%)\n",
            "  adding: pretrain_work_dir/data/se/test_0_21.npy (deflated 5%)\n",
            "  adding: pretrain_work_dir/data/se/test_0_10.npy (deflated 5%)\n",
            "  adding: pretrain_work_dir/data/se/test_0_28.npy (deflated 5%)\n",
            "  adding: pretrain_work_dir/data/se/test_0_8.npy (deflated 5%)\n",
            "  adding: pretrain_work_dir/data/se/test_0_19.npy (deflated 6%)\n",
            "  adding: pretrain_work_dir/data/se/test_0_22.npy (deflated 6%)\n",
            "  adding: pretrain_work_dir/data/se/test_0_9.npy (deflated 5%)\n",
            "  adding: pretrain_work_dir/data/se/test_0_20.npy (deflated 6%)\n",
            "  adding: pretrain_work_dir/data/se/test_0_1.npy (deflated 6%)\n",
            "  adding: pretrain_work_dir/data/se/test_0_25.npy (deflated 5%)\n",
            "  adding: pretrain_work_dir/data/se/test_0_29.npy (deflated 5%)\n",
            "  adding: pretrain_work_dir/data/se/test_0_16.npy (deflated 5%)\n",
            "  adding: pretrain_work_dir/data/se/test_0_33.npy (deflated 5%)\n",
            "  adding: pretrain_work_dir/data/se/test_0_14.npy (deflated 5%)\n",
            "  adding: pretrain_work_dir/data/se/test_0_2.npy (deflated 5%)\n",
            "  adding: pretrain_work_dir/data/se/test_0_4.npy (deflated 5%)\n",
            "  adding: pretrain_work_dir/data/se/test_0_31.npy (deflated 5%)\n",
            "  adding: pretrain_work_dir/data/se/test_0_32.npy (deflated 5%)\n",
            "  adding: pretrain_work_dir/data/se/test_0_13.npy (deflated 5%)\n",
            "  adding: pretrain_work_dir/data/se/test_0_18.npy (deflated 5%)\n",
            "  adding: pretrain_work_dir/data/se/test_0_23.npy (deflated 5%)\n",
            "  adding: pretrain_work_dir/data/se/test_0_12.npy (deflated 6%)\n",
            "  adding: pretrain_work_dir/data/se/test_0_6.npy (deflated 5%)\n",
            "  adding: pretrain_work_dir/data/se/test_0_11.npy (deflated 5%)\n",
            "  adding: pretrain_work_dir/data/se/test_0_7.npy (deflated 5%)\n",
            "  adding: pretrain_work_dir/data/se/test_0_17.npy (deflated 5%)\n",
            "  adding: pretrain_work_dir/data/se/test_0_27.npy (deflated 6%)\n",
            "  adding: pretrain_work_dir/data/se/se.npy (deflated 5%)\n",
            "  adding: pretrain_work_dir/data/se/test_0_5.npy (deflated 5%)\n",
            "  adding: pretrain_work_dir/data/se/test_0_26.npy (deflated 5%)\n",
            "  adding: pretrain_work_dir/data/se/test_0_3.npy (deflated 5%)\n",
            "  adding: pretrain_work_dir/data/se/test_0_24.npy (deflated 6%)\n",
            "  adding: pretrain_work_dir/data/wav/ (stored 0%)\n",
            "  adding: pretrain_work_dir/data/wav/test_0_23.wav (deflated 16%)\n",
            "  adding: pretrain_work_dir/data/wav/test_0_1.wav (deflated 20%)\n",
            "  adding: pretrain_work_dir/data/wav/test_0_28.wav (deflated 16%)\n",
            "  adding: pretrain_work_dir/data/wav/test_0_16.wav (deflated 11%)\n",
            "  adding: pretrain_work_dir/data/wav/test_0_24.wav (deflated 11%)\n",
            "  adding: pretrain_work_dir/data/wav/test_0_11.wav (deflated 19%)\n",
            "  adding: pretrain_work_dir/data/wav/test_0_19.wav (deflated 19%)\n",
            "  adding: pretrain_work_dir/data/wav/test_0_9.wav (deflated 17%)\n",
            "  adding: pretrain_work_dir/data/wav/test_0_6.wav (deflated 12%)\n",
            "  adding: pretrain_work_dir/data/wav/test_0_14.wav (deflated 11%)\n",
            "  adding: pretrain_work_dir/data/wav/test_0_15.wav (deflated 10%)\n",
            "  adding: pretrain_work_dir/data/wav/test_0_27.wav (deflated 14%)\n",
            "  adding: pretrain_work_dir/data/wav/test_0_26.wav (deflated 10%)\n",
            "  adding: pretrain_work_dir/data/wav/test_0_33.wav (deflated 12%)\n",
            "  adding: pretrain_work_dir/data/wav/test_0_22.wav (deflated 14%)\n",
            "  adding: pretrain_work_dir/data/wav/test_0_3.wav (deflated 13%)\n",
            "  adding: pretrain_work_dir/data/wav/test_0_25.wav (deflated 25%)\n",
            "  adding: pretrain_work_dir/data/wav/test_0_10.wav (deflated 20%)\n",
            "  adding: pretrain_work_dir/data/wav/test_0_21.wav (deflated 19%)\n",
            "  adding: pretrain_work_dir/data/wav/test_0_13.wav (deflated 11%)\n",
            "  adding: pretrain_work_dir/data/wav/test_0_7.wav (deflated 17%)\n",
            "  adding: pretrain_work_dir/data/wav/test_0_17.wav (deflated 13%)\n",
            "  adding: pretrain_work_dir/data/wav/test_0_0.wav (deflated 16%)\n",
            "  adding: pretrain_work_dir/data/wav/test_0_5.wav (deflated 25%)\n",
            "  adding: pretrain_work_dir/data/wav/test_0_12.wav (deflated 23%)\n",
            "  adding: pretrain_work_dir/data/wav/test_0_2.wav (deflated 15%)\n",
            "  adding: pretrain_work_dir/data/wav/test_0_31.wav (deflated 11%)\n",
            "  adding: pretrain_work_dir/data/wav/test_0_8.wav (deflated 7%)\n",
            "  adding: pretrain_work_dir/data/wav/test_0_32.wav (deflated 12%)\n",
            "  adding: pretrain_work_dir/data/wav/test_0_18.wav (deflated 11%)\n",
            "  adding: pretrain_work_dir/data/wav/test_0_20.wav (deflated 17%)\n",
            "  adding: pretrain_work_dir/data/wav/test_0_29.wav (deflated 22%)\n",
            "  adding: pretrain_work_dir/data/wav/test_0_4.wav (deflated 10%)\n",
            "  adding: pretrain_work_dir/data/valid.lst (stored 0%)\n",
            "  adding: pretrain_work_dir/data/audio_config.yaml (deflated 38%)\n",
            "  adding: pretrain_work_dir/data/raw_duration/ (stored 0%)\n",
            "  adding: pretrain_work_dir/data/raw_duration/test_0_15.npy (deflated 65%)\n",
            "  adding: pretrain_work_dir/data/raw_duration/test_0_0.npy (deflated 56%)\n",
            "  adding: pretrain_work_dir/data/raw_duration/test_0_21.npy (deflated 65%)\n",
            "  adding: pretrain_work_dir/data/raw_duration/test_0_32.phone (deflated 23%)\n",
            "  adding: pretrain_work_dir/data/raw_duration/test_0_10.npy (deflated 66%)\n",
            "  adding: pretrain_work_dir/data/raw_duration/test_0_28.npy (deflated 61%)\n",
            "  adding: pretrain_work_dir/data/raw_duration/test_0_8.npy (deflated 64%)\n",
            "  adding: pretrain_work_dir/data/raw_duration/test_0_3.phone (deflated 20%)\n",
            "  adding: pretrain_work_dir/data/raw_duration/test_0_19.npy (deflated 62%)\n",
            "  adding: pretrain_work_dir/data/raw_duration/test_0_22.npy (deflated 58%)\n",
            "  adding: pretrain_work_dir/data/raw_duration/test_0_9.phone (deflated 21%)\n",
            "  adding: pretrain_work_dir/data/raw_duration/test_0_21.phone (deflated 19%)\n",
            "  adding: pretrain_work_dir/data/raw_duration/test_0_14.phone (deflated 26%)\n",
            "  adding: pretrain_work_dir/data/raw_duration/test_0_9.npy (deflated 66%)\n",
            "  adding: pretrain_work_dir/data/raw_duration/test_0_20.npy (deflated 63%)\n",
            "  adding: pretrain_work_dir/data/raw_duration/test_0_1.npy (deflated 63%)\n",
            "  adding: pretrain_work_dir/data/raw_duration/test_0_25.npy (deflated 64%)\n",
            "  adding: pretrain_work_dir/data/raw_duration/test_0_29.npy (deflated 67%)\n",
            "  adding: pretrain_work_dir/data/raw_duration/test_0_18.phone (deflated 7%)\n",
            "  adding: pretrain_work_dir/data/raw_duration/test_0_16.npy (deflated 67%)\n",
            "  adding: pretrain_work_dir/data/raw_duration/test_0_33.npy (deflated 58%)\n",
            "  adding: pretrain_work_dir/data/raw_duration/test_0_15.phone (deflated 13%)\n",
            "  adding: pretrain_work_dir/data/raw_duration/test_0_14.npy (deflated 68%)\n",
            "  adding: pretrain_work_dir/data/raw_duration/test_0_1.phone (deflated 13%)\n",
            "  adding: pretrain_work_dir/data/raw_duration/test_0_2.npy (deflated 64%)\n",
            "  adding: pretrain_work_dir/data/raw_duration/test_0_13.phone (deflated 3%)\n",
            "  adding: pretrain_work_dir/data/raw_duration/test_0_4.npy (deflated 63%)\n",
            "  adding: pretrain_work_dir/data/raw_duration/test_0_31.npy (deflated 65%)\n",
            "  adding: pretrain_work_dir/data/raw_duration/test_0_10.phone (deflated 28%)\n",
            "  adding: pretrain_work_dir/data/raw_duration/test_0_16.phone (deflated 26%)\n",
            "  adding: pretrain_work_dir/data/raw_duration/test_0_0.phone (deflated 3%)\n",
            "  adding: pretrain_work_dir/data/raw_duration/test_0_5.phone (stored 0%)\n",
            "  adding: pretrain_work_dir/data/raw_duration/test_0_22.phone (deflated 2%)\n",
            "  adding: pretrain_work_dir/data/raw_duration/test_0_32.npy (deflated 67%)\n",
            "  adding: pretrain_work_dir/data/raw_duration/test_0_7.phone (deflated 21%)\n",
            "  adding: pretrain_work_dir/data/raw_duration/test_0_13.npy (deflated 60%)\n",
            "  adding: pretrain_work_dir/data/raw_duration/test_0_18.npy (deflated 63%)\n",
            "  adding: pretrain_work_dir/data/raw_duration/test_0_4.phone (deflated 9%)\n",
            "  adding: pretrain_work_dir/data/raw_duration/test_0_28.phone (deflated 7%)\n",
            "  adding: pretrain_work_dir/data/raw_duration/test_0_23.phone (deflated 31%)\n",
            "  adding: pretrain_work_dir/data/raw_duration/test_0_2.phone (deflated 13%)\n",
            "  adding: pretrain_work_dir/data/raw_duration/test_0_23.npy (deflated 68%)\n",
            "  adding: pretrain_work_dir/data/raw_duration/test_0_12.npy (deflated 61%)\n",
            "  adding: pretrain_work_dir/data/raw_duration/test_0_6.npy (deflated 68%)\n",
            "  adding: pretrain_work_dir/data/raw_duration/test_0_31.phone (deflated 14%)\n",
            "  adding: pretrain_work_dir/data/raw_duration/test_0_11.npy (deflated 63%)\n",
            "  adding: pretrain_work_dir/data/raw_duration/test_0_7.npy (deflated 67%)\n",
            "  adding: pretrain_work_dir/data/raw_duration/test_0_19.phone (deflated 7%)\n",
            "  adding: pretrain_work_dir/data/raw_duration/test_0_6.phone (deflated 22%)\n",
            "  adding: pretrain_work_dir/data/raw_duration/test_0_25.phone (deflated 8%)\n",
            "  adding: pretrain_work_dir/data/raw_duration/test_0_20.phone (deflated 2%)\n",
            "  adding: pretrain_work_dir/data/raw_duration/test_0_29.phone (deflated 22%)\n",
            "  adding: pretrain_work_dir/data/raw_duration/test_0_26.phone (deflated 15%)\n",
            "  adding: pretrain_work_dir/data/raw_duration/test_0_17.npy (deflated 69%)\n",
            "  adding: pretrain_work_dir/data/raw_duration/test_0_27.npy (deflated 64%)\n",
            "  adding: pretrain_work_dir/data/raw_duration/test_0_24.phone (deflated 7%)\n",
            "  adding: pretrain_work_dir/data/raw_duration/test_0_27.phone (deflated 15%)\n",
            "  adding: pretrain_work_dir/data/raw_duration/test_0_33.phone (stored 0%)\n",
            "  adding: pretrain_work_dir/data/raw_duration/test_0_8.phone (deflated 12%)\n",
            "  adding: pretrain_work_dir/data/raw_duration/test_0_11.phone (stored 0%)\n",
            "  adding: pretrain_work_dir/data/raw_duration/test_0_5.npy (deflated 58%)\n",
            "  adding: pretrain_work_dir/data/raw_duration/test_0_26.npy (deflated 65%)\n",
            "  adding: pretrain_work_dir/data/raw_duration/test_0_17.phone (deflated 26%)\n",
            "  adding: pretrain_work_dir/data/raw_duration/test_0_3.npy (deflated 66%)\n",
            "  adding: pretrain_work_dir/data/raw_duration/test_0_12.phone (deflated 25%)\n",
            "  adding: pretrain_work_dir/data/raw_duration/test_0_24.npy (deflated 62%)\n",
            "  adding: pretrain_work_dir/data/train.lst (deflated 74%)\n",
            "  adding: pretrain_work_dir/data/Script.xml (deflated 92%)\n",
            "  adding: pretrain_work_dir/data/raw_metafile.txt (deflated 96%)\n",
            "  adding: pretrain_work_dir/data/am_train.lst (deflated 95%)\n",
            "  adding: pretrain_work_dir/data/frame_f0/ (stored 0%)\n",
            "  adding: pretrain_work_dir/data/frame_f0/test_0_15.npy (deflated 5%)\n",
            "  adding: pretrain_work_dir/data/frame_f0/test_0_0.npy (deflated 5%)\n",
            "  adding: pretrain_work_dir/data/frame_f0/test_0_21.npy (deflated 6%)\n",
            "  adding: pretrain_work_dir/data/frame_f0/test_0_10.npy (deflated 6%)\n",
            "  adding: pretrain_work_dir/data/frame_f0/test_0_28.npy (deflated 6%)\n",
            "  adding: pretrain_work_dir/data/frame_f0/test_0_8.npy (deflated 4%)\n",
            "  adding: pretrain_work_dir/data/frame_f0/test_0_19.npy (deflated 5%)\n",
            "  adding: pretrain_work_dir/data/frame_f0/test_0_22.npy (deflated 9%)\n",
            "  adding: pretrain_work_dir/data/frame_f0/test_0_9.npy (deflated 6%)\n",
            "  adding: pretrain_work_dir/data/frame_f0/test_0_20.npy (deflated 5%)\n",
            "  adding: pretrain_work_dir/data/frame_f0/test_0_1.npy (deflated 5%)\n",
            "  adding: pretrain_work_dir/data/frame_f0/test_0_25.npy (deflated 6%)\n",
            "  adding: pretrain_work_dir/data/frame_f0/test_0_29.npy (deflated 6%)\n",
            "  adding: pretrain_work_dir/data/frame_f0/test_0_16.npy (deflated 7%)\n",
            "  adding: pretrain_work_dir/data/frame_f0/test_0_33.npy (deflated 7%)\n",
            "  adding: pretrain_work_dir/data/frame_f0/test_0_14.npy (deflated 6%)\n",
            "  adding: pretrain_work_dir/data/frame_f0/test_0_2.npy (deflated 8%)\n",
            "  adding: pretrain_work_dir/data/frame_f0/test_0_4.npy (deflated 6%)\n",
            "  adding: pretrain_work_dir/data/frame_f0/test_0_31.npy (deflated 5%)\n",
            "  adding: pretrain_work_dir/data/frame_f0/test_0_32.npy (deflated 6%)\n",
            "  adding: pretrain_work_dir/data/frame_f0/test_0_13.npy (deflated 19%)\n",
            "  adding: pretrain_work_dir/data/frame_f0/test_0_18.npy (deflated 6%)\n",
            "  adding: pretrain_work_dir/data/frame_f0/test_0_23.npy (deflated 6%)\n",
            "  adding: pretrain_work_dir/data/frame_f0/test_0_12.npy (deflated 6%)\n",
            "  adding: pretrain_work_dir/data/frame_f0/test_0_6.npy (deflated 6%)\n",
            "  adding: pretrain_work_dir/data/frame_f0/test_0_11.npy (deflated 5%)\n",
            "  adding: pretrain_work_dir/data/frame_f0/test_0_7.npy (deflated 7%)\n",
            "  adding: pretrain_work_dir/data/frame_f0/test_0_17.npy (deflated 10%)\n",
            "  adding: pretrain_work_dir/data/frame_f0/test_0_27.npy (deflated 7%)\n",
            "  adding: pretrain_work_dir/data/frame_f0/test_0_5.npy (deflated 16%)\n",
            "  adding: pretrain_work_dir/data/frame_f0/test_0_26.npy (deflated 6%)\n",
            "  adding: pretrain_work_dir/data/frame_f0/test_0_3.npy (deflated 10%)\n",
            "  adding: pretrain_work_dir/data/frame_f0/test_0_24.npy (deflated 8%)\n",
            "  adding: pretrain_work_dir/data/duration/ (stored 0%)\n",
            "  adding: pretrain_work_dir/data/duration/test_0_15.npy (deflated 67%)\n",
            "  adding: pretrain_work_dir/data/duration/test_0_0.npy (deflated 59%)\n",
            "  adding: pretrain_work_dir/data/duration/test_0_21.npy (deflated 68%)\n",
            "  adding: pretrain_work_dir/data/duration/test_0_10.npy (deflated 68%)\n",
            "  adding: pretrain_work_dir/data/duration/test_0_28.npy (deflated 62%)\n",
            "  adding: pretrain_work_dir/data/duration/test_0_8.npy (deflated 67%)\n",
            "  adding: pretrain_work_dir/data/duration/test_0_19.npy (deflated 61%)\n",
            "  adding: pretrain_work_dir/data/duration/test_0_22.npy (deflated 62%)\n",
            "  adding: pretrain_work_dir/data/duration/test_0_9.npy (deflated 68%)\n",
            "  adding: pretrain_work_dir/data/duration/test_0_20.npy (deflated 62%)\n",
            "  adding: pretrain_work_dir/data/duration/test_0_1.npy (deflated 65%)\n",
            "  adding: pretrain_work_dir/data/duration/test_0_25.npy (deflated 65%)\n",
            "  adding: pretrain_work_dir/data/duration/test_0_29.npy (deflated 68%)\n",
            "  adding: pretrain_work_dir/data/duration/test_0_16.npy (deflated 69%)\n",
            "  adding: pretrain_work_dir/data/duration/test_0_33.npy (deflated 60%)\n",
            "  adding: pretrain_work_dir/data/duration/test_0_14.npy (deflated 69%)\n",
            "  adding: pretrain_work_dir/data/duration/test_0_2.npy (deflated 66%)\n",
            "  adding: pretrain_work_dir/data/duration/test_0_4.npy (deflated 66%)\n",
            "  adding: pretrain_work_dir/data/duration/test_0_31.npy (deflated 67%)\n",
            "  adding: pretrain_work_dir/data/duration/test_0_32.npy (deflated 70%)\n",
            "  adding: pretrain_work_dir/data/duration/test_0_13.npy (deflated 63%)\n",
            "  adding: pretrain_work_dir/data/duration/test_0_18.npy (deflated 66%)\n",
            "  adding: pretrain_work_dir/data/duration/test_0_23.npy (deflated 70%)\n",
            "  adding: pretrain_work_dir/data/duration/test_0_12.npy (deflated 64%)\n",
            "  adding: pretrain_work_dir/data/duration/test_0_6.npy (deflated 69%)\n",
            "  adding: pretrain_work_dir/data/duration/test_0_11.npy (deflated 64%)\n",
            "  adding: pretrain_work_dir/data/duration/test_0_17.npy (deflated 71%)\n",
            "  adding: pretrain_work_dir/data/duration/test_0_27.npy (deflated 66%)\n",
            "  adding: pretrain_work_dir/data/duration/test_0_5.npy (deflated 60%)\n",
            "  adding: pretrain_work_dir/data/duration/test_0_26.npy (deflated 68%)\n",
            "  adding: pretrain_work_dir/data/duration/test_0_3.npy (deflated 67%)\n",
            "  adding: pretrain_work_dir/data/duration/test_0_24.npy (deflated 65%)\n",
            "  adding: pretrain_work_dir/orig_model/ (stored 0%)\n",
            "  adding: pretrain_work_dir/orig_model/resource.zip (stored 0%)\n",
            "  adding: pretrain_work_dir/orig_model/basemodel_16k/ (stored 0%)\n",
            "  adding: pretrain_work_dir/orig_model/basemodel_16k/sambert/ (stored 0%)\n",
            "  adding: pretrain_work_dir/orig_model/basemodel_16k/sambert/config.yaml (deflated 61%)\n",
            "  adding: pretrain_work_dir/orig_model/basemodel_16k/sambert/ckpt/ (stored 0%)\n",
            "  adding: pretrain_work_dir/orig_model/basemodel_16k/sambert/ckpt/checkpoint_2400000.pth (deflated 10%)\n",
            "  adding: pretrain_work_dir/orig_model/basemodel_16k/audio_config_se_16k.yaml (deflated 44%)\n",
            "  adding: pretrain_work_dir/orig_model/basemodel_16k/speaker_embedding/ (stored 0%)\n",
            "  adding: pretrain_work_dir/orig_model/basemodel_16k/speaker_embedding/se.onnx (deflated 8%)\n",
            "  adding: pretrain_work_dir/orig_model/basemodel_16k/speaker_embedding/se.model (deflated 8%)\n",
            "  adding: pretrain_work_dir/orig_model/basemodel_16k/hifigan/ (stored 0%)\n",
            "  adding: pretrain_work_dir/orig_model/basemodel_16k/hifigan/config.yaml (deflated 70%)\n",
            "  adding: pretrain_work_dir/orig_model/basemodel_16k/hifigan/ckpt/ (stored 0%)\n",
            "  adding: pretrain_work_dir/orig_model/basemodel_16k/hifigan/ckpt/checkpoint_2400000.pth (deflated 8%)\n",
            "  adding: pretrain_work_dir/orig_model/resource/ (stored 0%)\n",
            "  adding: pretrain_work_dir/orig_model/resource/ws_hk/ (stored 0%)\n",
            "  adding: pretrain_work_dir/orig_model/resource/ws_hk/xiaoyan.dict (deflated 66%)\n",
            "  adding: pretrain_work_dir/orig_model/resource/ws_hk/pos_hmm.dict (deflated 60%)\n",
            "  adding: pretrain_work_dir/orig_model/resource/ws_hk/ivr.dict (deflated 75%)\n",
            "  adding: pretrain_work_dir/orig_model/resource/ws_hk/ws-dfa-rule.dict (deflated 96%)\n",
            "  adding: pretrain_work_dir/orig_model/resource/ws_hk/puncNumberTimeLetter.dict (deflated 100%)\n",
            "  adding: pretrain_work_dir/orig_model/resource/ws_hk/AliTokenizer_example.conf (deflated 31%)\n",
            "  adding: pretrain_work_dir/orig_model/resource/festival/ (stored 0%)\n",
            "  adding: pretrain_work_dir/orig_model/resource/festival/fringe.scm (deflated 66%)\n",
            "  adding: pretrain_work_dir/orig_model/resource/festival/tobi.scm (deflated 76%)\n",
            "  adding: pretrain_work_dir/orig_model/resource/festival/languages.scm (deflated 69%)\n",
            "  adding: pretrain_work_dir/orig_model/resource/festival/duration.scm (deflated 68%)\n",
            "  adding: pretrain_work_dir/orig_model/resource/festival/apml_f2bf0lr.scm (deflated 86%)\n",
            "  adding: pretrain_work_dir/orig_model/resource/festival/siteinit.scm (deflated 61%)\n",
            "  adding: pretrain_work_dir/orig_model/resource/festival/voices/ (stored 0%)\n",
            "  adding: pretrain_work_dir/orig_model/resource/festival/voices/english/ (stored 0%)\n",
            "  adding: pretrain_work_dir/orig_model/resource/festival/voices/english/rab_diphone/ (stored 0%)\n",
            "  adding: pretrain_work_dir/orig_model/resource/festival/voices/english/rab_diphone/COPYING (deflated 57%)\n",
            "  adding: pretrain_work_dir/orig_model/resource/festival/voices/english/rab_diphone/group/ (stored 0%)\n",
            "  adding: pretrain_work_dir/orig_model/resource/festival/voices/english/rab_diphone/group/rablpc16k.group (deflated 29%)\n",
            "  adding: pretrain_work_dir/orig_model/resource/festival/voices/english/rab_diphone/festvox/ (stored 0%)\n",
            "  adding: pretrain_work_dir/orig_model/resource/festival/voices/english/rab_diphone/festvox/rab_diphone.scm (deflated 69%)\n",
            "  adding: pretrain_work_dir/orig_model/resource/festival/voices/english/kal_diphone/ (stored 0%)\n",
            "  adding: pretrain_work_dir/orig_model/resource/festival/voices/english/kal_diphone/COPYING (deflated 57%)\n",
            "  adding: pretrain_work_dir/orig_model/resource/festival/voices/english/kal_diphone/group/ (stored 0%)\n",
            "  adding: pretrain_work_dir/orig_model/resource/festival/voices/english/kal_diphone/group/kallpc16k.group (deflated 33%)\n",
            "  adding: pretrain_work_dir/orig_model/resource/festival/voices/english/kal_diphone/festvox/ (stored 0%)\n",
            "  adding: pretrain_work_dir/orig_model/resource/festival/voices/english/kal_diphone/festvox/kal_diphone.scm (deflated 69%)\n",
            "  adding: pretrain_work_dir/orig_model/resource/festival/voices/english/kal_diphone/festvox/kaldurtreeZ.scm (deflated 76%)\n",
            "  adding: pretrain_work_dir/orig_model/resource/festival/f2bf0lr.scm (deflated 71%)\n",
            "  adding: pretrain_work_dir/orig_model/resource/festival/etc/ (stored 0%)\n",
            "  adding: pretrain_work_dir/orig_model/resource/festival/etc/email_filter (deflated 66%)\n",
            "  adding: pretrain_work_dir/orig_model/resource/festival/apml.scm (deflated 72%)\n",
            "  adding: pretrain_work_dir/orig_model/resource/festival/mrpa_allophones.scm (deflated 70%)\n",
            "  adding: pretrain_work_dir/orig_model/resource/festival/singing-mode.scm (deflated 73%)\n",
            "  adding: pretrain_work_dir/orig_model/resource/festival/sec.B.hept.ngrambin (deflated 65%)\n",
            "  adding: pretrain_work_dir/orig_model/resource/festival/klatt_durs.scm (deflated 64%)\n",
            "  adding: pretrain_work_dir/orig_model/resource/festival/gswdurtreeZ.scm (deflated 77%)\n",
            "  adding: pretrain_work_dir/orig_model/resource/festival/cart_aux.scm (deflated 68%)\n",
            "  adding: pretrain_work_dir/orig_model/resource/festival/lexicons.scm (deflated 67%)\n",
            "  adding: pretrain_work_dir/orig_model/resource/festival/Singing.v0_1.dtd (deflated 64%)\n",
            "  adding: pretrain_work_dir/orig_model/resource/festival/module_description.scm (deflated 67%)\n",
            "  adding: pretrain_work_dir/orig_model/resource/festival/siod.scm (deflated 66%)\n",
            "  adding: pretrain_work_dir/orig_model/resource/festival/darpa_phones.scm (deflated 71%)\n",
            "  adding: pretrain_work_dir/orig_model/resource/festival/postlex.scm (deflated 75%)\n",
            "  adding: pretrain_work_dir/orig_model/resource/festival/hts.scm (deflated 83%)\n",
            "  adding: pretrain_work_dir/orig_model/resource/festival/lts.scm (deflated 70%)\n",
            "  adding: pretrain_work_dir/orig_model/resource/festival/engmorphsyn.scm (deflated 65%)\n",
            "  adding: pretrain_work_dir/orig_model/resource/festival/multisyn/ (stored 0%)\n",
            "  adding: pretrain_work_dir/orig_model/resource/festival/multisyn/multisyn_pauses.scm (deflated 64%)\n",
            "  adding: pretrain_work_dir/orig_model/resource/festival/multisyn/multisyn.scm (deflated 65%)\n",
            "  adding: pretrain_work_dir/orig_model/resource/festival/multisyn/radio_phones_multisyn.scm (deflated 69%)\n",
            "  adding: pretrain_work_dir/orig_model/resource/festival/multisyn/send_xwaves.scm (deflated 70%)\n",
            "  adding: pretrain_work_dir/orig_model/resource/festival/multisyn/target_cost.scm (deflated 71%)\n",
            "  adding: pretrain_work_dir/orig_model/resource/festival/pos.scm (deflated 66%)\n",
            "  adding: pretrain_work_dir/orig_model/resource/festival/festival.scm (deflated 70%)\n",
            "  adding: pretrain_work_dir/orig_model/resource/festival/festdoc.scm (deflated 63%)\n",
            "  adding: pretrain_work_dir/orig_model/resource/festival/web.scm (deflated 63%)\n",
            "  adding: pretrain_work_dir/orig_model/resource/festival/mbrola.scm (deflated 63%)\n",
            "  adding: pretrain_work_dir/orig_model/resource/festival/dicts/ (stored 0%)\n",
            "  adding: pretrain_work_dir/orig_model/resource/festival/dicts/wsj.wp39.tri.ngrambin (deflated 84%)\n",
            "  adding: pretrain_work_dir/orig_model/resource/festival/dicts/cmu/ (stored 0%)\n",
            "  adding: pretrain_work_dir/orig_model/resource/festival/dicts/cmu/cmudict-0.4.out (deflated 83%)\n",
            "  adding: pretrain_work_dir/orig_model/resource/festival/dicts/cmu/cmudict-0.4.scm (deflated 80%)\n",
            "  adding: pretrain_work_dir/orig_model/resource/festival/dicts/cmu/cmudict-0.4.diff (deflated 86%)\n",
            "  adding: pretrain_work_dir/orig_model/resource/festival/dicts/cmu/cmulex.scm (deflated 75%)\n",
            "  adding: pretrain_work_dir/orig_model/resource/festival/dicts/cmu/COPYING (deflated 57%)\n",
            "  adding: pretrain_work_dir/orig_model/resource/festival/dicts/cmu/cmu_lts_rules.scm (deflated 90%)\n",
            "  adding: pretrain_work_dir/orig_model/resource/festival/dicts/cmu/cmudict_extensions.scm (deflated 64%)\n",
            "  adding: pretrain_work_dir/orig_model/resource/festival/dicts/cmu/cmu2ft (deflated 41%)\n",
            "  adding: pretrain_work_dir/orig_model/resource/festival/dicts/cmu/cmudict_compile.scm (deflated 64%)\n",
            "  adding: pretrain_work_dir/orig_model/resource/festival/dicts/cmu/allowables.scm (deflated 73%)\n",
            "  adding: pretrain_work_dir/orig_model/resource/festival/dicts/oald/ (stored 0%)\n",
            "  adding: pretrain_work_dir/orig_model/resource/festival/dicts/oald/oaldlex.scm (deflated 75%)\n",
            "  adding: pretrain_work_dir/orig_model/resource/festival/dicts/oald/oald_lts_rules.scm (deflated 92%)\n",
            "  adding: pretrain_work_dir/orig_model/resource/festival/dicts/oald/COPYING (deflated 63%)\n",
            "  adding: pretrain_work_dir/orig_model/resource/festival/dicts/oald/oald_extensions.scm (deflated 65%)\n",
            "  adding: pretrain_work_dir/orig_model/resource/festival/dicts/oald/ali.oald.lex (deflated 83%)\n",
            "  adding: pretrain_work_dir/orig_model/resource/festival/dicts/wsj.wp39.poslexR (deflated 82%)\n",
            "  adding: pretrain_work_dir/orig_model/resource/festival/cstr.scm (deflated 65%)\n",
            "  adding: pretrain_work_dir/orig_model/resource/festival/phrase.scm (deflated 63%)\n",
            "  adding: pretrain_work_dir/orig_model/resource/festival/festival.el (deflated 69%)\n",
            "  adding: pretrain_work_dir/orig_model/resource/festival/cslush.scm (deflated 61%)\n",
            "  adding: pretrain_work_dir/orig_model/resource/festival/scfg.scm (deflated 63%)\n",
            "  adding: pretrain_work_dir/orig_model/resource/festival/cmusphinx2_phones.scm (deflated 68%)\n",
            "  adding: pretrain_work_dir/orig_model/resource/festival/tokenpos.scm (deflated 64%)\n",
            "  adding: pretrain_work_dir/orig_model/resource/festival/mrpa_durs.scm (deflated 63%)\n",
            "  adding: pretrain_work_dir/orig_model/resource/festival/email-mode.scm (deflated 64%)\n",
            "  adding: pretrain_work_dir/orig_model/resource/festival/ogimarkup-mode.scm (deflated 68%)\n",
            "  adding: pretrain_work_dir/orig_model/resource/festival/sec.ts20.quad.ngrambin (deflated 87%)\n",
            "  adding: pretrain_work_dir/orig_model/resource/festival/engmorph.scm (deflated 71%)\n",
            "  adding: pretrain_work_dir/orig_model/resource/festival/synthesis.scm (deflated 75%)\n",
            "  adding: pretrain_work_dir/orig_model/resource/festival/mrpa_phones.scm (deflated 70%)\n",
            "  adding: pretrain_work_dir/orig_model/resource/festival/VCLocalRules (deflated 18%)\n",
            "  adding: pretrain_work_dir/orig_model/resource/festival/tobi_rules.scm (deflated 74%)\n",
            "  adding: pretrain_work_dir/orig_model/resource/festival/Sable.v0_2.dtd (deflated 68%)\n",
            "  adding: pretrain_work_dir/orig_model/resource/festival/phoneset.scm (deflated 66%)\n",
            "  adding: pretrain_work_dir/orig_model/resource/festival/soleml-mode.scm (deflated 74%)\n",
            "  adding: pretrain_work_dir/orig_model/resource/festival/speech.properties (deflated 28%)\n",
            "  adding: pretrain_work_dir/orig_model/resource/festival/tts.scm (deflated 64%)\n",
            "  adding: pretrain_work_dir/orig_model/resource/festival/radio_phones.scm (deflated 68%)\n",
            "  adding: pretrain_work_dir/orig_model/resource/festival/token.scm (deflated 76%)\n",
            "  adding: pretrain_work_dir/orig_model/resource/festival/apml_kaldurtreeZ.scm (deflated 76%)\n",
            "  adding: pretrain_work_dir/orig_model/resource/festival/intonation.scm (deflated 66%)\n",
            "  adding: pretrain_work_dir/orig_model/resource/festival/f2bdurtreeZ.scm (deflated 78%)\n",
            "  adding: pretrain_work_dir/orig_model/resource/festival/sable-latin.ent (deflated 69%)\n",
            "  adding: pretrain_work_dir/orig_model/resource/festival/init.scm (deflated 67%)\n",
            "  adding: pretrain_work_dir/orig_model/resource/festival/clunits_build.scm (deflated 72%)\n",
            "  adding: pretrain_work_dir/orig_model/resource/festival/scfg_wsj_wp20.gram (deflated 68%)\n",
            "  adding: pretrain_work_dir/orig_model/resource/festival/unilex_phones.scm (deflated 75%)\n",
            "  adding: pretrain_work_dir/orig_model/resource/festival/clunits.scm (deflated 72%)\n",
            "  adding: pretrain_work_dir/orig_model/resource/festival/display.scm (deflated 66%)\n",
            "  adding: pretrain_work_dir/orig_model/resource/festival/pauses.scm (deflated 72%)\n",
            "  adding: pretrain_work_dir/orig_model/resource/festival/tilt.scm (deflated 75%)\n",
            "  adding: pretrain_work_dir/orig_model/resource/festival/mettree.scm (deflated 61%)\n",
            "  adding: pretrain_work_dir/orig_model/resource/festival/java.scm (deflated 64%)\n",
            "  adding: pretrain_work_dir/orig_model/resource/festival/sable-mode.scm (deflated 74%)\n",
            "  adding: pretrain_work_dir/orig_model/resource/festival/lts_build.scm (deflated 74%)\n",
            "  adding: pretrain_work_dir/orig_model/resource/festival/voices.scm (deflated 69%)\n",
            "  adding: pretrain_work_dir/orig_model/resource/festival/festtest.scm (deflated 67%)\n",
            "  adding: pretrain_work_dir/orig_model/resource/festival/holmes_phones.scm (deflated 68%)\n",
            "  adding: pretrain_work_dir/orig_model/resource/jprsc/ (stored 0%)\n",
            "  adding: pretrain_work_dir/orig_model/resource/jprsc/right-id.def (deflated 87%)\n",
            "  adding: pretrain_work_dir/orig_model/resource/jprsc/unk.dic (deflated 87%)\n",
            "  adding: pretrain_work_dir/orig_model/resource/jprsc/COPYING (deflated 78%)\n",
            "  adding: pretrain_work_dir/orig_model/resource/jprsc/pos-id.def (deflated 67%)\n",
            "  adding: pretrain_work_dir/orig_model/resource/jprsc/char.bin (deflated 100%)\n",
            "  adding: pretrain_work_dir/orig_model/resource/jprsc/left-id.def (deflated 87%)\n",
            "  adding: pretrain_work_dir/orig_model/resource/jprsc/matrix.bin (deflated 52%)\n",
            "  adding: pretrain_work_dir/orig_model/resource/jprsc/rewrite.def (deflated 85%)\n",
            "  adding: pretrain_work_dir/orig_model/resource/jprsc/sys.dic (deflated 79%)\n",
            "  adding: pretrain_work_dir/orig_model/resource/ws/ (stored 0%)\n",
            "  adding: pretrain_work_dir/orig_model/resource/ws/xiaoyan.dict (deflated 67%)\n",
            "  adding: pretrain_work_dir/orig_model/resource/ws/pos_hmm.dict (deflated 60%)\n",
            "  adding: pretrain_work_dir/orig_model/resource/ws/crf_model (deflated 66%)\n",
            "  adding: pretrain_work_dir/orig_model/resource/ws/ivr.dict (deflated 75%)\n",
            "  adding: pretrain_work_dir/orig_model/resource/ws/ws-dfa-rule.dict (deflated 96%)\n",
            "  adding: pretrain_work_dir/orig_model/resource/ws/puncNumberTimeLetter.dict (deflated 100%)\n",
            "  adding: pretrain_work_dir/orig_model/resource/ws/AliTokenizer_example.conf (deflated 31%)\n",
            "  adding: pretrain_work_dir/orig_model/resource/ws_chhk/ (stored 0%)\n",
            "  adding: pretrain_work_dir/orig_model/resource/ws_chhk/xiaoyan.dict (deflated 67%)\n",
            "  adding: pretrain_work_dir/orig_model/resource/ws_chhk/pos_hmm.dict (deflated 60%)\n",
            "  adding: pretrain_work_dir/orig_model/resource/ws_chhk/ivr.dict (deflated 75%)\n",
            "  adding: pretrain_work_dir/orig_model/resource/ws_chhk/ws-dfa-rule.dict (deflated 96%)\n",
            "  adding: pretrain_work_dir/orig_model/resource/ws_chhk/puncNumberTimeLetter.dict (deflated 100%)\n",
            "  adding: pretrain_work_dir/orig_model/resource/ws_chhk/AliTokenizer_example.conf (deflated 31%)\n",
            "  adding: pretrain_work_dir/orig_model/resource/languagedata_embedded.bin (deflated 23%)\n",
            "  adding: pretrain_work_dir/orig_model/resource/ws_chsh/ (stored 0%)\n",
            "  adding: pretrain_work_dir/orig_model/resource/ws_chsh/xiaoyan.dict (deflated 68%)\n",
            "  adding: pretrain_work_dir/orig_model/resource/ws_chsh/pos_hmm.dict (deflated 60%)\n",
            "  adding: pretrain_work_dir/orig_model/resource/ws_chsh/ivr.dict (deflated 75%)\n",
            "  adding: pretrain_work_dir/orig_model/resource/ws_chsh/ws-dfa-rule.dict (deflated 96%)\n",
            "  adding: pretrain_work_dir/orig_model/resource/ws_chsh/puncNumberTimeLetter.dict (deflated 100%)\n",
            "  adding: pretrain_work_dir/orig_model/resource/ws_chsh/AliTokenizer_example.conf (deflated 31%)\n",
            "  adding: pretrain_work_dir/orig_model/resource/ws_zhsc/ (stored 0%)\n",
            "  adding: pretrain_work_dir/orig_model/resource/ws_zhsc/xiaoyan.dict (deflated 67%)\n",
            "  adding: pretrain_work_dir/orig_model/resource/ws_zhsc/pos_hmm.dict (deflated 60%)\n",
            "  adding: pretrain_work_dir/orig_model/resource/ws_zhsc/crf_model (deflated 66%)\n",
            "  adding: pretrain_work_dir/orig_model/resource/ws_zhsc/ivr.dict (deflated 75%)\n",
            "  adding: pretrain_work_dir/orig_model/resource/ws_zhsc/ws-dfa-rule.dict (deflated 96%)\n",
            "  adding: pretrain_work_dir/orig_model/resource/ws_zhsc/puncNumberTimeLetter.dict (deflated 100%)\n",
            "  adding: pretrain_work_dir/orig_model/resource/ws_zhsc/AliTokenizer_example.conf (deflated 31%)\n",
            "  adding: pretrain_work_dir/orig_model/description/ (stored 0%)\n",
            "  adding: pretrain_work_dir/orig_model/description/sambert.jpg (deflated 22%)\n",
            "  adding: pretrain_work_dir/orig_model/description/notebook_steps/ (stored 0%)\n",
            "  adding: pretrain_work_dir/orig_model/description/notebook_steps/autolabel_setting.jpg (deflated 28%)\n",
            "  adding: pretrain_work_dir/orig_model/description/notebook_steps/autolabel_done.jpg (deflated 31%)\n",
            "  adding: pretrain_work_dir/orig_model/description/notebook_steps/upload_wavs.jpg (deflated 37%)\n",
            "  adding: pretrain_work_dir/orig_model/description/notebook_steps/fetch_nltk_data.jpg (deflated 28%)\n",
            "  adding: pretrain_work_dir/orig_model/description/notebook_steps/inference_play.jpg (deflated 22%)\n",
            "  adding: pretrain_work_dir/orig_model/description/notebook_steps/training.jpg (deflated 15%)\n",
            "  adding: pretrain_work_dir/orig_model/description/notebook_steps/inference.jpg (deflated 23%)\n",
            "  adding: pretrain_work_dir/orig_model/description/notebook_steps/build_trainer.jpg (deflated 28%)\n",
            "  adding: pretrain_work_dir/orig_model/description/ptts_normal.png (deflated 15%)\n",
            "  adding: pretrain_work_dir/orig_model/description/tts-system.jpg (deflated 39%)\n",
            "  adding: pretrain_work_dir/orig_model/description/wav/ (stored 0%)\n",
            "  adding: pretrain_work_dir/orig_model/description/wav/ptts/ (stored 0%)\n",
            "  adding: pretrain_work_dir/orig_model/description/wav/ptts/6.wav (deflated 11%)\n",
            "  adding: pretrain_work_dir/orig_model/description/wav/ptts/8.wav (deflated 18%)\n",
            "  adding: pretrain_work_dir/orig_model/description/wav/ptts/7.wav (deflated 15%)\n",
            "  adding: pretrain_work_dir/orig_model/description/wav/record/ (stored 0%)\n",
            "  adding: pretrain_work_dir/orig_model/description/wav/record/SSB00180500.wav (deflated 20%)\n",
            "  adding: pretrain_work_dir/orig_model/description/wav/record/SSB00180503.wav (deflated 26%)\n",
            "  adding: pretrain_work_dir/orig_model/description/wav/record/SSB00180288.wav (deflated 20%)\n",
            "  adding: pretrain_work_dir/orig_model/description/ptts_structure.png (deflated 12%)\n",
            "  adding: pretrain_work_dir/orig_model/description/speaker_embedding.png (deflated 11%)\n",
            "  adding: pretrain_work_dir/orig_model/description/hifigan.jpg (deflated 35%)\n",
            "  adding: pretrain_work_dir/orig_model/description/aishell3.png (deflated 19%)\n",
            "  adding: pretrain_work_dir/orig_model/description/ptts_vs_normal.png (deflated 10%)\n",
            "  adding: pretrain_work_dir/orig_model/.msc (deflated 73%)\n",
            "  adding: pretrain_work_dir/orig_model/README.md (deflated 61%)\n",
            "  adding: pretrain_work_dir/orig_model/configuration.json (deflated 72%)\n",
            "  adding: pretrain_work_dir/orig_model/.mdl (deflated 2%)\n"
          ]
        }
      ]
    },
    {
      "cell_type": "code",
      "source": [],
      "metadata": {
        "id": "soFE76hH-te7"
      },
      "execution_count": null,
      "outputs": []
    }
  ]
}