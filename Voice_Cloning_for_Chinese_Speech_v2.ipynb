{
  "nbformat": 4,
  "nbformat_minor": 0,
  "metadata": {
    "colab": {
      "provenance": [],
      "machine_shape": "hm",
      "gpuType": "V100",
      "authorship_tag": "ABX9TyPrbeVJ7frVli6PgrKoG+no",
      "include_colab_link": true
    },
    "kernelspec": {
      "name": "python3",
      "display_name": "Python 3"
    },
    "language_info": {
      "name": "python"
    },
    "accelerator": "GPU"
  },
  "cells": [
    {
      "cell_type": "markdown",
      "metadata": {
        "id": "view-in-github",
        "colab_type": "text"
      },
      "source": [
        "<a href=\"https://colab.research.google.com/github/KevinWang676/Bark-Voice-Cloning/blob/main/Voice_Cloning_for_Chinese_Speech_v2.ipynb\" target=\"_parent\"><img src=\"https://colab.research.google.com/assets/colab-badge.svg\" alt=\"Open In Colab\"/></a>"
      ]
    },
    {
      "cell_type": "markdown",
      "source": [
        "# 全新中文声音克隆 Voice Cloning for Chinese Speech"
      ],
      "metadata": {
        "id": "Uhhc4_stcdSf"
      }
    },
    {
      "cell_type": "markdown",
      "source": [
        "## 配置环境 Set up"
      ],
      "metadata": {
        "id": "qIFF53SWVDe-"
      }
    },
    {
      "cell_type": "code",
      "source": [
        "! nvidia-smi # 需要使用GPU运行"
      ],
      "metadata": {
        "id": "4RZJ1P69VKLU",
        "colab": {
          "base_uri": "https://localhost:8080/"
        },
        "outputId": "845e9a7e-0efe-4086-aa10-73bd8401ed9c"
      },
      "execution_count": 1,
      "outputs": [
        {
          "output_type": "stream",
          "name": "stdout",
          "text": [
            "Sun Aug 27 14:10:07 2023       \n",
            "+-----------------------------------------------------------------------------+\n",
            "| NVIDIA-SMI 525.105.17   Driver Version: 525.105.17   CUDA Version: 12.0     |\n",
            "|-------------------------------+----------------------+----------------------+\n",
            "| GPU  Name        Persistence-M| Bus-Id        Disp.A | Volatile Uncorr. ECC |\n",
            "| Fan  Temp  Perf  Pwr:Usage/Cap|         Memory-Usage | GPU-Util  Compute M. |\n",
            "|                               |                      |               MIG M. |\n",
            "|===============================+======================+======================|\n",
            "|   0  Tesla V100-SXM2...  Off  | 00000000:00:04.0 Off |                    0 |\n",
            "| N/A   33C    P0    23W / 300W |      0MiB / 16384MiB |      0%      Default |\n",
            "|                               |                      |                  N/A |\n",
            "+-------------------------------+----------------------+----------------------+\n",
            "                                                                               \n",
            "+-----------------------------------------------------------------------------+\n",
            "| Processes:                                                                  |\n",
            "|  GPU   GI   CI        PID   Type   Process name                  GPU Memory |\n",
            "|        ID   ID                                                   Usage      |\n",
            "|=============================================================================|\n",
            "|  No running processes found                                                 |\n",
            "+-----------------------------------------------------------------------------+\n"
          ]
        }
      ]
    },
    {
      "cell_type": "code",
      "source": [
        "! pip install openai-whisper\n",
        "! pip install modelscope\n",
        "! pip install tts-autolabel -f https://modelscope.oss-cn-beijing.aliyuncs.com/releases/repo.html\n",
        "! pip install typeguard==2.3.1\n",
        "! pip install sox\n",
        "! pip install bitstring\n",
        "! pip install pysptk --no-build-isolation\n",
        "! pip install kantts -f https://modelscope.oss-cn-beijing.aliyuncs.com/releases/repo.html\n",
        "! pip install pytorch_wavelets\n",
        "! pip install tensorboardX\n",
        "! git clone https://github.com/fbcotter/pytorch_wavelets\n",
        "! pip install matplotlib\n",
        "! pip install numpy==1.22.0"
      ],
      "metadata": {
        "id": "s2aAbOEPaVh6",
        "colab": {
          "base_uri": "https://localhost:8080/",
          "height": 1000
        },
        "outputId": "f78dc7c8-1728-493a-bca7-b12f04d4a969"
      },
      "execution_count": 2,
      "outputs": [
        {
          "output_type": "stream",
          "name": "stdout",
          "text": [
            "Collecting openai-whisper\n",
            "  Downloading openai-whisper-20230314.tar.gz (792 kB)\n",
            "\u001b[2K     \u001b[90m━━━━━━━━━━━━━━━━━━━━━━━━━━━━━━━━━━━━━━━\u001b[0m \u001b[32m792.9/792.9 kB\u001b[0m \u001b[31m8.7 MB/s\u001b[0m eta \u001b[36m0:00:00\u001b[0m\n",
            "\u001b[?25h  Installing build dependencies ... \u001b[?25l\u001b[?25hdone\n",
            "  Getting requirements to build wheel ... \u001b[?25l\u001b[?25hdone\n",
            "  Preparing metadata (pyproject.toml) ... \u001b[?25l\u001b[?25hdone\n",
            "Requirement already satisfied: triton==2.0.0 in /usr/local/lib/python3.10/dist-packages (from openai-whisper) (2.0.0)\n",
            "Requirement already satisfied: numba in /usr/local/lib/python3.10/dist-packages (from openai-whisper) (0.56.4)\n",
            "Requirement already satisfied: numpy in /usr/local/lib/python3.10/dist-packages (from openai-whisper) (1.23.5)\n",
            "Requirement already satisfied: torch in /usr/local/lib/python3.10/dist-packages (from openai-whisper) (2.0.1+cu118)\n",
            "Requirement already satisfied: tqdm in /usr/local/lib/python3.10/dist-packages (from openai-whisper) (4.66.1)\n",
            "Requirement already satisfied: more-itertools in /usr/local/lib/python3.10/dist-packages (from openai-whisper) (10.1.0)\n",
            "Collecting tiktoken==0.3.1 (from openai-whisper)\n",
            "  Downloading tiktoken-0.3.1-cp310-cp310-manylinux_2_17_x86_64.manylinux2014_x86_64.whl (1.7 MB)\n",
            "\u001b[2K     \u001b[90m━━━━━━━━━━━━━━━━━━━━━━━━━━━━━━━━━━━━━━━━\u001b[0m \u001b[32m1.7/1.7 MB\u001b[0m \u001b[31m22.1 MB/s\u001b[0m eta \u001b[36m0:00:00\u001b[0m\n",
            "\u001b[?25hCollecting ffmpeg-python==0.2.0 (from openai-whisper)\n",
            "  Downloading ffmpeg_python-0.2.0-py3-none-any.whl (25 kB)\n",
            "Requirement already satisfied: future in /usr/local/lib/python3.10/dist-packages (from ffmpeg-python==0.2.0->openai-whisper) (0.18.3)\n",
            "Requirement already satisfied: regex>=2022.1.18 in /usr/local/lib/python3.10/dist-packages (from tiktoken==0.3.1->openai-whisper) (2023.6.3)\n",
            "Requirement already satisfied: requests>=2.26.0 in /usr/local/lib/python3.10/dist-packages (from tiktoken==0.3.1->openai-whisper) (2.31.0)\n",
            "Requirement already satisfied: cmake in /usr/local/lib/python3.10/dist-packages (from triton==2.0.0->openai-whisper) (3.27.2)\n",
            "Requirement already satisfied: filelock in /usr/local/lib/python3.10/dist-packages (from triton==2.0.0->openai-whisper) (3.12.2)\n",
            "Requirement already satisfied: lit in /usr/local/lib/python3.10/dist-packages (from triton==2.0.0->openai-whisper) (16.0.6)\n",
            "Requirement already satisfied: llvmlite<0.40,>=0.39.0dev0 in /usr/local/lib/python3.10/dist-packages (from numba->openai-whisper) (0.39.1)\n",
            "Requirement already satisfied: setuptools in /usr/local/lib/python3.10/dist-packages (from numba->openai-whisper) (67.7.2)\n",
            "Requirement already satisfied: typing-extensions in /usr/local/lib/python3.10/dist-packages (from torch->openai-whisper) (4.7.1)\n",
            "Requirement already satisfied: sympy in /usr/local/lib/python3.10/dist-packages (from torch->openai-whisper) (1.12)\n",
            "Requirement already satisfied: networkx in /usr/local/lib/python3.10/dist-packages (from torch->openai-whisper) (3.1)\n",
            "Requirement already satisfied: jinja2 in /usr/local/lib/python3.10/dist-packages (from torch->openai-whisper) (3.1.2)\n",
            "Requirement already satisfied: charset-normalizer<4,>=2 in /usr/local/lib/python3.10/dist-packages (from requests>=2.26.0->tiktoken==0.3.1->openai-whisper) (3.2.0)\n",
            "Requirement already satisfied: idna<4,>=2.5 in /usr/local/lib/python3.10/dist-packages (from requests>=2.26.0->tiktoken==0.3.1->openai-whisper) (3.4)\n",
            "Requirement already satisfied: urllib3<3,>=1.21.1 in /usr/local/lib/python3.10/dist-packages (from requests>=2.26.0->tiktoken==0.3.1->openai-whisper) (2.0.4)\n",
            "Requirement already satisfied: certifi>=2017.4.17 in /usr/local/lib/python3.10/dist-packages (from requests>=2.26.0->tiktoken==0.3.1->openai-whisper) (2023.7.22)\n",
            "Requirement already satisfied: MarkupSafe>=2.0 in /usr/local/lib/python3.10/dist-packages (from jinja2->torch->openai-whisper) (2.1.3)\n",
            "Requirement already satisfied: mpmath>=0.19 in /usr/local/lib/python3.10/dist-packages (from sympy->torch->openai-whisper) (1.3.0)\n",
            "Building wheels for collected packages: openai-whisper\n",
            "  Building wheel for openai-whisper (pyproject.toml) ... \u001b[?25l\u001b[?25hdone\n",
            "  Created wheel for openai-whisper: filename=openai_whisper-20230314-py3-none-any.whl size=796907 sha256=28fb6d17d817dae9ec5c67db1738b946523e588d53e9ef65baf02f9142a80139\n",
            "  Stored in directory: /root/.cache/pip/wheels/b2/13/5f/fe8245f6dc59df505879da4b2129932e342f02a80e6b87f27d\n",
            "Successfully built openai-whisper\n",
            "Installing collected packages: ffmpeg-python, tiktoken, openai-whisper\n",
            "Successfully installed ffmpeg-python-0.2.0 openai-whisper-20230314 tiktoken-0.3.1\n",
            "Collecting modelscope\n",
            "  Downloading modelscope-1.8.4-py3-none-any.whl (4.9 MB)\n",
            "\u001b[2K     \u001b[90m━━━━━━━━━━━━━━━━━━━━━━━━━━━━━━━━━━━━━━━━\u001b[0m \u001b[32m4.9/4.9 MB\u001b[0m \u001b[31m21.9 MB/s\u001b[0m eta \u001b[36m0:00:00\u001b[0m\n",
            "\u001b[?25hCollecting addict (from modelscope)\n",
            "  Downloading addict-2.4.0-py3-none-any.whl (3.8 kB)\n",
            "Requirement already satisfied: attrs in /usr/local/lib/python3.10/dist-packages (from modelscope) (23.1.0)\n",
            "Collecting datasets<=2.13.0,>=2.8.0 (from modelscope)\n",
            "  Downloading datasets-2.13.0-py3-none-any.whl (485 kB)\n",
            "\u001b[2K     \u001b[90m━━━━━━━━━━━━━━━━━━━━━━━━━━━━━━━━━━━━━━\u001b[0m \u001b[32m485.6/485.6 kB\u001b[0m \u001b[31m31.4 MB/s\u001b[0m eta \u001b[36m0:00:00\u001b[0m\n",
            "\u001b[?25hCollecting einops (from modelscope)\n",
            "  Downloading einops-0.6.1-py3-none-any.whl (42 kB)\n",
            "\u001b[2K     \u001b[90m━━━━━━━━━━━━━━━━━━━━━━━━━━━━━━━━━━━━━━━━\u001b[0m \u001b[32m42.2/42.2 kB\u001b[0m \u001b[31m5.2 MB/s\u001b[0m eta \u001b[36m0:00:00\u001b[0m\n",
            "\u001b[?25hRequirement already satisfied: filelock>=3.3.0 in /usr/local/lib/python3.10/dist-packages (from modelscope) (3.12.2)\n",
            "Requirement already satisfied: gast>=0.2.2 in /usr/local/lib/python3.10/dist-packages (from modelscope) (0.4.0)\n",
            "Requirement already satisfied: numpy in /usr/local/lib/python3.10/dist-packages (from modelscope) (1.23.5)\n",
            "Collecting oss2 (from modelscope)\n",
            "  Downloading oss2-2.18.1.tar.gz (274 kB)\n",
            "\u001b[2K     \u001b[90m━━━━━━━━━━━━━━━━━━━━━━━━━━━━━━━━━━━━━━\u001b[0m \u001b[32m274.3/274.3 kB\u001b[0m \u001b[31m31.5 MB/s\u001b[0m eta \u001b[36m0:00:00\u001b[0m\n",
            "\u001b[?25h  Preparing metadata (setup.py) ... \u001b[?25l\u001b[?25hdone\n",
            "Requirement already satisfied: pandas in /usr/local/lib/python3.10/dist-packages (from modelscope) (1.5.3)\n",
            "Requirement already satisfied: Pillow>=6.2.0 in /usr/local/lib/python3.10/dist-packages (from modelscope) (9.4.0)\n",
            "Collecting pyarrow!=9.0.0,>=6.0.0 (from modelscope)\n",
            "  Downloading pyarrow-13.0.0-cp310-cp310-manylinux_2_28_x86_64.whl (40.0 MB)\n",
            "\u001b[2K     \u001b[90m━━━━━━━━━━━━━━━━━━━━━━━━━━━━━━━━━━━━━━━━\u001b[0m \u001b[32m40.0/40.0 MB\u001b[0m \u001b[31m41.5 MB/s\u001b[0m eta \u001b[36m0:00:00\u001b[0m\n",
            "\u001b[?25hRequirement already satisfied: python-dateutil>=2.1 in /usr/local/lib/python3.10/dist-packages (from modelscope) (2.8.2)\n",
            "Requirement already satisfied: pyyaml in /usr/local/lib/python3.10/dist-packages (from modelscope) (6.0.1)\n",
            "Requirement already satisfied: requests>=2.25 in /usr/local/lib/python3.10/dist-packages (from modelscope) (2.31.0)\n",
            "Requirement already satisfied: scipy in /usr/local/lib/python3.10/dist-packages (from modelscope) (1.10.1)\n",
            "Requirement already satisfied: setuptools in /usr/local/lib/python3.10/dist-packages (from modelscope) (67.7.2)\n",
            "Collecting simplejson>=3.3.0 (from modelscope)\n",
            "  Downloading simplejson-3.19.1-cp310-cp310-manylinux_2_5_x86_64.manylinux1_x86_64.manylinux_2_17_x86_64.manylinux2014_x86_64.whl (137 kB)\n",
            "\u001b[2K     \u001b[90m━━━━━━━━━━━━━━━━━━━━━━━━━━━━━━━━━━━━━━\u001b[0m \u001b[32m137.9/137.9 kB\u001b[0m \u001b[31m16.6 MB/s\u001b[0m eta \u001b[36m0:00:00\u001b[0m\n",
            "\u001b[?25hRequirement already satisfied: sortedcontainers>=1.5.9 in /usr/local/lib/python3.10/dist-packages (from modelscope) (2.4.0)\n",
            "Requirement already satisfied: tqdm>=4.64.0 in /usr/local/lib/python3.10/dist-packages (from modelscope) (4.66.1)\n",
            "Requirement already satisfied: urllib3>=1.26 in /usr/local/lib/python3.10/dist-packages (from modelscope) (2.0.4)\n",
            "Collecting yapf (from modelscope)\n",
            "  Downloading yapf-0.40.1-py3-none-any.whl (250 kB)\n",
            "\u001b[2K     \u001b[90m━━━━━━━━━━━━━━━━━━━━━━━━━━━━━━━━━━━━━━\u001b[0m \u001b[32m250.3/250.3 kB\u001b[0m \u001b[31m29.4 MB/s\u001b[0m eta \u001b[36m0:00:00\u001b[0m\n",
            "\u001b[?25hCollecting dill<0.3.7,>=0.3.0 (from datasets<=2.13.0,>=2.8.0->modelscope)\n",
            "  Downloading dill-0.3.6-py3-none-any.whl (110 kB)\n",
            "\u001b[2K     \u001b[90m━━━━━━━━━━━━━━━━━━━━━━━━━━━━━━━━━━━━━━━\u001b[0m \u001b[32m110.5/110.5 kB\u001b[0m \u001b[31m5.6 MB/s\u001b[0m eta \u001b[36m0:00:00\u001b[0m\n",
            "\u001b[?25hCollecting xxhash (from datasets<=2.13.0,>=2.8.0->modelscope)\n",
            "  Downloading xxhash-3.3.0-cp310-cp310-manylinux_2_17_x86_64.manylinux2014_x86_64.whl (194 kB)\n",
            "\u001b[2K     \u001b[90m━━━━━━━━━━━━━━━━━━━━━━━━━━━━━━━━━━━━━━\u001b[0m \u001b[32m194.1/194.1 kB\u001b[0m \u001b[31m22.5 MB/s\u001b[0m eta \u001b[36m0:00:00\u001b[0m\n",
            "\u001b[?25hCollecting multiprocess (from datasets<=2.13.0,>=2.8.0->modelscope)\n",
            "  Downloading multiprocess-0.70.15-py310-none-any.whl (134 kB)\n",
            "\u001b[2K     \u001b[90m━━━━━━━━━━━━━━━━━━━━━━━━━━━━━━━━━━━━━━\u001b[0m \u001b[32m134.8/134.8 kB\u001b[0m \u001b[31m17.5 MB/s\u001b[0m eta \u001b[36m0:00:00\u001b[0m\n",
            "\u001b[?25hRequirement already satisfied: fsspec[http]>=2021.11.1 in /usr/local/lib/python3.10/dist-packages (from datasets<=2.13.0,>=2.8.0->modelscope) (2023.6.0)\n",
            "Requirement already satisfied: aiohttp in /usr/local/lib/python3.10/dist-packages (from datasets<=2.13.0,>=2.8.0->modelscope) (3.8.5)\n",
            "Collecting huggingface-hub<1.0.0,>=0.11.0 (from datasets<=2.13.0,>=2.8.0->modelscope)\n",
            "  Downloading huggingface_hub-0.16.4-py3-none-any.whl (268 kB)\n",
            "\u001b[2K     \u001b[90m━━━━━━━━━━━━━━━━━━━━━━━━━━━━━━━━━━━━━━\u001b[0m \u001b[32m268.8/268.8 kB\u001b[0m \u001b[31m30.2 MB/s\u001b[0m eta \u001b[36m0:00:00\u001b[0m\n",
            "\u001b[?25hRequirement already satisfied: packaging in /usr/local/lib/python3.10/dist-packages (from datasets<=2.13.0,>=2.8.0->modelscope) (23.1)\n",
            "Requirement already satisfied: six>=1.5 in /usr/local/lib/python3.10/dist-packages (from python-dateutil>=2.1->modelscope) (1.16.0)\n",
            "Requirement already satisfied: charset-normalizer<4,>=2 in /usr/local/lib/python3.10/dist-packages (from requests>=2.25->modelscope) (3.2.0)\n",
            "Requirement already satisfied: idna<4,>=2.5 in /usr/local/lib/python3.10/dist-packages (from requests>=2.25->modelscope) (3.4)\n",
            "Requirement already satisfied: certifi>=2017.4.17 in /usr/local/lib/python3.10/dist-packages (from requests>=2.25->modelscope) (2023.7.22)\n",
            "Collecting crcmod>=1.7 (from oss2->modelscope)\n",
            "  Downloading crcmod-1.7.tar.gz (89 kB)\n",
            "\u001b[2K     \u001b[90m━━━━━━━━━━━━━━━━━━━━━━━━━━━━━━━━━━━━━━━━\u001b[0m \u001b[32m89.7/89.7 kB\u001b[0m \u001b[31m11.8 MB/s\u001b[0m eta \u001b[36m0:00:00\u001b[0m\n",
            "\u001b[?25h  Preparing metadata (setup.py) ... \u001b[?25l\u001b[?25hdone\n",
            "Collecting pycryptodome>=3.4.7 (from oss2->modelscope)\n",
            "  Downloading pycryptodome-3.18.0-cp35-abi3-manylinux_2_17_x86_64.manylinux2014_x86_64.whl (2.1 MB)\n",
            "\u001b[2K     \u001b[90m━━━━━━━━━━━━━━━━━━━━━━━━━━━━━━━━━━━━━━━━\u001b[0m \u001b[32m2.1/2.1 MB\u001b[0m \u001b[31m96.3 MB/s\u001b[0m eta \u001b[36m0:00:00\u001b[0m\n",
            "\u001b[?25hCollecting aliyun-python-sdk-kms>=2.4.1 (from oss2->modelscope)\n",
            "  Downloading aliyun_python_sdk_kms-2.16.1-py2.py3-none-any.whl (70 kB)\n",
            "\u001b[2K     \u001b[90m━━━━━━━━━━━━━━━━━━━━━━━━━━━━━━━━━━━━━━━━\u001b[0m \u001b[32m70.8/70.8 kB\u001b[0m \u001b[31m9.3 MB/s\u001b[0m eta \u001b[36m0:00:00\u001b[0m\n",
            "\u001b[?25hCollecting aliyun-python-sdk-core>=2.13.12 (from oss2->modelscope)\n",
            "  Downloading aliyun-python-sdk-core-2.13.36.tar.gz (440 kB)\n",
            "\u001b[2K     \u001b[90m━━━━━━━━━━━━━━━━━━━━━━━━━━━━━━━━━━━━━━\u001b[0m \u001b[32m440.5/440.5 kB\u001b[0m \u001b[31m44.5 MB/s\u001b[0m eta \u001b[36m0:00:00\u001b[0m\n",
            "\u001b[?25h  Preparing metadata (setup.py) ... \u001b[?25l\u001b[?25hdone\n",
            "Requirement already satisfied: pytz>=2020.1 in /usr/local/lib/python3.10/dist-packages (from pandas->modelscope) (2023.3)\n",
            "Requirement already satisfied: importlib-metadata>=6.6.0 in /usr/local/lib/python3.10/dist-packages (from yapf->modelscope) (6.8.0)\n",
            "Requirement already satisfied: platformdirs>=3.5.1 in /usr/local/lib/python3.10/dist-packages (from yapf->modelscope) (3.10.0)\n",
            "Requirement already satisfied: tomli>=2.0.1 in /usr/local/lib/python3.10/dist-packages (from yapf->modelscope) (2.0.1)\n",
            "Collecting jmespath<1.0.0,>=0.9.3 (from aliyun-python-sdk-core>=2.13.12->oss2->modelscope)\n",
            "  Downloading jmespath-0.10.0-py2.py3-none-any.whl (24 kB)\n",
            "Requirement already satisfied: cryptography>=2.6.0 in /usr/local/lib/python3.10/dist-packages (from aliyun-python-sdk-core>=2.13.12->oss2->modelscope) (41.0.3)\n",
            "Requirement already satisfied: multidict<7.0,>=4.5 in /usr/local/lib/python3.10/dist-packages (from aiohttp->datasets<=2.13.0,>=2.8.0->modelscope) (6.0.4)\n",
            "Requirement already satisfied: async-timeout<5.0,>=4.0.0a3 in /usr/local/lib/python3.10/dist-packages (from aiohttp->datasets<=2.13.0,>=2.8.0->modelscope) (4.0.3)\n",
            "Requirement already satisfied: yarl<2.0,>=1.0 in /usr/local/lib/python3.10/dist-packages (from aiohttp->datasets<=2.13.0,>=2.8.0->modelscope) (1.9.2)\n",
            "Requirement already satisfied: frozenlist>=1.1.1 in /usr/local/lib/python3.10/dist-packages (from aiohttp->datasets<=2.13.0,>=2.8.0->modelscope) (1.4.0)\n",
            "Requirement already satisfied: aiosignal>=1.1.2 in /usr/local/lib/python3.10/dist-packages (from aiohttp->datasets<=2.13.0,>=2.8.0->modelscope) (1.3.1)\n",
            "Requirement already satisfied: typing-extensions>=3.7.4.3 in /usr/local/lib/python3.10/dist-packages (from huggingface-hub<1.0.0,>=0.11.0->datasets<=2.13.0,>=2.8.0->modelscope) (4.7.1)\n",
            "Requirement already satisfied: zipp>=0.5 in /usr/local/lib/python3.10/dist-packages (from importlib-metadata>=6.6.0->yapf->modelscope) (3.16.2)\n",
            "INFO: pip is looking at multiple versions of multiprocess to determine which version is compatible with other requirements. This could take a while.\n",
            "Collecting multiprocess (from datasets<=2.13.0,>=2.8.0->modelscope)\n",
            "  Downloading multiprocess-0.70.14-py310-none-any.whl (134 kB)\n",
            "\u001b[2K     \u001b[90m━━━━━━━━━━━━━━━━━━━━━━━━━━━━━━━━━━━━━━\u001b[0m \u001b[32m134.3/134.3 kB\u001b[0m \u001b[31m15.0 MB/s\u001b[0m eta \u001b[36m0:00:00\u001b[0m\n",
            "\u001b[?25hRequirement already satisfied: cffi>=1.12 in /usr/local/lib/python3.10/dist-packages (from cryptography>=2.6.0->aliyun-python-sdk-core>=2.13.12->oss2->modelscope) (1.15.1)\n",
            "Requirement already satisfied: pycparser in /usr/local/lib/python3.10/dist-packages (from cffi>=1.12->cryptography>=2.6.0->aliyun-python-sdk-core>=2.13.12->oss2->modelscope) (2.21)\n",
            "Building wheels for collected packages: oss2, aliyun-python-sdk-core, crcmod\n",
            "  Building wheel for oss2 (setup.py) ... \u001b[?25l\u001b[?25hdone\n",
            "  Created wheel for oss2: filename=oss2-2.18.1-py3-none-any.whl size=115175 sha256=b9e8ef9731e31fd7f4e03505f2462a62397eb28ae5079bd6f9e1f914790443c6\n",
            "  Stored in directory: /root/.cache/pip/wheels/54/b1/27/f9d5791a1f01ee0ad99c934aa0e1df3eaae375b5d5aa3da184\n",
            "  Building wheel for aliyun-python-sdk-core (setup.py) ... \u001b[?25l\u001b[?25hdone\n",
            "  Created wheel for aliyun-python-sdk-core: filename=aliyun_python_sdk_core-2.13.36-py3-none-any.whl size=533190 sha256=217d284255702c95174470f2646d5d0597137c6b102b3f4647f9b6a5a5ac15cf\n",
            "  Stored in directory: /root/.cache/pip/wheels/c0/f4/0e/87c534857132bd3bd2c4465c0b15b4db650cf6c15a876bda34\n",
            "  Building wheel for crcmod (setup.py) ... \u001b[?25l\u001b[?25hdone\n",
            "  Created wheel for crcmod: filename=crcmod-1.7-cp310-cp310-linux_x86_64.whl size=31402 sha256=23c498a0510f093c4f7e13b7eec8e2fda80c47fa982cb1a6841088f5ea0d754d\n",
            "  Stored in directory: /root/.cache/pip/wheels/85/4c/07/72215c529bd59d67e3dac29711d7aba1b692f543c808ba9e86\n",
            "Successfully built oss2 aliyun-python-sdk-core crcmod\n",
            "Installing collected packages: crcmod, addict, xxhash, simplejson, pycryptodome, pyarrow, jmespath, einops, dill, yapf, multiprocess, huggingface-hub, aliyun-python-sdk-core, datasets, aliyun-python-sdk-kms, oss2, modelscope\n",
            "  Attempting uninstall: pyarrow\n",
            "    Found existing installation: pyarrow 9.0.0\n",
            "    Uninstalling pyarrow-9.0.0:\n",
            "      Successfully uninstalled pyarrow-9.0.0\n",
            "\u001b[31mERROR: pip's dependency resolver does not currently take into account all the packages that are installed. This behaviour is the source of the following dependency conflicts.\n",
            "pandas-gbq 0.17.9 requires pyarrow<10.0dev,>=3.0.0, but you have pyarrow 13.0.0 which is incompatible.\u001b[0m\u001b[31m\n",
            "\u001b[0mSuccessfully installed addict-2.4.0 aliyun-python-sdk-core-2.13.36 aliyun-python-sdk-kms-2.16.1 crcmod-1.7 datasets-2.13.0 dill-0.3.6 einops-0.6.1 huggingface-hub-0.16.4 jmespath-0.10.0 modelscope-1.8.4 multiprocess-0.70.14 oss2-2.18.1 pyarrow-13.0.0 pycryptodome-3.18.0 simplejson-3.19.1 xxhash-3.3.0 yapf-0.40.1\n",
            "Looking in links: https://modelscope.oss-cn-beijing.aliyuncs.com/releases/repo.html\n",
            "Collecting tts-autolabel\n",
            "  Downloading https://modelscope.oss-cn-beijing.aliyuncs.com/releases/dependencies/kantts/tts_autolabel-1.1.8-py3-none-any.whl (117 kB)\n",
            "\u001b[2K     \u001b[90m━━━━━━━━━━━━━━━━━━━━━━━━━━━━━━━━━━━━━\u001b[0m \u001b[32m117.3/117.3 kB\u001b[0m \u001b[31m162.6 kB/s\u001b[0m eta \u001b[36m0:00:00\u001b[0m\n",
            "\u001b[?25hRequirement already satisfied: torch in /usr/local/lib/python3.10/dist-packages (from tts-autolabel) (2.0.1+cu118)\n",
            "Requirement already satisfied: torchaudio in /usr/local/lib/python3.10/dist-packages (from tts-autolabel) (2.0.2+cu118)\n",
            "Collecting onnxruntime (from tts-autolabel)\n",
            "  Downloading onnxruntime-1.15.1-cp310-cp310-manylinux_2_17_x86_64.manylinux2014_x86_64.whl (5.9 MB)\n",
            "\u001b[2K     \u001b[90m━━━━━━━━━━━━━━━━━━━━━━━━━━━━━━━━━━━━━━━━\u001b[0m \u001b[32m5.9/5.9 MB\u001b[0m \u001b[31m23.6 MB/s\u001b[0m eta \u001b[36m0:00:00\u001b[0m\n",
            "\u001b[?25hRequirement already satisfied: librosa in /usr/local/lib/python3.10/dist-packages (from tts-autolabel) (0.10.1)\n",
            "Collecting numpy<=1.23.1 (from tts-autolabel)\n",
            "  Downloading numpy-1.23.1-cp310-cp310-manylinux_2_17_x86_64.manylinux2014_x86_64.whl (17.0 MB)\n",
            "\u001b[2K     \u001b[90m━━━━━━━━━━━━━━━━━━━━━━━━━━━━━━━━━━━━━━━━\u001b[0m \u001b[32m17.0/17.0 MB\u001b[0m \u001b[31m72.4 MB/s\u001b[0m eta \u001b[36m0:00:00\u001b[0m\n",
            "\u001b[?25hCollecting sox (from tts-autolabel)\n",
            "  Downloading sox-1.4.1-py2.py3-none-any.whl (39 kB)\n",
            "Requirement already satisfied: pyyaml in /usr/local/lib/python3.10/dist-packages (from tts-autolabel) (6.0.1)\n",
            "Requirement already satisfied: tqdm in /usr/local/lib/python3.10/dist-packages (from tts-autolabel) (4.66.1)\n",
            "Requirement already satisfied: scipy in /usr/local/lib/python3.10/dist-packages (from tts-autolabel) (1.10.1)\n",
            "Collecting nls-fa (from tts-autolabel)\n",
            "  Downloading https://modelscope.oss-cn-beijing.aliyuncs.com/releases/dependencies/nls_fa-0.1-cp310-cp310-linux_x86_64.whl (1.2 MB)\n",
            "\u001b[2K     \u001b[90m━━━━━━━━━━━━━━━━━━━━━━━━━━━━━━━━━━━━━━━━\u001b[0m \u001b[32m1.2/1.2 MB\u001b[0m \u001b[31m746.8 kB/s\u001b[0m eta \u001b[36m0:00:00\u001b[0m\n",
            "\u001b[?25hCollecting kaldi-native-fbank (from tts-autolabel)\n",
            "  Downloading kaldi_native_fbank-1.18.4-cp310-cp310-manylinux_2_17_x86_64.manylinux2014_x86_64.whl (210 kB)\n",
            "\u001b[2K     \u001b[90m━━━━━━━━━━━━━━━━━━━━━━━━━━━━━━━━━━━━━━\u001b[0m \u001b[32m210.5/210.5 kB\u001b[0m \u001b[31m23.6 MB/s\u001b[0m eta \u001b[36m0:00:00\u001b[0m\n",
            "\u001b[?25hCollecting typeguard<=2.13.3 (from tts-autolabel)\n",
            "  Downloading typeguard-2.13.3-py3-none-any.whl (17 kB)\n",
            "Collecting ttsfrd>=0.2.1 (from tts-autolabel)\n",
            "  Downloading https://modelscope.oss-cn-beijing.aliyuncs.com/releases/dependencies/ttsfrd/linux/ttsfrd-0.2.1-cp310-cp310-linux_x86_64.whl (53.4 MB)\n",
            "\u001b[2K     \u001b[90m━━━━━━━━━━━━━━━━━━━━━━━━━━━━━━━━━━━━━━━━\u001b[0m \u001b[32m53.4/53.4 MB\u001b[0m \u001b[31m6.5 MB/s\u001b[0m eta \u001b[36m0:00:00\u001b[0m\n",
            "\u001b[?25hRequirement already satisfied: audioread>=2.1.9 in /usr/local/lib/python3.10/dist-packages (from librosa->tts-autolabel) (3.0.0)\n",
            "Requirement already satisfied: scikit-learn>=0.20.0 in /usr/local/lib/python3.10/dist-packages (from librosa->tts-autolabel) (1.2.2)\n",
            "Requirement already satisfied: joblib>=0.14 in /usr/local/lib/python3.10/dist-packages (from librosa->tts-autolabel) (1.3.2)\n",
            "Requirement already satisfied: decorator>=4.3.0 in /usr/local/lib/python3.10/dist-packages (from librosa->tts-autolabel) (4.4.2)\n",
            "Requirement already satisfied: numba>=0.51.0 in /usr/local/lib/python3.10/dist-packages (from librosa->tts-autolabel) (0.56.4)\n",
            "Requirement already satisfied: soundfile>=0.12.1 in /usr/local/lib/python3.10/dist-packages (from librosa->tts-autolabel) (0.12.1)\n",
            "Requirement already satisfied: pooch>=1.0 in /usr/local/lib/python3.10/dist-packages (from librosa->tts-autolabel) (1.7.0)\n",
            "Requirement already satisfied: soxr>=0.3.2 in /usr/local/lib/python3.10/dist-packages (from librosa->tts-autolabel) (0.3.6)\n",
            "Requirement already satisfied: typing-extensions>=4.1.1 in /usr/local/lib/python3.10/dist-packages (from librosa->tts-autolabel) (4.7.1)\n",
            "Requirement already satisfied: lazy-loader>=0.1 in /usr/local/lib/python3.10/dist-packages (from librosa->tts-autolabel) (0.3)\n",
            "Requirement already satisfied: msgpack>=1.0 in /usr/local/lib/python3.10/dist-packages (from librosa->tts-autolabel) (1.0.5)\n",
            "Collecting coloredlogs (from onnxruntime->tts-autolabel)\n",
            "  Downloading coloredlogs-15.0.1-py2.py3-none-any.whl (46 kB)\n",
            "\u001b[2K     \u001b[90m━━━━━━━━━━━━━━━━━━━━━━━━━━━━━━━━━━━━━━━━\u001b[0m \u001b[32m46.0/46.0 kB\u001b[0m \u001b[31m6.1 MB/s\u001b[0m eta \u001b[36m0:00:00\u001b[0m\n",
            "\u001b[?25hRequirement already satisfied: flatbuffers in /usr/local/lib/python3.10/dist-packages (from onnxruntime->tts-autolabel) (23.5.26)\n",
            "Requirement already satisfied: packaging in /usr/local/lib/python3.10/dist-packages (from onnxruntime->tts-autolabel) (23.1)\n",
            "Requirement already satisfied: protobuf in /usr/local/lib/python3.10/dist-packages (from onnxruntime->tts-autolabel) (3.20.3)\n",
            "Requirement already satisfied: sympy in /usr/local/lib/python3.10/dist-packages (from onnxruntime->tts-autolabel) (1.12)\n",
            "Requirement already satisfied: filelock in /usr/local/lib/python3.10/dist-packages (from torch->tts-autolabel) (3.12.2)\n",
            "Requirement already satisfied: networkx in /usr/local/lib/python3.10/dist-packages (from torch->tts-autolabel) (3.1)\n",
            "Requirement already satisfied: jinja2 in /usr/local/lib/python3.10/dist-packages (from torch->tts-autolabel) (3.1.2)\n",
            "Requirement already satisfied: triton==2.0.0 in /usr/local/lib/python3.10/dist-packages (from torch->tts-autolabel) (2.0.0)\n",
            "Requirement already satisfied: cmake in /usr/local/lib/python3.10/dist-packages (from triton==2.0.0->torch->tts-autolabel) (3.27.2)\n",
            "Requirement already satisfied: lit in /usr/local/lib/python3.10/dist-packages (from triton==2.0.0->torch->tts-autolabel) (16.0.6)\n",
            "Requirement already satisfied: llvmlite<0.40,>=0.39.0dev0 in /usr/local/lib/python3.10/dist-packages (from numba>=0.51.0->librosa->tts-autolabel) (0.39.1)\n",
            "Requirement already satisfied: setuptools in /usr/local/lib/python3.10/dist-packages (from numba>=0.51.0->librosa->tts-autolabel) (67.7.2)\n",
            "Requirement already satisfied: platformdirs>=2.5.0 in /usr/local/lib/python3.10/dist-packages (from pooch>=1.0->librosa->tts-autolabel) (3.10.0)\n",
            "Requirement already satisfied: requests>=2.19.0 in /usr/local/lib/python3.10/dist-packages (from pooch>=1.0->librosa->tts-autolabel) (2.31.0)\n",
            "Requirement already satisfied: threadpoolctl>=2.0.0 in /usr/local/lib/python3.10/dist-packages (from scikit-learn>=0.20.0->librosa->tts-autolabel) (3.2.0)\n",
            "Requirement already satisfied: cffi>=1.0 in /usr/local/lib/python3.10/dist-packages (from soundfile>=0.12.1->librosa->tts-autolabel) (1.15.1)\n",
            "Collecting humanfriendly>=9.1 (from coloredlogs->onnxruntime->tts-autolabel)\n",
            "  Downloading humanfriendly-10.0-py2.py3-none-any.whl (86 kB)\n",
            "\u001b[2K     \u001b[90m━━━━━━━━━━━━━━━━━━━━━━━━━━━━━━━━━━━━━━━━\u001b[0m \u001b[32m86.8/86.8 kB\u001b[0m \u001b[31m11.9 MB/s\u001b[0m eta \u001b[36m0:00:00\u001b[0m\n",
            "\u001b[?25hRequirement already satisfied: MarkupSafe>=2.0 in /usr/local/lib/python3.10/dist-packages (from jinja2->torch->tts-autolabel) (2.1.3)\n",
            "Requirement already satisfied: mpmath>=0.19 in /usr/local/lib/python3.10/dist-packages (from sympy->onnxruntime->tts-autolabel) (1.3.0)\n",
            "Requirement already satisfied: pycparser in /usr/local/lib/python3.10/dist-packages (from cffi>=1.0->soundfile>=0.12.1->librosa->tts-autolabel) (2.21)\n",
            "Requirement already satisfied: charset-normalizer<4,>=2 in /usr/local/lib/python3.10/dist-packages (from requests>=2.19.0->pooch>=1.0->librosa->tts-autolabel) (3.2.0)\n",
            "Requirement already satisfied: idna<4,>=2.5 in /usr/local/lib/python3.10/dist-packages (from requests>=2.19.0->pooch>=1.0->librosa->tts-autolabel) (3.4)\n",
            "Requirement already satisfied: urllib3<3,>=1.21.1 in /usr/local/lib/python3.10/dist-packages (from requests>=2.19.0->pooch>=1.0->librosa->tts-autolabel) (2.0.4)\n",
            "Requirement already satisfied: certifi>=2017.4.17 in /usr/local/lib/python3.10/dist-packages (from requests>=2.19.0->pooch>=1.0->librosa->tts-autolabel) (2023.7.22)\n",
            "Installing collected packages: typeguard, ttsfrd, numpy, nls-fa, kaldi-native-fbank, humanfriendly, sox, coloredlogs, onnxruntime, tts-autolabel\n",
            "  Attempting uninstall: numpy\n",
            "    Found existing installation: numpy 1.23.5\n",
            "    Uninstalling numpy-1.23.5:\n",
            "      Successfully uninstalled numpy-1.23.5\n",
            "\u001b[31mERROR: pip's dependency resolver does not currently take into account all the packages that are installed. This behaviour is the source of the following dependency conflicts.\n",
            "pandas-gbq 0.17.9 requires pyarrow<10.0dev,>=3.0.0, but you have pyarrow 13.0.0 which is incompatible.\u001b[0m\u001b[31m\n",
            "\u001b[0mSuccessfully installed coloredlogs-15.0.1 humanfriendly-10.0 kaldi-native-fbank-1.18.4 nls-fa-0.1 numpy-1.23.1 onnxruntime-1.15.1 sox-1.4.1 tts-autolabel-1.1.8 ttsfrd-0.2.1 typeguard-2.13.3\n"
          ]
        },
        {
          "output_type": "display_data",
          "data": {
            "application/vnd.colab-display-data+json": {
              "pip_warning": {
                "packages": [
                  "numpy"
                ]
              }
            }
          },
          "metadata": {}
        },
        {
          "output_type": "stream",
          "name": "stdout",
          "text": [
            "Collecting typeguard==2.3.1\n",
            "  Downloading typeguard-2.3.1-py3-none-any.whl (10 kB)\n",
            "Installing collected packages: typeguard\n",
            "  Attempting uninstall: typeguard\n",
            "    Found existing installation: typeguard 2.13.3\n",
            "    Uninstalling typeguard-2.13.3:\n",
            "      Successfully uninstalled typeguard-2.13.3\n",
            "Successfully installed typeguard-2.3.1\n",
            "Requirement already satisfied: sox in /usr/local/lib/python3.10/dist-packages (1.4.1)\n",
            "Requirement already satisfied: numpy>=1.9.0 in /usr/local/lib/python3.10/dist-packages (from sox) (1.23.1)\n",
            "Collecting bitstring\n",
            "  Downloading bitstring-4.1.1-py3-none-any.whl (56 kB)\n",
            "\u001b[2K     \u001b[90m━━━━━━━━━━━━━━━━━━━━━━━━━━━━━━━━━━━━━━━━\u001b[0m \u001b[32m56.8/56.8 kB\u001b[0m \u001b[31m1.9 MB/s\u001b[0m eta \u001b[36m0:00:00\u001b[0m\n",
            "\u001b[?25hCollecting bitarray<3.0.0,>=2.8.0 (from bitstring)\n",
            "  Downloading bitarray-2.8.1-cp310-cp310-manylinux_2_17_x86_64.manylinux2014_x86_64.whl (286 kB)\n",
            "\u001b[2K     \u001b[90m━━━━━━━━━━━━━━━━━━━━━━━━━━━━━━━━━━━━━━━\u001b[0m \u001b[32m286.2/286.2 kB\u001b[0m \u001b[31m8.9 MB/s\u001b[0m eta \u001b[36m0:00:00\u001b[0m\n",
            "\u001b[?25hInstalling collected packages: bitarray, bitstring\n",
            "Successfully installed bitarray-2.8.1 bitstring-4.1.1\n",
            "Collecting pysptk\n",
            "  Downloading pysptk-0.2.1.tar.gz (419 kB)\n",
            "\u001b[2K     \u001b[90m━━━━━━━━━━━━━━━━━━━━━━━━━━━━━━━━━━━━━━━\u001b[0m \u001b[32m419.7/419.7 kB\u001b[0m \u001b[31m7.6 MB/s\u001b[0m eta \u001b[36m0:00:00\u001b[0m\n",
            "\u001b[?25h  Preparing metadata (pyproject.toml) ... \u001b[?25l\u001b[?25hdone\n",
            "Requirement already satisfied: scipy in /usr/local/lib/python3.10/dist-packages (from pysptk) (1.10.1)\n",
            "Requirement already satisfied: decorator in /usr/local/lib/python3.10/dist-packages (from pysptk) (4.4.2)\n",
            "Requirement already satisfied: cython>=0.28.0 in /usr/local/lib/python3.10/dist-packages (from pysptk) (0.29.36)\n",
            "Requirement already satisfied: numpy<1.27.0,>=1.19.5 in /usr/local/lib/python3.10/dist-packages (from scipy->pysptk) (1.23.1)\n",
            "Building wheels for collected packages: pysptk\n",
            "  Building wheel for pysptk (pyproject.toml) ... \u001b[?25l\u001b[?25hdone\n",
            "  Created wheel for pysptk: filename=pysptk-0.2.1-cp310-cp310-linux_x86_64.whl size=1137272 sha256=ef14ac137fd0a5e3d360e6d3d54578aebe2e7f830d70796cf0f874d6627ffa5a\n",
            "  Stored in directory: /root/.cache/pip/wheels/aa/96/e5/2348f6f568b9888d3505a97dc53287152ffd0440526cc6105d\n",
            "Successfully built pysptk\n",
            "Installing collected packages: pysptk\n",
            "Successfully installed pysptk-0.2.1\n",
            "Looking in links: https://modelscope.oss-cn-beijing.aliyuncs.com/releases/repo.html\n",
            "Collecting kantts\n",
            "  Downloading https://modelscope.oss-cn-beijing.aliyuncs.com/releases/dependencies/kantts/kantts-1.0.1-py3-none-any.whl (147 kB)\n",
            "\u001b[2K     \u001b[90m━━━━━━━━━━━━━━━━━━━━━━━━━━━━━━━━━━━━━\u001b[0m \u001b[32m147.2/147.2 kB\u001b[0m \u001b[31m238.8 kB/s\u001b[0m eta \u001b[36m0:00:00\u001b[0m\n",
            "\u001b[?25hRequirement already satisfied: librosa>=0.9.2 in /usr/local/lib/python3.10/dist-packages (from kantts) (0.10.1)\n",
            "Requirement already satisfied: matplotlib in /usr/local/lib/python3.10/dist-packages (from kantts) (3.7.1)\n",
            "Requirement already satisfied: numpy in /usr/local/lib/python3.10/dist-packages (from kantts) (1.23.1)\n",
            "Requirement already satisfied: numba in /usr/local/lib/python3.10/dist-packages (from kantts) (0.56.4)\n",
            "Collecting unidecode (from kantts)\n",
            "  Downloading Unidecode-1.3.6-py3-none-any.whl (235 kB)\n",
            "\u001b[2K     \u001b[90m━━━━━━━━━━━━━━━━━━━━━━━━━━━━━━━━━━━━━━━\u001b[0m \u001b[32m235.9/235.9 kB\u001b[0m \u001b[31m4.8 MB/s\u001b[0m eta \u001b[36m0:00:00\u001b[0m\n",
            "\u001b[?25hRequirement already satisfied: inflect in /usr/local/lib/python3.10/dist-packages (from kantts) (7.0.0)\n",
            "Requirement already satisfied: pywavelets>=1.3.0 in /usr/local/lib/python3.10/dist-packages (from kantts) (1.4.1)\n",
            "Requirement already satisfied: scikit-learn>=1.0.2 in /usr/local/lib/python3.10/dist-packages (from kantts) (1.2.2)\n",
            "Requirement already satisfied: scipy>=1.7.3 in /usr/local/lib/python3.10/dist-packages (from kantts) (1.10.1)\n",
            "Requirement already satisfied: tqdm in /usr/local/lib/python3.10/dist-packages (from kantts) (4.66.1)\n",
            "Requirement already satisfied: pysptk in /usr/local/lib/python3.10/dist-packages (from kantts) (0.2.1)\n",
            "Requirement already satisfied: sox in /usr/local/lib/python3.10/dist-packages (from kantts) (1.4.1)\n",
            "Requirement already satisfied: ttsfrd in /usr/local/lib/python3.10/dist-packages (from kantts) (0.2.1)\n",
            "Requirement already satisfied: audioread>=2.1.9 in /usr/local/lib/python3.10/dist-packages (from librosa>=0.9.2->kantts) (3.0.0)\n",
            "Requirement already satisfied: joblib>=0.14 in /usr/local/lib/python3.10/dist-packages (from librosa>=0.9.2->kantts) (1.3.2)\n",
            "Requirement already satisfied: decorator>=4.3.0 in /usr/local/lib/python3.10/dist-packages (from librosa>=0.9.2->kantts) (4.4.2)\n",
            "Requirement already satisfied: soundfile>=0.12.1 in /usr/local/lib/python3.10/dist-packages (from librosa>=0.9.2->kantts) (0.12.1)\n",
            "Requirement already satisfied: pooch>=1.0 in /usr/local/lib/python3.10/dist-packages (from librosa>=0.9.2->kantts) (1.7.0)\n",
            "Requirement already satisfied: soxr>=0.3.2 in /usr/local/lib/python3.10/dist-packages (from librosa>=0.9.2->kantts) (0.3.6)\n",
            "Requirement already satisfied: typing-extensions>=4.1.1 in /usr/local/lib/python3.10/dist-packages (from librosa>=0.9.2->kantts) (4.7.1)\n",
            "Requirement already satisfied: lazy-loader>=0.1 in /usr/local/lib/python3.10/dist-packages (from librosa>=0.9.2->kantts) (0.3)\n",
            "Requirement already satisfied: msgpack>=1.0 in /usr/local/lib/python3.10/dist-packages (from librosa>=0.9.2->kantts) (1.0.5)\n",
            "Requirement already satisfied: llvmlite<0.40,>=0.39.0dev0 in /usr/local/lib/python3.10/dist-packages (from numba->kantts) (0.39.1)\n",
            "Requirement already satisfied: setuptools in /usr/local/lib/python3.10/dist-packages (from numba->kantts) (67.7.2)\n",
            "Requirement already satisfied: threadpoolctl>=2.0.0 in /usr/local/lib/python3.10/dist-packages (from scikit-learn>=1.0.2->kantts) (3.2.0)\n",
            "Requirement already satisfied: pydantic>=1.9.1 in /usr/local/lib/python3.10/dist-packages (from inflect->kantts) (2.2.1)\n",
            "Requirement already satisfied: contourpy>=1.0.1 in /usr/local/lib/python3.10/dist-packages (from matplotlib->kantts) (1.1.0)\n",
            "Requirement already satisfied: cycler>=0.10 in /usr/local/lib/python3.10/dist-packages (from matplotlib->kantts) (0.11.0)\n",
            "Requirement already satisfied: fonttools>=4.22.0 in /usr/local/lib/python3.10/dist-packages (from matplotlib->kantts) (4.42.1)\n",
            "Requirement already satisfied: kiwisolver>=1.0.1 in /usr/local/lib/python3.10/dist-packages (from matplotlib->kantts) (1.4.4)\n",
            "Requirement already satisfied: packaging>=20.0 in /usr/local/lib/python3.10/dist-packages (from matplotlib->kantts) (23.1)\n",
            "Requirement already satisfied: pillow>=6.2.0 in /usr/local/lib/python3.10/dist-packages (from matplotlib->kantts) (9.4.0)\n",
            "Requirement already satisfied: pyparsing>=2.3.1 in /usr/local/lib/python3.10/dist-packages (from matplotlib->kantts) (3.1.1)\n",
            "Requirement already satisfied: python-dateutil>=2.7 in /usr/local/lib/python3.10/dist-packages (from matplotlib->kantts) (2.8.2)\n",
            "Requirement already satisfied: cython>=0.28.0 in /usr/local/lib/python3.10/dist-packages (from pysptk->kantts) (0.29.36)\n",
            "Requirement already satisfied: platformdirs>=2.5.0 in /usr/local/lib/python3.10/dist-packages (from pooch>=1.0->librosa>=0.9.2->kantts) (3.10.0)\n",
            "Requirement already satisfied: requests>=2.19.0 in /usr/local/lib/python3.10/dist-packages (from pooch>=1.0->librosa>=0.9.2->kantts) (2.31.0)\n",
            "Requirement already satisfied: annotated-types>=0.4.0 in /usr/local/lib/python3.10/dist-packages (from pydantic>=1.9.1->inflect->kantts) (0.5.0)\n",
            "Requirement already satisfied: pydantic-core==2.6.1 in /usr/local/lib/python3.10/dist-packages (from pydantic>=1.9.1->inflect->kantts) (2.6.1)\n",
            "Requirement already satisfied: six>=1.5 in /usr/local/lib/python3.10/dist-packages (from python-dateutil>=2.7->matplotlib->kantts) (1.16.0)\n",
            "Requirement already satisfied: cffi>=1.0 in /usr/local/lib/python3.10/dist-packages (from soundfile>=0.12.1->librosa>=0.9.2->kantts) (1.15.1)\n",
            "Requirement already satisfied: pycparser in /usr/local/lib/python3.10/dist-packages (from cffi>=1.0->soundfile>=0.12.1->librosa>=0.9.2->kantts) (2.21)\n",
            "Requirement already satisfied: charset-normalizer<4,>=2 in /usr/local/lib/python3.10/dist-packages (from requests>=2.19.0->pooch>=1.0->librosa>=0.9.2->kantts) (3.2.0)\n",
            "Requirement already satisfied: idna<4,>=2.5 in /usr/local/lib/python3.10/dist-packages (from requests>=2.19.0->pooch>=1.0->librosa>=0.9.2->kantts) (3.4)\n",
            "Requirement already satisfied: urllib3<3,>=1.21.1 in /usr/local/lib/python3.10/dist-packages (from requests>=2.19.0->pooch>=1.0->librosa>=0.9.2->kantts) (2.0.4)\n",
            "Requirement already satisfied: certifi>=2017.4.17 in /usr/local/lib/python3.10/dist-packages (from requests>=2.19.0->pooch>=1.0->librosa>=0.9.2->kantts) (2023.7.22)\n",
            "Installing collected packages: unidecode, kantts\n",
            "Successfully installed kantts-1.0.1 unidecode-1.3.6\n",
            "Collecting pytorch_wavelets\n",
            "  Downloading pytorch_wavelets-1.3.0-py3-none-any.whl (54 kB)\n",
            "\u001b[2K     \u001b[90m━━━━━━━━━━━━━━━━━━━━━━━━━━━━━━━━━━━━━━━━\u001b[0m \u001b[32m54.9/54.9 kB\u001b[0m \u001b[31m1.6 MB/s\u001b[0m eta \u001b[36m0:00:00\u001b[0m\n",
            "\u001b[?25hRequirement already satisfied: numpy in /usr/local/lib/python3.10/dist-packages (from pytorch_wavelets) (1.23.1)\n",
            "Requirement already satisfied: six in /usr/local/lib/python3.10/dist-packages (from pytorch_wavelets) (1.16.0)\n",
            "Requirement already satisfied: torch in /usr/local/lib/python3.10/dist-packages (from pytorch_wavelets) (2.0.1+cu118)\n",
            "Requirement already satisfied: filelock in /usr/local/lib/python3.10/dist-packages (from torch->pytorch_wavelets) (3.12.2)\n",
            "Requirement already satisfied: typing-extensions in /usr/local/lib/python3.10/dist-packages (from torch->pytorch_wavelets) (4.7.1)\n",
            "Requirement already satisfied: sympy in /usr/local/lib/python3.10/dist-packages (from torch->pytorch_wavelets) (1.12)\n",
            "Requirement already satisfied: networkx in /usr/local/lib/python3.10/dist-packages (from torch->pytorch_wavelets) (3.1)\n",
            "Requirement already satisfied: jinja2 in /usr/local/lib/python3.10/dist-packages (from torch->pytorch_wavelets) (3.1.2)\n",
            "Requirement already satisfied: triton==2.0.0 in /usr/local/lib/python3.10/dist-packages (from torch->pytorch_wavelets) (2.0.0)\n",
            "Requirement already satisfied: cmake in /usr/local/lib/python3.10/dist-packages (from triton==2.0.0->torch->pytorch_wavelets) (3.27.2)\n",
            "Requirement already satisfied: lit in /usr/local/lib/python3.10/dist-packages (from triton==2.0.0->torch->pytorch_wavelets) (16.0.6)\n",
            "Requirement already satisfied: MarkupSafe>=2.0 in /usr/local/lib/python3.10/dist-packages (from jinja2->torch->pytorch_wavelets) (2.1.3)\n",
            "Requirement already satisfied: mpmath>=0.19 in /usr/local/lib/python3.10/dist-packages (from sympy->torch->pytorch_wavelets) (1.3.0)\n",
            "Installing collected packages: pytorch_wavelets\n",
            "Successfully installed pytorch_wavelets-1.3.0\n",
            "Collecting tensorboardX\n",
            "  Downloading tensorboardX-2.6.2.2-py2.py3-none-any.whl (101 kB)\n",
            "\u001b[2K     \u001b[90m━━━━━━━━━━━━━━━━━━━━━━━━━━━━━━━━━━━━━━━\u001b[0m \u001b[32m101.7/101.7 kB\u001b[0m \u001b[31m3.1 MB/s\u001b[0m eta \u001b[36m0:00:00\u001b[0m\n",
            "\u001b[?25hRequirement already satisfied: numpy in /usr/local/lib/python3.10/dist-packages (from tensorboardX) (1.23.1)\n",
            "Requirement already satisfied: packaging in /usr/local/lib/python3.10/dist-packages (from tensorboardX) (23.1)\n",
            "Requirement already satisfied: protobuf>=3.20 in /usr/local/lib/python3.10/dist-packages (from tensorboardX) (3.20.3)\n",
            "Installing collected packages: tensorboardX\n",
            "Successfully installed tensorboardX-2.6.2.2\n",
            "Cloning into 'pytorch_wavelets'...\n",
            "remote: Enumerating objects: 978, done.\u001b[K\n",
            "remote: Counting objects: 100% (142/142), done.\u001b[K\n",
            "remote: Compressing objects: 100% (96/96), done.\u001b[K\n",
            "remote: Total 978 (delta 79), reused 91 (delta 46), pack-reused 836\u001b[K\n",
            "Receiving objects: 100% (978/978), 6.80 MiB | 28.42 MiB/s, done.\n",
            "Resolving deltas: 100% (663/663), done.\n",
            "Requirement already satisfied: matplotlib in /usr/local/lib/python3.10/dist-packages (3.7.1)\n",
            "Requirement already satisfied: contourpy>=1.0.1 in /usr/local/lib/python3.10/dist-packages (from matplotlib) (1.1.0)\n",
            "Requirement already satisfied: cycler>=0.10 in /usr/local/lib/python3.10/dist-packages (from matplotlib) (0.11.0)\n",
            "Requirement already satisfied: fonttools>=4.22.0 in /usr/local/lib/python3.10/dist-packages (from matplotlib) (4.42.1)\n",
            "Requirement already satisfied: kiwisolver>=1.0.1 in /usr/local/lib/python3.10/dist-packages (from matplotlib) (1.4.4)\n",
            "Requirement already satisfied: numpy>=1.20 in /usr/local/lib/python3.10/dist-packages (from matplotlib) (1.23.1)\n",
            "Requirement already satisfied: packaging>=20.0 in /usr/local/lib/python3.10/dist-packages (from matplotlib) (23.1)\n",
            "Requirement already satisfied: pillow>=6.2.0 in /usr/local/lib/python3.10/dist-packages (from matplotlib) (9.4.0)\n",
            "Requirement already satisfied: pyparsing>=2.3.1 in /usr/local/lib/python3.10/dist-packages (from matplotlib) (3.1.1)\n",
            "Requirement already satisfied: python-dateutil>=2.7 in /usr/local/lib/python3.10/dist-packages (from matplotlib) (2.8.2)\n",
            "Requirement already satisfied: six>=1.5 in /usr/local/lib/python3.10/dist-packages (from python-dateutil>=2.7->matplotlib) (1.16.0)\n",
            "Collecting numpy==1.22.0\n",
            "  Downloading numpy-1.22.0-cp310-cp310-manylinux_2_17_x86_64.manylinux2014_x86_64.whl (16.8 MB)\n",
            "\u001b[2K     \u001b[90m━━━━━━━━━━━━━━━━━━━━━━━━━━━━━━━━━━━━━━━━\u001b[0m \u001b[32m16.8/16.8 MB\u001b[0m \u001b[31m64.5 MB/s\u001b[0m eta \u001b[36m0:00:00\u001b[0m\n",
            "\u001b[?25hInstalling collected packages: numpy\n",
            "  Attempting uninstall: numpy\n",
            "    Found existing installation: numpy 1.23.1\n",
            "    Uninstalling numpy-1.23.1:\n",
            "      Successfully uninstalled numpy-1.23.1\n",
            "\u001b[31mERROR: pip's dependency resolver does not currently take into account all the packages that are installed. This behaviour is the source of the following dependency conflicts.\n",
            "librosa 0.10.1 requires numpy!=1.22.0,!=1.22.1,!=1.22.2,>=1.20.3, but you have numpy 1.22.0 which is incompatible.\n",
            "pandas-gbq 0.17.9 requires pyarrow<10.0dev,>=3.0.0, but you have pyarrow 13.0.0 which is incompatible.\n",
            "plotnine 0.12.2 requires numpy>=1.23.0, but you have numpy 1.22.0 which is incompatible.\u001b[0m\u001b[31m\n",
            "\u001b[0mSuccessfully installed numpy-1.22.0\n"
          ]
        },
        {
          "output_type": "display_data",
          "data": {
            "application/vnd.colab-display-data+json": {
              "pip_warning": {
                "packages": [
                  "numpy"
                ]
              }
            }
          },
          "metadata": {}
        }
      ]
    },
    {
      "cell_type": "code",
      "source": [
        "!apt-get install sox"
      ],
      "metadata": {
        "colab": {
          "base_uri": "https://localhost:8080/"
        },
        "id": "b4uSdumvUcQC",
        "outputId": "ea8a33f3-173a-4b30-94f5-96218b11dc06"
      },
      "execution_count": 3,
      "outputs": [
        {
          "output_type": "stream",
          "name": "stdout",
          "text": [
            "Reading package lists... Done\n",
            "Building dependency tree... Done\n",
            "Reading state information... Done\n",
            "The following additional packages will be installed:\n",
            "  libopencore-amrnb0 libopencore-amrwb0 libsox-fmt-alsa libsox-fmt-base\n",
            "  libsox3 libwavpack1\n",
            "Suggested packages:\n",
            "  libsox-fmt-all\n",
            "The following NEW packages will be installed:\n",
            "  libopencore-amrnb0 libopencore-amrwb0 libsox-fmt-alsa libsox-fmt-base\n",
            "  libsox3 libwavpack1 sox\n",
            "0 upgraded, 7 newly installed, 0 to remove and 16 not upgraded.\n",
            "Need to get 617 kB of archives.\n",
            "After this operation, 1,760 kB of additional disk space will be used.\n",
            "Get:1 http://archive.ubuntu.com/ubuntu jammy/universe amd64 libopencore-amrnb0 amd64 0.1.5-1 [94.8 kB]\n",
            "Get:2 http://archive.ubuntu.com/ubuntu jammy/universe amd64 libopencore-amrwb0 amd64 0.1.5-1 [49.1 kB]\n",
            "Get:3 http://archive.ubuntu.com/ubuntu jammy-updates/universe amd64 libsox3 amd64 14.4.2+git20190427-2+deb11u2build0.22.04.1 [240 kB]\n",
            "Get:4 http://archive.ubuntu.com/ubuntu jammy-updates/universe amd64 libsox-fmt-alsa amd64 14.4.2+git20190427-2+deb11u2build0.22.04.1 [11.2 kB]\n",
            "Get:5 http://archive.ubuntu.com/ubuntu jammy/main amd64 libwavpack1 amd64 5.4.0-1build2 [83.7 kB]\n",
            "Get:6 http://archive.ubuntu.com/ubuntu jammy-updates/universe amd64 libsox-fmt-base amd64 14.4.2+git20190427-2+deb11u2build0.22.04.1 [33.7 kB]\n",
            "Get:7 http://archive.ubuntu.com/ubuntu jammy-updates/universe amd64 sox amd64 14.4.2+git20190427-2+deb11u2build0.22.04.1 [104 kB]\n",
            "Fetched 617 kB in 1s (816 kB/s)\n",
            "Selecting previously unselected package libopencore-amrnb0:amd64.\n",
            "(Reading database ... 120831 files and directories currently installed.)\n",
            "Preparing to unpack .../0-libopencore-amrnb0_0.1.5-1_amd64.deb ...\n",
            "Unpacking libopencore-amrnb0:amd64 (0.1.5-1) ...\n",
            "Selecting previously unselected package libopencore-amrwb0:amd64.\n",
            "Preparing to unpack .../1-libopencore-amrwb0_0.1.5-1_amd64.deb ...\n",
            "Unpacking libopencore-amrwb0:amd64 (0.1.5-1) ...\n",
            "Selecting previously unselected package libsox3:amd64.\n",
            "Preparing to unpack .../2-libsox3_14.4.2+git20190427-2+deb11u2build0.22.04.1_amd64.deb ...\n",
            "Unpacking libsox3:amd64 (14.4.2+git20190427-2+deb11u2build0.22.04.1) ...\n",
            "Selecting previously unselected package libsox-fmt-alsa:amd64.\n",
            "Preparing to unpack .../3-libsox-fmt-alsa_14.4.2+git20190427-2+deb11u2build0.22.04.1_amd64.deb ...\n",
            "Unpacking libsox-fmt-alsa:amd64 (14.4.2+git20190427-2+deb11u2build0.22.04.1) ...\n",
            "Selecting previously unselected package libwavpack1:amd64.\n",
            "Preparing to unpack .../4-libwavpack1_5.4.0-1build2_amd64.deb ...\n",
            "Unpacking libwavpack1:amd64 (5.4.0-1build2) ...\n",
            "Selecting previously unselected package libsox-fmt-base:amd64.\n",
            "Preparing to unpack .../5-libsox-fmt-base_14.4.2+git20190427-2+deb11u2build0.22.04.1_amd64.deb ...\n",
            "Unpacking libsox-fmt-base:amd64 (14.4.2+git20190427-2+deb11u2build0.22.04.1) ...\n",
            "Selecting previously unselected package sox.\n",
            "Preparing to unpack .../6-sox_14.4.2+git20190427-2+deb11u2build0.22.04.1_amd64.deb ...\n",
            "Unpacking sox (14.4.2+git20190427-2+deb11u2build0.22.04.1) ...\n",
            "Setting up libsox3:amd64 (14.4.2+git20190427-2+deb11u2build0.22.04.1) ...\n",
            "Setting up libopencore-amrwb0:amd64 (0.1.5-1) ...\n",
            "Setting up libsox-fmt-alsa:amd64 (14.4.2+git20190427-2+deb11u2build0.22.04.1) ...\n",
            "Setting up libwavpack1:amd64 (5.4.0-1build2) ...\n",
            "Setting up libopencore-amrnb0:amd64 (0.1.5-1) ...\n",
            "Setting up libsox-fmt-base:amd64 (14.4.2+git20190427-2+deb11u2build0.22.04.1) ...\n",
            "Setting up sox (14.4.2+git20190427-2+deb11u2build0.22.04.1) ...\n",
            "Processing triggers for man-db (2.10.2-1) ...\n",
            "Processing triggers for libc-bin (2.35-0ubuntu3.1) ...\n",
            "/sbin/ldconfig.real: /usr/local/lib/libtbb.so.12 is not a symbolic link\n",
            "\n",
            "/sbin/ldconfig.real: /usr/local/lib/libtbbbind.so.3 is not a symbolic link\n",
            "\n",
            "/sbin/ldconfig.real: /usr/local/lib/libtbbmalloc_proxy.so.2 is not a symbolic link\n",
            "\n",
            "/sbin/ldconfig.real: /usr/local/lib/libtbbbind_2_0.so.3 is not a symbolic link\n",
            "\n",
            "/sbin/ldconfig.real: /usr/local/lib/libtbbmalloc.so.2 is not a symbolic link\n",
            "\n",
            "/sbin/ldconfig.real: /usr/local/lib/libtbbbind_2_5.so.3 is not a symbolic link\n",
            "\n"
          ]
        }
      ]
    },
    {
      "cell_type": "code",
      "source": [
        "cd pytorch_wavelets"
      ],
      "metadata": {
        "colab": {
          "base_uri": "https://localhost:8080/"
        },
        "id": "A5mtXiAEUeOi",
        "outputId": "ff6d096e-394b-4060-dd00-be5fa210e6c5"
      },
      "execution_count": 4,
      "outputs": [
        {
          "output_type": "stream",
          "name": "stdout",
          "text": [
            "/content/pytorch_wavelets\n"
          ]
        }
      ]
    },
    {
      "cell_type": "code",
      "source": [
        "pip install ."
      ],
      "metadata": {
        "colab": {
          "base_uri": "https://localhost:8080/"
        },
        "id": "0279o9cEUgYo",
        "outputId": "af4e7771-f9b0-46e3-f41b-63cd82cd2b9a"
      },
      "execution_count": 5,
      "outputs": [
        {
          "output_type": "stream",
          "name": "stdout",
          "text": [
            "Processing /content/pytorch_wavelets\n",
            "  Preparing metadata (setup.py) ... \u001b[?25l\u001b[?25hdone\n",
            "Requirement already satisfied: numpy in /usr/local/lib/python3.10/dist-packages (from pytorch-wavelets==1.3.0) (1.22.0)\n",
            "Requirement already satisfied: six in /usr/local/lib/python3.10/dist-packages (from pytorch-wavelets==1.3.0) (1.16.0)\n",
            "Requirement already satisfied: torch in /usr/local/lib/python3.10/dist-packages (from pytorch-wavelets==1.3.0) (2.0.1+cu118)\n",
            "Requirement already satisfied: filelock in /usr/local/lib/python3.10/dist-packages (from torch->pytorch-wavelets==1.3.0) (3.12.2)\n",
            "Requirement already satisfied: typing-extensions in /usr/local/lib/python3.10/dist-packages (from torch->pytorch-wavelets==1.3.0) (4.7.1)\n",
            "Requirement already satisfied: sympy in /usr/local/lib/python3.10/dist-packages (from torch->pytorch-wavelets==1.3.0) (1.12)\n",
            "Requirement already satisfied: networkx in /usr/local/lib/python3.10/dist-packages (from torch->pytorch-wavelets==1.3.0) (3.1)\n",
            "Requirement already satisfied: jinja2 in /usr/local/lib/python3.10/dist-packages (from torch->pytorch-wavelets==1.3.0) (3.1.2)\n",
            "Requirement already satisfied: triton==2.0.0 in /usr/local/lib/python3.10/dist-packages (from torch->pytorch-wavelets==1.3.0) (2.0.0)\n",
            "Requirement already satisfied: cmake in /usr/local/lib/python3.10/dist-packages (from triton==2.0.0->torch->pytorch-wavelets==1.3.0) (3.27.2)\n",
            "Requirement already satisfied: lit in /usr/local/lib/python3.10/dist-packages (from triton==2.0.0->torch->pytorch-wavelets==1.3.0) (16.0.6)\n",
            "Requirement already satisfied: MarkupSafe>=2.0 in /usr/local/lib/python3.10/dist-packages (from jinja2->torch->pytorch-wavelets==1.3.0) (2.1.3)\n",
            "Requirement already satisfied: mpmath>=0.19 in /usr/local/lib/python3.10/dist-packages (from sympy->torch->pytorch-wavelets==1.3.0) (1.3.0)\n",
            "Building wheels for collected packages: pytorch-wavelets\n",
            "  Building wheel for pytorch-wavelets (setup.py) ... \u001b[?25l\u001b[?25hdone\n",
            "  Created wheel for pytorch-wavelets: filename=pytorch_wavelets-1.3.0-py3-none-any.whl size=54852 sha256=4a34d2440df4f650aa963dfc62127481a126243d80d3032b9999013d767b8f7c\n",
            "  Stored in directory: /tmp/pip-ephem-wheel-cache-nxof703y/wheels/f6/77/89/ac0462961f441a5dd4d226216613ef64f3eb2c7f2883efcebf\n",
            "Successfully built pytorch-wavelets\n",
            "Installing collected packages: pytorch-wavelets\n",
            "  Attempting uninstall: pytorch-wavelets\n",
            "    Found existing installation: pytorch-wavelets 1.3.0\n",
            "    Uninstalling pytorch-wavelets-1.3.0:\n",
            "      Successfully uninstalled pytorch-wavelets-1.3.0\n",
            "Successfully installed pytorch-wavelets-1.3.0\n"
          ]
        }
      ]
    },
    {
      "cell_type": "code",
      "source": [
        "import os\n",
        "os._exit(00) # 重启notebook"
      ],
      "metadata": {
        "id": "lO29uxHrVafx"
      },
      "execution_count": null,
      "outputs": []
    },
    {
      "cell_type": "code",
      "source": [
        "import sox"
      ],
      "metadata": {
        "id": "UsOLbeoYFO04"
      },
      "execution_count": 1,
      "outputs": []
    },
    {
      "cell_type": "markdown",
      "source": [
        "## 对音频切片处理"
      ],
      "metadata": {
        "id": "YZqH0DtGcsXJ"
      }
    },
    {
      "cell_type": "code",
      "source": [
        "import subprocess\n",
        "from pathlib import Path\n",
        "import librosa\n",
        "from scipy.io import wavfile\n",
        "import numpy as np\n",
        "import torch\n",
        "import csv\n",
        "import whisper\n",
        "\n",
        "def split_long_audio(model, filepaths, character_name, save_dir=\"data_dir\", out_sr=44100):\n",
        "    if isinstance(filepaths, str):\n",
        "        filepaths = [filepaths]\n",
        "\n",
        "    for file_idx, filepath in enumerate(filepaths):\n",
        "\n",
        "        save_path = Path(save_dir) / character_name\n",
        "        save_path.mkdir(exist_ok=True, parents=True)\n",
        "\n",
        "        print(f\"Transcribing file {file_idx}: '{filepath}' to segments...\")\n",
        "        result = model.transcribe(filepath, word_timestamps=True, task=\"transcribe\", beam_size=5, best_of=5)\n",
        "        segments = result['segments']\n",
        "\n",
        "        wav, sr = librosa.load(filepath, sr=None, offset=0, duration=None, mono=True)\n",
        "        wav, _ = librosa.effects.trim(wav, top_db=20)\n",
        "        peak = np.abs(wav).max()\n",
        "        if peak > 1.0:\n",
        "            wav = 0.98 * wav / peak\n",
        "        wav2 = librosa.resample(wav, orig_sr=sr, target_sr=out_sr)\n",
        "        wav2 /= max(wav2.max(), -wav2.min())\n",
        "\n",
        "        for i, seg in enumerate(segments):\n",
        "            start_time = seg['start']\n",
        "            end_time = seg['end']\n",
        "            wav_seg = wav2[int(start_time * out_sr):int(end_time * out_sr)]\n",
        "            wav_seg_name = f\"{character_name}_{file_idx}_{i}.wav\"\n",
        "            out_fpath = save_path / wav_seg_name\n",
        "            wavfile.write(out_fpath, rate=out_sr, data=(wav_seg * np.iinfo(np.int16).max).astype(np.int16))"
      ],
      "metadata": {
        "id": "NdoD-ZnIaWhN"
      },
      "execution_count": 2,
      "outputs": []
    },
    {
      "cell_type": "code",
      "source": [
        "whisper_size = \"medium\"\n",
        "whisper_model = whisper.load_model(whisper_size)"
      ],
      "metadata": {
        "id": "yXrxpjEGaWlT",
        "colab": {
          "base_uri": "https://localhost:8080/"
        },
        "outputId": "5ddef987-902a-4571-daf9-c6e27bde3076"
      },
      "execution_count": 3,
      "outputs": [
        {
          "output_type": "stream",
          "name": "stderr",
          "text": [
            "100%|██████████████████████████████████████| 1.42G/1.42G [00:09<00:00, 153MiB/s]\n"
          ]
        }
      ]
    },
    {
      "cell_type": "markdown",
      "source": [
        "### 请在下方{filename}处填写您上传的wav文件名"
      ],
      "metadata": {
        "id": "oRZppf5D9jgo"
      }
    },
    {
      "cell_type": "code",
      "source": [
        "split_long_audio(whisper_model, \"filename.wav\", \"test\", \"dataset_raw\") # 请在{filename}处填写您上传的wav文件名"
      ],
      "metadata": {
        "id": "yTN4IRxOaWoi",
        "colab": {
          "base_uri": "https://localhost:8080/"
        },
        "outputId": "6deb47f9-f11d-40d9-a663-381b54b11856"
      },
      "execution_count": 4,
      "outputs": [
        {
          "output_type": "stream",
          "name": "stdout",
          "text": [
            "Transcribing file 0: 'nana_speech.wav' to segments...\n"
          ]
        }
      ]
    },
    {
      "cell_type": "markdown",
      "source": [
        "## 需要新建三个文件夹，分别是：\"test_wavs\", \"output_training_data\", \"pretrain_work_dir\""
      ],
      "metadata": {
        "id": "ccQC4ZcWbtXy"
      }
    },
    {
      "cell_type": "code",
      "source": [
        "! mv  -v ./dataset_raw/test/* ./test_wavs/"
      ],
      "metadata": {
        "colab": {
          "base_uri": "https://localhost:8080/"
        },
        "id": "t7-qxeiBG2wH",
        "outputId": "f3cfb1b4-df9f-4481-e5b2-d3d2fb04779d"
      },
      "execution_count": 5,
      "outputs": [
        {
          "output_type": "stream",
          "name": "stdout",
          "text": [
            "renamed './dataset_raw/test/test_0_0.wav' -> './test_wavs/test_0_0.wav'\n",
            "renamed './dataset_raw/test/test_0_10.wav' -> './test_wavs/test_0_10.wav'\n",
            "renamed './dataset_raw/test/test_0_11.wav' -> './test_wavs/test_0_11.wav'\n",
            "renamed './dataset_raw/test/test_0_12.wav' -> './test_wavs/test_0_12.wav'\n",
            "renamed './dataset_raw/test/test_0_13.wav' -> './test_wavs/test_0_13.wav'\n",
            "renamed './dataset_raw/test/test_0_14.wav' -> './test_wavs/test_0_14.wav'\n",
            "renamed './dataset_raw/test/test_0_15.wav' -> './test_wavs/test_0_15.wav'\n",
            "renamed './dataset_raw/test/test_0_16.wav' -> './test_wavs/test_0_16.wav'\n",
            "renamed './dataset_raw/test/test_0_17.wav' -> './test_wavs/test_0_17.wav'\n",
            "renamed './dataset_raw/test/test_0_18.wav' -> './test_wavs/test_0_18.wav'\n",
            "renamed './dataset_raw/test/test_0_19.wav' -> './test_wavs/test_0_19.wav'\n",
            "renamed './dataset_raw/test/test_0_1.wav' -> './test_wavs/test_0_1.wav'\n",
            "renamed './dataset_raw/test/test_0_2.wav' -> './test_wavs/test_0_2.wav'\n",
            "renamed './dataset_raw/test/test_0_3.wav' -> './test_wavs/test_0_3.wav'\n",
            "renamed './dataset_raw/test/test_0_4.wav' -> './test_wavs/test_0_4.wav'\n",
            "renamed './dataset_raw/test/test_0_5.wav' -> './test_wavs/test_0_5.wav'\n",
            "renamed './dataset_raw/test/test_0_6.wav' -> './test_wavs/test_0_6.wav'\n",
            "renamed './dataset_raw/test/test_0_7.wav' -> './test_wavs/test_0_7.wav'\n",
            "renamed './dataset_raw/test/test_0_8.wav' -> './test_wavs/test_0_8.wav'\n",
            "renamed './dataset_raw/test/test_0_9.wav' -> './test_wavs/test_0_9.wav'\n"
          ]
        }
      ]
    },
    {
      "cell_type": "code",
      "source": [
        "from modelscope.tools import run_auto_label"
      ],
      "metadata": {
        "id": "4GPDev3BaRFm",
        "colab": {
          "base_uri": "https://localhost:8080/"
        },
        "outputId": "5a0d5867-c3e8-4e5c-96b2-4a0a29b80771"
      },
      "execution_count": 6,
      "outputs": [
        {
          "output_type": "stream",
          "name": "stderr",
          "text": [
            "2023-08-27 14:16:32,204 - modelscope - INFO - PyTorch version 2.0.1+cu118 Found.\n",
            "2023-08-27 14:16:32,208 - modelscope - INFO - TensorFlow version 2.12.0 Found.\n",
            "2023-08-27 14:16:32,209 - modelscope - INFO - Loading ast index from /root/.cache/modelscope/ast_indexer\n",
            "2023-08-27 14:16:32,211 - modelscope - INFO - No valid ast index found from /root/.cache/modelscope/ast_indexer, generating ast index from prebuilt!\n",
            "2023-08-27 14:16:32,271 - modelscope - INFO - Loading done! Current index file version is 1.8.4, with md5 eee6c9359d592cf7de4cce1ebbbe4e16 and a total number of 902 components indexed\n"
          ]
        }
      ]
    },
    {
      "cell_type": "code",
      "source": [
        "input_wav = \"./test_wavs/\"\n",
        "output_data = \"./output_training_data/\"\n",
        "\n",
        "ret, report = run_auto_label(input_wav=input_wav, work_dir=output_data, resource_revision=\"v1.0.7\")"
      ],
      "metadata": {
        "id": "YpEmrdkgaU1E",
        "colab": {
          "base_uri": "https://localhost:8080/"
        },
        "outputId": "892edf4b-eb9f-4f63-cf95-f629a595becb"
      },
      "execution_count": 7,
      "outputs": [
        {
          "output_type": "stream",
          "name": "stderr",
          "text": [
            "2023-08-27 14:16:34,729 - modelscope - INFO - Use user-specified model revision: v1.0.7\n",
            "Downloading: 100%|██████████| 185/185 [00:00<00:00, 764kB/s]\n",
            "Downloading: 100%|██████████| 706M/706M [00:37<00:00, 19.9MB/s]\n",
            "Downloading: 100%|██████████| 6.24k/6.24k [00:00<00:00, 2.43MB/s]\n"
          ]
        },
        {
          "output_type": "stream",
          "name": "stdout",
          "text": [
            "2023-08-27 14:17:24\n",
            "TTS-AutoLabel version: 1.1.8\n",
            "TTS-AutoLabel resource path: /root/.cache/modelscope/hub/damo/speech_ptts_autolabel_16k/model\n",
            "Target sampling rate: 16000\n",
            "Input wav dir: /content/test_wavs\n",
            "Output data dir: /content/output_training_data\n",
            "wav_preprocess start...\n",
            "---  new folder...  ---\n",
            "---  OK  ---\n"
          ]
        },
        {
          "output_type": "stream",
          "name": "stderr",
          "text": [
            "100%|██████████| 20/20 [00:00<00:00, 90.65it/s]"
          ]
        },
        {
          "output_type": "stream",
          "name": "stdout",
          "text": [
            "[VAD] chunk recordings for training.\n",
            "wav cut by vad start...\n"
          ]
        },
        {
          "output_type": "stream",
          "name": "stderr",
          "text": [
            "\n",
            "  0%|          | 0/20 [00:00<?, ?it/s]"
          ]
        },
        {
          "output_type": "stream",
          "name": "stdout",
          "text": [
            "wav test_0_8_S0000 is no need to cut\n",
            "wav test_0_17_S0000 is no need to cut\n",
            "wav test_0_11_S0000 is no need to cut\n"
          ]
        },
        {
          "output_type": "stream",
          "name": "stderr",
          "text": [
            "\r 15%|█▌        | 3/20 [00:00<00:00, 26.27it/s]"
          ]
        },
        {
          "output_type": "stream",
          "name": "stdout",
          "text": [
            "wav test_0_4_S0000 is no need to cut\n",
            "wav test_0_6_S0000 is no need to cut\n",
            "wav test_0_16_S0000 is no need to cut\n",
            "wav test_0_18_S0000 is no need to cut\n"
          ]
        },
        {
          "output_type": "stream",
          "name": "stderr",
          "text": [
            "\r 35%|███▌      | 7/20 [00:00<00:00, 30.04it/s]"
          ]
        },
        {
          "output_type": "stream",
          "name": "stdout",
          "text": [
            "wav test_0_13_S0000 is no need to cut\n",
            "wav test_0_5_S0000 is no need to cut\n",
            "wav test_0_9_S0000 is no need to cut\n"
          ]
        },
        {
          "output_type": "stream",
          "name": "stderr",
          "text": [
            "\r 50%|█████     | 10/20 [00:00<00:00, 26.22it/s]"
          ]
        },
        {
          "output_type": "stream",
          "name": "stdout",
          "text": [
            "wav test_0_1_S0000 is no need to cut\n",
            "VAD:  test_0_15_S0000.wav has 11200 samples, shorter than expected samples,                            skipping saving in S\n",
            "wav test_0_2_S0000 is no need to cut\n",
            "wav test_0_12_S0000 is no need to cut\n"
          ]
        },
        {
          "output_type": "stream",
          "name": "stderr",
          "text": [
            "\r 70%|███████   | 14/20 [00:00<00:00, 28.81it/s]"
          ]
        },
        {
          "output_type": "stream",
          "name": "stdout",
          "text": [
            "wav test_0_3_S0000 is no need to cut\n",
            "wav test_0_14_S0000 is no need to cut\n",
            "wav test_0_19_S0000 is no need to cut\n",
            "wav test_0_0_S0000 is no need to cut\n"
          ]
        },
        {
          "output_type": "stream",
          "name": "stderr",
          "text": [
            "\r 90%|█████████ | 18/20 [00:00<00:00, 30.23it/s]"
          ]
        },
        {
          "output_type": "stream",
          "name": "stdout",
          "text": [
            "wav test_0_10_S0000 is no need to cut\n",
            "wav test_0_7_S0000 is no need to cut\n"
          ]
        },
        {
          "output_type": "stream",
          "name": "stderr",
          "text": [
            "100%|██████████| 20/20 [00:00<00:00, 30.63it/s]\n",
            "0it [00:00, ?it/s]\n",
            "0it [00:00, ?it/s]"
          ]
        },
        {
          "output_type": "stream",
          "name": "stdout",
          "text": [
            "---  new folder...  ---\n",
            "---  OK  ---\n"
          ]
        },
        {
          "output_type": "stream",
          "name": "stderr",
          "text": [
            "\n",
            "100%|██████████| 19/19 [00:00<00:00, 183.37it/s]\n",
            "100%|██████████| 19/19 [00:01<00:00, 16.41it/s]\n"
          ]
        },
        {
          "output_type": "stream",
          "name": "stdout",
          "text": [
            "Text to label start...\n"
          ]
        },
        {
          "output_type": "stream",
          "name": "stderr",
          "text": [
            "100%|██████████| 19/19 [00:03<00:00,  5.00it/s]\n"
          ]
        },
        {
          "output_type": "stream",
          "name": "stdout",
          "text": [
            "pre-break recording in paragraph by vad.\n",
            "Generate phone interval by fa align.\n",
            "prosody_dir=/content/output_training_data/paragraph/prosody\n",
            "FA processing...\n",
            "---  New folder /content/output_training_data/raw_ali...  ---\n",
            "---  OK  ---\n",
            "---  New folder /content/output_training_data/raw_interval...  ---\n",
            "---  OK  ---\n"
          ]
        },
        {
          "output_type": "stream",
          "name": "stderr",
          "text": [
            "\r  0%|          | 0/19 [00:00<?, ?it/s]"
          ]
        },
        {
          "output_type": "stream",
          "name": "stdout",
          "text": [
            "wav: /content/output_training_data/wav_cut_16k/test_0_9_S0000.wav, text: 练完 一段 时间 之后 就会 发现 手指 开始 发红 发肿像 \n"
          ]
        },
        {
          "output_type": "stream",
          "name": "stderr",
          "text": [
            "\r  5%|▌         | 1/19 [00:00<00:03,  5.77it/s]"
          ]
        },
        {
          "output_type": "stream",
          "name": "stdout",
          "text": [
            "wav: /content/output_training_data/wav_cut_16k/test_0_18_S0000.wav, text: 在在 恋情的 过程 当中呢 你的左 \n",
            "wav: /content/output_training_data/wav_cut_16k/test_0_14_S0000.wav, text: 长出 厚厚的 剪子 给 \n",
            "wav: /content/output_training_data/wav_cut_16k/test_0_10_S0000.wav, text: 像 火烧 一样 疼 \n",
            "wav: /content/output_training_data/wav_cut_16k/test_0_16_S0000.wav, text: 说 两只手 是 不同 大小的 我的 \n"
          ]
        },
        {
          "output_type": "stream",
          "name": "stderr",
          "text": [
            "\r 26%|██▋       | 5/19 [00:00<00:00, 17.95it/s]"
          ]
        },
        {
          "output_type": "stream",
          "name": "stdout",
          "text": [
            "wav: /content/output_training_data/wav_cut_16k/test_0_5_S0000.wav, text: 其实 我 特别 能 理解 那些 中途 想要 放弃 逃跑的 一些 学生 \n",
            "wav: /content/output_training_data/wav_cut_16k/test_0_19_S0000.wav, text: 右手 要 无限的 撑开 \n"
          ]
        },
        {
          "output_type": "stream",
          "name": "stderr",
          "text": [
            "\r 37%|███▋      | 7/19 [00:00<00:00, 17.99it/s]"
          ]
        },
        {
          "output_type": "stream",
          "name": "stdout",
          "text": [
            "wav: /content/output_training_data/wav_cut_16k/test_0_12_S0000.wav, text: 就练 好几个 小时 练 \n",
            "wav: /content/output_training_data/wav_cut_16k/test_0_7_S0000.wav, text: 开始 练琴的 时候 因为 \n",
            "wav: /content/output_training_data/wav_cut_16k/test_0_17_S0000.wav, text: 左手 要比 右手 大 那么 一点 点因 \n",
            "wav: /content/output_training_data/wav_cut_16k/test_0_1_S0000.wav, text: 八岁的 时候 立志 成为 一个 像 马游勇 一样的 大提琴 演奏家在 \n"
          ]
        },
        {
          "output_type": "stream",
          "name": "stderr",
          "text": [
            "\r 58%|█████▊    | 11/19 [00:00<00:00, 21.02it/s]"
          ]
        },
        {
          "output_type": "stream",
          "name": "stdout",
          "text": [
            "wav: /content/output_training_data/wav_cut_16k/test_0_0_S0000.wav, text: 在 十二岁 以前呢 我 从来 没有 想过 自己 会 演戏 \n",
            "wav: /content/output_training_data/wav_cut_16k/test_0_4_S0000.wav, text: 我 是 从 六岁 开始 学琴的 所以 就 \n",
            "wav: /content/output_training_data/wav_cut_16k/test_0_3_S0000.wav, text: 音乐 感染 每一个人 \n"
          ]
        },
        {
          "output_type": "stream",
          "name": "stderr",
          "text": [
            "\r 74%|███████▎  | 14/19 [00:00<00:00, 21.66it/s]"
          ]
        },
        {
          "output_type": "stream",
          "name": "stdout",
          "text": [
            "wav: /content/output_training_data/wav_cut_16k/test_0_2_S0000.wav, text: 在 非常 神圣的 音乐厅 里面 用 \n",
            "wav: /content/output_training_data/wav_cut_16k/test_0_13_S0000.wav, text: 要 练到 直到 第一 层皮 退下去 \n",
            "wav: /content/output_training_data/wav_cut_16k/test_0_8_S0000.wav, text: 手指 要 不停的 在 纸板 上面 摩擦 \n"
          ]
        },
        {
          "output_type": "stream",
          "name": "stderr",
          "text": [
            "\r 89%|████████▉ | 17/19 [00:00<00:00, 21.04it/s]"
          ]
        },
        {
          "output_type": "stream",
          "name": "stdout",
          "text": [
            "wav: /content/output_training_data/wav_cut_16k/test_0_11_S0000.wav, text: 因为 恋情 这种 事情 是 不能 间断的 一恋 \n",
            "wav: /content/output_training_data/wav_cut_16k/test_0_6_S0000.wav, text: 对 恋情 这件 事情 太不 容易了 刚开 \n"
          ]
        },
        {
          "output_type": "stream",
          "name": "stderr",
          "text": [
            "\r100%|██████████| 19/19 [00:00<00:00, 19.70it/s]"
          ]
        },
        {
          "output_type": "stream",
          "name": "stdout",
          "text": [
            "---  There is this folder!  ---\n",
            "test_0_17_S0000.ali\n",
            "test_0_0_S0000.ali\n",
            "test_0_10_S0000.ali\n",
            "test_0_13_S0000.ali\n",
            "test_0_12_S0000.ali\n",
            "test_0_3_S0000.ali\n",
            "test_0_2_S0000.ali\n",
            "test_0_11_S0000.ali\n",
            "test_0_8_S0000.ali\n",
            "test_0_6_S0000.ali\n",
            "test_0_5_S0000.ali\n",
            "test_0_18_S0000.ali\n",
            "test_0_19_S0000.ali\n",
            "test_0_9_S0000.ali\n",
            "test_0_1_S0000.ali\n",
            "test_0_4_S0000.ali\n",
            "test_0_16_S0000.ali\n",
            "test_0_7_S0000.ali\n",
            "test_0_14_S0000.ali\n",
            "---  New folder /content/output_training_data/ali...  ---\n",
            "---  OK  ---\n",
            "---  New folder /content/output_training_data/coarse_interval...  ---\n",
            "---  OK  ---\n",
            "Trim silence wav with align info and modify wav files....\n"
          ]
        },
        {
          "output_type": "stream",
          "name": "stderr",
          "text": [
            "\n",
            "100%|██████████| 19/19 [00:00<00:00, 152.30it/s]"
          ]
        },
        {
          "output_type": "stream",
          "name": "stdout",
          "text": [
            "Convert align info to interval files....\n",
            "---  There is this folder!  ---\n",
            "test_0_17_S0000.ali\n",
            "test_0_0_S0000.ali\n",
            "test_0_10_S0000.ali\n",
            "test_0_13_S0000.ali\n",
            "test_0_12_S0000.ali\n",
            "test_0_3_S0000.ali\n",
            "test_0_2_S0000.ali\n",
            "test_0_11_S0000.ali\n",
            "test_0_8_S0000.ali\n",
            "test_0_6_S0000.ali\n",
            "test_0_5_S0000.ali\n"
          ]
        },
        {
          "output_type": "stream",
          "name": "stderr",
          "text": [
            "\n"
          ]
        },
        {
          "output_type": "stream",
          "name": "stdout",
          "text": [
            "test_0_18_S0000.ali\n",
            "test_0_19_S0000.ali\n",
            "test_0_9_S0000.ali\n",
            "test_0_1_S0000.ali\n",
            "test_0_4_S0000.ali\n",
            "test_0_16_S0000.ali\n",
            "test_0_7_S0000.ali\n",
            "test_0_14_S0000.ali\n",
            "qualification review.\n",
            "prosody sillence detect.\n",
            "---  New folder /content/output_training_data/prosody...  ---\n",
            "---  OK  ---\n"
          ]
        },
        {
          "output_type": "stream",
          "name": "stderr",
          "text": [
            "100%|██████████| 38/38 [00:00<00:00, 5265.22it/s]"
          ]
        },
        {
          "output_type": "stream",
          "name": "stdout",
          "text": [
            "Write prosody file\n",
            "0 \"mismatch\" sentences\n",
            "\n",
            "Trim sp started\n"
          ]
        },
        {
          "output_type": "stream",
          "name": "stderr",
          "text": [
            "\n",
            "100%|██████████| 19/19 [00:00<00:00, 156.63it/s]"
          ]
        },
        {
          "output_type": "stream",
          "name": "stdout",
          "text": [
            "Trim sp finished\n",
            "Auto labeling info: stage 1 | develop mode 0 | gender:female | score 10.000000 | retcode 0\n",
            "labeling report:\n",
            "stage 1 | develop mode 0 | gender female | score 10.000000 | retcode 0\n",
            "qulification report:\n",
            "credit score: 10.000000\n",
            "qualified score: 3.000000\n",
            "normalized snr: 35.000000\n"
          ]
        },
        {
          "output_type": "stream",
          "name": "stderr",
          "text": [
            "\n"
          ]
        },
        {
          "output_type": "stream",
          "name": "stdout",
          "text": [
            "abandon utt snr threshold: 10.000000\n",
            "snr score ration: 0.500000\n",
            "interval score ration: 0.500000\n",
            "data qulificaion report:\n"
          ]
        }
      ]
    },
    {
      "cell_type": "markdown",
      "source": [
        "## 训练 Training"
      ],
      "metadata": {
        "id": "oImeaYwbcFOV"
      }
    },
    {
      "cell_type": "code",
      "source": [
        "from modelscope.metainfo import Trainers\n",
        "from modelscope.trainers import build_trainer\n",
        "from modelscope.utils.audio.audio_utils import TtsTrainType\n",
        "\n",
        "pretrained_model_id = 'damo/speech_personal_sambert-hifigan_nsf_tts_zh-cn_pretrain_16k'\n",
        "\n",
        "dataset_id = \"./output_training_data/\"\n",
        "pretrain_work_dir = \"./pretrain_work_dir/\"\n",
        "\n",
        "# 训练信息，用于指定需要训练哪个或哪些模型，这里展示AM和Vocoder模型皆进行训练\n",
        "# 目前支持训练：TtsTrainType.TRAIN_TYPE_SAMBERT, TtsTrainType.TRAIN_TYPE_VOC\n",
        "# 训练SAMBERT会以模型最新step作为基础进行finetune\n",
        "train_info = {\n",
        "    TtsTrainType.TRAIN_TYPE_SAMBERT: {  # 配置训练AM（sambert）模型\n",
        "        'train_steps': 202,               # 训练多少个step\n",
        "        'save_interval_steps': 200,       # 每训练多少个step保存一次checkpoint\n",
        "        'log_interval': 10               # 每训练多少个step打印一次训练日志\n",
        "    }\n",
        "}\n",
        "\n",
        "# 配置训练参数，指定数据集，临时工作目录和train_info\n",
        "kwargs = dict(\n",
        "    model=pretrained_model_id,                  # 指定要finetune的模型\n",
        "    model_revision = \"v1.0.6\",\n",
        "    work_dir=pretrain_work_dir,                 # 指定临时工作目录\n",
        "    train_dataset=dataset_id,                   # 指定数据集id\n",
        "    train_type=train_info                       # 指定要训练类型及参数\n",
        ")\n",
        "\n",
        "trainer = build_trainer(Trainers.speech_kantts_trainer,\n",
        "                        default_args=kwargs)\n",
        "\n",
        "trainer.train()\n"
      ],
      "metadata": {
        "id": "tzH2jcmxbV1i",
        "colab": {
          "base_uri": "https://localhost:8080/"
        },
        "outputId": "b698d71f-4157-4ff1-8fee-5aa1dced0da2"
      },
      "execution_count": 8,
      "outputs": [
        {
          "output_type": "stream",
          "name": "stderr",
          "text": [
            "2023-08-27 14:18:00,534 - modelscope - INFO - Use user-specified model revision: v1.0.6\n",
            "Downloading: 100%|██████████| 4.07k/4.07k [00:00<00:00, 1.28MB/s]\n",
            "2023-08-27 14:18:03,476 - modelscope - INFO - Use user-specified model revision: v1.0.6\n",
            "Downloading: 100%|██████████| 138k/138k [00:00<00:00, 180kB/s]\n",
            "Downloading: 100%|██████████| 288k/288k [00:00<00:00, 335kB/s]\n",
            "Downloading: 100%|██████████| 327k/327k [00:00<00:00, 428kB/s]\n",
            "Downloading: 100%|██████████| 535k/535k [00:01<00:00, 490kB/s]\n",
            "Downloading: 100%|██████████| 506/506 [00:00<00:00, 2.59MB/s]\n",
            "Downloading: 100%|██████████| 1.69M/1.69M [00:01<00:00, 1.25MB/s]\n",
            "Downloading: 100%|██████████| 452k/452k [00:01<00:00, 290kB/s]\n",
            "Downloading: 100%|██████████| 998k/998k [00:03<00:00, 260kB/s]\n",
            "Downloading: 100%|██████████| 866M/866M [01:03<00:00, 14.3MB/s]\n",
            "Downloading: 100%|██████████| 150M/150M [00:20<00:00, 7.76MB/s]\n",
            "Downloading: 100%|██████████| 3.82k/3.82k [00:00<00:00, 2.06MB/s]\n",
            "Downloading: 100%|██████████| 2.49k/2.49k [00:00<00:00, 7.66MB/s]\n",
            "Downloading: 100%|██████████| 1.60M/1.60M [00:01<00:00, 1.27MB/s]\n",
            "Downloading: 100%|██████████| 51.3k/51.3k [00:00<00:00, 97.2kB/s]\n",
            "Downloading: 100%|██████████| 1.79M/1.79M [00:02<00:00, 918kB/s]\n",
            "Downloading: 100%|██████████| 1.87M/1.87M [00:05<00:00, 356kB/s]\n",
            "Downloading: 100%|██████████| 112k/112k [00:00<00:00, 146kB/s]\n",
            "Downloading: 100%|██████████| 226k/226k [00:00<00:00, 237kB/s]\n",
            "Downloading: 100%|██████████| 72.3k/72.3k [00:00<00:00, 156kB/s]\n",
            "Downloading: 100%|██████████| 24.1k/24.1k [00:00<00:00, 50.1kB/s]\n",
            "Downloading: 100%|██████████| 236M/236M [00:23<00:00, 10.6MB/s]\n",
            "Downloading: 100%|██████████| 67.1k/67.1k [00:00<00:00, 180kB/s]\n",
            "Downloading: 100%|██████████| 26.8M/26.8M [00:07<00:00, 3.74MB/s]\n",
            "Downloading: 100%|██████████| 26.8M/26.8M [00:05<00:00, 5.52MB/s]\n",
            "Downloading: 100%|██████████| 151k/151k [00:00<00:00, 268kB/s]\n",
            "Downloading: 100%|██████████| 52.3k/52.3k [00:00<00:00, 136kB/s]\n",
            "Downloading: 100%|██████████| 98.7k/98.7k [00:00<00:00, 163kB/s]\n",
            "Downloading: 100%|██████████| 45.0k/45.0k [00:00<00:00, 121kB/s]\n",
            "Downloading: 100%|██████████| 2.34M/2.34M [00:04<00:00, 594kB/s]\n",
            "Downloading: 100%|██████████| 63.6k/63.6k [00:00<00:00, 126kB/s]\n",
            "Downloading: 100%|██████████| 1.57M/1.57M [00:01<00:00, 1.13MB/s]\n",
            "2023-08-27 14:20:59,472 - modelscope - INFO - Set workdir to ./pretrain_work_dir/\n",
            "2023-08-27 14:20:59,474 - modelscope - INFO - load ./output_training_data/\n",
            "2023-08-27 14:21:00,085 - modelscope - INFO - Use user-specified model revision: v1.0.6\n",
            "2023-08-27 14:21:02,850 - modelscope - INFO - am_config=./pretrain_work_dir/orig_model/basemodel_16k/sambert/config.yaml voc_config=./pretrain_work_dir/orig_model/basemodel_16k/hifigan/config.yaml\n",
            "2023-08-27 14:21:02,851 - modelscope - INFO - audio_config=./pretrain_work_dir/orig_model/basemodel_16k/audio_config_se_16k.yaml\n",
            "2023-08-27 14:21:02,852 - modelscope - INFO - am_ckpts=OrderedDict([(2400000, './pretrain_work_dir/orig_model/basemodel_16k/sambert/ckpt/checkpoint_2400000.pth')])\n",
            "2023-08-27 14:21:02,853 - modelscope - INFO - voc_ckpts=OrderedDict([(2400000, './pretrain_work_dir/orig_model/basemodel_16k/hifigan/ckpt/checkpoint_2400000.pth')])\n",
            "2023-08-27 14:21:02,854 - modelscope - INFO - se_path=./pretrain_work_dir/orig_model/se.npy se_model_path=./pretrain_work_dir/orig_model/basemodel_16k/speaker_embedding/se.onnx\n",
            "2023-08-27 14:21:02,855 - modelscope - INFO - mvn_path=./pretrain_work_dir/orig_model/mvn.npy\n",
            "100%|██████████| 38/38 [00:00<00:00, 8294.31it/s]"
          ]
        },
        {
          "output_type": "stream",
          "name": "stdout",
          "text": [
            "TextScriptConvertor.process:\n",
            "Save script to: ./pretrain_work_dir/data/Script.xml\n",
            "TextScriptConvertor.process:\n",
            "Save metafile to: ./pretrain_work_dir/data/raw_metafile.txt\n",
            "[AudioProcessor] Initialize AudioProcessor.\n",
            "[AudioProcessor] config params:\n",
            "[AudioProcessor] wav_normalize: True\n",
            "[AudioProcessor] trim_silence: True\n",
            "[AudioProcessor] trim_silence_threshold_db: 60\n",
            "[AudioProcessor] preemphasize: False\n",
            "[AudioProcessor] sampling_rate: 16000\n",
            "[AudioProcessor] hop_length: 200\n",
            "[AudioProcessor] win_length: 1000\n",
            "[AudioProcessor] n_fft: 2048\n",
            "[AudioProcessor] n_mels: 80\n",
            "[AudioProcessor] fmin: 0.0\n",
            "[AudioProcessor] fmax: 8000.0\n",
            "[AudioProcessor] phone_level_feature: True\n",
            "[AudioProcessor] se_feature: True\n",
            "[AudioProcessor] norm_type: mean_std\n",
            "[AudioProcessor] max_norm: 1.0\n",
            "[AudioProcessor] symmetric: False\n",
            "[AudioProcessor] min_level_db: -100.0\n",
            "[AudioProcessor] ref_level_db: 20\n",
            "[AudioProcessor] num_workers: 16\n",
            "[AudioProcessor] Amplitude normalization started\n",
            "Volume statistic proceeding...\n"
          ]
        },
        {
          "output_type": "stream",
          "name": "stderr",
          "text": [
            "\n",
            "100%|██████████| 19/19 [00:00<00:00, 55.33it/s]"
          ]
        },
        {
          "output_type": "stream",
          "name": "stdout",
          "text": [
            "Average amplitude RMS : 0.1696801578947368\n",
            "Volume statistic done.\n",
            "Volume normalization proceeding...\n"
          ]
        },
        {
          "output_type": "stream",
          "name": "stderr",
          "text": [
            "\n",
            "100%|██████████| 19/19 [00:00<00:00, 1570.37it/s]"
          ]
        },
        {
          "output_type": "stream",
          "name": "stdout",
          "text": [
            "Volume normalization done.\n",
            "[AudioProcessor] Amplitude normalization finished\n",
            "[AudioProcessor] Duration generation started\n"
          ]
        },
        {
          "output_type": "stream",
          "name": "stderr",
          "text": [
            "\n",
            "  0%|          | 0/19 [00:00<?, ?it/s]"
          ]
        },
        {
          "output_type": "stream",
          "name": "stdout",
          "text": [
            "[AudioProcessor] Duration align with mel is proceeding...\n"
          ]
        },
        {
          "output_type": "stream",
          "name": "stderr",
          "text": [
            "100%|██████████| 19/19 [00:00<00:00, 28.53it/s]"
          ]
        },
        {
          "output_type": "stream",
          "name": "stdout",
          "text": [
            "[AudioProcessor] Duration generate finished\n",
            "[AudioProcessor] Trim silence with interval started\n",
            "[AudioProcessor] Start to load pcm from ./pretrain_work_dir/data/wav\n"
          ]
        },
        {
          "output_type": "stream",
          "name": "stderr",
          "text": [
            "\n",
            "100%|██████████| 19/19 [00:00<00:00, 29.27it/s]\n",
            "  0%|          | 0/19 [00:00<?, ?it/s]\n",
            "100%|██████████| 19/19 [00:00<00:00, 2589.67it/s]"
          ]
        },
        {
          "output_type": "stream",
          "name": "stdout",
          "text": [
            "[AudioProcessor] Trim silence finished\n",
            "[AudioProcessor] Melspec extraction started\n"
          ]
        },
        {
          "output_type": "stream",
          "name": "stderr",
          "text": [
            "\n",
            "100%|██████████| 19/19 [00:00<00:00, 20.25it/s]\n"
          ]
        },
        {
          "output_type": "stream",
          "name": "stdout",
          "text": [
            "[AudioProcessor] Melspec extraction finished\n",
            "Melspec statistic proceeding...\n"
          ]
        },
        {
          "output_type": "stream",
          "name": "stderr",
          "text": [
            "100%|██████████| 19/19 [00:00<00:00, 13242.24it/s]\n",
            "100%|██████████| 19/19 [00:00<00:00, 5621.99it/s]"
          ]
        },
        {
          "output_type": "stream",
          "name": "stdout",
          "text": [
            "Melspec statistic done\n",
            "[AudioProcessor] melspec mean and std saved to:\n",
            "./pretrain_work_dir/data/mel/mel_mean.txt,\n",
            "./pretrain_work_dir/data/mel/mel_std.txt\n"
          ]
        },
        {
          "output_type": "stream",
          "name": "stderr",
          "text": [
            "\n"
          ]
        },
        {
          "output_type": "stream",
          "name": "stdout",
          "text": [
            "[AudioProcessor] Melspec mean std norm is proceeding...\n",
            "[AudioProcessor] Melspec normalization finished\n",
            "[AudioProcessor] Normed Melspec saved to ./pretrain_work_dir/data/mel\n",
            "[Duration Calibrating] Syllable duration 34                        is not equal to the number of symbols 33, index: test_0_8_S0000\n",
            "[AudioProcessor] Pitch extraction started\n"
          ]
        },
        {
          "output_type": "stream",
          "name": "stderr",
          "text": [
            "\r  0%|          | 0/19 [00:00<?, ?it/s]"
          ]
        },
        {
          "output_type": "stream",
          "name": "stdout",
          "text": [
            "[AudioProcessor] Pitch align with mel is proceeding...\n"
          ]
        },
        {
          "output_type": "stream",
          "name": "stderr",
          "text": [
            "100%|██████████| 19/19 [00:00<00:00, 21.18it/s]\n"
          ]
        },
        {
          "output_type": "stream",
          "name": "stdout",
          "text": [
            "[AudioProcessor] Pitch normalization is proceeding...\n"
          ]
        },
        {
          "output_type": "stream",
          "name": "stderr",
          "text": [
            "100%|██████████| 19/19 [00:00<00:00, 26751.18it/s]\n",
            "100%|██████████| 19/19 [00:00<00:00, 24565.90it/s]"
          ]
        },
        {
          "output_type": "stream",
          "name": "stdout",
          "text": [
            "[AudioProcessor] f0 mean and std saved to:\n",
            "./pretrain_work_dir/data/f0/f0_mean.txt,\n",
            "./pretrain_work_dir/data/f0/f0_std.txt\n",
            "[AudioProcessor] Pitch mean std norm is proceeding...\n",
            "[AudioProcessor] Pitch turn to phone-level is proceeding...\n"
          ]
        },
        {
          "output_type": "stream",
          "name": "stderr",
          "text": [
            "\n",
            "100%|██████████| 19/19 [00:00<00:00, 29.32it/s]"
          ]
        },
        {
          "output_type": "stream",
          "name": "stdout",
          "text": [
            "[AudioProcessor] Pitch normalization finished\n",
            "[AudioProcessor] Normed f0 saved to ./pretrain_work_dir/data/f0\n",
            "[AudioProcessor] Pitch extraction finished\n",
            "[AudioProcessor] Energy extraction started\n"
          ]
        },
        {
          "output_type": "stream",
          "name": "stderr",
          "text": [
            "\n",
            "100%|██████████| 19/19 [00:00<00:00, 27.35it/s]\n",
            "100%|██████████| 19/19 [00:00<00:00, 28811.20it/s]\n",
            "100%|██████████| 19/19 [00:00<00:00, 26626.05it/s]"
          ]
        },
        {
          "output_type": "stream",
          "name": "stdout",
          "text": [
            "[AudioProcessor] energy mean and std saved to:\n",
            "./pretrain_work_dir/data/energy/energy_mean.txt,\n",
            "./pretrain_work_dir/data/energy/energy_std.txt\n"
          ]
        },
        {
          "output_type": "stream",
          "name": "stderr",
          "text": [
            "\n"
          ]
        },
        {
          "output_type": "stream",
          "name": "stdout",
          "text": [
            "[AudioProcessor] Energy mean std norm is proceeding...\n"
          ]
        },
        {
          "output_type": "stream",
          "name": "stderr",
          "text": [
            "100%|██████████| 19/19 [00:00<00:00, 29.60it/s]"
          ]
        },
        {
          "output_type": "stream",
          "name": "stdout",
          "text": [
            "[AudioProcessor] Energy normalization finished\n",
            "[AudioProcessor] Normed Energy saved to ./pretrain_work_dir/data/energy\n",
            "[AudioProcessor] Energy extraction finished\n",
            "[AudioProcessor] All features extracted successfully!\n",
            "Processing audio done.\n",
            "[SpeakerEmbeddingProcessor] Speaker embedding extractor started\n"
          ]
        },
        {
          "output_type": "stream",
          "name": "stderr",
          "text": [
            "\n"
          ]
        },
        {
          "output_type": "stream",
          "name": "stdout",
          "text": [
            "[SpeakerEmbeddingProcessor] se model loading error!!!\n",
            "[SpeakerEmbeddingProcessor] please update your se model to ensure that the version is greater than or equal to 1.0.5\n",
            "[SpeakerEmbeddingProcessor] try load it as se.model\n",
            "[SpeakerEmbeddingProcessor] Speaker embedding extracted successfully!\n",
            "Processing speaker embedding done.\n",
            "Processing done.\n",
            "Voc metafile generated.\n",
            "AM metafile generated.\n"
          ]
        },
        {
          "output_type": "stream",
          "name": "stderr",
          "text": [
            "2023-08-27 14:21:47,868 - modelscope - INFO - Start training....\n",
            "2023-08-27 14:21:47,869 - modelscope - INFO - Start SAMBERT training...\n",
            "2023-08-27 14:21:47,870 - modelscope - INFO - TRAIN SAMBERT....\n",
            "2023-08-27 14:21:47,886 - modelscope - INFO - TRAINING steps: 2400202\n",
            "2023-08-27 14:21:47,895 - modelscope - INFO - audio_config = {'fmax': 8000.0, 'fmin': 0.0, 'hop_length': 200, 'max_norm': 1.0, 'min_level_db': -100.0, 'n_fft': 2048, 'n_mels': 80, 'norm_type': 'mean_std', 'num_workers': 16, 'phone_level_feature': True, 'preemphasize': False, 'ref_level_db': 20, 'sampling_rate': 16000, 'symmetric': False, 'trim_silence': True, 'trim_silence_threshold_db': 60, 'wav_normalize': True, 'win_length': 1000}\n",
            "2023-08-27 14:21:47,895 - modelscope - INFO - Loss = {'MelReconLoss': {'enable': True, 'params': {'loss_type': 'mae'}}, 'ProsodyReconLoss': {'enable': True, 'params': {'loss_type': 'mae'}}}\n",
            "2023-08-27 14:21:47,897 - modelscope - INFO - Model = {'KanTtsSAMBERT': {'optimizer': {'params': {'betas': [0.9, 0.98], 'eps': 1e-09, 'lr': 0.001, 'weight_decay': 0.0}, 'type': 'Adam'}, 'params': {'MAS': False, 'NSF': True, 'SE': True, 'decoder_attention_dropout': 0.1, 'decoder_dropout': 0.1, 'decoder_ffn_inner_dim': 1024, 'decoder_num_heads': 8, 'decoder_num_layers': 12, 'decoder_num_units': 128, 'decoder_prenet_units': [256, 256], 'decoder_relu_dropout': 0.1, 'dur_pred_lstm_units': 128, 'dur_pred_prenet_units': [128, 128], 'embedding_dim': 512, 'emotion_units': 32, 'encoder_attention_dropout': 0.1, 'encoder_dropout': 0.1, 'encoder_ffn_inner_dim': 1024, 'encoder_num_heads': 8, 'encoder_num_layers': 8, 'encoder_num_units': 128, 'encoder_projection_units': 32, 'encoder_relu_dropout': 0.1, 'max_len': 800, 'nsf_f0_global_maximum': 730.0, 'nsf_f0_global_minimum': 30.0, 'nsf_norm_type': 'global', 'num_mels': 82, 'outputs_per_step': 3, 'postnet_dropout': 0.1, 'postnet_ffn_inner_dim': 512, 'postnet_filter_size': 41, 'postnet_fsmn_num_layers': 4, 'postnet_lstm_units': 128, 'postnet_num_memory_units': 256, 'postnet_shift': 17, 'predictor_dropout': 0.1, 'predictor_ffn_inner_dim': 256, 'predictor_filter_size': 41, 'predictor_fsmn_num_layers': 3, 'predictor_lstm_units': 128, 'predictor_num_memory_units': 128, 'predictor_shift': 0, 'speaker_units': 192}, 'scheduler': {'params': {'warmup_steps': 4000}, 'type': 'NoamLR'}}}\n",
            "2023-08-27 14:21:47,898 - modelscope - INFO - allow_cache = False\n",
            "2023-08-27 14:21:47,899 - modelscope - INFO - batch_size = 32\n",
            "2023-08-27 14:21:47,900 - modelscope - INFO - create_time = 2023-08-27 14:21:47\n",
            "2023-08-27 14:21:47,901 - modelscope - INFO - eval_interval_steps = 10000000000000000\n",
            "2023-08-27 14:21:47,902 - modelscope - INFO - git_revision_hash = d16755444c9baf23348213211a5ed9035458ecf0\n",
            "2023-08-27 14:21:47,907 - modelscope - INFO - grad_norm = 1.0\n",
            "2023-08-27 14:21:47,908 - modelscope - INFO - linguistic_unit = {'cleaners': 'english_cleaners', 'lfeat_type_list': 'sy,tone,syllable_flag,word_segment,emo_category,speaker_category', 'speaker_list': 'F7'}\n",
            "2023-08-27 14:21:47,910 - modelscope - INFO - log_interval_steps = 50\n",
            "2023-08-27 14:21:47,912 - modelscope - INFO - model_type = sambert\n",
            "2023-08-27 14:21:47,913 - modelscope - INFO - num_save_intermediate_results = 4\n",
            "2023-08-27 14:21:47,914 - modelscope - INFO - num_workers = 4\n",
            "2023-08-27 14:21:47,915 - modelscope - INFO - pin_memory = False\n",
            "2023-08-27 14:21:47,917 - modelscope - INFO - remove_short_samples = False\n",
            "2023-08-27 14:21:47,918 - modelscope - INFO - save_interval_steps = 200\n",
            "2023-08-27 14:21:47,919 - modelscope - INFO - train_max_steps = 2400202\n",
            "2023-08-27 14:21:47,920 - modelscope - INFO - train_steps = 202\n",
            "2023-08-27 14:21:47,921 - modelscope - INFO - log_interval = 10\n",
            "2023-08-27 14:21:47,922 - modelscope - INFO - modelscope_version = 1.8.4\n"
          ]
        },
        {
          "output_type": "stream",
          "name": "stdout",
          "text": [
            "Loading metafile...\n"
          ]
        },
        {
          "output_type": "stream",
          "name": "stderr",
          "text": [
            "100%|██████████| 17/17 [00:00<00:00, 16110.07it/s]"
          ]
        },
        {
          "output_type": "stream",
          "name": "stdout",
          "text": [
            "Loading metafile...\n"
          ]
        },
        {
          "output_type": "stream",
          "name": "stderr",
          "text": [
            "\n",
            "100%|██████████| 1/1 [00:00<00:00, 1331.10it/s]\n",
            "2023-08-27 14:21:47,948 - modelscope - INFO - The number of training files = 17.\n",
            "2023-08-27 14:21:47,948 - modelscope - INFO - The number of validation files = 1.\n",
            "2023-08-27 14:21:48,908 - modelscope - INFO - Successfully resumed from ./pretrain_work_dir/orig_model/basemodel_16k/sambert/ckpt/checkpoint_2400000.pth.\n",
            "  0%|          | 0/1 [00:00<?, ?it/s]"
          ]
        },
        {
          "output_type": "stream",
          "name": "stdout",
          "text": [
            "Checkpoint saved at step 2400000\n",
            "(Steps: 2400000) train/TotalLoss = 0.0346.\n",
            "(Steps: 2400000) train/mel_loss_ = 0.0088.\n",
            "(Steps: 2400000) train/mel_loss = 0.0077.\n",
            "(Steps: 2400000) train/dur_loss = 0.0053.\n",
            "(Steps: 2400000) train/pitch_loss = 0.0041.\n",
            "(Steps: 2400000) train/energy_loss = 0.0086.\n",
            "(Steps: 2400000) train/batch_size = 0.3400.\n",
            "(Steps: 2400000) train/x_band_width = 0.4200.\n",
            "(Steps: 2400000) train/h_band_width = 0.4200.\n",
            "KanTtsSAMBERT learning rate: 0.000082\n"
          ]
        },
        {
          "output_type": "stream",
          "name": "stderr",
          "text": [
            "100%|██████████| 1/1 [00:04<00:00,  4.06s/it]"
          ]
        },
        {
          "output_type": "stream",
          "name": "stdout",
          "text": [
            "Epoch 0 finished\n"
          ]
        },
        {
          "output_type": "stream",
          "name": "stderr",
          "text": [
            "\n",
            "100%|██████████| 1/1 [00:00<00:00,  1.80it/s]"
          ]
        },
        {
          "output_type": "stream",
          "name": "stdout",
          "text": [
            "Epoch 1 finished\n"
          ]
        },
        {
          "output_type": "stream",
          "name": "stderr",
          "text": [
            "\n",
            "100%|██████████| 1/1 [00:00<00:00,  1.85it/s]"
          ]
        },
        {
          "output_type": "stream",
          "name": "stdout",
          "text": [
            "Epoch 2 finished\n"
          ]
        },
        {
          "output_type": "stream",
          "name": "stderr",
          "text": [
            "\n",
            "100%|██████████| 1/1 [00:00<00:00,  1.91it/s]"
          ]
        },
        {
          "output_type": "stream",
          "name": "stdout",
          "text": [
            "Epoch 3 finished\n"
          ]
        },
        {
          "output_type": "stream",
          "name": "stderr",
          "text": [
            "\n",
            "100%|██████████| 1/1 [00:00<00:00,  1.97it/s]"
          ]
        },
        {
          "output_type": "stream",
          "name": "stdout",
          "text": [
            "Epoch 4 finished\n"
          ]
        },
        {
          "output_type": "stream",
          "name": "stderr",
          "text": [
            "\n",
            "100%|██████████| 1/1 [00:00<00:00,  1.93it/s]"
          ]
        },
        {
          "output_type": "stream",
          "name": "stdout",
          "text": [
            "Epoch 5 finished\n"
          ]
        },
        {
          "output_type": "stream",
          "name": "stderr",
          "text": [
            "\n",
            "100%|██████████| 1/1 [00:00<00:00,  1.94it/s]"
          ]
        },
        {
          "output_type": "stream",
          "name": "stdout",
          "text": [
            "Epoch 6 finished\n"
          ]
        },
        {
          "output_type": "stream",
          "name": "stderr",
          "text": [
            "\n",
            "100%|██████████| 1/1 [00:00<00:00,  1.94it/s]"
          ]
        },
        {
          "output_type": "stream",
          "name": "stdout",
          "text": [
            "Epoch 7 finished\n"
          ]
        },
        {
          "output_type": "stream",
          "name": "stderr",
          "text": [
            "\n",
            "100%|██████████| 1/1 [00:00<00:00,  1.94it/s]"
          ]
        },
        {
          "output_type": "stream",
          "name": "stdout",
          "text": [
            "Epoch 8 finished\n"
          ]
        },
        {
          "output_type": "stream",
          "name": "stderr",
          "text": [
            "\n",
            "100%|██████████| 1/1 [00:00<00:00,  1.96it/s]"
          ]
        },
        {
          "output_type": "stream",
          "name": "stdout",
          "text": [
            "Epoch 9 finished\n"
          ]
        },
        {
          "output_type": "stream",
          "name": "stderr",
          "text": [
            "\n",
            "  0%|          | 0/1 [00:00<?, ?it/s]"
          ]
        },
        {
          "output_type": "stream",
          "name": "stdout",
          "text": [
            "(Steps: 2400010) train/TotalLoss = 0.3256.\n",
            "(Steps: 2400010) train/mel_loss_ = 0.0834.\n",
            "(Steps: 2400010) train/mel_loss = 0.0697.\n",
            "(Steps: 2400010) train/dur_loss = 0.0496.\n",
            "(Steps: 2400010) train/pitch_loss = 0.0399.\n",
            "(Steps: 2400010) train/energy_loss = 0.0831.\n",
            "(Steps: 2400010) train/batch_size = 3.4000.\n",
            "(Steps: 2400010) train/x_band_width = 4.2000.\n",
            "(Steps: 2400010) train/h_band_width = 4.2000.\n",
            "KanTtsSAMBERT learning rate: 0.000082\n"
          ]
        },
        {
          "output_type": "stream",
          "name": "stderr",
          "text": [
            "100%|██████████| 1/1 [00:00<00:00,  1.91it/s]"
          ]
        },
        {
          "output_type": "stream",
          "name": "stdout",
          "text": [
            "Epoch 10 finished\n"
          ]
        },
        {
          "output_type": "stream",
          "name": "stderr",
          "text": [
            "\n",
            "100%|██████████| 1/1 [00:00<00:00,  1.94it/s]"
          ]
        },
        {
          "output_type": "stream",
          "name": "stdout",
          "text": [
            "Epoch 11 finished\n"
          ]
        },
        {
          "output_type": "stream",
          "name": "stderr",
          "text": [
            "\n",
            "100%|██████████| 1/1 [00:00<00:00,  1.95it/s]"
          ]
        },
        {
          "output_type": "stream",
          "name": "stdout",
          "text": [
            "Epoch 12 finished\n"
          ]
        },
        {
          "output_type": "stream",
          "name": "stderr",
          "text": [
            "\n",
            "100%|██████████| 1/1 [00:00<00:00,  1.84it/s]"
          ]
        },
        {
          "output_type": "stream",
          "name": "stdout",
          "text": [
            "Epoch 13 finished\n"
          ]
        },
        {
          "output_type": "stream",
          "name": "stderr",
          "text": [
            "\n",
            "100%|██████████| 1/1 [00:00<00:00,  1.91it/s]"
          ]
        },
        {
          "output_type": "stream",
          "name": "stdout",
          "text": [
            "Epoch 14 finished\n"
          ]
        },
        {
          "output_type": "stream",
          "name": "stderr",
          "text": [
            "\n",
            "100%|██████████| 1/1 [00:00<00:00,  1.92it/s]"
          ]
        },
        {
          "output_type": "stream",
          "name": "stdout",
          "text": [
            "Epoch 15 finished\n"
          ]
        },
        {
          "output_type": "stream",
          "name": "stderr",
          "text": [
            "\n",
            "100%|██████████| 1/1 [00:00<00:00,  1.90it/s]"
          ]
        },
        {
          "output_type": "stream",
          "name": "stdout",
          "text": [
            "Epoch 16 finished\n"
          ]
        },
        {
          "output_type": "stream",
          "name": "stderr",
          "text": [
            "\n",
            "100%|██████████| 1/1 [00:00<00:00,  1.91it/s]"
          ]
        },
        {
          "output_type": "stream",
          "name": "stdout",
          "text": [
            "Epoch 17 finished\n"
          ]
        },
        {
          "output_type": "stream",
          "name": "stderr",
          "text": [
            "\n",
            "100%|██████████| 1/1 [00:00<00:00,  1.92it/s]"
          ]
        },
        {
          "output_type": "stream",
          "name": "stdout",
          "text": [
            "Epoch 18 finished\n"
          ]
        },
        {
          "output_type": "stream",
          "name": "stderr",
          "text": [
            "\n",
            "100%|██████████| 1/1 [00:00<00:00,  1.90it/s]"
          ]
        },
        {
          "output_type": "stream",
          "name": "stdout",
          "text": [
            "Epoch 19 finished\n"
          ]
        },
        {
          "output_type": "stream",
          "name": "stderr",
          "text": [
            "\n",
            "  0%|          | 0/1 [00:00<?, ?it/s]"
          ]
        },
        {
          "output_type": "stream",
          "name": "stdout",
          "text": [
            "(Steps: 2400020) train/TotalLoss = 0.2948.\n",
            "(Steps: 2400020) train/mel_loss_ = 0.0763.\n",
            "(Steps: 2400020) train/mel_loss = 0.0608.\n",
            "(Steps: 2400020) train/dur_loss = 0.0421.\n",
            "(Steps: 2400020) train/pitch_loss = 0.0365.\n",
            "(Steps: 2400020) train/energy_loss = 0.0791.\n",
            "(Steps: 2400020) train/batch_size = 3.4000.\n",
            "(Steps: 2400020) train/x_band_width = 4.2000.\n",
            "(Steps: 2400020) train/h_band_width = 4.2000.\n",
            "KanTtsSAMBERT learning rate: 0.000082\n"
          ]
        },
        {
          "output_type": "stream",
          "name": "stderr",
          "text": [
            "100%|██████████| 1/1 [00:00<00:00,  1.75it/s]"
          ]
        },
        {
          "output_type": "stream",
          "name": "stdout",
          "text": [
            "Epoch 20 finished\n"
          ]
        },
        {
          "output_type": "stream",
          "name": "stderr",
          "text": [
            "\n",
            "100%|██████████| 1/1 [00:00<00:00,  1.83it/s]"
          ]
        },
        {
          "output_type": "stream",
          "name": "stdout",
          "text": [
            "Epoch 21 finished\n"
          ]
        },
        {
          "output_type": "stream",
          "name": "stderr",
          "text": [
            "\n",
            "100%|██████████| 1/1 [00:00<00:00,  1.76it/s]"
          ]
        },
        {
          "output_type": "stream",
          "name": "stdout",
          "text": [
            "Epoch 22 finished\n"
          ]
        },
        {
          "output_type": "stream",
          "name": "stderr",
          "text": [
            "\n",
            "100%|██████████| 1/1 [00:00<00:00,  1.88it/s]"
          ]
        },
        {
          "output_type": "stream",
          "name": "stdout",
          "text": [
            "Epoch 23 finished\n"
          ]
        },
        {
          "output_type": "stream",
          "name": "stderr",
          "text": [
            "\n",
            "100%|██████████| 1/1 [00:00<00:00,  1.75it/s]"
          ]
        },
        {
          "output_type": "stream",
          "name": "stdout",
          "text": [
            "Epoch 24 finished\n"
          ]
        },
        {
          "output_type": "stream",
          "name": "stderr",
          "text": [
            "\n",
            "100%|██████████| 1/1 [00:00<00:00,  1.76it/s]"
          ]
        },
        {
          "output_type": "stream",
          "name": "stdout",
          "text": [
            "Epoch 25 finished\n"
          ]
        },
        {
          "output_type": "stream",
          "name": "stderr",
          "text": [
            "\n",
            "100%|██████████| 1/1 [00:00<00:00,  1.91it/s]"
          ]
        },
        {
          "output_type": "stream",
          "name": "stdout",
          "text": [
            "Epoch 26 finished\n"
          ]
        },
        {
          "output_type": "stream",
          "name": "stderr",
          "text": [
            "\n",
            "100%|██████████| 1/1 [00:00<00:00,  1.82it/s]"
          ]
        },
        {
          "output_type": "stream",
          "name": "stdout",
          "text": [
            "Epoch 27 finished\n"
          ]
        },
        {
          "output_type": "stream",
          "name": "stderr",
          "text": [
            "\n",
            "100%|██████████| 1/1 [00:00<00:00,  1.78it/s]"
          ]
        },
        {
          "output_type": "stream",
          "name": "stdout",
          "text": [
            "Epoch 28 finished\n"
          ]
        },
        {
          "output_type": "stream",
          "name": "stderr",
          "text": [
            "\n",
            "100%|██████████| 1/1 [00:00<00:00,  1.83it/s]"
          ]
        },
        {
          "output_type": "stream",
          "name": "stdout",
          "text": [
            "Epoch 29 finished\n"
          ]
        },
        {
          "output_type": "stream",
          "name": "stderr",
          "text": [
            "\n",
            "  0%|          | 0/1 [00:00<?, ?it/s]"
          ]
        },
        {
          "output_type": "stream",
          "name": "stdout",
          "text": [
            "(Steps: 2400030) train/TotalLoss = 0.2734.\n",
            "(Steps: 2400030) train/mel_loss_ = 0.0720.\n",
            "(Steps: 2400030) train/mel_loss = 0.0558.\n",
            "(Steps: 2400030) train/dur_loss = 0.0366.\n",
            "(Steps: 2400030) train/pitch_loss = 0.0337.\n",
            "(Steps: 2400030) train/energy_loss = 0.0751.\n",
            "(Steps: 2400030) train/batch_size = 3.4000.\n",
            "(Steps: 2400030) train/x_band_width = 4.2000.\n",
            "(Steps: 2400030) train/h_band_width = 4.2000.\n",
            "KanTtsSAMBERT learning rate: 0.000082\n"
          ]
        },
        {
          "output_type": "stream",
          "name": "stderr",
          "text": [
            "100%|██████████| 1/1 [00:00<00:00,  1.79it/s]"
          ]
        },
        {
          "output_type": "stream",
          "name": "stdout",
          "text": [
            "Epoch 30 finished\n"
          ]
        },
        {
          "output_type": "stream",
          "name": "stderr",
          "text": [
            "\n",
            "100%|██████████| 1/1 [00:00<00:00,  1.93it/s]"
          ]
        },
        {
          "output_type": "stream",
          "name": "stdout",
          "text": [
            "Epoch 31 finished\n"
          ]
        },
        {
          "output_type": "stream",
          "name": "stderr",
          "text": [
            "\n",
            "100%|██████████| 1/1 [00:00<00:00,  1.85it/s]"
          ]
        },
        {
          "output_type": "stream",
          "name": "stdout",
          "text": [
            "Epoch 32 finished\n"
          ]
        },
        {
          "output_type": "stream",
          "name": "stderr",
          "text": [
            "\n",
            "100%|██████████| 1/1 [00:00<00:00,  1.84it/s]"
          ]
        },
        {
          "output_type": "stream",
          "name": "stdout",
          "text": [
            "Epoch 33 finished\n"
          ]
        },
        {
          "output_type": "stream",
          "name": "stderr",
          "text": [
            "\n",
            "100%|██████████| 1/1 [00:00<00:00,  1.89it/s]"
          ]
        },
        {
          "output_type": "stream",
          "name": "stdout",
          "text": [
            "Epoch 34 finished\n"
          ]
        },
        {
          "output_type": "stream",
          "name": "stderr",
          "text": [
            "\n",
            "100%|██████████| 1/1 [00:00<00:00,  1.94it/s]"
          ]
        },
        {
          "output_type": "stream",
          "name": "stdout",
          "text": [
            "Epoch 35 finished\n"
          ]
        },
        {
          "output_type": "stream",
          "name": "stderr",
          "text": [
            "\n",
            "100%|██████████| 1/1 [00:00<00:00,  1.97it/s]"
          ]
        },
        {
          "output_type": "stream",
          "name": "stdout",
          "text": [
            "Epoch 36 finished\n"
          ]
        },
        {
          "output_type": "stream",
          "name": "stderr",
          "text": [
            "\n",
            "100%|██████████| 1/1 [00:00<00:00,  1.96it/s]"
          ]
        },
        {
          "output_type": "stream",
          "name": "stdout",
          "text": [
            "Epoch 37 finished\n"
          ]
        },
        {
          "output_type": "stream",
          "name": "stderr",
          "text": [
            "\n",
            "100%|██████████| 1/1 [00:00<00:00,  1.90it/s]"
          ]
        },
        {
          "output_type": "stream",
          "name": "stdout",
          "text": [
            "Epoch 38 finished\n"
          ]
        },
        {
          "output_type": "stream",
          "name": "stderr",
          "text": [
            "\n",
            "100%|██████████| 1/1 [00:00<00:00,  1.93it/s]"
          ]
        },
        {
          "output_type": "stream",
          "name": "stdout",
          "text": [
            "Epoch 39 finished\n"
          ]
        },
        {
          "output_type": "stream",
          "name": "stderr",
          "text": [
            "\n",
            "  0%|          | 0/1 [00:00<?, ?it/s]"
          ]
        },
        {
          "output_type": "stream",
          "name": "stdout",
          "text": [
            "(Steps: 2400040) train/TotalLoss = 0.2598.\n",
            "(Steps: 2400040) train/mel_loss_ = 0.0696.\n",
            "(Steps: 2400040) train/mel_loss = 0.0532.\n",
            "(Steps: 2400040) train/dur_loss = 0.0325.\n",
            "(Steps: 2400040) train/pitch_loss = 0.0317.\n",
            "(Steps: 2400040) train/energy_loss = 0.0728.\n",
            "(Steps: 2400040) train/batch_size = 3.4000.\n",
            "(Steps: 2400040) train/x_band_width = 4.2000.\n",
            "(Steps: 2400040) train/h_band_width = 4.2000.\n",
            "KanTtsSAMBERT learning rate: 0.000082\n"
          ]
        },
        {
          "output_type": "stream",
          "name": "stderr",
          "text": [
            "100%|██████████| 1/1 [00:00<00:00,  1.85it/s]"
          ]
        },
        {
          "output_type": "stream",
          "name": "stdout",
          "text": [
            "Epoch 40 finished\n"
          ]
        },
        {
          "output_type": "stream",
          "name": "stderr",
          "text": [
            "\n",
            "100%|██████████| 1/1 [00:00<00:00,  1.93it/s]"
          ]
        },
        {
          "output_type": "stream",
          "name": "stdout",
          "text": [
            "Epoch 41 finished\n"
          ]
        },
        {
          "output_type": "stream",
          "name": "stderr",
          "text": [
            "\n",
            "100%|██████████| 1/1 [00:00<00:00,  1.93it/s]"
          ]
        },
        {
          "output_type": "stream",
          "name": "stdout",
          "text": [
            "Epoch 42 finished\n"
          ]
        },
        {
          "output_type": "stream",
          "name": "stderr",
          "text": [
            "\n",
            "100%|██████████| 1/1 [00:00<00:00,  1.92it/s]"
          ]
        },
        {
          "output_type": "stream",
          "name": "stdout",
          "text": [
            "Epoch 43 finished\n"
          ]
        },
        {
          "output_type": "stream",
          "name": "stderr",
          "text": [
            "\n",
            "100%|██████████| 1/1 [00:00<00:00,  1.93it/s]"
          ]
        },
        {
          "output_type": "stream",
          "name": "stdout",
          "text": [
            "Epoch 44 finished\n"
          ]
        },
        {
          "output_type": "stream",
          "name": "stderr",
          "text": [
            "\n",
            "100%|██████████| 1/1 [00:00<00:00,  1.88it/s]"
          ]
        },
        {
          "output_type": "stream",
          "name": "stdout",
          "text": [
            "Epoch 45 finished\n"
          ]
        },
        {
          "output_type": "stream",
          "name": "stderr",
          "text": [
            "\n",
            "100%|██████████| 1/1 [00:00<00:00,  1.88it/s]"
          ]
        },
        {
          "output_type": "stream",
          "name": "stdout",
          "text": [
            "Epoch 46 finished\n"
          ]
        },
        {
          "output_type": "stream",
          "name": "stderr",
          "text": [
            "\n",
            "100%|██████████| 1/1 [00:00<00:00,  1.87it/s]"
          ]
        },
        {
          "output_type": "stream",
          "name": "stdout",
          "text": [
            "Epoch 47 finished\n"
          ]
        },
        {
          "output_type": "stream",
          "name": "stderr",
          "text": [
            "\n",
            "100%|██████████| 1/1 [00:00<00:00,  1.91it/s]"
          ]
        },
        {
          "output_type": "stream",
          "name": "stdout",
          "text": [
            "Epoch 48 finished\n"
          ]
        },
        {
          "output_type": "stream",
          "name": "stderr",
          "text": [
            "\n",
            "100%|██████████| 1/1 [00:00<00:00,  1.88it/s]"
          ]
        },
        {
          "output_type": "stream",
          "name": "stdout",
          "text": [
            "Epoch 49 finished\n"
          ]
        },
        {
          "output_type": "stream",
          "name": "stderr",
          "text": [
            "\n",
            "  0%|          | 0/1 [00:00<?, ?it/s]"
          ]
        },
        {
          "output_type": "stream",
          "name": "stdout",
          "text": [
            "(Steps: 2400050) train/TotalLoss = 0.2484.\n",
            "(Steps: 2400050) train/mel_loss_ = 0.0678.\n",
            "(Steps: 2400050) train/mel_loss = 0.0513.\n",
            "(Steps: 2400050) train/dur_loss = 0.0297.\n",
            "(Steps: 2400050) train/pitch_loss = 0.0290.\n",
            "(Steps: 2400050) train/energy_loss = 0.0706.\n",
            "(Steps: 2400050) train/batch_size = 3.4000.\n",
            "(Steps: 2400050) train/x_band_width = 4.2000.\n",
            "(Steps: 2400050) train/h_band_width = 4.2000.\n",
            "KanTtsSAMBERT learning rate: 0.000082\n"
          ]
        },
        {
          "output_type": "stream",
          "name": "stderr",
          "text": [
            "100%|██████████| 1/1 [00:00<00:00,  1.71it/s]"
          ]
        },
        {
          "output_type": "stream",
          "name": "stdout",
          "text": [
            "Epoch 50 finished\n"
          ]
        },
        {
          "output_type": "stream",
          "name": "stderr",
          "text": [
            "\n",
            "100%|██████████| 1/1 [00:00<00:00,  1.82it/s]"
          ]
        },
        {
          "output_type": "stream",
          "name": "stdout",
          "text": [
            "Epoch 51 finished\n"
          ]
        },
        {
          "output_type": "stream",
          "name": "stderr",
          "text": [
            "\n",
            "100%|██████████| 1/1 [00:00<00:00,  1.76it/s]"
          ]
        },
        {
          "output_type": "stream",
          "name": "stdout",
          "text": [
            "Epoch 52 finished\n"
          ]
        },
        {
          "output_type": "stream",
          "name": "stderr",
          "text": [
            "\n",
            "100%|██████████| 1/1 [00:00<00:00,  1.86it/s]"
          ]
        },
        {
          "output_type": "stream",
          "name": "stdout",
          "text": [
            "Epoch 53 finished\n"
          ]
        },
        {
          "output_type": "stream",
          "name": "stderr",
          "text": [
            "\n",
            "100%|██████████| 1/1 [00:00<00:00,  1.84it/s]"
          ]
        },
        {
          "output_type": "stream",
          "name": "stdout",
          "text": [
            "Epoch 54 finished\n"
          ]
        },
        {
          "output_type": "stream",
          "name": "stderr",
          "text": [
            "\n",
            "100%|██████████| 1/1 [00:00<00:00,  1.82it/s]"
          ]
        },
        {
          "output_type": "stream",
          "name": "stdout",
          "text": [
            "Epoch 55 finished\n"
          ]
        },
        {
          "output_type": "stream",
          "name": "stderr",
          "text": [
            "\n",
            "100%|██████████| 1/1 [00:00<00:00,  1.84it/s]"
          ]
        },
        {
          "output_type": "stream",
          "name": "stdout",
          "text": [
            "Epoch 56 finished\n"
          ]
        },
        {
          "output_type": "stream",
          "name": "stderr",
          "text": [
            "\n",
            "100%|██████████| 1/1 [00:00<00:00,  1.76it/s]"
          ]
        },
        {
          "output_type": "stream",
          "name": "stdout",
          "text": [
            "Epoch 57 finished\n"
          ]
        },
        {
          "output_type": "stream",
          "name": "stderr",
          "text": [
            "\n",
            "100%|██████████| 1/1 [00:00<00:00,  1.87it/s]"
          ]
        },
        {
          "output_type": "stream",
          "name": "stdout",
          "text": [
            "Epoch 58 finished\n"
          ]
        },
        {
          "output_type": "stream",
          "name": "stderr",
          "text": [
            "\n",
            "100%|██████████| 1/1 [00:00<00:00,  1.95it/s]"
          ]
        },
        {
          "output_type": "stream",
          "name": "stdout",
          "text": [
            "Epoch 59 finished\n"
          ]
        },
        {
          "output_type": "stream",
          "name": "stderr",
          "text": [
            "\n",
            "  0%|          | 0/1 [00:00<?, ?it/s]"
          ]
        },
        {
          "output_type": "stream",
          "name": "stdout",
          "text": [
            "(Steps: 2400060) train/TotalLoss = 0.2390.\n",
            "(Steps: 2400060) train/mel_loss_ = 0.0663.\n",
            "(Steps: 2400060) train/mel_loss = 0.0499.\n",
            "(Steps: 2400060) train/dur_loss = 0.0274.\n",
            "(Steps: 2400060) train/pitch_loss = 0.0277.\n",
            "(Steps: 2400060) train/energy_loss = 0.0677.\n",
            "(Steps: 2400060) train/batch_size = 3.4000.\n",
            "(Steps: 2400060) train/x_band_width = 4.2000.\n",
            "(Steps: 2400060) train/h_band_width = 4.2000.\n",
            "KanTtsSAMBERT learning rate: 0.000082\n"
          ]
        },
        {
          "output_type": "stream",
          "name": "stderr",
          "text": [
            "100%|██████████| 1/1 [00:00<00:00,  1.86it/s]"
          ]
        },
        {
          "output_type": "stream",
          "name": "stdout",
          "text": [
            "Epoch 60 finished\n"
          ]
        },
        {
          "output_type": "stream",
          "name": "stderr",
          "text": [
            "\n",
            "100%|██████████| 1/1 [00:00<00:00,  1.99it/s]"
          ]
        },
        {
          "output_type": "stream",
          "name": "stdout",
          "text": [
            "Epoch 61 finished\n"
          ]
        },
        {
          "output_type": "stream",
          "name": "stderr",
          "text": [
            "\n",
            "100%|██████████| 1/1 [00:00<00:00,  1.88it/s]"
          ]
        },
        {
          "output_type": "stream",
          "name": "stdout",
          "text": [
            "Epoch 62 finished\n"
          ]
        },
        {
          "output_type": "stream",
          "name": "stderr",
          "text": [
            "\n",
            "100%|██████████| 1/1 [00:00<00:00,  1.92it/s]"
          ]
        },
        {
          "output_type": "stream",
          "name": "stdout",
          "text": [
            "Epoch 63 finished\n"
          ]
        },
        {
          "output_type": "stream",
          "name": "stderr",
          "text": [
            "\n",
            "100%|██████████| 1/1 [00:00<00:00,  1.97it/s]"
          ]
        },
        {
          "output_type": "stream",
          "name": "stdout",
          "text": [
            "Epoch 64 finished\n"
          ]
        },
        {
          "output_type": "stream",
          "name": "stderr",
          "text": [
            "\n",
            "100%|██████████| 1/1 [00:00<00:00,  1.95it/s]"
          ]
        },
        {
          "output_type": "stream",
          "name": "stdout",
          "text": [
            "Epoch 65 finished\n"
          ]
        },
        {
          "output_type": "stream",
          "name": "stderr",
          "text": [
            "\n",
            "100%|██████████| 1/1 [00:00<00:00,  1.94it/s]"
          ]
        },
        {
          "output_type": "stream",
          "name": "stdout",
          "text": [
            "Epoch 66 finished\n"
          ]
        },
        {
          "output_type": "stream",
          "name": "stderr",
          "text": [
            "\n",
            "100%|██████████| 1/1 [00:00<00:00,  1.92it/s]"
          ]
        },
        {
          "output_type": "stream",
          "name": "stdout",
          "text": [
            "Epoch 67 finished\n"
          ]
        },
        {
          "output_type": "stream",
          "name": "stderr",
          "text": [
            "\n",
            "100%|██████████| 1/1 [00:00<00:00,  1.94it/s]"
          ]
        },
        {
          "output_type": "stream",
          "name": "stdout",
          "text": [
            "Epoch 68 finished\n"
          ]
        },
        {
          "output_type": "stream",
          "name": "stderr",
          "text": [
            "\n",
            "100%|██████████| 1/1 [00:00<00:00,  1.95it/s]"
          ]
        },
        {
          "output_type": "stream",
          "name": "stdout",
          "text": [
            "Epoch 69 finished\n"
          ]
        },
        {
          "output_type": "stream",
          "name": "stderr",
          "text": [
            "\n",
            "  0%|          | 0/1 [00:00<?, ?it/s]"
          ]
        },
        {
          "output_type": "stream",
          "name": "stdout",
          "text": [
            "(Steps: 2400070) train/TotalLoss = 0.2323.\n",
            "(Steps: 2400070) train/mel_loss_ = 0.0654.\n",
            "(Steps: 2400070) train/mel_loss = 0.0491.\n",
            "(Steps: 2400070) train/dur_loss = 0.0254.\n",
            "(Steps: 2400070) train/pitch_loss = 0.0263.\n",
            "(Steps: 2400070) train/energy_loss = 0.0660.\n",
            "(Steps: 2400070) train/batch_size = 3.4000.\n",
            "(Steps: 2400070) train/x_band_width = 4.2000.\n",
            "(Steps: 2400070) train/h_band_width = 4.2000.\n",
            "KanTtsSAMBERT learning rate: 0.000082\n"
          ]
        },
        {
          "output_type": "stream",
          "name": "stderr",
          "text": [
            "100%|██████████| 1/1 [00:01<00:00,  1.26s/it]"
          ]
        },
        {
          "output_type": "stream",
          "name": "stdout",
          "text": [
            "Epoch 70 finished\n"
          ]
        },
        {
          "output_type": "stream",
          "name": "stderr",
          "text": [
            "\n",
            "100%|██████████| 1/1 [00:00<00:00,  1.91it/s]"
          ]
        },
        {
          "output_type": "stream",
          "name": "stdout",
          "text": [
            "Epoch 71 finished\n"
          ]
        },
        {
          "output_type": "stream",
          "name": "stderr",
          "text": [
            "\n",
            "100%|██████████| 1/1 [00:00<00:00,  1.87it/s]"
          ]
        },
        {
          "output_type": "stream",
          "name": "stdout",
          "text": [
            "Epoch 72 finished\n"
          ]
        },
        {
          "output_type": "stream",
          "name": "stderr",
          "text": [
            "\n",
            "100%|██████████| 1/1 [00:00<00:00,  1.88it/s]"
          ]
        },
        {
          "output_type": "stream",
          "name": "stdout",
          "text": [
            "Epoch 73 finished\n"
          ]
        },
        {
          "output_type": "stream",
          "name": "stderr",
          "text": [
            "\n",
            "100%|██████████| 1/1 [00:00<00:00,  1.92it/s]"
          ]
        },
        {
          "output_type": "stream",
          "name": "stdout",
          "text": [
            "Epoch 74 finished\n"
          ]
        },
        {
          "output_type": "stream",
          "name": "stderr",
          "text": [
            "\n",
            "100%|██████████| 1/1 [00:00<00:00,  1.84it/s]"
          ]
        },
        {
          "output_type": "stream",
          "name": "stdout",
          "text": [
            "Epoch 75 finished\n"
          ]
        },
        {
          "output_type": "stream",
          "name": "stderr",
          "text": [
            "\n",
            "100%|██████████| 1/1 [00:00<00:00,  1.85it/s]"
          ]
        },
        {
          "output_type": "stream",
          "name": "stdout",
          "text": [
            "Epoch 76 finished\n"
          ]
        },
        {
          "output_type": "stream",
          "name": "stderr",
          "text": [
            "\n",
            "100%|██████████| 1/1 [00:00<00:00,  1.76it/s]"
          ]
        },
        {
          "output_type": "stream",
          "name": "stdout",
          "text": [
            "Epoch 77 finished\n"
          ]
        },
        {
          "output_type": "stream",
          "name": "stderr",
          "text": [
            "\n",
            "100%|██████████| 1/1 [00:00<00:00,  1.82it/s]"
          ]
        },
        {
          "output_type": "stream",
          "name": "stdout",
          "text": [
            "Epoch 78 finished\n"
          ]
        },
        {
          "output_type": "stream",
          "name": "stderr",
          "text": [
            "\n",
            "100%|██████████| 1/1 [00:00<00:00,  1.79it/s]"
          ]
        },
        {
          "output_type": "stream",
          "name": "stdout",
          "text": [
            "Epoch 79 finished\n"
          ]
        },
        {
          "output_type": "stream",
          "name": "stderr",
          "text": [
            "\n",
            "  0%|          | 0/1 [00:00<?, ?it/s]"
          ]
        },
        {
          "output_type": "stream",
          "name": "stdout",
          "text": [
            "(Steps: 2400080) train/TotalLoss = 0.2259.\n",
            "(Steps: 2400080) train/mel_loss_ = 0.0642.\n",
            "(Steps: 2400080) train/mel_loss = 0.0479.\n",
            "(Steps: 2400080) train/dur_loss = 0.0240.\n",
            "(Steps: 2400080) train/pitch_loss = 0.0254.\n",
            "(Steps: 2400080) train/energy_loss = 0.0645.\n",
            "(Steps: 2400080) train/batch_size = 3.4000.\n",
            "(Steps: 2400080) train/x_band_width = 4.2000.\n",
            "(Steps: 2400080) train/h_band_width = 4.2000.\n",
            "KanTtsSAMBERT learning rate: 0.000082\n"
          ]
        },
        {
          "output_type": "stream",
          "name": "stderr",
          "text": [
            "100%|██████████| 1/1 [00:00<00:00,  1.78it/s]"
          ]
        },
        {
          "output_type": "stream",
          "name": "stdout",
          "text": [
            "Epoch 80 finished\n"
          ]
        },
        {
          "output_type": "stream",
          "name": "stderr",
          "text": [
            "\n",
            "100%|██████████| 1/1 [00:00<00:00,  1.82it/s]"
          ]
        },
        {
          "output_type": "stream",
          "name": "stdout",
          "text": [
            "Epoch 81 finished\n"
          ]
        },
        {
          "output_type": "stream",
          "name": "stderr",
          "text": [
            "\n",
            "100%|██████████| 1/1 [00:00<00:00,  1.88it/s]"
          ]
        },
        {
          "output_type": "stream",
          "name": "stdout",
          "text": [
            "Epoch 82 finished\n"
          ]
        },
        {
          "output_type": "stream",
          "name": "stderr",
          "text": [
            "\n",
            "100%|██████████| 1/1 [00:00<00:00,  1.87it/s]"
          ]
        },
        {
          "output_type": "stream",
          "name": "stdout",
          "text": [
            "Epoch 83 finished\n"
          ]
        },
        {
          "output_type": "stream",
          "name": "stderr",
          "text": [
            "\n",
            "100%|██████████| 1/1 [00:00<00:00,  1.79it/s]"
          ]
        },
        {
          "output_type": "stream",
          "name": "stdout",
          "text": [
            "Epoch 84 finished\n"
          ]
        },
        {
          "output_type": "stream",
          "name": "stderr",
          "text": [
            "\n",
            "100%|██████████| 1/1 [00:00<00:00,  1.86it/s]"
          ]
        },
        {
          "output_type": "stream",
          "name": "stdout",
          "text": [
            "Epoch 85 finished\n"
          ]
        },
        {
          "output_type": "stream",
          "name": "stderr",
          "text": [
            "\n",
            "100%|██████████| 1/1 [00:00<00:00,  1.95it/s]"
          ]
        },
        {
          "output_type": "stream",
          "name": "stdout",
          "text": [
            "Epoch 86 finished\n"
          ]
        },
        {
          "output_type": "stream",
          "name": "stderr",
          "text": [
            "\n",
            "100%|██████████| 1/1 [00:00<00:00,  1.90it/s]"
          ]
        },
        {
          "output_type": "stream",
          "name": "stdout",
          "text": [
            "Epoch 87 finished\n"
          ]
        },
        {
          "output_type": "stream",
          "name": "stderr",
          "text": [
            "\n",
            "100%|██████████| 1/1 [00:00<00:00,  1.87it/s]"
          ]
        },
        {
          "output_type": "stream",
          "name": "stdout",
          "text": [
            "Epoch 88 finished\n"
          ]
        },
        {
          "output_type": "stream",
          "name": "stderr",
          "text": [
            "\n",
            "100%|██████████| 1/1 [00:00<00:00,  1.85it/s]"
          ]
        },
        {
          "output_type": "stream",
          "name": "stdout",
          "text": [
            "Epoch 89 finished\n"
          ]
        },
        {
          "output_type": "stream",
          "name": "stderr",
          "text": [
            "\n",
            "  0%|          | 0/1 [00:00<?, ?it/s]"
          ]
        },
        {
          "output_type": "stream",
          "name": "stdout",
          "text": [
            "(Steps: 2400090) train/TotalLoss = 0.2208.\n",
            "(Steps: 2400090) train/mel_loss_ = 0.0636.\n",
            "(Steps: 2400090) train/mel_loss = 0.0473.\n",
            "(Steps: 2400090) train/dur_loss = 0.0228.\n",
            "(Steps: 2400090) train/pitch_loss = 0.0247.\n",
            "(Steps: 2400090) train/energy_loss = 0.0624.\n",
            "(Steps: 2400090) train/batch_size = 3.4000.\n",
            "(Steps: 2400090) train/x_band_width = 4.2000.\n",
            "(Steps: 2400090) train/h_band_width = 4.2000.\n",
            "KanTtsSAMBERT learning rate: 0.000082\n"
          ]
        },
        {
          "output_type": "stream",
          "name": "stderr",
          "text": [
            "100%|██████████| 1/1 [00:00<00:00,  1.78it/s]"
          ]
        },
        {
          "output_type": "stream",
          "name": "stdout",
          "text": [
            "Epoch 90 finished\n"
          ]
        },
        {
          "output_type": "stream",
          "name": "stderr",
          "text": [
            "\n",
            "100%|██████████| 1/1 [00:00<00:00,  1.91it/s]"
          ]
        },
        {
          "output_type": "stream",
          "name": "stdout",
          "text": [
            "Epoch 91 finished\n"
          ]
        },
        {
          "output_type": "stream",
          "name": "stderr",
          "text": [
            "\n",
            "100%|██████████| 1/1 [00:00<00:00,  1.93it/s]"
          ]
        },
        {
          "output_type": "stream",
          "name": "stdout",
          "text": [
            "Epoch 92 finished\n"
          ]
        },
        {
          "output_type": "stream",
          "name": "stderr",
          "text": [
            "\n",
            "100%|██████████| 1/1 [00:00<00:00,  1.96it/s]"
          ]
        },
        {
          "output_type": "stream",
          "name": "stdout",
          "text": [
            "Epoch 93 finished\n"
          ]
        },
        {
          "output_type": "stream",
          "name": "stderr",
          "text": [
            "\n",
            "100%|██████████| 1/1 [00:00<00:00,  1.91it/s]"
          ]
        },
        {
          "output_type": "stream",
          "name": "stdout",
          "text": [
            "Epoch 94 finished\n"
          ]
        },
        {
          "output_type": "stream",
          "name": "stderr",
          "text": [
            "\n",
            "100%|██████████| 1/1 [00:00<00:00,  1.85it/s]"
          ]
        },
        {
          "output_type": "stream",
          "name": "stdout",
          "text": [
            "Epoch 95 finished\n"
          ]
        },
        {
          "output_type": "stream",
          "name": "stderr",
          "text": [
            "\n",
            "100%|██████████| 1/1 [00:00<00:00,  1.91it/s]"
          ]
        },
        {
          "output_type": "stream",
          "name": "stdout",
          "text": [
            "Epoch 96 finished\n"
          ]
        },
        {
          "output_type": "stream",
          "name": "stderr",
          "text": [
            "\n",
            "100%|██████████| 1/1 [00:00<00:00,  1.97it/s]"
          ]
        },
        {
          "output_type": "stream",
          "name": "stdout",
          "text": [
            "Epoch 97 finished\n"
          ]
        },
        {
          "output_type": "stream",
          "name": "stderr",
          "text": [
            "\n",
            "100%|██████████| 1/1 [00:00<00:00,  1.86it/s]"
          ]
        },
        {
          "output_type": "stream",
          "name": "stdout",
          "text": [
            "Epoch 98 finished\n"
          ]
        },
        {
          "output_type": "stream",
          "name": "stderr",
          "text": [
            "\n",
            "100%|██████████| 1/1 [00:00<00:00,  1.85it/s]"
          ]
        },
        {
          "output_type": "stream",
          "name": "stdout",
          "text": [
            "Epoch 99 finished\n"
          ]
        },
        {
          "output_type": "stream",
          "name": "stderr",
          "text": [
            "\n",
            "  0%|          | 0/1 [00:00<?, ?it/s]"
          ]
        },
        {
          "output_type": "stream",
          "name": "stdout",
          "text": [
            "(Steps: 2400100) train/TotalLoss = 0.2158.\n",
            "(Steps: 2400100) train/mel_loss_ = 0.0626.\n",
            "(Steps: 2400100) train/mel_loss = 0.0465.\n",
            "(Steps: 2400100) train/dur_loss = 0.0217.\n",
            "(Steps: 2400100) train/pitch_loss = 0.0239.\n",
            "(Steps: 2400100) train/energy_loss = 0.0611.\n",
            "(Steps: 2400100) train/batch_size = 3.4000.\n",
            "(Steps: 2400100) train/x_band_width = 4.2000.\n",
            "(Steps: 2400100) train/h_band_width = 4.2000.\n",
            "KanTtsSAMBERT learning rate: 0.000082\n"
          ]
        },
        {
          "output_type": "stream",
          "name": "stderr",
          "text": [
            "100%|██████████| 1/1 [00:00<00:00,  1.91it/s]"
          ]
        },
        {
          "output_type": "stream",
          "name": "stdout",
          "text": [
            "Epoch 100 finished\n"
          ]
        },
        {
          "output_type": "stream",
          "name": "stderr",
          "text": [
            "\n",
            "100%|██████████| 1/1 [00:00<00:00,  1.89it/s]"
          ]
        },
        {
          "output_type": "stream",
          "name": "stdout",
          "text": [
            "Epoch 101 finished\n"
          ]
        },
        {
          "output_type": "stream",
          "name": "stderr",
          "text": [
            "\n",
            "100%|██████████| 1/1 [00:00<00:00,  1.91it/s]"
          ]
        },
        {
          "output_type": "stream",
          "name": "stdout",
          "text": [
            "Epoch 102 finished\n"
          ]
        },
        {
          "output_type": "stream",
          "name": "stderr",
          "text": [
            "\n",
            "100%|██████████| 1/1 [00:00<00:00,  1.94it/s]"
          ]
        },
        {
          "output_type": "stream",
          "name": "stdout",
          "text": [
            "Epoch 103 finished\n"
          ]
        },
        {
          "output_type": "stream",
          "name": "stderr",
          "text": [
            "\n",
            "100%|██████████| 1/1 [00:00<00:00,  1.85it/s]"
          ]
        },
        {
          "output_type": "stream",
          "name": "stdout",
          "text": [
            "Epoch 104 finished\n"
          ]
        },
        {
          "output_type": "stream",
          "name": "stderr",
          "text": [
            "\n",
            "100%|██████████| 1/1 [00:00<00:00,  1.76it/s]"
          ]
        },
        {
          "output_type": "stream",
          "name": "stdout",
          "text": [
            "Epoch 105 finished\n"
          ]
        },
        {
          "output_type": "stream",
          "name": "stderr",
          "text": [
            "\n",
            "100%|██████████| 1/1 [00:00<00:00,  1.80it/s]"
          ]
        },
        {
          "output_type": "stream",
          "name": "stdout",
          "text": [
            "Epoch 106 finished\n"
          ]
        },
        {
          "output_type": "stream",
          "name": "stderr",
          "text": [
            "\n",
            "100%|██████████| 1/1 [00:00<00:00,  1.81it/s]"
          ]
        },
        {
          "output_type": "stream",
          "name": "stdout",
          "text": [
            "Epoch 107 finished\n"
          ]
        },
        {
          "output_type": "stream",
          "name": "stderr",
          "text": [
            "\n",
            "100%|██████████| 1/1 [00:00<00:00,  1.76it/s]"
          ]
        },
        {
          "output_type": "stream",
          "name": "stdout",
          "text": [
            "Epoch 108 finished\n"
          ]
        },
        {
          "output_type": "stream",
          "name": "stderr",
          "text": [
            "\n",
            "100%|██████████| 1/1 [00:00<00:00,  1.82it/s]"
          ]
        },
        {
          "output_type": "stream",
          "name": "stdout",
          "text": [
            "Epoch 109 finished\n"
          ]
        },
        {
          "output_type": "stream",
          "name": "stderr",
          "text": [
            "\n",
            "  0%|          | 0/1 [00:00<?, ?it/s]"
          ]
        },
        {
          "output_type": "stream",
          "name": "stdout",
          "text": [
            "(Steps: 2400110) train/TotalLoss = 0.2114.\n",
            "(Steps: 2400110) train/mel_loss_ = 0.0618.\n",
            "(Steps: 2400110) train/mel_loss = 0.0458.\n",
            "(Steps: 2400110) train/dur_loss = 0.0207.\n",
            "(Steps: 2400110) train/pitch_loss = 0.0235.\n",
            "(Steps: 2400110) train/energy_loss = 0.0596.\n",
            "(Steps: 2400110) train/batch_size = 3.4000.\n",
            "(Steps: 2400110) train/x_band_width = 4.2000.\n",
            "(Steps: 2400110) train/h_band_width = 4.2000.\n",
            "KanTtsSAMBERT learning rate: 0.000082\n"
          ]
        },
        {
          "output_type": "stream",
          "name": "stderr",
          "text": [
            "100%|██████████| 1/1 [00:00<00:00,  1.73it/s]"
          ]
        },
        {
          "output_type": "stream",
          "name": "stdout",
          "text": [
            "Epoch 110 finished\n"
          ]
        },
        {
          "output_type": "stream",
          "name": "stderr",
          "text": [
            "\n",
            "100%|██████████| 1/1 [00:00<00:00,  1.94it/s]"
          ]
        },
        {
          "output_type": "stream",
          "name": "stdout",
          "text": [
            "Epoch 111 finished\n"
          ]
        },
        {
          "output_type": "stream",
          "name": "stderr",
          "text": [
            "\n",
            "100%|██████████| 1/1 [00:00<00:00,  1.87it/s]"
          ]
        },
        {
          "output_type": "stream",
          "name": "stdout",
          "text": [
            "Epoch 112 finished\n"
          ]
        },
        {
          "output_type": "stream",
          "name": "stderr",
          "text": [
            "\n",
            "100%|██████████| 1/1 [00:00<00:00,  1.88it/s]"
          ]
        },
        {
          "output_type": "stream",
          "name": "stdout",
          "text": [
            "Epoch 113 finished\n"
          ]
        },
        {
          "output_type": "stream",
          "name": "stderr",
          "text": [
            "\n",
            "100%|██████████| 1/1 [00:00<00:00,  1.79it/s]"
          ]
        },
        {
          "output_type": "stream",
          "name": "stdout",
          "text": [
            "Epoch 114 finished\n"
          ]
        },
        {
          "output_type": "stream",
          "name": "stderr",
          "text": [
            "\n",
            "100%|██████████| 1/1 [00:00<00:00,  1.95it/s]"
          ]
        },
        {
          "output_type": "stream",
          "name": "stdout",
          "text": [
            "Epoch 115 finished\n"
          ]
        },
        {
          "output_type": "stream",
          "name": "stderr",
          "text": [
            "\n",
            "100%|██████████| 1/1 [00:00<00:00,  1.82it/s]"
          ]
        },
        {
          "output_type": "stream",
          "name": "stdout",
          "text": [
            "Epoch 116 finished\n"
          ]
        },
        {
          "output_type": "stream",
          "name": "stderr",
          "text": [
            "\n",
            "100%|██████████| 1/1 [00:00<00:00,  1.82it/s]"
          ]
        },
        {
          "output_type": "stream",
          "name": "stdout",
          "text": [
            "Epoch 117 finished\n"
          ]
        },
        {
          "output_type": "stream",
          "name": "stderr",
          "text": [
            "\n",
            "100%|██████████| 1/1 [00:00<00:00,  1.87it/s]"
          ]
        },
        {
          "output_type": "stream",
          "name": "stdout",
          "text": [
            "Epoch 118 finished\n"
          ]
        },
        {
          "output_type": "stream",
          "name": "stderr",
          "text": [
            "\n",
            "100%|██████████| 1/1 [00:00<00:00,  1.88it/s]"
          ]
        },
        {
          "output_type": "stream",
          "name": "stdout",
          "text": [
            "Epoch 119 finished\n"
          ]
        },
        {
          "output_type": "stream",
          "name": "stderr",
          "text": [
            "\n",
            "  0%|          | 0/1 [00:00<?, ?it/s]"
          ]
        },
        {
          "output_type": "stream",
          "name": "stdout",
          "text": [
            "(Steps: 2400120) train/TotalLoss = 0.2071.\n",
            "(Steps: 2400120) train/mel_loss_ = 0.0607.\n",
            "(Steps: 2400120) train/mel_loss = 0.0451.\n",
            "(Steps: 2400120) train/dur_loss = 0.0201.\n",
            "(Steps: 2400120) train/pitch_loss = 0.0228.\n",
            "(Steps: 2400120) train/energy_loss = 0.0584.\n",
            "(Steps: 2400120) train/batch_size = 3.4000.\n",
            "(Steps: 2400120) train/x_band_width = 4.2000.\n",
            "(Steps: 2400120) train/h_band_width = 4.2000.\n",
            "KanTtsSAMBERT learning rate: 0.000082\n"
          ]
        },
        {
          "output_type": "stream",
          "name": "stderr",
          "text": [
            "100%|██████████| 1/1 [00:00<00:00,  1.83it/s]"
          ]
        },
        {
          "output_type": "stream",
          "name": "stdout",
          "text": [
            "Epoch 120 finished\n"
          ]
        },
        {
          "output_type": "stream",
          "name": "stderr",
          "text": [
            "\n",
            "100%|██████████| 1/1 [00:00<00:00,  1.84it/s]"
          ]
        },
        {
          "output_type": "stream",
          "name": "stdout",
          "text": [
            "Epoch 121 finished\n"
          ]
        },
        {
          "output_type": "stream",
          "name": "stderr",
          "text": [
            "\n",
            "100%|██████████| 1/1 [00:00<00:00,  1.89it/s]"
          ]
        },
        {
          "output_type": "stream",
          "name": "stdout",
          "text": [
            "Epoch 122 finished\n"
          ]
        },
        {
          "output_type": "stream",
          "name": "stderr",
          "text": [
            "\n",
            "100%|██████████| 1/1 [00:00<00:00,  1.90it/s]"
          ]
        },
        {
          "output_type": "stream",
          "name": "stdout",
          "text": [
            "Epoch 123 finished\n"
          ]
        },
        {
          "output_type": "stream",
          "name": "stderr",
          "text": [
            "\n",
            "100%|██████████| 1/1 [00:00<00:00,  1.96it/s]"
          ]
        },
        {
          "output_type": "stream",
          "name": "stdout",
          "text": [
            "Epoch 124 finished\n"
          ]
        },
        {
          "output_type": "stream",
          "name": "stderr",
          "text": [
            "\n",
            "100%|██████████| 1/1 [00:00<00:00,  1.88it/s]"
          ]
        },
        {
          "output_type": "stream",
          "name": "stdout",
          "text": [
            "Epoch 125 finished\n"
          ]
        },
        {
          "output_type": "stream",
          "name": "stderr",
          "text": [
            "\n",
            "100%|██████████| 1/1 [00:00<00:00,  1.87it/s]"
          ]
        },
        {
          "output_type": "stream",
          "name": "stdout",
          "text": [
            "Epoch 126 finished\n"
          ]
        },
        {
          "output_type": "stream",
          "name": "stderr",
          "text": [
            "\n",
            "100%|██████████| 1/1 [00:00<00:00,  1.96it/s]"
          ]
        },
        {
          "output_type": "stream",
          "name": "stdout",
          "text": [
            "Epoch 127 finished\n"
          ]
        },
        {
          "output_type": "stream",
          "name": "stderr",
          "text": [
            "\n",
            "100%|██████████| 1/1 [00:00<00:00,  1.96it/s]"
          ]
        },
        {
          "output_type": "stream",
          "name": "stdout",
          "text": [
            "Epoch 128 finished\n"
          ]
        },
        {
          "output_type": "stream",
          "name": "stderr",
          "text": [
            "\n",
            "100%|██████████| 1/1 [00:00<00:00,  1.90it/s]"
          ]
        },
        {
          "output_type": "stream",
          "name": "stdout",
          "text": [
            "Epoch 129 finished\n"
          ]
        },
        {
          "output_type": "stream",
          "name": "stderr",
          "text": [
            "\n",
            "  0%|          | 0/1 [00:00<?, ?it/s]"
          ]
        },
        {
          "output_type": "stream",
          "name": "stdout",
          "text": [
            "(Steps: 2400130) train/TotalLoss = 0.2032.\n",
            "(Steps: 2400130) train/mel_loss_ = 0.0606.\n",
            "(Steps: 2400130) train/mel_loss = 0.0447.\n",
            "(Steps: 2400130) train/dur_loss = 0.0191.\n",
            "(Steps: 2400130) train/pitch_loss = 0.0221.\n",
            "(Steps: 2400130) train/energy_loss = 0.0567.\n",
            "(Steps: 2400130) train/batch_size = 3.4000.\n",
            "(Steps: 2400130) train/x_band_width = 4.2000.\n",
            "(Steps: 2400130) train/h_band_width = 4.2000.\n",
            "KanTtsSAMBERT learning rate: 0.000082\n"
          ]
        },
        {
          "output_type": "stream",
          "name": "stderr",
          "text": [
            "100%|██████████| 1/1 [00:00<00:00,  1.87it/s]"
          ]
        },
        {
          "output_type": "stream",
          "name": "stdout",
          "text": [
            "Epoch 130 finished\n"
          ]
        },
        {
          "output_type": "stream",
          "name": "stderr",
          "text": [
            "\n",
            "100%|██████████| 1/1 [00:00<00:00,  1.95it/s]"
          ]
        },
        {
          "output_type": "stream",
          "name": "stdout",
          "text": [
            "Epoch 131 finished\n"
          ]
        },
        {
          "output_type": "stream",
          "name": "stderr",
          "text": [
            "\n",
            "100%|██████████| 1/1 [00:00<00:00,  1.90it/s]"
          ]
        },
        {
          "output_type": "stream",
          "name": "stdout",
          "text": [
            "Epoch 132 finished\n"
          ]
        },
        {
          "output_type": "stream",
          "name": "stderr",
          "text": [
            "\n",
            "100%|██████████| 1/1 [00:00<00:00,  1.87it/s]"
          ]
        },
        {
          "output_type": "stream",
          "name": "stdout",
          "text": [
            "Epoch 133 finished\n"
          ]
        },
        {
          "output_type": "stream",
          "name": "stderr",
          "text": [
            "\n",
            "100%|██████████| 1/1 [00:00<00:00,  1.77it/s]"
          ]
        },
        {
          "output_type": "stream",
          "name": "stdout",
          "text": [
            "Epoch 134 finished\n"
          ]
        },
        {
          "output_type": "stream",
          "name": "stderr",
          "text": [
            "\n",
            "100%|██████████| 1/1 [00:00<00:00,  1.77it/s]"
          ]
        },
        {
          "output_type": "stream",
          "name": "stdout",
          "text": [
            "Epoch 135 finished\n"
          ]
        },
        {
          "output_type": "stream",
          "name": "stderr",
          "text": [
            "\n",
            "100%|██████████| 1/1 [00:00<00:00,  1.83it/s]"
          ]
        },
        {
          "output_type": "stream",
          "name": "stdout",
          "text": [
            "Epoch 136 finished\n"
          ]
        },
        {
          "output_type": "stream",
          "name": "stderr",
          "text": [
            "\n",
            "100%|██████████| 1/1 [00:00<00:00,  1.80it/s]"
          ]
        },
        {
          "output_type": "stream",
          "name": "stdout",
          "text": [
            "Epoch 137 finished\n"
          ]
        },
        {
          "output_type": "stream",
          "name": "stderr",
          "text": [
            "\n",
            "100%|██████████| 1/1 [00:00<00:00,  1.92it/s]"
          ]
        },
        {
          "output_type": "stream",
          "name": "stdout",
          "text": [
            "Epoch 138 finished\n"
          ]
        },
        {
          "output_type": "stream",
          "name": "stderr",
          "text": [
            "\n",
            "100%|██████████| 1/1 [00:00<00:00,  1.86it/s]"
          ]
        },
        {
          "output_type": "stream",
          "name": "stdout",
          "text": [
            "Epoch 139 finished\n"
          ]
        },
        {
          "output_type": "stream",
          "name": "stderr",
          "text": [
            "\n",
            "  0%|          | 0/1 [00:00<?, ?it/s]"
          ]
        },
        {
          "output_type": "stream",
          "name": "stdout",
          "text": [
            "(Steps: 2400140) train/TotalLoss = 0.1993.\n",
            "(Steps: 2400140) train/mel_loss_ = 0.0596.\n",
            "(Steps: 2400140) train/mel_loss = 0.0442.\n",
            "(Steps: 2400140) train/dur_loss = 0.0184.\n",
            "(Steps: 2400140) train/pitch_loss = 0.0215.\n",
            "(Steps: 2400140) train/energy_loss = 0.0556.\n",
            "(Steps: 2400140) train/batch_size = 3.4000.\n",
            "(Steps: 2400140) train/x_band_width = 4.2000.\n",
            "(Steps: 2400140) train/h_band_width = 4.2000.\n",
            "KanTtsSAMBERT learning rate: 0.000082\n"
          ]
        },
        {
          "output_type": "stream",
          "name": "stderr",
          "text": [
            "100%|██████████| 1/1 [00:00<00:00,  1.69it/s]"
          ]
        },
        {
          "output_type": "stream",
          "name": "stdout",
          "text": [
            "Epoch 140 finished\n"
          ]
        },
        {
          "output_type": "stream",
          "name": "stderr",
          "text": [
            "\n",
            "100%|██████████| 1/1 [00:00<00:00,  1.84it/s]"
          ]
        },
        {
          "output_type": "stream",
          "name": "stdout",
          "text": [
            "Epoch 141 finished\n"
          ]
        },
        {
          "output_type": "stream",
          "name": "stderr",
          "text": [
            "\n",
            "100%|██████████| 1/1 [00:00<00:00,  1.81it/s]"
          ]
        },
        {
          "output_type": "stream",
          "name": "stdout",
          "text": [
            "Epoch 142 finished\n"
          ]
        },
        {
          "output_type": "stream",
          "name": "stderr",
          "text": [
            "\n",
            "100%|██████████| 1/1 [00:00<00:00,  1.94it/s]"
          ]
        },
        {
          "output_type": "stream",
          "name": "stdout",
          "text": [
            "Epoch 143 finished\n"
          ]
        },
        {
          "output_type": "stream",
          "name": "stderr",
          "text": [
            "\n",
            "100%|██████████| 1/1 [00:00<00:00,  1.92it/s]"
          ]
        },
        {
          "output_type": "stream",
          "name": "stdout",
          "text": [
            "Epoch 144 finished\n"
          ]
        },
        {
          "output_type": "stream",
          "name": "stderr",
          "text": [
            "\n",
            "100%|██████████| 1/1 [00:00<00:00,  1.90it/s]"
          ]
        },
        {
          "output_type": "stream",
          "name": "stdout",
          "text": [
            "Epoch 145 finished\n"
          ]
        },
        {
          "output_type": "stream",
          "name": "stderr",
          "text": [
            "\n",
            "100%|██████████| 1/1 [00:00<00:00,  1.91it/s]"
          ]
        },
        {
          "output_type": "stream",
          "name": "stdout",
          "text": [
            "Epoch 146 finished\n"
          ]
        },
        {
          "output_type": "stream",
          "name": "stderr",
          "text": [
            "\n",
            "100%|██████████| 1/1 [00:00<00:00,  1.94it/s]"
          ]
        },
        {
          "output_type": "stream",
          "name": "stdout",
          "text": [
            "Epoch 147 finished\n"
          ]
        },
        {
          "output_type": "stream",
          "name": "stderr",
          "text": [
            "\n",
            "100%|██████████| 1/1 [00:00<00:00,  1.98it/s]"
          ]
        },
        {
          "output_type": "stream",
          "name": "stdout",
          "text": [
            "Epoch 148 finished\n"
          ]
        },
        {
          "output_type": "stream",
          "name": "stderr",
          "text": [
            "\n",
            "100%|██████████| 1/1 [00:00<00:00,  1.96it/s]"
          ]
        },
        {
          "output_type": "stream",
          "name": "stdout",
          "text": [
            "Epoch 149 finished\n"
          ]
        },
        {
          "output_type": "stream",
          "name": "stderr",
          "text": [
            "\n",
            "  0%|          | 0/1 [00:00<?, ?it/s]"
          ]
        },
        {
          "output_type": "stream",
          "name": "stdout",
          "text": [
            "(Steps: 2400150) train/TotalLoss = 0.1968.\n",
            "(Steps: 2400150) train/mel_loss_ = 0.0595.\n",
            "(Steps: 2400150) train/mel_loss = 0.0438.\n",
            "(Steps: 2400150) train/dur_loss = 0.0180.\n",
            "(Steps: 2400150) train/pitch_loss = 0.0208.\n",
            "(Steps: 2400150) train/energy_loss = 0.0549.\n",
            "(Steps: 2400150) train/batch_size = 3.4000.\n",
            "(Steps: 2400150) train/x_band_width = 4.2000.\n",
            "(Steps: 2400150) train/h_band_width = 4.2000.\n",
            "KanTtsSAMBERT learning rate: 0.000082\n"
          ]
        },
        {
          "output_type": "stream",
          "name": "stderr",
          "text": [
            "100%|██████████| 1/1 [00:00<00:00,  1.88it/s]"
          ]
        },
        {
          "output_type": "stream",
          "name": "stdout",
          "text": [
            "Epoch 150 finished\n"
          ]
        },
        {
          "output_type": "stream",
          "name": "stderr",
          "text": [
            "\n",
            "100%|██████████| 1/1 [00:00<00:00,  1.97it/s]"
          ]
        },
        {
          "output_type": "stream",
          "name": "stdout",
          "text": [
            "Epoch 151 finished\n"
          ]
        },
        {
          "output_type": "stream",
          "name": "stderr",
          "text": [
            "\n",
            "100%|██████████| 1/1 [00:00<00:00,  1.95it/s]"
          ]
        },
        {
          "output_type": "stream",
          "name": "stdout",
          "text": [
            "Epoch 152 finished\n"
          ]
        },
        {
          "output_type": "stream",
          "name": "stderr",
          "text": [
            "\n",
            "100%|██████████| 1/1 [00:00<00:00,  1.85it/s]"
          ]
        },
        {
          "output_type": "stream",
          "name": "stdout",
          "text": [
            "Epoch 153 finished\n"
          ]
        },
        {
          "output_type": "stream",
          "name": "stderr",
          "text": [
            "\n",
            "100%|██████████| 1/1 [00:00<00:00,  1.90it/s]"
          ]
        },
        {
          "output_type": "stream",
          "name": "stdout",
          "text": [
            "Epoch 154 finished\n"
          ]
        },
        {
          "output_type": "stream",
          "name": "stderr",
          "text": [
            "\n",
            "100%|██████████| 1/1 [00:00<00:00,  1.89it/s]"
          ]
        },
        {
          "output_type": "stream",
          "name": "stdout",
          "text": [
            "Epoch 155 finished\n"
          ]
        },
        {
          "output_type": "stream",
          "name": "stderr",
          "text": [
            "\n",
            "100%|██████████| 1/1 [00:00<00:00,  1.90it/s]"
          ]
        },
        {
          "output_type": "stream",
          "name": "stdout",
          "text": [
            "Epoch 156 finished\n"
          ]
        },
        {
          "output_type": "stream",
          "name": "stderr",
          "text": [
            "\n",
            "100%|██████████| 1/1 [00:00<00:00,  1.90it/s]"
          ]
        },
        {
          "output_type": "stream",
          "name": "stdout",
          "text": [
            "Epoch 157 finished\n"
          ]
        },
        {
          "output_type": "stream",
          "name": "stderr",
          "text": [
            "\n",
            "100%|██████████| 1/1 [00:00<00:00,  1.95it/s]"
          ]
        },
        {
          "output_type": "stream",
          "name": "stdout",
          "text": [
            "Epoch 158 finished\n"
          ]
        },
        {
          "output_type": "stream",
          "name": "stderr",
          "text": [
            "\n",
            "100%|██████████| 1/1 [00:00<00:00,  1.93it/s]"
          ]
        },
        {
          "output_type": "stream",
          "name": "stdout",
          "text": [
            "Epoch 159 finished\n"
          ]
        },
        {
          "output_type": "stream",
          "name": "stderr",
          "text": [
            "\n",
            "  0%|          | 0/1 [00:00<?, ?it/s]"
          ]
        },
        {
          "output_type": "stream",
          "name": "stdout",
          "text": [
            "(Steps: 2400160) train/TotalLoss = 0.1944.\n",
            "(Steps: 2400160) train/mel_loss_ = 0.0591.\n",
            "(Steps: 2400160) train/mel_loss = 0.0435.\n",
            "(Steps: 2400160) train/dur_loss = 0.0174.\n",
            "(Steps: 2400160) train/pitch_loss = 0.0205.\n",
            "(Steps: 2400160) train/energy_loss = 0.0539.\n",
            "(Steps: 2400160) train/batch_size = 3.4000.\n",
            "(Steps: 2400160) train/x_band_width = 4.2000.\n",
            "(Steps: 2400160) train/h_band_width = 4.2000.\n",
            "KanTtsSAMBERT learning rate: 0.000082\n"
          ]
        },
        {
          "output_type": "stream",
          "name": "stderr",
          "text": [
            "100%|██████████| 1/1 [00:00<00:00,  1.88it/s]"
          ]
        },
        {
          "output_type": "stream",
          "name": "stdout",
          "text": [
            "Epoch 160 finished\n"
          ]
        },
        {
          "output_type": "stream",
          "name": "stderr",
          "text": [
            "\n",
            "100%|██████████| 1/1 [00:00<00:00,  1.91it/s]"
          ]
        },
        {
          "output_type": "stream",
          "name": "stdout",
          "text": [
            "Epoch 161 finished\n"
          ]
        },
        {
          "output_type": "stream",
          "name": "stderr",
          "text": [
            "\n",
            "100%|██████████| 1/1 [00:00<00:00,  1.85it/s]"
          ]
        },
        {
          "output_type": "stream",
          "name": "stdout",
          "text": [
            "Epoch 162 finished\n"
          ]
        },
        {
          "output_type": "stream",
          "name": "stderr",
          "text": [
            "\n",
            "100%|██████████| 1/1 [00:00<00:00,  1.83it/s]"
          ]
        },
        {
          "output_type": "stream",
          "name": "stdout",
          "text": [
            "Epoch 163 finished\n"
          ]
        },
        {
          "output_type": "stream",
          "name": "stderr",
          "text": [
            "\n",
            "100%|██████████| 1/1 [00:00<00:00,  1.79it/s]"
          ]
        },
        {
          "output_type": "stream",
          "name": "stdout",
          "text": [
            "Epoch 164 finished\n"
          ]
        },
        {
          "output_type": "stream",
          "name": "stderr",
          "text": [
            "\n",
            "100%|██████████| 1/1 [00:00<00:00,  1.85it/s]"
          ]
        },
        {
          "output_type": "stream",
          "name": "stdout",
          "text": [
            "Epoch 165 finished\n"
          ]
        },
        {
          "output_type": "stream",
          "name": "stderr",
          "text": [
            "\n",
            "100%|██████████| 1/1 [00:00<00:00,  1.77it/s]"
          ]
        },
        {
          "output_type": "stream",
          "name": "stdout",
          "text": [
            "Epoch 166 finished\n"
          ]
        },
        {
          "output_type": "stream",
          "name": "stderr",
          "text": [
            "\n",
            "100%|██████████| 1/1 [00:00<00:00,  1.79it/s]"
          ]
        },
        {
          "output_type": "stream",
          "name": "stdout",
          "text": [
            "Epoch 167 finished\n"
          ]
        },
        {
          "output_type": "stream",
          "name": "stderr",
          "text": [
            "\n",
            "100%|██████████| 1/1 [00:00<00:00,  1.77it/s]"
          ]
        },
        {
          "output_type": "stream",
          "name": "stdout",
          "text": [
            "Epoch 168 finished\n"
          ]
        },
        {
          "output_type": "stream",
          "name": "stderr",
          "text": [
            "\n",
            "100%|██████████| 1/1 [00:00<00:00,  1.77it/s]"
          ]
        },
        {
          "output_type": "stream",
          "name": "stdout",
          "text": [
            "Epoch 169 finished\n"
          ]
        },
        {
          "output_type": "stream",
          "name": "stderr",
          "text": [
            "\n",
            "  0%|          | 0/1 [00:00<?, ?it/s]"
          ]
        },
        {
          "output_type": "stream",
          "name": "stdout",
          "text": [
            "(Steps: 2400170) train/TotalLoss = 0.1905.\n",
            "(Steps: 2400170) train/mel_loss_ = 0.0584.\n",
            "(Steps: 2400170) train/mel_loss = 0.0430.\n",
            "(Steps: 2400170) train/dur_loss = 0.0171.\n",
            "(Steps: 2400170) train/pitch_loss = 0.0195.\n",
            "(Steps: 2400170) train/energy_loss = 0.0526.\n",
            "(Steps: 2400170) train/batch_size = 3.4000.\n",
            "(Steps: 2400170) train/x_band_width = 4.2000.\n",
            "(Steps: 2400170) train/h_band_width = 4.2000.\n",
            "KanTtsSAMBERT learning rate: 0.000082\n"
          ]
        },
        {
          "output_type": "stream",
          "name": "stderr",
          "text": [
            "100%|██████████| 1/1 [00:00<00:00,  1.78it/s]"
          ]
        },
        {
          "output_type": "stream",
          "name": "stdout",
          "text": [
            "Epoch 170 finished\n"
          ]
        },
        {
          "output_type": "stream",
          "name": "stderr",
          "text": [
            "\n",
            "100%|██████████| 1/1 [00:00<00:00,  1.81it/s]"
          ]
        },
        {
          "output_type": "stream",
          "name": "stdout",
          "text": [
            "Epoch 171 finished\n"
          ]
        },
        {
          "output_type": "stream",
          "name": "stderr",
          "text": [
            "\n",
            "100%|██████████| 1/1 [00:00<00:00,  1.89it/s]"
          ]
        },
        {
          "output_type": "stream",
          "name": "stdout",
          "text": [
            "Epoch 172 finished\n"
          ]
        },
        {
          "output_type": "stream",
          "name": "stderr",
          "text": [
            "\n",
            "100%|██████████| 1/1 [00:00<00:00,  1.86it/s]"
          ]
        },
        {
          "output_type": "stream",
          "name": "stdout",
          "text": [
            "Epoch 173 finished\n"
          ]
        },
        {
          "output_type": "stream",
          "name": "stderr",
          "text": [
            "\n",
            "100%|██████████| 1/1 [00:00<00:00,  1.97it/s]"
          ]
        },
        {
          "output_type": "stream",
          "name": "stdout",
          "text": [
            "Epoch 174 finished\n"
          ]
        },
        {
          "output_type": "stream",
          "name": "stderr",
          "text": [
            "\n",
            "100%|██████████| 1/1 [00:00<00:00,  1.94it/s]"
          ]
        },
        {
          "output_type": "stream",
          "name": "stdout",
          "text": [
            "Epoch 175 finished\n"
          ]
        },
        {
          "output_type": "stream",
          "name": "stderr",
          "text": [
            "\n",
            "100%|██████████| 1/1 [00:00<00:00,  1.89it/s]"
          ]
        },
        {
          "output_type": "stream",
          "name": "stdout",
          "text": [
            "Epoch 176 finished\n"
          ]
        },
        {
          "output_type": "stream",
          "name": "stderr",
          "text": [
            "\n",
            "100%|██████████| 1/1 [00:00<00:00,  1.90it/s]"
          ]
        },
        {
          "output_type": "stream",
          "name": "stdout",
          "text": [
            "Epoch 177 finished\n"
          ]
        },
        {
          "output_type": "stream",
          "name": "stderr",
          "text": [
            "\n",
            "100%|██████████| 1/1 [00:00<00:00,  1.93it/s]"
          ]
        },
        {
          "output_type": "stream",
          "name": "stdout",
          "text": [
            "Epoch 178 finished\n"
          ]
        },
        {
          "output_type": "stream",
          "name": "stderr",
          "text": [
            "\n",
            "100%|██████████| 1/1 [00:00<00:00,  1.94it/s]"
          ]
        },
        {
          "output_type": "stream",
          "name": "stdout",
          "text": [
            "Epoch 179 finished\n"
          ]
        },
        {
          "output_type": "stream",
          "name": "stderr",
          "text": [
            "\n",
            "  0%|          | 0/1 [00:00<?, ?it/s]"
          ]
        },
        {
          "output_type": "stream",
          "name": "stdout",
          "text": [
            "(Steps: 2400180) train/TotalLoss = 0.1889.\n",
            "(Steps: 2400180) train/mel_loss_ = 0.0579.\n",
            "(Steps: 2400180) train/mel_loss = 0.0426.\n",
            "(Steps: 2400180) train/dur_loss = 0.0167.\n",
            "(Steps: 2400180) train/pitch_loss = 0.0199.\n",
            "(Steps: 2400180) train/energy_loss = 0.0519.\n",
            "(Steps: 2400180) train/batch_size = 3.4000.\n",
            "(Steps: 2400180) train/x_band_width = 4.2000.\n",
            "(Steps: 2400180) train/h_band_width = 4.2000.\n",
            "KanTtsSAMBERT learning rate: 0.000082\n"
          ]
        },
        {
          "output_type": "stream",
          "name": "stderr",
          "text": [
            "100%|██████████| 1/1 [00:00<00:00,  1.78it/s]"
          ]
        },
        {
          "output_type": "stream",
          "name": "stdout",
          "text": [
            "Epoch 180 finished\n"
          ]
        },
        {
          "output_type": "stream",
          "name": "stderr",
          "text": [
            "\n",
            "100%|██████████| 1/1 [00:00<00:00,  1.86it/s]"
          ]
        },
        {
          "output_type": "stream",
          "name": "stdout",
          "text": [
            "Epoch 181 finished\n"
          ]
        },
        {
          "output_type": "stream",
          "name": "stderr",
          "text": [
            "\n",
            "100%|██████████| 1/1 [00:00<00:00,  1.86it/s]"
          ]
        },
        {
          "output_type": "stream",
          "name": "stdout",
          "text": [
            "Epoch 182 finished\n"
          ]
        },
        {
          "output_type": "stream",
          "name": "stderr",
          "text": [
            "\n",
            "100%|██████████| 1/1 [00:00<00:00,  1.93it/s]"
          ]
        },
        {
          "output_type": "stream",
          "name": "stdout",
          "text": [
            "Epoch 183 finished\n"
          ]
        },
        {
          "output_type": "stream",
          "name": "stderr",
          "text": [
            "\n",
            "100%|██████████| 1/1 [00:00<00:00,  1.88it/s]"
          ]
        },
        {
          "output_type": "stream",
          "name": "stdout",
          "text": [
            "Epoch 184 finished\n"
          ]
        },
        {
          "output_type": "stream",
          "name": "stderr",
          "text": [
            "\n",
            "100%|██████████| 1/1 [00:00<00:00,  1.91it/s]"
          ]
        },
        {
          "output_type": "stream",
          "name": "stdout",
          "text": [
            "Epoch 185 finished\n"
          ]
        },
        {
          "output_type": "stream",
          "name": "stderr",
          "text": [
            "\n",
            "100%|██████████| 1/1 [00:00<00:00,  1.93it/s]"
          ]
        },
        {
          "output_type": "stream",
          "name": "stdout",
          "text": [
            "Epoch 186 finished\n"
          ]
        },
        {
          "output_type": "stream",
          "name": "stderr",
          "text": [
            "\n",
            "100%|██████████| 1/1 [00:00<00:00,  1.96it/s]"
          ]
        },
        {
          "output_type": "stream",
          "name": "stdout",
          "text": [
            "Epoch 187 finished\n"
          ]
        },
        {
          "output_type": "stream",
          "name": "stderr",
          "text": [
            "\n",
            "100%|██████████| 1/1 [00:00<00:00,  1.93it/s]"
          ]
        },
        {
          "output_type": "stream",
          "name": "stdout",
          "text": [
            "Epoch 188 finished\n"
          ]
        },
        {
          "output_type": "stream",
          "name": "stderr",
          "text": [
            "\n",
            "100%|██████████| 1/1 [00:00<00:00,  1.96it/s]"
          ]
        },
        {
          "output_type": "stream",
          "name": "stdout",
          "text": [
            "Epoch 189 finished\n"
          ]
        },
        {
          "output_type": "stream",
          "name": "stderr",
          "text": [
            "\n",
            "  0%|          | 0/1 [00:00<?, ?it/s]"
          ]
        },
        {
          "output_type": "stream",
          "name": "stdout",
          "text": [
            "(Steps: 2400190) train/TotalLoss = 0.1864.\n",
            "(Steps: 2400190) train/mel_loss_ = 0.0574.\n",
            "(Steps: 2400190) train/mel_loss = 0.0423.\n",
            "(Steps: 2400190) train/dur_loss = 0.0162.\n",
            "(Steps: 2400190) train/pitch_loss = 0.0190.\n",
            "(Steps: 2400190) train/energy_loss = 0.0513.\n",
            "(Steps: 2400190) train/batch_size = 3.4000.\n",
            "(Steps: 2400190) train/x_band_width = 4.2000.\n",
            "(Steps: 2400190) train/h_band_width = 4.2000.\n",
            "KanTtsSAMBERT learning rate: 0.000082\n"
          ]
        },
        {
          "output_type": "stream",
          "name": "stderr",
          "text": [
            "100%|██████████| 1/1 [00:00<00:00,  1.77it/s]"
          ]
        },
        {
          "output_type": "stream",
          "name": "stdout",
          "text": [
            "Epoch 190 finished\n"
          ]
        },
        {
          "output_type": "stream",
          "name": "stderr",
          "text": [
            "\n",
            "100%|██████████| 1/1 [00:00<00:00,  1.79it/s]"
          ]
        },
        {
          "output_type": "stream",
          "name": "stdout",
          "text": [
            "Epoch 191 finished\n"
          ]
        },
        {
          "output_type": "stream",
          "name": "stderr",
          "text": [
            "\n",
            "100%|██████████| 1/1 [00:00<00:00,  1.84it/s]"
          ]
        },
        {
          "output_type": "stream",
          "name": "stdout",
          "text": [
            "Epoch 192 finished\n"
          ]
        },
        {
          "output_type": "stream",
          "name": "stderr",
          "text": [
            "\n",
            "100%|██████████| 1/1 [00:00<00:00,  1.88it/s]"
          ]
        },
        {
          "output_type": "stream",
          "name": "stdout",
          "text": [
            "Epoch 193 finished\n"
          ]
        },
        {
          "output_type": "stream",
          "name": "stderr",
          "text": [
            "\n",
            "100%|██████████| 1/1 [00:00<00:00,  1.79it/s]"
          ]
        },
        {
          "output_type": "stream",
          "name": "stdout",
          "text": [
            "Epoch 194 finished\n"
          ]
        },
        {
          "output_type": "stream",
          "name": "stderr",
          "text": [
            "\n",
            "100%|██████████| 1/1 [00:00<00:00,  1.83it/s]"
          ]
        },
        {
          "output_type": "stream",
          "name": "stdout",
          "text": [
            "Epoch 195 finished\n"
          ]
        },
        {
          "output_type": "stream",
          "name": "stderr",
          "text": [
            "\n",
            "100%|██████████| 1/1 [00:00<00:00,  1.86it/s]"
          ]
        },
        {
          "output_type": "stream",
          "name": "stdout",
          "text": [
            "Epoch 196 finished\n"
          ]
        },
        {
          "output_type": "stream",
          "name": "stderr",
          "text": [
            "\n",
            "100%|██████████| 1/1 [00:00<00:00,  1.87it/s]"
          ]
        },
        {
          "output_type": "stream",
          "name": "stdout",
          "text": [
            "Epoch 197 finished\n"
          ]
        },
        {
          "output_type": "stream",
          "name": "stderr",
          "text": [
            "\n",
            "100%|██████████| 1/1 [00:00<00:00,  1.82it/s]"
          ]
        },
        {
          "output_type": "stream",
          "name": "stdout",
          "text": [
            "Epoch 198 finished\n"
          ]
        },
        {
          "output_type": "stream",
          "name": "stderr",
          "text": [
            "\n",
            "100%|██████████| 1/1 [00:00<00:00,  1.83it/s]"
          ]
        },
        {
          "output_type": "stream",
          "name": "stdout",
          "text": [
            "Epoch 199 finished\n"
          ]
        },
        {
          "output_type": "stream",
          "name": "stderr",
          "text": [
            "\n",
            "  0%|          | 0/1 [00:00<?, ?it/s]"
          ]
        },
        {
          "output_type": "stream",
          "name": "stdout",
          "text": [
            "Checkpoint saved at step 2400200\n",
            "(Steps: 2400200) train/TotalLoss = 0.1832.\n",
            "(Steps: 2400200) train/mel_loss_ = 0.0567.\n",
            "(Steps: 2400200) train/mel_loss = 0.0417.\n",
            "(Steps: 2400200) train/dur_loss = 0.0156.\n",
            "(Steps: 2400200) train/pitch_loss = 0.0187.\n",
            "(Steps: 2400200) train/energy_loss = 0.0504.\n",
            "(Steps: 2400200) train/batch_size = 3.4000.\n",
            "(Steps: 2400200) train/x_band_width = 4.2000.\n",
            "(Steps: 2400200) train/h_band_width = 4.2000.\n",
            "KanTtsSAMBERT learning rate: 0.000082\n"
          ]
        },
        {
          "output_type": "stream",
          "name": "stderr",
          "text": [
            "100%|██████████| 1/1 [00:00<00:00,  1.15it/s]"
          ]
        },
        {
          "output_type": "stream",
          "name": "stdout",
          "text": [
            "Epoch 200 finished\n"
          ]
        },
        {
          "output_type": "stream",
          "name": "stderr",
          "text": [
            "\n",
            "  0%|          | 0/1 [00:00<?, ?it/s]"
          ]
        },
        {
          "output_type": "stream",
          "name": "stdout",
          "text": [
            "Epoch 201 finished\n"
          ]
        },
        {
          "output_type": "stream",
          "name": "stderr",
          "text": [
            "\n",
            "2023-08-27 14:23:42,971 - modelscope - INFO - SAMBERT training spent: 0.03 hours\n",
            "\n",
            "2023-08-27 14:23:42,973 - modelscope - INFO - skip HIFIGAN training...\n"
          ]
        }
      ]
    },
    {
      "cell_type": "markdown",
      "source": [
        "## 推理 Inference （可编辑中文文本内容）"
      ],
      "metadata": {
        "id": "l2rLYGwIcJ5U"
      }
    },
    {
      "cell_type": "code",
      "source": [
        "import os\n",
        "from modelscope.models.audio.tts import SambertHifigan\n",
        "from modelscope.pipelines import pipeline\n",
        "from modelscope.utils.constant import Tasks\n",
        "\n",
        "model_dir = os.path.abspath(\"./pretrain_work_dir\")\n",
        "\n",
        "custom_infer_abs = {\n",
        "    'voice_name':\n",
        "    'F7',\n",
        "    'am_ckpt':\n",
        "    os.path.join(model_dir, 'tmp_am', 'ckpt'),\n",
        "    'am_config':\n",
        "    os.path.join(model_dir, 'tmp_am', 'config.yaml'),\n",
        "    'voc_ckpt':\n",
        "    os.path.join(model_dir, 'orig_model', 'basemodel_16k', 'hifigan', 'ckpt'),\n",
        "    'voc_config':\n",
        "    os.path.join(model_dir, 'orig_model', 'basemodel_16k', 'hifigan',\n",
        "             'config.yaml'),\n",
        "    'audio_config':\n",
        "    os.path.join(model_dir, 'data', 'audio_config.yaml'),\n",
        "    'se_file':\n",
        "    os.path.join(model_dir, 'data', 'se', 'se.npy')\n",
        "}\n",
        "kwargs = {'custom_ckpt': custom_infer_abs}\n",
        "\n",
        "model_id = SambertHifigan(os.path.join(model_dir, \"orig_model\"), **kwargs)\n",
        "\n",
        "inference = pipeline(task=Tasks.text_to_speech, model=model_id)\n",
        "output = inference(input=\"大家好呀，欢迎使用滔滔智能的声音克隆产品！\") # 在这里编辑想要输出的文本\n",
        "\n",
        "import IPython.display as ipd\n",
        "ipd.Audio(output[\"output_wav\"], rate=44100)\n"
      ],
      "metadata": {
        "id": "hBVxPrEpbgB-",
        "colab": {
          "base_uri": "https://localhost:8080/",
          "height": 290
        },
        "outputId": "ff8c8236-cdad-44db-974a-2e39c8f07f6e"
      },
      "execution_count": 9,
      "outputs": [
        {
          "output_type": "stream",
          "name": "stderr",
          "text": [
            "2023-08-27 14:23:42,986 - modelscope - INFO - am_config=/content/pretrain_work_dir/tmp_am/config.yaml voc_config=/content/pretrain_work_dir/orig_model/basemodel_16k/hifigan/config.yaml\n",
            "2023-08-27 14:23:42,987 - modelscope - INFO - audio_config=/content/pretrain_work_dir/data/audio_config.yaml\n",
            "2023-08-27 14:23:42,988 - modelscope - INFO - am_ckpts=OrderedDict([(2400000, '/content/pretrain_work_dir/tmp_am/ckpt/checkpoint_2400000.pth'), (2400200, '/content/pretrain_work_dir/tmp_am/ckpt/checkpoint_2400200.pth')])\n",
            "2023-08-27 14:23:42,990 - modelscope - INFO - voc_ckpts=OrderedDict([(2400000, '/content/pretrain_work_dir/orig_model/basemodel_16k/hifigan/ckpt/checkpoint_2400000.pth')])\n",
            "2023-08-27 14:23:42,991 - modelscope - INFO - se_path=/content/pretrain_work_dir/data/se/se.npy se_model_path=/content/pretrain_work_dir/orig_model/se.onnx\n",
            "2023-08-27 14:23:42,992 - modelscope - INFO - mvn_path=/content/pretrain_work_dir/orig_model/mvn.npy\n",
            "2023-08-27 14:23:48,733 - modelscope - WARNING - No preprocessor field found in cfg.\n",
            "2023-08-27 14:23:48,734 - modelscope - WARNING - No val key and type key found in preprocessor domain of configuration.json file.\n",
            "2023-08-27 14:23:48,735 - modelscope - WARNING - Cannot find available config to build preprocessor at mode inference, current config: {'model_dir': '/content/pretrain_work_dir/orig_model'}. trying to build by task and model information.\n",
            "2023-08-27 14:23:48,736 - modelscope - WARNING - No preprocessor key ('sambert-hifigan', 'text-to-speech') found in PREPROCESSOR_MAP, skip building preprocessor.\n"
          ]
        },
        {
          "output_type": "stream",
          "name": "stdout",
          "text": [
            "Removing weight norm...\n"
          ]
        },
        {
          "output_type": "execute_result",
          "data": {
            "text/plain": [
              "<IPython.lib.display.Audio object>"
            ],
            "text/html": [
              "\n",
              "                <audio  controls=\"controls\" >\n",
              "                    <source src=\"data:audio/wav;base64,UklGRjQCAgBXQVZFZm10IBAAAAABAAEAgD4AAAB9AAACABAAZGF0YRACAgBfAEsASQBVAFMASQAyAEAARABHADkARwBcAGYAYgBoAGkAagBSAEIALgAnABgABQD6//b/AQASACUAIQAsABoAIAAkACYANAAcABcAEAAFAAMAAwABAPz/6v/g/+L/4P/m/wQACwARAPf//v8NAAQAAAD0/x4AAwD4/+7/IAAMABEAFQAdAAgA6/8AADsAJwD3/x0AQgA4ACcAOgA4ACkA4P8EAA8AKgAhAEYAXABbADoAJwA0AEsASwBKAGUAfgB9AGUAPQBXAHcAlgCiAKwAtQC+AMwA2QDiAOQA9wDyAAUB6wD2ALMAywBcAHQAYwDDAOkAKQD3AEUCWQK4/7b+4P0fAzIHgwgDCSsKCQyQCY4JEAlHCKoF5ASqARv+sP07/Zv6ivum/Fj64/z7+0H9Av7J/Xn/y/6a/xz/y/6B/UT9Af04/If8Afz0/H78xPwH/Wf+YP+r/pX/KwCQ/0z/9v/1/83/lf+B/xz/5/5I/0H/Wv8KAB8AZACC/wAACwDI/x8A2v/9/+7/zf9H/2z/h/+u/5T/iv+d/1D/tf6F/lr+N/79/XX9M/0I/QD9ufwd/V39FP4v/gf+b/7e/jn/T/83/zD/4/5n/9///P9oAL8AxgAUAXMBuQE5AioChwJ2AsACWwKQAikC5wGOASMB6QCqAD4AiADP/x0ASAG+AA0Bhf7K/NH5xvnM+Iz20fSi8zz0QPK48UDxX/FN9az4D/nR/DsDlgf8CR8M4QyWDOULIgpVBx8GNwV5A8gByAAGAZoBiQJYA0cEpAWyBkIGQwW1BDYERwP7AqwCOwJgATAAG/8U/oL86vo4+v35Dvnk9VLzNfFw8azxefXS97/2tfgs/VAAYwKEBiwIMwz1DnINxAt5CaMFWQIy/yX8Nfvg+7n8ifxo/cL/jALrBFQILQvWC1kLWArWCJcG5gVMBM8C3gGOAND/Vv6e/Af65/j69wz3W/bE9Z72e/bF9W71nvX997b6dvt1+6f91AHyBZcJMAyKDR0LGwU3/rj5U/jB+KL4LPhc+UX6Avxl/QECoQfHDPIOgw3gDLoJjwjXB/IFWgUtBRoDaAHCAlgDfQKtARkAz/4V/iT8oPmi+Bn5FPii9tz1W/RN9Cz40fsu/2IDlQWYA+EBUQKoAaz+e/st+aj37PcA+d/5mfpz/f3/RQETA6MGHgo3C18L5Qk4B4UGdAWtApYCsgSBBFsDlQMxBOcELAZmBpkEBQTNA8oBqP/E/Yr8cPst+t34ovZH9eL1Bvdb92X5iPoC+Dj38Ppa/Az75von+vD5kvul/Uf+FwAgAsEB+QHOBHUGiwarB48HPAbvBloH5wSyAdwBGwMbBPkGSgelBaMFKAc9B1sG/wZ+B/kGhQVhAv3+pPyC+1b6Zfk/+Tr38fQ+85fzgPXN9TH0I/Ip8Qf1afnh+CH6zf7kAnQEwQWSBnwGWwjSChcIKwUuBMoCQAI3AZkA3ACkAkMCMQESA98F9wiLCmMKMwr8CSMJbQh7B1QG8AXFA0//GvxV+8v6gfnF+CT5FviB9Yn0BPOe8eHwt+4W7Y3vX/au+V/78v6qAhsGJwhmCnILgQtWC7IJ9AW8AzUCAv/p/PH8Uv+0AKoAFAJvBA0HHAp1DH4MRAyOC8QJjgjoBocGewUNAo3+HPzq+sn6U/sC/Cj8RftX+Y72oPNs8knvzOiQ5trqLPBT8/T4Wf+5AoQGTQm6CUoMNw9wDQ0KSghZBcsA5fwJ/An8bP14AE8BjgFiAzUIAQq6C9cOEw7sC+4KSQsQCAUFPQToAfv+bPvJ+R36Wvtq/ST+CfzY+UX5bPen89bu2uiC45blee0s8nb0OPo4APQDUwcfC00N7A6XELkOugoEB7oDKv90+8L7tf0e/nn+xP9TAVsDlwdcCxwM1AzTDP8LCAx/C9oIlgYhBcACm/8A/MX5lfoL/Jj8Qfw6+mX3i/Wo9NTx2O1Z6GHjxeUC8Bv2dvfL/EoAwQMOCUcM8gzHD90Rig2vCAkF3QCd/hb+df1o/jb/of88/2QAjwQpCHsLfg0VDaILlQvMClkJsArUCfYEGAAd/dP64flY++X8PP4z/vP6E/dO9HX0ifOC7q/nwuPT5g/tffUh+ez5ZP86BAYGAgoWDgsQQhA9DQAKjAULAv0BOwEb/wz/UwDm/kn+FwFlA+oF8Ak7DY8MvQraChAKvghrCegI5gRmAdP/D/67/Dz9a/5c/t38Yfo/99n0ovT38+7u3Odi5eXmAOyI81H2zPj1/p0CcgOMBuoLlw28DuoOvArWBvcFBQUmAmkBSwHWAEH/vP6r/w0BaQWhCfwKAgsrC6cLKwv4CZoKuwjXBPQC6v9y/kH/S//U/dD7nvtl+5n5f/cr9k/zxO7p6WfkduVq7jz0BvVZ9+P74P6CAjIGFwlaDJIOmg6ZCnQIgQggBwQE9gENAgMBJADI/+b+WAD0BDQIiwjPCVULoQp+C3AM2wqnCLcGQQODANMAnABP/4n90vtE+9P6EPnM9wf2lfPQ8FPro+Vf5ljtGPI886P1tfm8/IcB+wSqBgwK0gyhDU8L5wrJCTsHvQVMA44CDQIFAWYAKQCWANQC+AWyByMKiAuVCmYJbQkuCuYISAZFBPMCFwI2AWYAAv8A/u39Afyn+Jb3t/fA9bXx0+tH5q7mxO1l8X/xf/QM+Ab72P2/AVMEFggJDVcMLAqyCoQKOgjABlIGaQQqA54CWAA9/0sBfgISA+UFfAjWCKgIQAnTCYMK6gpgCY0GoAR9A28BG/8A/8X/jv9U/YD61fev9Rz1/fJF7B7ohup77AruNvFY8031QfiL+1/+GAKfB2kJuAkaCzQLrgk/CLsITgj7BisHqwSeAJMAbAF3AZMCYwS4BR0GOgfoB7AHtghoCeIIAQgRB9YElQLmAWkBlwBpAAX/EvzX+dX3cPWR9NjxGuy/6Ajs1e9F8Gvy1/NZ9fv4UPwG/yYCgwb/CHAI/Qh/CYkJ3wgWCWUJLwiCBuQECANPAcIC/QN9An8CAgUABmsGIAbbBXEGBQinCAgHCwVBBCQEjAJmAaEA3wA//vf6Lvno9o72MPV/7+vqrOu87VzwGPLv8r7zcPY++TD7IP8UA94FjgZ4B5MHBAejCJ8JkAhPCJ8IqQYPBAUDtAKsA2MFlwXsBDgEMAXhBXcFnQV+BicHdQe5Bn4EgANiAyADPgKDASj/6vyk+6L5Hfj89cHzS/AB7dHuvPHq8bPyffMO9BD2yPhS+0f/HwKkA04EcgSdBpkHXQd1B2oIzQfQBrcGRQVGBAgF5gUrBesEBgVfBEwEDwWPBcIFfQXvBKEEjQT4BNoEUQMWAm8CtAHWANP+evxp+2D6z/gx9f3ztfL18RDzHfPQ8o7z+fWi9vT2Dfl4+3r9kf9GAQ4C1wMCB10HfgVVBQwGcwYECPYHSQZzBbUFPwV3BEkFwgVXBdIEVAQZBNkE0gSOBCMEnQNIA+IChALkAWgBnAC2/xv/cP3x+nX5pviv96v2p/UP9Cn0jPVL9aX1nvbd9nb4G/qo+rb7IP7u/6QB+gLwAogClgOOBbYF6QWWBoEGCwZJBvgFtAU1BgwGYgW1BMUE+gSmBB4EFgQzA7YC6AJpA1sDMALOAdkAsQBrAIv/aP7g/AL8s/oL+dT3ffcF93D3ZPda9t72bvfm99X4e/n/+kX8vf0r/yr/wP+jAMwBcANKBD8EiQSZBG4FIAadBXkF7QVXBngFVwUBBYIERwQ2AxADPgOqA48D3wLPAvYCPQLSAYoBFQFWAekAE/9w/W39YvwY+6P6J/tB+jH5l/la+Vn58Pkn+2f6dPk5+nL7d/x1/Qf+t/3I/msADAFYAUgC1wImA9EDlgTFBNcEJAVTBTkFCQUmBV4EMQQcBGIEAgTpAyQDkgPjAw0DvwK/ATkCWgFXAbwA7f5b/q39UP0s/GD8D/wo+9H7Hfr7+Tz6RPrP+j/6B/rK+sL7UPyo/Oz8of0k/jL/Gv+j/3kBlQKGAvcCPQO0AxUE+ANHBKwEzQT/A5EDAQSjBIsEEARxA4ADpgPhAwMDFAP/AtcCrAFPATMBlP8AALj+jP5d/rv8P/xX/En8gvsq+3n6ovk3+tP68vow+/f6APuO+wD9xP3M/dP97f7x/2//KQE2AkkCjgJYAs4COwOOBGkDLAN8AyUD/AOMA4cEkwPDA6oDswPsAykD5gOqAmQDxgKiATEBDQBGANT/m/60/uz9Rv7+/Cz8ZPyt+xH8MPs7+sX68/oY+6/72Pqs/HH8hf2I/oj+Tv/J/30Atv9iAaUBmQFXAk0CQgIEA4UCnAIXA2ADrAPuAloD+AKnAnIDPAMYA88DYAMHAxIDewGFAcMBZQIGARIAuv+Z/WH+fv3Y/Tr91PsD/I76LvtV+7T7zfrG+hr85/sD/Fb9B/7T/c/+pv5c//H/QwDjALQAhAHAAesBTgKzAUsC+wJlA5ADLgP6AqoBjQLcAoMCIwNvA3oDNAN+AgcDyAGTAYoBvAFXAIoAwf8//lX/AP6T/fn7nf0m+w77tvvl+1X8ZvzR+/X7FP0y/Yn+Ff1R/tf+UgB1/23/YgDKAKUBuQF6ARICGAJKAiYDlwLMA7YCOwP3AsUCPAMlA/oCIQTvApIC6wLqAccBtwGIAUQBAAHP/zT/rv3D/1j9B/2k/Jj7jfvF+sT7Cfue/XD7Svo6/Hn86f2p/Tf95Pze/p//gf8nAMsApwHYAXQBZQGPAo0CSgN8AhwDDgQ9A/UDmwJjAsADMgR+BMgCowOIA+QCWAKvAssBAAKnAeUAkP9l/mgBSfws/nn98Puc++35I/x3+fb6gfol+pX6p/si/Er7Lv48/sb9O/6o/qMAkAGSAbcBzgE3A0MEzQLgAjwEqwPbA2IEowTpAzMEmQScBDMEDwRIA6ECngIfAggCyQFwAR4Aqv/M/hECPP1R/av/H/qF/Lf6E/oM+uT6u/mi+Cv6GPoF+7D6kPsq+/D8lf5e/9b+//5vAIcAegHoAgIDagMXBXEFSgS+BMAFuwW1BZsFgwV9BMcFXwWAAzcD1wOpAhkDPwJRAVAB/f92/3X+fv46/1797/pk+gL5afjf9zf6Lfgl9gT3cPYW+C76Yfom+Ur7Nf2I/Z7/xAB7ACsCrwJCApMCxQRYBdkFJAcnBkUF5AUIBzAGwAYfBzcGpAXGBtcF4ANCBDMDOAL8Ab0BDQESAGz/hf8Z/p79dPyc++b6jff69e/0wvac9v/1n/U19N71zfY1+ET5qPuI/dz9OP/X/wECPAR0BWMF5gRqBzUIXQgfCVEIiQfuBqcHdQceBwwHRwYhBaoF5gXwA3cD1AMrA1YBPAFQADoAzADZ/r/9jv0v/ef7wfly9zT0FPNj9NjztvN49Mn0/vOg9eL3bvi6/DMACwBGATUExgVRBvIH0gjZCB0KjAkQBwwGGAiyCJcGCAVWBZkF1AQuBdsE+gR+BaEE4wJxAqgDTwOYATQBwABCAPH/Yf+S/f77uvpA+HT0j/Lk8BnvF/H68k7zqvFD8wj2vvcU+x7+yQA6Ax4HwQcMB40JkQrqCvoJkAm6CUMHMQW0BHYE0gMuAy8D1gI3A9wEtQVrBZYFPgbFBW8FMgXUBC0DoQEiAeAAhAC8/mf75vh596L2MvN97K7qcOxG75HxSPH/8Dv0Cvgd+4n/1wIFBQgIoggJCX4MUw2jCpEJsAgUBokFxgS3AgsBfgHi/7n9QwHiA5oDtgStBvUHOAkHCg8KHAlhBysFvQJTAtwCcAK9/7b8uPmN9jT1UvRF8f7rF+k757Hpuu/B8l70kfY4+uD7FgA2COULfgxfDQANCAxRDZEMuweXBDkEagJU/qb8sv2z/h797vx8/zYC6gaVCesJKwtuDcQN/Aq8CZcJ3gciBKgA+P+N/5j9svme9U/0yPU79WjvSel7583oK+q87gz1t/fU+lT91/44BDgMhRCwDpQNTg38CtAJowc/A0AApv86/ZT5l/m9+/b89v16ANYCcAUCCbwLmw2vDzsRBw+yC3kKnAgbBj0C9/5P/Ur9gfvr9kr0P/T79Xj1IvMc7KrmQuoa7XzvfPT9+ff8lP74AJkDEwpvD4YPRQ3XCrUJDwhOBKQAgP47/Z/7LPrZ+Uz7BP6uAGgC8ASRCQIMlgxuDX8PlxB3D0cNHQgaBCMDZgHy/T/7VfqG+VP4ffdC9rr1pPfm91/yY+xf6oXt7/Lf9bv5/vuZ/AD/WALFBl8LNQ7RCw8IYwe3BQYD6AGF/4z8jvvN+9P6O/sM/7gC2QQGB6wKdAx+Df0NYgy0C4AN6Q3QCMMD0gBl/r79p/wo/J77Fvtd+mv4EPd/+Df60Pcv86/rtebN6RXysPf0+Fj8c/8BAfED6wdtDBwPBg/HCucD7f/2/17/9vxD+0b6QPrB+q/9dAEWBcoI8wqDDEAONBARDsoL9QwBDDEJtQUdAcj9kv2f/Xn7Q/pE+0n7o/rT+qD6Yvnz+C34CPKJ6Vjn7uoe8W34Kfxk/dX/vQJHBIkHZA1SD1kN4wlBA/T8LPus+yT7xvqX+2j7Kvtk/pgDzgbXCUENbA6tDrQO2gy/CcMJnQqEBzcDhv/H/J/7BP2x/gH/Bv6+/BH8Q/se+l754fjG9Q/wFuhN5OPo7fJa+s/82ABJBDsElgWJCuUNIw/YDWoHCv9I+jD5OPnu+IX6OPwn/dP+zQEzBmMIywuBD5QQuQ4NCxEJkQiDCCYHxAPFAPn+Hf9f/zz+Gf7q/nYAKgBK/jD8z/il9pX3sPUO7gLmneSd6u/zu/vw/3sDRAfNCDgJVAwzDaUNjQoXA/78oPds9rL3h/g9+Z77wv68AbUFVAllC0wNUg+JD2wNeApZCHIGIAXBA8UA9/+WAOb/Xv+P/23/NP7h/YT+Gv/2/C356va99Brzze3q5LHjMe0a91D9LgMXB+AH7AjFCw0M1Ay4DOoHPABk+Q73PfT381X3rPrg/j0CtQRXBxQLww1xDxYQuA5dDHoIIgUaA68CUAPNAZr/jf89AEgAswBLAe3/fv4K/rL90/u19070H/LO72zs7ucM59btDPfx/RIFgwqICn8JuAqADLcLaQmOA+f8tvin9YL0gPPa9sb8PQJcBTAHEwtJDS4PVhAOEBYOiQoqBY/+6Pwl/3IBkwOKBLQDUgIgATIAMwAnAc4BQgCs+1T2WvOf8sjyVvHr6y/mcOme8cH3Vv8iCHwMzgvrCosKoAkSCeMGJgEE+6v2h/ND8jj1qfr4/isDagewCoQNqw8hD4YODg/dDAwIXwKA/cH7dv0sABQCywOVBQkGGgRvAJb+X//aAHMAjf3G+KLzq/HK8F7uAuuQ6R/qU/FY/cUDcgcrC1IMUgv8CVYImQUFA1sAKfuN9SzzKfRK9zX8YQIMBwwKFQ2ZDtYO4w6nDaIKSQdvA5/+9Pti/VABeAR9BXIFKAV8BVYESgIPAOH99P1s/Jf5M/dI9f3z1vJS8KbrVuhF60T1Vf7aAg0HgAqNCzYMrwrvBVwD9gGJ/jX6s/Yv9cL1ZPlU/gkCqAVzCTgMhA4JEIwOLgsECbcGqQJ+/3/+I//mAdQErwRbA/QDwgRFBKkC/ACV//T9m/ss+BT1jvOb8/fzh/H26x3o5es99df9rANdCEELZwumC7AI7QSLA70BMv5Z+RX2HPTZ9Mj57f87BbsJtAvbC7MMBA3rC3kKdAnLBtEC4P6J/FL+lwKTBhwIWwcgBtEEpAKm/wP97fvU+3v7jvka9wb18vSG9cnyXex06X3uxfR0/B8E+wiTCnUK7gmpB4QFfQLo/pv9A/yu+I/1JPVq+d//IAaLCt0MrA2QDcoLVAk9CFIHcgUWAm7+2vz3/qwCpQW0B/oI1ghBBw8EcP+d+8z52fgo+Ib4ePgt+Dr37/Ql8Tjswul47BD1Ev31AmsI7gqNC3UKkQgfBqoCxP/l/K/5j/ck9yn3zviV/ZMDCgmbDEEOVA5YDSYMWApgBw4EoAB8/fv8pf6cASMFcQgUCq8JwQekA4b/IfwE+n/5x/i493f2+PXz9Zn0XPGD7CLqi++u9zj9QQPgCR8NpQx4Ct0GZQPIAAX+l/vY+Nz2lvZY9/j60ADeBm0MHBDxEAsPJgu/BrUEeQQ6A5YAhP6x/kUAgwPcBhgICwlvCWsHAwNW/Un5+PfH+ML5gvlB+NL38PaX9Pnve+oE6kzwjPr+/5gEqwp7DNELgQjJAyIAqP7e/S389vnR99v38fil++sBjAiMDc0QDxH7DVwJoQVSA84CygLVASwAX//mALwDhwYiCFYJlAlsBzED3P1P+Y33yvdk+N33L/fc9oj1sPNJ7+Pqw+za8zX6sAD4B5sMtA0DC/AF1wFc/mz7ffp3+iD6yvlo+eH41vsTA1wL5RAJFOkS4QwtBx4CPf/R/8ABjgKPAiQDiQSoBYkF2gUtB3QHUwXdAZv9fPr9+Iz3fPb59hn5K/pX+I/zeew/6PHrYvNX+pICRAqIDV0Nxwm5BAkBHf+T/bH7aPrA97L1FfdM+hf/FweuDoISLRMnEEEKpgSTAlkCUALbATwBfACQABkE7AaBBygIrwhECBEFbf96+i/41/e8+Mz5zvmc+dr4E/bi71XpQefT6qr0qv+qB0AMWQ62DSMJTwSzAPb8cfoe+YL2a/Q79lL6/P5qBZ8L0A9+EVMQzQyZB5ADjwFFAagBNQHKADMBzwPABt8IpQlsCSEIYQU1AZj8o/nq99z4FPmW+WD6o/nK+AH1uu1S5nbmY+5B+i4FkgpFD6oPfAq3BVUASPs++Y75ffmZ+OP3sfey+lABYwjODaoRoBINEPcLBwZcADr96v1fABgCGgQgBc8GgQmHCk0JFwfMBLsB9P2X+i74Afjr+d36Gvor+mT5UPYg8krsTen07Hn0L/w6BJMMCRBDDg4J1AFv/AP57PYq94v4qvnB+jz9VgD6AxQJrw4gEd8PDQ5BCv4E6//a/FT80v2tAe0EyAd4CocLqQpzB4UEBAL4//H92/oo+D34OPpa+jL6c/mg9pPx++sO6ZXrhvRA/koFaQu2DjYNsgf8ABH70vZ09gn55vrB+1j8W/1wAJ4EJQlvDPMN3g1/C9EHnQMXAe7/OACPAtQE7QZ+CAoJ7wgxCJAGwgP+APX+kvyP+i36HPun/Lf9P/0I+7/3GPT87kDpDem07wD4N/43BJEJewsuCxkIowLc/Zr6O/gr9j/1m/YK+i//VQTiBwALOg5nDiUMKgmhBZICoACvALsA6gHxBIoHaQljClQKZAgvBj8FAwMy/jf6sfhy+BP5BfrD+379s/0e+xv2fu5/6Fbqs/Gl+ZQARwa7CWQJSgaXApb+mvuw+tX6J/se/DH8cfyF/bsAjAUeClYOQg5tDDYKZQa7Aeb94v2dAHUEZgjVCtcL0QpyCJYFlQN1AjoA1v3R+6r65Pn5+MP5+vwa/8T9rPl99C/vNuzH7Qzzd/k6/+MDXAbNBpkD5AG+/1H86fyB/er8D/xT+5r6Y/w1AR4GpQqKDaENwAtdCM0EjAK9Ab0CGQTcBHQFDwahB9II6wdPBj0F3QOcAMX8T/p1+mv7zvtw/U/+5/0h/P33YfIj72/vHPG79LT4QvsO/6wEvwZSBpkDRADe/XL65Pno+Z75qPr5/D4BJwXLB/kJTAviCdoHVgaTBJkEuAQfBeQF7QVoBSIEawMSBOAFHgcyB/QGfgURAjH+nPtU+hT5P/g5+Pz4ffpS/LX8+/hy9b/0wPPC89T1u/dJ+nv/AgTiBdAD2wD7/vf9z/4x/pL+DP8+AKcB0AAiAD4AvQIbBpcJzAtHDEoLMgfgA64CrAKFBKMEYQNcBA4GrAVPBNUCyQFYAX0A1/7o/NT7rvq++V/67fkL+QP5u/jz98f20/Xm9AP3CPwD/1f/Pf+l/if+pP6q/nv+UgCqAoECUwAu/jX9sv2nACgDUAUkCeML9QsGCQ4FrQIsApcDkwXvBUkFHgWzBD0DTgIkAmgCeALjAesAzv/B/or9d/2s/an8Fvqu+aP64fgP95H1H/VY9aT2nvom/Yn/jQK1AiABCv8Q/YL8Vfy3+0f7QPvt/M//sQIABXkHOgnWCfUI+wUoAwMCZQJwAtACowS1BqcIaghzBkoEaAI1ApoBUwGCAQQCrAFgAPP+If1Y/db9B/58/qD93/uj+r74L/eQ9cDzdvaf+T/77f3k//gBPwJ3AJH9mPr5+Zn5J/kN+8j/MQRKBgQG+wRVBYgG0ASRAZYAaAIzBNUEewUdBWUEgwQlBvwFEwRXAgECYQJBATUBegGFAUMD2AQjAxb/0vzi/Kf7tPg1+Z35E/pl+3r6P/m1+OP8Nf5K/jEBpwC4/5r+u/t7+B34q/h8+Ir68/22AqgFZQcsCXMHNAT6AbAAJv/1/Wn/XQJiBQcINgpeCdwGcQWeA4kCrgDG/6UAUgFkADX+av9WAwUExwO0Aw4DDgFA/eX54PVU9Jz2a/g/+9z/5QBXAL0A2/9V/Nv6E/oc+tj6afrB+ZX5fvrU/d4CKgUwBtEE5wIvAHX/ZgHjAEUAqAGkAygF+APiAv8FpwZmBjcH/AcZB4kDawHz/+P+jP5+/0kAjgDxAAsApP8//1H/HQAQAXABxf+U/p39cvvk+c/4X/lL+qf65/0hAMD+tf7P/ND4H/iD+gf9SP1u/yr/hf63ANAARQEnAML/FgH1Aw4G1wS4A9MDUQVyBe8DQALkAd0COwO3Aq0CxwIfAwgDEwKiAXECugGhAO4ATQDm/pH9bv+FAI3+XP0m/WH88PpF+2/8S/pk+db8oP0C/pz+x/z1+iL7J/sS+fj4Lf3+AEIBZAKzAwEF2ANwA/YBfQCHAvICJARWAnoCPQNQAmMAj/5cAFAD/wUbCAYLZgu6BhsDVf93/BP+AP1z+iv8mAD5AigDLQD8/j7/hf9a/sb7Ifoz+fb52/py+qb67vwP/5oAGgDi/bf5cfnD/KH9u/1m/34ADwAtAuMChgE5A94EWQR1A88C6gBz/3cCDAQIA9YDEQXzBOYDCAOhAdkAegIXBEgDLQE4AHP/sP2F/Sj90P3oADgC8wGAAV7/P/2I/VD9j/oI91H6lf0A/Tr/7f7s/tT+yPzv/GH8tvzC/UD/CgFZAaABoAFeAkwCywFHAXIB+gDv/+X/dABwAUoDqAQ9BEwEawXiBdoCmwDT/9D/aP+f/lf/hwDUAXYC7AHsAREAkv7s/Gj72fxN+uT74v/9/43/T/+a/6r/LwHe/jb87fq/+P/68fxx+6v7Lf5XApYEJQQyBEgDiwF2AKz+pP9oAtAAt/6o/mj/PgFFAtAE8gVMBjQHPgWcAYn8rfrY+8T9Xf9qAS8FKQZ4BZoCQP7h+/366fs2/RH/Of/v/yj/UP3L/NH6efyh/QoAAgHM/78AaP87/d/75vtu/nP/2v33/rIB6AJGA+EBZgHVAcoAy/8FAD3/eP7B/8oBZAPoAqYAZgEZAkwBcgDOAMACHgN2AvUAaQNwASb/1f5c/ov+qv7NAvoBJ/9l/9//CgF6/jP8y/yx/Fb+Vv4u/zH/9f4b//YA0wIpAvD/TP05/b79GP1T/db/VAKvBIMCswELAcD/af85AHP+xv2QAO0ApAASAOID6QE8ANUC3f+f/PD/8wGSAucBVQCTA3cEigLN/fz8vv77/dD/ov8eAJUAJgC1/mz6DfzI/iP/V/8tAboD3wJEAgAAZPyi+n37zf2i/Kn9lQFEA2cCBQT5BIwDkgEtAL/9gPpU/Kz8nP/3/93/OQJwAbwCJAKuAmADDwGvAKwBJwFM/ar6QP0NAhcBhP/yA4kCmACrACH/5P6Z/Rf8ePvd/LP+uwDMAYEDWQOvATgAAf2E++D7RPz9+wD+tgEuAywCowK7Asn/QPyZ/Or+Pv+P/mL+RAJBAUEAIgBkARcFXAXPBlkE5gHf/nf91Pzb+o77Z/7oAI0D3gUxBBMDHgNxAAEAAgPY/+X7/f0c/uz8Zf+T/dv8Gf/wAqsDYwBx/uD+1f8x/9r7l/nK/O7/2v8gAVUCOP/x//EAR//b/sr/kP5H/R4ApAFA/wkAXQLbAZIBrABcAMsAtQPRATX92P2eAN0BlACPANEBMQDMAPkDIAF8/VX/1gBy/3D/G/+K/2QBhgB5/ST+Uv8S/XL+eAIFA9X+4f2cADr95vr++6f9fAA9A2sDVwCU/zoAHv6r/Dn/WgA7AnABZgFnAYf/AwDi/ggA7wHzAWAAuAGIAY//2v43/yUDngM9ATUDdgH8/hj9j/xb/XL7hgAkA3cEBgUJBGgBuP4E/gT8HPyb+pP6x/3vAM8D7AWRA6YDPgWH/9r7U/tc+oT6HvoL+y7/6gFTA9UDbwUlBHsAmwDaAYIBCf+W/Qn+cf76/4AAkAFTAUQCzAQbA84BJ/9d/Yr9nv3G/fT+VwFhA50EhQTbApEAHf7M/P37pvwc/m7/CgF9AhgBl/50/+395v7s/t395wCsAXgAvv+r/4H+Hf1W/Qf+pP6q/owBBQS9BMQDcAEZAcQBvf7p+ir8MP/PAhQBT/4pAJ8BHAAt/qH+/P+BAMsCcQSdAaL/FAGxAA79jfq//LEAOP8sAKwB3wHpAZAAZv4f/Sn/tv5k/BX/WgKyAWQBEgGkArQAMv82AHP/9P3Y/ff+KAH2AVUBsgJYAywD5wAN/xP/kv/I/e79iP6J/zoBGgFmAsADfwKWAE3/Gf3W/ir+gv26/wkBvwGp/4IAqgBy/wf+P/0LAfwCAAJZAK7+/Pz7+vL5PPvd/f4AcQSFBkQF9wLYAfv/i/0s/Hb8O/6E/y4CFAQIAkQDFgWfBLUBi/8e/jr7hPoz/AAA2ABrAHUD/QVlBOYB5P99/vX92fyj/S/91/2fAKj/7/+B/ygA6wDZ/sD9Ef5m/kD+XP5//A39nv55/wEBGgEiAe0At/8Q/9D9Wf0B/kn/vgG7AvgCUgNgAkYA8/6p/QH99/1N/7IArQFpBT0GVwInAUcFwwUCALf/c//B/4P/1Px5++j91gH1/9cAYgTLA8cCMwMoAi7/jv0Y/+z8Ufgq+kL+m/1i/yYBFwCaAQIDBQLG/5D+VP4d/zgAQ/6v/Ob/0AGn/zIAtgIZAcIAAQJ3AocCbgEJAKv/WADIALX/dQA5A44DJwKRAOEA+ACM/wb+5v1j/qz+fADvAdYARAFbAEb+9/6q/or8hPyk/C38Df7Z/rf/pP9PAGsA/v4k/2v+Ef3D/bf/2v7L/cn+oP/L/tf9Rf8jAtgC9AF7AmwCDgMjAxcBJf9Z/gb/zv3C/Wz+F/+2AI8C2wRSBFUD4gJyAnsBOwBA/4H98P26/mr+Sv/W/sEAVgOtA1YCAQBwAOr+U/3i/G77t/sn/sX+ov9/AEwATAEjATEBcgGPAAr+Bf32/Hv7vvui/Nj9ggD/AiMFSAYEBwAGwwLAACb/bvzO+kf71v27ANABWwJMBE8HUwaPAooA4f8c/rz9PP47/T/8Of2QAPoBCwH8/8EAGgIdAdn/f/7j/BD+Iv86/z/+if7FAFIATf5s/aH8//yw/VL9+P36/moBVAJRAsYCeQKWAokC3wA+/sP+2f4T/LD7yfwx/7MBewOnBpsHDwbKBCEDHwDd/Hv7jPz4/soBmAS6BfMFCwXiAtYAnfwA+pv69vtU/Qz+YgABBHAEXwNBAoQBjQB8/fP6Pfmr+Xz6uvq0+yX9aP5w/wMC4wNAAr8B4QGkANP/fv5V/N37cPwn/W7+Qv8wArYDuwSyBCYDiAPEATn/e//oAO8A5P9GAKgDHAWbBEEFLAa4BHECWwG9/vz8Tvsb+rf6FvwB/o3/lgEhAxYE2gPlAg0CX/96/f/74/nI+lj86fw9/S3+hf+c/4v/ZP+W/or9mPwK/Iv73/lK+jj7kfur/Wj/agH0AscDgAOdA8gDIwIkATYB0gEdAUsAcAFnAiQDcwP/AkwDTgRuBA8E6QOUAzQELwSSA7MDgQN3Ah0BZgAt/+j82/ud+9v7H/5iAMcBDANoBPsCnP7v+lH4HfW48QfyGPWQ9jz5rv7/Au0DCQNoA6oD6gAH/i78HPsl/O/8pP3r/QP/KAGJA0gEZQOrBHoFNQaiBcMDDARnAyMDWQP/AkoEBAXGBGcF+AXoBIoEDQThAp0CdgJKAcn/IgBNAJr/4f8VAGT/U/5n/Xb8DfvK+Vn41Pfs+GX5F/m++R/6CPkV+Rn5V/iU+cb85/8cAioEPAU/BI4DPQL3/sP8sPxQ/cL+FAGxAg8FjQf4B6oHZwbGBKYDTQI3AdUAtAGQAxgFWgY2B/QGBQZiBbQEHgNTAW0BmwFtAPX/Fv8V/vL8vftW+6r6zvq2+kj7zfvE+gX6qfi894D1BvMq80D0R/YG+jD+5QIECOwKvAtUCn4HMwT0/z37gPcl9t339vqC/g0DCggkDKoNogx+CioHGgSBAfj+E/5i/hgAqwLpBEEGcAdvCPkHiQcDBt8DlQJEASYAVP5B/Kn6E/k3+FT4cvlJ+538if09/iH9v/rO99jziu8f7ljw1PJI9nb9EQXiClUOuQ7NDL0ISQMY/Rj4g/Qw8971+/nr/esCAQhtC7wMCwwUCuEHTwXQAhsBNgBAAL4AvwGtAmsDBASgBGoFuwWcBYcFjwVIBWgE5gIiAYf/fP09+0H51vdr99b3gvhN+QL6PPtV/AT8Q/rz9orzS/IB8x31Ifjn/FsE0woiDRcNcwwOCcED6P2C+Z32B/WA90T75v6wAv4G3wqlC3oK7giDBjAE9AEGAPH+wv7d/3QBowJwA5sEFAYsB1AHJwcxByAHiAZRBTUD7QDj/jb9Lvsa+WP4iPgz+Rb66voE+4X8pPzZ+sr5GPej8iDuX+3u8Af0cPjUAG4KfhKXFd8UrxFZC78CQPpN81/taeyn8MX1jPs/AtIIVQ25Dh0OsQsjCI0EqQF2/8H9qP2n/joA8gHWAnoD8wR7BhcHdAcvCPcI1AjTB2AGkgSWAUD+b/vb+Cz3XfY+9/n4kfpK/ZP/KABu/0f9afoa9l3vYurM6QHs6PAl+DYBvwtVFJgXdBaQEicLXgHR+Hrxluxz7P7vBPat/AoD8QjgDAAO1AwvCpoGBwOgANr+8v2R/rz//gCWAroDLQRFBOIE9QXsBkIIIQn5CTEKXQleBwwEkQDn/Nn5k/eU9jX3LPm/+9b9JQADApsBXP94+wL3xfIo7irpqOa86ebwBfnyAaEL6RPKGDcYEBN/C4YBKfiW8TTt2+vL7kX1XvzCAlQIMQzDDUwN1gpEB/kDIAEV/z7+U/59/lr/0wAXAsACMgOWA2UEkgVzBqkH2giLCdYJQgmSBwIF1wG9/uz7q/lZ+Cv4OPnO+mD8Gv5k/xf/l/3v+nH3n/O68E/tCeqk6wDxk/fn/g8Hjw8nFeUWGBUPD0IHHf9C947xy+7X7hPyXvi0/uoDUwjaCqMLwQoSCPwERQIuAE3/Ov8//8//0wDyAU8CwgH+AbACUgNSBLMFrweSCAwJ6AlkCWkHQQU3AzoBBv/4/Cj82/tr+0L7qvsP/DH8BvwN+4r5tvf99cDzmvBk7rPtde4P8576ogE/CHkPOBWOFnQTJw1kBfj96fZy8Qzvne9e82/5Fv+dA9IHewqmChAJjQZsA7AANv9i/vP9g/7t/zkB4wEdAvABhAGIAUcCZwPjBD8H3wnbCxQM7woSCUMGwwJX/8z8SfvP+o770fyU/Tb++/5G/3v+lfxf+iD46PWQ85nxFvCj7gHu+e+09f78OgOTCaUQbRWqFXYRswonA2j7d/Sq76ntku+x9Pn6CAGxBY0JuwtvCxsJhwW/ASD/Bf48/R39bP6aAJkCawN/AxwDRQL8AfEB/QHQApcELwdDCR4KjAotCnMIzAXdAlQAE/6q/EX8ePwn/dT9Sv6I/gn+4vyA+9j53vfp9Y30dvPd8s/xtPDQ8kL3KfzQAY8HCg17ET8SAA+8CYYDh/zM9UrxSO+j72LzBfl3/q4D1weCCsIL1ApSCKoFKgObAKX+BP6o/Yn9f/6o/0gAhwAtAUoCCwOwAxIFmwbzBxcJkQkpCd8HJgYRBIsBif+S/i/+d/5p/18AXQHUAT4B+P8M/uL7zvmu9+n1zvRa9Gf0dPS19OD0kfQ69hH7AgA3BEkJWg48EV4QOAxLBrT/N/lV87/vFu/s8JX1sft+AVYG8wkhDEsMZgpZB+YD4gC6/lv96fzF/Jz9/P7x/3MAmADbAEwBVwL5AtgDlAVJB5AI3QihCD4IoQaJBAMDkgFKAOv/SgCXALQAxgCyAOP/SP5I/JD6ZPk9+Hz3PvdR9333lPfC95j3ivaK9b723vqJ/zkDCAhpDeEPHA/oC6EGLgAW+h/1tfHn8M7yhfYK/I4BHQXKB4cJLglHB7UELAIfALz+Gf4T/lb+1P6m/yAA+v+1/8L/KACKADMBbQKyA+UEbQbEBw8IbgfSBh8GrwT0AqIBDAEDARoBKQEfAVsBhAGuAFr/Ov47/Uz8aPvr+tD6bvri+UD5VPgy9zv2UPUv9J/0WfgT/msD3wcXDHYPmQ/ECxwGyv8p+R30jPHQ8APy3vVv+/cApAS7BocIuAg3BzQF/gIxAfD/RP8s/+j+p/7U/vn+s/5V/pL+bP+8AJkCoASIBlsI8Al+Cn8JrQeuBdwDKAKRAOb/oAD0ATgDOwTEBHsEVwOFAST/qPx9+hX5afhy+PX4wvlh+qb6y/qk+r75M/hL9ib0ZPTQ+N/9OwGSBSoLnQ7/DYoKEAW+/h75wfTl8f7w3/Kj9xP9hQG3BJ8GxQeRB78FPAMHAfP/lv93/3T/df+v/xQAEgBL/6b+Bv9BAP8BCgQ2BlkIEwrvCoIKfwiKBecCqQC6/kf9If2c/sQAYAOhBf0GzgfjB68GEwTfABn+ffs6+cv3Rvep96X49flN+zD8t/y//Nf7Kvqq9830YfR39xv78v1aAi8Ivgs+DG4KEQZ7ACj7bPbP8lfxVPJw9rv76f/KA9UGEAgZCOsGaQTwAawAJgDG//b/hQDWAPwA9wBCACb/2P6d/9gAYgI/BIEGlwg1CZYIkQfEBUoDPQEkANv/fADuAccDgAW3BgUHVAafBB8CU/+N/HP6Ivli+ID4f/mz+hf8If1Y/c38v/vY+mX59vYx9JTyuvSL+bX9IQIgCCYNig+pDmcKZASm/Xr3SvPf8IXwPvNY+On9UwL4BC0GqgbtBbADgwFlAAkAMADbACMBzgCHAC4AZP9q/uv9vf6QAAID1gU7CAQKFAsDC3wJtgaCA7MAtf76/ez9Q//rAcwEHgcyCF8IGgeOBDkBav5A/IH66PlR+jr7NvzG/Bv95/wd/E/7V/oO+cP3uvZr9jv2rPXE9pv6Sv/bAgkG/wnNC0sKeQchA7D9sfgm9WfzXPMy9RT5uv2xAWkECAaaBvUFnwQvA/kBLgE2AXsBWgHsAAAAxv68/bT83/th/KT+wQELBS0IqQrFC3kL7QkPB3kDagDG/mv+kv4t/+IADQOUBHgFowV7Bf0EEATSAggBe//S/p/+Yv7s/cj97P2N/e38XPy4+9z6q/mX+K73vvYx9nP1XPTn9Or3j/zlAMsEIAnCC3ILVgmgBWgAx/rS9oH1RvV19q75jP0EAT8DsQMYA/EBcgBm/y7/rf+RANMBBgNfA3ECFgHQ/1f+qP0Q/iz/9AA2A64FWQd/B9EGzQUzBDgCcACP/wgApgEdBCoHcgn5CRkJbQfeBIsBgP7z/GX9Kf81Ae4CmgP+AnQBSf+P/OD5gviz+MH5/Pro+yb8tPvT+mj5Cvff88Tx0PPS+Iz9FgJ4B9ILXA33C4oHvQAi+mv1GfPa8p3zRfdW/LAAPANHA88COAIcAa0AJgH+AXIDVwU7BiMFsQIzADn+bPxh+/f77P27ABQE6wbbB3UHvwZwBUADAwH+/ykA3gDtAWIDgATsBC8FZAUnBTwEzwOOBIoFrQVzBaoFkQXoAygBfP5Z/Jj6PPng+Jb5g/pw+1/8Ovzr+lf53vfZ9kr2Tfan9h/3v/jY+8T/GQPeBKcGEQgQB2gENgHD/bj61/id+NP4EfnV+nb9FP94/8X/hABdATIC+gLmA9QETgUSBdoDDALp/w/+8fwT/On7Bv3X/gABGwNnBAMFdgUbBrEGmQYBBssFsgW6BNECbwGpAcsCoAP8A9UEVgYtBwsHOgbLBGMDKwLgAHT//v3N/Br8rvth+2P7m/uq++37AvwI+xL5lfaR9EXzbfJJ8mv0iPnL/swC2QZTCQEJQAebBMwAUv24+2D76vsS/Tf9XPyf+9b68/nx+d37CP9fAi4F4QZGB2IGMgTNAdT/YP7F/fL9of5z/9b/0//Y/x8ABwF2ArMEKAf/CKwJIgm+B2cFcQJQAPH/1AANAiEDrASLBlUHmwYcBQEEvgMHBMkDvwKZAasAtf8d/gf8WPrz+cT66fuk/Cf9dv3a/B/7dvjp9X/0m/M089/zE/fk+17/kQLNBCcFwgTSAy0Cwf/o/bL9bP44/9P+YP06/Fz7Mvpe+cz5WfvS/eAAfwOzBJ0EaAR+BAkE8QIAAuwBZgKYAhYC+QDB//n+rf7m/tr/BQEpA8UFQgfCB68GiATZA+kEvwXyBV0H5AkaCysKzAeZBHkBr/+h/2kAhwFXAkcCMAHR/vn7rPku+OT3CPme+tD7bvwc/K36+/j49y/3cPbm9kz4VPlV+qP8bv/NADQCAgS/A9sBEABr/h39J/zb+z78jPxe/eb9UP1X/Lr7QPyl/Sf/6wDrAm8EZQVjBSoEvALMAYcB2wFPAm0CHQKbAQYBWwAAAFAAuAHAAzgFkgVmBU4FCwU2BCsDRgOZBNsFTwYcBskF1wXlBZEF4AQFBDQDVgI7Aaf/4P3//Hb9Ef6A/mD+Of5w/b/71Pm/9yX22/SD9BX1kPZc+Cn6HPt++ib7hP7CAdcDWQVZBkMGcgR2Ac390foq+jz7jPwR/dH8lfwm/Dj7mfrO+jT8wP5MARUDtwNJA0QCWgHhAAIBmgGoApYDyQNZA4QC1wHNAX8CLwPbA6oERgVLBYcEWwPWAi8DswNzBBkF+AT6BKkFiga0Bg4GaAWOBCkDhwFJAKn/XP8m/wL/2P54/g/+df28/N374PrB+ZP4NPgl+Ln3t/fo9/T32/ft91X56/vl/m8BkwIwAxUE2QPlAT8AeP96/rv9Yf23/K379PpC+0r8Ff3p/RP/BQCDAFsALQBIAEwA7QC4ASsCegJxAn0CSwK5AZ4B0QHyAXMCMANqA0IDSAOEA5cDkwMBBCMFHgbnBsYHzQe5B3YH+AUHBJ0DUgSZA6cB0AARAREB3QACAQUBeACx/2X+fvw4+w77H/u0+vv5PfmR+PT3bPdQ90P3RPdd99X3MvkJ/Hb/dAHiAWEC2gJAAg8BIACQ/yD/u/4M/rj8jvtD+137B/zp/BD+ef+RAB4BBwG8ANkAYQHrAVQCigLDArMCLAKbAVkBZQHRAakCWQOlA48DJAMhA+4D2ATPBAAEyAO6BNAFdAYlB3UHsQb/BZwGTAfyBZMDEQJ7AYUBxQH+AToB4P+5/kH9yvrQ+An5U/oz+xj7Tfod+Yb3tvYu9sP1w/ZQ+Hj5YPpL+0v87/w+/hQBAQMtAzsCRwHTAND/F//f/lr++/3j/af9Tf2Z/ED8sPyl/ef+yP+ZAG8B7AHGAaYBtQICBJYEqQQbBIMDKgPWAqgCagKhAjMD1wIRAvkBagKpAxUFYgXWBJcEkgXwBh0HpgaUBsAGeQavBTsFjgQXA3gBJwBN/87+lf4y/u38kPse+3z6X/ky+Bv3mPak9jT3NvdX9kD2Uvfe+Gr72P2U/nv/pADwAPAANgFTAuwCPwKdAUUBYgAJ/+v9gP2E/cT9Hf46/gn+t/2f/e/9ZP66/jT/tv8kALwAVAHRARQCLAKPAikDvgMOBMsDhwOgAxgEXgTTAxYDuQN2BT4GlQRABOIGHwmXCE8GEAV+BFEE2gNlA8IC0wEIAer/CP8G/wr/uP6+/fn70Pr4+lf7i/oA+UX41/f09of28PZ+9wL4UvmX+8f8If2C/j0ArQE1AtMBegHfAZACswKuAWIAH/8H/pP9RP0E/VP9Rf5i/sz9s/0z/rn+Bf9J/67/VADHAPUABAHvAEAB/AG6AlkDfANnAzEDFAMVA24DZAQgBYoEDQOXAuAD0QW6Bt0GswaYBu0FvQS8BCYFzQRaBLcDjAI2ATwAj/+q/sn98/wX/Iv7TPvi+sj5xPhP+Lv3iPeh93r3Jfet9nz3nvpg/Vz+2f7j//YBJAMlA9MCcwIWAy8DJgIaAdD/FP+d/pf9mPwE/M/7Gfyl/Lz8w/z2/Ej95v28/pb/rwCQASUCVwLnAQMCxAJXA3gDlgP7A98DMAOSAjkCaAKlA6kFtwZpBqoFFgV9BX8H1QgZCMsG8gUzBc8ECQXVBNkDOAJ3AIT+9PxV/Fz8Efwc++L5KPnf+MH4Gfnp+CD4Sfcm94z3uffu+A/7K/zv/Dn9IP5oAEoCAANfAqAB/gGZAh8C0ACc/xv/jv49/Uf8bvzV/MX8c/w2/LT8zf2W/vH+d/92ADkBbgGTASkCowLFAtcC+QLtAh4DlQO4A28D4AN+BDwDqwG4AroF0gaVBj0HPgcnBWMEpwZxCOoHKgbDBHsEjQRvBJUDqwHS/3n+//23/Yj8y/rD+W75Nflr+H73Z/fG90r4rfcI95P3S/kj+/L7R/wR/fH9R/7x/kYA/wDiAC4BEAFzANH/dP+P/x//if5c/tz9Qv2Z/ST+Nv4//nr+E/+E/8X/bQAMAZMBLQJpAmkCdgLLAiIDEQOzAqgC3gIYA70DnwS0BIUExAQ+BGkD1QTZB6II+AbOBQ4GUAZeBmQGPgVcA1YCIQI1Aab/tP5H/gf9pPtF+yn7X/tM+0D6d/ln+cv5KPp2+cb4J/nd+df6pPvQ+/X7v/zH/bL+ZP+o/9b/LgCWADoAmf8q/wT/A/+Z/v/9sf2R/YD9uv1K/tH+2v4U/2///P+rADUBdgGhAfgBcwIrAigCsQILAxIDoAJ/ApQCLQN7A0EDxwLFAsUDTQQ3BJ8FkgdECDoHngVgBZ8G7wfFB/oFBgTXAgsCZAFmABf/4v3X/Oz7/vpj+j/6wvnj+FP4F/js95j3bffp90b4Hfnq+mL8evwS/NH82/7VANgBYgLaAfkAVQHTAdcBlAErAG7+lP1n/UD9KP0q/QT9/fx+/Tr+p/5g/xkAiQDuAHAB/wGDAsEC3AIUA+MCwALtAmUD6APgA1kDvQJVAssCRQTuBfgFlwSiBCkGbAd4B40G0gVhBSgFFgU7BMQCyAG6AEv/6/35/H381vsd+3/66/l2+S35Qfmf+VT5Rvg29yL31fjT+o77P/wi/XT9Gf72/h4AhQFHAgkCSQEEAa4BEwIcAT0Aov8g/+H+c/4d/hH+2v1x/Uj9sf2g/i7/C//u/kv/CgC0AEMBwAE/Ap0CrALPAkcDwAP5AwMEoQNAA5kD8wSdBXcEoAMRBf0G3AZqBXoEtwRzBbMFEAX8A9MCKQKWAfEA/f8O//39nvyU+1f7pvsp+9T5H/lQ+Xv5M/lw9+/22/f5+P75vvrp+wT9V/2N/f/+mwC/AasCWgKfAboBOwLjAn8COAFLAPH//P+v/+b+Sv4f/tr9JP3j/M79z/7f/uD++v5N//P/4gCsAfYBPgJ5AsMCPAPDA88DYgMHAyADJQMmAwUEGAWSBU0FBgVUBaYFPQbjB0YI3AVBA5ACEgNrA6ACWQAh/lD9VP1T/TP9f/xj+xX6ZPkY+ub6Q/pi+Bn3V/fl97P4Q/qd+6T7V/tC/NX9lv8lAbgB4AG0AaYBjQIgA+oC6wGnAOT/yf/M/5X/tf6O/Uj9Yf1d/Wj9nf3v/VP+vP47/wwAJgHbASECjgIAAxYDkgIxAtAC/gMtBWkFTQP4AI0BfQRuBrEF3gNxA9YETAY7B3wHwgbZBUwF3QT/A9sCHwIZAWD/4f0O/YT8kvtz+iD6Cvq/+bv56vkY+Zj38/a397P44Pkj+6j7tPsj/M39+P92AcIBjgFsAZkBKgJ5AkMB3f9K/xv/7P5O/o/9V/0Z/ZT8svx2/Wj+uv76/l7/KwA+Ae4BRgJQAnkC9wJXA3cDYQN7Ao4BSwHPAXsCfwK2AmQDUQNyAmoCJwRqBqsHvgcGBzwGWgawB4cIoAfDBY8DfQFIACMA2P/V/uX8yfo4+QT5IPrS+l/6u/hV9xb3tfeN+Hr4zfdd+Hf6sP2m/o39D/6R/5wBfQN5A5ACTwE+AHMAbwDW/+/+4f0K/aL8pvw9/dX9AP6t/Wj9gP4CABwBvQGtAS4BZgFAAr8C/gLZAk8C3AFlAfwAuwD3AFICgANJA+QBBwH7Ao8G5AeVBvYFswaABwIIPAhUCMoHHAYuBP4CSAJJAaf/vf0+/LX72fvc+zX7V/rT+aD5UPlK+en5Cvpi+aX4P/hm+AX64fyR/tb9Xv0E/vT+ugCZAYcBCgEAAN//RQAdAJb/s/6b/Qr97Pwh/dH9Jv7S/br9df6k/7cAgAHyATICjgLlAkgDcANCA+ICXgIAAs8BiwE/AUYB3QGSAkYCrgDq/1MCegYbCEIGhgRvBfEHQApyCg0IZwU2BOIDxAPbAnIBdv9D/cn7/vo1+437Vvv9+Zr4H/g7+FL4yPeU91j4+vdC90n4QvvN/sIAjgCF/8//wAGSAyIEdwO3ATkAm/8N/1z+s/1B/bH82vuf+yf86/yh/U/+/v7O/6UAvAGKAs4C3QLBArECogJtAuEBWgFKAY8BnQGCAVkBEgHHAWoDaQQdBOwCkAIsBEQGVQfBB9MIvAnbCJMG+QTLBPUEXQRHArz/qv1f/KT7R/vr+r362Prz+ir78fqG+jj61vlT+cT4uPiR+Dv4rPhd+rj9ZgCpAEMAy//YACoDFwQ2BCQDAAFO/zD+a/0t/d78UPyT+xT7u/vZ/BL+H//Y/84AmQE8Ag0DVgNNA/sCXQKlAdwADgCO/8D/7v9KALsA/wBiAcwBpwKyBGoHEQmaB14EYgSKBwgKWQrpCG0GtQMMAoIBVwEXAXYAhf8n/tT8iPwB/Xn92v36/aj97vwU/En7sPoX+kz5ZPgf96j1+PSz9vr63/8MAtUAev+lAEQDZQX2BbcESwK2/6j9L/yU+5b7cvto+qz59vlE+0H9Jv+mAMwBzwK0Ax0EDATWAzwDYgIuAdX/4f5i/mX+5v6C/5z/kf8iAJYBMARSBzAJXAg1BrsFbAfOCBAIWwaBBM0C4AKtBOgFuwRFAiIAvf7C/uL/iQDK/9H+9/2p/FD7YvuS/ML8rPvX+T/4+vcS+Cf4rvc49jD2Vvmn/scCZwMKAgcBDQFgAoIDpAPCAs4Anf5a/OD62/rT+3v8evxe/IP8Lf1f/iQADQJHA4wDZQPJAhQCvAGDAegA7/8U/5L+jv4E/8v/egAGAR4CgQOTBIwFQQYXBsMFvAbYCPwIxgWhArEBaALjA28EUwP0Ae0BLgMOBJMD+wH6/zf+SP15/TH+Zv7I/WL8yvoX+uv59fmT+db4TfgI92/1h/Ve+En9ZwHsAuoCBgKhASYCUwK0AsECJQHB/uj8XvuP+vv6n/s+/LT8P/1U/lr/dQD2AR8DdAMvA9QCIQIlAZQAdQAtAJX/GP/Q/uL+ev+WAJEB8QFyAuoDKQUGBQAEhAOpBO8GowdWBWICjgJSBZAH+QcFB44FYgNRAsEB6gBmAJv/nv6Q/e38F/1I/RP98PwH/SH90/x9+6L5Uvjc9yf3VvUt9C711vge/6AEhgaLBUMEwQNDAx4DiAJdAF397vpU+Xb4VfgN+b76s/w//pP/iwBVAacCygN1BEkEJwPRAZIAnv8g/9f+Zv4N/vn9E/6x/iEALgIiBFIFogVvBUEF9QSQBLcE7ATnA54CiwIXA1oDmQPiBRsJDwpQCBUFCwK3AHIAsf83/gj9RPxu+y37fvtN/Cv9gv2a/Wz91/zR+1T61/gv+NP31/aJ9aD2xvtsAaUEzgU7BeoDxgIMAlsBnv+9/T38xPog+kH64fp7/Hn++v/BAAYBUAF2AbYBRQJ1Ar0BfQBQ/4H+sv5i//X/TABwAMkAJAFIAaMBOwLFAjkDNgOeAvIBvwF1AqMDGQRDA4ACagNWBVgHIwnBCaoIiQaABP4ClAFRAEn/Uv5p/dD8ufzo/Ez95f2x/mL/O/8O/h38Gvrx+Hn40/d89hX0bvLo9Er7rAI/CIkKhAn/Bi4ENQGm/nb8kfuU+jn5Z/iN99b3Jvrt/QMC9QQUBpUFIQSXAn8BhwCT//X+Uf5s/bP8svxT/aD+mwB0AsADWgQ0BIwD3QKLAjIC2gGqAW8B6wBJAFcABAJqBWIIyQi5Bn4E2AObBPcF7QasBj4FtwLQ/1L90vtU/Kb+vABEAbEALP9i/UH8vvvw+5z8+fxO/Jv6mfiF9nn0FvOs8xz4kv8IBoYJTwpvCA0FxQF1/2/9SPvx+Qj5CPh29+v34/ky/YsBnAWzB7MHLQafA9sA7v7Y/Sj90/zA/CD93P24/tv/8QDhAcACegPtA+YDQAPrAZQAAwBOAEEBJQKIApECBAIqAU0CpQYIC9MMgQvOB+AD7QDF/wsAtACJAZsBlwAX//D9zf2v/koAOAJPA2kCkv/V+4L4evb69Wb2Ffdp9/f2ZPY79sD3qfyKA/UIlwvPC4IJ/QSe/7j6UPfg9Zr2t/iS+rD71fy5/hwBlgPUBdgGLAZ2BBMCPv+N/Mf6Kfq1+g38v/2A/yIBkgJ8AwkE7gM6A18CnQH+AGcAKABiAKAA8gC0AaUC+QM0BVIFHQTNAvsDgAejCvoKzAhpBdQBQf8U/sb9NP54/8wAOQGIAFr/jv6x/r//MQEBAicBOv5D+sb23vSD9NL0P/XU9FT1DPmu/qMDHweDCQAKaAhcBVEB+Pz3+MP2t/bV93T5FfsE/Wn/0QHXA98E1QQzBAYDRwFh/7r9n/wa/Ez8RP13/qf/vgCoAaoCXgNrA98CFgJbAY8AKQARAOz/uP+l/xcAxQD/AXUEUQewCAYIbwaNBRQGGgc9B7kFTwN/ATEAFv+U/rT+W/9/AKYB8gFBASIAM//J/tz+Hv/a/hD96/nm9vr0NvRf9Av1wvVR91X7zgHkB0kLBQwBCuEFIgE1/ND3K/XW9Jj2KPmS+7n9U/8RAVkDPwUeBp4FuwMwAcP+wPx8+yf7rPsA/bP+PACCAXsCHgNSA0MD4QL/AdQAqv/Q/nL+wv6P/2YAWgGeAlkEaQbjB8wHEwZKBNsDHQTaAzYDTQNHBIIF3AXOBGcC9P+a/nj+JP/w/7QAnABKAJ7/Yf5Y/Yn8CfzQ+5v79Ppr+Vj3l/WF9Bn0UPUN+fX++wXPC6UN9ArJBRUA+vrA94b2Dvfi+A770/z5/fX+KwDPAYUD0gQpBfcDdQF9/vv7kfpk+o/7qv3l/94BOAOpA1oDwQIfArsBpgFwAQYBXgB5/4T+bP3n/N/9NwBDA44GnAlHC80Kpgh3BdsBL/+Q/jAANAOQBUMGowVzBNgC+wB7/7P+8f7U/y8AbP/x/cb8pvxe/WT+3f4r/pf8o/qV+Nb2ufUN9Rv17vbF+90C+gizCwYL1QcIA+H9mfnF9uL1Evel+XT8ef6p/7YA3AHaAqUD4wM+AwYCPwAQ/j78Ofs6+2T8Vf5zAAICtQILA+QCgAIqAqIBFgGjAPv/Jf+R/lD+hv5k/8kAXALFAw4FfAaVB3gHzQVdA4EBQQGDAnwEbgapB3EH1wVhA2wAhP3F+wv8Ef6yAKICDQMcApQA9/6N/Xn8s/sS+1T6efmc+P73kvfo9m32UffO+r0A3gbCCncLQQlLBVsAzfpi9iT0w/Sv95f7V/+9AcgCWgPaA68D6AK3AQIAdv5U/XT88Psw/LX99f8LAnYD0gMTA+wBBAFdAN3/of/I//7/LgBZADEAIgBzAPAAiwGPAu4DNQV9BjIHqgbLBE0CYACM/wAAlQF9A0gFtAYPB+8FzwM+ASf/Hv75/aH+T/8Z/zX+RP2z/KT8Bf2C/c79z/1u/Vv8gfoN+G71LvTR9bP6igFYB0AKRQpOCIQEKf/4+VD2/fRV9oH5EP2l/1gBowJWAzkDjgK8AQkBxgBvAH3/I/7H/E78Kv3F/m8AwQF+ApICVALjAUABfQDN/5D/s//U/9z/CwByAPEAWgFPAV8BtALzBPkGiwckBqADHQHR/zMAfwElA9EEUwYkB3YGMwQ/AdP+v/3u/bn+Vf+P/6j/j//x/sf9sPwZ/Pr7Svxp/Jz7Rvox+TL4Pvd89zb6Y/82BTcJDgoICDYEsf9K+6P3oPVI9mL5av39AC4DvwNPA3ECTQEWACj/ov57/ob+af4J/q79zf2Y/hAAtwHqAlMD+gIYAs8AmP/d/ob+lf5C/xsA8ACZAboBSgGpALMAdAF1AlgDRwRGBcEFRgXmAy4C6wCxAHgBsAK5AzMEHwSXA5cCUQFAANj/6f9AAKMAnAD4/73+jf29/D/8Afy2+z/70/rO+hP7Mvv7+rn6OPsz/aoAPQQpBgQGPgSAAVL+APtV+FH3dPhb+/X+8gGkAxMEqQO0Al4BBwDR/uv9rf3e/S7+XP6F/vf+y//qAN4BYAJIAr4B6gDo/yn/x/7B/kb/GADVADEBFQHcANcAKQHFAVACnQL4AksDUQPhAvoBIQEUAQICfQO/BPwEIAT8AgECFwFtABIA9/9PACAB9gFFAukBOQFcAFH/Uf5O/Q78v/q1+T35Rvm0+YL6K/t5+1D8Uv46AT0ECwYjBvkEwQKm/xr83Pgb96X3Kfqs/QkBfwPUBOcE4AM5An0AC/8P/qn9tf3N/bf9mP3Z/bj+/f9TAVwC4wLAAgEC2gB3/0P+lv2T/T/+aP+/AP4B/wKwA/EDiQOZAkwB/v9G/5v/1wBkAtQDlwT9BNMEzwMyAmAAGv/k/qH/xwC8ATcCgAK8AoYCzAHcAN7/7v4q/mn9ZPxW+7j6cfqM+hT74vtf/On7t/rt+Rv7k/4BA5AGXwhBCEMGkAK7/Qn59PWB9fX3gvw5AcAEkwaUBjEFEgOQAFX+BP2l/PX8bv2f/bP96v2K/q3/EgFhAlMDzgOFA1QCswAQ/7f9H/1x/V/+lP/RANwBjQLrAswCPQKGAdYAeQCZAAIBmgFkAjIDpwOYAy4DcgJXAVMA2P/L/ygA+gDjAZoC9QLYAlYCoAHSAPv/Sv/i/rD+nv6L/n/+bf4c/pX9EP2Q/Aj8rPsV+8/5Y/gh+Dr6Tv59AnEFuAZWBrAE2wE6/uz6F/mP+Qf8O//sAWsDxQNTA1IC/wDV/xn/8v5U/7L/hv/p/kj+Af5O/hv/JABGAWICGQMRA0EC6wB0/zj+g/19/RD+Fv9eAKQBlwIUAxUDugJDAvUBzQGvAY4BdAFPAQoBvQCGAFcAVgCcABkBowEPAmsCdgIJAkEBTgBS/4r+Bv7i/Qf+Tf6z/gL/5P55/gP+Z/1q/NP6ofmJ+tL9GAJCBQMGsgRJAkv/2PvZ+KX32vg8/JwAOwT0BdsFmQSwAoAAl/5X/f/8lf2S/lP/gv9Z/2X/2P+nAIkBPQK0AtMCcAJiAdX/T/5R/R/9xv34/kcAkwGzAlIDQQOUApsBrgDk/0r/8v7O/uv+Vf8LAOEAiQH9AUYCSwIZAsMBUQHhAIsAcAB8AIcAjwCuAOcAFwErATQBQQE6ARUB+QC9AF8AHQDT/03/yP5D/oL9Y/wR+536zftS/k4BpQO3BJQETQMOATX+Q/s6+RL5v/pa/eX/pgFpAnoCAgL4AKr/k/4e/lH+zP4v/zH/7/7q/kH/rP8gAIsA9QBIAT8BvADN/87+Qv5T/tT+l/9AAL8ANQFzAUwB1ABMAA8AQACkAPQA/gDjAPcAOgF2AZIBqwHEAdYBwgFaAZsA1/9s/5j/OQASAewBiAKvAkMCSgH//6L+l/0h/Tf9mv0G/kf+JP63/RP9K/zL+kT5lPgW+mv+IwSlCJgKOwqgB5ADo/6L+fn1JfVE9337GgCeA4gFNQYZBhsFAQOJAKD+j/00/TX9Gf28/ND8yv0+/7sACAIGA5ADkAPgAm0Blf8J/kv9W/0K/v3+CgAtATUCyQKqAugBAAFnAP//t/+c/5//+//JAJYB/AH7AbgBfgFYASgB9wDSAOgAVQHTARwCLgI/Ak4CHwLOAV8BtwASAIv/A/+F/gj+k/1W/Wn9sf0h/pj+1v7k/rz+FP6r/N36t/km+i38Tf9/AqsEhwU/BcUDHQHb/Q/7vfky+gX8av5/AN4BtQIDA4oCdQFBAGL/Ff87/2f/eP+B/47/xP8NADgAdQDYAC0BTwESAWYAiP/U/of+o/4Y//H/+QDjAZACpQIVAjIBMwBj//j++v5j/yYABAG/ASYCIwLRAVMBzQBlADMAIgAtAEsAVgBOAD8AKgAnADkAVQBsAGIAJACx/xP/TP56/db8qPw//ZX+TwDkAQgDlwNUAzYCcgBa/or8n/vL+8f8Q/7e/1YBUAKpAl8CdwFMAE//q/5f/m/+if7k/mr/0/9EAKYA4AABARgB+wCSAOf/Nf+//oX+n/4U/67/TADsAGQBfQFKAfcAkQBEAC4AQQBcAJIA7gA/AWsBcQFRAR4BAgH/AAAB+ADTAJoAWQAXANH/m/9h/yH/7/6y/mD+GP7D/WD98vxG/BD8hv2fAAkEcQYiByMGxANxAMf8c/ld92P3qPk1/ZYA5AIUBEcErgOFAvkAeP+Q/lP+mP7k/s3+of7M/kv/AgDfAJ8BHgJgAjICTwG9/wL+2vyO/A79Lv6A/9EAHgL6AgYDXAJLAT4AmP9d/2H/lP8hABwBRgIzA5kDkQNPA/ECkQIfApsBUwFCAToB+AB0APf/jP8b/+f+6f7W/rH+f/4k/nf9PPxM+gf4lPaJ9177xgDcBTsJYApICfEF6AB1+wL31fSL9Vv4wvvg/oEBhwO9BAkFhASCA2sCfwGOAEL/mf0X/En7ePue/G7+kwDaAu0EFAbNBT0E8AGW/6/9j/xF/LD8xf1N/8sAwwEIAtoBdQEKAbAAVgDx/63/kv+U/43/Vf8c/wr/Nf+L/+P/FwBSAJAAxgD4AAoBEQE9AWwBaQEuAcIAIgCI/yH/7P7x/lb/FAD2AMQBWQKCAkQCywE/AawAMQDw/+j/+/8WAEgAdACqAAMBcQHRAQgCEgLYAU0BnwDj/y//s/6G/qj+Av98//L/WwCcAK4AnABSAN//Zf/6/pb+Qf4O/vj9Af49/qv+KP+p/xAASQBEAPb/gP/5/nP+Iv4X/jf+gf7u/l//z/8kAEsAVgBAAAgAyv+L/1T/L/8k/0f/gP+6/wMAPwBfAIkAswDEAMsA0ADLALkAkQBXADYANwBeAL4AQwG2AQ4CTAJHAgsCqQFMAfsAtACbALIAwQDPAMsAjQARAHP/6v51/gn+4P3v/QL+LP5W/k3+Qf4U/nP9G/wz+ib5ifpR/roCFwbcBxAImAZuAxz/r/qa9xD3KPmc/Nr/IQKTA18EVQRsAwYCrQDo/9X/8v9//2f+Sv3e/Er9Nv5n/9wAfQLUA0sEeAOWAV3/nP2u/J38R/1r/uP/aQFWAioCQAH//w3/pv6T/uv+k/9ZABIBiwF6Ae0ASgAPAFcA0ABNAdMBMAJCAgcCgwHRAHEAtgBpATkC4wIzAwwDjwLYAfUAKACn/4v/uf8CACoALAAiABoAHQAtAEYAQAAmAPT/jv/9/lT+sP1K/TD9Uv2//U7+xP4n/3b/ff9G//z+pP5V/jb+Qf5o/qL+6/4v/2j/l/+8/93/AQAiAEcAXABVAFYAWgBRAFoAeACaAMQA9QAhAUYBVwFdAXkBkgGRAXABOAEJAfAA1ADIAMAAuwDPAOIA1gDOAMYApQBvACkAw/83/7X+Sv4B/un98f3//eT9gv0T/cb8RPx1+7f6JfvT/SACMAZuCCMI1AVYAiP+C/ox92r2F/ir+7n/ygIkBCgEpAPXAtAByAAhAAMAGwDz/zD/3f2T/C/8+fyS/pYArwJlBDAFtgT9AocAIf6O/C38yfwH/pD/DAEsAqwCaAKPAZ0AHgAKABwAJwAIAK//NP+u/ir+1v0e/in/twA9AkIDpgNgA4YCVQEiADj/8f5I/wwA8ACeAQICGgLwAaMBVAEHAewA+QAMARoB+gC5AIIAYwBTAFwAjACxAL0AuACDABoAr/9w/27/of8AAEkAYwBOAAsAkf/9/nX+HP4N/kj+1/56/w0AggC3AJsAPwDV/2z/Df/Z/s/+0f7m/gz/N/9x/8D/DgBXAIsApACcAGAAAwCr/2j/QP86/13/kf++/+//HwAzADUAJgAIAOT/t/+U/3T/RP8g/w7//f75/h7/YP+9/yUAcQCdAJYATgDy/4b/FP/G/q/+5f5Y/+f/lwAvAXgBkgF2ARgBpwA3ANf/ov+n/9H/IgCBAN4ANwGEAaEBpQGbAWYBJAHeAJUASgAIAOf/4//b//n/PAB3AKwAtQCIADMAuf8+/+D+qv7K/jj/tf80AIAAfQBKAOH/Sv+1/kr+Hv4p/lP+f/6P/oT+ef5S/gD+4/1v/k7/3v9ZAKkB8QP8BVwGzAQhAmX/N/2r++j6Hvtw/LH+MgHyAk4DjAKvAUEBAQGFAAAA1//3/+j/jf8I/43+g/4W/83/SgCeAI8ATgDi/0D/x/6//jr/GgAMAagBrgElAVAAaf9+/tn91/17/pX/zwDOASgC6gFNAVUAOv9k/gD+Df6A/jn/5P9jAMMAGgFTAXwBmgGdAXYBEQFrAJz/wv4H/rr95f2D/pf/0gDtAckCKwPyAk4CcAGEAMb/V/8y/0L/gv/2/4sAKwG3ASkCaAJSAu4BTwFjAFP/cv7f/aX9wv0l/sP+jv9VAOAAFQHkAGAAtP/4/kb+tv1c/Vj9pv0//gP/t/9AALMA7ADUAIIACQCE/xX/0v7U/gP/Rf+t/zAAlwDTAO8A6QC9AIYAOADX/3b/M/8X/y3/Xf+i//z/UQCZAMIAvQCRAFMAEADa/6r/jf+U/6L/1P8ZAFIAewChAL8A0wDXAMQAoABsADsAHgAKAAQADAArAFoAkwC+AMkAuACLAEoA/P+f/0T/Av/k/ur+Df9C/3//r//V//H//v/+//j/7//p/9j/wv+t/6L/of+1/9v/DwBMAIsArAC/AOkALgF4AZoBfwEdAY4ADACo/zv/LP+P/10ATwHwARMCvwEWATwAfv/m/of+mf4O/67/KABcAFUAIgD6/+3/9v8IACgATQBWADIA6P+H/0L/Ov9t/7L/AQA9AFUASwAzAA4A5f/j/wAAJAAzADAA/f+Z/zr/+P7P/sb+2f74/jH/Rf/a/tj9vvxx/Gv9Qv9TAfgCrwNrA2gCwwDF/h79gfwe/Zv+QwBkAcYBoQE5AacAEwC4/8//QgC6AOwAqgABAEH/xP6t/vf+nP+BAHEB/QHeAT0BSgBI/5r+cP63/m3/XQBHAdQB4AGMAQwBlgBHADEAQQBrAKQAywDCAI8ARQAGAPH///8qAG4AqQDKAMcAlQA9AOr/yP/j/z0AsgAnAVwBSQEVAaEA7/8y/6b+fP6S/sn+Hv92/7X/0v/M/5v/Tf8Z/x3/Qv9q/5H/r/+t/6b/r/+r/5L/jf+l/7r/yv/V/9z/1f/S/9L/3P///zIARAD6/2H/4f7M/mP/igCsAT0COwK+AcwAYf/w/ff83fyn/fT+VgBWAeYBCQLoAWoBwwAdAL//sf+4/7f/q/+O/3L/iv+5//7/UAC0ACUBaAFlAREBjwADAJ7/e/9w/4T/0v83AIQAqgC4AK8AoACUAGYAEQC7/3//WP9N/1X/Yv+E/7j/AwAlABcAEgAaAAoAx/9v/xf/z/67/vP+VP+x//7/MgBEAA4Ak/8Z//D+P//R/0QAcQCJALYAyQCQAB4Asf+F/6v/+v85AGIAdwBpAEEAFQADABEAQwCkABIBRAElAd8AjQBEABsAHQBNAJUAzADgAK4AHQBQ/5b+Y/7K/of/cgA+AaMBmAEjAVsAif/2/sv+Av98/wEAbACXAHYAHQC4/2D/O/9J/17/c/+K/6L/of9+/1P/MP8Q/xH/Rv+H/7z/3v8YAGAAiACRAIYAVAAIANn/0P/w/w0AIgBGAHwAsgDPAMUApAB5AD4A9P+d/07/Ff8G/yz/hP8GAHQAjQBjADMAGQASABgAMQBXAHwAfwBGAOv/gP8y/yv/Xf+y/xYAfADRAOsAxgB+ADcAAADq/9v/6f/5/+v/tv+H/4D/n////1oAuQADASEBEAGnAOr/JP+o/pv+6f5d/8H/AQAUAPX/vv+Y/6D/3P9MALYA4wC7ADoAjf8B/9L+BP95/yAAxwAqASsB5AB5ABUAy/+p/6z/x//w/w8AHAAGAO7/yP+l/4//iv+R/53/s//R//z/KQBcAJYAwgDUALAAXgAUAPz//P/g/7D/h/98/8X/UgDCAOEAywCXADwAu/82/+f+9f5U/9f/VgC2AOoA3QCYAEQAAADC/43/Z/9m/4P/hv9s/1H/Mf8o/1//0v9fAMMA5QDmALMAPgCs/yv/3f7h/jD/jv/P//z/HQA9AFIAUgBLAFEAVABOAEUALwAPAO//5P/8/zAAXwCLAKEAmwBoAAUAtP+N/5D/tP/o/xcARABqAHcAXgAnAPr/+v8vAHYAogCeAHQAPQAIAOj/6/8GAC8AWwCBAIEAWwASALb/YP84/03/hP/N/xQARABJACkA9P+9/4r/e/+S/8v//f8MAO3/s/+I/3j/c/+D/6X/zP/0/wAA5f/A/77/+v9XAHQAYQAXAKD/Jf/h/uj+P//s/7UAZgGZAUEBpQAEAJj/ef+k/xEAmgALARYBpAD8/2H/D/8h/4r/GwCVANUAyABpAN//ef9g/5X/6f9BAH4AgABkACEA4f/D/9H//f8kAE4AbgBnAD0AEwDu/9r/4/8CAC4ATABEACYACgD5//D/4f/Q/9T/7/8QACEACwDZ/6H/f/96/4v/sf/a//j/AgAAAPD/zP+u/63/wP/c/+3/+v/0/9r/y//O/9//8P/3/wgAIwAwAC0AHwACAPH/9P////b/0v+y/7H/2P8QAEcAdQCNAI4AcAA3APT/v/+v/8H/5f8QADwAWABcAE8AOwAqACYALwAnABMA+f/e/77/pf+t/8////80AGkAiABuABsAvP9s/03/Y/+q/wkAXQCbALIAogBwACUA4f+y/6v/w//h/+7/6P/W/8b/vf+4/8b/6/8dAEsAYgBcAD4ADwDd/63/n/+p/7f/0//u//j/+f/9/xAAEAAAAO3/5v/i/9b/0v/n/wgAIgAmAB8AFgD5//H/8P/y/wAAGAAlABsABwDj/8r/zP/j//7/GAA1ADwAJgADAOP/0f/S/+3/GQBPAHEAbgBOACgABQDw//b/GgA6AEcAQgA4ACwAIgAaAAsAAgAFAA0ADQANAAwACwACAPb/4f/S/8T/vP/H/8z/0//a/+L/9f8GABMADwD7//H/8//5/+7/1f+z/5H/lP++/+L/9f8IABsAHAAAAN3/wv/G/+H/AQAbADMARwBGAC8AFwAUABAACwAIAAgACQD///X/+v/5//D/9f8DACAANAA8AEsAUABBACgAFwADAPH/7v/v/+n/5f/t/wAAGAArADMAOQAuABYA/f/l/9b/0//h//T/AwAEAAEA9P/o/+X/2f/o/wEAFAAaAAsA9v/k/9n/0v/U/+L/AgArAEUASgA2ABQA8//d/9r/4f/x/wAACgAKAAIA8v/k/9X/zP/R/+b/CgAkACYAFQD//+3/4P/c/+X/7v/x//v/DAAWABQABwD+//T/8/8AAAwACgADAPb/8f/1//v/+f///wgABAAKAPr/8v/u/+v/+P8GABAAGAAbABsADgAAAPL/6P/j/+T/6//5/woAFQAWAA0ABgAGAAYAAwAHAA0AEwAMABAAEwASAA0ADAAZACEAHwAVAAgA/P/4//X//f8HABwALAAuABwABADp/9P/0//X/+f/+P8IABgAGgAYAAYA8P/o/+////8CAP7/8P/b/9X/5P/t/+z/+P8EAAkAAAD7//f/+P////7//P/+/wAA/P/z//b/BAAMAA0ABgABAAAA9//x//b//f/5//r/AQAGAAMA+/8AAAIAAAAAAAkAEQALAAQA+v/r/+D/5f/z/wEADAAQABUAEgAAAPf/9//8/wYADAAQABEAAwD9//b/7P/o/+X/9P8JABcAGQATAAYA+//z//H/+f8CAA0AFwAdABwAFQAKAAQA/v8AAAAACgAUABEADAAAAPv//P/+//7///8CAAUAAQD///j/8//x//T/+P8AAAEAAAD7//f/+P/5//v/AAACAAUAAwABAAAA/P/8//z/+////wAA//8HAPz//v/+//j/9f/4//3/+v/+/wAAAAACAAEABQAGAAYACAAGAAcABAAHAAUAAQAAAAAAAQAAAP//BAALAAwACwAOAAwABwAFAAUACwAKAAkACQAKAAkACAAAAPr/+f/8/wIACQAHAAQAAAD6/wAA/v/6//f/9f/5//f//f/+//r//v///wMAAgABAP///v8AAAAA/v/2//v//v/+//f/9v/4//r/AAABAAMABgAGAAEA+P/0//n/+////wEABQAKAAUAAAD+//7/+//7/wAAAQD+//v/AQAEAAMAAAACAAMAAAAAAAEAAAABAAAAAAD8//v///8AAAIA///+/wAAAAAAAAAA/v8AAP7/AwAIAAUABAD9//v//P/8/wAAAgAAAAIAAQABAAEAAAAAAP//AAACAAQAAwAFAAQABAABAAIABAABAAEAAAAAAAMAAwAEAAEAAwAEAAEAAQAAAP//AAAAAAAAAAD//wAA//8AAAAA/v//////AAAAAAAAAAAAAAAAAAABAAEAAQAAAP//AwD//wEAAgADAAEAAgADAAAAAAAAAAAAAgAAAAAAAQAAAAAAAAABAAAAAAD//wAAAAACAAIAAwAAAAAAAgAAAAAAAQACAAAAAQAAAAAAAAAAAAEAAgABAAEAAQAAAAEA//8AAAAAAAAAAAAAAQAAAAAA/v8CAAAAAgAAAAEAAAD//wAA/v8AAAAAAAAAAAAAAAAAAP//AAABAAAAAgAAAAAAAAABAP7//v8AAP//AAAAAAIAAwAAAAAAAAD/////AAAAAAAAAgABAAIAAQAAAAAAAAAAAAAAAAAAAAAAAAAAAAAAAAABAAEAAQABAAAAAQAAAAIA//8AAAAAAAAAAP//AAAAAAAA//8BAAAAAAAAAAAAAQAAAAAAAAAAAAAAAAAAAAAAAQADAAAAAAAAAAAAAQD//wAAAAAAAP//AAAAAAAAAAACAAAAAAAAAAAAAAAAAAMAAAD9/wQAAAD//wQAAAABAP//AgACAAAA//8BAAIAAAD//wAAAgAAAAAAAQD//wAAAQAAAAAAAAACAAAAAAAAAAAAAAAAAAAAAQABAAEAAAABAAAAAQAAAAAAAQAAAAAAAQABAAAAAQAAAAEAAAAAAAAAAAAAAAAAAAAAAAAAAAAAAAAAAQAAAAAAAAAAAAAAAAAAAAAAAAACAAAAAAABAAAAAQAAAAEAAAAAAAAAAAAAAAAAAQAAAAEAAAAAAAAAAAAAAAAAAAAAAAAAAAAAAAAAAAAAAAAAAAAAAAEAAgAAAAAAAAD//wAAAAAAAAEAAAAAAAAAAAAAAAAAAAD//wAAAAAAAAAAAAAAAAAAAAAAAAAAAAAAAAAAAQAAAAAAAAAAAAAAAAAAAAEAAAABAAAAAAAAAAAAAAAAAAAAAAAAAAAAAAAAAAAAAAAAAAAAAAAAAAAAAAABAAAAAAAAAAAAAAAAAAAAAAABAAAAAAAAAAAAAQAAAAAAAAAAAAAAAAABAAAAAAAAAAAAAAAAAAAA//8BAAAAAAABAAAAAAAAAAAAAAAAAAAAAAAAAAAAAAAAAAAAAAAAAAEAAAAAAAAAAAAAAAAAAQAAAAAAAAAAAAAAAAAAAAAAAAABAAAAAAAAAAAAAAAAAAAAAQAAAAAAAAAAAAAAAAAAAAAAAAAAAAAAAAABAAAAAAAAAAEAAAAAAAEAAAABAAAAAAAAAAAAAAAAAAAAAQAAAAAAAQAAAAAAAAAAAAAAAAAAAAAAAAAAAAAAAAABAAAAAAAAAAAAAAAAAAEAAQAAAAAAAAABAAAAAAAAAAAAAAAAAAEAAAAAAAEA/////wAAAAABAAAAAAABAAAAAAAAAAAAAAAAAAAAAQABAAAAAgAAAAEAAAAAAAAAAAAAAAAAAAAAAAEAAAAAAAAAAQAAAAEAAAAAAAAAAAABAAAAAAAAAAAAAAAAAAAAAQAAAAAAAAAAAAAAAQAAAAAAAQAAAAAAAAAAAAAAAAAAAAAAAQAAAAEAAQAAAAEAAAABAAAAAAD//wIAAQAAAAAAAAAAAAAAAQAAAPz/AwAAAAAAAwD//wEA//8CAAAAAAD+/wAAAAAAAAAA//8CAAAAAAAAAAAAAQAAAAAAAAAAAAEAAAABAAAAAAAAAP//AAD//wAAAAAAAAAAAAAAAAAAAQAAAAAAAAAAAAEAAAAAAAAAAAAAAAEAAAAAAAAAAAAAAAAAAAAAAAAAAAAAAAAAAAAAAAAAAAAAAAAAAAAAAAAAAAAAAAAAAAAAAAAAAAAAAAAAAAAAAAAAAAAAAAAAAAAAAAAAAAAAAAAAAAAAAAEAAAAAAAAAAAAAAAAAAAAAAAAAAAABAAEAAAABAAAAAAAAAAAAAAABAAAAAAAAAAAAAAAAAAAAAAAAAAAAAAAAAAAAAAAAAAAAAAAAAAAAAAAAAAAAAAAAAAAAAQAAAAEAAAAAAAEAAAAAAAAAAAAAAAAAAAABAAAAAQAAAAAAAAAAAAEAAAAAAAEAAAAAAAEAAAAAAAAAAAAAAAAAAAAAAAAAAAAAAAAAAAABAAAAAAAAAAAAAQAAAAAAAAAAAAAAAAAAAAAAAAAAAAAAAAAAAAAAAQAAAAEAAAAAAAAAAAAAAAAAAAAAAAAAAAAAAAAAAAAAAAAAAAAAAAAAAAAAAAEAAAAAAAAAAAAAAAAAAAAAAAAAAAAAAAAAAAAAAAAAAAABAAAAAgAAAAAAAAAAAAAAAAAAAAAAAQAAAAEAAAAAAAAAAQAAAAEAAAAAAAEAAAABAAAAAAAAAAEAAAABAAAAAAAAAAAAAQAAAAAAAAABAAAAAAAAAAAAAAAAAAAAAAAAAAAAAAAAAAAAAAABAAAAAAAAAAAAAAAAAAAAAAAAAAAAAAAAAAAAAAAAAAAAAAAAAAEAAAAAAAAAAAAAAAAAAAAAAAAAAAAAAAAAAAAAAAAAAAAAAAAAAAAAAAAAAAAAAAAAAAABAAAAAAABAAEAAAABAAAAAAAAAAAAAAAAAAAAAAAAAAAAAAAAAAAAAAAAAAAAAAAAAAAAAAAAAAAAAAAAAAAAAAAAAAAAAAAAAAAAAAAAAAAAAQABAAAAAAAAAAAAAQAAAAAAAAAAAAEAAAACAAAA/f8CAAAAAAACAAAAAQAAAAEAAAAAAP//AAABAAAAAAAAAAAAAAAAAAAAAAABAAAAAAAAAAAAAQAAAAAAAAAAAAAAAAAAAAAAAAAAAAAAAAAAAAAAAAAAAAAAAAAAAAAAAAAAAAAAAAABAAAAAQAAAAAAAAAAAAAAAAAAAAAAAAAAAAAAAAAAAAAAAAAAAAAAAAAAAAAAAAAAAAAAAAAAAAAAAAABAAAAAQAAAAAAAAAAAAAAAAABAAAAAAAAAAAAAAAAAAEAAAAAAAAAAAAAAAAAAAAAAAAAAAAAAAEAAQAAAAAAAAAAAAAAAAAAAAAAAAAAAAAAAAAAAAAAAAAAAAAAAAAAAAAAAAAAAAAAAAAAAAAAAAAAAAEAAAABAAAAAAAAAAAAAQAAAAAAAAAAAAAAAAAAAAAAAAAAAAAAAAAAAAAAAAAAAAAAAQAAAAAAAAAAAAAAAQAAAAAAAAAAAAAAAAAAAAAAAAAAAAAAAAAAAAEAAAAAAAAAAAAAAAAAAAAAAAAAAAAAAAAAAAAAAAAAAAAAAAAAAAABAAAAAQAAAAAAAAAAAAAAAAAAAAAAAAAAAAAAAAABAAAAAQAAAAAAAAAAAAAAAAAAAAAAAAAAAAAAAAAAAAAAAAAAAAAAAAAAAAAAAAAAAAIAAAABAAAAAAAAAAAAAAAAAAAAAAABAAAAAQAAAAAAAAAAAAAAAAAAAAAAAAAAAAAAAAAAAAAAAAAAAAAAAAAAAAAAAAABAAAAAAAAAAEAAAAAAAAAAAAAAAAAAAAAAAAAAAAAAAAAAAAAAAAAAAAAAAAAAAAAAAAAAAAAAAAAAAAAAAAAAAAAAAAAAAAAAAAAAAABAAAAAAAAAAAAAAAAAAAAAAAAAAAAAAAAAAAAAAAAAAAAAAAAAAAAAAAAAAAAAAAAAAAAAAAAAAAAAQAAAAEAAAABAAAAAAAAAAAAAAAAAAAAAAAAAAAAAAAAAAAAAAAAAAAAAAAAAAAAAAAAAAAAAAAAAAAAAAAAAAAAAAAAAAAAAAAAAAAAAAAAAAAAAAAAAAAAAAAAAAAAAAAAAAEAAAAAAAAAAAAAAAAAAAABAAEAAAAAAAAAAAAAAAAAAAAAAAAAAAAAAAAAAAAAAAAAAAAAAAAAAAAAAAAAAAAAAAAAAAAAAAAAAAAAAAAAAAAAAAAAAAAAAAAAAAAAAAAAAQAAAAAAAAAAAAAAAAAAAAAAAQAAAAAAAAAAAAAAAAAAAAAAAAAAAAEAAAAAAAAAAAAAAAEAAAAAAAAAAAAAAAAAAQAAAAEAAAABAAAAAAAAAAAAAAAAAAAAAAAAAAAAAAAAAAAAAAAAAAAAAAAAAAAAAAAAAAAAAAAAAAAAAAAAAAAAAQAAAAAAAAAAAAEAAAAAAAAAAAAAAAAAAAAAAAAAAAAAAAAAAAAAAAAAAAAAAAAAAAAAAAAAAAAAAAAAAAAAAAAAAAABAAAAAAAAAAAAAAAAAAAAAAAAAAAAAAAAAAAAAAABAAAAAAAAAAAAAAAAAAAAAAABAAAAAAAAAAAAAAAAAAAAAAAAAAAAAQAAAAAAAQAAAAAAAAAAAAAAAAAAAAAAAAAAAAAAAAAAAAEAAAAAAAEAAAAAAAEAAAABAAAAAAAAAAAAAAAAAAAAAAAAAAAAAAAAAAEAAAABAAAAAAAAAAAAAAAAAAAAAAAAAAAAAAAAAAAAAAAAAAAAAAAAAAAAAAAAAAAAAQAAAAEAAAAAAAAAAAAAAAEAAAAAAAAAAAABAAAAAAAAAAAAAAAAAAAAAAAAAAAAAAAAAAAAAAAAAAAAAAAAAAAAAQAAAAEAAAABAAAAAAAAAAAAAAAAAAAAAAAAAAAAAAAAAAAAAAAAAAAAAAAAAAAAAAAAAAAAAQAAAAAAAAAAAAAAAQAAAAAAAAAAAAAAAAAAAAEAAAAAAAAAAAAAAAAAAAAAAAAAAAAAAAAAAAABAAAAAAAAAAAAAAAAAAAAAAAAAAAAAAAAAAAAAQAAAAAAAQAAAAEAAAAAAAAAAAAAAAEAAAABAAAAAAAAAAAAAQAAAAAAAAAAAAAAAQAAAAAAAAAAAAAAAAAAAAEAAAAAAAAAAAAAAAAAAAAAAAAAAAABAAAAAAAAAAAAAAAAAAAAAAAAAAAAAAAAAAAAAAAAAAAAAQAAAAAAAAAAAAAAAAAAAAAAAAAAAAAAAAAAAAAAAAAAAAAAAAAAAAAAAAAAAAAAAAAAAAAAAAAAAAAAAAAAAAAAAAAAAAAAAAAAAAEAAAABAAAAAAAAAAAAAAAAAAAAAAABAAAAAQAAAAAAAAAAAAAAAAAAAAAAAQAAAAEAAAAAAAAAAQAAAAEAAAAAAAAAAAABAAAAAAAAAAEAAAAAAAAAAAAAAAAAAAAAAAAAAAAAAAAAAAAAAAAAAAAAAAAAAAAAAAAAAAAAAAAAAAABAAAAAAABAAAAAAAAAAAAAQAAAAAAAAAAAAAAAAAAAAAAAAAAAAAAAAAAAAAAAAAAAAAAAAAAAAAAAAAAAAAAAAAAAAAAAAAAAAEAAAAAAAEAAAAAAAAAAAAAAAAAAAAAAAAAAAAAAAAAAAAAAAAAAAAAAAAAAAAAAAAAAAAAAAAAAAAAAAAAAAAAAAAAAAAAAAAAAAAAAAAAAAAAAAAAAAABAAAAAAAAAAAAAQAAAAEAAAD+/wEAAAAAAAEAAAABAAAAAAABAAAAAAAAAAAAAAAAAAAAAAAAAAAAAAAAAAAAAAAAAAAAAAABAAAAAAAAAAAAAAAAAAAAAAAAAAAAAAAAAAAAAAAAAAAAAAAAAAAAAAAAAAAAAAAAAAEAAAABAAAAAQAAAAAAAAAAAAAAAAAAAAAAAAAAAAAAAAAAAAAAAAAAAAEAAAAAAAAAAAAAAAAAAAAAAAAAAAABAAAAAAAAAAAAAAAAAAEAAAAAAAAAAAAAAAAAAAABAAAAAAAAAAAAAAAAAAAAAAAAAAAAAAAAAAAAAAAAAAAAAAAAAAAAAAAAAAAAAAAAAAAAAAAAAAAAAAAAAAAAAAAAAAAAAAAAAAAAAAAAAAAAAAAAAAAAAAAAAAAAAAAAAAAAAAAAAAAAAAAAAAAAAAAAAAAAAAAAAAAAAQAAAAAAAAAAAAAAAAAAAAAAAAABAAAAAAAAAAAAAAAAAAAAAAAAAAAAAQAAAAAAAQAAAAAAAAAAAAAAAAAAAAAAAAAAAAAAAAAAAAAAAAAAAAAAAAAAAAEAAAABAAAAAAAAAAAAAAAAAAAAAAAAAAAAAAAAAAAAAAABAAAAAAAAAAAAAAAAAAAAAAAAAAAAAAAAAAAAAAAAAAAAAAAAAAAAAAAAAAAAAQAAAAEAAAAAAAAAAAAAAAEAAAAAAAEAAAABAAAAAAAAAAAAAAABAAAAAAAAAAAAAAAAAAAAAAAAAAAAAAAAAAAAAAAAAAEAAAAAAAAAAAAAAAAAAAAAAAAAAAAAAAAAAAAAAAAAAAAAAAAAAAAAAAAAAAAAAAAAAQAAAAAAAAAAAAAAAQAAAAAAAAAAAAAAAAAAAAEAAAAAAAAAAAAAAAAAAAAAAAAAAAAAAAAAAAABAAAAAAAAAAAAAAAAAAAAAAAAAAAAAQAAAAAAAQAAAAAAAQAAAAEAAAAAAAAAAAAAAAAAAAAAAAAAAAAAAAAAAQAAAAAAAAAAAAAAAQAAAAAAAAAAAAAAAAAAAAEAAAAAAAEAAAAAAAAAAAAAAAAAAAABAAAAAAAAAAAAAAAAAAAAAAAAAAAAAAAAAAAAAAABAAAAAQAAAAAAAAAAAAAAAAAAAAAAAAAAAAAAAAAAAAAAAAAAAAAAAAAAAAAAAAAAAAAAAAAAAAAAAAAAAAAAAAAAAAAAAAAAAAAAAAAAAAEAAAABAAAAAAAAAAAAAAAAAAAAAAABAAAAAQAAAAAAAAAAAAAAAAAAAAAAAQAAAAAAAAAAAAAAAQAAAAAAAAAAAAEAAAABAAAAAAAAAAEAAAAAAAAAAAAAAAAAAAAAAAAAAAAAAAAAAAAAAAEAAAAAAAAAAAAAAAAAAAAAAAAAAAAAAAAAAAABAAAAAAAAAAAAAAAAAAAAAAAAAAAAAAAAAAAAAAAAAAAAAAAAAAAAAAAAAAAAAAAAAAAAAAAAAAAAAAAAAAAAAAAAAAEAAAAAAAEAAAABAAAAAAAAAAAAAAAAAAAAAAAAAAAAAAAAAAAAAAAAAAAAAAAAAAAAAAAAAAAAAAAAAAAAAAAAAAAAAAAAAAAAAAAAAAEAAAAAAAAAAAABAAAAAAAAAAAAAAAAAAEAAAD+/wEAAAAAAAEAAAABAAAAAAAAAAAAAAAAAAAAAAAAAAAAAAAAAAAAAAAAAAAAAAAAAAAAAAABAAAAAAAAAAAAAAAAAAAAAAAAAAAAAAAAAAAAAAAAAAAAAAAAAAAAAAAAAAAAAAAAAAEAAAABAAAAAQAAAAAAAAAAAAAAAAAAAAAAAAAAAAAAAAAAAAAAAAAAAAAAAAAAAAAAAAAAAAAAAAAAAAAAAAAAAAAAAAAAAAAAAAAAAAAAAAAAAAAAAAAAAAAAAAAAAAAAAAAAAAAAAAAAAAAAAAAAAAAAAAAAAAAAAAAAAAAAAAAAAAAAAAAAAAAAAAAAAAAAAAAAAAAAAAAAAAAAAAAAAAAAAAAAAAAAAAAAAAAAAAAAAAAAAAAAAAAAAAABAAEAAAAAAAAAAAAAAAAAAAAAAAAAAAAAAAAAAQAAAAAAAAAAAAAAAAAAAAAAAAAAAAAAAAAAAAAAAAAAAAAAAAAAAAAAAAAAAAAAAQAAAAAAAQAAAAAAAAAAAAAAAAAAAAAAAAAAAAAAAAAAAAAAAAAAAAEAAAABAAAAAAAAAAAAAAAAAAAAAAAAAAAAAAAAAAAAAAABAAAAAAAAAAAAAAAAAAAAAAAAAAAAAAAAAAAAAAAAAAAAAAAAAAAAAAAAAAAAAQAAAAEAAAAAAAAAAAAAAAAAAAAAAAEAAAAAAAAAAAAAAAAAAAAAAAAAAAAAAAAAAAAAAAAAAAAAAAAAAAAAAAAAAAAAAAEAAAAAAAAAAAAAAAAAAAAAAAAAAAAAAAAAAAAAAAAAAAAAAAAAAAAAAAAAAAAAAAAAAQAAAAAAAAAAAAAAAQAAAAAAAAAAAAAAAAAAAAEAAAAAAAAAAAAAAAAAAAAAAAAAAAAAAAAAAAABAAAAAAAAAAAAAAAAAAAAAAAAAAAAAAAAAAAAAQAAAAAAAQAAAAEAAAAAAAAAAAAAAAAAAAAAAAAAAAAAAAAAAQAAAAAAAAAAAAAAAQAAAAAAAAAAAAAAAAAAAAEAAAAAAAAAAAAAAAEAAAAAAAAAAAABAAAAAAAAAAAAAAAAAAAAAAAAAAAAAAAAAAAAAAABAAAAAQAAAAAAAAAAAAAAAAAAAAAAAAAAAAAAAAAAAAAAAAAAAAAAAAAAAAAAAAAAAAAAAAAAAAAAAAAAAAAAAAAAAAAAAAAAAAAAAAAAAAEAAAABAAAAAAAAAAAAAAAAAAAAAAABAAAAAQAAAAAAAAAAAAAAAQAAAAAAAQAAAAEAAAAAAAAAAAAAAAAAAAAAAAEAAAABAAAAAAAAAAEAAAAAAAAAAAAAAAAAAAAAAAAAAAAAAAAAAAAAAAAAAAAAAAAAAAAAAAAAAAAAAAAAAAABAAAAAAABAAAAAAAAAAAAAAAAAAAAAAAAAAAAAAAAAAAAAAAAAAAAAAAAAAAAAAAAAAAAAAAAAAAAAAAAAAAAAAAAAAAAAAAAAAEAAAAAAAEAAAAAAAAAAAABAAAAAAABAAAAAAAAAAAAAAAAAAAAAAAAAAAAAAAAAAAAAAAAAAAAAAAAAAAAAAAAAAAAAAABAAAAAAABAAAAAAAAAAAAAAAAAAAAAAAAAAAAAAAAAAEAAAD//wEAAAAAAAEAAAAAAAAAAAAAAAAAAAAAAAAAAAAAAAAAAAAAAAAAAAAAAAAAAAAAAAAAAAAAAAAAAAAAAAAAAAAAAAAAAAAAAAAAAAAAAAAAAAAAAAAAAAAAAAAAAAAAAAAAAAAAAAAAAAABAAAAAQAAAAAAAAAAAAAAAAAAAAAAAAAAAAEAAAAAAAAAAAAAAAAAAAAAAAAAAAAAAAAAAAAAAAAAAAAAAAAAAAAAAAAAAAAAAAAAAAAAAAAAAAAAAAAAAQAAAAAAAAAAAAAAAAAAAAAAAAAAAAAAAQAAAAAAAQAAAAAAAAAAAAEAAAAAAAAAAAAAAAAAAAAAAAAAAAAAAAAAAAAAAAAAAAAAAAAAAAAAAAAAAAAAAAAAAAAAAAAAAAAAAAAAAAAAAAAAAAAAAAAAAAAAAAAAAAAAAAAAAQAAAAAAAAAAAAEAAAAAAAAAAAABAAAAAAAAAAAAAAAAAAAAAAAAAAAAAAAAAAAAAQAAAAAAAAAAAAAAAAAAAAAAAAAAAAEAAAABAAAAAAAAAAAAAAAAAAEAAAAAAAAAAAAAAAAAAAAAAAAAAAAAAAAAAAAAAAAAAAABAAAAAAAAAAAAAAAAAAAAAAAAAAAAAAAAAAAAAAAAAAAAAAAAAAAAAAAAAAAAAQAAAAAAAAAAAAAAAAAAAAEAAAAAAAAAAAAAAAAAAAAAAAAAAAAAAAAAAAAAAAAAAAAAAAEAAAABAAAAAAAAAAAAAAAAAAEAAAAAAAAAAAAAAAAAAAAAAAAAAAAAAAAAAAAAAAAAAAAAAAAAAAAAAAAAAAAAAAAAAAAAAAAAAAAAAAEAAQAAAAAAAAAAAAAAAAAAAAAAAAAAAAAAAAAAAAAAAAAAAAAAAAAAAAAAAAAAAAAAAAAAAAAAAAAAAAAAAAAAAAAAAAAAAAAAAAAAAAAAAAAAAAEAAAAAAAAAAAAAAAAAAAAAAAAAAAAAAAAAAQAAAAAAAAAAAAAAAQAAAAAAAAAAAAAAAAAAAAAAAAAAAAEAAAAAAAAAAAAAAAAAAAAAAAAAAAAAAAAAAAAAAAAAAAAAAAAAAAAAAAAAAAABAAAAAQAAAAAAAAAAAAAAAAAAAAAAAAAAAAAAAAAAAAAAAAAAAAAAAAAAAAAAAAAAAAAAAAAAAAAAAAAAAAAAAAAAAAAAAAAAAAAAAAAAAAEAAAABAAAAAAAAAAAAAAAAAAAAAAAAAAAAAAAAAAAAAAAAAAAAAAAAAAAAAAAAAAAAAAAAAAAAAAAAAAAAAAAAAAEAAAABAAAAAAAAAAEAAAAAAAAAAAAAAAAAAAAAAAAAAAAAAAAAAAAAAAAAAAAAAAAAAAAAAAAAAAAAAAAAAAABAAAAAAABAAAAAAAAAAAAAAAAAAAAAAAAAAAAAAAAAAAAAAAAAAAAAAAAAAAAAAAAAAAAAAAAAAAAAAAAAAAAAAAAAAEAAAAAAAEAAAAAAAEAAAABAAAAAAABAAAAAAAAAAAAAAAAAAAAAAAAAAAAAAAAAAAAAAAAAAAAAAAAAAAAAAAAAAAAAAAAAAAAAAABAAAAAAAAAAAAAAAAAAAAAAAAAAAAAAAAAAAAAAAAAAEAAAAAAAAAAAAAAAAAAAAAAAEAAAAAAAAAAAAAAAAAAAAAAAAAAAAAAAAAAAAAAAAAAAAAAAAAAAAAAAAAAAAAAAAAAAAAAAAAAAAAAAAAAAAAAAAAAAAAAAAAAAAAAAAAAAAAAAAAAAAAAAAAAAAAAAAAAQAAAAEAAAAAAAAAAAAAAAAAAAAAAAEAAAAAAAAAAAAAAAEAAAAAAAAAAAAAAAAAAQAAAAAAAAAAAAAAAAAAAAAAAAAAAAEAAAAAAAAAAAAAAAAAAAAAAAAAAAAAAAAAAAAAAAAAAAAAAAAAAAAAAAAAAQAAAAAAAAAAAAEAAAAAAAAAAAAAAAAAAAAAAAAAAAAAAAAAAAAAAAAAAAAAAAAAAAAAAAAAAAAAAAAAAAAAAAAAAAABAAAAAAAAAAAAAAABAAAAAQAAAAAAAQAAAAAAAQAAAAAAAAAAAAAAAAAAAAAAAAAAAAAAAAAAAAAAAAAAAAAAAAAAAAAAAAAAAAAAAQAAAAAAAAAAAAAAAAAAAAAAAAAAAAAAAAABAAEA//8AAAAAAAABAAAAAAAAAAAAAAAAAAAAAAAAAAAAAAAAAAAAAAAAAAAAAAAAAAAAAAAAAAAAAAAAAAAAAAAAAAAAAAAAAAAAAAAAAAAAAAAAAAAAAAAAAAAAAAAAAAAAAQAAAAAAAAAAAAAAAAAAAAEAAAABAAAAAAAAAAAAAAAAAAAAAAAAAAAAAAAAAAAAAAABAAAAAAAAAAAAAAAAAAEAAAAAAAAAAAAAAAAAAAAAAAAAAAABAAAAAAAAAAAAAAAAAAAAAAAAAAAAAAAAAAAAAAAAAAAAAAAAAAEAAAAAAAEAAAAAAAAAAAAAAAAAAAAAAAAAAAAAAAAAAAAAAAAAAAAAAAAAAAAAAAAAAAAAAAAAAAAAAAAAAAAAAAAAAAAAAAAAAAAAAAAAAAAAAAAAAAAAAAAAAAAAAAAAAAAAAAEAAAAAAAAAAAAAAAAAAAAAAAAAAAAAAAAAAAAAAAAAAAAAAAAAAAAAAAAAAAAAAAAAAAAAAAAAAAAAAAAAAAAAAAAAAAAAAAAAAQAAAAAAAAAAAAAAAAAAAAAAAAAAAAAAAAAAAAAAAAAAAAAAAAAAAAAAAAAAAAAAAQAAAAAAAAAAAAAAAAAAAAAAAAAAAAAAAAAAAAAAAAAAAAAAAAAAAAAAAAAAAAAAAAAAAAAAAAAAAAAAAAAAAAAAAAABAAAAAAAAAAAAAAAAAAAAAAAAAAAAAQAAAAAAAAABAAAAAAAAAAAAAAAAAAEAAAABAAAAAAAAAAEAAAAAAAAAAAAAAAAAAAAAAAAAAAAAAAAAAAAAAAAAAAAAAAAAAAAAAAAAAAAAAAAAAAABAAEAAAABAAAAAAAAAAAAAAABAAAAAAAAAAAAAAAAAAAAAAAAAAAAAAAAAAAAAAAAAAAAAAAAAAAAAAAAAAAAAAAAAAAAAAAAAAEAAAAAAAEAAAABAAAAAAAAAAAAAAAAAAAAAAAAAAAAAAAAAAEAAAAAAAAAAAAAAAAAAAAAAAAAAAAAAAAAAAAAAAAAAAABAAAAAAAAAAAAAAAAAAAAAQAAAAAAAAAAAAAAAAAAAAAAAAAAAAAAAAAAAAAAAQAAAAEAAAAAAAAAAAAAAAAAAAAAAAAAAAAAAAAAAAAAAAAAAAAAAAAAAAAAAAAAAAAAAAAAAAAAAAAAAAAAAAAAAAAAAAAAAAAAAAAAAAABAAAAAQAAAAAAAAAAAAAAAAAAAAAAAQAAAAAAAAAAAAAAAAAAAAAAAAAAAAEAAAAAAAAAAAAAAAAAAAAAAAAAAAABAAAAAQAAAAAAAAABAAAAAAAAAAAAAAAAAAAAAAAAAAAAAAAAAAAAAAAAAAAAAAAAAAAAAAAAAAAAAAABAAAAAQABAAAAAQAAAAAAAQAAAAAAAQAAAAAAAAAAAAAAAAAAAAAAAAAAAAAAAAAAAAEAAAAAAAAAAAAAAAAAAAAAAAAAAAABAAAAAAABAAAAAAABAAAAAQAAAAAAAQAAAAAAAAAAAAEAAAAAAAAAAAAAAAAAAAAAAAAAAAAAAAAAAAAAAAAAAQAAAAAAAQAAAAAAAQAAAAEAAQAAAAEAAAAAAAAAAAAAAAAAAAAAAAAAAAAAAAAAAAAAAAAAAAABAAAAAAABAAAAAAAAAAAAAAAAAAAAAAAAAAAAAAAAAAAAAAAAAAAAAAAAAAAAAAAAAAAAAAAAAAAAAAAAAAAAAAAAAAAAAAAAAAAAAAAAAAAAAAAAAAEAAAAAAAAAAAAAAAAAAAABAAAAAAAAAAAAAAAAAAAAAAAAAAAAAAABAAAAAAAAAAAAAAAAAAAAAAAAAAAAAAAAAAAAAAAAAAAAAAAAAAAAAAAAAAAAAAAAAAAAAAAAAAAAAAAAAAAAAQAAAAAAAAAAAAAAAAAAAAAAAAAAAAAAAAAAAAEAAAAAAAAAAAAAAAAAAAAAAAAAAAAAAAAAAAAAAAAAAAAAAAAAAAAAAAAAAAAAAAAAAAAAAAAAAAAAAAAAAAAAAAAAAAAAAAAAAAAAAAAAAAAAAAAAAAAAAAAAAAAAAAAAAAAAAAAAAAAAAAAAAAAAAAAAAQAAAAAAAAAAAAAAAAAAAAAAAAAAAAEAAAAAAAEAAAAAAAAAAAAAAAAAAAAAAAAAAAAAAAAAAQAAAP//AAAAAAAAAQAAAAAAAAAAAAAAAAAAAAAAAAAAAAAAAAAAAAAAAAAAAAAAAQAAAAAAAAAAAAEAAAAAAAAAAAAAAAAAAAAAAAAAAAAAAAAAAAAAAAAAAAAAAAAAAAAAAAAAAAAAAAAAAAAAAAAAAQAAAAAAAAAAAAAAAAAAAAAAAAAAAAAAAAAAAAAAAAAAAAAAAAAAAAAAAAAAAAAAAAAAAAAAAAAAAAAAAAAAAAAAAAAAAAAAAAAAAAAAAAAAAAAAAAAAAAAAAAAAAAAAAAAAAAAAAAAAAAAAAAAAAAEAAAABAAAAAAAAAAAAAAAAAAAAAAAAAAAAAAAAAAAAAAAAAAAAAAAAAAAAAAAAAAAAAAAAAAAAAAAAAAAAAAAAAAAAAAAAAAAAAAAAAAAAAAAAAAAAAAAAAAEAAAAAAAAAAAAAAAAAAAAAAAAAAAAAAAEAAAAAAAEAAAAAAAAAAAAAAAAAAAABAAAAAAABAAAAAAABAAAAAAAAAAAAAAAAAAAAAAAAAAAAAQAAAAAAAAAAAAAAAAAAAAAAAQAAAAEAAAAAAAAAAAAAAAAAAAAAAAEAAAAAAAEAAAAAAAEAAAAAAAAAAAAAAAAAAAAAAAAAAAAAAAAAAAAAAAAAAAAAAAAAAAAAAAAAAAAAAAAAAAAAAAAAAAAAAAAAAAAAAAAAAAAAAAAAAAAAAAAAAAAAAAAAAAAAAAAAAAAAAAAAAAAAAAAAAAAAAAAAAAAAAAAAAAAAAAAAAAAAAAAAAAAAAAAAAAAAAAAAAAAAAAAAAAABAAAAAAABAAAAAAAAAAAAAAABAAAAAAAAAAAAAQAAAAAAAQAAAAAAAAAAAAAAAAAAAAAAAAAAAAAAAAAAAAAAAAAAAAAAAAAAAAAAAAAAAAAAAAAAAAAAAAAAAAAAAAAAAAAAAQAAAAEAAAAAAAAAAAAAAAAAAAAAAAAAAAAAAAAAAAAAAAAAAAAAAAAAAAAAAAAAAAAAAAAAAAAAAAAAAAAAAAAAAAAAAAAAAAAAAAAAAAAAAAAAAAAAAAAAAAAAAAAAAAAAAAAAAAAAAAAAAAAAAAAAAAAAAAEAAAABAAAAAAAAAAAAAAAAAAAAAAAAAAAAAAAAAAEAAAABAAAAAAAAAAAAAAAAAAAAAAABAAAAAAAAAAAAAAAAAAAAAAAAAAAAAAAAAAAAAAAAAAAAAQAAAAAAAAAAAAAAAAAAAAEAAAABAP//AQAAAAEAAAAAAAAAAAAAAAAAAAD//wEA/v8BAP//AAAAAAAAAAAAAAAAAAABAAAAAQAAAAEAAAABAAAAAAAAAAAAAAAAAAAAAAAAAAAAAAAAAAAAAAAAAAAAAAAAAAAAAAAAAAAAAAAAAAAAAAAAAAAAAAAAAAAAAAAAAAAAAAAAAAAAAAABAAAAAQAAAAAAAAAAAAAAAAAAAAAAAAAAAAAAAAAAAAAAAQAAAAEAAQABAAAAAAABAAAAAAAAAAAAAAAAAAAAAAAAAAAAAAAAAAEAAQABAAAAAAAAAAAAAAAAAAAAAAAAAAAAAAAAAAAAAAAAAAAAAAAAAAEAAAABAAEAAAACAAEAAgABAAEAAQABAAEAAAAAAAAAAAAAAAAA//8AAAAAAAAAAAAAAAABAAAAAQABAAEAAQABAAAAAQABAAAAAgAAAAEAAQABAAAAAQAAAAAAAgAAAAAAAAABAAAAAQAAAAAAAgAAAAAAAQAAAAAAAAAAAAAAAAD//wAA//8BAP//AQD/////AAAAAAAAAAABAAAAAgAAAAQAAwACAAEAAgADAAEABAD//wMAAAADAAAAAAABAAAAAQD//wMA/v8CAP3/AAD7//7//v/9/wAAAAACAAQABAADAAUABAAFAAQAAAAAAAIAAAD//wAAAAAAAAAAAAABAAUABQADAAEAAAAAAP7//v/+//7/AAAAAP7//v8AAP3//f//////AAD+/wEAAgACAAIAAQAEAAAA/v////v//P/9//7///8AAAAAAAACAP//AAAAAAAAAgADAAMAAwAAAAIABAABAAQAAAAAAP3//v/9//7/AAAAAAIAAAACAAMAAwACAAMAAwADAAQAAQABAAMAAAD//wAA//////7//v/////////+/wAAAQAAAP//AwACAAIABAACAAYABQAEAAYABwACAAQAAQAEAP//AQD+/wAA/v///wIA//8CAAIA///7/wgA+/8AAAAA/f8AAPz//v8AAAAA+f///wAA+f/6//v//f/5//v/+f/8//3/+//9/wAAAAD9/wQA/////wAACAACAAIAAgADAAAAAgAEAAQAAwD9//7/AAD+//3//P/5////AQD+//r//v/3//z/+//9//3/AAD4////AAAGAAUACgAPAAwAEQARABAACwAHAPf//v/x/+n/9P/6//v/9/////P/+P8BAP7/+f8BAAEA/P/w/+7/9v/2//j/9v/6/wAAAQD6////BAD3//j//v/8/wEA9f////z/+v/y/+z/7f/i/+X/5P/i/+v/8//4//z////8//7////0//n/AAABAAYACAACAAYA+v8AAPr/8v/9/+n/7f/t//3/+P8AAP7/BQAIAAcACgAGAAQABwAFAPz///////j/7v/v//L/7P/u/+7/+v/3//j/AAABAAAAAQAGAAMACgAMAAwACAAQAA4AAgACAAAA9v8DAPP/7f/w//f/9f/3/////v///wMAHAAGABUACgAdAPP//P8DAPr/AQDd//b/8//b/+n/+f/d/97/4//X/9z/4//c/+L/6f/4//L/CAASABoALAA2ACUAJgArAB8AFAAJAP3/7v/l/87/0v/M/9X/yf/J/87/2//a/9f/6P8HAAgAAAAUACgAQAAiACEAOgBCAC8AOQA7ACAAKAA8AB0AQwBIADAAEgAJAOr/0v+1/2//Uf9P/4L/UP+o/+7//P8vAF8AcwBTAFgAaQBxAFAACQDy/ycA+//F/+L/FwASAOv/AgAbABMAFAAUABAABAAbAAUA9P8IAPX/6P/G/9r/xP+3/6//s//N/9X/1v/x//7/FQAcABkADwAsADkAKAAmACcAFgAMAOD/pP+o/2r/eP9m/2P/fP+O/8r/8/8dAEwAlACYAIYAmAC1AJ0AbwBgAHEAHwAAAPD/4/+3/6f/oP+m/8b/1P/D//j/DQADABkA6/8dADsAXwAUAD8AugDCACIAOQC3AF4Aov+Y/8n/kP9D/23/tP+u/9//7P9NACAAdwBLAGYAaQCDAG4AXQBIAEUAbwDu/wYA0f/i/4v/zP+3/5j/vP/+/zoArv8FAM0AUQAfAEYAhQCIAP3//v/n/2gAFwDI/wAAVAArAAoAQgAhACYABQCc/5z/jv+D/07/ff/W/77//v8mAOsAjAB9AL0A9ACcAOT/OQAYAL7/Q/9Q/5n/gP8y/33/mv/n/6j/r/8NAEQAMgAyAG8AgwCTAE4AcgAVABEA4v/R/7D/yf/Y/8H/0f/T/+T/sP8JABEAGgA2AFoAPwBIAIYALAAEAOL/HQCv/6T/xv8HABgAsP9fAH8AeAD7/0sAZgAGAI3/vv9EABQAuP8AAHYATwA/AC4AYwBEAPn/mf+9/6L/lf9R/5v/vv/q/8X/5v85APX/LQApAF0ANAAQACEAfAAMAA0APgBsAFUAy//k/xMAyv+v/13/lf+b/37/U/9H/4//RP+V/5X/7f8DAFIAxwDTALkA9AA6AaoAVABHAAYA7/+A/zT/XP/M/3b/I//U/+z/EwAzAEIASABZAMsA1f+EAF8AMQDN/xkA7gBu/7j/GgDhALP/2v9NADYACACV/5T/6//l/zb/GwBFAPT/XQBzAIkA9/8AAAgA6/8KABgApQDpADwBIQHLASsB2gA8ANX/D/9M/g7+Kv41/uH9Z/4Q/5j/av8UAHsA2wA1AKEA4QCJADMAGwAUAIX/wf95/wT//P/d/23/uf+3/wEAIgAlAOn/NQDk/+b/Tf+R/3D/R/8o/rj+2f9A/xj/u//CANT/UwA7AOUAYwD9ALQAPQEWAY7/jgAfAAwAJ/+w/7T/pP+n/8T/RAB5APoA9QAnAR8BrQFmAfcAFwEgAV0BqwA9ADYApwCp/07/rf+P/2b/yf5z/wkAAABoAHQAVgHDAZQA5wE1AQkBMQCF/7z/6P43/oP9vP6B/TP9Nv5n/y7/Kv8uAF4BUwHDAE0BrgFXAZ4AAACKABYA0f59/qv+4P5K/rT+rf7O//D/if/R/10AAQCc/5v/lf/s/tv/tf/C/y8AbgAVASsAyQANAB4AUP9r/0v/DP/w/wL/7v7r/zb/Hf+a/ir/AP/M/sD/mf+5ALv/ZAFaAXwB+QDDAIYBngBIAG0AmwAmALwAtgBzAMkApQDjAF0AFQBQAAoAKADl/4oA9P96AfgAswCRAHwBfQG3ACAB6wAcAYAAiQCz/9QAAgDq//L/1/+L/+X/RgCU/97/PQCfACsAZAAxAPUAWgD6/0EAsQAeAP//iP/A/2v/Hf7O/gz+Cf6A/oP+Pv71/p7/3f/g/2n/BgDOAGsAYQCnAGIBrAAAANX/ev/w/pD9xv1Q/ov9hP0A/nP+av/P/lz/lP8FAY//KgDcAN8AawGXABUCwQDpAXQAkwDe/wn/y/6b/fT93/0Z/hn+qP6r/4wBRwHQASECEwRnA8gBewFHArEBFgDl/pf/if/Y/mf/8/1DAIwAegBDAN8ASAEBAdcAwv8OAUABLwAWAEUApgBDARkAYACzALIBfAAXAAsBPADBAJAAy/+0/6UAngAn/33/iv9V/0D+V/74/X/+OP/W/gwA9wBpAq8BJQJFAskBXwDv/3v/Uv8V/yz+UP+D/3r+8/5Y/g//Of/z/Tb/Ef+QABr/OQCFAW8BpwHVAOABPQHa/4j/v/9o/l7+bv7e/rj/c/+f/04AwgFUAJH/5v/9AKH/4/5w/6YAQ/9g/mT/0f9x/j7+ov+u/vr/3f0IASYBIQEzABgBSgKFANz/o//R/93///4P/9IAdf+H/0D+MAAR/+f+U/57AIgAR/8nAGoB4wEVALoAWAJyAaH/DgEXATgB7//U//D+TAB+/j7/sv31/tAAZ/2+/m3+kwFD/zv/9QGKAkIBvgE3BPcBtgAMAfAANP7z/e/9w/1k/Rn95f+e/8T/oQBEA4UCaQHIAvsDIQNXAQsCFgNHAhoBjAFRAboBYQCpAJb+Y/8u/6b9g/zF/Xv/Cf73/ZQABALf/okB1gGRAqsAzf/lAaIAfP92/goAyv/F/in/x/+T/4n+tf7h/iz/Av8d/w0ABwEAAET/vv+f/kH/9vzN+8L8O/0z/ZP8ff8mAA4AZwEjAdQBpABeAKIAQP+G/vj+3P/E/pH+6f9HACYBXP+S/x8CtP8hAKD/jQBw/9b/iwD6/ggAuv8EAQwAAgE1AccCbgG3AWwCzgFqAU0BOwLZAVMCAAIzAnMCSQBc/3D/af1h/Gr87/04/Sn+OQB/A0wCIgMaBVIGeAOgAPkBngHw/pX8mf3C/lv+B/wo/s//2P/G/lgAJgH2AC0BfAAMANT+LP9M/W77HPzw/bz7Pfvz+1L+WgBz/Zv+ZQFcAqf+mv+sAaL+xP5g/bT+b//6/Sf/oADPAJsATAARAd0A2f4O/ygAeAAt/1P+YQDT/wz/FP5z/ioAFf79/33+HQAOAWYBigDAALoCngA/AfX+BAEbAK0AfgBf/zgBuAIcAdT/OgKTA00Blf+qAakAXAHz/Vn/+wCdALT/g/+kAooC+gJtA18EAwSbBggDyQIzAmYA4v5T/QL+6vwX/xP9cP6eAmwBEgBoA/kEYAUXAu8DfgVRBGkCkwCaA8MBvQDK/iUAdQCT/zf+I/4b/9j/TP/k/mEAEAOVA3wCfgRlBD0EMgKYALv+Kv1F/Ev7S/oJ+3/8of2S/cz+gv8kAA4Aqf+4/rb/Tv+t/Br+zfxl/aH7jPrQ+wD7Uvqd+jb7lvz6/GL+Kf98/xIBmgEjAGP/gv/8/jz9lvtb/Ij8Bfx3+2r9qv7d/eT+TQAjAYYAVAEqAlkBSgE5APEB/gD1/0H/WwHu/wn/SwAKAKYAxv+xAAoBywGT/0YAtQBuAcX/zf/9ACYCbAEt/zkBqAGpAOv/xP+cAaIBLQDAAXMAtwHfAGv/aP7M/5X/xv8y/3wBtgOhAFIDNwNEBCQCzQLpA8oC1wHSAZYDNgHPAOcA4gCM/+H/Xv+H/ygADwDbAVUB3QHoApUDNAKfAd8B3AEGAQb/gP9rAEz/ZP/i/pX/BAG8/x0ASv/MAOP/tv9B/1//k/+Y/sv+zf7J/iL8A//7/d3+Qv5p/tMAE/9ZAIwAnABeAeL/zgCAAM7/KP42/2v/hQAgAWX+7gI+AnkASv7e/ET8nv2p+vn3H/27/pwAR/96AboDsQKeAMD+U//d+wb8N/1R/X/9EgCbBHIFQQQ/BVgGPQeH/uL7xv8X+Sv4H/Vu91n4Pfim+jr8ef99/hcClAMfA4wBkQJYAnwBFf6M/eoA1f60/Nf/JwHb/tX+oP9//1T+W/1Y/t8AlwAGA6wEswaPCI4J+gcHB94FZwQEATP9jf19/SD9DPz+/YkBdANqAnIEQAcFCFoG/gVyBrcFegP2AMv/Zv49/Xr6bvr7+2b8DP2+/oD/iAHRBEgE8gIHBRQFVwMFAef/PQAV/7r77/uP/v79G/6s/pIBwAL1AHgBEgPgAQYAUAB5AIT+6fwp/sP9zPxJ/K39eP7u/Lb+xf4M/7z/YwAAAVIA2QDJAJYBPv+N/ir/p/4O/sb7iPyQ/hT+4/y7/oEBiQBp/ykAXQCvAD3+e/74/60AQQDi/zgDywLXARQCrAGQ/+r+VP3O+977a/pE+8j8df3D/ZMAVAHtAR8EkAIYA9sERgNxAeIARQEK/xT9i/yt+5f7qvpZ+1n8f/z1/cj/lACCAHgBjAS2BKQD2ASkBvMF6wPQAlMBmP/x/CT7i/oY+y/8V/74AEYDxQWyB74HVAeRBcYDegHw/uv7avpm+m34Uviy+YP7Z/tw/Hv+oP8oAC8AFgAAAIb/If6K/GL6tfqm+qf4HPkO++/8aP6V/6cCtAWHBs0GLgjUCFUH9wW5BJEDdAKUATMBzAH7Ag4EtwYPCBcJUAkKCbsIWgUvAaD/lf2V+Tn2+/Wf91X33/a997n6Kvy9+sP4o/ep9bjxWu4b7mTteu5P81P4YP6rBT4L0BCYFIAUExR0EOkMYQfxAs/9afd89sP3svcX+RMAXQZYC1QQgBXdGMwZ5RfyFK8QHQrFBEX9cPf38hPwKO5m7Q7vz/HS9A72xPkr/bj90PxF+xv7Yflq8n/wZfJM8pPxJvTr+Zv/7gRcBzQL0w9KEa0P4g3CCu4IpQQr/0n8zvkJ+iz7Wv37/wEFMwwZEU4UqxYqGSAY6xJpDfIGIgHe+gX0C+8R7q3ua++l8P7yCPls/YT+v/8BAfcAL/2R9y7yAe2A6frlGeb26lrxe/rQBHQOZBZ7GnUb+xm6E9IJYgGZ+yH1YfBV8Xj1FPpDAAIHNQ4CEw4XERnRGOEYfRU1Ec0KIwbwAKz5B/PA7jHte+s76/XtWPSh+j/+yAPdB2oGPwSO/2P3bu5H5uTgft++32rkt+4u/J8HshC7Gtsg8yAWHEUURwtEAZX3b+866z/taPFE9n3+XwjQEJYXnBtbHecdnBv/FTgQEAtCBPn8wfeF80DwH/AM8JLwafTo+EL9/gDwATMDaQPM/yz6V/O36hzlAeKQ33/h7+Yp8hwA+woXFIUdvCKUIAgaZBETCJ78XvPM7v/qw+ti8WP4HwBPCSURsRaXG7YdQR2mGgMWHxGODNEF4v46+SH0yvAy7pLtE/Dj80T4Ev4YA3oFUwW7A0MBYfoe7wTmd+GA3v3b2t6u6Dz1CANCDbgW1x+PIlMeGRe1DtYEEPxz8+7tze1M7y3z/Pn1ABAJDRH4FNIX4hsNHhwbcRWaEboNzgZh/hz3OPIQ8DLvau4Y8Uz4sv+SBNQH4Ah3BxYDCftM8Prlp93O2Urai9tE4u7vE/+cCdwRiho2INUeTxc2D48IDAF1+E3yRvB08QH0jfbu+vYBwAhhDgASWRWEGbUc7xtDFxETmg9WCWYAzPe/8Qrv8u217RTwxfWQ/VYEcgiJCQwIEwRF/SPzWuVe20TZtdlL2tjgQ/B1ATMNjBWPHcMigR9sFuMMMATh+yr1zPHw8IPzq/a7+uH/6wRJCXsN7hErFaoXThrrGtwXABORDpQIAADP99fx8u6s7WfuDfKt98P99gPZB60IGAajADj5P++J40LaR9n923PegeYH9yIGkxEaGXgd5SBRHIoR9wcOAab4XvLZ8OnwhvNb+Df9AALHBjMLDBDLE54WURlaGzYbqxY8EEQLZQTv+oDzNO+97YvuDfGL9rz9qwNTCBEKAgmMBNz8CvMr6I7d0NUD15Hcg+E07FD+iw0vF+Icrx9NH60X/QyPA7f7+PUp8l7xmvLZ9GT5Ev+LArEFVgsIEdoV6hj1GjodLxxKFtgOAQdI/sP2tvFM72nvkvFT9nz8fQG/BGMGrAaHBGr/TfhD8Ofmy9w52OPao93m4TvvVQH9DpIX9xxvIH4fhRZ3CokBwPty9YbyUvIp9AT4MPsw/10D6wfFC/wPKRROGBEcdxs9GPMT1gwZBRj9u/RC8EPwkPEo9Mr4ov4cBLsGUwZZBLUApPr48/DsVOIm2hnbct9E4sro+PaXBxsTpBeRGrocQBl6D3kFgP46+br1SfX79eH2avpa/Xr/7gObCKQMQhJHF5caPx3SG0sVLQ75BjX+xPVq8HzvvvGT9YP5vf4lBA8HCgfMBWQClvxF9o3uD+cC313Z7dsG49DnQfDNABUPihVlGGQZHRebEQwI3f/T+6z4Nvfc92H5Q/sO/iABjgPbBT4K9A8EFAgXXhl3GZMWNBASCFIBNPyv9pPym/NT9mX5R/37AHYDzgQ8BJQBVP6P+N3xROvX4traRtoQ4LLnOu8i+ocLIRd8GBwYoxWADw4Hpv5r+eL3dvhh+tT88/3o/6ICeANPA6UFXQtCEWAVpRjaGpIZXBQADIMCLfvC9rnznfPU9pT6yf4CA8AEowP4Af7/zvzo9yfyGu1u5+bfWty44NrnQe3H9r4FXhIcFtAUVhTaEIgI7//J+qj45/hb+hb9IP4s/7UCpATxBGsG0gqIEHcVthbgFqkXRxPDDKsFGP7++Wj3GvY3+MT7ff6xABoCQQKrAMH9t/rv9xP1VfHj6CHfG91U42rouOuI9TIGkxP2FDISIhG+DbsFPf7A+n35/fqt/jUALf9p/+wAFwKfA9QFpQrjEQ8WoBdzGBoVlQ7cCZwFdwBP/PH5V/p+/Db9Nfx8/F/+WAAbACn+BPx9+Y721vGK6RDf3tqy4Mnp2+6J9rQFZRFxFFcR7g3UCc8DHf6N+pj6E/y8/7wCEwINAQACigPPBI4GlQpBEPQTERUFFaESqw1jCUYGUwPnALb+l/z8+wP8i/v1+hv8Ov9VAREAOP1M+jr17/Db6VPe6tnN4Ojqv/BO97cD5w+DEm0NhAmHB3gEUgG2/37+Dv/nAcYC+v+o/d/+BQGYA30HZwwlEUkUbRXIFNgRLA0rCVMHagWxAX/+Ov2f/Cn7Bfpt+g39y/+iABH/rPx0+gH3OPGg6o7i5Nzp4LbpiO5g9L0B/gzCD1gMhAkECK0FWgJH/4v/6gFJA3sC9f9S/rYAVgNBBDQGtgp1EO4SnhJEEpwRZQ48CvEHVAWCAtYAw/4g/Fj60/mS+o/7v/zH/br+Av4J+yP2aPFi67bie92e4ofspfCk9ZkBoAznDcYJDQfxBQMFAgS1AiMC4wIKBJ8CBv97/V//lgPWBu8JnA1/D30PKxDAD5cN1wvFCycLDAgqBEkA6f0M/Mb5kfj3+W37h/1o/mf8Xfpu91D0afHE62Ti6d8X5+rs6e8E9wIDXAtuCysIzAbCBbIEcAS0A2cDYASiBJwCi//C/rsB/wRsByAKTgwSDp4OBw7mDbENRA47DqYLMwcsAzYARvyE+Qj5lvk3+/P83Pwo/G37VPlm9tTyz+7b547hMOQ0667utvLs/PAFKQhCBiMFvwXvBAAF+QUWBmcGEAZeAwIAG//rAPIDEQdDCjkNbg6gDZIMMAxiDE8MYgxaDCgLuQcRAzT/V/y2+kv6fPqX+ib7Ufs5+nH4D/Yo80LwxelS4xzmvO0q8H3ztfsJAyAF2QI6AqEDxgVLBYMF0QZcBpQFLwJW/sD+6AFWBVoITQrjDM0ORw35CjQLCw3IDekMNwzRCiMH1QJF/6H8ffuS/BX+3f2V/Bj74/mk+IH28fJx75Hq1+SE5MfrqfGS8r324P9bBDMBvP9tAcgEKwjrBxQGgwZABkoDLgB9/mkAuwUQCMEHzwlqDKEM2AuwDJoNSA7hDdcLlgnwCHAGQwHe/UX8tPwp/ZP8QPxS/Lj6QPgw9dPx3u5s6p3k5uRZ7f3xqvJD9+L9CgBf/V/9yQE/BmoIhwhOB3MGqgVmAzoB6QB6A+YGpQcEB5IICAw8DC0KRgxOD3UPxw2fC3wJ/QcaBmUDDgEx/7D9C/wp+2r73vu3+tf4cPb48krwjuom5F/mhO1V8qPyzfRV+6n9F/s6/PIBDgfQCTAJGgeKBdoEkANgAbYBcAV+CGYImQdZCH8JAgoxCwENUg/KD70MWApbChAJ6AW4A6QCRQGG/sP7OfoQ+nv6dPqU+Of1afOt8LnquuVZ6M3vKPPt8V/0EPoi+8v47vqaADkH5AgPCG8H5wXOBZcEVgJUAoAGiQnNCDUHlAZdCQ8Lgwq3DAAPww4qDvMMpQroBwYGSQXpA5kBuv4p/MH6efrD+br57viI9rfzPPBD6Ybklup68fnwgfAN9Tf46PeG9+H6yQH3BhwHBAatBkcGNwXnBboFZQX9B9oIiAc3B5kHWghkCkoM5w3JDhkNwgrjCg0MZwrCByQGrwS3AW7+Sfyb+i/6lfq9+YD32vV58+zvCevB5jroCO/e8hXwd/GW9yD5qvYC+Jz/rAUGCK4HGAVeBF4GFgdTBtcHEAoXCvwH4wVxBhgJHwt5C40MyQ5NDjwL1wlBC5cLjwkZB54E6QEAAOn9O/vi+tz6ZvqS+O70MPMR8T3rPeeX63PwQe9/7n/xX/XW9vr2CPmd/nEErAWsBEoFrAbdBs4GNwauBl0J7QroCLEGHgiUCvkKywrnC1INXg3/C7gKawrBCqMJcgccBdQCFQC6/V386fs8+x/6PvgY9XfyC/Fm7XLoHukb77/xHO727djyhfbv9lL4UP3+AXsE/QR/BOgFYwjeCN0HfAfBCBcKfQkcCHcIxAqhC5QKigoKDNwMuwuNCxgMvApuCKoG6gR/A/EBtv9E/U78wfv1+iH5mPYR9BHyve6O6TrpQO5T8Y7uce1l8d70UvXt9iH8QAHoAvYCcAOEBc0HRAlbCYMHhwgnC4wKwgfSB4UKGgzuCrMKEQyHDMcLugqTC/MLlgoWCEQFdAMuA/4Acf5X/ez7yPoT+Rz3RfXZ8+3vUur656DrR/BG7jbrk+/f9NzzuvPu+M7+LAJOA98CLgPvBZMJhQmJBywJVgtQCpEINwjMCdwLnQvKCqoLrg1uDf8LdAtbCyELcgl8B/gFCwSWAcP/ef7X/VX8JPrj+MT2jvRO8gvufumM6bftzu7f6w/sHPF28+XyfvVE+iT/PgFmAfECiQXYB7sIWggKCFUKUQzUCg8J6Ql+C6QLHgt7C2wM5Qz7C6ELHQx/C/IJLQjMBmUFVAOoAAD/jf42/pn8Uvpe+N729vS98n7ugul66SvwNvF+64vrufDP89rzy/Zu+qb9MAAPAVQCswQ1BwUIyAYaCJkL3QvsCbgJdgsoDN4K2gq+DLINFw2UC+4KzwssDJgKXAgJBwwGtwMnAfD/t/8j/yL9YvqF+Lz2zPRG8nfuG+rw6ZLuBPDH66vpy+7F8krzJvb/+Q78Mv4KAFUByANRBvcGuAZCBl8IMAzdC3EJPwocDdEMsgsgDCcNTA5PD2INgQqFC/gL6AlJB/cFGwUXA6gACgC4/0r9Yvp3+Aj3Evad9OHunek06t3t/e7T6+7pje0d8o7yj/J89rf7o/1G/iAA8AFlBAUHdQY7BVoHeAspDNIJUwpCDOMM1QzoDDsNwA7hDrMNmA2XDVUMDAq/CEEImAfOBCwCJwHv/9L+E/2Z+un47faI9KrwrOzD6y7skew37CDqnepY8A7zlPB58eX38vse/Gv9WgBPA1QF9wUvBSkG0wnOC9AJqwmeDPkMYwtGDDEO4Q7uDgcOag34DScOLgwtCnUJ8AjrBuEEGQMoAsMAxP4H/Xv7Y/md9vDzjvBN7JHqze2N7hnrlOd/67PxRfGf8NTzJ/dA+Qz8Wf2Z/tUCHQVYBEYECAe/CrsKYgkyClwMRQ5zDWYLvQwUEEwQAg4bDeINRA5bDcQLJgkTCLwH2QWdA44CTgJ1/3T8U/sd+h737fOO7wfrPezk7w7truY56BvvKfFu753v8fK19wv6hfqY+8n9NwEyBKkDGAMKB+sJsAg1CJUKagy5DfcNqwz4DPgP6xBaDhsOhA+KDtUMeAzcCrEJZgnaBq4DpwIIAw8Bhv4c/C75a/eA9b3w5OrU6+zvqu3x5xfoluwh7zrwiPCu8Xz0OPd7+VP7pfzB/pABGwM9A1QF7QdGCcAJYgm6CZ0MHA8CDwYOrg1zDm0PHhJXErkNWgsRDQIOpQw8CqkGqgStBQIFcwEy//f93/pd+C/3sPKW7Bjs/e7W7aDpg+ch6iPuOO+y7irwIPOt9ev34fni+hL9cQDUAawBQwO/BjkIOAgCCboKMQzcDNoMqQ3rDloPNA+dD5YQkhDLDvgMewzWDGIMdwkIB5MFZwREA+QBrv9T/Mb5DPiL9Rby6+007MDuAO7E6MvnD+yl7pXtyu648b7z4fX59235Y/u//qgAOAAnAaQEEwdbB0AHlwitChcMawzhDbwO9Q39DfIPiBHOEOkPYQ5LDawN9A2gC5MIygd3B2gFHwMAASP/Hf0S+yj4JPSr8PPtw+6p7/Prj+dx6ZntWO5s7crunvGl8/31yvdh+Ur7Pv4CAHgAmwHABMkG2QYOB24IAguQC14LYQ15D0YOpQ2DD3sQmhAMEJoNnAyTDqkOIAvMB6AHPAiXBkMDJAAZ/kD9Uvu89+PyPe5L7nfwne1A6JDoPuzA7A3s+u1D8Kzxn/Os9bv3+PmL/Df+yf54ANoDsAUNBhQGNQc/CoALOAv6C2ENBw4eDuUOGRA/EG0PAg9oDukN5g2wDD8L+wkzCMcGkgX5AwIC8f4W+7H5hPgi86ruzu/Z8J7s4+jK6lXtE+1P7NPtQ/AN8tXzmfVO93D59vsG/sr+zP8GA9MF+AXeBRsI7QkJCsYLiQ6FDegMtw4LEMIQeBBwD5UO1w+TD0INhQv2CuQKEAk9BrEEHwNZASf/EPzC+UL3Q/KY7jLwU/G+7CHoMOq07THtkez+7dHvWvHM84f2o/fa+Gv7gv2Z/nUADQOoBAEFNAYoCEoJsAm7CsYMYg5ZDpMNcw7rD3MQSRBlD60O5g5IDnYMNwthCrYIJAdQBS0DcwHp/u77K/rr90ryK+8T8ZjwkOu66fTrf+xy7K3seu0X74bxqfNl9fv24/hB+9P8+f1WANYCfgMmBNQFfghfCgYKzwnZC1cOOQ/MDngOTw+lEPwQ8Q8AD/EOfw44DRMMpArTCFcHaQa/BMEBKf/4/OD6mvgo9PDuHe/P8d/uWunV6PfrR+1G7WXtMu5O71fy4vUs9v32Dfo7/FD9T/8fAtoDXAQEBQYHiwnOCpQK8ApyDQEPMA4zDr0PhxBjEOgPOA9QD60PZA46DDcLtQp1CSEHKAXJA2UB7P0q/B376vaH8arv8PCD8JTsGOnM6WbsWO2f7Fztoe5w8ArzOPVT9qD3dPq+/L79rv+ZAsUDNAR8BbMIXwoCCkoKCAyRDl8Pew7qDSEQNBHvD9AQURCaDggPPg9wDToL6QmxCJMHnQaOA+D+1vy8/VP7H/SC79vwo/Lx7hHqBOmq677sxutX7EXt4u5O8QP0s/RM9QD4/fqj/Of99P+VAakCXQScBm4I5QhRCYoLLg1YDTYNHQ8YEQcQRQ77D3oSHxEFDzQOzQ37DdIN/wojCN8GEwaeBBMCUv7z+n35Zvbk8ZDwBPGX7dzpbuoL7Jnrvepw60zsBu/v8aryifNu9VT4ifoU/G/9Vv+vAfkCxwNqBTUIJAmUCKwJIAzeDbsN7gx6Df8PERIGEQAP9Q6dEG4RKg/PC5ILwAzAC58IdAULBAoDRgE+/nH6wPe49Drx/O/w8FPu/OgK6ZjsSe3L6+Trbu1m7xjy8vOS9FD2Qflq+9D8tP2m/64CSgRhBJ8FzAf5CKkJOgt4DIsMFg1hDvkPtBATENgOww/uEUQRNQ7aDHUN4gycCscInAfPBccDZQFX/oT8VfvC9mnxXPA78gvw2up06aPr8OzC657rW+3y7rzwr/Kb8131BvgU+mj7lvwW/+cAIgLBA2QFdAb1BhsIUQp0DEQM+gphDNcP4RBXD2kOmw/+EEYRuA9UDsANqA0ADKwJJwlBCO4FAwOLACr+O/zJ+tD3G/Ij7xnwBvF97WLpieqG7Xftg+yp7cHvQfG98gX1dPbR98H55vvY/Pz+pQFwAmoCYgSrBoEHcQjuCHIKGgxcDMcL6Q3JDxoP9Q4tD3sPdBAPELoN6wx1DXoMpgkSCOkHYwaPAzkBEP8b/Fb6jvjp8+PvPvAS8dbtmuqv60ntpOx37HzuFfDS8GryrvTs9qv4f/oY/ED9wP6IAUUD+AJ5BPQGbgeaB2UJ0gqjC4oLygucDb4OOg9PDtcNKw9YD1gOuw1GDZAMcwuWCRwICAe2BU4E0AGq/kb8hPpP+E/0mPB88B7xGe636qTrjO067aHsJu7F8Kjxe/Lh9Nr2YPgD+9H8yfxN/scBgANuA9sDrgUSCNkIpQiZCW8LZQyHDCoNqA6MDpgO+Q6KDxIQgw7UDGIMQw13DIkJAQefBnkGoQN+ADX/yfxN+k/4WPQW8Cvw1PHR7lzq6erl7bntzewC7vjvrvGM83v1nPZi+G/7JP1x/eP+qAE6A2YDUwR9BqQH9AdvCMgJDwtcC8cLFg1JDisODw68DUQO+w+cD8sMXAvZC5AL8AmyB1AFVgRwA9wA7/3n+2369vfz8xLwgvDX8YjuY+qg62ju3O3G7ZPu6u8+8uz06fXf9rf5IfxU/Uz+iv+KAZEDCgR4BPYFIAhsCREJLAnzCoMMnQyIDHcN1Q5EDy0Oaw1XDhIPjQ1fC6cKRgrUCNwGqAViBA0CZACp/gv8wvmD95Lz8+/r8GHywO8T6xTqt+0V8Nju9O6I8PPx/fT89pX3R/kY/PP9if63/yQCngTyBP8EBgY2B5sInwm7ChcLWQrcChYNXA7UDQoNXQ1vDmYOLw0ZDLILVgtmCpcIpwaOBb4EsAJUAD3+APz1+kj5M/Ss77DwnPIc8E7s4euv7UvvFe8z7+nwzfJe9AX29fdM+aH7rv2w/mz/pwGSBPMEqwQiBt8H3QjxCLoJUgvlChQLhAwcDQ4O0w2+DE8Nrg7lDZsLHQsqC24KyAiQBt8EEwQhA/0ALf7U+1f65fij9JPw5fDP8ibwuus17PDu4u/W7oPv/PDt8hL1S/Zi9+z47fvv/e39tv5wAZMEfAUbBbcF9wbHCBcKygq/CrIKdQrsC3sO3A07DJEMng25DawNZgzECmwKhAooCcgGNgWiA28CcAEO/9b7Evoi+GP0NvFu8Y7y6O8I7Dbrmu6o8JTvau+j8OLyU/VQ99r3o/hx+yH+xP6q/kYBKwSLBGYEcwUsBygIUQiiCGoKbQwYDAsL7wvhDe4O6g0LDEoMNA4tDroLrAnKCYwJ+wcaBvEDiwJ0AfP/EP2u+lL4ovSz8d3w/vFQ8abt9urK7K3v3u9t787wwvIb9IX2I/j5+C37FP7//uj+dQBaA+YE5wRnBWIGYQeaCL0JHAqMCsQKYgsDDTUOdA16DPEMzA2oDf8MuQtyCjoKlglWB5IFyQTsAi8BEf8B/fX6DvlY9YvwSPB58n7xPu1j6+jtye/e7n7vXfHb8qf0TvYA+D356/ta/uH+Uv83AcQDjAS/BCMGTwcgB3IHUgnyCpQKZwpRC5MMOA3BDeQMiQwGDU0NHQ0zDGoLwQkRCEcH5ga4BTcDRADx/kD9k/sl+Vz1sfDC7+/ybfIG7avqG+5O8LTvZe9v8HbyZvWu9tD3ZfnM+/v9Lf+T/+EABAQDBdcEPAV0BsUGpwilCUIJCQoACt4KLQ2uDUUMZAwNDTINJw2KDJYL0gufCyQJjQaUBQ8GGQXSAd3+7Pzj+lL5fPZx8ZLu+fBb8q/t8ukn7GvvV+9f7yrxW/PO9Ff2Hfj7+Tj8VP5IAJEAGwGrA34F4QTdBSoH9QZ6B3YIFQo5CjUJpQlPC5wM6AycDIgM0gzHDJ0MKQx/C54LdgrKByQG5wU7BfkCEgCO/XT7X/lS92bzIe5q7eLwy/DY61Ppcuy+79TvxO8d8qH0vfWJ90L61PsG/pEACAFEAaYD3wXRBb8FOQeYCLAIowgOCEIKMAxMC4QKDwuFDAkNlQ0ODSIMTQweDFULfAoqCokJtAaQBPMDBQMYAef+3/vj+JT2U/S1717rNu758Ynum+j46CTukPBa8AzyOPRS9f726vmt/L7+ogDFAXoBQgLiBA4HvwYbBlYHZgiACLsIIApuCrIK1gtoC1wLeg3mDRUMOgwMDZ0LVgrDCbQJxwnfB80E9gIXA3gBwP53/KH5B/e79a/wk+rX7FvwXO4u6q/pJOx/7vrvtfEW9Br2APe4+GH7Rf49AhUDhAKAA0oFdAbZBsoHnwjQCCUIvQf0CFgL+QtjCjIKjAu2DO8McQxwDOwM2QyvC9sJzAnwCa0IEQbxA+QCRQFF/6D9evtO91r0VvGI7Fbq0u/R8C7q4uc/6oHuTvBb8X/zGvaF+Lj5IPsk/mEBKgMIBBYEVwQtBpAHHwcuB5cILQlqCMgH0AiBCt8KJAu/C6oL5Av2DLsMRwz1DEcMNgrvCVkKTwgIBiEFpwNXAe3+bv0v+4f4qPZf8znul+mx7FXwve0H6Snp3O2t7xTwfPIj9jL49vkG+9X8LgDaA/EEEwQLBO4FUAjkBxsHZwclCQkLBAgVBz0KMQvhCrcKvwoGC5YNEw7ICpwJ3AuHDGsKqAiZB34G9AV+BK0Bz/5O/lX96/m29l/0WfJe7P7qeO/g8ErrD+eR67jvu/Am8aLz1vb3+CX7P/w4/hwCjAQlBRIETwSLBl8ILQiSB54IYwhiCBQJIgnICXgKLArxCuEL/wqbCkMMAw1lCnMI9whGCsgJ/QYABDgEbQQCAWr9pvtk/Pb55PYw80fv+ey77XTxUO7O6bnqFO7F7tLvhvO99Zb3Afno+R38nP7nAuAFngSVA6IFtAiCCdYJdAniCM8I/gkpCkcKgArQCtcK8AkLCjMKNgzGC3gJsQjdCJ8IEAjHBr8FMAVFBC4C3P80/qT99vpa+JP2ivTF8HDuXvHJ8Fjtnut07lPuRu1k8QH1J/bs9kX3F/oK/hsA/AGMA6sDRwRXB1sITQdhCBILZAriB2MIjQrBDKsL0wgPCSYKeAp4CTAJgAkbCkgIxAaFBo4HgAicBQcDSgEJA8gBlv5h/Vr6k/nP90v02/Mx9DvwL+8384fuTOqB7131W/Kn7xb1xPfa9pf6QP5K/loAVgSlA7sDvwYXCMcIywitCVYImgqaC5AI5QgTC74JoQjICGEI5QYhB3kHZQZoCPsG6wMJBJQHLgZuAvAA8AE8AjEBdPvt+AL6e/sD/Ez4zvIL8aj09vPL8m3vzvGJ85bzsu8F8UL5lveh9v/5p/5I/In/QQbEBOsBcQV/Cc4IGAjNCdYLlgqLCwcLZArgCcAJOgq2B8YHAAcjBg8GAQWSBN0DrQR6A2EBpwGm/4MAQQGKAREA8vvF/nL7Pvke+jb9PvoZ8+n1B/hJ9DXyjvSl9Cj3mfBk9qH3pfP8+df6wvmH+yoAPgCUAR0DUwToBnAHRwSZCD8M8gtrB+sIBQ12CrYIMAloCR8IoAiSBusDuAP1Bs0FJwMEAosAsP1bADEEgQEJ+/n5DgJoAFz7Nvgy+sD/svlV+Kv39fv9+YD0cfVV+Iz6pfmY9Uj0Ov00+X75RvmnABD+OPcpARQBLgFgAKEH2wbo/WYEkgp4CfQDBgo6DAUGXAfIBREIZgfRBRsHgwanAlUBOQHgBTkFiP4J/v8FKgAx+oT+kQXi/sD0BQEvAPb5K/or/XL9p/lW95P/Uvzq+FD1L/xm/t/5GPzk9lD+Jfy2/DL7q/4HALD7XftnAlMCjfq//GcE1Qd2Axr/sAKpB2kCiwNCBG8HYQR0B+T+3/8OCOADpQFC/5YInQHQ/E0H9AX3+2f/PwPrAUv6gP7CBBP9WP6J/Ij9LP4j/NAB6vhJ+Lz+LAC7+Hj6GwFH/436E/3i/8b8ofv7Aa0DbPnaAf4EEgHb+1X/mAbRAhb9DQQfAuUCOPsyAY0H1/xsA1D9RQj//+73uQFzBzoAef10AsEBZAOr/UEAsQKxAhsB3f25++kFZAHJ+SH+Kgb7/qL1ov0CBKgAevhH/kgCM/8h/Ib+wP31AfgAUv4P/msB5AH2ABcB2P5XAzMKYwBD82kMVwg2ACD6iQfFB9nvEAx5Bnv7+PpZB50EN/pBA5b/zf+ZAtQB4ft3/1sIcwGI+9//O/5UAosEBwcb98D8ggTNAJT5DAAMDab3//IyBswB/fRyBtgBPf4Y9C8DxQSI+SUBvAEz/Ij/+v6I/6T/6P8uAef6jAMO+okBu/5ZAof/+PzbAi/32v9iBYYBGf0a+rECyQAOAnwAK/wsAAD/igDb/sEF5QCTA6oDrQLQAxP8eQJ5BYAAfAWiAX7/zfmy/58Eg/uSBDn+0AJu+7EA4QLB+YH+YgRV/8j5bvwb/2cEBfxl/Kj9BgNW//f6ffkY+wMDtP3h+3sAafw1/Cj8tgN9AID9NPcQB68CyPOBBhAH4PzwAZL+vAQmAsz8iQiH+loICP56B8n/zv0/BsgDigQN+nQK7/+0//T5hwS6BZADSfye9mIUyfoC8BUC/AvaBFjxe/vrCDoBW/fR9k0GnAid98/0Zfx+BAkEDfs29AMElggj+gDsrwNiFd/06+9XBhANnPId+DYSdQOl9uD/4Qb1AzH5DQ6iBwr57wJWAU0GxwSoBen9Fv4EBw4GTQGX+nwDZQSPA0b9/vmGBN8Ev/9899f+FgOA/fj63PvyCk73Gf4m/cH+1Pnz920OU/+k8fj0jRJx+j3ve/16Ebb6IPMzA2ADCfjT/KsNY/uX+7QCtQUj/cD/YwaQAkL/YQZy/58DUf8FA/gGMgSZ/Ev+vwoF/f8GNwQ5/7P8rf0ICcUBHPduAkf7SgAdBcUBV/hv+VwPKfkX9BUC1QWA/878DvrI+5wBkPuK+1QERAHp+Fv6VgrL92/8EwkG+X7/I/iGCUH/qfnGAAwN0/nz+IAKwwCO/Yz6SAe5A0ACbPoaAfgI0QG0+ZMBGQgp/xD96v04BIEKXvidAfD/2wRJ/cf25w7J96IDTPuXAhn8i/sjBdj+EQUY+jn/TADj/F79JgSk/4MEzPrl+EIJpgV38zP8ag5cAHX6zfDsCD0QgvXu7kcM7REH6fD4lBVmBt/vAfzaCX4AbQIf/5r8Sghh/UD8+f3fBcQDNP8IANn9KwIl/SQANf86BZj5If05CWb6Q/xM/pMHQvpE/XsCxgVeAb3v/gSmCTf5Qv+b/hAI2vsA9NgLuwhN+iD3YgUnBhv9jOwBEYUK3PQK9i0KMAaj9sT4MwpGCz31T/uvC/7+evVJAxgMF/zx8FYXovf+9h8AZRG/9FD4qBCT+pr5Qfk4FWz8Z/bw/KAKhf5tBVv2ffwDDEH9A/4c+PsBkA/yANfqdQnfDH79R/NTB4oFuf3f9y3+dQilBYb5sP7J/qP9yQ19927+fgqF/o/0ogA9D8D6pPEfBRwR2vSN88IOeQMs/cX3bwhP/UP+owDc+sMMs/gkBHr8NwMP/8gCxv0W/QsJx/js/6r9zAgOA/vzggtF+R72Zwi1B0z62/S2EOABoPMS9iIVMf9K8wIAGgr0/7LsHAwEBIH8yfUACfsJLvLt+GEGqwlb9QXzNQzUC0j47+uuCvENHvkL9br+Aw2W854BCwYp+i0BrPuQBmgBavzm/5T/vQTt/MgFEPfVAVwNH/Lz99oMngaW7TAFsAkD/vf2C/pZEL7/mPJjADUHoQC4+gX/AAQp+8P/V/1jATwFrP229j4EHwiU9dn50QsSAB72MwVa/moD6flqAjEC/P3H+JUCAAwx9N7/qQYh+p/9awczAk329AiYBXv03P1GCF4LAetXCh0DSv4M/oIAaQme9or3sg7sBHrx6QYGA9L/c/VVARsNhQH67T8IQARhA6TuWwEDCnv4PQoAAA757vTzCpcJlPVw+5EMu/de9p78fBeh+iXxJg0IBUbzLwL7BU8Cjgd08A4G7gXS/6XyG/1aEb8D0vXs+4ELsv8d+OUGCQC//nn7iAgpBpvraAy2DV33jvbmDCkEKfCa/YoO5wCS71ABdxQe+Izzlf5GCxEGVe7GAf4HZP3K+lQK0vcY/tIEyQYN84H3CxQcBBftePurEgj/5fTr+XsXuvqb95H82AMdAJAC6wBW7ukZhP1Z86L3ExGJA0HzW/2iDJ8JguzC+J8P8Aja7gcGCASG9/D+tQF7+/0HuAL5+r/7Gvt9Bm8B+/YjBx8DR/YT+Sf+ixKP+vvy7/vADrD9yP3N/Bv/ww319zv7Rv/EC/H9uPyO+soNLQKC8IkC0Q3S/bHwgAmBCL763PuT/XcCpglf9BD/4f+zCkP+yfqd/RwAegVp/CX+bgeY/u/13wae/RgBAPaQCqUEEffm97UIbgTq88oAnwp8/vDyWQSACH0Ej+xdCMoH4vuN/5kBCv9W/fwCTwKd/ef+PARO/hsFgwHS/qf7rgH0Bvj+z/lbARX/DfxEBykHEfl5+9cMl/Uc+cUQrf1Y+LcDFQOZ91n9VQVb/in8cAOXAY8AWvx8/JwCTwUnAMX1LwIrBFgDm/XH/fIOowF09yH5IQuK/Tn4LgISBXn/f/4hAr3+ZvwpBUMCXv0O/gMEJgCY+RsKAP04BOT8ev5gAFP/pQRy+wD/FQIiAmT4kgCl/vkIN/4I/LYAh/pfAmr+6wB0ALcFXPty9GoJnwd29973XQeKCf/1yvG6CxYLivf78NEJ5RAE8ZD04wycCy75jvWJA4QJ1AEL+y3/RgWC/MIC7fwFAeoE7P/zAdj82/yIBJ4CVPp1AEgEBvtnAbcC1/zp++UCWgLr/5X57gEAC/fz0vrGB3sDdv7e+HUCjANe/t8AFP+0BHv7GAE7/vwCy/yg/+0H1fpI/HEGYgVK98v+/gVaCGr5avxFBzEHQPeG+YwMtgEY/I7/WgLhAP78ewDh/yUFZQAF+UcE3f94A5z4ZAXNAwv4uf+/DBX6o+/YDJgG4Pkj9QoGkwYDAgv7Yvp+AzwNf/jN81gKzwaD9+T4LgRoDUH7tPL5CcIF1vrI+1sGFggJ9wD9ygAEBo4BLfV3/vYL9gIG8tkEwwWT/1f7owACAOAB3wA39loLjgIw+/X3Xgn7A2D6t/lhAo0JlfMs+ooIpgdf9jP5mA/F9GrwbwxfDZz1VvA5EmsEDPKf9CgWmQN98d36DgwRBq3s1P8dC7oFc/CmBAsJYPxP8iUEew329cb6agINDAT7ge7VDUgIBPjU+EgEOwhw8rICtQk2/jv4C/1+Dcj8EfcLBb4F/vnF+D4Ma/9o9X8CIwUA+2v97APLBLz2yfgID+0Au/TA+gcSw/6F8H0AnAu5A4Hw9AWWAj78d/1pBHUFC/gnAMIGq/uL/W0DRwUp+eT77A3e/Hn64PrRBnwGKv0p8scKvxHm6z/3NhQWBOrt/gJZE2T2WPTzCEEFQvwX+YkMnP6w/ZT43AblBQf6f/3bA8ECyPtUAD4AqgkP9Y7/bwPT/zcEXvvt/3QDuvrYAon8QQNT/tX9gglg/4n2wv1WBx0B4fxl+LwIS/5395IC/Qt5AWr5UvzaBkIAHv0uAgsFVQDU9t8D9P5eAfP7kvoNCMcHsf7G9Zz8uw6B/Vz1DAKrCMb+ZvnkA2P+kQC7BasBr/m9/6ECt/3s++cCEAW9+i0BMQRf/cf8jf2/BVQCAPx9/AcE6QGy+0wAbwAYA+P9Z/+V/K0AHwKFACL8ewEnAQUBEgCm+VAI7P7z/ln5yAI9AggCSf1P9IEPDQTW9OX3xQn+BwL0G/tfDc0EaPF7+o8KYge9+F355wQXBZn7BvdEAAsP7QAe88X7DQg9B130wflxC3YEg/HA+2kLuQBS+I38awHZBg/4RP7DBZX/J/8I9vcF1gdg+232QQWcCZP5HvulAUoGA/vdAJ0BZ/4mAG4BoP/h/9IAW/4S/jEBtAFEAyD7UwCCBTAAJPmy+woPTgBD9Eb/KxCl/MDvAAUnCSEA3vwz/XIBfAGV/fEA3gA4A9P9Uf2dAfECcf6c/vYBZwPb/Wr8jQMfASQBRP9A/6oA0AG+/18BaQOpAS7+/v2xBpkArPx+/5sBAwJb/qr/rgFZAK4BFQAoAeb9wf26BTkCHP7U/lH+IgDgAO7/7ABX/uD/5QFW/3v/rwATAPb/Zf0X/v/+2QOdALb6AgSq/jr/df9s/8j/+wC0/gn95QDh/44Buv0RAdf/A/8H/o39/gDNAS4C9f5l/BMCpAA7/VoAmwE5AWEAtf2B/er/2QH1Atv9cQHDAMz/6f0JAQADE//m/xD/bwBqAmD+af8zAdH+yf9W/l0AqgBAAdT+wP7+AFMB/wCu/3H/PAF5Au38If/nAgP/kf0+/oQBUQBx+5T+bAC2AMT9qv5HAVD/1vtU/GMCfwH0/r/8ff66AEoAmv4v/40Ds/0j/78BHv/5//r9NAVlAt/6nf28A6oD1v12/3kDdACp/OAB7AIbAM79ogFeBMAAFv1KAGwDxgGa/mP/2gMWAi7+d/3hArADZQCi/QsDGQH8/sP+eQAeAxT8s/9iA3P/jfw4/QYBTP+1/RoDYf5e/TT8egCu/1D/TAJS/aH83P4gA+z+Vv7M/2gD3P/4+rL+/wH/AaP/SwCIBXf/3PxlAOcACQMwAAAB1f+IABX80v3GATQD0f7F/A8CgwFS/3r/KAPrAA0ByP+PARMA/ABQBs8Cjf+PAa8ERgGsAOsD5ANn/4P+igPBBBMAIP4OBVwDyf2/+yIC1QWg/fT+LQBa/0b/+v/+/9D5vP76APH4Wvzb/or9h/c9+rz9jPqY+575J/9V+ir2kvtP/vX+d/oD/R8Anv0n/e4AdwKHAfwALQE7BKMEAgORA6wFjwchBPYBNgfECSwF/QQ3CeMI3gQABtgIvANwBrEIcwTOAa0CHgeEAp3+KwK0A0j/MP2W/pv9zfqV/yj6KfV3+an37/hS9Cz3zvXk8yX2Affo9rfyIfal+J/4cvWU+Ef8kPsg+af7FAC4/tj+NQO8A3kBDQQjBgwFAgbUBlgG4QcbCP8GIQYFCSkJSwe5B2wJkwdHCB4IvQdqCJoI5gjDBqAGRgeLB64FVwUkBDoDagBnAEwAiv0Z+iH5r/rp+Ab2yPEP8mbx5/Jl8bjuwO4A7u3vGfHq8tz00vXo9t74dPhw+FT8IgCIAQoCHANlA/gDFAaHBwAJggpYCg8JZQj6CbQKgQmpCewIggd8BvIG9gfxBzAH5QZBBssFBgZ4Bg0H/QZRCNYGhgZXBt4GIAdkBUkE7QKCAeL/Uv8v/qL8IPvJ+Ez2dfX+8rXxh++P74zvDO7T7ibuqfA28Xrxb/PT9Qz3p/g4+5/8zP1r/3oBOgP3BcYGrQeICOcIzQhyCBQJowlsCf4I/AfaBvoFqQVQBrEFWwSgAxgEKwRUBDUF3wU4BToFRgZEB/AHOQh5CD0JyQnoCF4IgAdzBuwErwMzArUAn//y/G35cPfj9kj1DfIU7+7tKu2q7B/tQ+137eHtwu4a8f7yPvUB99z40fpF/Pb98P+zAsEECAUEBdIFawd7CO0IQAlDCEsHzQZ1BswFhwV7BbIEcgNzAykDCgLtAfQDIgX1A9EDFgZpB/MG/gfFCmoM2QtDC2cLkAuMC3kLKgqfCE8GpATEAg8BYP+C/Ev6rvjM9HzvAu367mHvkusl6qPq/urd6ZXrQ+9h8SnyQPRJ90L5PvsX/tEBaQOMBGcF6AZ3CGYJVQljCboJHQmsB7AGKQeLBpoF7gMEAwgCyQBZAfIBIAIcAqkBRwHwAuEFqwfVB2sIEwqwC08MxAwRDqIPaw8CDYAL6gqTCSAIUwaFAyUBw/4j/AP5aPc09aTwRexN6oLqqOpg6ivqiumz6Bnr+e3c8EzzF/XX9s74afxy/28B1gMbBkIH8QfqCHgJagqNC5QKKgkfCI4H+wYKBrAEwgNCAwQCNQBJ/9P/0QBXAXUBegGpAT4DKwVcB3wJ/go7C1gLXQ1OD2EPxg57DgEOyAwCC18JawfcBMACbQAU/Sf5qfYq9VvyDu8+6l7nkeaf6L/pEOhZ54HoBuxm7TTvi/Nq91j5+Prn/XYB8gNKB4UKlgrvCd8KFwyuDFcMpguoCj8JRAf1BPgDhgOZAlABhv9U/T79Df7U/c/9r/9UAWoBWAJcBH0GBAkhC54Mww00Ds8OYhD1Ec4QNw68DDEMwwoaCCYFXALZ/0z8OfgI9efx3u7e68Ppl+eG5ODj3OaG6V7oCugA6zbu8vAA9b34vPqi/aUAPgOkBfMIags6DBgN1AwBDBIMLAxiCywK9Qg5B9gEbAMyAmQAMf+w/kf+Cf2C/P38/v1w/zAAMgFwA8IF2QYGCBoKogy/Dp8P/Q8SEfwRGhHrDhsOHw27CjAIMwXJAjcA//wq+br1sPLn7+DsxOpX6PPkheP65KLn0+jX6eHqKe2B8ELz//ZN+7v+EQE4A9sFsgezCTUMkw2jDewMTgyxC0kLVgqrCNcGIQUIA4oBaQBj/gf9MP2w/Pj6Zvu7/Q//h/7f/s0AewRJCGQJxgiwCdgMFBDpEQ0SSxE4ETYRqg9RDf0LOQt0CPEE9QBK/Qb7D/lY9pfy8u4K7PTpfOhG5abiIeUE6XHpjehX6tXtevGh9cn4ePuM/rkBWQT4Bq4JOAuxDI4NNQ3LCzgLoQtuC5EJuwYzBAoDKAJNAGf+Lv3v/Fj8n/uh+j37C/5ZAIv/hv4tAYoFfwluC6kKYwqgDWcS/BO/EowSUhJLEfYPjQ6NDCoKPgcTBGkAh/zU+d/3rfXz8fjuZuzO6QPodeYX5Ejk+eeb6iPqJurh7VzyvvZT+ZD7qf5oAUcELQexCQALtAuJDAcN+guTCuAJiAltCDoGXAMTAW4ATADj/oX8hPuJ+3D7hvst/F79QP+uACgByQI8B4cKfgo3Cs4L4g4fEjsU4hPKEWMQ9xCzEEUOmAuxCSgHdwMAAOH8u/kt9/X08fHE7jztsusX6eDnIeff5Svmcup37rbune4R8r32yPmD/LL/ogLGBLoGnwjoCUMK+wpmC/0KVQl5BxEG/wQVBHoCVQBH/hP9qvw7/HD73vr/+iv8+f2H//n/7P90ATgFbQmsC/UJTwmoDJ4RshO/EgYSQxGvEWsR8w8ZDtcLtAn0BqoDsQDW/YL7fvnI9qjzVvGN76ztsus16pbph+ji5s/npeyD8EPwj/Dw8yj3L/q8/XEAWQJqBG0GqQdfCN0IDQmDCVEJWwdjBUYEUAM0AjIBj/+P/cj8Ff13/Lv7afyK/cD+HACyANYAVQL9BKcHtwlwCk4K9QusD4kSYxLvEK8QXxGcEWUQRw7pC6sJJwddBDgBSP4B/AX65fci9XXyIfBI7sjs6upV6aPoVeha6IDqEO/K8bPxCvOk9vz5GP1pAM4CWgRjBjIIoQhfCE4IfwhSCGoHtgXdA4YCvQHGAED/w/3V/JX8nvxR/Pf7bPxe/lsAlwFFAtEC4gTIBzIKhwtXDPsNDBAQEaYQNxAhES0STBHKDmUMsgrFCE0GmQPBAPb9IPuH+Cn2D/Su8ozxZfDL7n7sO+rI6dDpieli66jwKvRo86vzvvaU+nD9sgB8A58EbQWYBj0HEgcCB54HngcQBukD7gF0AOP/dP+s/qH9xPzK/J78VPxA/GP96v8bAhoDVQNQBOoGzwmtCzMM2Qu/DKYPThL+EbQPLg85EPMPfQ2lCskIgAerBcYCXv+I/Jz6yviP9jP0x/IP8nTx5e+H7QbrBuuK68rqgesy8CL1FPWp9HP3A/tg/RgAPAMLBZYF1QZ3B0cHrwYxBgoGjAUpBFcCoABy/5v+dv2k/Db8lfzj/Bb9fv3S/jEAaAHjAgcF9QZ5CKoKHwxjDFkMow2iD5kRsRGhD5wORA94DvwL0wnfB4IF7wKcAFH+hPyb+nj4lvan9MPyffE48VbwjO5+7BvrC+vG69rsE/Bp9Hz21/a0+P37Xv5oANgCJQWkBsUHGghzB9QF6AQiBZoEtwIwATAA3f7y/TD9r/xe/M78ov0O/tP+EQAyAUYCgwNoBaIHOQk6CmsLqgyjDaEOdA8BEAwQtQ8FDxQOqQzzCi8JEQdQBLwBjP9r/Un7Pvm59x72TvRY8o3wN+9z7nntU+w36x3qP+oZ7uHy9/SG9vr5dv3W/mMAiQIIBIQFlgeuCHII+gbZBbQEIgOMAVYA2v8F/5r+5v04/TD9gv0q/qP+bv82AeECMQSbBQQHTQiMCSoKSgpYC/IMyA03DsoORA4SDbIMGQzKCocJVgiiBikEXQG3/qr8FPuY+R74/fbA9XX0J/OO8dzvFu7X7Ffs+Otq6yPtp/GP9Tz3zflp/Tz/MQApAnYDGgShBacGfgbVBa4EAwP6AR0B9/8//0X/Qf8r/3f/cf9j/x8A9wBRAZMCZQS0BaIG1gexCLcIYAkhCusJ1QnjCiMMdQy3DA4NJwyiCm4JMAioBhkF6gP/AmIBz/5Y/PD6kPm69/r1oPRG86vxUPB379Du0uyt6pDr1+6b8dzze/fR+5D+VQAzAaAB9gEDAy4EiARmBZQFuwRHA1EBWP8Q/qv9y/1P/j//NQAJAegBdgKRAtICoAPfBF4GzAfoCL0JNAoDClUJtQgCCdYJdwroCmQLjAstC58K0QlLCG4GywT0AgoBcP9O/gT9gPsc+r/4uPZY9HfyX/F+8I7vqu4Y7fnrYe0t8GvybPSp9zb8Mf9gACUBdwJIA/wCLQPAA8wDXgMaAzECbACz/t39bv0L/Vj9XP72/7ABHAPfA0oE1wR8BSEG4Ab2By8JMQpZCiMKuQkSCXkIoQhNCdEJKgqkCroK7wm3CEoHEQaVBJoCeAAU/yz+9PwS+235gPgp9xL1IfN18U/wne8Q74ztQOxf7vjxIvQL9uL5jP1o/zMATgEKAjACdAKnAicDDgPGAj8CVQEGAJn+Y/07/Z/9Av4L/7gAagJYA2UEOAWmBeYFLQb8BuIHoQiDCUQKhQpRCoYJjwggCI0IQgm7CUAK1wq0CpoJ7AfIBaMDWgHD/s/8yfsH+3X6E/oz+Xb35PUm9K/xsO977m7tleyY7afww/Pl9fr4vPwy/xAAWwDwACMB9wDvACABEAH2ANEASwBr/z/+i/1e/UH9vf0p//sAlgL2Az8FXQYAByEHMAdeB3MHowcaCK8ILQlkCY0Jjgl7CW4JhQmVCa4JEAo7CowJPwgZB+gFDwStAXf/oP0C/Hj6O/kJ+KD2XPWI9K/zmPL38Obv4u5n7U7t0u8/81z1A/mw/cYA+AFSApoCFALLABEAv//D/0cAwQDnAJEA4v/o/vb9Uf0m/af9MP86ASwDMAXXBvwHdwhSCOcHOQd3BiQGiwZIByYICAkICr8KCgvnCnAK2AliCQ8JYQh3B2QGMQWgA+UBQQCK/kf8OPrR+Ej3bPUW9MjyhvHR8CjwXO977v/tqO4Y8cXz1/Vd+S3+VgH9Al8EngTIAyMCTgD//qf+cf4v/uP+0//Z/7P/w/+P/2L/lP96ALgBcgNzBRcHggipCRsK3Ak6CSUIIQefBlMGVgYaB2UIYAn0CYIK7ArOCiIKXQm0CF4HcgWkAzECZgAs/uz7Y/rb+bn4yfZc9ZX0YvML8o3wZe9M7prtEO5U77bxxvT+99z7qv/CAdAC5QP8A2oCnAC//0L/hf5G/sH+Mv9W/8X/KQAVADEAjwASAfsBYwOoBCgG+Qc/CZ4JwgmuCdkIzAc1B/EGfgaYBnoHlAhFCdoJUQqmCowKywmKCH4H9AX5AyACHwAB/gr8o/oj+QD4NfdS9gP1EfQa88HxjfAF7wbtP+1O77nwnfII9gz79v7HAAoD1QQEBdgDNgLeAHL/ff4z/l7+3/6R/2QAYQG5AXYBfAEOAnQC1AK0Aw8FVwagBwMJlwm2CZEJLQn1B8wGUAZEBlsGxAYdCIMJdAqtCq0KiApmCaoHwQWdA5sBhP+L/dz7c/pT+W/4P/cD9oT1g/Th8qfxrPDN7kDtze2l7/LwCfNi9/r7Af/mABoDtwQuBJkCfAFNAAv/JP7W/f/9ev6Q/0MAAwHsATECZwKkAgYDgwNkBI8FvAb/BxEJoAnBCboJFQkBCCEHfAbuBeYFoAa5B/cISwrzCtUKTQoTCf4GaATzAfD/CP5I/Pr6Sfrj+UL5U/hP9/L1RPSq8jLxNe9a7Urtje797w3ys/Uv+rL9FgA3AswD2QOvAoYBbgDy/vj9rf2q/TH+NP8cAOEAsAFOAqMC8AI9A4YDIAT/BPEF+wYoCBIJqgneCasJNAmNCLEHEAfXBgMHZAf7B64ITgmJCToJXwjlBicF/wK9AHv+i/zv+uL5RfmK+N73m/eq9vH0q/M78g3w1O1f7XvuYO8u8c/0YPkp/dv/VQI1BKMEpgMyAuoAlf84/nT9aP30/cD+tf+wALQBaQLlAiEDZgO2Aw4E1ASOBXkGcQdhCCAJnwkICgsKjwkJCW4I/QeuB3EHowciCGwIYggTCHgHWQaWBJwCaQA7/kv8w/qu+RD5s/hb+K/3tfbS9Zb0xfI98IPuYO617vruPPGC9Ur5g/waAAsDawS0BPMDnwJLAbz/Fv6G/e39Sv7N/tb/DwHtAYkC5gIKA0gDeQObAyYEBgXlBc0GzweuCE4JuwnwCQYKxwlbCe4IrghqCDUIAgjtBzcICAjuBqcFYgRYAsf/Uf1p+5z5+fcl98P2YPYf9rr11vQy82zxRvCU7+bu4e6C8JnzCfcs+nz9BAGcA2cEVwQDBBIDfQHd/+D+m/6f/u/+yv/AAJcBXwL9Ai4DVgOkA9oDGQS7BK4FkgaCB5oIdgnICekJBQrWCTEJvwh8CBwI2QcNCFIIYwjcBysHWgb9BNACLAAr/gz8EPox+Ov2JvZJ9ZX0EPQS877xfPD37ybwbPAz8SHz+PWM+OH6p/0iAEUBwAEbAvIBTAFmANH/ov+o/+j/SADtAK0BWQK2AvgCTgO2A/wDSQTYBJEFdwZcB1gIMwnhCUEKIgrBCYYJIAl/CBYI3gfXB+oHsAcvB7YG7AWBBLQCygDB/t78SPvM+XP4Vfdc9lX1XvTs8hvx2O9k797uqe7378DykvUN+Fz7q/7MANIBcAKGAu4BIgEsAHb/ZP+Z/9T/XwAaAdEBVAKxAhEDHwM6A3UDywNxBGsFaQZqB34IbAkcCpwKzgqaCkAK+wlwCd8ImghSCEoIIAi+B/YG1wVhBJsCeQAv/mT81vqA+X74Yvd89tP1rfTG8sHwlO8Y707uA+6b72zyIfWl9836Kf59AJoBJQJzAhsCJgE5AM7/yv/x/1gAFQHOAWIC/AIZA/QCLQOFA3UDuwPDBAoGFwdNCIkJUgq0CskKYArSCWwJFgm8CIMIvggiCSsJuQgJCB4H1AVxA8MAY/5m/Gj6l/hv99b2ZPa79cX0hfPT8bXvf+4Z7oXtkO2O7+Dy0fXD+Cj8Y/+tAbACDgNDAwMD+wHdAFgAXQB6AKQAJAETAtQCJwNfA6sDtgOwAwUEcwREBZYGHQgkCf4JBguzC1YLfQojCr4J+ghXCCgIjQj7CAwJxggaCEIHjAXtAloABv6F+wH5Dffw9Uj1gvS385XyPPGT72ju8+2t7d3tVO8R8if1E/jZ+sr9ZgDlATsCrALeAjcCaAECAeQAuADlAEQB5wG1AkQDbQOMA/EDPQR6BOkEiAV9BrYHzAiWCVoKEQsoC4sK6Qm5CWYJ3Ai3CBUJhwmbCU8JfQhFB3EFAAOAAD7+5vvC+Sf43/bD9b302/Ok8pnwru6w7Tvtx+zn7NzuDvIA9QP4Sfs//l8AWwHhAU4CHwJhAckAlACkANwAKAF6ARYC0wJaA4gDuAMqBHwEyARPBRYGDwcoCBEJuglrCvkKCAueCmYKSwryCZsJfQmICcIJuQlSCWQIEAdCBeACOQDd/Zv7n/kZ+PT20fW79Dr0p/Lf8MTutewI7PPr2+sM7X/whvSO96r6aP4dATACjALEAnUCuAHpAG4AaADCABUBaQEiAqoC3gIXA1QDhwPcA24ELQVABoAHxgj0CdUKQAuBC4EL/ApPCgkKJgo1CnAKvwrgCs4KgwpwCZ4HWQWDAn7/3PxQ+jf4yfad9a/0M/Sa80bylfDk7mPteuw17EDsau1x8Af0FvcA+jj9rf/WAEgBxQH5AWgB+wA+AYIBmgESAnQCoQL5AkMDFQMIA30D4wM8BAcFRAaKB9QIDQrhCmoLwwuvC1ULAQuwCnQKgwrEChsLfQudCzILFwpjCBcGTQNGAFb95fq8+E/3ePZd9Q/0J/P58ervc+3d61Tr8Oo/6/7s7O+D8yr3Gvqf/Cb/rADOAJMAwQDRAIIAngBLAfoBpQI3A2gDfgOPA2gDGgMjA5oDQgQRBQgGSAeaCJwJVQr0CloLVgsdCxkLOgs6C1ELmQsNDDoM7wtPCygKfwiJBvYDGgFg/hv8Hfpl+EL3GPbX9AT03/LP8Ifukuyn6+rqx+p7607tlPAO9PD2t/nd/BH/8P+NAP0AGgEZATQBdgHdAacCMwNSA3ADowOhA1UDMANmA/ADpQSYBcQG+Qc0CUAKFwuOC+kLEAzbC4ELdgu2C+sL6wsGDGUMWwySCx4KQgj2BY0D3AD1/Vf7P/mO9xT2qvTf8+LyS/GO78LtguwN7MvrdOtS7PHu4vH+85j2nfkE/Mv9p/4T/43/KQB5APMAxAFzAgwDzQM4BBgE9QPtA/0DBgRNBMwEhgV5BmEHUAhJCQkKfQrUCgULHgsrC0ILpQseDGsMpQzoDAYNugzlC2gKngi8BjsEaQEQ/+n8w/oO+ZP33/Vc9P/yFPFf7h7sH+uW6tTpIOrW6yTuv/Ar87D1Kfgt+qP7ZPw+/YL+cP8JAAoBWQKJA2UExgTkBPsECQWtBE4EhwQ1BckFNQYLBy8I1ggTCVwJfgmECbQJEApQCrAKbQs5DOsMWg17DT0NtgzgC3sKtAjUBt4EswKpAAH/OP0l+y35mPfU9b7zGvGR7qTseOu66j7qwure68Ptb+8c8UXzPvUC94n4DPrb+3X90/4uAGkBiAJ4AyQEagSVBB8FdwVZBXAF8gWOBhEHYAfeB4EI/QgwCTIJTwmQCfgJSgqTCv8KqAsgDHIMvAzPDIkM3AsXCwMKrwjzBuwECANrAXf/QP0Y+934uPav9GzyP/Bt7hDtEeyH63vr2evH7PTtD+9O8PbxvPNH9en2yvic+kb87/1m/9YAPgKPA48EMAXwBaYGAQcwB5MH/gdACJMI+whFCXUJognMCfAJAwoYCiEKTwqnCsoK5wojCzwLIwsCC68KKgqWCa4IiwdXBhcFVgNNAWz/bP1R+zD58PYa9XHzs/H1753u2e1h7eXsuOxu7Yzuc+9h8Mzxk/M29Z32Pfjr+WX76vxL/o//+gBuApgDewR6BXkGGweLBxQIlgjsCC8JdwnHCRYKKwoLChgKNQoPCuoJDQo+ClAKeAqACnkKWQorCqsJ7QgzCG8HkwZ1BREEywKaAer/2v3K+w76J/gS9jb0xfJ08V7wcu/57qHuZe6p7jjv+O+j8H/xyvIu9IT14fY0+MT5iPsQ/Wz+9P+fAeYCBARCBV8GRgfxB7oIfAn9CRsKMQpaCl8KKArjCcYJwgmhCVoJNAlECTIJ2winCIkIcggICKUHRAfYBlIGtwXaBNMDAgMYAsMAUv/m/Xz8zvou+an3APas9Lzz2/L/8XrxQ/E08TfxkfEm8rvydfNE9E/1QvZW96/47PkY+3H8x/0A/0YAmwHdAgQEMwUsBhYH5Qd+CNsICAlQCWkJVAlPCUwJNwkrCf4Iuwh3CC8I5Qd0BwEHtwZzBjUG/QW6BXAFFQV5BMwDLwNrApEBvwDg/8f+zf3e/IH7Pfoy+Tj4TfeA9sv1LvW99Ij0afR59Nb0K/WS9TP22/Z69zD4APnl+dP6w/vT/Nn93v4AAAkB/AH0AtkDjQQaBacFLAZ5BqwG5AYTByEHLwdFB0cHOAf8BqoGXQYuBtgFgAVhBVYFUQVRBToF+QTBBI4EGASUAzYDvAI2AtYBfgHUAAMAVf+v/s794/zq+xL7R/p3+bD4Evjk92r3H/cO9xL3VfeF99D3PPi6+Er51PlQ+sj6XPv3+478Kf3b/a7+f/86ANUAfAErAqkCFwN1A88DLASGBNAEBQUpBUMFYQVjBVwFPwVQBU4FPAUtBSwFIgX1BM0ElQR0BBYExQODA1sDFAPYApQCKALfAYMBAgGEAM//Af9a/tb9WP20/Ef8wfsx+8z6i/pO+ib6Evrt+ff5GPo9+lL6k/rq+jH7l/vo+0X8v/wj/ZT9LP66/jr/kP8GAIQA4QBGAZ8B7wErAm8CkALBAu8CGANIA1UDbgN6A5MDcANgA3MDZQNcA1IDLQMfAxYDCQPiAgQDIwPzAvAC2wKxAnkCKgK7AUoBvQBYALX/Gf+u/iT+rv1O/Qz9xPyN/Db84vu1+4n7Ufs7+0T7gfuz+/j7XPy7/BP9Yv22/ST+o/4B/2P/uf8AACcAcgCmAMwA/AA3AVYBjAH7ASkC+wEEAlICPQL8AfYBMAJEAiQCFQIsAhICCwIcAi4CBAIzAi8CFwIjAv8B5gGxAXEBMAEOAaYAZgAmAP//zf+D/27/TP8K/+3+Df+8/rr+y/5Q/k3+G/4l/iL+GP5V/oH+pv7X/vX+JP9o/1r/bf+A/xMA3v8+/4L/eAA+ANL/yv/i/8j/g//V/9X/UwC0/47/Sv8R/0P/6f4F/wL/Sv9m/3D/eP+C/7r/wv+9/y4ACAAXAFwAbACNAKcArQDFAPYA8QD3APcAIAE9AVYBaAGaAaoBlgGPAXUBRQERAesA3wDKAIoAaQBOAFoAQAAgABoACwAqAA0AAAAFAOT/2v+q/9X/nP+J/zP/Bf8c/2/+pP6W/Yb9Af74/RH+mP0p/vX97f0E/sj9Iv7O/RD+aP6z/k7/iP/G/2gAmACRADgBIQE4AXwBjQGPAe0B1QHVAV8CVAJPAl0CZwKEAkoCVQJCAv0BKALRAb0BdQE3AR8BygCQAGIASgAiABAA9v/0/7f/j/94/2b/UP8w/yX/Gv/z/tT+t/6x/mT+Cf7i/cn9wf2d/YH9hP2l/Zv9uv3a/QT+Tv59/rr+8f5L/5P/qP/i/zIAigCsAL0AAgFKAVIBaAF2AZYBkAGIAXABdgF4AXUBYwE8AS8BFwEJAQUBHAHpAK4AdABnAEIAGADz/9j/u/+//8f/0f/T/8f/3f++/8H/zf/d/+T/6v/5/w8AyP+T/2L/Pf8T/9z+z/6k/pT+jv7B/t7+7/4D/1v/ff/M//T/UwCCAJcAqgD4AAMBOgFKAV0BkgFoAZsBdAFcATABBwGuAJwAVgBlAC8AAAD9/9n/u/+F/2j/Uv9a/0D/If8C/9T+2v7a/tX+zv7Y/ub+5P7w/v7+Jv9A/0D/Of9e/2r/pf/D//3/BAAiAKEAcgDa/6D/zf8gAML/AgACAPX/MwAWAOz/5//n/5n/q//J/sMBlf5RAMUGDQcdAjL/r/4LATcBwPy8AGoB6f52//b+rv4T/8j9HAHp/br+rwCF/uL9if0D/8j+VP4C/kT/r/7z/vz9sv/+ALP/AAD9AKEBHQE3AYsAIwGWAHgB+QG+/x8AiAFeABz+W/9hAeX/xP0fAyEAif6AAHQBLQC++14DwgMYBcwDpwS6BxwIMwaG//MD1QfTAhsAhQExAp0Am/4D/0T/EP/z/zcAK/5dASgC7//X/7MA7wBw/7r+vP+3/zIAGgB0/1wA5gD+AFgAyQA8Aa0BxgFlAfIApQBMAMcAZwA+AfQAdgDNAO0A2wDy/mr/WwKOAIv/twLGA5MG4QaGBRMFDATx/17+2fwC/B39Ovw7/K3/5gF6/wMBkP62/Zn+pP+qABv/+f4I/Qf6q/qn+Rf4yfva+5v81PyH+xT7G/r3+Yn4FPkJ+wH86vtr+iX6nfp3+0T58vl0/JH9zvwf+gf8bfz8+eT6f/vT+0n9gvzR+4/7L/w2/Yz83Pw+/3ABJQMvAGT/HwCp/2kAp/4EAF8BIgLm/2MBZQQQA10COwJVAlACNQLgAoADZQSEBWgDGQNeBPcDOwJGAlkCkwPIBPUCZQDkAAECof9s/oMA1gH+AR8BugAoAg4DGQHAAAkEaAN0AmwC7wL1ASYBz/8O/5n/igIhBAgCMAK5AwMENwRnAIkAxAK1AWICMgCUAl4BYwLWAacA6f+lAHAErwLuBWAI4wV6BowGBAIFAOoAVgJs/iH7WP+rANL82QHeBSwDdQNqBqEEzv+9/i8AOv9B/bv+IP80/kf/mv45//n/zQDzAo0DagMxA1MBTf3V/Ub9UP5C/u0A5gNuAQEADP+0/Pn67f+HAA392v3fAisCpgBJ/1T9DP/aAKMCJABN+4/+EQAf+6X83P1sAZID+wAs/jL/AgE//K77uwAyAtj94f50AGz8hfx8/s3+Mf2i/xcE0gDr+3sAUQEA/B366PobAJ382/om/toASwG5/cz/ywLrA6L/If8nAEf+pf3I+OX60f72+5z81v4lAnL/+P44A/L/qP85/wgBQv/6+QD9DAGG+kv7vwLP/s77G/8yA6kCNgEf/Wj99gCV+6D4Mfo5/pAAUvzL/RsA7wAnASv/ff9cAbkCbAPOA0QCWwGF/lj6jfnL+jH6nPxP/+8CtgTIBMMEsQKRAqwBLAGkAb8BjQAR/lr8Tv1K/nT96f6hBLoFDwaZBOoD0AJh/Rb7Mv6M//H+fwQdBnAFGQMBAHf+BPzR+fH7jf7pAHwDhAK8AwMDrAG1BKUBHwEtBHIC8AAgADH/1/46AEf/yP4RAIf+qAAWBE0DKwA6AEUGwgVgACH+xwF0AgX8vPnv/r0DMwJfBH4DLQI0BlwElf1o/q0D3QL1/fn99wPwA2X9tfwGA8gCUAH3AqUDegSnAuT+bgAEAtX9J/3h/Tf8QP4GAH3/OQKMAyMD+QHHAG0AUf4v/cf9CP+A/s/9tf7+/8X/OwAZAMsA7QJn/3P/3wB4/xr/v/2L/3ICVwJXAKr/Vf7u/J76dPnj/Ir+JwFqA90AYwCFBIwEC/+R/A0AWACB/LT5Nfuf/Rn+Of4n/8UAbgJ7AYf+0f9x/tj9f/56/WT9Sv43ACz/2/+kAM4AO//7+2r+hf5w+tn5hf0p/Zv7PwD2AigBDQORB1UEXwHKAgwA0vl79xn6Avvy9xH8DANbA70BHgKoA8AD4wFAAAcBhABD//X8vvrB+V/61vxe/tEAJQZZB7AFoQNqAeb9efxw+2D4bfx0/6v9wv3iAaoC0QAFAnAEDwOIASABQ//e/ev6NP3k//X9sQB+Ag8DsQRWAaL/UQKJAaD/vwDlAmECYwDN/nIAGgAD/9QAbgQZBesAQQSCBWUBVv3k/UgBQf5E+xkAtwHO/eD9pwIPBF8BUgGGAY0BKAD//jz9zfnX+FT7p/zM/7sBeQLeA2wDiARBAyz8ZPwWAKn9wPyU/DcBMgTOA2EBcv+WAWYB2/zR+8QAWAJOAgcDVgSHAwACWgJ2A+kBJgLaBdICgwEwARP+tf0A/s/+Xf+TAFMAAQLrAhYAYP9pAPABHwCF/Bz+jP9X/eb7gvs4/Dv/hQFfABoAGgL2Au3/kf2N/N/8evpj+Vb8JfpZ+yQBdwMk/s39CQPSAf3/Sf4b/yMCvAIiAV3/4P/K/vH7VPyD/7UBdQV8CCAHagekBrYCGP4J/D38lPpP+2IALgQKBXUE7gThBEoASvx//M7//ABY/Z79oQEVAF38l/rq+v/7Rvx3AEMEHAMTA9ADigR2AHf9EP26/Ev+AP5d/uP6tfyG/tX8m/3u/UEBTQVPBl8H7wfnA8ID4gQi/rH5Hv0g/Rr6Ovur/nsB8gKGBIsHPgczBi8F8wEL/nr63Pnt+nL5PfueAHkDsgRJBLUEXARzAJb8UfxE/Ar67/j0+6r/5QGCAYcBcQRLBeAA5fs+/G38SPrV+vH70Pp2/kYEFATuAT4CLwDX/4f/ePvC+iL9GP0G/cn/dAHvAUgBQgN6AbT8VP+/ANz9Y/7xAagCmQDX/zMBygCt/2gAEgJ7AkwC7AI/AMYBSwPg/7X+f/+/AN7+2/2Z/w0CmgH+AjEG7gIVAjMCpP7d/Ib74vvL/Fz9cf8JApMDsQD+/48Aif6N+5f5wfqo+0H9qf7L/18BvQHjAEwCo/6g+9T/4v/E/xEBnQFOAuT/HP4c/ib8VPsP/hoBCQJmA8wGzwkaCRwGXAS4ApgAnP80/yH/3wD2AcQBhAKTA/kChgK7Av8COwJSAU8BhwDX/qn8WP10/xv/0P7nADoC4QGJAG/+3/w/+234IflN+o/5ovvW/qUANgGtAQkCfwOMAJD8IPxg+uX4o/jT+Af72v19ARAF+gXgBuoHgQchBoICcv/+/mj+Qf1y/Zb+ZQCkBIUGDgVsBAEF3QUXBDkBSwCMAP8BaQE0/z3+kf/GACP/H/0u/rYA7//d/gH+3P1E/ov9YfxN/Nn93f3P/RX/c/4a/aj8lvt9+6v6U/pN/P/9dP+qACUBKQPKBPYCogCD/3P/qP59/d79zgCmA3gFYgaZBpEG2ARXA8oBpf/7/kwAzAEEBOAE+ARkBkgG+QN4ADv/ZP5E/UD8tfvD/QT/Bf+H/lP9bfzG+8H6C/qI+mX7fPx//Q792fy8/R7+xP0i/CP7+vve+3/7H/yD/ZAApAJLAykEvARRA84Ahv9h/pz+w/5E/9EBIQQcBm4H9AciCCEIcQYtBLECRwKyAS0A7QBIAkIDSQSwBH0EowMzAtgAg/+//Bj7fPs3+4/6t/rr+t/6ivo9+sj53fnl+XT6+fuE+xn7VfwM/QT9KP3y/Ob9FgFTAnUBWAOlBmMGjgMoAiUCbAD5/Av88fxy/8cBsANMBswIUAuJCXQHWgfFBEQCjgEnAR0BygFQA+sEFgV+BPgE7QOBAWn/S/17/Jj70/o0+4f7w/tR+9b6jvoC+rz4wfjR+EP39PdN+Tj6y/rA/KMAFwFKAT4E6wTQBJsDTgL0AYsAMP8l/RP+uADGACIBrwPmBJwEPAWcBToFvQRBBL4FOge8BncGzgbIBYsDfwJTAWAAKwC2Ae4BNgH0AZcBxABu/tf7VPvc+fD2Fvay9S/2i/Wh9OH0FPUN9zr3rPeg+0gA1QJ9BX0IdAm6CA0GaQIA/ob6wffY9Xf31Pk9/MEBsgdxCwMNwA32DTcLlgbWAkYAJ/5p/Zf+EACsAUAFege2BxMItwe+B8wGmgMfAHn+QP1V+pv3MvdF+IP45fib+gL89vw//D/6UvcB83Lw4fDS79zvc/dX/2YEOwooD44RnRBHDFkF3P7u+TT0xfCr8Ur0gvlWAA4HJwwzDxoSxxK0DlkI1wS6AkD+1foo+0n9hv/LAcEE3QcXCiAMMQxdCoAJ3wZrAlr9kfkI96j03vKl8tH1avgH+5n8QP0x/n/6rvWR8Xvu2+5l76vyq/viBMsK6BCbFYoUTw+SCD0A7PZW8EPtz+zx7032sP4GB8MNRxLIFP0UURHvC0YHOgIy/Yj6MPpd+sr7O/9DA5kHVguSDUEP+g8GDqsJeAU3APL5PPXs8W7wCfHJ8j72TfrV/Hf+6v4a+yf2VvNA8CXtw+zF8bf5pgBpBycPQhQIFBQRbgtrA8D6z/OX76HtPO+n8wD7DAOyCUYPxhKGFAsTqg73CaQEBP8e+0r57fiO+i3+QwOrCBENExCSEQQRiQ6yCSoD2/xw94nzWPE78Y3zh/e++7/+EgCAAMj+yvlI8krs8ult6QfpWe3q+JUDUAwmFHcYGxkvFRkNtQKt+H3wqesl6qXrhPFD+k4DSwttERUV0xWkEyYPWwlSA03+tPon+Y75f/sM/9sDnAhFDOgORRCvD10NlgmNBBP/FPpY9vvzO/MX9ED2T/nu+w79YP1U/Pv3i/Hp7GTrfepb6sfvs/kqA0AL2xG9FnwX4BPwDIED6/mh8R7s4en+6vHv9fe+AAcJNhD7FJsWGhVkERkM7wXw/7T7bfmJ+H/5mvyAAcIGBwtXDpQQHRF3D7ILwQY4AX37jfaB8wHyWfIO9Gb3ovub/uT/eP6B+qH0PO9H7Gvpz+eI7H32fgChCPkQQhgXGzgY9xDFBwj+JfXO7S7phegE7HTzrvwRBeYM3hNTGHcYBRWeD1UJUgOm/f34sfZQ94b5kf7cAwAI+wzQEOERWhBcDTkJUwOK/A73gPPO8Y3xHfPA9rf6Q/0u/kn+Bfu69EbvkeuT6Trp5+zy9SIAKQl5Ea4XrBloF3cReAi8/or1oO4A61/qjezA8iX8mQQDDKMSuBaTF10VlxDGCnMEsf5Q+kT34PaC+CL8fgFTBtwKKg+DETIREQ8jC7UFcf9y+Vv1l/I18T/yFfU8+NH6gPw0/Bn5wfPN7vXrlOkQ6RTuP/cUAWMKPhOpGZobqBicEXgI6v3E84XsS+jF58LrV/OP/OYFWQ77FI8YoBhzFfsPgQlyAr385fjE9tD2f/mN/rUDwAgfDU8QIhF8D8UMwQd0AQn8S/fm80PyJ/IU9Hb3V/on/Pr8dftU9sfvt+ur6QfoSOkm8K/7NAb5DnQXbxw3HIQXSA88BFX5g/BA6oDn/eh87rv2VgA8CV4Q1RW1GJUXdhPfDZcHbQGX/An5a/eZ+Kn7HgDfBA4J2wxSD2cPMA1mCbkEd/9h+jD2v/Nv81X0+fVG+Cj69Pr++UD1/e5t65Hq0eiO6VDxwfsIBhwPexaxGyUciBfTD7gFA/s98hXsxOhh6TbuxPUJ/+kHHg9IFZ0Y5xebFFwP6Ah0Asn8kPhe9if3mfo0/3MEtwnwDaMQlBAEDscJOgTJ/iL51/Qs8+Ty7fOF9tL4cfq/+6z5s/Of7VTq/OiR52PplPKG/joI0hE0GkseNh2bF+sOUAPp90XvWunU5p7ouu6D914BbQqMEcwWRhmxFzkTVg3cBs0AEvzg+I73SPli/fUBKwZ3Cu4NFg/IDdYKkAZmAWH8Ffgs9XX0A/Um9if4KPo5+zr6gPV47q/qJemK5uzlu+xv+GUC6QsLFo8cXB6wGzkUEArw/mP1Se466WPoRexh88T7LQTDCy8SlBZyFzgV6RCNC00GXAET/UH64/nx+xb/dgK1BdoINgvvC2wKqgeIBN8AMP3S+QL4evef9+X3E/id+BT4+fOe7DnoPOjg5jXmw+vZ9nQCdwtBFJcbFx7BG1YVfwuJANb21O996wrqrewT83b7QwMRCtoPwhOsFBgTqg8HC60GaQOIADb+Bf7k/ukAMgPTBE4GEAd9B+QGLwXfArYA4f7S/ET7S/rz+S76xvmU+Nr2ivNi7ZrnTOZw5kXl1+gc9IT/RAh/ES4afB6OHSUYTg9KBZ/7bPN17cTqOeyQ8Uz4V/96BocMIhHXEuQRxA+PDFIJOgZkA5gBxADkANsBxQKEAywEnQQWBbUEfANLAkABu/8O/gT9MvyR+3r6FPkx+Iz2QvKC67vmmeZF5j/lHeoG9dT/bQgLEfoYqxyTGyQXUQ8fBor9KPYY8ZDuNO9Q87P4av4MBPoIogyTDggPDw5ODLYKxAitBqAFdgQMBJEDGgNAA78CUAIzAvkBIQFVAIr/0v6g/un9YP2s/GL7efr4+B/2DfHr6ajl5OW+5QPlyurI9moBawmyEZUYYRueGm4VhQ3ZBTH/TfnK9NHyL/Np9sz6Ov6CATMFKQjFCWAKjApDCm4KAgutCs8JdQnSCGYH7gXGA5MBZwAp/5n9yfy7/Oj8//xV/bf9yP2R/ST8Efo9+HL0MO3G5rHkjeTU467m1+/h+pwEuAxiFE4Z6xljF+URAAtKBOv+zvrA95H2z/eN+qz8nf43ATcDfgTuBU0HXAh4CcgK6AtJDNwLCwvoCWcIYwYABOgBSwDk/kr9DfyY+4f7bfud++/7Kfyi+yz6Wfil9Qzx0ukm5NPjw+SE5SDrIPYEAZYJIRHuFlEZJhgbFDoODAjKAlH/zPwM+yf7Af2Z/n3+xP4CAGUAnADpAdgDHAavCEALOg1bDmwOKA0+CwEJ7AXKAosAwP56/aH8AfzF+8r7B/z9+xr7GvqY+FP20/Na8FTq2OSn5JPm1eYJ6xn1a/4MBtQMmxIoFc8UFxPcDicKCgcHBa0CdgHoARECxQHOAJz/Zv5g/TX9wf1x/z0CZgWRCIELwA2lDioOqAzTCmYIEQUcAiIA8/6W/Yb8Avyy+3X71vqo+VP4nfZT9NzxWu9Q6zrmFuVB5wrpC+zn81f9KAT7CfoOlRHuEQIQGQ76C+kIzAccCFcHRAZqBrUF4wIOAJ/+mfwE/LL8dv39ALcEugbiCN8LCQ3WC1MKHglkBx8FoQIWAd4ATAAc/7b9f/1E/Tf7h/i+9tj1xvPi8NvumOyy6Lnm5udD6evrOPFs+AoAlAWvCc4NuRCiEKQO1w3KDCUL3ApICgEJkAi7B+EFUgMtAGb+3f3w/Jz88f7hAfgD8QWYBwQJ+QgvCEkHrwXmBFgEAQMvArsBwwDT/9L+Z/3U+3D6Xvk293T0//Lu8NDsJekt6I/oG+kH7Ozwkvb6/NsBRAXRCCgLXwsxC9YLNwzuCxwM/gxUDQoM0grRCQcHyQOOAqMB9/+1/98BqgMxBNIFIgYFBugFOwWQAyYCDALpAFsAw/8h/4H+Ev45/pf84/t4/Db7U/kb+Jz2uPMP8HHt1Oz265fsce+b8iX2J/rk/R4AVQK9BPcE0AXnBx0I1wjTCuoLdguhC8ILDAoFCF4HOwbhBPQEPQVBBQQGpwbaBVEFCAU/BOgC/gHWAND/bf92/rv9kv08/Sn99/wG/T/9C/3q/Fv8+Po5+ZT30PWd8wbypvLy8ufyA/Xf9i74I/qK/Kf9Rv5gAM8BNAJ2A9oE/gUFB7wHagiWCNsI2QhgCGgI2AgVCewISwlbCcAIAQj1BukFxgSbA4QCxQE7AaoATQDu/5z/J/+q/kL+nf1W/Qb9ZPwc/DP7e/pV+a33fPZ/9ZP0A/Qu9P70i/VN9uT37/jA+bH6D/zT/Hr9Gv9eAI4BGQOgBNEFAQdBCCcJyQlrCusKNAs0C9gKcQr2CTkJPQgwBywGKgUfBC0DSgJ7AcoAKgBf/8T+Uv7i/Xn9/Pyr/GP8HPyc++z6S/q7+Qz5X/jj94z3UfdS91P3SPd69+33NPiv+Ej50/m/+q/7lvyz/Qv/eADjATsDlgThBd0Gygd3CAsJpAm0CZQJYAn7CG0Iqwe8Bg4GUAWSBK4D1gIrAnUBjwDl/47/TP/N/lP+H/7h/Yn98PzJ/J78SfwJ/Cn8zft6+0/7cPva+iD6VfpB+iP6C/pV+gv7bPul+0f8n/x6/Sn+3/7N/9kA2gHOAskDygSQBQ8GxgYHByQH3gaoBnQG7gVMBcMEFgSJA+YCZgICAnUBQgHZAHkA//9CAOj/FP8w/x//wP6X/nf+MP4D/q/9XP2d/PD8EP2A/Bn8T/xi/B78Qvxe/Bf9Mv0d/ZX9of2Y/U7+9P5z//3/bwFhApYCEwOdA84DzAMOBEME5wOgA/QDOAPCAqcCHwLeAVgBawE/AegAFQHSAJQAwADeAOv/UQD0AE4AmP9K/5YAq//1/XL+k/6u/V39V/2T/Mr8Iv3V/Pv8iP3I/a399/3K/X790P0j/jv+g/5q/08AiQDaANUBTwI9AoYC1gL+Ai8D8AI3A84CewJ6Av4BGQKHAagBeAFDAQUB0wCIAOL/3f9y/+L+0P4X/+H+Kv7G/jf/7/3w/aD+5P2L/dD9PP0+/S/9Av0U/dX9s/10/Tv+pf6c/qb++f7O/kv/lP+I/+f/iAC7AB0BVgGAAdABawKqAoIC3wIOA80C0QL2ApMCXQJAAhYChQFOAdcAMgA1ACoA2//G/6P/V////qr+l/6N/lX+ZP61/k7+Xv7H/q7+wP7y/vD+QP9y/wv/W/+5/43/OP+P/+j/Zf90/03/XP/F/3j/uv8PAJEA0gDgALoBaAJjAoICvwJgAkYCsQH4AfABoAHQAaQBWAFlAYQB6QCuAHwAuQAAAI3/hP9f//v+S/5K/nX+TP49/in+Cf8j/wH/nP81/yYAvP9J/6L/gf84/1r/wv87/5//j/8A/+/+0P7p/vb+Df9//+D/VwC4ABoBxAERAgwCyQGTAY0BdAEYAdgAyQDEAH0ADgAMAFEAMADf/33/gv91/2f/+f56/i7+6f0f/h7+8/30/bH+xf6a/hv+Sf4U/3/+wv3x/dH+0P5//tP++v4a/x7/0/4r/4b/Sv8+/+n/SwBOAEEAlgBdAcMBuAHCAaEBSQHWAGYAoQDqABgBMAFnAZ4B1wGiAUoBEAGIAG8AoACkAEMA4v+U/6UA9f9G/23+8v4J/wn+9/5M/8X9MP66/pj+sv7Q/b//sf4K//P/QwAx/xb/6P8AAOn/DwA7AN7/QwACAYsBpwFpAi0CcAKsAAsBAQHEAcYA/gGYATQBQgKoAFoB2ABtA1YBKwCsAv4CogDSAVoB1gB1AJj/YAFvAA//B/84AX//Uv4NAAMAZ/8a/wAAAABu/wcBIwIoAWf/DQBAAc//Rf8+ANUAFwEkAWcB+v+r/6oA/P+//pMAxgDm//b+av+HADj/XQBYAOwBIQAkAHcBgP9HAYIB/gFDA2gClwLTAqICWgHB/hIA9QBb/Vz9NAD+/a39g/4t/hn+RP7G/ov+3f97AYECrAF7AZoAOwCg/+f+QQBFAH8AaACxAG8B6wFvAbUAIgCxAOkALgBv/2D/VAAI/wQAHf8GANgA3QA/Acv+VQDm/wAAxv4g/64Aa//2/tP/vv/J/2oBm/9F/wUB6/9+/sP+Af4n/fz83fwo/bL98v0O/1L/+/8EADD/CgCmAAYASwCKAC4AXwDG/x7/oP7y/n3/2v8dACYAwf8p/9f+Jf+o/6sARQGLAY4CoQLrACX/av86/3D+v/4Z/yT/tgCbAQUAuP+UAdP/8/9iAqcAh/8+AJH+0/3V/yz/BP/W/wcAwP6v/poArf/N/lr/j/9//tz8S/3u/Zr80/x+/XT9Tf5O/v79hf3v/Xj+0P3e/W7+Hv/7/kD/VP8g/4//P//t/sD+zP9/ABoBrwGyAdEBBwEJAccAtf8+AJQAmQDPAHIBsQHHAN0B2QFZAQ8CSQKXAc8BPAGo/5wARQDd/pr/q//y/Wr9P/z/+zn8R/p++uP7wvt7+0X7tfvw+6/7BPyU/FH95/2T/3wBRgKrAqgCPwKVAZkB6AIQA7MCswO9BBIEuwPRBAAE7APoBJAEogS6BU8GQQYOBsEFtQU1BTkEzAKPAf8AvP7Z/Dn8kfqT+dX59/ks+Sz6PvrR+Gj4KPhM+MH2rfXD92v4C/gM+qr85v88Am4DnwXnBTEFjgUcBawD8wLoAscC1gJtAhECbQLTApID0QREBqMHhwj8COkI/wh3CEoIBgh3BwYH5gWWBMoC3f/V/I/7avtz+uD5lvu5/OL8Avx7+3/6OfhP9o7zCPM/9YPza/HV8+z2YfqK/dcA2QaNC+MLNQu8CdgHfwR/ATf+zvp0/Kf+gP4D/+sC6AQABtwInAldCuEL/gvGCrkINAfOBp8EegNQA0QCaQEEAjUCewB5AGkAuf+u/ar6Lfo/+kX5ofbG86T05PSY8W7uye758GbzvfUv94388AKYBCIGFAnGCIMIpAhsBWMBT/99/w/+Zvt3+uv8DwCcAUsErwbdCYwMlwyrDKYLaQotCVQGLgSAA+8BHQEPAjkCigJcA1gEAwXQAwcCEABu/aX6rPiv92j2ofWH9rX2ZPQS8VTumezI7Lju4vI++Wr/oAXrCmsMlgsUChwIrwUCAr3+af37+9P6JPqc+cb76/6hAtIGrwqcDuURnhHHDjwNaglxBQsCBP/1/oT+y/5sAFMBfAP9BQYHTQfCBiwFCgMKAH77nvdA9kP1CfTP83T0j/Tz8pfvYu0d7rvwQPMZ+CMBCAhPDBQQBhBeDBIJNwWG/uX4EvcR90X3wvdL+Vz9pgIUBskIQg0WERES2BEUEKwLvQd0BIr/jfwx/Nb7Vf3uAGMEKAe2CS4LYAoPCGwEtP9M+4j38PS28xr0VvVs9i/4A/nm9NzvUO8k7qHsc/CO98/+NgayDV0RdhHYDqwJjwPC/E/4/fXg9af3lPmt/AYAPQLBBKkIpgsjDWAO4g6mDQELRAdHA3wAP/+X/rv+iADmA4sHswlGCgwKgwjgBaMBdfyz+Af2BvUF9Tn13/bs+Hb63Pl59SruVuvj7IPrjuzf9Mr+NAZfDM4Q0BDWDZwKiQUJ/z/6y/eu93r4wPgH+rz8Tv+CAvgGtQrpDDIPCBHND8MLJwf0Aqv/MP6g/Qr+AgFBBVgI3wlPCg8Kmwg6BbkAfPz0+Kf2I/Uz9B31mfYl+Mf5Vfq29jnwvOwo7HzrJuxQ8Yv7KgVKCzARwBPOEbINeweYANr5wPUf9VX1u/Uf+Cn8//+EA+UGhQp2DWQOCw/JDkIMwgh4BUUCRf85/vL+AQHUAxYHWQpXDIUMIAobBnUBrvyQ+D/14POc9Of1vvhY+7n8If0o+vHz2O2r66vseOxd7wX6yASYCvwOgxJfEloOnggkAmn7bvcj9UX05/Q39in6wf7ZAcMEzQlwDcYODhB9DzcN4AlZBSEBv/3J+4P87f7tAo8HBQs+DeMNUwxjCJkD4P51+sL2gfSp9Dr2H/g++in8ff2++8X0zOyH6vLqcelH7Ej23wE5C3kRdBSqFCcRygrCA5v74fRJ8i7yl/Jr9Cj4Hv3wAQQGbwqUDRQPqw+VDnYM2ghHBMkAZ/6a/If8hf4JAmMG9AlwDNENUg3DCpsGfQEt/Mf3/vS+89rzhfWJ+M772f0b/oz6svK163/p0+iA6NftZPm+BQsPwBRuF+0VAxALCD3/YfZx8MTuJvCP8gP2lvtWAZ0GowqDDXQPGBAjEJQOyQunB0wDjP+A/Ar7oPqw/HABLAaoCqUOdxCOD00MAQdUAMj5yPQP8r7xMfPx9bP5DP1W/jP9efdy79bqA+rs6QXsWPSWAHILEBMwF+cWlBIUC40BOfjx8F/tJu6k8cj19Po0AdQGqQqIDTcPxQ/+D+MOWQzTCDYEsf8T/Hb5b/gk+q3+hQRXCg8P0BHiEdoOFgnvAeH6F/WV8VTwbPGM9G75lf2a/1L/XPqZ8gHtrepC6ZnpTvBg/IMHmg9oFVgX/hOPDacFyvtQ863vne9t8YH0OPmd/6cFyQlMDOoNug6WDocNpwuoCBgFIQKB/yz9lfv2+8r+CQP7B5oLFA6UDyQOtQm6AxX9ZPfz8zDyXPLG9OH4Gf1z/zP/6vrV8oLsv+pc6anp9u8G+8IGZA/MFMUWFRTYDcsFpfwl9H7vSe9m8Wb04vjY/uQEgAmWDIwOaA83D+wNcwsJCE4E4QBk/t78P/w8/ToAVQQnCIwLzQ3XDcYLpQd/AvP8+/es9H3zXPQ09vz4APwO/oX9afkS8jTs7uqt6rjqgvDq++kG8Q7AEyEWEhSZDR8G6fwO9Hrv7u6O8N7zLfn7/7QGewslDpgPfw8tDh0MUAnuBeUCnAC7/rL9i/2z/nkBVQUaCe4L5A3+DewL0wcRAt77oPaK86ryVfOl9T/57vyY/57/gvqR8k7tIut46X3pqe8p+68FrQ30EyQWkhMFDoIGTP3W9B3wDu+w8Cn0HPkh/30FZgqCDVIP6g81D1EN1gouB2MDWwAa/rD8+fuG/dYArASYCP0L8g3GDbQLrgeAAjL9Ufgt9Sf0uPSa9lX5QPyJ/j/9oPYS72zrt+mc50jpx/Gl/QEI8A+QFSgXNxQ7Dh0GXfwf9NfvNe+h8GDzzfi8/+gFxQrYDc0PvhD6D8YNogqyBj0DxACm/tL8efx0/ngBdQSQB4cKagymDC8L2Qd2A7L+Kvry9h71S/RF9bj3L/rY+077WPaH71/sgete6SrqVvJ6/dIGnQ59FEgW1xOQDuQGmv269Rzxk++U8Lbzofjz/n8FaQqODUkPtw9+DnQMogkfBi8DdAEPAB3/Q/9pALYC/QT/BtQI1wkrCuUIDAZDAkf+9/pn+ML2NvYi9yr5yPop+974JvMY7f3qHuso6jTsfPUwATkJSw9PFMQVyBLoDD4FKvyr9CrxpPDB8Zz0/vkPAdwGsQoEDW8O3g65DX8LwQgEBvQDUwLoAP//9v/RAGsCVwQZBtkHQgl9CRkI1gWAAlf+F/vf+CX3XfYr9w74OfnV+V33BfLD7AzrF+uw6jPuoPfmAbAJNBAxFaQVixFXC7YDX/t99EnxL/ES8+n2QfxXAtYHdguEDTQOlg34C4sJygZtBMICswFZAWwB4QH/ApYExQV4BoUHCwiWBysGigNyAIv9yfrl+Mr3mPeA+HH5Zfpq+gn33/DZ6zbq0ums6ert7/c0AigK7BAqFXoV+hHGCyQEQ/yy9TTy7fFr87T2BvwCAgEHcgqQDKUNqw1sDEoKJQgkBlAEswJsAb4AlQAWAUoCtAMwBbsGEQhRCAAHpwSPAQD+1/qF+O/2g/Ym9334ePkO+Qr2aPDz66DqourH6inv2/jyAvEK0hB7FBYVahH1CpMDBvwF9gPzu/Jp9Nf39PzJAoMHnAp1DE0NGg2tC+AJ6wfpBV8ENAMkAlQBPwEEAisDOgQ9BV0GNAffBgIFRQIe/+j7VvnJ98z20fYD+GH5N/q++cf1ee+q66Hq4unf6p/wovrMBHMM3BHwFHwUFxClCVUC5vqX9Y/zzvPC9Xb5Kf5aA7AHLQphC1kMXgwkC/0JnQgIB5wFSwRyA6sC/gELArwCqQOGBAMFHQWbBCEDkgAX/lv85/oE+nH5C/mZ+Rr6/Pil9b7vgOkn57rod+rx7aX3bASgDRkTGhbOFb4RDQuRA5P7hfV+8yf0OfZi+VP9hwJOB1wJUQr6CvUKoQrzCRAJUwh6B1AGkAW0BHEDWQIuAsUC1QLZAlIDMgM8At0AJP9f/Sz8f/vX+lj6ZfoS+vD4DPby7zjpwebJ59voH+xf9dkBnwv0EfEVfRbNEn0MuwSa/I72BfRo9KX2hPlr/XMCmwZtCAMJuwnCCUYJ7Aj/CLcIUQgcCFgHCQakBEUDlwJOArABogHLAeoBpwGKAFj/Lf4t/T38efu/+jD66PnQ+Gn1De+66OvmV+hD6V3s2/UUAjgLERGfFN8UORFvC1AE/vza9yz2h/d2+ZX7tf6mAoYFSAaIBgwHxAdeCOkItwkhCmUKZApPCXUHTgW5A88CygHFAHMAYAA9APv/Y/9//qH9Xf0L/YT8zvsR+xD6DfhV8wPsruYD5k/nPOnk7oX5AwXXDP4RnhRLEwUP+giAAob87vhl+PP5yPsW/Vv/EwKYAyYEqgS2BS4H+wi6CssLEAyjC4QKeQj5BZYDNALwAf0BRQKiApMCjQEQAI/+5/xm+8j6APus++37f/uE+tD3M/Jt6mPl0eVr5+bpd/Hw/EAHPw5uEvgTJhKFDeIHDwIf/Xf6W/qn+/78BP54/2YBYQLAAq8DLQUeBxcJuAqnC6sLQQtmCtEIywYFBfQDfAMFA3kCBwJQASwAmf4M/eD7D/va+iD7cvun+/f6fvkT9lPvYOgH5lbneuiz6+r0aQDqCOQOKBLXEqMQGAzyBtUBs/2O+/D7r/wD/bL9y/52AJQBVgKDAzEFkge9CQwLmAtgC8MK3gmNCK4GIAWSBHQE7QM0A3ICPAESALT+Ev3A+2/7mvtv+5v7QPv4+ez3ZfNE7MDmE+Z5587oDe5f+EUDAAt9D/YRGRIIDz4KoQUbAQ3+iP2Y/T/9Pf1u/f/90/5s/0cAIALXBJIH8wmhCxQMyQt6CzgKaAgMBzQGzAUzBU4EPwNDAvIAEP92/SX8Z/t6+7v7tvur+xz7ZPnV9nbyu+ty5jTmXOhJ6ljvYPmYAxUKzQ2OD7EOMwzWCAAFGgIPAS8BYwHdAGv/KP6K/S79/vwR/rUAEAQ4B90JZQt1Cz4LhgodCT0I7wfWB/YHqweUBgAFFAP3AK3+zvyY+wz7TfuT+yv7r/oa+q74rfY68xvtAujc5wTql+sg7wX3OQCoBnUKoQwFDc4LuQk8B8UEPgMAAwkDGAKKAAz/4P1G/Sj91/26/1QCRAWpBzoJyAnBCYwJBAmSCGsIgQjPCAEJTQjuBgkFIgPNACL+BPze+pz6avot+mz5wPhU+Mf2RfTw74vq2+dN6ejrM+6a82/84wMQCDoKJQu1CoQJLgi4Bp8FjAUQBogFrgPpAMX+wf0t/VH9cv6ZABEDXwUOB4QHnAfkByIIgQjtCMoJjwrcCmkKrQheBssDyQA3/n78YfvS+nn63fkC+T34/vYv9Tfz8+8I63bosenZ61Xu9fIZ+roAGQVCB8QIXQmcCGYIcgj8B+IHcwg+CF0GdwPkAFH/nf5m/p3+vP+iAX8DwASTBf4FRQb2BvkH6QjGCY8K0AriCekHdwW6AkoA1/4B/g39hvxd/LX7B/qz9yn1FPO/8TXvUOsA6Q7q8OyY74ryCPg5/jQCngQwBh8HbgfwB80IIgmCCbgKWQvzCZoHFgX+ArgB3AB8AOsA+gEhAxYEkQR2BEQEtATUBQsH0gdbCLUIRgjDBqsEfgKUAEb/ZP7f/Zz9/vzM+yf6Wvhk9j70QvLW77XszurF64Hu0vCx85P40f3bAFECHwMGBE0F3wZJCGcJCAv0C14MEAs4CPcFpwTXAxYD0QJSA9wDKwRIBLADzgKqAlsDQQRMBW0G7gaEBpEFHARVAhcBMwCY/2z/SP+p/mn96vtX+sP4Dvdq9bLzc/Hp7pDtH+5t7/Lw0vPm9137oP3R/rf/0wCIAmgE/gVwBwQJiwriCvUJ8AgECCoHogZiBoYG5gYcB3UGeQWuBOIDFAP8AloDpgPfA3ADggJSAUsAj/9B/xj/wP7Y/l//Gv/6/SD9xvwU/M/6yfno+Hb3bvWc8wfzzfMT9WP2JvgD+jT7n/vi+4L8Uf1o/vr/vwFrA/gERAbQBtAGDwcuBycHfQcGCBEI4QeZB+wGHAZkBZkEugMgA88CbwKjAfUAdwDb/3j/NP8R/xz/Sv+O/7z/1f/y/97/d/8r/+r+Xf6G/Zv8oPuw+iL6/vn++QH6D/ot+kf6TfpK+m36+vrD+2/8QP1r/oT/PgDvAMEBfQIqA9IDYQTeBFYFmAWhBZwFiAU4BekEuwSMBBUEmAMaA6MCLwLAAVUB/wDEALUAwwCZAKAAmADPAAgBFAE7AVkBOAG3AB8AlP8Z/5n+Cv6c/TL9p/wX/JT7NPvq+q/6i/qP+sn6DPto+9X7Q/zE/FT98v2U/kb/9/+cADIBwwE2ApIC/AJRA48DtQPRA9oDzQO5A48DUgMgA+8CtQJ+AkcCGQIDAgQCGQI9AmEChgKkAo8CUgIPAsUBdQElAc4AYQDV/zb/hv7U/TX9tPxS/Ar84PvV+877xvu8+7b7wPvV+wn8XPzE/D/9yP1e/u/+af/k/10AvQAQAWUBqwHZAfQBAAL6AegBygGpAYsBeAFvAXEBhgGwAesBJgJjAp8C2AIDAxgDFwMZAygDIAP0AqwCRQLKAUoBxgA5ALP/SP/j/nj+Fv67/V79CP3J/Jf8YPwu/BP8FPwu/GP8uPwm/Z79Hv6W/gH/Yv+5////JAA+AFkAawBuAGcAZgBgAF8AWgBiAHgAngDHAO8AIQFYAZIB2QEiAloCkALLAu4C4wK7ApECZwIrAuABkwFOAf4AlAAdALH/UP/1/p7+VP4Y/tn9nf1i/UH9K/0s/VL9lv3s/Ub+mP7i/h7/O/9O/1T/X/9j/17/Yf9o/2r/Yf9t/3z/i/+Y/7n/3f///ycAcADAAO8AIQFkAaIB2gECAiQCQgJJAlMCOwIKAuIBuwGTAV8BIgHiAI8ASQABALr/e/9K/xj/4P63/pD+g/6K/q7+4/4g/0P/YP99/43/hf98/3n/cP9q/13/Vf9N/0f/QP88/zD/MP9D/1v/fv+k/8//+v8pAFAAeQCmAMMA4gAUATcBSAFhAXQBXgErARcBAwHlANwAywC5AKwAjQBUACMAAADY/7n/n/+I/5D/ov+y/8X/4//2/wkAFwAGAOj/0v/H/7L/l/+I/3f/XP9P/0T/NP8z/yv/Mf9F/1T/ZP9w/4T/pv+2/8T/5v8SAD0AYACAAKEAqQCeAIUAYgBGAEcAXwBlAGwAfQB+AGIASAA2ACAABQDt/+L/4f/X/9L/3P/p//r/BwARABEAAADz//H/4v/B/6n/sP+v/5//l/+e/5//p/+i/5//o/+n/5b/hf+D/33/hP+J/57/sP/A/+r/9//y//H/7P/r/+7/9v/8/x4AOgBCAEMAPgA1ADAANAArACUANgBHAEsARwA7ACwAGQAOAP3/9//o/97/1f/I/67/o/+l/5z/qP+5/8H/wv/M/9D/yf/D/73/rf+q/6T/kv+P/5D/j/+Q/5z/of+U/47/g/9t/2n/bP+C/5n/tP/X//H/EQAwAEQAUQBmAHcAlAClAL4A0gDWAOIA4QDVAL0ApACHAGkASgAoABYAEQAPABQAGAATAA0A+P/o/97/wf/U/9//9f/4/wIA9//r/+T/1P/W/87/3//R/8r/vP+h/5L/dv9c/1P/U/9q/4D/k/+h/7n/2v/m/wYAEwA0AFUAewCtAM8A8AD7APUA4gDWALUAnACBAGMATwBEAEQAOQAyACoAKgAoACgAIgANAPf/8v/5//L/6f8AAAQABQAEABYAGwAPAAIA8f/l/9v/xv+t/5b/f/96/3b/bv9y/3P/ev+O/5z/tv/H/+T/+P8WAEAAXAByAIMAhwCPAJAAewBvAGAAUAA9ADIANQAxAC0AKAAhABcADgACAPj/8P/Y/8j/yv/X/+T/CAAQABcAFAAoACkALAAqAB8ADgD8//L/1f/N/7//wP+8/7T/m/+c/5b/jv+V/63/wP/P/93/8P8PAB0AUwBmAHoAowCtAIkAWAA3AC0ADwAFAAkAKQBRAEsAMQAOAAwA9P/X/7j/wv/F/9H/4v/o//f/DQAfACQAPABGAEcASABRAE4ATgA/AEAALgAXAAwAAgDz/9//1//L/8j/xP+9/7//wf/c/8v/0P/t/x0AUABHAH8A3wCqAPb/vP/O/8D/+f9dAHQAXACWAIQAOwAxAAcA6v/r//H/2//g/9X/3v/x/97/AwD//xUALQAuAEEAUgBPAGQAVQBHAFwAWgBKAD0AMgA1ABcA8//v/+f/1P/C/9L/2f/T/9//AAAkAC4AJgAZACQAKAAQAAEA9v8pAGAAPAARADcAUwA6AAkA1v8AADYA3/+2/9D/2f/D/7X/w/8KAB4Azv8KACgAJACn/wwAJwAzABQAGwC1ACcAZwBSAPf/UgBhAOv/1f/c//L/FQCw/5X/lv9r//b/CgDA/8f/UAByAMT/FAA1AU4Av/94AJoANgABACMAJgBWAOT/zf/x/9f/yv8RAOL/bv9b/wgAlv97/33/pP8wAIn/0P+//2v/EQAHAEn/nP9u/5T/4v8iAJ0ASgGYABwAEwAOAfkA5P7n/Uz/egFV//T/1P8//7v+Q/+CAO//9wBHATAAuwBQAKf9qv+WAAsAnv/h/1EAawAHABD//P9tAFb/r/71/nP/m//I/3L/af8uAG7/wf72/t//h//a/uH/8f8JAAsAzv+rAG4AFv9lANv/3/7I/9f/PwGa/tj+4QBzALr/KP8yAHX/6wCS/0L+CQABAvEARf+C/+0ABgH2/SP/gAFAAXL/Qv+3AJcBrP+e/5b/pf+t/4P/q/+l/7cBJv/V/TD/5AIeAGr8Rf+NAA4BKf3I/VEDSABo/O7+6QJAAX3+Ef+qAFIBpgDPAFcAEAA0AX//CwG3/0gBTgAnAJ4CEf7+ALj/3wG2/9//xQEC/0oB8P+S/x8A8ADr/xoAS//+/isDsgAn/4v/awDE/xX9pAF+Af/9rf0JBRX/r/ljAPsD2v8u/dEAewIh/Uv+MwKm/6EBFv8jAJYByP8w/nUBQwI+AU3+jP7nAVoB9P9W/10Bef+fAAAAbwKiAor/YfzR/58DHAA1/d395gBTAckAfv+T/woBwAM4/lH9DgBMAqD/Xf///yv/pwCb+yH/qQHkAuX8+f43Bd37KP8DAur+0f1t/tICxAAS/s//LwPm/2r+BQEsAY/8l/6DAj0Bxv+I/QcCiAKJAGv8tP7NAvL/S/3z/WkDcwN/++L/hQECATj+gfw3BQv9Q/5+AQACtvwfAL7/Af9MBUD+D/5JACcALP0hAhv/FgJIAHr8KQN0AD7+N/0EAKoEL/+R+tEAfAKfA7f6W/+VAyr/PgGTALT/Yf9iAij/RwB5AXQCNACl/Rn9VQOpAvn8df1UA5EBIvxI/6wAmwIe+xgA0/8QAQsDm/xk/0wBbQJf+sUA3gQuA5z9XPygAdwC8f6m/TgDOQLC/m/+kAI6AuT8WQE3Acf+WP8t/M4Ho//y+l0BuwOlAjf6hv4BBKcDZ//b/bIByv/DAML+QQDPAvP8OQNy/s8ATP0DAGwCl/6+AAL+jgGo/akEhf/y/SoAvAGDAV8BAPyFACsDXfx7AKMBZQOR/rgCBv9xARgCAwB5/sP/dQESA9P7Xv30AhkEfQFD+tf/FQP6AlP8u/8BBc7/D/rTAgsDaPvB/vT/0waT/AD9WQTKASn9H/uzBcv/df5G/7b9XQSx/jQDfP11AMf+KAHjANn6TQPk/6cBBf+g/7ACAf9UAv78q/5mBN//1f9i/Z8FmgGb/GAAsgHH/lgAlgD5/5QBYvtRA4f9cgGRAM//fgHg/CcA5f4/As38if6zAw8BQv6b/Wf/vgKRAHz9SvtEAk8BVQBX/tv7jQQjAOn/7/2XA9UAnPwXAur+EAGdA4T9Tv1+AkMAPwBq/DP/iwQUAMf9+/2cARMBkf53/fL+9QHYAC/+wwAP/xMBwvvy/uMESf98/779YwFMAKr83wHq/1AAEAB6/pkBJ//G/7IB5v5r+z4CRgDTAMH+UPvxATUGkf0r+BkCPQhYAFH5cv/WBZwBaPoL/58Dvf9E/YwDd/8p/vn9HALgAKz+Zf6iAXQBNvzxAM0Bxv4J/nkAxQC2BUb4Rv77AYv/WgC1++EFJAA7/8b7NwLEBGv87P1vAP8AIgDV/Mb+OQNwAXL/l/8r/ZAFzf+7+isFcwBFATb8uP8wAmH9ff/oAC0Dav7y/hkDZAHM/Xn88QOzAA0AwP7e/ygC5/4FBEn85fwTBV4BmPqn+WsF9QIu+i4CRwIW/jr9UAEk/5P9hgESAjX+ov9HACsCIQD0+x4CJQTS/bL6uAS2AXL+CPpzBRAECft6/i8CCAOs+7/+UwB7AcT+j/5mA40Bn/u+Aaz/X/0aAhQBXgA7/6v9GANU/jL/wf+s/lkDt/2j/Tf+0QHl/5L/Sv7+AHn/i/2M/pEC0gGM+0T9GAFJBKUA7/st+kQKVgI1+4T8jgPUB3T3Of/4BHsCdft8AgkE5Pz8/EUFiwKw/Lv/pADA/x4AQQG8AWcADfxTAewBXQP+/L0B9AK0/h39M/9CBycDG/iM/10IW/lH/nYDIQTC+4H+owTq/RX8ZgJC/2oCLgDD/YkAdv5uAub74QIoAToAKf0k/0IDkP4iAZz+T/5vArn/jgAy/s8AdQP+/nn9NP+n/1f+2v8Z/xwD+v9BACUA4QIgA1H96fkxBDEDFP4a/80B2f1d+OABKwGAABf8tgBcA+sDcfxw+VsCvwSL/ZD7KANPAR4AtvvKAMEBzwBZ/6wDzf0o94QCIgJS/1b/OQKSAGD/Sf5I/3//Hf8eAwAAMvzn/7UBVf+9/3T+AAP8ADj8Nf9J/+wBUv6PAM3+WQKf/+z/3f/8/xkFzfliACoC7AIs/B8AHwP7/MUFD/2J+5wB+AK4AP77GwEGBH3/uvyC/EsDcAUX/Jr8dAIMAsX+u/x1/+QDNgP++0X4lAPaBc/55vljAxMEMPqS+wAEpQBa/N3+3wGOAO/6fwNHAn39BQGA/XkCaAKnAHr83wG7BYf/Gv95/zoEbf6SAVEE0P3b/uYAmATB/9P6cAF4A0H/Xf/pAjn+ggI/AHwAsf2X/FoHdwC1+ov+1gd//Kj5wgC3BJ3+Uf3dAt//CfyR/UUEUgDm/qL9ggGiAWX/ev5y/50DfwJk/Yn/KgL5/00DDwE7/38CPwJfAIACsQLlAa8AIgHLAXL/QwHL/0L/ugCpACMBsP5R/gYCov86/ur8Vv5jAvz+e/+Z/Fj71f2U/4UAUf1f/DkATwHt/Nj8ZgBBANX9Ev4w/nv+/wIF/gf/EwSf/UQAxwGXAfsAPwFAACsCnAPEAqgDRf+uA2sDcQECAYj/BAQjAzECRgGT/qcDcAER/tT+MQB7AAL+afw7/Ov81/xD/jz79fsG/KP8oPrz+7b8xvqQ/mX8jP7A/2785P3r/sr//AAYAKoA8gAGAY0BYQI5BFcDGgTaBSYFdAOFBZMFhQQpBW0DHAUyBAoDlALIASICSgHeAswB1QBj/kv9svzv+r380vlD/DT79/ha9sP4VvrA+Df8iPf5+2D8yfnP+6v8RgAh/2n+y//ZAIYBLwDUAuUDqQG/A/wEpwLEAvgDHgeDCIoGLQWVBcoFQAVnBBAG8AfYBCQDyQKFA4oCmAKnAGEC3QGiADn9mPpW/Dr3cPtx/HH4R/ef9h37lPYG9Vn7pPvD/LP3NPth/c79Iv4M/u8D7gHiAZQCtwPkAXYDkwYlBqECzQHfBKgFQQgVCcEEtwaWCG0FpwSdBKQIbAgbB0cC5v/QApEEHAG2/18A8P/f/9/7h/q499/5jPfc9ljyaPT0+grzo/SK9rD4xPY4+GP8DPv9+7/7F/+KAW8AgwAsBLYFdwP1AOAETghSBPUEfAfnBjAH2QiECFEG5wdSCKkGhweYBu4GmQXlBG4EGALjAuMCyAIIABP/AP+y/EH8dvkz+SH3lvXN8hPx0va89pbxcPIW+dH16/OL90f6qPy3+1H9wv7o/wcBEwLiA5IC0QR/CZsGPQNIBkwJAAm0BowG6Am1Cb8HfgcMCKkHTAdSBk4GLwYSBZ4DuAEbAgQCwgL5/wn/tv7l/Tb9s/nO+NP0EvT28s3y5/MZ8/PyofMV9v/zFfN995X5NfrE+0j9RQAHANQASwNgArACHQhFCvIG3AWeCQUKLAcOCOcJIQsRC7UI2wcTCg8KwQYUBnwIFgfFBJwDDQIuAdgBjAH//nX+BP+K/af75viX9Rv0y/H176zxk/QJ81vxpfN89DLz+vQH+QL61/uK/kn9dP5JARsDrQRRBZAF/AXQCAwKBQgtCMoKOgp7CJwJKwowCYMJxwrkCcEIDQp8CEUG0QXhBKYD7gGHAnAB9P+l/8X+jf3k+xT6Lvea9RbzD+/e7UTyyfM/8bPwe/Lq8v7xG/S797v7Av5p/gT+Af9+AWAEZAWYBW8HAgqICfoHfAj2Ct4Lngq9CtMJBwsGDIkJ0AgjC5ULAwkoCMsHCAbWBFADswFOARUBAACh/hj+1/y++gH4nvVV8/vv/esG7HrxAPMb7yXuEvF18o/y//QJ+Mb6r/21/pH9uv6LA38GxQb1BvIHYgkoCqsJOQnACosMvgsUCjEK0wpOCjIKlgpkCiMKhAk7CNAGGgbJBAUDYwKjAVEAOP/H/mD+Ev1u+pb2mvR78tPtNuqh7JfxTfHh7YTu6PDi8DPyl/XU+Vr8tP3Y/bn9KgCxBJ8HwwfkB8sJCAuaCSIJMgtyDCkMDQwjDIcLjArsCgMLpgt/CwYKKwnOCJoIhgbzA8cDQARvA0QBDv+D/tr95/x5+l73wfQP8rHs0+hb6wXwo++W7A3uqvDv8ITwUPQn+Xf8FP6q/sn+twC2BAYHYgdtCHgLtwu2CmwJCQp0DAAMdwvpCzYM5Ap7ChYLYgrXChQLyAm6CB0IwwawBD4E2AT1AwgC4v/z/cn89fs9+rT32/Rj8mHu8el36N3rm++l7Rfsyu6w8UXxv/HW9dj6O/59/xcAEQFFA6YGogigCEYKQQxQDKUKdQkACxMMNAySC+0K0gsbC90JHgpGC3ALsgoOCjQJkgiuBpgEcgTPBAQEfgEw/yr+Kv1p+334EvYl9Ibx4Oum5hvoyewl7pHrW+y27/bv7u9n8p33gfwI/+H/bQAZAlMFLghECLcJdAyhDTsL5AjWCQULkgyLC3EKewsCC4YJXwiiCS0MLgwYC60KyAlfCPgGxAW4BToGMQV7Aq//kv0v/Mj6Tfkt98r0gvC66jjn6+bW6SXsmuwN7KftTO+D7s/wrfaB+yf+yv/VAMwBAQTXBuwHigkuDDQNMgtsCQQJwgkpCysLxgrWCpUKUAk/CE4Jrws2DfAM1QsrC8oJtAfPBowH5wc9B6kEGgFN/539c/t8+RL5a/aJ8VntKuhn5YnnMOrn6SDqwOwh7sjsZO6C82f4UvwC/2UA8wCrA8oFYgafCKsL8QzLC2kKEQnBCMUJRQpNCvAKmAtwCtcIdwnTCmwMmA3rDWUN4AsQC3wJQQiiCPQIuwdDBXkC3ABd/4j8LvqV9/70TPIV7djm++XE6HPoXehq6hbsIOx97CDvlPK291T8xP1I/yMCwQN9BIcG4QhRCrUL6AvQCbYIjwnRCe0IUQmWCmEKkAluCQUKoArSC+UMVw1fDQUNqQsPCtIJOAp6Cb8HJQb+BN4Cyv9h/aX79/nl9nHzj+7f6RjnE+aS5+3oluku6kjrx+z/7ObuyfRV+VH8Hf8xAH4BSQOLBTAH8AgXC9gLzgpqCR8JPQmfCRcKbgqGCnoKxglnCe0JQQtZDFANiA36DEIMigvzClMKgQqhCeAH/QU7BAICc/+1/Xv8HvrI9ivzhu/k6oLnMec46DPpXumd6mnrn+sh7Wnv4/Kt90D7l/0n/4UAQgIaBCUGhwcJCb0K3govCQwJjQkUClwKbApaC2sLwgo/CpgKKgscDE8NhQ1UDUYNPwzWCkcKDwo/CbEHrgZnBQ4DcABY/gz9Z/uF+Mn0Q/EN7k3q8ue95x7pbepz6gLrCOyK7c7uEvHD9P33Pfuz/SH/XQAOAvMDtgXMBnMIAwq9CTcJMwmmCR4Kjwr3CiULZQvBC80LxQu6DMMN1g2vDZMNWQ2PDFwLkAr0CSMJ5wcgBlEEywJKAS//kfxK+sv3rvS88a3uKutp6ZPppumh6VPqcOvm64fsge7z8J7zv/Z7+af7vP32/wwCkgODBaMH5giwCaYJtwkuCrsKAwsUC4ELfAuqC2kLFwudCyUMjwxaDBkMFAx8C+sKtQo6Cp4JSAlZCM8GSQUDBGoCcABk/vP7rvmS95P0RPFr7hjsI+sj6wTrzOr16hTrTust7Nzt9+++8tr1QvgO+hD8d/7NADID2QRtBt8H8wiXCc8J9AlaCukKAgssC1sLKQsUC1kLsQvBC60LsQtqCzELHwsIC94KiArGCfYIXQh1B6QGtQWHBNUCAwHG/tr7Qflc98T0BPL076Lum+1+7PzrQuvN6jTrret57GLu5/AA8xf1KfdF+Zv71v3//70BmgOWBQwHBQi5CJcJQAqmCjELtAsGDP8L/AvuC98L/gvfC/8L8wuJCyIL6wrLCqMKTAokCtcJGQlqCIEHWwYoBQcESQIXADn+rPvM+FX2FvR58SvvXe7B7W3smOtW6xvrcet57K3tWe+k8anzM/Vb9535mPun/cH/pgF6A08FiwZTBwIItggpCaEJQwrwCkALTQswCxsLOwtTCzoLIAtTC4ELawtYC2MLZgtlCwALiwrICeQIHwgQB8sFVwTTAvMAe/4J/Mz5aPfO9H7yJPBe7mntbuyB62rr+utm7H3sJe3U7r3wsPJm9Ef2Xfhs+iX8tv1x/4UBjgPzBPcF7gbeB2gImQgBCQEKwApFC1QLVQtzC40LcgsiC3wLMQyDDHcMhQydDGUMBwyTC/wKgAqfCXkINgfDBRQEOQJaAHz+g/wa+nX3m/Rb8izwne6/7afstOtW6znrWuvM68XsEu6Z76Xxb/NV9WD3UPkH+7H8Cf9hAREDiATDBbYGkgcnCMEIZgkUCrIK9wodC28Logu4C8MLzAsbDI4MswzFDP8MDg3rDLYMagzMC1kLzgqbCTUIzgZMBYMDbQEy/wj9zfqH+J/1xPKH8E7ub+xr6x/r8eqz6sTqR+s37I7tQu/g8A/zd/Ul99H45foV/Qn/vABhAhUEbwVlBgkHhQc/CEQJGgqSCsUKvwq4Cs8KDgsNCxQLewviCykMVwyLDKYMmQyxDL0MrgxwDN8L5wq3CWQI0AYIBT0DegFw/0b9r/oe+KL1NPO78FTuoOwX67DqdOof6lfq4Orq693sE+4u8HjyuvTD9mH4M/pa/Ez+5P+VAXMDEQVFBjkH6QeqCIIJAQpkCvEKVgtiC0cLLQscC2gLvAvRC+wLOwxbDG4MiQyJDHgMbAxnDB4MygvuCnMJxgcEBtcDnQFz/x/9/foW+b72AfRZ8R3vYO0T7AXrJeq86bXp2+kx6krrD+237n3wjfLE9OH2Avn8+vz85v7lANQCUQTyBX8HmwhnCToK3gowC4cL0wvaC/ILGAwvDCgM6wvwC8sL1QtCDG0McgxeDCsM4gu1C4kLXQv4CjQKIAmkB/sF8QO1AZT/aP1k+zH5pfaM9Cfyse+27V3sWevH6nfqGOo16sDqi+u37GLumfDQ8rT07PYV+Q77O/0D/7gAvQK3BEAGWAd5CG0JBgqICvAKGAtbC7oL9gv2C8sLbQsiC1ALbgtpC5MLswuGCz4LKgsfCxkL+wqdCtQJ/AgeCPkGkAULBH0C1AAO/xX9+vq9+LT2nPR58pXw5O437dvr5erW6uLqK+sl7Eztae6F7xbxDPMF9dr21Pj4+hr9Cv+jAFoCKQSVBawG2wcbCTYK6Ar+Cv8KFAssC+UKvQrnChELBwvDCnsKWwpgCkEKUwqvCt4KvQqECg8KqAk0CdsITQiXB6QGTgWeA9MBbADi/j/9kfu/+fX3C/YV9Pzx3O9a7n7tB+2v7HHsZuzI7I3tU+6i707xL/MA9dv2sfio+rf8ef7b/2EBUAPYBAEG6QbHB7cIUwmgCQUKbAq+CtgK2ArCCoMKewp5CokKkgqUCrgKygrjCtMKmgpOCv4JcgnDCDMIgAfYBgoG7gSuA1ECxQAa/2r9rfvt+Xv4vvbj9GbzDfJe8HnuAe2j7PPsQe2T7fzt8+4r8D/xjfJm9LL2+fg2+yD93/6aAOYB9AIfBKUF6gbVB6cINQmUCcoJzQnnCUYKfAqFCnUKNgrCCUUJ6gjPCNgIIAlOCUEJBAmFCPgHiQdNByoH8AZmBtIFAAUGBOsCuQFwANv+Pv0m/CD7pvnI9yX2xvSB83/yLfFL8GTwS/C67/XvePAu8cPxsvIS9LT17Pfs+Wn74Pyp/uP/BQFrApEDtASsBVUGkQajBvcGHQclB1YHpQfjB8sHYgcEB/gGCAdCB4kHmweqB8YH7AfmB+0H8gfvB/wHFQgTCO8HZwetBv4FWQWvBJIDTgLPAET/ev2o+wH6rvh29xr2z/Qv9KnyEfHr8Gfxv/Ed8nzykPJG80H0QvVH9jv4l/nM+oz8q/3u/gwACwEtAikD4gOXBP8EZgWrBf4FRga6BjcHNAcoB+4GugZyBi0GGgYwBncGuAb6BiAHNgcyBx0HPQdrB7wHBwgyCDgI6wdpB5EGlgWwBKoDjgI2AYT/uf3h++H5OvjO9rb14fQr83XxrPD67yXv9e918ePyIvT19Av2I/eY+DL6vfvo/QEAMQEDAp8C7gI5A0YDaQMeBJMEawTrA2ED1QKkAtUCJgODA+0DAAS5A20DSQOaA0EEMwU8BksHJgi8CDMJpgkcCooK+QqSC+MLgwupClIJjge+BQIEfQK2AA//uf23+/D5bPdj9UrzuvGX8D7vUO/h7tPtBO5S8EPybPQ19yX5o/pQ/Cz9Ev6M/3gB3gIsA4gDlAPfAgACLwFwAJoA8gAZASUBRQGkAbMBFwI4AyIEzQSFBUQGuAbdBvwGUQdyB6UHvwfeBxQIHAhICKYI5giNCMMHhQZ4Bb8E1APeAjsC/wA3/639C/xV+hT6P/rZ+Vz5Y/iu9mb02fKi8R3xDfLr8vvya/V1+PL4ffpB/J78i/3w/1cBZgGpAoYDjALPAWsBnAHbAXcBMQFpAFoAggDr//z/AgEqAhsD7wNpBA4FhAU5BV4F3gU5BjoGeAa8BoAGjgaiBoMGEAcECJgIhgjVCGwI1AZTBTkEqgPAAicCagHr/23+BP2l+oL5Mvmd+Fn4SPcA9uPzmvG579Lu7/CV8x/1ivfO+s38QfwW/fL+sP/8AEYCcAMGBI8DtAKKAXf/bv4D/yz/gf7y/rf/Mf/D/q//twAyAY4CSwSeBSYG0AYfBxUH/AbNBuEGYwfbBxYINQhuCHcIZQixCJMIKghECP8HeQZiBdgDuwFQ/1/9bvxt+4r6+/lf+Yz4JveR9cD00vPI8vfxFvBk79fxsvS99Uj4cPxM/lf+4v6q/w4AwADCAOgAsAEGAmcBfABj/17+//2g/un+af/PAKUBGgKmAq0D0QM0BGcFaAZ3BtEGEAhkCBYIwAeYB5kHjAeWB5YHvAeYCAwJBQnaCLIIXghNB5oFNgTgAj4Bb//y/Uz9APxS+pj4CPe29Xb0pfOf8xjzYPLm8Djv+u5C8GDzMvVL+OL8Av+E//L/6ABVAf8ATQFLAs4CbANLAxMCBgHj/6n+Rf6S/m7/dgA3ASsCfgKSAtYC3AKWAy4FfQY6B/gHEAmDCAoHbQY2BmQGxQa0B5oI+gjRCJAIDAi8B8wHqAcoB9cFNwTjAZL+pPvy+d34j/gG+Rr50vjy91X29/RF87HywPI08bvwYPMK9jf3xvhs++/96P4L//T/NwGrAaMBmQEIAuoBkAGPAE3/G//t/nv+iv4B/8n/ngAtAd8BhwJaA/YDRgQGBfQF3Aa3BxcIeAjqB6YHTQe3BmQGQAbuBkYHqQcECLkILAnACAQIEAdlBtwFSgRjApEATP6l+4H5hfgi+Nz37feR91X2rPTp8kPxGvBw72TvfO/f8Wz21Pik+rn9GwB3ADgAlgBEAaoBMAJsAqkCmwKbAWUADf9X/iT+tP5g/1kAzwF2Ak4CdQK9AsICQwMABIQEYQVYBsAG9AYkB2AHGgfrBhgHWAehB7cHrgdBCOgIsQhaCAcIiwdmBiYF2gPpARcAc/6F/LX6P/m4+K74I/iA96v24vWr9JnyNvHg8ADxJfF/8YzzxPfv+mP8E/9bAWoBbABXAO4ADAEdAlYDlQOaAxIDMwHg/rD9Vf3j/fz+XQBSAiQDJQOyAs0B7gHAAigDgQRuBqIH/wc1B0cGmQVoBaIFUgapB9QIPQmmCGgIaghVB6AGHAeNBwIHiAUFBDgCx/+U/RD89/pC+gb6wvn5+E74mPcd9m70M/Ml8lLx4/AU8V7x5fKg9q/56Pti/rQAeQEYAQMB0QCoACcBGAF8ATwCwAG6AMH/B/9P/oL+e//SAOEBAAPbA5gDWwM4AwYDtgODBG8Fwgb4BhsHBAdWBkoG9AXNBUoG/AaWB6wH/weHCLEIUggeCBIImQdcBqgEtwKYAHP+tPwu+/z5jvmL+Rn52fci97r2AvZz9HbzLPOW8t3wePDO8hz1M/eB+Rn9UQACAVsBhwE0AcgANwC4AHwBzgG4AVsBMADp/ov+S/5j/oP/NAGEAqADdgSSBMwDGwMlA1IDxAOABMAFIgdgB/4G3QahBgAGJgUWBaUFVAaJB44IcgkHCqkJowgPB8sFwQSaA0wCBwHj/27+ifyS+o752Pjd9yb33faM9rT1mvST86DyAfLC8Kbw7PKm9dX3Ivrf/Ar/4//d/8T/ev+w//f/9P+MAKAB1QEUAacAKQB3/1P/tv9vAJABJQNGBJUEtASeBCIEeAMQA14DAQSGBEMFDAbaBmkHcwcbB9EGkAY2Bj4GCQcYCNkIbAmyCVMJDAhUBo8EGQPYAYIAOP9C/iP9pvsM+sH44Pfl9vj1RPWR9M/zDPND8sHx/fA18aPyG/XU9/r5fPze/tb/6f/j/yEAiQA1AGoANgHDAcwBdgFYARYBpgB7AKEAHwHXAbkCfAP7A0sEYgQiBMsDtgP+Az0EiQQ+BR8GqQb4BhsHDQfNBo4GrwawBigH9we1CCAJRwkBCQAIbwarBPwCYAH8//3+Nf5//Yb8TPtR+h/56PfW9uX1zPSJ83Ly6/GC8fjwJfG08oz1rPed+S78Of4m/y7/8f5R/5z/lP/P/2YAMQEsAd0AjwBSAA8A4/9ZAAMBywH1AuQDVgSsBM8EqwRqBJ4ERAWwBQAGnAY1B4MHcQdEB2gHXgfmBrsGJQd+B5wH3wdOCGQIZwjqB3QG1AQ9A5kB4/9p/lb9Zfxm+4r6cvlH+Ev3MPYN9evzB/N58rjx2/Cr8JDxTfNk9Tv3xvlg/Jj9N/7Z/nL/pv+T/8H/kABQAXIBPwFEAUMB9gCWAIUA5wBbAdABfQJSA8wDBgQhBDAEWASRBNcEQAXbBYgG+wZAB4AHgAdtB1UHTAdGB6gHhAhVCcUJKgr5CToJBQhwBr0E+QKZARgA0v6b/ZH8n/tn+hv5y/eC9q71oPSM8+7yb/KZ8enwavHO8uLzTPWG9z/5efp2+1L8OP3G/Ur+CP/D/4UA2wDcAMoAzACfAGkAiQABAWYB3AGFAhcDkAPrA0oEmgQOBXUF5AV7BiEHoQfaB7sHpQfCB5MHWAdmB2IHaAfIB1kI/gh8CdIJhQmvCLIHVQaiBNkCKQG8/6j+YP0E/Lz6c/np95/2afXD85byDvIu8Ufw3u898CLxZPJU9P310fcH+h37xPsU/UP+6P5r/zAAFgGuAcIBxAG4AYoBHwHmACQBhgEdAuACiAMABGAElARwBJIE4AQ0BbcFIwbUBjgHPgdeB2oHbwetB7wHKAjgCFgJvAntCRoK/gmVCdII3wfzBpcF9wNPArMA+/4y/aT7Zfoi+cP3ffaC9YT0QfMg8obx5vAk8O/vAvFI8p7zdfUi95j4FPr9+lz7a/zY/dX+Zv+aAKEB2AGiAWsBJAHcAMkA5AAqAbMBaALeAkIDtAMFBC4EfATMBIIFFwadBiYHlgf1B/cH9QcyCGUIsAgbCVgJxAlbCrQKmwo0CskJLgktCNgGiQVeBPACQQG7/z/+l/zs+ln52feM9lX1DfTj8t3xyfC77xrvDe9j707wv/Gm83z1avfw+Cr6gvvU/LP9S/6d/xUB8AFrAgcDhQNOA8sCjwJpAm4CcQKXAgYDcQOUA5QDrQP5A0YEjwQRBa0FgwYeB3kH8AdYCI4Inwi2CBcJfQnHCfkJJwpeCjsK3glBCVYIMwfMBXQEGAOjATcAzf41/Zb72/kq+K32WfUw9OfykvGY8Krv7e6j7uTu6e8f8VDyCfQM9rX3H/m/+nL8nP3u/kEAEgHwAb4CPAN6A58DnwNkAwgD3QK+AsAC9QIMAzoDcQObA6wDuQPmA14E7QSBBV8GNAf5B5kI6wgwCYQJtQnQCfUJQAqsCuAKwQpkCs0J3wiuB2cGDAWLA90BNgCy/kn9kPvW+Vb4+fa09Wr0D/P18RbxUvCd74bvJ/Dd8MfxHPOg9N31Jvep+Ez6sPsp/WD+nP/MAI0BBAJUAtEC0QLBAqcCqAK7AqICpgLQAuwCKgNUA3IDtQP1AzoEjgQSBa4FLQazBkcHkAfZB0UIoAjsCDsJoAn0CSsKWQo6CssJOgmaCNYH5wa7BXgECAOCAQgAe/75/F/74/mU+Hz3IvbG9Jbzc/JT8Wfwn+9w7xLwuvBO8VfycPNg9J/1RfcA+ZH6Pfy8/fD+BwDuAIcB/QFjAs0CQgOPA7wDywPxAwQECAQhBCIENAR3BKgE1wQwBcsFUgaKBgEHpAcTCFsIoQgZCcEJTAqeCvcKPws4C+wKbArTCREJJwgBB9MFvgRmA+YBeAD7/k/9lfvo+Q34avYw9fbzo/JJ8X/w1+8z7xnvi+9C8GfxXvJg87b0HvaD97X4Tvrx+3L90P4DAPcAhAEXAogCtQLsAkMDbQOgA/sDMwQvBDwEZwR1BJAE+ARoBbwFMgblBmQHugdNCMIIAQlZCeAJZwrxCkgLYQtJC0sLDgtgCm0JfgiAB0YG5gR4A/8BcQDv/jD9hfsB+l74k/Yc9eTz5PJ18Vfw8+/H76rvk+8A8BnxL/Iu82f0wfU094v4y/kd+5D8B/5O/20AZAE5AtACBgNBA6ADBwQzBGUEwAQNBTkFLQUIBTYFiAWGBYMF2AVkBtQGOweEB/IHgQjuCCIJeQn0CUcKUwpACl0KLAquCQYJPwiOB6YGgQVEBN4CSAG2/0f+zfwi+2/59Ped9g/1mvNa8k/xfPD879LvDPCZ8F7xBfLv8k70efV79qL3Gvms+vf7KP1t/pv/kAA3AdMBXgKlAggDhwMXBJQExwT4BAoF/QTlBOIEEAVgBa0F6wUoBmgGywYlB2MHuQcrCI8I3AgwCYAJvQkRChcK5wnKCYkJ5AjcB84G1AXMBJQDMgK7AFn///1v/Mb6K/nJ92X2BPWp82fybfGv8EPwM/CJ8Cfx4vHi8vfzGvVO9mv3tfg5+on70vwf/lP/QAD7AJQB9QFKAr8CJAN4A+QDPgRoBHQEewRyBFcETASFBM0EEgVbBb8FLAZ/BrMGPQfUB04Ingj5CF8JngnaCfEJAAofCuwJQgmcCNYH9waaBU0EHgO8AUQA3f5g/b/7bvoX+aH3SvbW9KDzofLU8Tnx4/BB8dfxcPI88w30AvX59fX2APg0+a/6DPxK/Uv+Of/W/1EArwAKAW0BzgFGAqgCCgM3A1QDcQOcA70D7gMYBFkEygR8Bf8FOgaiBvoGTQfOBzsIsAgyCY4J7AkbCjwKTQpxCmIKCQqLCdwI2weiBmgF6QOUAkIBz/9C/v78nfsF+mL4xvaB9Xz0N/P88UnxHfEb8VrxG/LQ8qLznvSV9W/2XPes+N75OPu9/Nv90f6J/wkAZgDLAAcBRQGoARoCgQLaAkEDYgN1A6QDrwPoAysEYQTdBFYF6QVRBqYGHgeQB9QHMwisCEIJ8QldCpUKzwr+CsQKTgqrCf4IPwghB+gFnAQ7A8ABJQCo/k796Ptt+uX4gPcn9u30xPPB8sXxFfEP8dbxQvKN8nvzp/SH9Sz2EfcU+Hv57vo1/DT9fP5///P/MgCOAOUAHwFoAeoBWAK9AggDJQNTA28DfwOPA/IDWwTyBF4F7wVaBrIGKAdWB48HDgiMCCMJuwkkCqkKzQrDCqQKJQqiCQcJQAhEBzcGLAXIA00C4QBj/9H9Xfz2+pT5RPj29rL1oPRk8yHyJ/Hz8F/xlvHj8ZPy3fO49IH1WPak9/b4O/qX+6L8GP5D/xUAqQAqAd8BNAJqAtsCBwNVA3UDlAO8A70DuAPHA+4DIwR1BMgEOgWWBRAGZQaqBg8HeQfdBz8IuQgqCYQJtwnMCcsJogk3CboICwgjBx8G8ASrA1oCJwHm/5r+Jf23+zL6kvhc9z/2EfXr89byRvLe8crx+PFO8gLz0fO59J/1zvYM+DX5ePrF+/X8G/4M/7j/TQDfAGsBrgEQAmMCpgLrAv8CLQNFA24DiQOXA+YDPQR4BOkEUgW3BSEGegYDB2wHrgcRCG0IywgTCSoJNgkqCeoIjwgTCHYHsgaiBV4ENgMwAgsB0v+e/o79jvyy+5D6TvlI+Jb3vfYK9nz1TPVh9Yz1wvUJ9pf2FPfn98L4p/mk+rf7i/wv/aH9Ef4o/lf+e/7A/hP/R//b/+f/KABPAFkArAD5AGsBEwKFAvsCWgO1AzME2wSWBVsGCAekBz8InQj2CCcJfQkWCl8Kegp9CkQKqAnFCL4HhgYwBbwDXwIOAcT/QP7A/BT7c/kD+CX3GfaX9ITzYvON8zPzqfOK8y/0R/Yi96T3b/k++yT88Pyi/gUAMAE7AmIDNATcA58C1gDg/4T/zf99/+b+7P1o/RT9N/05/oX+tP+CAZ0CQQNNA7YDfAWxBu4HKAn8CqIMZAynCwYLxwq9Co8KTwqKCloKDAnKBkgE7AGV//D9+/xC/A/8ifsP+qD4Efdo9fbzjfOf8/PyZ/LS8mPzNPSS9Rr3/fiN+jH9oP5W/9UAwAEnAugBQAJKAkACDgIRAd//+P5+/rb9E/1o/cf9u/39/U7+vf7H/90A6gE7A30EsQWDBukGaAf8B1AIvAhECc0JJApYCikKcgk6CSMJwwgFCDYHZwZ0BSsEXwJnAOj+8f0O/Q78QfuP+mf59veg9gD2JvW/89TyLPIq8U7yrPQI9tD3lvvD/db9q/4//6gAMAHaAdYC0wL5AtoBs/90/ob9y/ya/K78Jf3Q/Q/+6P0U/rn+sf/YABICUQPOBNUF2wXYBQYGSwagBtoGZgcKCCQIvAeBB8oHtQiUCW4KIQvoCuUJXQiuBrcEFAMCAkgBkABb/6v9GfyK+nj44Pak9l/2XPU89LjyQfG671ruJ/C+9N74MPwE/ygBhQHRANYAlwCgAbIDOARoA3ECzQDY/V37wvp2+qn6WPwg/fj8Cv09/Xr9a/5UACAC8wPCBV0GLga5Be0FfgYqB8MHnwcPCO0INQgZB8kHEAnwCToKVgqpCqAKdwlWB08F9AN6AusACQBm/1b+mfxe+mD4k/ZJ9an0v/OF89jym/E68KHubu9j9PT4HfvS/0wDaQMQAwMCiQEeAlQDFgSKA4cCngAr/rj7Ufla+Ev5e/qq+9X8Qf0p/br9w/6u/5oBWATkBT8GpgbABi8GzgWCBkMH1AdJCDEIzgexB64HDQj/CBgK4grVChQKLgniB70FFQMqAZoAqv/o/UL8hvvS+uf4p/bo9NzzH/N/8prxk/AW8PHvuPD88xv5XPyQ/iMCHQX7A6UCXwPIAw0EnwR8BP4CoQFO/3/85Pnl+DD5Zfp6++X7OfwZ/QT+k/74/80BOQTbBZUGWQaABp8HKwj/Bp4GHgiOCAIIWQcjByEIigmIChkK2gkeC/cKXQk/BzMFawP7AR0AV/6f/G/7afra+JT3NPa29eX01vOK8mXwD+8E8LDvc/CV9RX7VP0t/woD6gPOA8MDigM2BGUE1ASXBE4CKwCx/g/8jfnr+ND5xPpb+9/7RfzI/BT+Rv+TAMwCkwS7BZwGlAaUBpAH8gdPB7wHqwk9CUwHDgdHB44H2Ai0CikLZwo2ChMK8we2BaoErwM9AnkAXP+9/Qv7l/gJ9xH2SPWl9FT04POG8hzxafAg7/7v4vLu9a36O/8UAugDDAQgAwED9AN/BHYEzgQvBNcBpP5N/EP6E/kH+ar5pPok+2D7b/sg/Pz92v/GAeMDEQVrBvMHEQg5B8MG4gZuB+gI7wn/BxgHtgejB3QHGghdCgAMzQv8CXcIvAd/Bu0EfgPDAisCOADV/YD7aPnI93T2MvUV9Frz0/Li8Q/wge4/7vXu8vBc9YD76P3W/o0CDgTxAgEDcgSWBcMFAQWrAyoB1/7r/Ev7Evqf+Yb6+vrM+rr6ofud/Bn+XwAAAkUDDwVrBvEGdweVBxMH6garBjIHCgmtCYsIlweQCMYJNAqECs8KMgvIC0kKWQcXBhQFRwOpAdcAgf86/Rf7a/mW91b19fIS8mnyWPKS8eLvNu85753uVPBu9TT71/5HANACYARpA54DYwR+BOAErwTLAm8ANv6O/G776Pot+5/7FPyx+2v7Lfya/fb+mgDFApkEkQW3Be0FsQbuB0QIKgi8B4kInAl8COUHpAiYCWAKkwquCrwKOAptCQwIdwZNBUYEmQJrAFr+e/zM+q35ifg897z1CvQr86byFPLf8JzvKe/Q7wnxyfSP+bT7I/35AGoDNwJaAq4DkwTfBJEEcwNjAbH/Wv6w/P77wPu1/Cb9lvye/AP9rP2a/iQAUwJIBF4FIwbrBZYGnQdXCLMIMQixCMwJEQk0B+4H0wnACscLgAsYC4kKWQlcCFcG5QRGBEUDKAEW/sv7gPou+ZT3FfZ49Tr1G/T28cLw8e+X7yXvaO9C8cT0Ifp6+wX84P6AAUEB8AAQA1QE6wTpBKMDwAExALj+av1i/Uz9K/02/k39Lvw//I38x/3//yYCpgP0BGYFSwUOBrMHCAj3CCQKZwnlCM4JyAkMCD4IaAv6DMULBAv1CXgIrwYwBb8DWQKEAqAB/f7k+/D58PhB9yD2dfWr9YP1SvMf8b/vPe967yDwePPS9kD4XPl5+9/99f4HAEQBoQPwBCME4wNHA1YBaAD3/1b/I/7O/j7/9f2g/Uf9Mf7r/kL/JQHUAqcDpwSzBPgEnwXmBscIWAlnCakJ6wj6CM8JTQpzCq8KcgsmC/MJlgjrB5YGvwR1A1ECSADT/jj9Tvvo+eX4ufc59or1VPUo9E7yCPHG73Twd/H28pf1cfc/+JT5//tP/i3+o/9sApYCWAKPAokCpABoAC8B0gBh/wf/iv/s/o7+0/4h/wIA3QB9ASIC8gEFA2METQXeBlsHJAj5CHgIXwheCe0JWwlwCuUL6QoiCZsIFwi8BqcFMwV/BIsDkAHI/yz+Lf3Y/BX7VPkX+cb5z/fH9f30DvVZ8/3xg/Ko8rP0nfZn9zD4o/lE/Pj7xfzG/xwAvgBEAKoAiQAB/1X/wwAHAAH/9f8dAFj/Jf9DAFsArQCYAeABGAK/AkYD/APpBOIFCAdeB78HLAjiCLAIjAgiCXAJDgqmCaIINgfrBsMGEQU7BIQDtgKuAcz/Nf9u/vb8s/wx/OT64vjy9+z3h/a59iX38fb29jz2L/ek9b72yPkm+fr5Hvvp/Lz8+/zv/Vr+sf6R/00A7/6U/r//9f+R/rv+Sf/M/8j/8v8mAUABPwFNAlkC7QKIA5kF5gbTBfAFcgfeB5UHdQdEB9QHVQjfCH8IYgcdBnsGsQUTBE4DQQQuAykBmQDs/hr+XgBV/8L8yvz6+xL7wPpm/Gn5W/ao/NL8X/cJ9576BvzL+CP6+PnW+e371ftp+pb6LPzk+7r8VP14+6785/+//0/+Y/6s/zsAkf8HALYAZABkAcgB6ACqAUEDtQNBBKAEBQbNBPIELQeOB1gGTQbwBoUGmwWGBcEF2AVfBpgFQAMzApIEEwPpAtYBjf76/2oBJgGa/cX8sv/V/E39hP0F+nT7jPuq+9D7Kvxf+7/88/0E/fv6t/o4+3H7o/wA/Mj7q/mr+VH6SvpC+vv80P7O/V/8wf5p/9z9N/+c/+QANwG0Ab8ByQEYAtACMQTMBBUFIAQ0A24DFwUzBuoErAT6BHQEWgRQBPQD7gN2A7MGrAMBAegEQwTMAjoCYgCeAnz+BwFBAVj93QFE+7z91f5I/xv9p/tG//37K/0F+/D5SvuN/Rn9SPol+Zr9Y/0Q+Cn6LP1o/Cr59vpC//b9FfuJ/U7/4v0H/08BdADY/+EBGQMrAGIBMwSkBFUBhQCYA90CjQGnAz8Etf/QAHYG4QXH/1EBzQSyBT0CWAOWAkQETAblAT/+GAXXB7f/Rf+cAUwEfP+gAQ7/dv/L/r3+EAMQ/I/6h/1tAnH+Lvid/Of8ifpq/Gr+r/sL+93/Q/0N+lz7w/8X/yL8s/5qAoj6Mvs3Awn/avyx/18Dk//h/IP/GwPSAYsAnP6nAoEEtv9C/v8CBwYnAcEALAKwA6AB/wTnAiQA1wM1BkEB5f/+BBgJxAGR/XcGtgPvAH7/XgP6Ar38w/6IAksB+/5v/vD/mfy2/SMAjf1Z//396fpT+fz89//r+/T2Qf6jAUD83vuF/M3+bf7r+5j7d/6sAL/4mP9SArf69v1G/wYBC/6+/qgAAwFs/tb/FwPYABUBvgJGAxgBofs4AXoHfwW3ACr/nQZSBan+mv7fBrEFtANr/VIDVgLnAY8D3/3tBYcBsAGpAIwA4P8eAFUC1P3cALr/kgGW/z35AQKKAa/8tfnx/6QA5vnj/bYApQBy++v4SAIfBKP8VvnF/lkEmvqE+0T/ygB0/qX68vwtAEABPvzr/8cAWgEs/cT7pATeAQP+Z/8/BGMCTfyh/0oF4gHi/VP/iATGCUb8cvhkB4gKqfvF+HMLywLL+/H+xQYdBFr22wKdCvX+o+++BqQQRfjE+/cB+wDjAGv/lwDs/hADL/+Y/HP7DwO7BuD1BACoAe8CyPoX/Z0EUvwV+wMD6gEd/OH+6P6CARr7PwAQA9L/+f1B/tAAhgJw/WH8d/7WBE8GOQAc+Q/8ggh3Bun2tfw+C78A0vQYAO4Vxfl39iwKZwVc/EP+5AJXCNj+6PkHAeMD7QIz9oX8WAkoBdT7XP0oA0UCP/sBAjcCeP84++sEaACx+coE9v+G/UUAzwAa/cT9VfymAmP91/xeAIQE9Pn+/L8Aaf5x/+j7LwOI+w7+wQEHAr74Z/5WA3r/m/mt/ykE9f8N+P7+lwVKAMb6bf2lDgj49vqIBGIGO/hVAUcGLPopC7f9X/2KA+z/tAFLAg78fQfpBuX48fpgA74Ijf8n/M/+NAO1AYr+ifyzAgsFRAFH+c//FwSW/YP9xQNj/0f/AvvP+uYNa/rU+YUCQwJGAcsBgPjWAm4D9v2+/sH7xQW7+p4CufqGBBoA7vX5A4AFRfez/HUKEPvL+U0Fnf1J/1UDvvvlBKD4zQhCBaP68v7kAVYBjAUA/BL8Gw1a+4X5wf0KD1r2SPuTCFYA4v43/VD99ALwAb0Af/6x+lIHoP17AIT8ZQH0AEsBnP5//T8DeP69/RUCTQDe/b0Bfv7FA4sBPf+y+XYBGQh3+oX5qQYg/1j2VwoCApn66f2nBhr/u/dCB1gAiwB0++0Dqv7B/ecA3v1DAP0BYgWM/yz84QCDA9H9pwEh/DoD/wDB//v6of/yBYUCHPfU/U0OxPLq/coAhgWg/XT6lQhsAk7zBgIRB+T9EPr9BHoDmfcDBD3+iQYF+iH9qgV0/5z6gwTF+mgCzwHx/FYB2vhQCTr9MQLJ/4T2xAJrC9zxMAAxDG/9AfW3BKEKJfaM+m4EIg2T8oD3nAy9BXT3gvcTCkkLxvHJ+BEKTwyW9nv1iQj3BOQAg/lVAqoBjgEr/xT5GgnhAgL5FAW8Awf7SwA2AikCsv+n/Kr+twse/P/3gwGLBZ7/tv0a/Q0FpwVY9CQCRwLi/kgE/ffJAeEES/piA0j/eQBO/GEAgQEyAh31DQOzBmP6LfxVBDsCnfmAARr/lQUR/KkAigUP/f3+n/+IAl3/tP6mCbv4bPvWBt4EEvRjAV8Qqfcf+ToAShBH+N340wXoBI39+QSt+1D7jQj4/YEAhvn2AbIG/AR/8zL/fwtAAUH5E/1jBIAFGfl/9oEJ0Ap18xX66AZiAo8AEPVOCE8Kk/YL+a7/RBCN+QHszAvPDpD04PbOBJcI9/4v9uwEHAD2AC78/PsACwD+8/5t///9/gNAA2f3pwHZBmr60P1DAgID+gBT+K4KyvyG838IPwod9nf1YxEoBlnyNfexFjD6N/C3BaQN+P0A8GABcglfAP30UgXkCGf7zPOhCgn/Y/hvBCb74AX4ALj5x/soAWYQ0/Bj9eILSAj58cH6TRPk9Cn2LwcmDgr4y+urC+oMMPhU95oD1QfkABr2Cf4rCZf/P/tb/oUA1QaB/Jv2NQMmC5L6zPJtCqkGm/ph+l4KZ/1Y+x0Er/7JA2v/zgLV/Tv+MAGHA+3+HPoRBA4M/fWl+/wBogdzADr17f9vBdwIOPBW/OEQ+f1e8R4Fbgqp/Vr00wqmBc/0kABzCL72Bgrz/1DzpAj1Bsr/Ze37CykKQPd99XMMwASD9YX/gAhaALv12QHQDL/8KPXYBrADl/SG/rMPL/vB+hwC0QQ8AQP3uwf4BabxBgYjCRP4sPZnBskKqft9+BH/VA+F9sD7+wVyABgGpPZQ/H8IRf/u9gb/WQ+1+Hv7bQb2/wn9fPw9CbX4jQRt/aUAbf8q/tEIEPyT/wv6ygeC/tX5TwC8AvEDMf1e+iEFaAF/AO/27QF0Cpn8q/o+ABkJNvxy/gEADAhG9BsDJAbU/RP9m/3LBsP38QKPBPYAU/4y+CcE6Ae092n72wWWBUP5ZQA8AOr+6QVD90AExf0p/j3/PQA9Aa33FAla+yj58gkrA6v1Av1fCkn7rwCx//v+jwT5+1sBMP3n+7kE/QJ1+gAAOQOm/cj/SwDC/L//SQNz/rUBRQC7+rYG7vpW/x4EBP/tBMP8r/2nAQICywAL+34C9AS7/HMBn/tiBjIAJ/yI/H8IPv2U+goDSPyNAzcAFP8Z+6MCqQPb/1r6FAISBo391vkqA84E2/mf//AF/P8l+hT99gpk+4b7hQOaAT8EGfQaCXICufvv/U4CigTzBiny3/2zEHP6yfew/1UK2QLY+a/66g38/bb8sv5kBFQEmfmC/eADKP/dASoB5fxkAkz/vgAA/v8DUgPn+RcBFgHkAdj81fekCKUD/fv9+iMGxQHB/0T8IQDgAaYDy/0D9roMigD0/FX6cgYnBHf9X/dIAlEJv/WM/uUDeAUx+zH48wom/Mf2egdBA3H9ifmcBqAE6Po9+OELewFL+XP7PwfWBfP0P/w5B9oE2vRLAWcIdf9C858DdAgO+GT9T/+BCmsAhu15CzsGbfk3+LkDSQsl9ef+NQWd//f6ff05CFwBRvnK/eEErv2R+1ICpAQI/Ej8xACS/Y8EF/w0A8n6J/yiBwwCb/jD9iMS0QBE80r8FQlaCHrwPf9cCRAAhvbkAUEMJvja+BoJhv8u/vYCb/yQ+2YGzgMZ+n8BXv33AqoBzgK19iAHPw5u8C78mAhwC1P3HvcTDwQDyfJnAYgJ9P8n+joDRgWP/9v3ZAO5AoMDbP0z/ggB5AIkAC73fQo2/9r9f/zcAHEIlPkb/v0DFPxEBHT6zwIyALv7jQdQAb/4P/00BCUC5vpP+tQJSf+s/G/9owjlBzP1BPiFC/MAgPq0/7sH+P2E87wDfAIGAVr7HQCCBSYFj/+++H7+oAso/ZL61AJzA90BHfx+ACsBTgJyAJsEYft3+/cEMf59/FkBZQMVAA7/mP87AIf9HfwpBbQBNfss//wA/v/v/nn9rQDdA1/8X/1v/bcDb/42/kgA+f9UAFgDKfzM/WUJGPfz/zED0QFz+oz/jwNAAE8BIvxc/jECBANe+VUDNgFjA1r/6PsE/ikDXgYG/PT8If2+BAsA/fpu/goFtAHt+j36/QDpBz30ff10B1L6Zf6Y+QAGXgKa9FIBXgR1AI70pgfHBfn16/0xAbYEe/zD/VX+RwNiAej7nv47APcArP35/2wA9gAr/AIAywNF/NT98QH8AhwBvPqpBPcDTP2W+zAHYQKn9vcHCAUq+Z77qwjXAw/7JPv3C6wDrfZRAqUG0v/B+zMFYQO6/WL/uwGhATkBYAAUAksCIQCe/u8DUgFBACoB1AMEAuP8+AB1AfkDOQMh/pn8lAKOAo/8Ff1kAl0Amv8bA2gB3vyW/ucB2v0HAC0CVQEAAM/9mfx4/wgBCgDfAFwCggEg/m39uAGjAPj/CQDO//X/9fqMAfwBcP7kAYoBXP4d/6f/9f9g/3r+MgIfAGYAPP78/38C/f06/ckAggKE/3P9df8hA9sAsPyL/50CTf81/df/lgD7/Wr/wP8DAEn9LABPAjj/CQH5/ab+0AAP/zP/lwCe/5H/jf+R/2n/Ef+R/uz/WgCu/ZX/hABp/mr/swDc/wEBFwAG/zX/3gArAej+TgCbAAr+NACcAcH/H/+//8IAJQAjAfUArv+a/1//Q/9FALv/4f85AWr+pfwIAMkCGABz/58Bkf+tALr/iwC7AX7+OwFTAbr+/vy8/qcBNQA9AHn/8P2+/7v/v/7b/yX/GQAQAdz+r/0t/SP/RgF+/1j+ZAD2/+D+vf4wAKABkwF8ADgAyQBbAPr/kgAZAskAWwJ1AiABJADNAKUCsQGsAXsD6QLxAXoACwJAAxMEUAS4/qEBSAQ7A34B5QADAwsD4v7q/kf/1fzQ/ZL+OABf/hD54vnQ+hT56vpX+b76sfmc9wT03vK99y36SPrT+Q3+If5n/ML8l//GAXQDLQSQBjoFWwPMBgMGWge+B5UHSQdmCGgHfwRnBdQG7Ae4BwIHTAdIB0EHqAf6A24GYAoCCQQGhwN/A6cCKALx/wD+uf5s/lr6KvkQ+Nr3FPXa8kb0avBy7IXsWPQy9Tf0sfcE+Sb6xfi6/AAALAG+BO0EswPNAjwCuwE0BCUFnAJPAqUDTgXCAVsAkwTnBboEJQZpCM0GcAYZCfwIawh3C08M4wpiCl4KlwiNB5wItAhXB78EOgPhAUP/9Pxc/LT7jfm29wT2nfP774/v5O3Y6Gbqge+P8f/vK/QR+dv3WPdk+/T/ZAF7BDUFowM2A24CaALTAXQBdAM1A0gBhgBf/+//WwLWAsACuwTCBlkFbwS7Bm0HWAdvCRMKAwqoCiUKcAmLCSUKRQniCIwILAbhA4kCXwCp/cf8Yvx0+qf4CveC8+fwKfA87jDr/euy7KrsK/A78/X1tPiw+vf7jP5QAnMExQYcCMMHQQbEBC4E1wLwAbgCEwM3AZ//dP9S/9v/wAEABP0EhQbcB5QGeAYpB7kITAq3C7cM2wsfDDsLkwk1CXcJjgmDCAUGiwOhAQj/C/2G/In8cPvg+DH1q/IK8cTvJO4k62vq/uq17ATxFfR29xH7Dv4LAOIA3wNwBRgHmghMCHYF5QLtAiUB/v+O/3v/5f8K/xb+RP4//3UBKQR0BeAF3QanB2wHUwdUCPsJPAu/C9QKhgn6COkI2AgLCX0JFQkXB1wEtQG9/8D+Rv6n/XX8Nfos94D0W/Lq8avw8+z850Hn/eyh8dDy1vV1+87+ZP4Z/g0AQwPaBkgI/AVyAq8BlgEo/5L8o/0+AJgAL/+V/UT9n/4XAVwDbwUsB6sHjgcjB2cHwQgTCmMLnwvuCvQJeQjBBx4JWAp9CscJWQi7BaMCSQBR/yr/UP/j/rb8GvlF9kn0KvIo8BTugeny5irsUfHx8q30j/r//TP+9P54AK4DTQUgBxcHZgOnARIBWf/Z/Vv9of+QAJT+Q/2v/dT+ZwDGAv0FYgesBw0IkQf7B8IIRArFC/MLdQvLCsMI8wddCMoI7wmhCVwIPQbdBBUCPv/D/mX+x/5+/kD8hPmj9qjys/Cy7k3qtefW6pLwcPJq8m/43f29/bD+wwC3AgsE5gR+BekD7AB8AGH/Qv5K/Sz+f/9p/sr+Yf9fAEkBOgJHBekHXAcbCIAJ6QhcCDYJMwvvCvIJvwnKCNgHSgirCFoIUwngCFAGHQViAxcCEQEGACQARf8J/RX6efYb84Xx9e+H63DlZOX37UvzMPIs9er6lv0w/Tr+OwFGA6MFaAYCBA4BRv/Y/mj+Vv1P/qcAoQD8/rf+gwC1AbgCeQULB9gIUQnsCMUIwAh6CTsK1Qu/CvcJzAmPCEgImQenB90HkgZgBhgGxwMKAt4AWf9C/pj9hfyY+iz4HPXX8YXvEewD5gflp+qM8PPy+fNA+cn8Yfxn/cQAiQPrBBkHDAfpAjMAcwAJAJf+Dv+9AakBm/9F/4YAywEGA0YEbQYxCJUIMQmECGMHDwjtCG8JdgnlCUQKzghKB0oGXwY1BwoHRwZlBnsF+AJ1AGz+Hv4m/sb9xvsG+Vj2m/Kz7yHs+Oaw5UjpNe8k88Tzv/j+/Hr8kv3GANsDkgUxCIIHtAPCAWYBnQFHACkA9wFSAtYAZ/9f/5IAUQLrA5kFugfnCLwIJQckB20IHwkfC9EKFQozCp8IxQahBQAG7we2CEsHBganBL0ClwDn/ub+mP/B/rn7yviq9Xvyh+9J63fnYOWV6Wbvf+9W8Rv3e/qX+uH8IwGXA6AFwAfVBhIEqwLeAj0CdwAjAGQBEQL4APb/KwCaAbcC3gP7BYgHBAhOCL8IaghUCMkJGApxCdIJuAnhB5YGtwbXBkMH6AYzBoYFggTYAloAN//S/8j/Mv6i++j41/V08pHv4euW5iLli+o+7xTvnfEO9/j5PPqS/HEBmQP6BU0IPgcIBE8C4QLGAvMAvgDkAU4CKAErAGcAEwGZAtUETQfFB0cIsgiUCDgIlggYCp0K2AoKClsIhgfaBssGCgf2BkwH1gbYBfsDuAFGANL/qv8a/yr98voZ+EX0vPH97h7rUOYm52rso+6X7q3yRfiD+aH5Tf2OAYwDBgYHB7AGsAN1Ah8DRQFUACUChANHArUBuQGAAcUBNAMJBvIH2gfoB6wHRAhUCSkJFwqaCuoJiwkQCF4GhwYAB0AH3QauBhMGdwTPAYz/lv+4AOwAzv7k+5L5S/eE85zw2u6g6qPnSerN7Yjulu+V9In4h/iJ+gP/BAGXA7YF8wTJBFgE/ATaA3UBFwK5A70DQgIsAYsB2wJ2A60DIQXsBrgH3QfPB1MI7whoCYMJngnHCYYJBgnRB/0GnwepByQGJQWzBKsD9QFEAI3/Mf9Q/qz83PoM+Vr1efP+8O7r7+ib6vPtLe7j7w/zfval94T44Pzc/78BywMXBB0EUgQpBCcEwgLVAagCMAOlAqoB1AGzAogC6ALhBKsGGwfHBngHjAi6CGUJAgpLCrQKhgooCdwHvgfxB1cHrwZ8Bc4D+QIuAr8A0/5F/gn+Qf07/EX5OvVi817xKO2P6kLrve0S7z/u/fBl9Tj3b/jp+rL+8v8qAa8DoQPmAtQE5ARuAi8CIQNZA2cCugJ8AzoDdANUBDwF7AWhBlsHrAd9CEcKGQoJCrQKPQroCXoJ0AhzCCAIRQcYBt0ECgRoAyIC7wDz/4/+pfy4+sz5EPh+9jz1/++66hvrWu567jbuHvFr9DX28fYq+Rz7R/1NAJ8BfwHeAqsD3AIFA4kCmgKVAy4EsQNBA+gD2wMNBKEF8waKBmkG/wfHCB8JwQl/CTEJIAqIClcJjgjPCMYICQgSB8YFqQSCA0MCQAFlANj++/y/+6L6Hfmo9ujzae/063DtH/A+72buWPFV9Ff0EvVD+ED7c/0w/+//IgAiAQ4CmwKfASoCrwN1A+gCpgJWA7sD4QNjBbwGkAbYBj0HIQhfCZIJxgnpCRQKNQrICRgJ5AhMCSUJOAgKB70FPATCAvMBrAGsAOb+E/3V+/H58/jG9iTyIe0X7rTxbPCY7qHv0vJ48/DzhvbP+Lv6T/1u/tj+W///AEwCbQFBAbQC2QOHAwwDUgPZAxoElARLBXMGVQf5B4EHAwhkCVcKGgrFCZAKfArWCUoJZAnRCKcIKQc8BbQEKARnA04C0QDU/pr9Ovyf+nv4Mfcs9H7v6+3g79TwO+5V71HyCvMM82P0hPdx+jv8l/0b/tT+VQAxAeoAHAG+ArQDlQMFA/YD6QTnBDIEHQU5B9oHvwcKCLUIYQkWCggKCAoCCkkKIwoMCUUJQAnoB6MGbQU1Bc0EbAM+AkIBlf82/m797fsu+rD31fQv8Urupu9s8Vzvmu2R8Gnz3/KP86r2LPmT+u37aP02/lb/8gA4AYoAuwEhBLoDaQKIAzsFHgW9BI0FEAcHCNsHcgjiCDUJEwqOCrsKqAmACqAKsgleCS8JiQj6Bp4GjgVkBD8DcAIpAgEAMP6O/WT7Bvrm+Mz08e/z7srwpfBa7s3uRvFn8vnxO/MA9xX5rPkV+6H8qP1k/5MAmgC1AKgCAwScA48DPwQyBWMGTAb+BY4HOgiFB2QIPAq1CREJdQodCxYKhQqbCkYJjwnFCU0IkQbYBUoFEAS2AgkB+v86/yn+F/2d+u337vWV86/wgu8i8TDxd+4v7qbxufK38kr0/fab+Pz5o/yH/EP9uv80AcwAzADjAwkF/gOPBLgF5gV0Bj8HLgcMCPwImwh5CBIK4wo4CgQKqgrNCjIKjAkBCeQI3QjaB/wFogVTBb4DVQGfAHIA/f7t/Ev7cvnV94f1r/Bj71/xBfKx7/rt/O8g8t3ykfMQ9pr3sfjW+rv74PzI/iUAZABUACACDAQYBO4DsATABS4GNwZCB5EIuwhvCPsI3QnuCV8K+QqOClIKmwoHClEJLgkBCcoHpwZYBo0FEASdAnYBdQCu/wP+yvt5+ev33PUb8pfwv/He8K3urO5S8HTw7fAu81v0ZPVP9xX5Gvqt+w7+Sv85/y4AawKWA90DOQQIBecFrAY4B48HRQj6CCQJOQldCkwLJAtwCnIKHgtkC38Kwgm2CXwJHggRB1QGzwWUBDIDTgIMAQIAPP5p++z5d/kJ9srx6PCw8qnwYe4V72zwnfD98FXyxPMs9fz2bfhB+Rb7EP09/mb+vf/nAeQDzQPEA9cE4QZPBwsHGQjDCEcJjQmmCYIJYwu1CzQKTQpWC0ELmQocCrAJMgmyB/oGjwYFBukEZwOAAtABqQA4/jX8vPrO+db2jPKk8Q3zvPGp7sruwPDF8CjwUvH88kH0rvW+99j44flm/F7+CP7f/tEBlAPCAwYEZwXQBokHrQdqCAgJkQnOCZYJwAodC5UKWAoOCugKdQstCkgJuwljCe4HvQaPBpQGIAVtA2cCHQESABf/H/1e+tf49/bM88ny6/Ih8ZjuEO/v8Hnwc+/G8LHyXfPi9Ar3sfe2+JT7UP2q/c/+EAH2Ar4DEASXBRkHrgclCP0IdwoRCp8KXwuPC80LzAuvCz0L4gv3C5YKkAkeCiUK4QdcBvIGJAaPBB4D0QEXAX8AE/5e+2f6F/pT9lLyuPKT88fwz+0E71XwjO9Z7wjxqfGj8vv0YfYO9+r4bPuV/DT9hP9yAQIC7QJxBMUF3AY0CEAIqQgoCisLMQt/C+0LLAyWDAcM2AtKDJALagomCj0KZwmeB2QGTgZDBqkEjwJFAbUA5//O/Yj7FPpJ+Vr1VPIj82XzMvDh7ZvvPPD0727wtvAC8YnzkvXT9fz2r/mt+4b8Sv7X/2oBngLVA/QEIwbIBzcIYgi2Ce8K9wp6C9ML7gsZDGIMdgw5DCsMvQvgCgALjQrWCGAHigYxB7AFNAM4AvMBqwC4/oD8O/vi+nP4QfRh8sXzgfMv8KDt5e+y8bDv6e/P8eHy+fMX9W32wPfE+Xv7avzs/eP/UgHrAU4DhgWiBtMGiAesCEUK+wqUChwLQQykDGEMhwx6DGcMKAwJDIAL3QoDCvYIqgevBhAG0AQjA9UB9wCb/9b9h/tN+lb5gvbE8kTzl/Oe8FruOu/g8EnvEO818fHxk/Id9Iz1BPd/+Db6qvu6/PL+7wCMAUECegQ2BpwGRQchCP8J2ArNCsIKHQx1DdQM/wvZDEcN5AxwDNYLCAuqClUKjwhZB60GGQZjBAoDkQF8APf+2/xG+yn6P/hy9OTySfSu8lvv+O6C8OPwRO/H707xc/I587D0j/W19iL5oPqu+wf9Yv/ZAP8BqQJ9BIAGFgdqB4MIZwpgCo4KuguEDI4MygyCDJcMZQ0rDdoL7gpuC4gKHwk3CLUHoQbGBAkEBwNxAcj/Cv4M/BT75fnQ9UTzIPQf9Lfw9O1Z77Twi++r7rHvhPFu8uDz8vTP9dv37fkE+x38Jv5HAH8B8AHAA7UFrAZlB0oIdAkvCjoL0AvgC38M+gzvDJ4MXQ1mDVMMvQuvCywL9gm9COcHIQf7BQkFBQNzAREBrv/s/Lv7k/qZ98r02PRg9AzxGu/e73TwBe/B7rPvn/BK8efyZPTk9F72A/l++i/7K/1k/3AAZQEzA7QEbwWABg0IoAh6CXkKEguTC2AM2Aw+DKQMog1NDYEMCwy4C88LywptCdMIygfhBqEFYAT2ArABkQBm/kX86fsy+jL2KvQ49dTzS/Bi713wRfAI77XvIvAT8SDymfNv9H/17fec+eb6A/yy/ZD/7ADxAVYDxgQrBo4G6wcrCdsJqwpRCwoMtgzgDMcM4gw2DWkNogwTDKML8woMCtQJ1wg9B7oFWgVaBEUCFAFC/479XvzG+hb3FvX59Gr0hPHe7n3v9/Cy7/Ttau+f8E/xHfKX89/0Z/ac+C36SPuQ/Nn+kgBCAXQCWASbBVcGfgfXCL8JUgoSC7ELFwykDAwNyAwBDV0NGw2pDF4MdwuRChIKeQmNCN0GXQV7BNkDKAI9APr9lPwG/K756vXP89j0JvRz78ntgPDj8KDuee7n7/fwIfJH83z0hPWr9+j5p/qT+yb+RQBqAKYBDgRsBRUG7AZICIYJZQrwCnULEgyFDL0M2gzzDBINvAw0DA0MxgsoC/EJ4AiDCBUIdAaWBGIDwgLAAZP/af1b+yb7U/lL9a/zlfRr85Lv++6T8GPwG+8r73PwQfFG8jf0h/R59Un4Hfq4+mf8uf4AAMoAkgKKBL4FuAZ+B50IDwo+C3QLtQtfDFYNbA0yDScNHw0XDbcM9Qs7C30K0AnDCHMHdAYlBYkDEwKSAdX/Q/1M+6z6ufjZ9Uf04fP78mjwKu848CXw3e4d7zvwLPHC8QbzVPTS9X73gPnq+vr7/P0pAI8BOgInBM4F1ga2BwAJGwriChgMPgyHDHsN0w0vDWoNow0hDZoMPgy3C98KIQrfCNsHZgZGBS4EkgIJAVX/Sv3h++P6W/hK9Rj0gfS88tPvge9w8ATwhu/s77rwTPGc8ir0bvRW9nD4z/kf+9j8lP4UAIUBzAKLBOIF/AYCCOAIDwpHC8ELSgzJDI4MNQ3zDbQN+QxFDHoMYgxpCygKIAmICLsHXwaPBE0DlQI2ASr/LP18+8D6vfh79fXzZPQM8y7wku9N8FPwlu/t747wwvHg8ubz8PQ29jL4+vlU+6b8Z/4MAKEB2AL0A3cFLQfTB7YI6gnXCmwLDAzqDMgM4wyTDZ8NOw3ODEQM8guzC7AKPgk8CLAHpwYHBWEDYAI2AU7/Wv1i+4z63fiQ9T7z1PO783jwK+527+jwDvAa76jvUvEG8y70gvSr9Qn4h/qY+6n8P/5UAOwB4QJZBLMFRQcmCMIIJgo6C9QLhAzfDGENkw3WDbgNgw0zDdcMCAwdC7AKdQktCA8HegbkBF4D9wHIACX//Pyz+zn62feV9O/zOPQS8ivv9+4J8Krv/u4+7ynw7vB48nrzo/RP9hL4Avp2+yX9uP5TANIBbwPeBPYFKQdECKsJywo9C58LbgxoDacNRg0zDbINHQ5lDXcMBgyhC9IKeAkQCAYHEgbpBGUDlAFBANf+4PyF+/75Y/dN9Cf0a/TT8fnuBu9o8K/vPu+Q7zbwPPHH8iT0zPTw9WL4ofps++v82v5zAAgCmAPtBAMGJQeWCMkJmgpKC9ILhQxgDb4NiA2BDZENrw1FDcAMLAxJC0gKWAlsCG4HzAV0BDEDswFHAKH+cfyj+rT5Vvcq9Ifz+vM+8e/uUO9r8Kzv7O6477Pw5/EJ80f0AvXq9nD5afqO+5j9kv/VAPoBqQMvBVYGjgeVCIsJqgqBCwcMjwwoDYMN2Q2fDX4NhA1mDaIM8AtpC1IKMglsCFAHvgUkBMUCVwHU/3r+Dfxi+vj4kPYe9OjzZvNo8MbuMvBe8P/ulu4J8GPxzPHn8ib0fvVF9475yfr++6/9LwBPAR8CFQSKBe8GzgeECKoJQgujC+4LpgxgDZkNpA2mDY0Nfw3VDHsM4wv2ChQKSQktCM4GkAUSBKoCTAHI/7j9v/tB+qP4Bfax8x7zqPJd8FTutu7d73XvYe5T7y/xUvJZ84f0ovWb9/T5dPu4/Ff+TgD3ARsDSgQgBn4HLggKCQsKagsODCIMiwwHDXsNqQ1eDRMNEA2oDPcLNQt0CssJxQhfBygGBQWyA1oC5QAP/z/9sfsz+l74mPVs8yfzlvJW8LzuJe+a70bvIu/x7yHxLvJw8+v0PPbo9+f5lPsg/d3+qgAjAmMD5QSnBtoH7AiMCekKPQyzDMcMPA0MDggOFQ7FDWQNNg28DP4L9goRCn4JFQh7BokFkAQHA3QB3P8b/mX8EvtQ+an2QPRD87ryN/FZ77buKO8570TvZu8b8GrxyfIK9FX1+fa++HD6QPzg/V7/AgGVAu4DYgU5Bz8I8Qg1CpgLVgy+DDoNow0/DmMO8g2UDWEN9gxgDJcLeQpcCWAIRwcoBuYEeAP0AYoARP9g/WP7yPla+Ib1dPPt8kzyUPCt7l7vtu9l707vFvD88Fny1/Op9A32S/g++pP7Iv3F/tAAGgJbAwEFUgbbB+YIugm8CgEMhwzoDFENrg3aDegN6w1iDQUNzQwbDEoLUAoCCecHqQb0BX0EvgKFAToAc/6R/Pb6Ofk697L0TPM386Txge9L7+3v8e+z76zv0fBN8m3zg/SQ9Tz3M/nn+jn8qv1q/yYBtgLCAxcF7gYjCMsI0Qn4CsMLbAzrDC0NfA3iDdANiQ0sDd0MTQysC9oKzgmZCGMHRAb3BK0DOwKgABT/ff23+xT6xfco9ezz2PP38eTvZe/b7+7ve+/d70/whfEA8+/zAvWZ9mb48vmQ+w/9i/5VAA0CQAN1BPgFhQeHCEAJYgoqCxgMugwTDQQNbA3oDbMNJw3YDJIM5QtHC1AKBwnSBwgHnQUfBNwCygHv/w/+XPwI++n4+/Wc9NXz1fLb8Hrv5u8Z8OXv6e9e8IDxiPK18930TPbL95z5Bvs1/A7+vf9TAXYC+QNPBcQG7AfeCMkJqwrACy8MlwyrDBUNfw1sDQMNvQxmDNELSAtoClYJFQg1B8sFgQSKAzMCmACe/hf9p/uj+Rb3R/Vd9CrzmPFP8CjwNPAA8PTvf/BM8SvyK/Nr9N31s/ch+W76J/zM/Vj/twAGAmYD+gRqBnUHOQhlCZAKTQvXC00MxgwSDVkNSw0YDe0MegzRCyELiwqqCW0INQf/BeMEvgNKAq0AMv+J/Qv8CvqH98j13vSZ89bxnPBP8ETwPPAt8FDwJvFO8l/zOPSa9Ub34vhh+t37e/3+/nYA7gEyA5QEEAYuB/0HFQk1CvEKawvmC50M/wwGDd0M5gzoDHwM6AsZC1MKqQm6CIEHNQbzBOwDnwIWAbz/2P0u/J36tPg49oD0+fPn8i/xNPBb8J7wj/CY8B/xLvKI86D0yPUc9+v4fvoc/F793v6BANMBUgObBPIF5gbPB9YIvAmqClwLqgsmDKIMFg3rDJIMoQyMDPoLSQtuCoEJmAiZB3wGJAXWA4oCTAHH/yT+X/zR+t34uvbH9G3z9PKt8UDwtu9j8HPwgPDw8LnxFvN/9JP1uvac+E36yPsV/az+NADNAVADhQS1BfEGLQjbCKwJzAqDC9gLLwy6DBMNCw3bDK8McgzzCzoLUgp2CasInAdVBkEFSgT4AmsByf8M/qn8MvtF+dT2tPS48yfzlfFA8PbvH/Bd8HDw6fCu8cHyEfRf9Zz2Rfg/+qT7GP28/kcA2QFdA7QE0AULB0AINwn0CcoKiwsJDFkMvwwGDf0M3AyfDD0MyQtHC24KaQl5CI8HZgYlBfIDsQJYAf3/Wv6c/AT7gvmA9zH1sPP/8gzywfAu8DDwjPCf8ALx3vH+8iX0P/Xd9k74BfqQ++38g/4jAMIB/gIdBI8F0QbDB8UIvAmPCjcL0AsbDFIMuwzyDJkMKQz4C7ALJQtDClMJegicB48GSAUHBN8CtQFBAID+0/xt+7b5h/dq9ePzxvKw8bTw6+/37zbwVvCk8ITxv/Lv8zX1ffYl+Oj5WPvK/E/+6P+EAe4CDAQzBacG2QfJCKEJigo7C7wLKQxwDMIM0gykDEYMEAy2CzYLfwp0Ca4I+gfEBlIFOgQ7A90BPACX/hD9mvsD+rf3iPUq9GbzCfK18GPwYfB78KbwJPHE8fLyNvRP9ZT2O/jn+V/78/x8/g8AvAEkA1QEfwWSBuYH1QiwCXwKKgvKCzQMdAyXDLkMlwx4DB0MoAs3C5QKjAmlCPIH4QadBT0EMQMWApoAz/4E/Xf7yPmw95T1BvT88vzx//A38Crwp/Dc8PDwx/Ea8z70afXL9lf4+Pmv+x79cv4MANkBKgNABIIF0wb0B94ImglVCjEL5wseDEgMmwzCDIIMHgzEC1gLBQs0Ci4JLAhjB3oGOQUQBLECWAETAHf+wfwe+zX5APcl9cnzxvLA8dDwD/BK8Nvw/PA18fvxbPOj9Nv1Eveg+GT6E/xt/b/+YQAhAnkDfwS1BQsHQggcCbgJSgpGCwMMWAxbDJMMvQyTDC0MgQsrC70K9QnQCLAH7wb1BdUEqgNLAuMAXf+//TT8ivpU+DD2mfRz83zyVfGW8D7wpvDm8B3xt/HQ8hX0K/V99vj3pfkZ+5L8IP6x/xoBjQLUA+YEKgZmB2oIAQnGCZMKUwv6C1AMjgyDDJQMgQwhDI4L8QpHCm8JeAhoB2gGWAUmBM0CaAHy/2D+ofzg+v74NPdr9R30EPMC8h/xmPCi8P/wS/Gy8bHyz/MO9UH2svdM+a76U/zP/Tb/sQA4Am4DWgR8BcAG0geSCFIJDgqzCk4L4wsWDD8MbQxWDBgMvQs/C6sK/wkRCfsH4AbTBacEdgM6ArMA/v6B/f/7Cfrp9xv2zPS+853yp/EW8erwE/FC8cjxkfKg87P05PVL9734QfqL+xD9k/4UAFoBwgIBBPcEJwY9BxYI6Ai3CV0K7ApUC+ALCAwYDDEM6gu1C20L/Qo3Cl8JgQhnB1IGQQX4A5ICNwGv//v9Xfy1+rP4svYj9R/0GfMe8lDxEPEl8UTx7/GL8nnzcfS09RL3UfjY+Vb7u/wX/of//ABCAooDowS+BdwGzgehCC8J8QmgCicLaguYC5oLqgu0C2EL9ApyCvkJNgljCEsHOgYxBQwEogJEAej/Mf6B/O36Lvko95P1dPRn84PywPFz8WbxjvHg8ZXykvOL9K/1zvYs+Kv5Lvt4/L79Mv+eAOsBDAMvBEIFUAY+B/4HuwiICSsKowoiC58L1AvVC60LcAsfC6gK9Ak1CYQIvAe1BnkFSwQhA9wBSgCM/iT9vvve+er3WPYN9Qr0GfN58hvyAfIx8nPy+/Ld8970xvUA91v4nvnw+kr8kv3U/hMARgFqAn0DlgSPBW8GXgdDCP0IlwkvCrsKIQtPC2cLWgtFCxQLnQoSCn4JrAjhBxIH7wWVBGUDRgLkAEr/vf0H/Fz6w/g398/1ivTt8xDznPKZ8pPy3/J08z/0A/UN9jr3Zvig+d76Dfww/Xn+pP+nAL4B2gLTA7QEogWtBqEHbAgHCZ4JQQrNChULGgsYC/AKvQpiCuwJSwmZCLQHuAa2BaIEdAM5AgIBhP8P/m38sfoB+aL3Z/Y29Rb0R/Pg8sDyrvL88mPz8fPO9Ob1Efcp+Hj5q/rk+xj9Vv5w/5UAjAF3Ap8DlQRiBR0G9wbQB64IRQmuCR8KowrMCqAKcgpaCiwKqgkuCaYI7gcMBw0G9gTEA54CdAEeAIX+DP2Y+wb6ivg79/f16/Q29LfzY/Na85Tz8vOl9HP1QfYp90X4Xvl8+p372/wm/j//PwAjARYCEQP1A5kEXAVLBhcHvgchCLwIYQmwCcoJ3An0CfgJtwkyCcYIcAj5By0HPgZgBXUEUgMLAscAcP8B/pn8F/uy+Yb4b/di9pf15fRY9CH0M/RE9Hf0IfXm9cD2uvfc+OT55/o0/H39rv7R/+AA2QHaAtkDqgRbBRgG9waIBzYIsAgSCVEJgwmDCVIJPAnUCKUISgjUB30H4AYlBjkFRwRrA1oCLQHn/6X+T/0S/Mj6jPll+JD3vfbx9WX1DPXf9PT0M/WL9RL2ufaT93j4fvlv+n77n/zI/dL+7P8FAQsCEQP4A9AEjQVVBvgGiAf0B0YIfAizCK0IewhYCBcIzQeeB08HzAY9BrUF/AQeBEEDUAJeAWoAY/8x/hP9IPwU+xb6Jvlj+KH3F/er9mz2V/Z69sX2HPey90f4BPnI+az6mPtv/Iz9mv6G/38AggF4AmMDQQT2BJIFAAaCBtMGDgcvB0EHQgdGB0oHFgfOBoIGVwb+Ba4FMQWbBPwDTwN2ApQByAAJADb/VP5h/Yz8zfv5+mL6k/kK+an4T/gn+Aj4IPhW+Kz4Jfml+Q76uPpe+wr80fzN/av+ef9wAFsBOQLwArkDRASiBPcEZAW0Bd4F4wXdBeEF1gWkBWYFSAULBbMEcQQZBK8DPgPJAjACZQHVAEIAq/8a/2f+zv1Q/av8BPx0+wT7o/pV+ib6/vnq+Qz6Ifpu+qP65Ppu+9/7bvzP/Hb9QP7n/p7/SADuAIkBNgK4AhwDewPCA9QD4QP3A/UD+gPyAw0EBAT/A9kDpgNqAxIDogJ+AmoCCAKQAUYB+QCUAAoAkv8M/4f+bv4F/tf9hv1p/SP97Py3/F38YPx3/HD8jfzd/Ev9Zv2A/d79EP6P/sf+NP+t/yUAewDMACQBfwGoAcgB9gHxARYCCgL7Af8B9wHkAegBxAHBAZ8BfwGJAVwBPwEUAf0AuQCTAGUADwDl/8f/jP9J/y3/6f7C/oH+i/6Z/rz+z/6o/sT+zv4A/9/+FP87/2T/t//I//D/FQBJAIUAvQAGAfEAHwE1AfoA3wD/AB0BCAH9AOgA6gCuAKsAcABqAHYAVwA+AC8AXgBCAE0AFwAXADIAIgAXANv/sf++/2f/Ef8Y/xr/Af/E/tH+9f73/u3+BP8o/2L/mP/n/xQACwADAPD/6/8cAFoAfgDJAOAADgFgAZMBQgEUAU4BXAEpAfgABAHfANYAcwCaAGoAUgBEAAAACAC8/8//hf92/0//W/9H/wb/Bv/U/sz+6v6w/or+if5p/nT+iP5p/oz+pP6j/tb+3/41/z3/ef+d/+D///89AF4AhgC3AKQA2QDrACUBLwE7ASQBOwErAUwBMwE2AR8BCgEFAfMA2wCzALEAbwBVAPT/tP9n/1r/J/8K/wT/4P7w/uz+0/7e/t7+1v7t/s7+4f7q/vX+Af8m/zD/cv+c/8r/4f/l/wMAEgA0ADoAlACsAKUAggCMAN0A7wDPANMABwE0ARIB4wC3AM8A8QD+ANAAuQCWAHwAfwBQAGAAMAAlANn/FgDD/6D/AwDhAXcCjgCu/6D+gf6n/bv9lP60/vr/GgAQAI4AiP9Q/y//Ff/c/uP/NgBs/xkA8v/h/9T/LQBdADwAKADVAKYATACuAD8AFgCOAOoAJAE8AVsBfQEYARQBvADMAKwAfADAAO4AAQFxAA8A8////ysAfAB0ABMANwAAAE//Tv87/xv/J/91/4L/tP8DAJX/Af9O/zP/E/+E/5n/qv/4/93/Wf8Q/1X/Zv8u/9r/9v8sAAcA4v9vACcAzf/M/yEAgQBBADUAtwCFADYAYADz//v/RQB0ADgATgCeADgA5f+g/+n/TwB9ADAA6/9z/47/0/8MAP//QQD//7v/9P5h/p/+Rv8uAGcA4gBn/63+mf4L/+r+kv+yAMQAPgCr/5X/Cv94/lX+8v7d/94AogBFAQcBYAC1/2H/Nv83AC8ApQD2ACoAmAALANf/9v85ADUAswBJANcAgABtAEEA1/9aADEA6v+T/z0Azv+m//b/4v/9/63/qP9q/2v/bf8u/xkA9/+2/+b/n//2/1YA0v8EAPr/KQCSACIB1QEEAUUAa//e/vb+LP+CAOcAIAErAVQAyP8//yj/NP/J/6X/LgD7/wkAEgBo/4f/8v+4AYEClgJ1AY4Azf+t/vb+jP5m/4YAyf8eAND/+P9I/0X+Hv6a/jX/IwBGAbEB6wGsAKz/Yv69/Yn9C/6g/0ICAwWqBWMDiAArAAP/s/05/x4B7gHyAvsBagB3/zr/v/4//fgA+gD5AOMBGwEE/y/9MgC//k0ADgKBAT0A3v/o/tv9EAADAcAAPgGkAaAAyf4//dX8DPwf/G/+agDEAFICRgFcAIT/cP7k/Vr+d/8iAYcBSgIvAqgAtf+q/r3+//5YANYBmgJbAQQAvv0b/Nv9lQGhAswEBwXOAhsBOv+W/Nj5MPyl/t/97QAzBYEDggR3BHkBpQC8AB7+9P3k/gj/Cv5i/Xf+vP6//0r/VP/t/ID97P2B/24BeQEuAYEAOv+o/qP9Rf2hAdYAzwCIAcsBegCK/mX+d/1n/1gAIQGoAe8AkQBP/8L+R/7p/1UANAHwAhMCOwIlAKH9Yf2P/Fj+DACK/zAA5v8+/xT9iv33/ir/wP/6AIoAewDNABf/zv3U/WP/q/0uADkBPwELAk0Aov/x/tT+s/4U/87/lQHoAaEBUAKjAqoBBwHEAN4BLQJ0AogDDQPRAfgA2v8b/5H+Iv8uATABLAE8AGYAtf9T/2T/HQD2/0kAtgFmATIA8v+s/zb+pf4/AHwA9gDbABAAVf8Z/Q7+B/27/Rv/GgCcAGMB2wDDAJsAJ/7+/jf+Wv6t/hT/6v/RAK4ARgAoAQAAdwBbAPb+VQEnAIMBAgJ0/8z/Pv94/gr+Q/+xAAUBJAHn/4P/gv4O/lv/0v8oATIBIwNNAVb/jv5O/Z/9NP9dAbMAzgBsAOv/6/5i/qj+ogAtAXMBjAGhAKD/G/4h/WD+ZQCVAH8BaQHnAOkA6v8x/7gAGwAIAAkA7f/QAG0BpwDQAH0AgQAEAQv/JQHDAD0Aw//AACECawG8Aj4CTgEnAOsAEAF0ALQA2P/Z/xQAtQBWAKUB2QFnAbEAG/+q/YP+QAHMABkCqgLoAygCoP9BAUX/K/71/14AHABc/5H/7v0e/UH9CP6F/6f/DwBRAGf/QP0S/j/8f/yb/f79yv8+/+0BlwLdAZsCtwIeAn8AVwBX/qL9FP6z/pf90/zLAfIAq/4q/+39OPxW/J/7KP1OATQCJQJ+AU0AGf53+/P6hv1+AE4BJgHHASMCoACh/9P+T/3I/dT/VQCEAVIB3AA3AIT8Vf93/mL+VgGHA48DLQJ2BAEBOv+9/X79gv0n/6ABYwKnAgIDSwKB/5j/GwE/AGEBqgQiAo7/fwAi/9r7VvwP/fj+DwH+AvwCVQFP/6z9sPu8/Hb+BgA0A+oCHAEAAEj/nP0S/vv+RABUADMADgAN/8n9hv7v/er+RgK2AmUBnACSAOr+Wf3E/f7+3/7HApwDtACnACgB+v21/p8BlABSAM4BEgHN/6YBigFcAJn/zQCl/0n+9ADIAJT+qQEpA7YAQv9g/30Axf52/xEBxAGPARYAUQCG/qAAzwGLAXcCIAGLAMn9Ef32/G7/2f8lAJQDxwKBAsIBagCS/6z9F/91ADUB+wKyAskBVP5Y/5L/F/8kAPcAFQIkAmEC8v9+/rP/qQCr/f8AUQCP/t4AEf84/zj/Hf8m/+3/rgC6AKr/Cv5f/bf9yfzw/QAAHwGTAPD/XwGFAFX/MgFmAvoAXgAUAKD/gP6F/vb95v3x/TgA8ADLAOEBVABd/xL/gv9OAHcAkwACAYEAWgDt/6z/gv88AKz/jwFzAAf/M/+6/IH6G/us/X3+rwI4A3wCOwKy/+b8Uvu1+rv8nP5DAQEEGAODAv4AP/4U/t385v21AbACUAMnA6ECRwA4/4j8QPsa/T3+PgENAzoD+AENAl0Ctf8T/5kAyAGAAJ3+rP9wAOT/i/0jACUB9v9DAbMBMwDJ/2IBYgA6/3UASALJAewBNwFEAdT/rf95AAz/q/4sAC8APQDrAUgACAAAAPL+6v4FAPoACALlABMBMAFQALEAav8HAC0B0gFMAUcBdQE6Aar/f/9f/xP+Hv+O/lwAkgBG/wwAOgB4AZIBxwBu/4j+CP3H+077u/yEAHwB0wFbA4IBlAD9AMb/7v6m/hIAHABr/lb9q/7i/Ub9IP3M/lUAXADl/6v9R/9w/nD+g/8jAOgA1wCYAZoAOACs/2QAkv5U/QkAygDiAHb/EAHbAfEA2ADYAHUAsP9//w3/Of8O/pf+rgCf/3P/LQMrAgD/t/5jACb/R/3f/+QCegFIAOEBxgAP/fr8aP+6/Pf7zv9uAGL/wADBAdb9l/y4/5oAg/6//bwCEwFi/0IAf/4f/bz+hwFb/5gA0ANOAo0BegKIAOT+uP93/9f9M/4tACkBJ/+l/0cBj/+q/7IBDgPpA0kEWQSxAj4Brv+B//L+B/67/pr/2wH4AVoBAALUAb7/5/16/RUAKQCG/xQA1wB6AUMAnf9Q/hn+6//+/tr+cQDp/80AbQGgAOn/sgAWAIIA2gAyApUBBwAaAOwArwHy/8gAaQCq/0r+ov6b/08AowD5AasDbgS2ArIAAgNoAIH/9gCzAZ4BZQHlAPz+Gf/G/o7+8v1E/m3+u/1k/l7/C/+V/4sAa/+Z/6MAtP8X/hr/Nv9B/gH+l/1Z/in+pP3E/qr+k/5g/4H+Cv5i/R3/Lv87/zoBb/9vABYBhP55/Hz+oAA8/xoAOwPKBFwD0gI3AVz+Nv6L/eD8m/6IAWECHwIkAZkAhQF6AIwAUAHWAQsCHAE2AL7+vPyR/Ez85vtx/VD/+QAKAeYAwAAk/zn/Nv88/Vv9of48/yX/CP87AAwCxwEZAVIC2QNjAUkBywEOAKr/2f+CAcH+Mv8HAmsBS/98/kj/7f4sAP4A/QFgBOUFdgYwA08B8QF1/e35tfvB+jj6N/6Z/yUA2wDZAVYACP4g/qz+gv53/1sAKQCXAIf/Xv7u/eP9QP2D/g8BqAFSAhwEyAMMAo8BTABR/tEAQQIXAeoCXwXLBIYCIASTApb/nAC6AVMBTgJjA5sCvgFDALL+j/39+sX68/yO/Bn9R/3A/skAYv9z/nD/N/6D/DD/0f9M/aT8w/5p/u/72/wP/RT+mP+A/x4AxADwAdwAIv/PAAECZQGuAh4EggSRBEAEKwQGA+EBxgGwAT8AEAHjAREBEQEtAcUCjAJHAdkADAD8/vD8f/tI+076mfqe+kT7Iv0m/jL+Vf9WAUP/nv83AJP9Y/1L/bb85v0X/zH/mAAEAZYAfAF7AusBxgCxAXcC/QEJAmsDDQQbBMYFVAY2BnwGwQVeBLsCwwBC/1T+GP5d/V/+dv9//p//C//A/Kv70vr6+M33MPhi+Db5jPrb+9783fzr/DD9pPxE/Jv85/yi/igAvgCeAlkDwwNLAzkCDgK+AZ8BogEQAzAFWwbzBpwHLwjuB6UHrwerB0oHvQb3BRcFBwOWAFz/i/4a/l79f/x3/LH87fvD+lT57Pgj+UL5Tfii9wr4nviu+B/4V/f4+Mj8jfxW/X3/0wEfAwkD1wI1AtIDBwQxAhMDcgSdBBYEegOWBOADTQQGBowGhgc0CPAI2QoACs8HYgejBgQFOQI3AYEAJ/9a/kD9hPvV+qv5P/jh93D3QvfP9gn37fZo91v2RPUk9dvzNvXn9jb3zfmU/pcB6wPdBT8GqQfdB+cEIgNoAsIBogGbAR0CIwI6A20FFQUkBbEHWglPCsALBw06DJALTgrZBrMENwKh/17+R/1v/F/7P/qy+mH7Cfry+Er55flv+In2SPU+83jxFfGJ8Y/wmfPq+BT8kv9bArcGWgnZB1UHaAdxBdoDegPxAVkB5QG2AroDaQPwA20FWwZ1B3QIpgmjCiUM+gz7CjEJwQhuBtMC9gCM/4n9V/wK/H77xPro+qj6u/mI+ZH5kfig9qP1kfLa70Hw5+9r7mzwnvZx+dj8wwEzBOIH6wngCAsIlgdJB00FGQOZApUBngC6AZUBqAC/AnMFwgaUB4IJMQxkDY0NwQwFDJILJwkQBvwDSALx/+P9YPxI+2r6cPmp+Kr4HPin95f3APcK9ubzM/EI7pLt+e9t71rvgfUS+zD+cQKaBX0HsAkeCZsHcAe+BngFtwQgBEQCSQG2AdoAcP+oAVQD2QPtBloJVwslDU0OMQ9gDjoMvwrICIUFcwKeAPv+QP1b/A/7ufr6+v757Piz+LD4EfdE9Q30KvGk7GLqCer86S3sze+19bP9KgQjCfAMRg9/D2YNYgp6BoADkwKSASMAs/+FAGIC/wEzAAUBiQI1BC8GBQhECqMNrQ8CD3QOGw16CqMHrwQUAof/Cf6E/Sv89Prg+qP68vkW+Rn4dffp9f3zufLo7gjqjenN6gHqKuzY8+P6rgBLBxgM9g7vD7UOtwsyCIYFfQM+ASf/e/9CAMv/KQCyAOsASQL/AyoF6gboCRANnw4YD0wQ1Q+JDbAKEgg9BVwC3/+0/QD9UPu2+kP69fhZ+XP40PfR9/P1B/VB9ATwrOpw6b3qpepX62jxT/o4AacG/gtTD+4PMg9qDLcHTgQZAjAA8P7w/SX+2P6P/97/2v/EAOMCzwSbBiwJnQugDZ4PZBAAD3oNeQxCCqEGVgSeAlMA7v58/bX7qPq++cz4nPgE+Nv2ivbb9YT0qPIl7l7ph+hj6lDrj+xi82X9PgTKCK8N+w87EHYOAgtXB+8CKAGOAND+Uf09/kH/Wf7v/sL/BwDwAWAErgaDCUUMzw6XECURoBCDDtsLhQmKBtoCVAC4/l79YfyE+177qvvG+6f7DPtL+i35YfcV9QLyLO5o6B7m0OgU6rfqcPGc+0MDiQlPDYEPLBG0DxAMbwdrA4EC1AFK/5L+K/9D/zb/bf63/RH+8/9KAlUEPgc4C0UO3w8AEY4Qmg6UDAkK0wbsA4QB4P/g/v796/wS/O/7uvtQ+736Pfon+pT5R/fV9M/x/OtA50znT+jq56DrQPUh/g0Ezwm9DvYQ5RDQDisKigaOBIUCkwAw/1H/of89//X+2v1B/Rb/fQDfAagEGgjMC/wNaw//D+4Ofw24CwEJIwYyBKoCOwEhAB3/Av4F/RT8avvX+ln68fmj+Wn49PY/9pTzDO2F6H3pG+k26OzrxfPp+7oCdQjTDAsQShAdDkoL/QcaBTADTgJ8AQ0A8f/g/0D+Jv2c/Fz89/2nANsDLQd/Cg4OBhAkENcOOA2gCy8JcAaYBHEDJQILATUARf/Q/Vf8Pvvr+nv67vnC+TX50vg497D0yvBm61Pn5+ag6HrpW+56+B4BEQelDAkQRhDdDtkLrwcoBPwB/QCyAKYAwAC5AKMA4f95/lj9x/2A/88BwgQmCDUL6Q1HD7gOSA0qC1gJjAeRBVMEpANTA8ECswFIAJP+0fyG+976W/ru+bj5tfnp+Nn2l/Qg8VnrLecK5xHoFOoF71r30gBSB3oLGQ/hD8wNDwvnB1cEOwIfAg4CdgE2ATABeQBF/7n9s/xR/Qb/YAF9BMsHrgrhDEgO6Q0VDF8K+AhtB8QFwwRlBAIEPgN+AhkBZP/O/ZX8u/sS+6L6d/ql+g36hfgI9h/zlO+16UTmw+eX6afrrvEO+woDWQjIDGMPIQ9QDb0KXwehBIAD+gJ5AvEBmgGxALL/Uv6d/DT8KP0Y/2QBQgSBBysKRgw7DZsMews8CnUJVgglB54GJQbABX8EYAKEAE/++fuD+qH5XPnb+bL6Svvw+lz5BfdN9HTw+ekh5l3n6Oie60jxGfk+AewHcQtADR8O4AySCgoI0wXLBN0E2QRCBPECnwFFADT+5fvh+sD7ev1pAOIDCgcACuMLlgwaDNkKgQkDCEoHEweaBjkGSwbtBSwEBQL2/wT+ePxv+736/frX+xb8nPu5+e32QvTy8PXrE+em5P3laOmM7c3zkftDBI4KbQwXDgEP8gwxCukH+AXsBNwE+wRBBIAC+QCv/479TPuq+r777P0FAW0EWQcXCukLCQxAC/IJwwi9BwUH5AYHBw8H5gaDBuIElALZAND+vPy9+5j7nPu/+0D8EPwj+sj3IfXB8aztSeiz5BDlluiV7AjxA/l1AqcJZgynDY8Odg0QC4cHIQXiBMwEEgX2BGMD9QHYAHv+cPvZ+WX6N/ye/qQB3ARGCOMKVQvVCvcJGAlmCIgHJAepB7sIGgmzCNYHRwbuA3QBG//r/ID7//rR+kD7Fvxf+8P5fvdo9DDxO+2e5/jjGeXE5wbrb/BJ+A4BqAdtC9YN3g7QDZcLcwkQB0gFVAWLBUwE5QKYAW3/Lf31+iz51vgA+7z9JwDiA4MHugmjCtgKWApMCccIsAiRCC4JMgqyCpAK/wmyCOcFngO2AWL/pP1u/P/74vs9+xH6e/hG9lLzbPCS7SDq8OYx5gboOeuh77f0s/sIA2EHgQpVDIsMAAy4CgcJbgemBr0GKAZOBLgCKQHS/pj8I/su+oL6d/x//pEAMAOnBQoHcgecB1YHOgfqB4sIMwmsClkMKw0zDX8MuwpdCAYGaQPzAD//Gf5B/Z38nvv4+eP3S/UK8pTu5Oto6Z/mC+XB5o7qDO4c8lX4Cv/kAx0HZAnGCmgLZgvPCtsJ+wjRCOMH4wXLA8UBy//V/Rn8+Pr/+h/8fP3M/qMAjQIgBHsFXwbXBmoHWQgvCQIKAwv/C+sMuw3qDfgMVAuHCXQH8AQiAn//bf3w+1P6Sfha9or0rPJ38B7uduzx6tzoWOe/6PbrnO6p8T73Bv7UAgcGxwjECiEMcQzBC5oKewkiCWEIbgYeBBcCUACB/lT8ufpv+lX7v/wY/uP/2QHdA8AFEge1ByUI8AjpCWMKYQrTCgEM3QyYDCEMmAtjCnMI/QVyA60AH/4N/B76JPiQ9iv1YfM68QLvVO3e653puecN6ELq+Oxr8Ff19voJAB4EHAcMCVIK+gr7CpQK9QloCe0ICQhZBkcElgL8APT+Hv0M/ML7OPw1/ZX+5v9PARwDnwSNBUcGHgdLCHYJTAo4CzkMLA3CDZgNBA0+DP0KKwnIBh4EjAEN/4T8Afqb94317vMV8srv0+1z7NTqr+i9583o0+pA7fvwEvYc+0f/2wLrBQoIbQlWCqYKqArhCuAKSgovCdEHHwYsBA8CDQA1/j/9Lf1v/fD94f5dADYBHgLkAjADzgPIBAAGVQfTCIwK9gv/DKENgQ34DCoM1goHCRUHCgXSAmYA9v2E+wf50vam9J3yq/DV7nftZuzg6n3pDOoW7OPt1O9s87f3afub/nEBswPUBbwH/wjlCT8KvAoaC4kKhQkiCC8GPgQ9Au7/Mv6n/XX9af0D/hv/LwAuATEC8AKxA4sERQU6BrIHDwlKCnELOAy7DKgMKAxtC6UKiwm1B7EF7APcAWn/1vyE+on4a/Ym9N3x1u8I7gLsIurB6G7ozOkD7PbtrvDo9HT5pfzP/okBewRuBr4HWQn3CvYLqQwEDegLHQq1CN0GNgT8AZAAn/9C/yH/5v7x/nD/BQBeAJ4AXwFIAkEDrAT1BUAH1Ag0CiILtgs2DI0MWgy9C/UKlgnHB+YFpQPgACX+tfss+br2p/Rs8hrwJe5x7Gjqe+jd56roJepZ7HzvcvO094b7Xv6kADEDeQXGBuEHrAloC3QMDQ0xDXoMRQuKCWoH4QTOAmIBNABt/+D+v/7r/vD+EP+C/xEACAHaATMD3gRUBswHKwl+CpkLXQyjDK8MmwwFDPsKSQkhB/gEuQIlADH9dvpr+Gn28/Mz8c7u/Ows6wzpP+fJ5inobuqf7MrvUvQy+Sj9DwCvAj4FiAfrCMUJzwoEDOUMJg3FDPsL2Ao2CTUH6ATWAlEBEQAh/3n+8/0P/oL+r/7g/on/bwBrAdQCVASSBQQHzQhRCnYLXwz4DCYNzwznC3YKhgg3BtoDwgFc/4/8RPp8+Ij2FfS28dDvB+5f7HjqEekf6SbqruvK7ejw2PQB+dr8rv//AZwEfwaRB8oI4Am/CqMLJwzcCw0LHQq3CLUGmwRsAmIAI/9j/vH9zP0a/gn/9f97AMEADgHYAcYClAO5BFIGLwgBCo8LnQw1DY4NVw12DBILcAm1B+MF3wNUAbH+Y/xH+vf3evVN87rxLvCG7jbtX+yM6xrr0+tU7RLvhvHt9KH4/Pvb/nABvwO3BSAHHwjfCG0JzgkOCpgJtAjWB+UGhAWZA9ABaAAk/wH+Y/1K/bz9ev5v/0gALwE/Ah0D2wOmBKMF2gYnCIwJ/goLDMgMOQ0lDXMMJwuwCQoINAYbBOQBqP9W/Sj7JPkC99z0FPOR8fjvf+5a7WHsvesW7E3t5+7x8J/z/PaE+m/92f9EAqoERAYvB/sHxQgvCTcJTgnECLUHzAbTBWsEjwIlAVMATf+S/k3+W/6t/iL/vf9MAMwAowHNAu0D+gQdBp4H+wgKCv0KwQtRDIIMJgxyC14KyQj1BiUFIgO8AI3+r/zO+vj4NPe89U/02vKR8ZLwy+9N78rub+5J7y7xDvPe9Fn3Z/r6/On+ugBVApQDsQSZBR0GdQbqBlwHPweHBqQFwQSbAw0CjQCA/7r+Xf6G/tb+RP/8/8wAmAFiAjED2AOXBMUF3AaLB2EIdglWCsMK4AoICwELjwrbCeUItAdeBtAEBgPaAHr+Rvw7+i/4YfYP9Q30QfOw8iDysPFa8bzwKvCd8NHxIPPj9Lz3A/vD/QAAHQLwA90EIAVEBUIF9QQUBT0FEAXOBLAENQQ7AxcCzABi/3D+/f3c/Sv+4f5FAIABvALAA2QEEgWoBf4FaQYSB8QHYQgACY4Jwwm4CY8JEQkmCBQH9wXfBI0D/gGYADj/1f1i/Pf6rfmW+Lb30vb59VD1z/Q+9LrzJfOq8pzy+fIU9L/1efen+W782v53AL0BHwPiAwIEEAT8A4ADFgPwAmMCzQHTAaEB7QCNAIEAhwCMAKcAugAnAf8BywJ2A2oEPAXCBf4FuAWcBYAFagWsBT4G2wZRB94HmQgBCfMIlAgeCIgHTgbMBFkD+AFrALH+Ef2Q+x36uPgs90r1wfOO8o3xjvDB76rv9e9I8GnxrPM09kj4+/qo/k4B9gKVBAAGzAb1BnkG8QWaBfYEAwTdAs0B8gAxAE//ef7G/a39Jf5F/on+g//DAM4BvAL4AzgFHQbFBjEHZwfGBwwI8wfgBwkIQwhaCGYIWQhDCBIIbgduBl8FFASPAsgAtf7P/Ej75Plo+Ej3ffbf9Yn1HvUB9P3yzvKs8szxDfGl8T3zQfVn91L6JP7jAWYENwapB2cI1geTBkkFNAQiAyEClgHyAMIANwB6/9L+3v0J/c789/yK/Yn+LwA9AvkDbQW/BtQHSQhSCDwI8geABzMH7gaaBp4GxwbPBrwGvwaeBv4FXgUCBYQEjgOWAq8BoQAj/2n9wvsH+kX4uPbR9UH1z/SX9LX0tPRr9OLzUPPN8oXySfNC9Qj3MPky/WUBQQQ6BiQIRgnoCIEH8AVFBH8CBgEZALz/P/8A/0f/HP9F/t/9BP7s/eD93f5uAMwBlQN0BdEGAQjvCDYJ9gi3CG4IkAfCBpYGegZaBpoGFwexB+UHbwfMBicGsASFArYAS/+m/db7zfpm+uH5Rfm9+C34k/es9nP1A/QP8/zyp/KK8W/x/PIz9bX2Sfjr+9r/UQI3BE4G2AcxCLgH3gazBVkE6QJ0ATEANP95/s39Qf0B/cr8mfzb/MD9zv7O/0kBHQPWBFQGowebCB4JWglMCQMJhQjHByYH8waqBhEGqAXvBSoG7wWRBTAFpgQFBPYCdwH+/6r+Xf3H+zz6FvlQ+LT3NPez9p72ofZY9nj1w/SU9C30S/Pn8tHzp/Wq98H5mfz+//wC7gQNBtIGCQdbBgEFgAMzAgoBDQBH/8b+kf6f/rz+2/7h/un+Iv+z/zkAxADOAS4DbgSPBboGxwd4CKoIyQjKCIEIwwcCB7sGhgbLBSQFYgXLBYQFIQVHBYcFIQVRBFoDEQKqAN/+2fzk+jH5qfdo9oz1NvVE9ZP1DPYZ9hj2w/VW9c/0UPSq9Pz1UvcR+fP7ZP8yAhAEwAXZBvYG6QVPBJgC2QCT/3T+k/2//XL+Af/C/6QARwFiAZAB/QH8AdUBKALaAs0DvgSGBYsGYAePB3sHhQdGB8IGhQaHBlQGYgaeBowGaQZEBhoGxwVYBe4EQQQyAy0CDAGe///9Rvyd+v/4l/d69l31m/SD9Ir0Q/Qy9FD0e/SV9H704/Re9mz4TPo//Ab/QwJ9BH0FIQarBkcGzATsAlAB5/9//mj94fzw/D794v22/nP/HwDRAGMBtwEEApECKgOcAy0ECQUfBuwGfwfpB0wIcghNCPIHpAcfB6IGTgbyBYIFMQVTBTEFEQXOBHgE7gP3As8BfwDb/kL9rfsX+r34wfch95P2LPbn9YD1HPW+9A70MPOP8nvyS/Od9Fn20/g4/Oj/twLCBJ0G3wehBywGYQS5As4As/4l/Vb8E/wl/NT84P3v/gwAHQEFAvcCtAMgBJME8gQyBXEFnQWzBdYFLAaoBvgGNAePBxIIRgj8B6kHZQfzBjcGnQVFBRkF2ARvBPgDfwPDArEBQwBt/qb8+/oR+S337/U19Zr0WfR+9KT0s/TI9KH0WfQX9CD0vPRD9mD4ZPog/a0AiANIBbEGeAc4B+AF/wMeAnQAAP+d/eD8/fwi/Yr9a/4z/xoA+ADkAY0C4AJqAx0EggTCBFEFAAaXBuUGSgfyB1QIPQhMCHYIaQghCIgHLQceB+QGLAZiBRwF3AQOBAgDQAJ8AV4A/f6M/Tr8+/qh+SD47fYX9n71DPWX9Dz0J/QT9LzzdPNn87PztvST9ln4a/qP/fkAOgOsBDYGQwfBBgkFRwOcAaj/lf0q/LP77vtF/Cb9b/7S/w8BGwIOA6sDHgSFBJYEtQQkBWYFpwUYBqsGLAeJB+kHQQhWCCoIAAjgB3IH/AbvBuwGfAYEBuQFsQUPBRoEGgMdAt4AN/98/eP7Wfq0+FL3OPZt9fD0sPR39F/0SvQh9L7zavOE86zzbfQp9i34nPqj/QEB2wODBfsG3AdhB6sFcwNMAR7/0vwR+4j61/qN+6z8lf53AO4BSwNvBP8EBwX8BO8EsAROBDwEpgQUBUwF/AXyBoQHzwcrCHQISQjzB7MHhwdVBxIHqgZQBjQG/QVvBbEE2APdApUB2//v/Ub8r/rN+Pf2uPUD9WX0+/MF9En0mvSz9L30ufSf9Kb0DfUY9sD3ivna+9P+eAGBAxgFUgaHBpQFLQSIApcAwP4x/Tz8E/xi/DP9aP7f/10BkQKTA3YE7ATwBOQE5ATQBLsE0QQiBZYFFgaoBjcHmwfkBxEI/AfDB50HWAf3BrkGrgZ+BiYG5QWmBTAFVQQpA8kBOQBg/o38vfoX+av3sfb09Vz1I/Uo9QL1xvSg9Gn0+fNt87HzOPRB9cf2tvhR+zv+vgDIAosE2AUdBmoFaQQvA7ABFAC0/tH9ev1n/a39Uf4z/y0ADgH0Ac8CewPyA1oEwQT7BB4FVwWhBbsF6wU7BoIGqgbMBv8GNQdIB0MHfgfCB+MHzge4B6sHeQf1BiMG/gSGA9QBxv94/Xr7tfkA+LL2CfbR9bz15vUR9vv11fWD9cn06vMl89HyVPMq9GL1TPcq+mb9KgBQAiIEtgVVBn8FGQQFA+ABPwCo/h/+QP4//lf+Av8NANUAYAE5AhwDgAPTA04EqQTPBOQEGQVdBXoFlwUGBqcGAAcYB4gH3AeqB18HTAdBBxYHsAZjBoIGigb/BRUFSQSDA0cCYQCE/ur8Tfur+Qr46PZn9uT1S/Xo9Nz0tfRD9NnzlfMz8yvz1vPe9DL2LPi8+j79vv8SAswD8ASQBWsFggR2A2ACBgGt/+H+fP4//kj+t/5g/yAADgHsAZkCPAPwA20ErgTiBDcFagWRBawF9gUxBmIGjwbaBkoHkwepB7gH2Qf8B+AHZQc6B9wGewbLBa4EugPGAmABsv8R/o78Evuj+Wv4hPfS9kP2y/Ve9Qj1t/Rx9Cr0rPNk883z1vTo9Sn3X/ky/Jv+YwArAtEDowRoBMUDGgMuAuQApP/8/pf+Nv4X/nf+GP+u/1IANQEdAs8CfgMWBKEENgWfBeEFHwZABnAGlgaXBqoGxwa1BsAGJQd3B2QHaQfXB/kHqwdOBwYHhwaaBXoEawMnAn0Ayv58/Sz8jfop+UL4f/eq9ub1X/Xr9Gz04vOg85bzVfMh87zzS/Xv9pb46vq4/UYAQgKEAzYEjQQQBMICVQEtAAr//f2c/df9Qf7m/qj/WwAlAd8BYQKjAuMCcAP0Ax4ENAR0BAsFWgVSBZsFPwbDBusGIwedBxEINwgUCAoISAhRCOYHZAc0B+0GCAa+BKIDrQJIAVP/nP1L/Ar7uvma+Mf3OffX9mD2wfU79c30PPSn8yTz7fJ087/0SfYd+Kf6nf34/7UBAwP/AysEUgMcAgIB8P+v/or9Ev1R/Zb9//29/tb/rABbASUC2gJsA+ADVQS1BOgEEAVUBUgFPwWIBe8FNgZdBtsGfgfuBxoIMwhlCI4Icgg3CAQI1QdtB58GqgWXBF4DxgH1/zr+oPwJ+4r5T/hd96j2DvbI9WD13vRY9OXzjvMd87HyKfPD9Jv2JPhw+uH92ABvAqoD3gQJBfcDTgLuAKv/MP7E/DL8g/wX/aL9lv7v/xAB/QGeAjEDxwM4BHUEjwSkBO0EKgUuBUsFjAXpBTcGdwbIBk8HvwfRB/4HdwjICM0ItgilCJMIEggJB7QFiwRWA20BLv9X/df7X/rJ+GL3ovZJ9pb1xPRp9C70y/N18xrzvvJR88T02vUA90j5V/z//toAYwKZAyQE4gO1AkoBRgAq/wL+W/1i/cv9NP64/p3/jAAuAcEBRgLCAjQDhQPqA2QE3gQ6BWkFdQWuBQIGHgYUBksG1AZiB88HJwivCEMJhQlgCTYJ/whyCGwHOgYVBbgD5gHX/w/+pvwr+4T5L/hL97f2CPZW9Y701PNG8/7ytfJu8n/ym/OT9YT3Q/ml+9j+8AAEAq8CPQMgAwECnQDE/0X/1v5b/lL+B/+w/+j/EACYAPcA/QArAaoBIgKUAgYDdQMnBNUEGwVEBakFHwZKBl8GpgYWB20HtgcBCHII1Aj8CBIJAwnKCE0IvAfgBqoFUgTOAgEBX//Z/TX8kvr5+I33kvai9X70gvP+8sDycPIj8jny8PJB9Nv1fvdQ+ZX7Av7//z8BEgLDAs4C7wH/AHkA8/8x/7f+9v5d/4j/mf/o/00AggCuAOgASgHxAYIC8gKrA5AEOQWnBR0GuwYHBwQHAwcKBykHXQeDB7EHJAi2CDkJkgnKCcsJbgmGCBoHewXAA4gBWP/D/XT89fql+bv4CPg99yr2RvWM9MDz7vI88tjx2PGQ8ij0APbJ9wT6nPz0/nsASQHDAegBjgGlAMD/Uf8W/8f+sv4Z/4n/xv8LAFUAbgB8AJ8A1AAzAdABmQJgAycE9QTWBX0GwwbWBg8HLAcHBxYHiwf/B2QI2ghUCaIJrAlhCdgISQiMB3EGAwW8A2kC7QAn/3L9CPzM+or5NfgY93n2wvW+9OjzPvPK8lXyFvKp8tLzY/Uo9yr5aPuT/VH/RQDFAEABXgHSAB4Auv+H/zP/Dv88/4v/p//M//z/PwBpAJgA2gA0AdkBhAI2A+oDugSUBUUG1wYvB0AHWAdgB58H/gcxCGoIvAgECTQJEQnHCHcI/gddB3oGpAWoBEkDtgFAAJn+ufz2+qz5x/i59+T2JfZA9S30T/OM8vzxmfGH8XzynfSs9kz4lfpn/WX/OwD1AIQBiwENAYAALwAsAEcAPgBfAJUAhABDAOv/kv9z/3P/h/8CABABQQI0Ax8EPwVKBrIGiwZ7BsoG6Qb4BlcHBQj5CL4JAwr5CeoJ1Al0CbAI+QdJB2kGfAU+BMQCOQFY/0H9TPvi+cb4nfd59sf1WfXy9F/0avNK8pbxs/Ec8tLyVPSb9jT5r/vh/bT/zgBKAXoBPQG5AFUAXQBxAHoAqwDmAO0AmQAWAI//Pf9E/4H/7//JAPIBDQPqA88EgAXIBeYFPwaXBhkHhAcXCMsIfwkCCiYKXgo2Cv8JnglTCQ0JZAh8B4UGUQUHBF0CXABe/pn8DfuF+RT4zPan9db0GPT58r7xu/D377XvH/BA8c7yt/Qf97H56fuF/b/+r/9lANQAOwGPAeYBQAJ9ApsCdQI4As4BRwHOAIAAegDVAFUBxwFIAscCNgOIA8cDHQSUBBkFtwV9BmkHSAj7CG8JtwkCCjUKLAr/CeQJtAlRCZ8IoAdaBgIFkgMlAqwA//5c/fX7nPom+cf3hvYQ9ZvzivKx8cbwA/D2793wPPK18zP1HPdY+Q37Kfws/Tb+Kf8BAMcAowGGAi4DdwORA5ADOAOIAucBbgFTAX8BoQH4AW0C4gIlAyIDKANcA7YDNwTlBL4FsQZ3BwwInAgXCVMJjgnRCeMJ1gmqCWIJxwjJB5IGRQX+A7sCYgERAOP+0/2i/Ej79vm8+FL3uvU29BLzLPJu8SrxjfFq8nLzfPSO9eD2NvhP+Sf6JvtN/Jr91v7g/64AjgFUAp8CeQJPAmICWgJHAm8C1gI6A6AD5QMyBEkEOwQ6BEMEbQSXBOYEhgUcBoMG7AY/B5cH9Ac4CG4Irwj2CAUJ3whrCLkH2waxBXkEawNvAiYBzP+x/qX9YPzF+jb5A/j59qf1Y/Sc8yrzrfJw8pryLfPS83b0PfVo9s73+fjU+c36Tvyk/ZD+ZP9WAF0BCQJjArgC6wImA2oDtAP6AzwEgATHBAYFJwU3BU0FdQV9BXkFbgWGBc0FAAYTBjUGeAarBrcGxAbdBvMG8AbIBqQGWgbBBRIFZwSZA3ICQQE2ADn/Fv7y/M/7pfqZ+af40vcP90j2kfUN9c/0u/S/9NT0H/W19Xb2NfcJ+BD5NPpX+178PP0H/sH+Zv8GAKIAWQEoAtsCYQPsA20E1wQ1BZEFywXjBRsGRQYyBhEGAwbtBcAFlQWVBZoFfAVtBWsFVAVGBUMFJgXlBKUEZgQZBLIDQgPNAj4CoAETAYQA3/8B///9K/2w/BP8PfuX+lL6KPrP+VD58vja+MX4ifh3+Lr47vgw+Z35L/qr+h37nPsX/G/82fxB/bz9P/7E/lD/2v+jABwBmQE2ArUCIANrA8YDJgRUBGMEawRnBFAERAQ6BC8EHQQUBCAEIgQhBAwEAAQiBDMEKwQbBAgE9APhA8YDhgM1A+MCjQIhAsEBSgHPADoAj//l/mL+9f1u/eX8T/zd+0/73vpy+hv60PmX+XL5dfm3+c/53PlL+rv69/pC+8P7W/y6/DD9l/0A/pH+Ov/L/28A8ABFAbABDwKBAsYCBQNCA3UDiwN5A2MDYgNNA0wDWANcA18DQgNAA0YDYAN/A2UDYAOSA94DAAS2AyMD9QI6AwkDhAIvAhkCuAEoAbcALACx/yD/ev4C/q39VP3T/Ef80Pua+2r7Hvu9+pH6pPrL+tv62vok+1f7kPvX+xj8fvy2/P78gP3x/VP+u/4s/63/IQB/AMoAEwFXAYkBrgHWAfwBHQI6AmwCmwKnArACvgLFAtMC0gLBAswCBQNfA5kDmAN7A9YDRATWA1UD3wMiBHwDDwNPAwQDSALjAYgBAAF7ACQAnP8V/5P+Of6k/Tf9sPxS/AH8vPti+y37cftO+2n7T/tx+xv8Xvxr/J380/wZ/Vv9ff2k/eb9Nf6z/hz/ZP+r//j/OgBlAKcA9AATAT0BiAHQAQcCHgIvAlACdQKPAqcCngLSAg4DNQM1Az4DaANZAy4DCwMgAyADBgPAAnoCLwL2AaEBSwELAbIAXwASAMb/df83//H+tv5n/hT+yv2g/WH9Rf0k/Qv9Qf1Y/WL9aP13/ZD9m/2p/dj93f3i/fL9A/4s/ib+Nf5O/n7+zf7y/jn/c/+w//H/OQCMALMA5gAgAXIBfwGyAacBpwHBAdsBAAIbAjICKwI8AjcCAQKnAesBggH7AE8BhgEuAZwAxwA1AfQAgAA8ANQAqQAwAE4A8P9FAEIAAADu/+z/5f+h/4T/kP+R/zj/Fv81/xb/9P7O/vL+E//O/q/+pv7D/sL+g/5x/qb+wv6v/qj+1f4m/yv/Hf9K/4r/4P/v/wQAVQBpAGwAWQBwAE4AKAA0ADsAbwCRAFUASQB5AH4AjQBjAGAAtwDHAKAAdQCwAOUApgCeALMA2ADHAJAA1ADmALcAoACkAM4AkgBFAFUAkACAAFoAIwD8//b/vf9h/1v/jv+K/zD/x/6w/t3+Dv/C/pH+nf4B/yP///7e/jH/cP+P/5D/sv/p/9j/8P/7/0oAOgAUAPD/EgA5AEoAKgA/ADsAOwBZAGgAeACLADoAqQBRANoAywD8/1MAxAFIA1kBQgFgAgwDpP95/2wC+QEpAGkAtwAlADIAoP7G/0IAuwGVAA3/qwAgAN7++f4x/6n+0P58/1n/tf6G/gb/s/8O/nH93f5m/4j+cv6Z/1n/w/7f/mb/LgDU/hj+MP9Z/0D/Hv+r/zgA3/9h//T+2P/+/+z/o//W/7UAfwBx/1UAewHF/2oApQDtAU0BKv8JALEBHgIhAfoA4gEaAnEAXABTAlgCeAA9AOYAQAK6AIsAsQAoADUA//9G/3EAFwGr/kD+kf9FAl//iP1f/rT/egCt/QP9qgAvAZr9gfyi/y8CogGK/Kj+sgMUAcsAsP6v/3cCqQBtAev7yABqApz/ZwAO/pABw/7z/WX/bQLo/339rgBYAEz9Av/BAqsAO/2D/ZoCKAN0/R4AOACSAbH/dPsqA0kBM/3K/XcFh/6/+a3/zgLDAHX9+v+IAKf8kf8zAET/gACd/IUAdAA+/8L+zv6dAGECPv+t/VIB6gIB/6j+ggFkAxAAsvtWBZwFW/0j/MABEAUuABn+Mv9Y/7ICXQItAMj+UgGbA47+NP46AHoB5APx/2L6xQFPA0H+Pvy4AYEG4P+p/mgBZ/6qA6gBOPq/AOQASANy/V38SQH1A439J/wlA1UCLf3T+ZQCwAIDAVj8xf6cA14B3fqd/wkC8wDE/rb9ZQG2A9L+Wv3D/7MBVwLk+xz/Ff2sBSn+Ev6R/mwByQEK+oIFXwGs/1X+AwAt/eUD1QKG/jL/OwKOAFwAlv+Y/F4G+v4f/4j+ggH6AdYApf6Y/mEGQf01/sEBHgTB/Xn77QJI/5YADP40AF3+nP0DAqn+c/5iAPQCwv3j/8YAxvs/AYQAIAAR/yX+GAAZAu/+lfd+BYECjfpZAQQA3gCm/LT/yf5L/ikC5P50/jn+/P6VAsD+r/5S/qkAFf6V/lj+ugSsA2H4vf/IB5sCjvUzAwUIEgFK/g/8TwTFAbv9bfsHBdwC9/r3ALEAzQH097r/bAhEAor6F/3BAr8Dyv2sABgAIQM8AFP7swdBANv8UfqCAxQG4ABO+lECpwQZ+xH+pgS3Azv7vfdJAngHif2K+REC9Ajg/Kf4ZP7yDbP6Pv7rAW0AiwZz9lL9UQPzBXD9kf8nBtH+Rfy2BOgIqvl9/NoHWwP++kAAzwkk/w78tQM6BsL9wPlaBdIDLftf/ecDrASr//H/Uf3s/PsDqQMB/UX5GAZ7BXH9A/f2A9UIMvks9jcIiwbB+AL3wwWdBLHxUQTrBUz+cfyP/lT/0v6F/ZQB+P/B/WUDUv7j/0f/ngCN/sf+eQEdBOn+EPqd/30CTP87+8b+BAND/yz5fv3PAWkCG/52/30Ab/6//yX9QgA4AyoCJ/72+sX+bQbCA8r6TP1FBg4Bgv8w/0X+qQTZ/Sn/DwCm/1r+MQAMAmEAYP65/foBbP9g/5P+iANhAX39nQBl/8sAEwF1ALQCKv98AlED1v8//D//OwbTACr9h/5sAh/9XfxM//AGvvtX/KEE0/6q/vT+sf+fAYADtABg/Cn/4gKu/6kCjf8z/woApAGQ/un/WASR/bn8KQKmAeT/dP4kAR4DOAGSAKz65f/3AxH+tvzwAocCo/7rApwEFP+F/R0BiAAEA1ABsgAlAIz9sP4R/xAA3gGEAIT+kQCfAoD/8/x2/+4ATQEh/+r8LQAaAMf+p/2FAHgESwDQ+5b8bQIXAJv9gv+5An8Ahf6TAWH/C/5DABQCFgACAMb/ev83AH4AK/90ATz/b/70/pT+jADD/Vz/Cf+d//3/g/7F/60DmP4k/ywBd/0Z/kn/5wFRAPQA//0I/rQAWv37/XoBPP9Y/nr+ogBoACr+6v4q/zUDEgE1/pn/lwHyAD/9Pv5jAd0ACP/B/hf/E/70/nEBDQI2AC/+/QFVA+r+qf3gAcICOP/o/vz/DAA9/1z+zwA2AED/9f07/4L/gv6A/2b+HwDf/cP9xP4t/3EAnf4l/9UAU/7I/UD/fv+6//797v8FAz3/S/4VAI0BSQG0/sD/PAGz/wj/yAHqAHz9wP5NAVwBZP96ANYCgwFF/1f/1APZAbL/DgGaACb/BQCdAzQC6/+X/pv/1QK8AoL/k//iADACEgGX/ywBbAKx/wP+MQL/Aqn/vfyh/dQBgAJaAGsBwAD4AHABH//U/iEBBQEZAED/FQAZAIr8lf/y/3T/mgCRAlgDZ/9LAOsByAGt/sL+QQHQ////6AHJABf+4/7eAOcCIQCz/rwAtwB2/ez8QQJnBPYBSP5G/0wA7gDMAtP/AwD+A2gDmf+h/PP/2gAH/+3/zAEoAnz8D/xeAVX/lfsVAbUCqgLHAHz8Mfwz/PT/EADy/xwBvQCFAC7/dQHFAUsA8f/BACACU/wD/kYDagJlAOX+4AD5AYr/jf1AAD0DWgLQ/4j/eADJAO//aP/ZADgClwCM/hL/ygBBAqoBA/9u/nD+/v6WACwB/QHQAdb/uf+ZAHcAzv/5/ycCDQHF/5/8Pvwj/hL/FAC6/wEBfv95/uT+j//FASIDbQKCAcsACwJQAA78Tf0e/xL9Dv4rAHD+Uf73AYIDCgEs/wQAIQJ7AzkCBgAZ/6T9kvuz+9j9aP5ZALkCqQP2A3YBY/49/hMAlQHr/5j+GwCi/0j+Y/2g/bL/dAK1Arj/Fv6OAAED7AEb/hP9sP6m/wsB8f/a/NX8jv6Q/2ABKgFkAAkBcgD4/Mf71/84AZz/iv9bAIb+Z/ys/Yz/MgGPAusBav+X/Vv9PP0o/QsAswJmAMr8rvyV/87+Vv3t/tsA+//u/fX/HAFe/17+uf/NAL//L/4M/Vz+IP+I/un+zP7l/1UAawH5AZv+Yf7b/x0CRAKy/Yf9ggGFAFX/zwDT/8L+ZAAOA44DigGH/Vb8eP45/gT+G//x/6kA8//z/yABdgEQAecBlQS5BJECOwIsAsH/Nv19/Nr8zv1p/3T/Tf4v/1sCywMOBK0FTgb1BEcD6wJpApgA9f2p/KP8hfyI/JP9tv9yAi8EagbYB9EF2QJ6AHr+Yv3u/cr9BP+0/yH/Zf8E/57+Zf4U/tH/+gEdA0cDJgFp/8v+ZP5T/7D/Vf+VAAYCTQElAPX/mP8mADkAS/9n/4kAhwF1ACT+vP17AH8DdwI+AN0BmgMYAGH7K/xZAJgBMgBeAVcC5QBT/1L+MP7O/4kCCAJt/7P/2ABFACr/jv5JABwCtwEaAbf/6f1L/nX/DQBIACr/ev6U/hn+lP0F/k8AigLhARIAAf8k/6L/kf6P/qL/wv8K//r9wf1D/jH/1QGVA3MC1QAQ/1X/IwCx/rX9hP48AQICJv9y/In8av2G/Zv+5QB+AzIDIAE4AHr/AQA/ApwD2QEY/lf8Kfxm+wn7Uv3pAHYCTgKPAq0CCwINATIAfQDP//r+PP4K/S/8Jvy//W3/RQGaAiEDlAJsAVIBNgDz/Vv8B/2h/q7/ZAFcA04DYwFVABL/u/3Z/WH/OgEOAYwAVQFd/yj7l/s2ASIE7wJwAvoCagB2/IT85f46AOAACwIPAvb/Hv8aAOkA/QPNBTwCa/6Z/yMBYv1a+tr90AHFAooB1wDQAbkCOQVuBIYCJwMdAr//cf6h/E/6bfv5/S3+Of/cAYEDPAJsALUBPwIpAQABSgBD/gP8Bfv7+279ef5HAN0Awf8D/43/dwGNAQICdQMgApT+Cfoz+Gb7lf59AHoBLAMCBRIDYACJ/jn+tv7w/RL9Mf1K/Yr+nAFkA7QD3QX9BmsFyQP7Aa3+jPsN+2/9TwCOAfUCfgLSADj/BQDqA+4E5QMCA5ACVwI7/2b8kf7CAM4BHANKA7AB+v5M/Wv8UPzR/Cv+gP+j//P/1/8O/5n+Uf9IARUDUQKm/w/+vPxI+2n7APxZ/Nz8N/6cABkCZwLkAev/8Pwf++L7fPxI+xD8Z/3H/fj+dP8vAPsA0wDEAMMCvASiAn7/EP9aAJr+rPor+qD8cgCEA2QFowe4CP8HigbfAwAB0P+I/xf/Gf4//U/8cPyS/5wCewMGBAMEEgTbA80B/v8y/m/9rP05/If7YfzJ/Ab++v+0AEgAPgHhA1gE5AFDACEAyP76+oX47vcA+NP5mvvv/scAvgEeAioAlf5a/tEAKgN3A7UC0wJ0AXX81vgn+HP6mP/DAd0ANAGMApcDvQPsAgYD4wOzBNYDMgEj/6/95/2//0gBKwJyAogCOwMKBP8DoAKXAQACVAF9/iz8gfto/XABqwT2BfUFkgTlAGr8+vl8+jz8yv6JAOkAdABR/yr/vf6p/S/+2v6W/vb9gfzi+lP60/rG/D8A9AJ1A2gCxQC7/r/9R/48/g/+fP5v/0b/4v7TAEIC5gGqAQ8C8wHtAJAA8ACaAU8CCAJ2ATYBNwHsAYoCkwMGBBkDCwMeA10CWQH7ACUBqgHJAU4B7gC5AG0B/gEQAlsB9v+Q/wP/Kf4B/tP9Zf4C/wAAAAHPAAP/cv35/Qf+Sv7x/pH+5v2o/Kv6wPir9iP10fWB+Lj8IgF+BAYG9QX1BOEC6f9U/c/7uPp5+Wz5/frP/Hf+HgBGAloFXgiHCQkIKwUQAsj/Ef5I/T7+Xf+RACMCPwNSA8EDhwW5BiUGFQX/A1cCagAD/5j+4/5v/4MAxAGWAhQDqgMVBRMFGQNlACX+lfwe+7z6Fvwc/5wC/ATIBKUCXwAm/vf74PmV+AD5Vvrd+qT6AfoK+or72/39/88AJAAH/zb+Dv23+zf7D/w3/T39j/2C/90ATQF2Aa0C1gOWA58DRwIyADT/f/+VAAUBQgG8AV0BpwBZAPYA5gGxAkcEcwZOB28FbQJCAI//3v9YACUBgAKoA6UDbwLBARgC6QKZA/8DtQN0AiEB5P/c/mv9pv0U/zAAHgJ8A24DGgM/AkgAW/3G+vL5i/nZ+OD3afdI+Cr6+fsW/br+CwB0AMf/yP08/Hv70Pqn+qv7hv2z/vr+xP59/t7+8/+vAeoCfgOpA/kC3ADy/ov+mv5J//EAmQI7AxcDlAJcAhwCjAJsA6oDdQR1BEYDwQEPAOz/twBuAbcC/wP4BLUFtgUwBeYEJwQRA1wC3AEgAWIAbQAoAfwBEAILAdL/Lf4q/NT6dfo6+5/87P1R/r/94Pz9+xL7aPri+dj52Pnw+Xb6Ivou+iT8Nv89AjADngPAA9kB+v5d+1v5ifjV+FL66fv//cT/XAHqArUEFwb+BvwG5gThAWv/ov2Z/BD8kPyE/hwBggPtBI4FLgY0BlkF2gMoAt8A1f+g/7AA8AEhA2AEMAWvBekFzwVZBc0ERwQ3A3kBFQCP/wgA2QBPAa8B3AEjATf/UP2f+4P6lfot++v7H/3U/Wb9ofyk+xD67vgC+fr5yPpZ+xT8FPwj/E/9bf9DAWQB+P+S/pr9V/wW+zP6fvqk+0f9+v4yAMUBtgPtBOIEGQR6AzQCKwAO/3b+ef43/9j/ugABAksDKAScBIQECARgA7QCnwKdAqECIANDBHMFuAWZBWMFTwWFBXYF7ATvA34DVgPrAisCmgELAiMCzgFMAfL/bP6z/QD9mfxq/Pf79PsG/N77wfqI+TT5Afng+Nb4rfkI+5f8Pf7h/gf/Af8+/jD9Jfya+/b7svyi/Yb+gv6U/Q790f3t/gAANAHQAfIB8wFLAQQAGf/j/kH/uf+nAIoBOQLBAuACpgJ+AvMCWwPVAiECmQFRAVYBmgEqAggDUwTxBSMIIwkYCaEIGAh7B7oFzwNWAhUByQBFAbAB/QHjAaUBQQFeAHz/x/6D/pf+jv50/Wj7aPmy93z2hfVB9dT1LPeb+T38wv7sAGACAwM1AlAAkP2y+lX4Cveq95z5JvwK/hIA7wFpAlIBCQALAFkAnQCFABwA4f9i//v+4f7S/qX/LgHVAo4DAAMTAoMBJQH2ABkBjAFaAg8DegNHA1kDHATFBMAEGgWnBlkIugikB4EG6QUjBdAD7QKlAroCvwJsArEBjgDq/6z/tv9i/5X+6f0o/Zz8Dvwi+xv6HvmC+D74q/cD9wf3iPdB+Q78rf41AfoCXwMIAlf/qfxC+sf4tfgD+tz7W/3Q/kwAFwGLAdMB1wEXAs8BDQGy/zD+pv2N/eX9+/6AACQCOgN6A0ADtQLiAQ4BSAAGAIAA/wBRAdkBZAIIA74ExAbtBxQIvAc4B/wFewQKBMkEDAa1BlwGHAV+A1ECdAGoAFkA5wBeATsB/f/T/d77wvpo+pX64Po9+9z6u/l4+AT3qPXV9OD1/PiH/N3/wwIqBGcECgPFAPr9lvsv+o75svk5+kL7Z/xB/hIA+QA0AkcDjgPZAlwB+P+u/tz9sf3b/Xr+W/9KAAkBWwGaAdUB5AHwAQYCzgG9Ab8BrAGaASUCPAMvBFsFbQZ7BxsI1AfWBlkF7wNEA50D8wSgBpMHUwfvBbYDnwENAPX+7f5s/4//6/6P/Q78HvvU+vr6Rvtv+3D7t/pS+U/3lfW29Ov0Xfes+97/3gKQBF8FWQRSAVT+1Ps7+sT5MvpF+zn8VP1k/lX/MAD0AKsB9gEPArAB3ADm/83+Kf5L/qz+UP8JAHkAiAB6AIcAmgDGACoBuQFPAqECXwISAjwC7gLPA04E+wR6BrIHLgjWB7UGuAWqBFEErgQABYEF5gW3BdAETgOfARwADP+u/o3+HP5C/W386Pth+7j6OPpE+nD69Plv+c740/fX9l72J/eQ+fX8ZQDkAkcEVQTLAkUAwf0i/Iz7nfv3+938vP08/pr+6v5i/wgA2wCxAd4BXwFpAHv/tv44/kr+xP5v/yUAmgC4ALwApQDTABMBUgFgAYIBzgEYAmUCwAKfA5AEkwV3BoAGjAbxBgQHNgbxBGoEhATfBFYFlAVqBZ8EcwM+AioBMQCt/5//gP8F/xr+RP1W/Gz7p/oS+uT5/vnd+Sb5IPgr96L2EPfz+Nz7G//FAcEDJwS3Ao8AM/58/LL7dvvr+1r8yfxx/eL9a/5B/2wAgAEEAhgCzQHNALX/v/4R/ir+qv5V/+f/bADCAKcARgDe/8//JQB8ANEAQQHmAaECVgNlBF4F0wUpBlsGRQYEBtoF9wUUBt4FogWUBZEFPwV2BJoD+AKGAhMCggHxAGcA4P8//zH+Hf2G/CL8qfsZ+2T60fmF+QX5Svil92r3mvds+DP6c/xR/s//6QAnAdkA///L/tD9O/1K/Xr9b/2Y/Rf+nf4p/7j/QQDFACMBNgHpAIsANADX/5f/nf/S/y0AkQDTALMAQQDc/63/o/+4/wcAkABEARwC3gJGA04DZgPwA8EEeAXwBUMGogbgBqMGzwXZBFgEgQTEBP8E4QSaBCMEXQNMAvYA4f/G/l7+Fv68/Yn9Gf11/IL7dPrE+Rf5cfjz93H3Nfe89yL50fqS/G/+wf8AAKX/Hv9m/tn9q/3u/Uj+ff6v/rr+uv6y/sv+Iv+j/xYAaQB7AGwAQgD7/77/nP/H/ykAkwDhAPUA4QDYAKQATQAuAC8AbQAYAeMBgwL/AnQDsgPUAzAE9gT1Bb0GJAcQB7kGRAaUBfMEkwRyBHUEaQQQBHsDvQLeAcoA0f8f/3v+Ff7d/Yz9Ev2H/Aj8OPsd+jj5cvi591r3XPfe9+r4UfrU+wH9z/1s/sT+yf6l/or+lf7F/v7+Of9p/27/VP89/1H/fP++/y8AhwCsALYAhwA6ABEADQAxAG4AlADQANIAtgCjAHAATABXAIUAzQAGAUsBrAHzAUUCqwIvA9IDeQQTBYQF0AUqBowGsQZ6BjcGFAbEBRQFTwSaAwYDjAIeApkB8ABBAIb/wv4h/rH9Uv3W/Bj8PvtB+j/5ePjl93/3b/cB+BD5BfrH+nb7KvzK/E796f1p/sr+OP+c/7b/pP+E/27/U/9K/2z/r/8KAFIAdgB0AH4AcABYAFMASgBXAIAAnwCWAHIAWgBFADcATwBwAHsAfwCqAPsAXwHSAWgCDAORAwMEaQTaBDYFiQW/BeUFGwZrBpoGbQb2BWcF7QRsBN4DMQOLAs0BDQEsADD/Sv6Q/Rv93Px2/Ob7HvtF+pf5Cfm/+NL4JfmP+fj5hvpH+8P7F/x7/Ob8df3u/Ur+l/7y/j3/SP8n/xH/J/9k/53/yP/9/zwAbgBrAGwAZgA6ABAAEQARAP///v8NABEA6v/F/9n/AgAuAGgAvgA2AdABdQIAA3QD1AMxBJsE9wQwBYgFBwZWBnYGdQZJBgUGqwUuBaQEIQShAwcDSQKqAfUAEABR/7v+Qv7K/SH9Z/yv+xL7ePq3+QP5wPjq+Eb5rPkI+mH60/pk++f7ZPzt/ID9F/6t/h3/T/9k/37/k/+P/5L/rP/H/8P/wf/M/7f/mv+P/43/fv94/5f/yP/g/+v/4//l//3/LAA3AFYAsABAAdYBagLuAlsDuQMnBKAE5AQ9BW4F0wVJBqIG4wbjBqAGOQbIBVYFxQQhBIsDCwOQAu8BLwFiAJ//+v5J/nj9nfzP+wD7Q/qo+S350fis+OP4Xvnj+UD6gfq8+gv7XPuz+yL8uPxt/QD+cv6//un+FP9N/3z/n//C//X/CwDm/8D/mv9u/2//j/+d/7P/3f/+/wAACAAvAGMAnADfABgBWwHIATsCsQInA6ADJQSsBC4FoQX7BU8Giwa5Bt8G2wbJBqkGVwbeBVQF2gRDBHcDsgL7ATUBfADE//n+Kv5b/Y78qPut+sT5Dfml+Iz4mviq+OD4QvnQ+U36lfrA+vr6c/sU/Ln8Yf3i/VP+wP4E/xD/IP9S/4D/rv/S/wAA+P/a/8//t/+g/7D/zP/2/w8AIAA1ADEARgBwAKQA9ABdAdQBUALRAlADygM9BKAEGgW7BV4GxwYFBzUHbAd9B18HFwezBj0GwwU2BYwEwwPzAh8CLgFOAH3/vv4M/l79pfzM++n6Pfp7+bH4Dfjd9wD4N/i3+D/5o/kR+oH6yfoN+1T76Ptl/PH8jP0Q/on+8f4s/y//Rv9o/5D/uf/d//n/DgAbABcA///5/wkAJABZAIsAnwCeALoAAAFQAasBFQKXAhwDpwMVBHAEwwQoBZAF+AVnBtwGRAeHB50HkQeAB0IH2AZIBqkF6wQzBGADaAJmAXkAtP8H/0r+gf2a/KT7y/oQ+nv57Phy+B/49fcH+Ev4iPjB+CH5kfkL+nX63/pd+wr8w/xR/bX9EP5x/tf+I/9W/4j/wv/+/w8AHwApABkAEwAuAEgAXgCNAMEA5QDrAPIAHAFgAasB+AFfAtcCWQPeA1MErAT/BF4FvgUPBlgGpwYDB0cHXgdXBycH4QaGBvwFVgWnBOADHANVApUBwADd/xv/Xf6F/ab8vvvZ+hL6avm++Cv4z/eo96L3zPcY+HT42/hS+dX5Uvrp+pT7LvzJ/GP96P1M/q/+A/87/2j/o//X//f/HwBCAFcAVgBfAGgAdQCKALUA3AAOAT8BZwF4AaoB5AEtAn4C5AJpA98DcQTgBC8FaAW8BREGbQalBtAG7Qb7BukGsgZNBsgFSgW+BDcEhQO3Av8BPwF6AKL/v/7a/Qj9U/yX+8v6CvpY+cj4a/gz+Bb4EvhF+KL4/fha+cb5PvrO+lr71ftb/OL8bP3U/TD+jv7X/hH/Of9v/7z/HQBuAKoA1QD6ABIBDgEAAf0AAwEqAW8BvAH9ATECZwKWAscCBgNaA7wDIQR9BOcERwWQBboF4AUCBh0GOgY8Bh4G7wWyBVcF0wQwBIgD3QIoAnYBwgAAACz/Vf5+/aX81PsS+2362Plh+QX5w/iV+Gr4Wvh4+NP4N/mr+Sz6ufpG+9H7Tfy3/Cv9ov0S/nH+yf4a/3L/y/8UAEkAeACyAO8AGQE+AUoBYAF9AZkBwQHhAQkCLgJkAqcC3QIMA04DoQP5A1AEqAT3BEYFhwW8BekFBwYPBgsG6QWmBVwFAgWIBPsDZwPWAi0CdAGpANX/Bf89/nn9wfwb/If79fph+ur5h/k8+Rz5Fvki+UD5dvnM+R/6afq1+iL7nPv/+2786PxY/bv9HP57/tn+K/+O/97/JwB+AMQA/wAuAVQBZwGEAakBywHsARMCSwKCAq4C1wL/AiwDXAOOA80DBwRBBHAEnQTMBPcEDQUVBRQF/wTcBKoEbQQcBMcDXQPfAloC0wFDAaQA/v9Q/6v+/f1U/aj8Dfx/+w/7sPpi+jD6D/oF+h76P/pt+pT6w/oH+1L7sfsE/Fb8qfzq/D79sP0P/mf+yv4i/3v/zf8dAGcAuAAGAUgBgQG7AfEBIwJSAocCuwLkAgMDGAM/A2oDiQOoA8oD8AMTBDUERwRMBDkEIwQZBAUE4wPDA5sDUgP7AqkCSwLXAVcB1QBcAPH/hf8O/5f+If6z/Uz95Px2/BL8v/uE+1L7D/vh+rz6x/rg+uP6/vot+3r70PsK/Ej8l/z1/F39uv0V/nj+3/48/4z/2/8jAGMAtAACAVUBoQHZAQECKgJOAl8CZAJ0AowCqgLaAgkDNwNOA2YDgwObA5oDmwOoA7ADnQOLA34DUwMjA/ECygKJAlQCFwLSAYMBPgHZAHkAJQDI/1b/8v6o/lz+J/6+/Yb9O/31/OT8o/xT/Cb8CPwK/P375PvR+9/7B/wv/F38g/yn/Nz8Iv1V/ZP91/0a/mX+uP4I/0T/ef/B/xcAbwC/ABABVwG1Af0BTQKPArwC9AIYAzMDQQNjA2wDdwN0A2kDRwMrAxgD/wICA+8C2AK6AooCWQIfAuMBpQFdARoB5gCxAGoAMgD9/7v/lP9m/zr/Af/L/p/+c/4//hf+6/25/ZL9Zv1A/Qv95vzR/ML8wfy5/M/84/z5/Cj9T/2A/af90v0E/kn+Xv6l/tT+Fv9c/6z/AgA+AIUAtADlAAcBMQEyAVoBfAGgAcgB7wETAjQCWwJ5AoEChAJwAooCkgJ4ApwCZAJfAlMCSQJhAj0CFALsAc4BtQGjAXsBUAEoAfEAvQCkAHwASQABAMT/lP9M/xb/1P6C/jH+5v2x/Vn9Kv0L/c38t/yx/KP8sfy3/Ln82/z8/Cv9P/1+/a392/02/oH+w/4G/0P/cf/L/wIASgCSAN0ADAE7AXoBigGmAcIB5QH2ARACHQIjAiUCIQInAhYCHwIcAhgCDAIUAgcC9wHfAbgBpAGHAXEBXgFRAT0BJgHwAL8AiwBkADIADwDz/8r/mv9s/0T/Bv/a/pb+bv40/gr+6/3S/cH9rv2u/aj9nv2g/aX9vv3j/fv9LP5P/nb+pP7J/vP+LP9c/47/sf/r/yQASwB6AJgAuwDXAPQACwElATUBTAFVAV0BawFnAWcBZgFkAV8BWgFUAUsBRgE/ATsBMwEhARAB/ADyAOgA4gDUAMMAqwCPAHMAVwBLADwAJgAPAPL/2/++/6P/jf9u/1z/RP8q/xr/Df8L/wL/+f7o/ur+7f7w/uX+5P4E/xb/IP8d/zL/O/9D/0v/Z/+F/4P/jP+V/57/tP+8/9H/4//Y/+v/7f8FAOz/+P/V/9H/d/9D/zn/yv6bAG4BzwDp/8//2v8u/yj/jP+Y/2L/m//G//f/1v/X/zcAVgDRAGkBfgGUAcIBrwHFAd0BgQF9AaEBiwHRAdYBaAEhAQ0B+gDoACwBsgCFAIsAYAC8/zwA7/+w/5H/yv9IAED/1P+r/0n/hf9i/0j/nf+P/0f/k/90/1f/Z/9g/5H/1P+o/6z/jf9l/1n/K/9k/zv/Zf9Z/wz/IP8k/6v+yP4Y//f+Fv+q/hL/PP8l/wn/Lf9P/4f/Tf+W/7H/qf9CACIA5P+U/2MArACoAKkADgFIASgB7QBhAQUBKwFmAZkAXwGbAb8AagCOAE4AVQF0AdIBlgBBAOUA9gDaAaoBPwEZAXEB9QB8AI4AsQBMAE4AcwDyAPYAbwBZANj/Y/+W/8z/x//Q/xYAnP8c/7v+8/5k/zz/r/94/1z/vv7G/mX/Df+d/53/Dv/v/t/+fP8f//7+4f51/2//I/+V/9///P83AB0AFv+jALn/ZgDE/2n/JAGxAK//0AChAc3/0f4YAOkBvQCj/5D/CwAlAJ4AtP/i/6//tv5P/zMAWgAnANL/I/8e//3/HQB8/0oAfQDq/3v/Tv8CAMcALgDK/1T/4v6y/0sBZf/0/Sf/9P8l/5P9Wf4m/o39MwBg/zz9Rf3Q/Q3/QP5Z/xT+fP6O/zr/mv5e/0EB3f++/x4AhP9eAEkCRAEZAP7/0gAeAfL/9wAYAkoAyf/PAAEBuQBfAc8B+gCa/3cAYgHdAJkAFAHvAO7/1v/yANMAIQA9APEANwLdABL/EgAfA8kBlQASAFr/KwFOAqoCdgA7/k8A9gFhAWIBd/+w/1wA0wAxAYoBqgGUAZUBrADV//z+zP+TAvQD2wDN/7z+rv2b/4cCrAMYAgUA2P5d/zoCNgOnABgA+f7S/kMAcwG1AT8A8/4N/7X/TACdABIAYP4+/sv/uABqANz/H/6a/i0AhAAuAQr/ff0W/8v/d/+fALoA8v1Z/PX+lQDq/Z39qP8+/hf+nvwg/tUAb/9c/l/9Ff97/5L/CP7Q/fT/hwBR/w3+z/4kAOwA/P7o/Vz/CwGS//f9YAADAY7+Wv4s//n/HQEHAMz+jf47/x8B3wEdALD9IP8hAU0A/v8nAM7+s/+8ANv/hv84ALIBev/H/tkA1gG3//z+6gDBABoAlgBJ//z+//9sAaQAq/1W//kAYwGn/vb+av+AAPYBCwBf/kD+YAEWApT/bv86AD//bAD5ATABegBmAJ4An//5/qMCygJz/2r9uAD1AbEANgCQ/nf//QGaAm//Jv7wAHoCywAzAE0APQHPAIMAswC4ANkAngBQAPb/jgDVAAQBVf8c/7gAHwE2ADkAOQCY/+f+wQAsASn/zf6R/qj/KAAPAHsAKf86/jMAagE3AKz/lP9+/ywAawGsAc3+H/0VANwCoACy/ZH/aQHj/0kA7/9c/6r/0v7Q/44AJgAA/4H/c//0/7oAOQAB/17+qwDPAOz/w/4kADsBMf8o/j4BKwL4/nX9Sv/jAsEBn/4Y/iMA0QHHAGD/4P8K/wEArwBrAID/SP94/y3/zgGRAHj/6P9i/xAABgFb/3f/zQHqAEr/E//+//gBmwGw/kn+nP8KAlEB/v6N/k0A7QBo/xv/RQFoAZT+fP4bAeYALv/E/7AAUP87/9IAn/9r/0b/uP9pAHEAff83/7L/GgD9/6P/Lf9f/xsBOQDe/gX/l/9RAAAA/P+b/wj/wgCL/9H+Iv+t/0MBagAp/hf+JgFuAt//x/3Z/jIBqgCn/yz/Hv/+/4IA1/9VAG4AKf/J/tf/eAIEAk/+Df1JAeYBAgBf/8H/2P6I/1kC9gBu/p7+eAFBAez+DgDgAYb/kf8kAAAA+wDRAQD/nv0eAXQCof4d/gkB2QBvADr/uABjAML/4wDdAPn/cP8//74BYwHe/rX/iAD0ASsALf8cAOEAewHqAPv+pv97AZ4ATv8HAMUAmP+w/3r/3gCDADX/1/+k/5cA/f/z/tz+QgF0AQn/2P4vAPIBEQAY/oL/MQEFAWr/rf5YAAABOwCj/+X/wQCqAHT/iP/eABACbwAy/9wAUwABAJ0AoQG5AFf+Lf8fAqgA8v6aADgA7P5t/44BtgAW/zv+av6ZANMAkgD//eL+jQGk/yEARf/f/wcBfP/h/9T/Sv+UALkAB/+K/vL/ogDK/w//Av85AAAA5v4t/2UA4/+b/s3+WQAjAB3/Zv7c/9AAU/+q/6v/d/9ZADIAYADC/2b/WgBMAHgAfv+nAHQAov/l/9wAmAALABQAZv94AHUBEgDN/pn/rACBADz/Vv9XAAoAYAB/ANr9VQDsAm3/xPzwANcCyf8y/fr+VgE7AV0AFf4u/goBUwKt/7v9PP/mAT0AXP7m/qIBCgF9/hj+BQAlAiUAeP76/ooAUwGW/9D+XgC4ALwA1P/a/z4A9ADq//H+CgCkAKEAHADR/sT/WAE8AEcAGAAMALQAkADb/7IANwF1/2H/kgCqABAAfv8FAAAA4QALASX/d/4NARQBtv7J/oUALQGd/v/+HwAEAZv/2P4q/23/rgDo/7b+C/9LAKD/wf9h//b/AP9T/toAkAHi/oj+o/9GATgBnv/h//L9oQDdAWwAU/9Z/+n/6ACmADgAlwEqAMr+yf9uArYBAAAj/gIASQNSAKP+pwAGAcj/af+5AI8AlP8gANf/4wCOALX/VwC/AKYAOwCRACUB/v/j/08B5ACW/0kAmADW/4UAKgBAABwADgDt/2YAjAD1/yz/mf9oAPr/xf+w/2n/lP8BAKb/Df84ALIAfv45/+H/ogDf/wv+Pf94AEgAG//W/nf/3P8MAHL/3/5F/90AIAB//i//lwBdAIj/Yf/6/8z/Cv9PAPEAWv8f/vL/uwAHANj/5v+d/pn/2wGjAVL+I/6rARUCtv/l/j8BpwAFAB4AmgCZANgAQgBo/4cAEgFSAM//6/8PAM4ADgD8/3j/Ov/p/00ArP/c/oX+XABZAAj/kv+J/wsAi/+h/9b/r/+r/9//Xf9p/7n/jP/S/9H/4/+J/xoADQBmABgA1/8aAP//TAAiACQA7f+9AGkAwv8LALkA+AACAG3/DQEOAd//WQCXAOYAJgCiAMAAXwA1AIcAhQB2AM0ApQDK/97/YAFiAKz/2v9oAH4AtP92/ycAoP+0/08Al/8m//f+KADe/xT/FP9u/3r/SP/9/4L/+f5M/2b/AgBb/07/0P83/xX//f/Y/yz/Hv+H/8j/j/9g/0v/WP+N/wYAZv/o/lb/ZgDm/zz/xP/q/7X/AQHhAIT/8f9UAf4BmgBBAHEBQAG9AQQCQwGLALgBOQMAAZMACgJXAgkB0wB9AQkC/ABFAOcAjgEUAVsARQAqADMBsgCy/wUAQQAVAA4AjP/W/6v/mf9u/1X/Wv99/+v+vv4I//f+nv6o/Tj+jP4v/p39PP2c/fv9Kf0o/Un9z/1z/Rz9Pf3Z/WH+//2s/cj94/4G/8j+Jv+V/6L/XQCdAK4AQAGuAdYBQgLvAvoCygL5AnkDrgMrA7kC9QIdAw0DpgKjAuACrAIOAmwCsANFA4gB3AGdAwwD8QFPAd8BDQKzAXEB2wDdALkAeAABAJ//Vf/U/sj9+v3m/ZL86vs5+1H7CfvV+vr5fPhD+AL69vpP+SL4+fgQ+6L7t/uS+4v7tvyN/hP/LP+H/0YAAwHUAewCCAP8AhEDzANIBMoEwQS1A5QDfgQCBUcEJwP6AmIDTAMSA0MCkwGyATMCqAEUAVEBbgEkAS0BrAH8AfkBtQGgAVwCAwMGA9sBVwFNA8wD/wHiADsCuQK+ARoB9gAmACYAMwB+///9Yf0j/j79pvvE+rj68Pr2+fP4Yfil93D5NPqf+Lb2+vg8+1X7QvoR+kT85fy1/Yz+af78/l0A9QCeASUCqwLfAtUCdwNYBEYE8AOVA3IDBwTFBOYDZALCApIDKAMgAjQCUQLLAVEBqwEEAuYBcQHOAEYBCAMyA0kBtQDuAqMEnwMvAoMCKgSGBAMEgAN8A24DkQOWA8wCHQL5AXABXACAAFUAwf7L/WX9O/1u/GH7dPqc+ef4+Piy+GX3T/ZD9/D4lfde9qH3a/qE+ib5Mvqm/MX9iP2F/Z3+eAAxAVcBEwE5An8DuANtA1cDFwQ/BFIEygPNAwgE0gNcA1gDHQOeAqQCbAI3AtABpwGaAcYB3AGkAUkBxAF5AicCegE7AoEDRAOBAhwD/wM0BDQEugPfA1IEnQQJBF8DWAOCA9gC2QHTAfsBvgBY//7+8P5t/iP9PPxl+5z6wvlJ+YX5k/hH9hX2TPf290b3Z/Ym9oD3x/la+m/5l/mT+5f9aP5V/ib/CQAMAb8BjgL3AusCUQPYAxcEbARFBLQDzQNLBAwEKQO5Ag0DJwOEAvIBpwHiAQICrAEnAe8AQwGFAYMBYgEAAS4BzAElAhsC5gEAAqQCFgMuAxkDHQN/A9YD/APRA6UDpQPXA8UDbAPnApYCTwIjApQBtgAAALD/Dv82/kj9pPy/+8P6MPrf+Hj4wvjB9+r1+fUg+Cv4X/aq9v/3bPkE+lX6Efvy+9v8If4B/7v/cADiAIMBXwKqA74DTwNTA3AE/ASPBMIDsgMCBOEDtwMLA5MCcAJtAuoBugGxAT8B5gDmAAUB9wDDAIkAyAAHAWABXgFdAaIByAENAqMCQAOCAj0CawPTBCIE0AJzAw4F+ARyA4MDHATZAy8D+QKcAjkC0gElASwAlf9E/3X+6Pzn+6v7/vq8+cn4GPhP9133mvYz9oH2N/fz9vf1qPcP+m/6yflK+nT8pf4g//3+q//1ADoCNwP9AgADuQNYBEMENQR8BH0EKASqA7UDAwSVA6ACNgJKAlgCwwEOAbkA4AC/AD8ADgAfAAoA0P/G/xcANgAYACEAMAB2AOMAEAEDAeYANQGtAesBjAIYAssBLgJ1A+EDJAMGA8gDVgTNAyEE1AQdBEYDMQOEA+sDkQLfAJYAuwAgAB7/3v3O/OD7ovvl+uD5MPlx+Er3yfZM93b3F/ev9vn2NveL+Ef6wPoE+pn6vvzS/jj///50/7wANwL3AukCtgKeAyEEIAQpBHsEeQQYBNkD1wP/A7gDAwOZAqECrwJiAsgBfgFyAV4B9gCrAKEAfAAnAOX/4v/z/wIAyv+h/5j/0//4/wsAHwAJAB8AUwB/AKcA2ADqABcBPQGoAfUBSALaApACsQFhAn8ESQRKAtABdAMlBBwDDwLOAdEBbgFIAc8AAABh/zb/v/4//uj9R/38+1j7Y/sm+4f6afmq+Lf4n/nX+bv46vdl+b365vrs+kr7Ifzv/A7+tv4P/3j/RwDeAFsBJAKHAkQCfwIxA6kDqwNwA1QDfgPDA7IDVQMHAxQD6gKgAnYCbwL/AaYBoAGYAU0B+wDiAMAAnAB2AGoAKgAZABwAFQD6//X/AQAAAP//IgAWAC4AMQBuAKMAtQCrALgAbgGxAVIBewGkAlcCRwEwAqkDDwNeAUQB/QJPA94BygCOAFMBvwF1AFD/y/7i/hX/QP7Y/O77N/wX/An7z/lI+Zn5mPoc+jb43fde+h78CPua+ZP6yPwe/l7++P1K/j//7gDQAcQBbAHZAecCdwOcA3oDZwNTA54D4gO1AyUD0wK1AsACjgIRArkBhQFrAUoBHQHfALIAmQCnAIUAXAA6AEcAVgA8ACMAHgBFAEcARwA5AD0ATABWAFIAQQAkAB8AYACoAI4A5P8TALMADgFRAeIBBwGF/zsB3wM8A00A3P/TAUQDiQLTAPv/fACYAbcBewBd/3v/BAD//1//yv5D/u39uf1p/b/8APyR+4P7/Ppz+k36YfoF+/v6Qvo3+sf7L/3h/CT83vxs/nv/wv+4/wAAtwCvAV8CawJPApUCCwNMA3EDgQMwA/EC8AIbAwEDlAITAuUB4gHdAZkBJAHaAN8A4ACnAH0AYQBKAB8ALQA5ACMADgAQAC4AQwA2AEYAQwBVAFQAUABRAF0AbQBlAFcAXwBiAMEALgGeAA8AuQDmAaYBpQC7AGYBeAFPAWYBDwGnAOAA8gDMAJIAYgAjAPz/BwD//8H/av8f//P+1P6K/h7+sf1p/SX95vyX/HL8KPz0+wn8i/xw/Lv75fv8/GX99fzv/ID9HP53/t7+9/4f/4P/LACKAKUA9gA7AVQBqwH+ASUCNwIvAkICWgKzArMCaQInAlwCewJWAgEC6wHrAZ8BkAGUAYIBPAEVAfoAEQEfAe8AogCRAJ0AlwB6AEgAOAAZACAAHAAAAOz/3//W/8//2P/E/8L/uv/A/7z/r/+v/8L/x/+o/63/3//u/+T/9P8IACoAPABXAE4AXgBqAJIAdgBLAGAAcwBAABQAHwABAO//0P/J/6j/kv+g/2T/R/9q/0n/DP/U/pn+XP4f/t39tf1D/dv8ofwJ/Cb8of0B/u77Sft9/WP/9/7c/b798f5VAMIAbAAIAJ4AVAGnAbIB/wEHAq0B3AFqArkChAIoAtMB3QFnAqAC1AEnAUIBtgGyAU8B+gDkAM0A8QDqANEAowBrAEsAYAC8AHEAGADs/wQAYgBLANv/tP/l/xwA9P+6/7z/1v+//77/2v/Q/6r/wf/t/+v/8f8AABAAJQBSAGUAfgCRAJ8ApwDVAPIA4QDEAN8A6wDcAMYAuACnAIYAegBaAEcAFgDs/7j/kP9j/zf/+v61/pD+Xv4q/hD+5v2i/Zn9pv2J/Vr9cf2D/YD9hf2n/dT95/0K/j/+kP7A/vn+RP+Y/9X/GgBqAKkA8QAbAU4BgAGeAb0B4AHoAd0B7QH9Af0B7QHgAdABxQG9AckBqAF7AX0BdAFcAUkBOQEIAesA5gDbAK4AhABxAFkAOgAiABAA9//P/7v/s/+J/3v/Xf9C/y3/Ef/x/sz+kP5G/hj+6/25/Yf9Vf2r/B/88/wT/mz96PtG/OH9pf5G/u/9Lv6t/or/RwBHAPf/SQD0AEoBiQHJAa4BdwGrAScCbwJMAukBuwHYARsCNALmAW8BUAF6AZsBbgE9AQgB3QC+ANEA6QCyAEkAHgA/AF0AQwAOAPf/6v/e/97/CwAFAM7/p//D/+z/9f/7/97/uf/X/xQAOwAvABIAHQBTAH8AnACiAKUAtADYAPwACQEXAREBGAESARsBKQEpAewAygDUANQAoQBwAEwAHwD5/9b/pf9i/0P/C//T/qj+kf5c/i/+Gf4J/vX93v3m/dj9xP3C/db93P3H/ar9x/3M/dz99v0Q/h7+Nv5r/r3+/P4J/0X/l//q/woAUQCPALYA6gAoAVQBXwGMAasBuQHDAeMB+QHyAdUB1gHnAdYBsgGQAYIBaAFPATkBIgHxAOMA3QCzAJwAkgB5AFoASgBFAD0AJAAXABUAFAALAA4ACAD9//f//v/2/+j/3f/Z/8//rf+b/5b/df9I/zb/G//4/t3+pf55/m7+kv56/hb+C/5V/l/+UP5t/pz+l/6D/tz+XP98/3P/dv+8/0QAnACJAIwAzAAFAUQBaQFhAVMBZwGMAaABfQFzAXEBUgEzAUQBRAEQAd4AywDMALEAnACCAEoAIAAlACwACwDB/7v/vf+6/6H/mP+G/3z/hf+S/5L/mv+h/6r/0v/f/w4ADQAjAFoAeACUAKgAswDFAOcA9wDnAOwA6gDnANgAzwDEAKcAkQB/AHAAVwA6ACgACADl/9L/uf+T/2j/QP8O//L+r/5Y/gX+6/3D/YH9TP34/HX8nPyh/dn93vxO/F/9qP7O/jz+N/7L/nj/IABgAC4ASgDEACMBcgHAAeMBlwGGAeYBTwI8AukBoAGGAY0BmQF5AQIByACzAJYAeQCEAG4AJwD8//z/GQA0AAoAvv+u/9n/BQDq/9D/4v/e/8//8v8jACAA+v/x/yYAVQBTAFIAXQBnAHcAmACvAL4AwwC/AM0A8QAGAREBFAEUARIBGQEkATEBKAEFAQABFgH9ANUA1QDGAJ8AcwBsAFUAGQAHAOL/of+F/3H/Ov/7/tX+0P62/m/+PP43/i7+Ff78/ej93P3d/d395/38/Qn+Hf46/kv+aP6c/s7+5v7v/iP/af+Q/6T/yv/4/xQAQABqAHgAggClAMkAzgDXAPUA6wDeAOMABwH/AN8AzQDSANgA4ADYAL8AogCjAMQAvQDBAJwAkgChAKUAsAC1AK4AnACeALIAwwDJALoAsgC5AMMAygC8ALEAswC5AKwAnwCVAIMAeABzAGEARwAsABcA/P/o/8z/qf9+/13/Ov8Y/wD/0v6q/pP+hP5f/k/+Yf5j/j7+LP4//lf+b/50/nD+cP6I/sX+7P7h/vf+Mf9T/3X/sv/Y/+z/FgBGAF0AcQCbALQAswC/ANkA7QDuAOcA6gD3AAABAgH8APIA5gDmAOAAygCwAKAApgCgAIgAjgCVAIgAgACNAJcAngChAKcAqACxAMUA0QDAALoA0ADSAL4AtgC2AKYAnACaAIcAeQBqAFkARAArACQAIAAGAN7/3P/a/7T/jf9o/1v/Mf/7/gz/8P5+/hX+Iv52/n7+Ff6W/YD9Av6Z/pj+G/7o/V7+7P4c/yf/Tf9Y/z//dv/9/0IAKwAGAPf/KQCmAN8AoQB6AKEAyAD5ABABBAHFALgA2wDpANIAsQCTAHsAWwBhAIIAfgBdAEMASABaAH8AjgCGAGsAgACRAKEArgC0ALMAnwC9ANkA2wDPANIA6AD/APUA6AD2APsA9gD1APYA3ADKAMoAtgCaAIAAcQBfAEMAHQAJAPX/2f+8/7X/oP9+/2L/WP9I/zz/Mf8N/+v+1P7j/tP+sv6O/m7+av5x/nf+Y/5K/kn+T/5q/pL+of6U/pv+zf75/hv/OP9M/13/f/+i/8r/5//4/xIAKwA3AD8AYgB7AHUAcwCPAJwApQCwALUArwCzAOAA+wDjAM8A4AD6AAQB8ADQAMAAzADRAMAArgClAKUAlwCWAJUAkwCiAJgAfgCEAKcAqwCUAIcAlgCpAKMAmACRAIQAggCUAKIAhABrAHQAegBsAFsAVwBPADMAJAAoABYA///s/+X/2v/B/8L/uf+h/6H/oP+G/3r/k/+Z/4D/Zv9l/2z/Zf9k/2P/Tv8w/y7/PP9C/zr/LP8m/zH/PP9M/1z/av92/3f/hf+e/8X/4v/m/+H/7f8XAEAATgBLAEoAXwB2AIAAggB7AHoAcQBqAGUAXwBSAEcAKAAYABoAFwD9/+P/2v/W/97/xv+3/6v/qP/A/8f/tP+n/6f/w//k/+7/4f/T/+b/CwAmACwAJQAnAD4AVQBjAG4AdwB7AH0AhQCWAJ4ApwCgAJUAjwCTAJsAmgCIAHcAaQBbAFUAVgBNADAAHgAQAAsABgD3/+H/0//K/7v/tv+s/5b/i/+G/4H/ff94/3P/b/94/3T/c/91/2//cv9//4H/dP92/3//iP+P/5b/jf+K/5n/pf+z/8H/w/+3/6H/qf/O/+T/2v+7/7L/0f/u//b/9P/r/+b/+v8SABgAFgASABwAJwAvADAAMQAuADEAPAA4ACkAKAAyADkAOQA1ACIAHgAvADEALAAkAB4AIgAXABYAJwAdABAADwAVABcABwAMABAADwAUABkAEQAMAB8AMQAyACoAIwApADkAQQBFAEMAOwA2AD0APQA8AEQASgA2ABAACQAtADgAEADx/+X/6f/r/+n/0v+4/67/s/+r/6T/nP+X/43/hP+J/5L/kv+X/5n/mv+g/6r/u/+//83/1f/X/9b/7/8AAAQABAAIABwAKQAsADQAOQBDAFUAVABUAFkAZQBvAG8AawBrAG4AbABiAGIAWwBPAE4ASQA2AC0AKwAhABUAEgAUAAUA+P/7////AQD6/+3/5//o//z//f/p/9n/3v/w/+3/4//l/+b/4f/j/+j/8P/z/+3/6f/x//n//P/7//3//P/8//v//f8BAAcACgABAP7/AQAJAAQA+//6////+//t/+j/7f/v/+b/4P/g/97/3//n/+j/4f/d/97/4v/q/+j/4P/k//D/9f/t/+3/9//6/wAAAwABAAQAEQAOAAoAEwAeACEAHQAYABgAHAAhACEAHAAWABYAHwAaAAsACAAPABcADAAAAP//9v/0//r/+f/t/9f/2P/j/9z/0//P/8b/xP/M/8v/zP/U/9D/zv/O/9b/5P/w/+7/4v/j//X/AgAHAAYABwAAAAAAGQAtACYADwAMABsALgA4ADAAGwATACUAMAAyACcAIgAhACEAJgAkAB4AIgAhACEAEwASABoAFgAOAA0ADgAJAAAAAQAJAP7/AAAAAPv/+P/+/wAA/P/+//3/AAACAAEAAwAJAA0ADwANAAwADAAYABsAEwANABcAHgAZABMAEwASABMAGgAaABIAEAATABQAEQASABEADQAQAA8ACwADAAUACAACAPz////9//X/8//z//P/8f/x//D/6f/m/+v/6//q/+f/5f/j/+b/6//t/+r/6v/w//P/9P/y//X//P///wAA/f/8/wAABQAGAAQABgAHAAUADQARAAsABQADAAQABgAAAPn/+P/4//X/8P/q/+j/4v/k/+b/4P/a/9r/3f/c/93/3//d/97/4P/e/93/4P/l/+n/6P/n/+j/6f/u//D/8//y//L/9P/1//P/8v/3//f/9v/y//X/9v/z//P/9//4//H/9P/2//n/+f/4//f/9v/2//f/+//5//j/9f/0//L/+P/6//f/8P/w//b/+v/4//T/9v/2//n//P/9//7//f8AAP//AAAEAAUABgAFAAQACAAJAA0ACgAIAAcACQALAAsADAAKAAoACAAKAAwADwAIAAgADgAOAA4AEQATABMAEgAVABcAGgAeAB8AHwAgACAAIgAiACQAKAAlACEAHgAeAB4AHwAbABcAFAAOAAoADwAMAAgAAgD///7//v/8//z/9v/y//L/7//w/+//8f/s/+3/6//q/+3/7v/0//b/9//x/+7/9P/5//7/+//5//n//f8FAAYABgAFAAIAAgAFAAcAAwACAAMABAAAAP//AAAAAAAAAAAAAAMABQADAP///f8BAAEAAAD+//3//v/9//v//f/+//3//f/9//7//f/8/wAAAQACAAAAAAAAAAAAAQACAAEAAAAAAAEAAAABAAIAAwACAAEAAgADAAYABQAGAAMABgAFAAcABwAGAAYABAAEAAMABQAGAAMABAAFAAYABgAEAAUABgAGAAUABgAFAAYABQAFAAUABQAFAAUABAACAAMAAwADAAIAAgACAAIAAgAAAAEAAAD//wAAAAD//wAA/f////7///////7//v//////AAD/////AAAAAAAAAAABAAAAAAAAAAEAAQAAAAEAAgABAAEAAgABAAEAAAABAAEAAQAAAAAAAAAAAAAAAAAAAP///////wAAAAAAAAAA//8AAAAAAAAAAAAAAAD//wAAAAAAAAAAAAAAAAAAAAAAAAAAAAABAAEAAQABAAEAAQACAAIAAgACAAIAAwADAAIAAwACAAMABAADAAIAAQACAAIAAgABAAEAAQAAAAAAAAAAAAAAAAAAAP//AAD//wAAAAD9/////v/+/////v///////f/+//7//////wAA/v8AAP//AAAAAAAAAAD//wAAAAAAAP//AAAAAAAAAAAAAAAAAAAAAAAAAAAAAAAAAAAAAP//AAAAAAAAAAD/////AAAAAAAAAAD//////////wAAAAD//wAAAAD//wAAAAD//wAAAAAAAAAAAAD//wAAAAAAAAAAAAAAAP//AAAAAAAA//8AAAEAAAAAAAAA//8BAAAAAAAAAAAAAAABAAAAAAAAAAAAAQAAAAAAAAABAAAAAAAAAAAAAQAAAAAAAAAAAAAAAAAAAAAAAAAAAAAAAAD//wAAAAAAAAAAAAAAAAAAAAAAAAAAAAAAAAAAAAAAAAAAAAAAAAAAAQAAAAEAAQAAAAEAAgACAAEAAQACAAIAAgACAAIAAgABAAEAAQABAAEAAQACAAEAAAABAAAAAQAAAAEAAQABAAAAAQAAAAEAAAABAAEAAQABAAEAAQAAAAEAAQABAAAAAAAAAAAAAAAAAAAAAAAAAAAAAAAAAAAAAAAAAP//////////////////////////AAAAAAAAAAAAAAAAAAAAAAAAAAAAAAAAAAAAAAAAAAAAAAAAAAAAAAAAAAABAAAAAgACAAEAAAABAAEAAAABAAEAAAABAAEAAAD//wAA//8DAA==\" type=\"audio/wav\" />\n",
              "                    Your browser does not support the audio element.\n",
              "                </audio>\n",
              "              "
            ]
          },
          "metadata": {},
          "execution_count": 9
        }
      ]
    },
    {
      "cell_type": "markdown",
      "source": [
        "## 打包训练好的模型，可下载到本地"
      ],
      "metadata": {
        "id": "rEdzf5eTLE9f"
      }
    },
    {
      "cell_type": "code",
      "source": [
        "!zip -r /content/model.zip ./pretrain_work_dir"
      ],
      "metadata": {
        "id": "vGnr0aezIQOc",
        "colab": {
          "base_uri": "https://localhost:8080/"
        },
        "outputId": "70aa2032-a6ef-4675-fe77-94e79ec65515"
      },
      "execution_count": null,
      "outputs": [
        {
          "output_type": "stream",
          "name": "stdout",
          "text": [
            "  adding: pretrain_work_dir/ (stored 0%)\n",
            "  adding: pretrain_work_dir/tmp_voc/ (stored 0%)\n",
            "  adding: pretrain_work_dir/tmp_am/ (stored 0%)\n",
            "  adding: pretrain_work_dir/tmp_am/config.yaml (deflated 61%)\n",
            "  adding: pretrain_work_dir/tmp_am/ckpt/ (stored 0%)\n",
            "  adding: pretrain_work_dir/tmp_am/ckpt/checkpoint_2400000.pth (deflated 10%)\n",
            "  adding: pretrain_work_dir/tmp_am/ckpt/checkpoint_2401000.pth (deflated 10%)\n",
            "  adding: pretrain_work_dir/tmp_am/log/ (stored 0%)\n",
            "  adding: pretrain_work_dir/tmp_am/log/events.out.tfevents.1688843636.977810d1baf5 (deflated 74%)\n",
            "  adding: pretrain_work_dir/data/ (stored 0%)\n",
            "  adding: pretrain_work_dir/data/frame_uv/ (stored 0%)\n",
            "  adding: pretrain_work_dir/data/frame_uv/test_0_15.npy (deflated 83%)\n",
            "  adding: pretrain_work_dir/data/frame_uv/test_0_0.npy (deflated 83%)\n",
            "  adding: pretrain_work_dir/data/frame_uv/test_0_21.npy (deflated 91%)\n",
            "  adding: pretrain_work_dir/data/frame_uv/test_0_10.npy (deflated 90%)\n",
            "  adding: pretrain_work_dir/data/frame_uv/test_0_28.npy (deflated 84%)\n",
            "  adding: pretrain_work_dir/data/frame_uv/test_0_8.npy (deflated 83%)\n",
            "  adding: pretrain_work_dir/data/frame_uv/test_0_19.npy (deflated 85%)\n",
            "  adding: pretrain_work_dir/data/frame_uv/test_0_22.npy (deflated 86%)\n",
            "  adding: pretrain_work_dir/data/frame_uv/test_0_9.npy (deflated 90%)\n",
            "  adding: pretrain_work_dir/data/frame_uv/test_0_20.npy (deflated 83%)\n",
            "  adding: pretrain_work_dir/data/frame_uv/test_0_1.npy (deflated 88%)\n",
            "  adding: pretrain_work_dir/data/frame_uv/test_0_25.npy (deflated 87%)\n",
            "  adding: pretrain_work_dir/data/frame_uv/test_0_29.npy (deflated 89%)\n",
            "  adding: pretrain_work_dir/data/frame_uv/test_0_16.npy (deflated 90%)\n",
            "  adding: pretrain_work_dir/data/frame_uv/test_0_33.npy (deflated 82%)\n",
            "  adding: pretrain_work_dir/data/frame_uv/test_0_14.npy (deflated 88%)\n",
            "  adding: pretrain_work_dir/data/frame_uv/test_0_2.npy (deflated 86%)\n",
            "  adding: pretrain_work_dir/data/frame_uv/test_0_4.npy (deflated 81%)\n",
            "  adding: pretrain_work_dir/data/frame_uv/test_0_31.npy (deflated 84%)\n",
            "  adding: pretrain_work_dir/data/frame_uv/test_0_32.npy (deflated 89%)\n",
            "  adding: pretrain_work_dir/data/frame_uv/test_0_13.npy (deflated 78%)\n",
            "  adding: pretrain_work_dir/data/frame_uv/test_0_18.npy (deflated 82%)\n",
            "  adding: pretrain_work_dir/data/frame_uv/test_0_23.npy (deflated 89%)\n",
            "  adding: pretrain_work_dir/data/frame_uv/test_0_12.npy (deflated 86%)\n",
            "  adding: pretrain_work_dir/data/frame_uv/test_0_6.npy (deflated 85%)\n",
            "  adding: pretrain_work_dir/data/frame_uv/test_0_11.npy (deflated 77%)\n",
            "  adding: pretrain_work_dir/data/frame_uv/test_0_7.npy (deflated 88%)\n",
            "  adding: pretrain_work_dir/data/frame_uv/test_0_17.npy (deflated 90%)\n",
            "  adding: pretrain_work_dir/data/frame_uv/test_0_27.npy (deflated 85%)\n",
            "  adding: pretrain_work_dir/data/frame_uv/test_0_5.npy (deflated 85%)\n",
            "  adding: pretrain_work_dir/data/frame_uv/test_0_26.npy (deflated 83%)\n",
            "  adding: pretrain_work_dir/data/frame_uv/test_0_3.npy (deflated 86%)\n",
            "  adding: pretrain_work_dir/data/frame_uv/test_0_24.npy (deflated 82%)\n",
            "  adding: pretrain_work_dir/data/energy/ (stored 0%)\n",
            "  adding: pretrain_work_dir/data/energy/test_0_15.npy (deflated 29%)\n",
            "  adding: pretrain_work_dir/data/energy/test_0_0.npy (deflated 37%)\n",
            "  adding: pretrain_work_dir/data/energy/test_0_21.npy (deflated 27%)\n",
            "  adding: pretrain_work_dir/data/energy/test_0_10.npy (deflated 25%)\n",
            "  adding: pretrain_work_dir/data/energy/test_0_28.npy (deflated 30%)\n",
            "  adding: pretrain_work_dir/data/energy/test_0_8.npy (deflated 32%)\n",
            "  adding: pretrain_work_dir/data/energy/test_0_19.npy (deflated 29%)\n",
            "  adding: pretrain_work_dir/data/energy/test_0_22.npy (deflated 33%)\n",
            "  adding: pretrain_work_dir/data/energy/test_0_9.npy (deflated 26%)\n",
            "  adding: pretrain_work_dir/data/energy/test_0_20.npy (deflated 31%)\n",
            "  adding: pretrain_work_dir/data/energy/test_0_1.npy (deflated 28%)\n",
            "  adding: pretrain_work_dir/data/energy/test_0_25.npy (deflated 29%)\n",
            "  adding: pretrain_work_dir/data/energy/test_0_29.npy (deflated 25%)\n",
            "  adding: pretrain_work_dir/data/energy/energy_mean.txt (stored 0%)\n",
            "  adding: pretrain_work_dir/data/energy/test_0_16.npy (deflated 24%)\n",
            "  adding: pretrain_work_dir/data/energy/test_0_33.npy (deflated 32%)\n",
            "  adding: pretrain_work_dir/data/energy/test_0_14.npy (deflated 26%)\n",
            "  adding: pretrain_work_dir/data/energy/test_0_2.npy (deflated 28%)\n",
            "  adding: pretrain_work_dir/data/energy/test_0_4.npy (deflated 35%)\n",
            "  adding: pretrain_work_dir/data/energy/test_0_31.npy (deflated 29%)\n",
            "  adding: pretrain_work_dir/data/energy/test_0_32.npy (deflated 28%)\n",
            "  adding: pretrain_work_dir/data/energy/test_0_13.npy (deflated 35%)\n",
            "  adding: pretrain_work_dir/data/energy/test_0_18.npy (deflated 32%)\n",
            "  adding: pretrain_work_dir/data/energy/test_0_23.npy (deflated 24%)\n",
            "  adding: pretrain_work_dir/data/energy/test_0_12.npy (deflated 32%)\n",
            "  adding: pretrain_work_dir/data/energy/test_0_6.npy (deflated 25%)\n",
            "  adding: pretrain_work_dir/data/energy/test_0_11.npy (deflated 32%)\n",
            "  adding: pretrain_work_dir/data/energy/test_0_7.npy (deflated 30%)\n",
            "  adding: pretrain_work_dir/data/energy/energy_std.txt (stored 0%)\n",
            "  adding: pretrain_work_dir/data/energy/test_0_17.npy (deflated 23%)\n",
            "  adding: pretrain_work_dir/data/energy/test_0_27.npy (deflated 29%)\n",
            "  adding: pretrain_work_dir/data/energy/test_0_5.npy (deflated 35%)\n",
            "  adding: pretrain_work_dir/data/energy/test_0_26.npy (deflated 31%)\n",
            "  adding: pretrain_work_dir/data/energy/test_0_3.npy (deflated 28%)\n",
            "  adding: pretrain_work_dir/data/energy/test_0_24.npy (deflated 32%)\n",
            "  adding: pretrain_work_dir/data/badlist.txt (stored 0%)\n",
            "  adding: pretrain_work_dir/data/mel/ (stored 0%)\n",
            "  adding: pretrain_work_dir/data/mel/test_0_15.npy (deflated 5%)\n",
            "  adding: pretrain_work_dir/data/mel/test_0_0.npy (deflated 10%)\n",
            "  adding: pretrain_work_dir/data/mel/test_0_21.npy (deflated 16%)\n",
            "  adding: pretrain_work_dir/data/mel/test_0_10.npy (deflated 16%)\n",
            "  adding: pretrain_work_dir/data/mel/test_0_28.npy (deflated 11%)\n",
            "  adding: pretrain_work_dir/data/mel/test_0_8.npy (deflated 5%)\n",
            "  adding: pretrain_work_dir/data/mel/test_0_19.npy (deflated 11%)\n",
            "  adding: pretrain_work_dir/data/mel/test_0_22.npy (deflated 10%)\n",
            "  adding: pretrain_work_dir/data/mel/test_0_9.npy (deflated 12%)\n",
            "  adding: pretrain_work_dir/data/mel/test_0_20.npy (deflated 10%)\n",
            "  adding: pretrain_work_dir/data/mel/test_0_1.npy (deflated 14%)\n",
            "  adding: pretrain_work_dir/data/mel/test_0_25.npy (deflated 18%)\n",
            "  adding: pretrain_work_dir/data/mel/test_0_29.npy (deflated 17%)\n",
            "  adding: pretrain_work_dir/data/mel/test_0_16.npy (deflated 8%)\n",
            "  adding: pretrain_work_dir/data/mel/test_0_33.npy (deflated 8%)\n",
            "  adding: pretrain_work_dir/data/mel/test_0_14.npy (deflated 7%)\n",
            "  adding: pretrain_work_dir/data/mel/test_0_2.npy (deflated 6%)\n",
            "  adding: pretrain_work_dir/data/mel/test_0_4.npy (deflated 5%)\n",
            "  adding: pretrain_work_dir/data/mel/test_0_31.npy (deflated 8%)\n",
            "  adding: pretrain_work_dir/data/mel/mel_std.txt (deflated 63%)\n",
            "  adding: pretrain_work_dir/data/mel/test_0_32.npy (deflated 8%)\n",
            "  adding: pretrain_work_dir/data/mel/test_0_13.npy (deflated 6%)\n",
            "  adding: pretrain_work_dir/data/mel/test_0_18.npy (deflated 7%)\n",
            "  adding: pretrain_work_dir/data/mel/test_0_23.npy (deflated 10%)\n",
            "  adding: pretrain_work_dir/data/mel/test_0_12.npy (deflated 14%)\n",
            "  adding: pretrain_work_dir/data/mel/test_0_6.npy (deflated 6%)\n",
            "  adding: pretrain_work_dir/data/mel/test_0_11.npy (deflated 18%)\n",
            "  adding: pretrain_work_dir/data/mel/test_0_7.npy (deflated 11%)\n",
            "  adding: pretrain_work_dir/data/mel/mel_mean.txt (deflated 58%)\n",
            "  adding: pretrain_work_dir/data/mel/test_0_17.npy (deflated 8%)\n",
            "  adding: pretrain_work_dir/data/mel/test_0_27.npy (deflated 9%)\n",
            "  adding: pretrain_work_dir/data/mel/test_0_5.npy (deflated 17%)\n",
            "  adding: pretrain_work_dir/data/mel/test_0_26.npy (deflated 6%)\n",
            "  adding: pretrain_work_dir/data/mel/test_0_3.npy (deflated 6%)\n",
            "  adding: pretrain_work_dir/data/mel/test_0_24.npy (deflated 5%)\n",
            "  adding: pretrain_work_dir/data/f0/ (stored 0%)\n",
            "  adding: pretrain_work_dir/data/f0/test_0_15.npy (deflated 37%)\n",
            "  adding: pretrain_work_dir/data/f0/test_0_0.npy (deflated 38%)\n",
            "  adding: pretrain_work_dir/data/f0/test_0_21.npy (deflated 33%)\n",
            "  adding: pretrain_work_dir/data/f0/test_0_10.npy (deflated 29%)\n",
            "  adding: pretrain_work_dir/data/f0/test_0_28.npy (deflated 40%)\n",
            "  adding: pretrain_work_dir/data/f0/test_0_8.npy (deflated 35%)\n",
            "  adding: pretrain_work_dir/data/f0/test_0_19.npy (deflated 35%)\n",
            "  adding: pretrain_work_dir/data/f0/test_0_22.npy (deflated 36%)\n",
            "  adding: pretrain_work_dir/data/f0/test_0_9.npy (deflated 30%)\n",
            "  adding: pretrain_work_dir/data/f0/test_0_20.npy (deflated 36%)\n",
            "  adding: pretrain_work_dir/data/f0/test_0_1.npy (deflated 37%)\n",
            "  adding: pretrain_work_dir/data/f0/test_0_25.npy (deflated 32%)\n",
            "  adding: pretrain_work_dir/data/f0/test_0_29.npy (deflated 38%)\n",
            "  adding: pretrain_work_dir/data/f0/test_0_16.npy (deflated 29%)\n",
            "  adding: pretrain_work_dir/data/f0/test_0_33.npy (deflated 34%)\n",
            "  adding: pretrain_work_dir/data/f0/test_0_14.npy (deflated 34%)\n",
            "  adding: pretrain_work_dir/data/f0/test_0_2.npy (deflated 33%)\n",
            "  adding: pretrain_work_dir/data/f0/f0_std.txt (stored 0%)\n",
            "  adding: pretrain_work_dir/data/f0/test_0_4.npy (deflated 40%)\n",
            "  adding: pretrain_work_dir/data/f0/test_0_31.npy (deflated 33%)\n",
            "  adding: pretrain_work_dir/data/f0/test_0_32.npy (deflated 30%)\n",
            "  adding: pretrain_work_dir/data/f0/test_0_13.npy (deflated 40%)\n",
            "  adding: pretrain_work_dir/data/f0/test_0_18.npy (deflated 42%)\n",
            "  adding: pretrain_work_dir/data/f0/test_0_23.npy (deflated 36%)\n",
            "  adding: pretrain_work_dir/data/f0/test_0_12.npy (deflated 35%)\n",
            "  adding: pretrain_work_dir/data/f0/test_0_6.npy (deflated 32%)\n",
            "  adding: pretrain_work_dir/data/f0/test_0_11.npy (deflated 33%)\n",
            "  adding: pretrain_work_dir/data/f0/test_0_7.npy (deflated 35%)\n",
            "  adding: pretrain_work_dir/data/f0/f0_mean.txt (stored 0%)\n",
            "  adding: pretrain_work_dir/data/f0/test_0_17.npy (deflated 25%)\n",
            "  adding: pretrain_work_dir/data/f0/test_0_27.npy (deflated 31%)\n",
            "  adding: pretrain_work_dir/data/f0/test_0_5.npy (deflated 44%)\n",
            "  adding: pretrain_work_dir/data/f0/test_0_26.npy (deflated 35%)\n",
            "  adding: pretrain_work_dir/data/f0/test_0_3.npy (deflated 33%)\n",
            "  adding: pretrain_work_dir/data/f0/test_0_24.npy (deflated 37%)\n",
            "  adding: pretrain_work_dir/data/frame_energy/ (stored 0%)\n",
            "  adding: pretrain_work_dir/data/frame_energy/test_0_15.npy (deflated 3%)\n",
            "  adding: pretrain_work_dir/data/frame_energy/test_0_0.npy (deflated 3%)\n",
            "  adding: pretrain_work_dir/data/frame_energy/test_0_21.npy (deflated 4%)\n",
            "  adding: pretrain_work_dir/data/frame_energy/test_0_10.npy (deflated 4%)\n",
            "  adding: pretrain_work_dir/data/frame_energy/test_0_28.npy (deflated 3%)\n",
            "  adding: pretrain_work_dir/data/frame_energy/test_0_8.npy (deflated 3%)\n",
            "  adding: pretrain_work_dir/data/frame_energy/test_0_19.npy (deflated 3%)\n",
            "  adding: pretrain_work_dir/data/frame_energy/test_0_22.npy (deflated 4%)\n",
            "  adding: pretrain_work_dir/data/frame_energy/test_0_9.npy (deflated 4%)\n",
            "  adding: pretrain_work_dir/data/frame_energy/test_0_20.npy (deflated 3%)\n",
            "  adding: pretrain_work_dir/data/frame_energy/test_0_1.npy (deflated 5%)\n",
            "  adding: pretrain_work_dir/data/frame_energy/test_0_25.npy (deflated 7%)\n",
            "  adding: pretrain_work_dir/data/frame_energy/test_0_29.npy (deflated 8%)\n",
            "  adding: pretrain_work_dir/data/frame_energy/test_0_16.npy (deflated 4%)\n",
            "  adding: pretrain_work_dir/data/frame_energy/test_0_33.npy (deflated 3%)\n",
            "  adding: pretrain_work_dir/data/frame_energy/test_0_14.npy (deflated 4%)\n",
            "  adding: pretrain_work_dir/data/frame_energy/test_0_2.npy (deflated 4%)\n",
            "  adding: pretrain_work_dir/data/frame_energy/test_0_4.npy (deflated 4%)\n",
            "  adding: pretrain_work_dir/data/frame_energy/test_0_31.npy (deflated 3%)\n",
            "  adding: pretrain_work_dir/data/frame_energy/test_0_32.npy (deflated 5%)\n",
            "  adding: pretrain_work_dir/data/frame_energy/test_0_13.npy (deflated 4%)\n",
            "  adding: pretrain_work_dir/data/frame_energy/test_0_18.npy (deflated 3%)\n",
            "  adding: pretrain_work_dir/data/frame_energy/test_0_23.npy (deflated 4%)\n",
            "  adding: pretrain_work_dir/data/frame_energy/test_0_12.npy (deflated 4%)\n",
            "  adding: pretrain_work_dir/data/frame_energy/test_0_6.npy (deflated 4%)\n",
            "  adding: pretrain_work_dir/data/frame_energy/test_0_11.npy (deflated 4%)\n",
            "  adding: pretrain_work_dir/data/frame_energy/test_0_7.npy (deflated 5%)\n",
            "  adding: pretrain_work_dir/data/frame_energy/test_0_17.npy (deflated 4%)\n",
            "  adding: pretrain_work_dir/data/frame_energy/test_0_27.npy (deflated 4%)\n",
            "  adding: pretrain_work_dir/data/frame_energy/test_0_5.npy (deflated 4%)\n",
            "  adding: pretrain_work_dir/data/frame_energy/test_0_26.npy (deflated 4%)\n",
            "  adding: pretrain_work_dir/data/frame_energy/test_0_3.npy (deflated 4%)\n",
            "  adding: pretrain_work_dir/data/frame_energy/test_0_24.npy (deflated 4%)\n",
            "  adding: pretrain_work_dir/data/am_valid.lst (deflated 88%)\n",
            "  adding: pretrain_work_dir/data/se/ (stored 0%)\n",
            "  adding: pretrain_work_dir/data/se/test_0_15.npy (deflated 5%)\n",
            "  adding: pretrain_work_dir/data/se/test_0_0.npy (deflated 5%)\n",
            "  adding: pretrain_work_dir/data/se/test_0_21.npy (deflated 5%)\n",
            "  adding: pretrain_work_dir/data/se/test_0_10.npy (deflated 5%)\n",
            "  adding: pretrain_work_dir/data/se/test_0_28.npy (deflated 5%)\n",
            "  adding: pretrain_work_dir/data/se/test_0_8.npy (deflated 5%)\n",
            "  adding: pretrain_work_dir/data/se/test_0_19.npy (deflated 6%)\n",
            "  adding: pretrain_work_dir/data/se/test_0_22.npy (deflated 6%)\n",
            "  adding: pretrain_work_dir/data/se/test_0_9.npy (deflated 5%)\n",
            "  adding: pretrain_work_dir/data/se/test_0_20.npy (deflated 6%)\n",
            "  adding: pretrain_work_dir/data/se/test_0_1.npy (deflated 6%)\n",
            "  adding: pretrain_work_dir/data/se/test_0_25.npy (deflated 5%)\n",
            "  adding: pretrain_work_dir/data/se/test_0_29.npy (deflated 5%)\n",
            "  adding: pretrain_work_dir/data/se/test_0_16.npy (deflated 5%)\n",
            "  adding: pretrain_work_dir/data/se/test_0_33.npy (deflated 5%)\n",
            "  adding: pretrain_work_dir/data/se/test_0_14.npy (deflated 5%)\n",
            "  adding: pretrain_work_dir/data/se/test_0_2.npy (deflated 5%)\n",
            "  adding: pretrain_work_dir/data/se/test_0_4.npy (deflated 5%)\n",
            "  adding: pretrain_work_dir/data/se/test_0_31.npy (deflated 5%)\n",
            "  adding: pretrain_work_dir/data/se/test_0_32.npy (deflated 5%)\n",
            "  adding: pretrain_work_dir/data/se/test_0_13.npy (deflated 5%)\n",
            "  adding: pretrain_work_dir/data/se/test_0_18.npy (deflated 5%)\n",
            "  adding: pretrain_work_dir/data/se/test_0_23.npy (deflated 5%)\n",
            "  adding: pretrain_work_dir/data/se/test_0_12.npy (deflated 6%)\n",
            "  adding: pretrain_work_dir/data/se/test_0_6.npy (deflated 5%)\n",
            "  adding: pretrain_work_dir/data/se/test_0_11.npy (deflated 5%)\n",
            "  adding: pretrain_work_dir/data/se/test_0_7.npy (deflated 5%)\n",
            "  adding: pretrain_work_dir/data/se/test_0_17.npy (deflated 5%)\n",
            "  adding: pretrain_work_dir/data/se/test_0_27.npy (deflated 6%)\n",
            "  adding: pretrain_work_dir/data/se/se.npy (deflated 5%)\n",
            "  adding: pretrain_work_dir/data/se/test_0_5.npy (deflated 5%)\n",
            "  adding: pretrain_work_dir/data/se/test_0_26.npy (deflated 5%)\n",
            "  adding: pretrain_work_dir/data/se/test_0_3.npy (deflated 5%)\n",
            "  adding: pretrain_work_dir/data/se/test_0_24.npy (deflated 6%)\n",
            "  adding: pretrain_work_dir/data/wav/ (stored 0%)\n",
            "  adding: pretrain_work_dir/data/wav/test_0_23.wav (deflated 16%)\n",
            "  adding: pretrain_work_dir/data/wav/test_0_1.wav (deflated 20%)\n",
            "  adding: pretrain_work_dir/data/wav/test_0_28.wav (deflated 16%)\n",
            "  adding: pretrain_work_dir/data/wav/test_0_16.wav (deflated 11%)\n",
            "  adding: pretrain_work_dir/data/wav/test_0_24.wav (deflated 11%)\n",
            "  adding: pretrain_work_dir/data/wav/test_0_11.wav (deflated 19%)\n",
            "  adding: pretrain_work_dir/data/wav/test_0_19.wav (deflated 19%)\n",
            "  adding: pretrain_work_dir/data/wav/test_0_9.wav (deflated 17%)\n",
            "  adding: pretrain_work_dir/data/wav/test_0_6.wav (deflated 12%)\n",
            "  adding: pretrain_work_dir/data/wav/test_0_14.wav (deflated 11%)\n",
            "  adding: pretrain_work_dir/data/wav/test_0_15.wav (deflated 10%)\n",
            "  adding: pretrain_work_dir/data/wav/test_0_27.wav (deflated 14%)\n",
            "  adding: pretrain_work_dir/data/wav/test_0_26.wav (deflated 10%)\n",
            "  adding: pretrain_work_dir/data/wav/test_0_33.wav (deflated 12%)\n",
            "  adding: pretrain_work_dir/data/wav/test_0_22.wav (deflated 14%)\n",
            "  adding: pretrain_work_dir/data/wav/test_0_3.wav (deflated 13%)\n",
            "  adding: pretrain_work_dir/data/wav/test_0_25.wav (deflated 25%)\n",
            "  adding: pretrain_work_dir/data/wav/test_0_10.wav (deflated 20%)\n",
            "  adding: pretrain_work_dir/data/wav/test_0_21.wav (deflated 19%)\n",
            "  adding: pretrain_work_dir/data/wav/test_0_13.wav (deflated 11%)\n",
            "  adding: pretrain_work_dir/data/wav/test_0_7.wav (deflated 17%)\n",
            "  adding: pretrain_work_dir/data/wav/test_0_17.wav (deflated 13%)\n",
            "  adding: pretrain_work_dir/data/wav/test_0_0.wav (deflated 16%)\n",
            "  adding: pretrain_work_dir/data/wav/test_0_5.wav (deflated 25%)\n",
            "  adding: pretrain_work_dir/data/wav/test_0_12.wav (deflated 23%)\n",
            "  adding: pretrain_work_dir/data/wav/test_0_2.wav (deflated 15%)\n",
            "  adding: pretrain_work_dir/data/wav/test_0_31.wav (deflated 11%)\n",
            "  adding: pretrain_work_dir/data/wav/test_0_8.wav (deflated 7%)\n",
            "  adding: pretrain_work_dir/data/wav/test_0_32.wav (deflated 12%)\n",
            "  adding: pretrain_work_dir/data/wav/test_0_18.wav (deflated 11%)\n",
            "  adding: pretrain_work_dir/data/wav/test_0_20.wav (deflated 17%)\n",
            "  adding: pretrain_work_dir/data/wav/test_0_29.wav (deflated 22%)\n",
            "  adding: pretrain_work_dir/data/wav/test_0_4.wav (deflated 10%)\n",
            "  adding: pretrain_work_dir/data/valid.lst (stored 0%)\n",
            "  adding: pretrain_work_dir/data/audio_config.yaml (deflated 38%)\n",
            "  adding: pretrain_work_dir/data/raw_duration/ (stored 0%)\n",
            "  adding: pretrain_work_dir/data/raw_duration/test_0_15.npy (deflated 65%)\n",
            "  adding: pretrain_work_dir/data/raw_duration/test_0_0.npy (deflated 56%)\n",
            "  adding: pretrain_work_dir/data/raw_duration/test_0_21.npy (deflated 65%)\n",
            "  adding: pretrain_work_dir/data/raw_duration/test_0_32.phone (deflated 23%)\n",
            "  adding: pretrain_work_dir/data/raw_duration/test_0_10.npy (deflated 66%)\n",
            "  adding: pretrain_work_dir/data/raw_duration/test_0_28.npy (deflated 61%)\n",
            "  adding: pretrain_work_dir/data/raw_duration/test_0_8.npy (deflated 64%)\n",
            "  adding: pretrain_work_dir/data/raw_duration/test_0_3.phone (deflated 20%)\n",
            "  adding: pretrain_work_dir/data/raw_duration/test_0_19.npy (deflated 62%)\n",
            "  adding: pretrain_work_dir/data/raw_duration/test_0_22.npy (deflated 58%)\n",
            "  adding: pretrain_work_dir/data/raw_duration/test_0_9.phone (deflated 21%)\n",
            "  adding: pretrain_work_dir/data/raw_duration/test_0_21.phone (deflated 19%)\n",
            "  adding: pretrain_work_dir/data/raw_duration/test_0_14.phone (deflated 26%)\n",
            "  adding: pretrain_work_dir/data/raw_duration/test_0_9.npy (deflated 66%)\n",
            "  adding: pretrain_work_dir/data/raw_duration/test_0_20.npy (deflated 63%)\n",
            "  adding: pretrain_work_dir/data/raw_duration/test_0_1.npy (deflated 63%)\n",
            "  adding: pretrain_work_dir/data/raw_duration/test_0_25.npy (deflated 64%)\n",
            "  adding: pretrain_work_dir/data/raw_duration/test_0_29.npy (deflated 67%)\n",
            "  adding: pretrain_work_dir/data/raw_duration/test_0_18.phone (deflated 7%)\n",
            "  adding: pretrain_work_dir/data/raw_duration/test_0_16.npy (deflated 67%)\n",
            "  adding: pretrain_work_dir/data/raw_duration/test_0_33.npy (deflated 58%)\n",
            "  adding: pretrain_work_dir/data/raw_duration/test_0_15.phone (deflated 13%)\n",
            "  adding: pretrain_work_dir/data/raw_duration/test_0_14.npy (deflated 68%)\n",
            "  adding: pretrain_work_dir/data/raw_duration/test_0_1.phone (deflated 13%)\n",
            "  adding: pretrain_work_dir/data/raw_duration/test_0_2.npy (deflated 64%)\n",
            "  adding: pretrain_work_dir/data/raw_duration/test_0_13.phone (deflated 3%)\n",
            "  adding: pretrain_work_dir/data/raw_duration/test_0_4.npy (deflated 63%)\n",
            "  adding: pretrain_work_dir/data/raw_duration/test_0_31.npy (deflated 65%)\n",
            "  adding: pretrain_work_dir/data/raw_duration/test_0_10.phone (deflated 28%)\n",
            "  adding: pretrain_work_dir/data/raw_duration/test_0_16.phone (deflated 26%)\n",
            "  adding: pretrain_work_dir/data/raw_duration/test_0_0.phone (deflated 3%)\n",
            "  adding: pretrain_work_dir/data/raw_duration/test_0_5.phone (stored 0%)\n",
            "  adding: pretrain_work_dir/data/raw_duration/test_0_22.phone (deflated 2%)\n",
            "  adding: pretrain_work_dir/data/raw_duration/test_0_32.npy (deflated 67%)\n",
            "  adding: pretrain_work_dir/data/raw_duration/test_0_7.phone (deflated 21%)\n",
            "  adding: pretrain_work_dir/data/raw_duration/test_0_13.npy (deflated 60%)\n",
            "  adding: pretrain_work_dir/data/raw_duration/test_0_18.npy (deflated 63%)\n",
            "  adding: pretrain_work_dir/data/raw_duration/test_0_4.phone (deflated 9%)\n",
            "  adding: pretrain_work_dir/data/raw_duration/test_0_28.phone (deflated 7%)\n",
            "  adding: pretrain_work_dir/data/raw_duration/test_0_23.phone (deflated 31%)\n",
            "  adding: pretrain_work_dir/data/raw_duration/test_0_2.phone (deflated 13%)\n",
            "  adding: pretrain_work_dir/data/raw_duration/test_0_23.npy (deflated 68%)\n",
            "  adding: pretrain_work_dir/data/raw_duration/test_0_12.npy (deflated 61%)\n",
            "  adding: pretrain_work_dir/data/raw_duration/test_0_6.npy (deflated 68%)\n",
            "  adding: pretrain_work_dir/data/raw_duration/test_0_31.phone (deflated 14%)\n",
            "  adding: pretrain_work_dir/data/raw_duration/test_0_11.npy (deflated 63%)\n",
            "  adding: pretrain_work_dir/data/raw_duration/test_0_7.npy (deflated 67%)\n",
            "  adding: pretrain_work_dir/data/raw_duration/test_0_19.phone (deflated 7%)\n",
            "  adding: pretrain_work_dir/data/raw_duration/test_0_6.phone (deflated 22%)\n",
            "  adding: pretrain_work_dir/data/raw_duration/test_0_25.phone (deflated 8%)\n",
            "  adding: pretrain_work_dir/data/raw_duration/test_0_20.phone (deflated 2%)\n",
            "  adding: pretrain_work_dir/data/raw_duration/test_0_29.phone (deflated 22%)\n",
            "  adding: pretrain_work_dir/data/raw_duration/test_0_26.phone (deflated 15%)\n",
            "  adding: pretrain_work_dir/data/raw_duration/test_0_17.npy (deflated 69%)\n",
            "  adding: pretrain_work_dir/data/raw_duration/test_0_27.npy (deflated 64%)\n",
            "  adding: pretrain_work_dir/data/raw_duration/test_0_24.phone (deflated 7%)\n",
            "  adding: pretrain_work_dir/data/raw_duration/test_0_27.phone (deflated 15%)\n",
            "  adding: pretrain_work_dir/data/raw_duration/test_0_33.phone (stored 0%)\n",
            "  adding: pretrain_work_dir/data/raw_duration/test_0_8.phone (deflated 12%)\n",
            "  adding: pretrain_work_dir/data/raw_duration/test_0_11.phone (stored 0%)\n",
            "  adding: pretrain_work_dir/data/raw_duration/test_0_5.npy (deflated 58%)\n",
            "  adding: pretrain_work_dir/data/raw_duration/test_0_26.npy (deflated 65%)\n",
            "  adding: pretrain_work_dir/data/raw_duration/test_0_17.phone (deflated 26%)\n",
            "  adding: pretrain_work_dir/data/raw_duration/test_0_3.npy (deflated 66%)\n",
            "  adding: pretrain_work_dir/data/raw_duration/test_0_12.phone (deflated 25%)\n",
            "  adding: pretrain_work_dir/data/raw_duration/test_0_24.npy (deflated 62%)\n",
            "  adding: pretrain_work_dir/data/train.lst (deflated 74%)\n",
            "  adding: pretrain_work_dir/data/Script.xml (deflated 92%)\n",
            "  adding: pretrain_work_dir/data/raw_metafile.txt (deflated 96%)\n",
            "  adding: pretrain_work_dir/data/am_train.lst (deflated 95%)\n",
            "  adding: pretrain_work_dir/data/frame_f0/ (stored 0%)\n",
            "  adding: pretrain_work_dir/data/frame_f0/test_0_15.npy (deflated 5%)\n",
            "  adding: pretrain_work_dir/data/frame_f0/test_0_0.npy (deflated 5%)\n",
            "  adding: pretrain_work_dir/data/frame_f0/test_0_21.npy (deflated 6%)\n",
            "  adding: pretrain_work_dir/data/frame_f0/test_0_10.npy (deflated 6%)\n",
            "  adding: pretrain_work_dir/data/frame_f0/test_0_28.npy (deflated 6%)\n",
            "  adding: pretrain_work_dir/data/frame_f0/test_0_8.npy (deflated 4%)\n",
            "  adding: pretrain_work_dir/data/frame_f0/test_0_19.npy (deflated 5%)\n",
            "  adding: pretrain_work_dir/data/frame_f0/test_0_22.npy (deflated 9%)\n",
            "  adding: pretrain_work_dir/data/frame_f0/test_0_9.npy (deflated 6%)\n",
            "  adding: pretrain_work_dir/data/frame_f0/test_0_20.npy (deflated 5%)\n",
            "  adding: pretrain_work_dir/data/frame_f0/test_0_1.npy (deflated 5%)\n",
            "  adding: pretrain_work_dir/data/frame_f0/test_0_25.npy (deflated 6%)\n",
            "  adding: pretrain_work_dir/data/frame_f0/test_0_29.npy (deflated 6%)\n",
            "  adding: pretrain_work_dir/data/frame_f0/test_0_16.npy (deflated 7%)\n",
            "  adding: pretrain_work_dir/data/frame_f0/test_0_33.npy (deflated 7%)\n",
            "  adding: pretrain_work_dir/data/frame_f0/test_0_14.npy (deflated 6%)\n",
            "  adding: pretrain_work_dir/data/frame_f0/test_0_2.npy (deflated 8%)\n",
            "  adding: pretrain_work_dir/data/frame_f0/test_0_4.npy (deflated 6%)\n",
            "  adding: pretrain_work_dir/data/frame_f0/test_0_31.npy (deflated 5%)\n",
            "  adding: pretrain_work_dir/data/frame_f0/test_0_32.npy (deflated 6%)\n",
            "  adding: pretrain_work_dir/data/frame_f0/test_0_13.npy (deflated 19%)\n",
            "  adding: pretrain_work_dir/data/frame_f0/test_0_18.npy (deflated 6%)\n",
            "  adding: pretrain_work_dir/data/frame_f0/test_0_23.npy (deflated 6%)\n",
            "  adding: pretrain_work_dir/data/frame_f0/test_0_12.npy (deflated 6%)\n",
            "  adding: pretrain_work_dir/data/frame_f0/test_0_6.npy (deflated 6%)\n",
            "  adding: pretrain_work_dir/data/frame_f0/test_0_11.npy (deflated 5%)\n",
            "  adding: pretrain_work_dir/data/frame_f0/test_0_7.npy (deflated 7%)\n",
            "  adding: pretrain_work_dir/data/frame_f0/test_0_17.npy (deflated 10%)\n",
            "  adding: pretrain_work_dir/data/frame_f0/test_0_27.npy (deflated 7%)\n",
            "  adding: pretrain_work_dir/data/frame_f0/test_0_5.npy (deflated 16%)\n",
            "  adding: pretrain_work_dir/data/frame_f0/test_0_26.npy (deflated 6%)\n",
            "  adding: pretrain_work_dir/data/frame_f0/test_0_3.npy (deflated 10%)\n",
            "  adding: pretrain_work_dir/data/frame_f0/test_0_24.npy (deflated 8%)\n",
            "  adding: pretrain_work_dir/data/duration/ (stored 0%)\n",
            "  adding: pretrain_work_dir/data/duration/test_0_15.npy (deflated 67%)\n",
            "  adding: pretrain_work_dir/data/duration/test_0_0.npy (deflated 59%)\n",
            "  adding: pretrain_work_dir/data/duration/test_0_21.npy (deflated 68%)\n",
            "  adding: pretrain_work_dir/data/duration/test_0_10.npy (deflated 68%)\n",
            "  adding: pretrain_work_dir/data/duration/test_0_28.npy (deflated 62%)\n",
            "  adding: pretrain_work_dir/data/duration/test_0_8.npy (deflated 67%)\n",
            "  adding: pretrain_work_dir/data/duration/test_0_19.npy (deflated 61%)\n",
            "  adding: pretrain_work_dir/data/duration/test_0_22.npy (deflated 62%)\n",
            "  adding: pretrain_work_dir/data/duration/test_0_9.npy (deflated 68%)\n",
            "  adding: pretrain_work_dir/data/duration/test_0_20.npy (deflated 62%)\n",
            "  adding: pretrain_work_dir/data/duration/test_0_1.npy (deflated 65%)\n",
            "  adding: pretrain_work_dir/data/duration/test_0_25.npy (deflated 65%)\n",
            "  adding: pretrain_work_dir/data/duration/test_0_29.npy (deflated 68%)\n",
            "  adding: pretrain_work_dir/data/duration/test_0_16.npy (deflated 69%)\n",
            "  adding: pretrain_work_dir/data/duration/test_0_33.npy (deflated 60%)\n",
            "  adding: pretrain_work_dir/data/duration/test_0_14.npy (deflated 69%)\n",
            "  adding: pretrain_work_dir/data/duration/test_0_2.npy (deflated 66%)\n",
            "  adding: pretrain_work_dir/data/duration/test_0_4.npy (deflated 66%)\n",
            "  adding: pretrain_work_dir/data/duration/test_0_31.npy (deflated 67%)\n",
            "  adding: pretrain_work_dir/data/duration/test_0_32.npy (deflated 70%)\n",
            "  adding: pretrain_work_dir/data/duration/test_0_13.npy (deflated 63%)\n",
            "  adding: pretrain_work_dir/data/duration/test_0_18.npy (deflated 66%)\n",
            "  adding: pretrain_work_dir/data/duration/test_0_23.npy (deflated 70%)\n",
            "  adding: pretrain_work_dir/data/duration/test_0_12.npy (deflated 64%)\n",
            "  adding: pretrain_work_dir/data/duration/test_0_6.npy (deflated 69%)\n",
            "  adding: pretrain_work_dir/data/duration/test_0_11.npy (deflated 64%)\n",
            "  adding: pretrain_work_dir/data/duration/test_0_17.npy (deflated 71%)\n",
            "  adding: pretrain_work_dir/data/duration/test_0_27.npy (deflated 66%)\n",
            "  adding: pretrain_work_dir/data/duration/test_0_5.npy (deflated 60%)\n",
            "  adding: pretrain_work_dir/data/duration/test_0_26.npy (deflated 68%)\n",
            "  adding: pretrain_work_dir/data/duration/test_0_3.npy (deflated 67%)\n",
            "  adding: pretrain_work_dir/data/duration/test_0_24.npy (deflated 65%)\n",
            "  adding: pretrain_work_dir/orig_model/ (stored 0%)\n",
            "  adding: pretrain_work_dir/orig_model/resource.zip (stored 0%)\n",
            "  adding: pretrain_work_dir/orig_model/basemodel_16k/ (stored 0%)\n",
            "  adding: pretrain_work_dir/orig_model/basemodel_16k/sambert/ (stored 0%)\n",
            "  adding: pretrain_work_dir/orig_model/basemodel_16k/sambert/config.yaml (deflated 61%)\n",
            "  adding: pretrain_work_dir/orig_model/basemodel_16k/sambert/ckpt/ (stored 0%)\n",
            "  adding: pretrain_work_dir/orig_model/basemodel_16k/sambert/ckpt/checkpoint_2400000.pth (deflated 10%)\n",
            "  adding: pretrain_work_dir/orig_model/basemodel_16k/audio_config_se_16k.yaml (deflated 44%)\n",
            "  adding: pretrain_work_dir/orig_model/basemodel_16k/speaker_embedding/ (stored 0%)\n",
            "  adding: pretrain_work_dir/orig_model/basemodel_16k/speaker_embedding/se.onnx (deflated 8%)\n",
            "  adding: pretrain_work_dir/orig_model/basemodel_16k/speaker_embedding/se.model (deflated 8%)\n",
            "  adding: pretrain_work_dir/orig_model/basemodel_16k/hifigan/ (stored 0%)\n",
            "  adding: pretrain_work_dir/orig_model/basemodel_16k/hifigan/config.yaml (deflated 70%)\n",
            "  adding: pretrain_work_dir/orig_model/basemodel_16k/hifigan/ckpt/ (stored 0%)\n",
            "  adding: pretrain_work_dir/orig_model/basemodel_16k/hifigan/ckpt/checkpoint_2400000.pth (deflated 8%)\n",
            "  adding: pretrain_work_dir/orig_model/resource/ (stored 0%)\n",
            "  adding: pretrain_work_dir/orig_model/resource/ws_hk/ (stored 0%)\n",
            "  adding: pretrain_work_dir/orig_model/resource/ws_hk/xiaoyan.dict (deflated 66%)\n",
            "  adding: pretrain_work_dir/orig_model/resource/ws_hk/pos_hmm.dict (deflated 60%)\n",
            "  adding: pretrain_work_dir/orig_model/resource/ws_hk/ivr.dict (deflated 75%)\n",
            "  adding: pretrain_work_dir/orig_model/resource/ws_hk/ws-dfa-rule.dict (deflated 96%)\n",
            "  adding: pretrain_work_dir/orig_model/resource/ws_hk/puncNumberTimeLetter.dict (deflated 100%)\n",
            "  adding: pretrain_work_dir/orig_model/resource/ws_hk/AliTokenizer_example.conf (deflated 31%)\n",
            "  adding: pretrain_work_dir/orig_model/resource/festival/ (stored 0%)\n",
            "  adding: pretrain_work_dir/orig_model/resource/festival/fringe.scm (deflated 66%)\n",
            "  adding: pretrain_work_dir/orig_model/resource/festival/tobi.scm (deflated 76%)\n",
            "  adding: pretrain_work_dir/orig_model/resource/festival/languages.scm (deflated 69%)\n",
            "  adding: pretrain_work_dir/orig_model/resource/festival/duration.scm (deflated 68%)\n",
            "  adding: pretrain_work_dir/orig_model/resource/festival/apml_f2bf0lr.scm (deflated 86%)\n",
            "  adding: pretrain_work_dir/orig_model/resource/festival/siteinit.scm (deflated 61%)\n",
            "  adding: pretrain_work_dir/orig_model/resource/festival/voices/ (stored 0%)\n",
            "  adding: pretrain_work_dir/orig_model/resource/festival/voices/english/ (stored 0%)\n",
            "  adding: pretrain_work_dir/orig_model/resource/festival/voices/english/rab_diphone/ (stored 0%)\n",
            "  adding: pretrain_work_dir/orig_model/resource/festival/voices/english/rab_diphone/COPYING (deflated 57%)\n",
            "  adding: pretrain_work_dir/orig_model/resource/festival/voices/english/rab_diphone/group/ (stored 0%)\n",
            "  adding: pretrain_work_dir/orig_model/resource/festival/voices/english/rab_diphone/group/rablpc16k.group (deflated 29%)\n",
            "  adding: pretrain_work_dir/orig_model/resource/festival/voices/english/rab_diphone/festvox/ (stored 0%)\n",
            "  adding: pretrain_work_dir/orig_model/resource/festival/voices/english/rab_diphone/festvox/rab_diphone.scm (deflated 69%)\n",
            "  adding: pretrain_work_dir/orig_model/resource/festival/voices/english/kal_diphone/ (stored 0%)\n",
            "  adding: pretrain_work_dir/orig_model/resource/festival/voices/english/kal_diphone/COPYING (deflated 57%)\n",
            "  adding: pretrain_work_dir/orig_model/resource/festival/voices/english/kal_diphone/group/ (stored 0%)\n",
            "  adding: pretrain_work_dir/orig_model/resource/festival/voices/english/kal_diphone/group/kallpc16k.group (deflated 33%)\n",
            "  adding: pretrain_work_dir/orig_model/resource/festival/voices/english/kal_diphone/festvox/ (stored 0%)\n",
            "  adding: pretrain_work_dir/orig_model/resource/festival/voices/english/kal_diphone/festvox/kal_diphone.scm (deflated 69%)\n",
            "  adding: pretrain_work_dir/orig_model/resource/festival/voices/english/kal_diphone/festvox/kaldurtreeZ.scm (deflated 76%)\n",
            "  adding: pretrain_work_dir/orig_model/resource/festival/f2bf0lr.scm (deflated 71%)\n",
            "  adding: pretrain_work_dir/orig_model/resource/festival/etc/ (stored 0%)\n",
            "  adding: pretrain_work_dir/orig_model/resource/festival/etc/email_filter (deflated 66%)\n",
            "  adding: pretrain_work_dir/orig_model/resource/festival/apml.scm (deflated 72%)\n",
            "  adding: pretrain_work_dir/orig_model/resource/festival/mrpa_allophones.scm (deflated 70%)\n",
            "  adding: pretrain_work_dir/orig_model/resource/festival/singing-mode.scm (deflated 73%)\n",
            "  adding: pretrain_work_dir/orig_model/resource/festival/sec.B.hept.ngrambin (deflated 65%)\n",
            "  adding: pretrain_work_dir/orig_model/resource/festival/klatt_durs.scm (deflated 64%)\n",
            "  adding: pretrain_work_dir/orig_model/resource/festival/gswdurtreeZ.scm (deflated 77%)\n",
            "  adding: pretrain_work_dir/orig_model/resource/festival/cart_aux.scm (deflated 68%)\n",
            "  adding: pretrain_work_dir/orig_model/resource/festival/lexicons.scm (deflated 67%)\n",
            "  adding: pretrain_work_dir/orig_model/resource/festival/Singing.v0_1.dtd (deflated 64%)\n",
            "  adding: pretrain_work_dir/orig_model/resource/festival/module_description.scm (deflated 67%)\n",
            "  adding: pretrain_work_dir/orig_model/resource/festival/siod.scm (deflated 66%)\n",
            "  adding: pretrain_work_dir/orig_model/resource/festival/darpa_phones.scm (deflated 71%)\n",
            "  adding: pretrain_work_dir/orig_model/resource/festival/postlex.scm (deflated 75%)\n",
            "  adding: pretrain_work_dir/orig_model/resource/festival/hts.scm (deflated 83%)\n",
            "  adding: pretrain_work_dir/orig_model/resource/festival/lts.scm (deflated 70%)\n",
            "  adding: pretrain_work_dir/orig_model/resource/festival/engmorphsyn.scm (deflated 65%)\n",
            "  adding: pretrain_work_dir/orig_model/resource/festival/multisyn/ (stored 0%)\n",
            "  adding: pretrain_work_dir/orig_model/resource/festival/multisyn/multisyn_pauses.scm (deflated 64%)\n",
            "  adding: pretrain_work_dir/orig_model/resource/festival/multisyn/multisyn.scm (deflated 65%)\n",
            "  adding: pretrain_work_dir/orig_model/resource/festival/multisyn/radio_phones_multisyn.scm (deflated 69%)\n",
            "  adding: pretrain_work_dir/orig_model/resource/festival/multisyn/send_xwaves.scm (deflated 70%)\n",
            "  adding: pretrain_work_dir/orig_model/resource/festival/multisyn/target_cost.scm (deflated 71%)\n",
            "  adding: pretrain_work_dir/orig_model/resource/festival/pos.scm (deflated 66%)\n",
            "  adding: pretrain_work_dir/orig_model/resource/festival/festival.scm (deflated 70%)\n",
            "  adding: pretrain_work_dir/orig_model/resource/festival/festdoc.scm (deflated 63%)\n",
            "  adding: pretrain_work_dir/orig_model/resource/festival/web.scm (deflated 63%)\n",
            "  adding: pretrain_work_dir/orig_model/resource/festival/mbrola.scm (deflated 63%)\n",
            "  adding: pretrain_work_dir/orig_model/resource/festival/dicts/ (stored 0%)\n",
            "  adding: pretrain_work_dir/orig_model/resource/festival/dicts/wsj.wp39.tri.ngrambin (deflated 84%)\n",
            "  adding: pretrain_work_dir/orig_model/resource/festival/dicts/cmu/ (stored 0%)\n",
            "  adding: pretrain_work_dir/orig_model/resource/festival/dicts/cmu/cmudict-0.4.out (deflated 83%)\n",
            "  adding: pretrain_work_dir/orig_model/resource/festival/dicts/cmu/cmudict-0.4.scm (deflated 80%)\n",
            "  adding: pretrain_work_dir/orig_model/resource/festival/dicts/cmu/cmudict-0.4.diff (deflated 86%)\n",
            "  adding: pretrain_work_dir/orig_model/resource/festival/dicts/cmu/cmulex.scm (deflated 75%)\n",
            "  adding: pretrain_work_dir/orig_model/resource/festival/dicts/cmu/COPYING (deflated 57%)\n",
            "  adding: pretrain_work_dir/orig_model/resource/festival/dicts/cmu/cmu_lts_rules.scm (deflated 90%)\n",
            "  adding: pretrain_work_dir/orig_model/resource/festival/dicts/cmu/cmudict_extensions.scm (deflated 64%)\n",
            "  adding: pretrain_work_dir/orig_model/resource/festival/dicts/cmu/cmu2ft (deflated 41%)\n",
            "  adding: pretrain_work_dir/orig_model/resource/festival/dicts/cmu/cmudict_compile.scm (deflated 64%)\n",
            "  adding: pretrain_work_dir/orig_model/resource/festival/dicts/cmu/allowables.scm (deflated 73%)\n",
            "  adding: pretrain_work_dir/orig_model/resource/festival/dicts/oald/ (stored 0%)\n",
            "  adding: pretrain_work_dir/orig_model/resource/festival/dicts/oald/oaldlex.scm (deflated 75%)\n",
            "  adding: pretrain_work_dir/orig_model/resource/festival/dicts/oald/oald_lts_rules.scm (deflated 92%)\n",
            "  adding: pretrain_work_dir/orig_model/resource/festival/dicts/oald/COPYING (deflated 63%)\n",
            "  adding: pretrain_work_dir/orig_model/resource/festival/dicts/oald/oald_extensions.scm (deflated 65%)\n",
            "  adding: pretrain_work_dir/orig_model/resource/festival/dicts/oald/ali.oald.lex (deflated 83%)\n",
            "  adding: pretrain_work_dir/orig_model/resource/festival/dicts/wsj.wp39.poslexR (deflated 82%)\n",
            "  adding: pretrain_work_dir/orig_model/resource/festival/cstr.scm (deflated 65%)\n",
            "  adding: pretrain_work_dir/orig_model/resource/festival/phrase.scm (deflated 63%)\n",
            "  adding: pretrain_work_dir/orig_model/resource/festival/festival.el (deflated 69%)\n",
            "  adding: pretrain_work_dir/orig_model/resource/festival/cslush.scm (deflated 61%)\n",
            "  adding: pretrain_work_dir/orig_model/resource/festival/scfg.scm (deflated 63%)\n",
            "  adding: pretrain_work_dir/orig_model/resource/festival/cmusphinx2_phones.scm (deflated 68%)\n",
            "  adding: pretrain_work_dir/orig_model/resource/festival/tokenpos.scm (deflated 64%)\n",
            "  adding: pretrain_work_dir/orig_model/resource/festival/mrpa_durs.scm (deflated 63%)\n",
            "  adding: pretrain_work_dir/orig_model/resource/festival/email-mode.scm (deflated 64%)\n",
            "  adding: pretrain_work_dir/orig_model/resource/festival/ogimarkup-mode.scm (deflated 68%)\n",
            "  adding: pretrain_work_dir/orig_model/resource/festival/sec.ts20.quad.ngrambin (deflated 87%)\n",
            "  adding: pretrain_work_dir/orig_model/resource/festival/engmorph.scm (deflated 71%)\n",
            "  adding: pretrain_work_dir/orig_model/resource/festival/synthesis.scm (deflated 75%)\n",
            "  adding: pretrain_work_dir/orig_model/resource/festival/mrpa_phones.scm (deflated 70%)\n",
            "  adding: pretrain_work_dir/orig_model/resource/festival/VCLocalRules (deflated 18%)\n",
            "  adding: pretrain_work_dir/orig_model/resource/festival/tobi_rules.scm (deflated 74%)\n",
            "  adding: pretrain_work_dir/orig_model/resource/festival/Sable.v0_2.dtd (deflated 68%)\n",
            "  adding: pretrain_work_dir/orig_model/resource/festival/phoneset.scm (deflated 66%)\n",
            "  adding: pretrain_work_dir/orig_model/resource/festival/soleml-mode.scm (deflated 74%)\n",
            "  adding: pretrain_work_dir/orig_model/resource/festival/speech.properties (deflated 28%)\n",
            "  adding: pretrain_work_dir/orig_model/resource/festival/tts.scm (deflated 64%)\n",
            "  adding: pretrain_work_dir/orig_model/resource/festival/radio_phones.scm (deflated 68%)\n",
            "  adding: pretrain_work_dir/orig_model/resource/festival/token.scm (deflated 76%)\n",
            "  adding: pretrain_work_dir/orig_model/resource/festival/apml_kaldurtreeZ.scm (deflated 76%)\n",
            "  adding: pretrain_work_dir/orig_model/resource/festival/intonation.scm (deflated 66%)\n",
            "  adding: pretrain_work_dir/orig_model/resource/festival/f2bdurtreeZ.scm (deflated 78%)\n",
            "  adding: pretrain_work_dir/orig_model/resource/festival/sable-latin.ent (deflated 69%)\n",
            "  adding: pretrain_work_dir/orig_model/resource/festival/init.scm (deflated 67%)\n",
            "  adding: pretrain_work_dir/orig_model/resource/festival/clunits_build.scm (deflated 72%)\n",
            "  adding: pretrain_work_dir/orig_model/resource/festival/scfg_wsj_wp20.gram (deflated 68%)\n",
            "  adding: pretrain_work_dir/orig_model/resource/festival/unilex_phones.scm (deflated 75%)\n",
            "  adding: pretrain_work_dir/orig_model/resource/festival/clunits.scm (deflated 72%)\n",
            "  adding: pretrain_work_dir/orig_model/resource/festival/display.scm (deflated 66%)\n",
            "  adding: pretrain_work_dir/orig_model/resource/festival/pauses.scm (deflated 72%)\n",
            "  adding: pretrain_work_dir/orig_model/resource/festival/tilt.scm (deflated 75%)\n",
            "  adding: pretrain_work_dir/orig_model/resource/festival/mettree.scm (deflated 61%)\n",
            "  adding: pretrain_work_dir/orig_model/resource/festival/java.scm (deflated 64%)\n",
            "  adding: pretrain_work_dir/orig_model/resource/festival/sable-mode.scm (deflated 74%)\n",
            "  adding: pretrain_work_dir/orig_model/resource/festival/lts_build.scm (deflated 74%)\n",
            "  adding: pretrain_work_dir/orig_model/resource/festival/voices.scm (deflated 69%)\n",
            "  adding: pretrain_work_dir/orig_model/resource/festival/festtest.scm (deflated 67%)\n",
            "  adding: pretrain_work_dir/orig_model/resource/festival/holmes_phones.scm (deflated 68%)\n",
            "  adding: pretrain_work_dir/orig_model/resource/jprsc/ (stored 0%)\n",
            "  adding: pretrain_work_dir/orig_model/resource/jprsc/right-id.def (deflated 87%)\n",
            "  adding: pretrain_work_dir/orig_model/resource/jprsc/unk.dic (deflated 87%)\n",
            "  adding: pretrain_work_dir/orig_model/resource/jprsc/COPYING (deflated 78%)\n",
            "  adding: pretrain_work_dir/orig_model/resource/jprsc/pos-id.def (deflated 67%)\n",
            "  adding: pretrain_work_dir/orig_model/resource/jprsc/char.bin (deflated 100%)\n",
            "  adding: pretrain_work_dir/orig_model/resource/jprsc/left-id.def (deflated 87%)\n",
            "  adding: pretrain_work_dir/orig_model/resource/jprsc/matrix.bin (deflated 52%)\n",
            "  adding: pretrain_work_dir/orig_model/resource/jprsc/rewrite.def (deflated 85%)\n",
            "  adding: pretrain_work_dir/orig_model/resource/jprsc/sys.dic (deflated 79%)\n",
            "  adding: pretrain_work_dir/orig_model/resource/ws/ (stored 0%)\n",
            "  adding: pretrain_work_dir/orig_model/resource/ws/xiaoyan.dict (deflated 67%)\n",
            "  adding: pretrain_work_dir/orig_model/resource/ws/pos_hmm.dict (deflated 60%)\n",
            "  adding: pretrain_work_dir/orig_model/resource/ws/crf_model (deflated 66%)\n",
            "  adding: pretrain_work_dir/orig_model/resource/ws/ivr.dict (deflated 75%)\n",
            "  adding: pretrain_work_dir/orig_model/resource/ws/ws-dfa-rule.dict (deflated 96%)\n",
            "  adding: pretrain_work_dir/orig_model/resource/ws/puncNumberTimeLetter.dict (deflated 100%)\n",
            "  adding: pretrain_work_dir/orig_model/resource/ws/AliTokenizer_example.conf (deflated 31%)\n",
            "  adding: pretrain_work_dir/orig_model/resource/ws_chhk/ (stored 0%)\n",
            "  adding: pretrain_work_dir/orig_model/resource/ws_chhk/xiaoyan.dict (deflated 67%)\n",
            "  adding: pretrain_work_dir/orig_model/resource/ws_chhk/pos_hmm.dict (deflated 60%)\n",
            "  adding: pretrain_work_dir/orig_model/resource/ws_chhk/ivr.dict (deflated 75%)\n",
            "  adding: pretrain_work_dir/orig_model/resource/ws_chhk/ws-dfa-rule.dict (deflated 96%)\n",
            "  adding: pretrain_work_dir/orig_model/resource/ws_chhk/puncNumberTimeLetter.dict (deflated 100%)\n",
            "  adding: pretrain_work_dir/orig_model/resource/ws_chhk/AliTokenizer_example.conf (deflated 31%)\n",
            "  adding: pretrain_work_dir/orig_model/resource/languagedata_embedded.bin (deflated 23%)\n",
            "  adding: pretrain_work_dir/orig_model/resource/ws_chsh/ (stored 0%)\n",
            "  adding: pretrain_work_dir/orig_model/resource/ws_chsh/xiaoyan.dict (deflated 68%)\n",
            "  adding: pretrain_work_dir/orig_model/resource/ws_chsh/pos_hmm.dict (deflated 60%)\n",
            "  adding: pretrain_work_dir/orig_model/resource/ws_chsh/ivr.dict (deflated 75%)\n",
            "  adding: pretrain_work_dir/orig_model/resource/ws_chsh/ws-dfa-rule.dict (deflated 96%)\n",
            "  adding: pretrain_work_dir/orig_model/resource/ws_chsh/puncNumberTimeLetter.dict (deflated 100%)\n",
            "  adding: pretrain_work_dir/orig_model/resource/ws_chsh/AliTokenizer_example.conf (deflated 31%)\n",
            "  adding: pretrain_work_dir/orig_model/resource/ws_zhsc/ (stored 0%)\n",
            "  adding: pretrain_work_dir/orig_model/resource/ws_zhsc/xiaoyan.dict (deflated 67%)\n",
            "  adding: pretrain_work_dir/orig_model/resource/ws_zhsc/pos_hmm.dict (deflated 60%)\n",
            "  adding: pretrain_work_dir/orig_model/resource/ws_zhsc/crf_model (deflated 66%)\n",
            "  adding: pretrain_work_dir/orig_model/resource/ws_zhsc/ivr.dict (deflated 75%)\n",
            "  adding: pretrain_work_dir/orig_model/resource/ws_zhsc/ws-dfa-rule.dict (deflated 96%)\n",
            "  adding: pretrain_work_dir/orig_model/resource/ws_zhsc/puncNumberTimeLetter.dict (deflated 100%)\n",
            "  adding: pretrain_work_dir/orig_model/resource/ws_zhsc/AliTokenizer_example.conf (deflated 31%)\n",
            "  adding: pretrain_work_dir/orig_model/description/ (stored 0%)\n",
            "  adding: pretrain_work_dir/orig_model/description/sambert.jpg (deflated 22%)\n",
            "  adding: pretrain_work_dir/orig_model/description/notebook_steps/ (stored 0%)\n",
            "  adding: pretrain_work_dir/orig_model/description/notebook_steps/autolabel_setting.jpg (deflated 28%)\n",
            "  adding: pretrain_work_dir/orig_model/description/notebook_steps/autolabel_done.jpg (deflated 31%)\n",
            "  adding: pretrain_work_dir/orig_model/description/notebook_steps/upload_wavs.jpg (deflated 37%)\n",
            "  adding: pretrain_work_dir/orig_model/description/notebook_steps/fetch_nltk_data.jpg (deflated 28%)\n",
            "  adding: pretrain_work_dir/orig_model/description/notebook_steps/inference_play.jpg (deflated 22%)\n",
            "  adding: pretrain_work_dir/orig_model/description/notebook_steps/training.jpg (deflated 15%)\n",
            "  adding: pretrain_work_dir/orig_model/description/notebook_steps/inference.jpg (deflated 23%)\n",
            "  adding: pretrain_work_dir/orig_model/description/notebook_steps/build_trainer.jpg (deflated 28%)\n",
            "  adding: pretrain_work_dir/orig_model/description/ptts_normal.png (deflated 15%)\n",
            "  adding: pretrain_work_dir/orig_model/description/tts-system.jpg (deflated 39%)\n",
            "  adding: pretrain_work_dir/orig_model/description/wav/ (stored 0%)\n",
            "  adding: pretrain_work_dir/orig_model/description/wav/ptts/ (stored 0%)\n",
            "  adding: pretrain_work_dir/orig_model/description/wav/ptts/6.wav (deflated 11%)\n",
            "  adding: pretrain_work_dir/orig_model/description/wav/ptts/8.wav (deflated 18%)\n",
            "  adding: pretrain_work_dir/orig_model/description/wav/ptts/7.wav (deflated 15%)\n",
            "  adding: pretrain_work_dir/orig_model/description/wav/record/ (stored 0%)\n",
            "  adding: pretrain_work_dir/orig_model/description/wav/record/SSB00180500.wav (deflated 20%)\n",
            "  adding: pretrain_work_dir/orig_model/description/wav/record/SSB00180503.wav (deflated 26%)\n",
            "  adding: pretrain_work_dir/orig_model/description/wav/record/SSB00180288.wav (deflated 20%)\n",
            "  adding: pretrain_work_dir/orig_model/description/ptts_structure.png (deflated 12%)\n",
            "  adding: pretrain_work_dir/orig_model/description/speaker_embedding.png (deflated 11%)\n",
            "  adding: pretrain_work_dir/orig_model/description/hifigan.jpg (deflated 35%)\n",
            "  adding: pretrain_work_dir/orig_model/description/aishell3.png (deflated 19%)\n",
            "  adding: pretrain_work_dir/orig_model/description/ptts_vs_normal.png (deflated 10%)\n",
            "  adding: pretrain_work_dir/orig_model/.msc (deflated 73%)\n",
            "  adding: pretrain_work_dir/orig_model/README.md (deflated 61%)\n",
            "  adding: pretrain_work_dir/orig_model/configuration.json (deflated 72%)\n",
            "  adding: pretrain_work_dir/orig_model/.mdl (deflated 2%)\n"
          ]
        }
      ]
    },
    {
      "cell_type": "code",
      "source": [
        "from google.colab import files\n",
        "files.download(\"/content/model.zip\")"
      ],
      "metadata": {
        "colab": {
          "base_uri": "https://localhost:8080/",
          "height": 34
        },
        "id": "pkwYOqU6LptY",
        "outputId": "d9a80d73-24d7-490f-ba83-5a642d213ca3"
      },
      "execution_count": null,
      "outputs": [
        {
          "output_type": "display_data",
          "data": {
            "text/plain": [
              "<IPython.core.display.Javascript object>"
            ],
            "application/javascript": [
              "\n",
              "    async function download(id, filename, size) {\n",
              "      if (!google.colab.kernel.accessAllowed) {\n",
              "        return;\n",
              "      }\n",
              "      const div = document.createElement('div');\n",
              "      const label = document.createElement('label');\n",
              "      label.textContent = `Downloading \"${filename}\": `;\n",
              "      div.appendChild(label);\n",
              "      const progress = document.createElement('progress');\n",
              "      progress.max = size;\n",
              "      div.appendChild(progress);\n",
              "      document.body.appendChild(div);\n",
              "\n",
              "      const buffers = [];\n",
              "      let downloaded = 0;\n",
              "\n",
              "      const channel = await google.colab.kernel.comms.open(id);\n",
              "      // Send a message to notify the kernel that we're ready.\n",
              "      channel.send({})\n",
              "\n",
              "      for await (const message of channel.messages) {\n",
              "        // Send a message to notify the kernel that we're ready.\n",
              "        channel.send({})\n",
              "        if (message.buffers) {\n",
              "          for (const buffer of message.buffers) {\n",
              "            buffers.push(buffer);\n",
              "            downloaded += buffer.byteLength;\n",
              "            progress.value = downloaded;\n",
              "          }\n",
              "        }\n",
              "      }\n",
              "      const blob = new Blob(buffers, {type: 'application/binary'});\n",
              "      const a = document.createElement('a');\n",
              "      a.href = window.URL.createObjectURL(blob);\n",
              "      a.download = filename;\n",
              "      div.appendChild(a);\n",
              "      a.click();\n",
              "      div.remove();\n",
              "    }\n",
              "  "
            ]
          },
          "metadata": {}
        },
        {
          "output_type": "display_data",
          "data": {
            "text/plain": [
              "<IPython.core.display.Javascript object>"
            ],
            "application/javascript": [
              "download(\"download_97a03b1b-155a-4637-9ea6-6d560f35dc67\", \"model.zip\", 1819292955)"
            ]
          },
          "metadata": {}
        }
      ]
    },
    {
      "cell_type": "markdown",
      "source": [
        "### 也可以连接谷歌云盘，直接上传至云盘，速度更快"
      ],
      "metadata": {
        "id": "QMiy3GxF7u7K"
      }
    },
    {
      "cell_type": "code",
      "source": [
        "from google.colab import drive\n",
        "drive.mount('/content/drive')"
      ],
      "metadata": {
        "id": "AiAbfQ7tM31n",
        "outputId": "45837cd2-99f7-471e-bbeb-4e654bd4b6f4",
        "colab": {
          "base_uri": "https://localhost:8080/"
        }
      },
      "execution_count": null,
      "outputs": [
        {
          "output_type": "stream",
          "name": "stdout",
          "text": [
            "Mounted at /content/drive\n"
          ]
        }
      ]
    },
    {
      "cell_type": "code",
      "source": [
        "import shutil"
      ],
      "metadata": {
        "id": "ti396L-A7_zu"
      },
      "execution_count": null,
      "outputs": []
    },
    {
      "cell_type": "code",
      "source": [
        "shutil.copy(\"model.zip\",\"/content/drive/MyDrive/folder_name\")"
      ],
      "metadata": {
        "id": "IzJi6D9y7tiO",
        "outputId": "83260762-7b19-4c2b-c2d1-03b1e7107898",
        "colab": {
          "base_uri": "https://localhost:8080/",
          "height": 35
        }
      },
      "execution_count": null,
      "outputs": [
        {
          "output_type": "execute_result",
          "data": {
            "text/plain": [
              "'/content/drive/MyDrive/dataset/model.zip'"
            ],
            "application/vnd.google.colaboratory.intrinsic+json": {
              "type": "string"
            }
          },
          "metadata": {},
          "execution_count": 16
        }
      ]
    },
    {
      "cell_type": "code",
      "source": [],
      "metadata": {
        "id": "soFE76hH-te7"
      },
      "execution_count": null,
      "outputs": []
    }
  ]
}